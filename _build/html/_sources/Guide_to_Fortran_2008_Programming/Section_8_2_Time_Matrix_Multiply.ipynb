{
 "cells": [
  {
   "cell_type": "raw",
   "id": "c40b648f-a44a-4480-bbee-93e7a780f45b",
   "metadata": {},
   "source": [
    "---\n",
    "jupytext:\n",
    "  formats: md:myst\n",
    "  text_representation:\n",
    "    extension: .md\n",
    "    format_name: myst\n",
    "kernelspec:\n",
    "  display_name: Python 3\n",
    "  language: python\n",
    "  name: python3\n",
    "---"
   ]
  },
  {
   "cell_type": "markdown",
   "id": "fc63b62e-3ea6-4588-8b6e-f845bbc6d64c",
   "metadata": {
    "tags": []
   },
   "source": [
    "# Section 8.2: Time Matrix Multiply"
   ]
  },
  {
   "cell_type": "markdown",
   "id": "edfc7d7e-9803-4b96-82f1-bc0d47385f43",
   "metadata": {},
   "source": [
    "Adapted from: \"Guide to Fortran 2008 Programming\" by Walter S. Brainerd (Springer 2015)"
   ]
  },
  {
   "cell_type": "markdown",
   "id": "59ec1bec-3fd7-4061-aa24-c7765d25786f",
   "metadata": {},
   "source": [
    "## Program to demonstrate the performance improvement of using matmul over do loops."
   ]
  },
  {
   "cell_type": "markdown",
   "id": "c36821c7-3b26-404c-8a7c-2f978dfb65d4",
   "metadata": {},
   "source": [
    "```fortran\n",
    "program time_matrix_multiply\n",
    "\n",
    "    ! Compare times of the matmul intrinsic cs DO loops\n",
    "\n",
    "    implicit none\n",
    "    integer, parameter :: n = 10\n",
    "    real, dimension (n, n) :: a, b, c1, c2\n",
    "    character(len=8) :: date\n",
    "    real :: start_time_1, stop_time_1, start_time_2, stop_time_2\n",
    "    real :: total_time_1, total_time_2\n",
    "    integer :: i, j, k\n",
    "    character(len=*), parameter :: form = \"(t2, a, f0.10, a)\"\n",
    "\n",
    "    ! Get date to print on report\n",
    "\n",
    "    call date_and_time(date = date)\n",
    "\n",
    "    print *, \"Timing report dated: \" // date(1:4) &\n",
    "        // \"-\" // date(5:6) // \"-\" // date(7:8)\n",
    "\n",
    "    call random_seed()\n",
    "    call random_number(a)\n",
    "    call random_number(b)\n",
    "    call cpu_time(start_time_1)\n",
    "   \n",
    "    ! Lines below added for effect\n",
    "    ! The matrices of random values will be printed to the screen\n",
    "    write (*, \"(a)\") \"Matrix A\"\n",
    "    write (*, \"(10f10.3)\") (a(i,:), i=1,n)\n",
    "\n",
    "    print *\n",
    "    write (*, \"(a)\") \"Matrix B\"\n",
    "    write (*, \"(10f10.3)\") (b(i,:), i=1,n)\n",
    "\n",
    "    c1 = 0\n",
    "\n",
    "    do k = 1, n\n",
    "        do j = 1, n\n",
    "            do i = 1, n\n",
    "                c1(i, j) = c1(i, j) + a(i, k) * b(k, j)\n",
    "            end do\n",
    "        end do\n",
    "    end do\n",
    "\n",
    "    call cpu_time(stop_time_1)\n",
    "\n",
    "    total_time_1 = stop_time_1 - start_time_1\n",
    "\n",
    "    print *\n",
    "\n",
    "    write (*, \"(a)\") \"Matrix C1 is AxB using loops.\"\n",
    "    write (*, \"(10f10.3)\") (c1(i,:), i=1,n)\n",
    "\n",
    "    call cpu_time(start_time_2)\n",
    "    c2 = matmul(a, b)\n",
    "    call cpu_time(stop_time_2)\n",
    "\n",
    "    total_time_2 = stop_time_2 - start_time_2\n",
    "\n",
    "    print *\n",
    "\n",
    "    write (*, \"(a)\") \"Matrix C2 is AxB using matmul.\"\n",
    "    write (*, \"(10f10.3)\") (c1(i,:), i=1,n)\n",
    "\n",
    "    print *\n",
    "\n",
    "    write (*, form) \"Time of Do loop version is: \", total_time_1, \" seconds.\"\n",
    "    write (*, form) \"Time of matmul version is: \", total_time_2, \" seconds.\"\n",
    "\n",
    "    print *\n",
    "\n",
    "    if (any(abs(c1-c2) > 1.0e-4)) then\n",
    "        write (*,  \"(a)\") \"There are significantly different values between the matrices.\"\n",
    "    else\n",
    "        write (*,  \"(a)\") \"The results are approximately the same.\"\n",
    "    end if\n",
    "\n",
    "    print *\n",
    "    write (*, \"(a, f10.3, a)\") \"The speedup ratio is: \", total_time_1/total_time_2, \"x\"\n",
    "\n",
    "end program time_matrix_multiply\n",
    "```"
   ]
  },
  {
   "cell_type": "markdown",
   "id": "4c6b9985-c0cb-4602-8309-4e3369dd3226",
   "metadata": {},
   "source": [
    "The above program is compiled and run using Fortran Package Manager (fpm):"
   ]
  },
  {
   "cell_type": "code",
   "execution_count": 1,
   "id": "e8ba1050-b7b1-4e9e-87bf-28791145e5e7",
   "metadata": {},
   "outputs": [],
   "source": [
    "import os\n",
    "root_dir = os.getcwd()"
   ]
  },
  {
   "cell_type": "code",
   "execution_count": 2,
   "id": "bdaf795d-554a-46e6-b4da-faeb331e1b13",
   "metadata": {},
   "outputs": [],
   "source": [
    "code_dir = root_dir + \"/\" + \"Fortran_Code/Section_8_2_Time_Matrix_Multiply\""
   ]
  },
  {
   "cell_type": "code",
   "execution_count": 3,
   "id": "a7d9f1b1-ba0d-4db1-84ef-7a358f0453a6",
   "metadata": {},
   "outputs": [],
   "source": [
    "os.chdir(code_dir)"
   ]
  },
  {
   "cell_type": "code",
   "execution_count": 4,
   "id": "0fbd7621-e800-4235-ab30-80560cc3e1a8",
   "metadata": {},
   "outputs": [],
   "source": [
    "build_status = os.system(\"fpm build 2>/dev/null\")"
   ]
  },
  {
   "cell_type": "code",
   "execution_count": 5,
   "id": "0483d40b-e849-4574-bcbe-003c81a96dd5",
   "metadata": {},
   "outputs": [
    {
     "name": "stdout",
     "output_type": "stream",
     "text": [
      " Timing report dated: 2022-11-22\n",
      "Matrix A\n",
      "     0.057     0.071     0.697     0.531     0.951     0.948     0.263     0.208     0.250     0.650\n",
      "     0.185     0.488     0.419     0.905     0.225     0.203     0.181     0.695     0.039     0.359\n",
      "     0.178     0.155     0.922     0.199     0.862     0.458     0.828     0.143     0.172     0.957\n",
      "     0.636     0.352     0.975     0.218     0.027     0.476     0.824     0.533     0.391     0.223\n",
      "     0.055     0.913     0.990     0.449     0.727     0.552     0.867     0.034     0.954     0.152\n",
      "     0.012     0.182     0.245     0.972     0.706     0.295     0.882     0.750     0.939     0.850\n",
      "     0.048     0.159     0.248     0.848     0.625     0.347     0.368     0.149     0.054     0.275\n",
      "     0.979     0.292     0.499     0.747     0.502     0.666     0.487     0.936     0.839     0.564\n",
      "     0.405     0.907     0.600     0.697     0.734     0.744     0.008     0.665     0.039     0.289\n",
      "     0.875     0.769     0.684     0.879     0.915     0.140     0.134     0.626     0.700     0.760\n",
      "\n",
      "Matrix B\n",
      "     0.308     0.409     0.645     0.974     0.884     0.901     0.711     0.189     0.116     0.031\n",
      "     0.245     0.510     0.794     0.392     0.656     0.864     0.628     0.298     0.946     0.986\n",
      "     0.951     0.403     0.132     0.520     0.513     0.899     0.147     0.735     0.372     0.990\n",
      "     0.620     0.519     0.278     0.115     0.924     0.929     0.046     0.132     0.856     0.597\n",
      "     0.712     0.600     0.465     0.014     0.874     0.168     0.014     0.744     0.712     0.720\n",
      "     0.984     0.489     0.070     0.820     0.252     0.739     0.353     0.544     0.165     0.393\n",
      "     0.144     0.245     0.143     0.650     0.974     0.715     0.508     0.769     0.063     0.938\n",
      "     0.550     0.410     0.048     0.987     0.185     0.966     0.628     0.350     0.428     0.584\n",
      "     0.220     0.494     0.165     0.643     0.037     0.748     0.348     0.680     0.282     0.358\n",
      "     0.441     0.643     0.057     0.246     0.973     0.027     0.735     0.116     0.634     0.675\n",
      "\n",
      "Matrix C1 is AxB using loops.\n",
      "     3.132     2.341     0.966     1.995     2.952     2.687     1.390     2.359     2.209     3.033\n",
      "     2.073     1.778     1.018     1.780     2.439     2.834     1.422     1.338     2.155     2.516\n",
      "     2.816     2.329     1.056     2.149     3.555     2.676     1.816     2.590     2.138     3.558\n",
      "     2.429     1.952     1.146     3.048     2.771     3.715     2.049     2.363     1.585     3.043\n",
      "     2.943     2.622     1.685     2.690     3.379     4.047     1.890     3.257     2.666     4.168\n",
      "     2.799     2.803     1.169     2.700     3.706     3.709     2.188     2.730     2.829     3.802\n",
      "     1.871     1.540     0.824     1.117     2.347     2.008     0.841     1.408     1.753     2.133\n",
      "     3.342     3.046     1.702     3.884     3.838     4.749     2.771     2.813     2.707     3.565\n",
      "     3.108     2.516     1.704     2.520     3.148     3.695     1.899     2.130     2.849     3.342\n",
      "     3.297     3.224     2.153     3.080     4.289     4.388     2.571     2.659     3.466     3.956\n",
      "\n",
      "Matrix C2 is AxB using matmul.\n",
      "     3.132     2.341     0.966     1.995     2.952     2.687     1.390     2.359     2.209     3.033\n",
      "     2.073     1.778     1.018     1.780     2.439     2.834     1.422     1.338     2.155     2.516\n",
      "     2.816     2.329     1.056     2.149     3.555     2.676     1.816     2.590     2.138     3.558\n",
      "     2.429     1.952     1.146     3.048     2.771     3.715     2.049     2.363     1.585     3.043\n",
      "     2.943     2.622     1.685     2.690     3.379     4.047     1.890     3.257     2.666     4.168\n",
      "     2.799     2.803     1.169     2.700     3.706     3.709     2.188     2.730     2.829     3.802\n",
      "     1.871     1.540     0.824     1.117     2.347     2.008     0.841     1.408     1.753     2.133\n",
      "     3.342     3.046     1.702     3.884     3.838     4.749     2.771     2.813     2.707     3.565\n",
      "     3.108     2.516     1.704     2.520     3.148     3.695     1.899     2.130     2.849     3.342\n",
      "     3.297     3.224     2.153     3.080     4.289     4.388     2.571     2.659     3.466     3.956\n",
      "\n",
      " Time of Do loop version is: .0000809999 seconds.\n",
      " Time of matmul version is: .0000100000 seconds.\n",
      "\n",
      "The results are approximately the same.\n",
      "\n",
      "The speedup ratio is:      8.100x\n"
     ]
    }
   ],
   "source": [
    "exec_status = os.system(\"fpm run 2>/dev/null\")"
   ]
  }
 ],
 "metadata": {
  "kernelspec": {
   "display_name": "Python 3.9.2 64-bit",
   "language": "python",
   "name": "python3"
  },
  "language_info": {
   "codemirror_mode": {
    "name": "ipython",
    "version": 3
   },
   "file_extension": ".py",
   "mimetype": "text/x-python",
   "name": "python",
   "nbconvert_exporter": "python",
   "pygments_lexer": "ipython3",
   "version": "3.9.2"
  },
  "vscode": {
   "interpreter": {
    "hash": "916dbcbb3f70747c44a77c7bcd40155683ae19c65e1c03b4aa3499c5328201f1"
   }
  }
 },
 "nbformat": 4,
 "nbformat_minor": 5
}
