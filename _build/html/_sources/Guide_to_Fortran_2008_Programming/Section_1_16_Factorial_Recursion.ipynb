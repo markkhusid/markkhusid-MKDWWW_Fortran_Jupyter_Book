{
 "cells": [
  {
   "cell_type": "raw",
   "id": "c40b648f-a44a-4480-bbee-93e7a780f45b",
   "metadata": {},
   "source": [
    "---\n",
    "jupytext:\n",
    "  formats: md:myst\n",
    "  text_representation:\n",
    "    extension: .md\n",
    "    format_name: myst\n",
    "kernelspec:\n",
    "  display_name: Python 3\n",
    "  language: python\n",
    "  name: python3\n",
    "---"
   ]
  },
  {
   "cell_type": "markdown",
   "id": "fc63b62e-3ea6-4588-8b6e-f845bbc6d64c",
   "metadata": {
    "tags": []
   },
   "source": [
    "# Section 1.16: Factorial Recursion"
   ]
  },
  {
   "cell_type": "markdown",
   "id": "edfc7d7e-9803-4b96-82f1-bc0d47385f43",
   "metadata": {},
   "source": [
    "Adapted from: \"[Guide to Fortran 2008 Programming](https://www.amazon.com/Guide-Fortran-Programming-Walter-brainerd/dp/1447167589/ref=sr_1_1?crid=JARCJZJ2KJZN&keywords=guide+to+fortran+2008+programming&qid=1581908665&sprefix=guide+to+fortran+2008+programming%2Caps%2C189&sr=8-1)\" by Walter S. Brainerd (Springer 2015)"
   ]
  },
  {
   "cell_type": "markdown",
   "id": "59ec1bec-3fd7-4061-aa24-c7765d25786f",
   "metadata": {},
   "source": [
    "## Program to calculate factorials using recursion in Fortran."
   ]
  },
  {
   "cell_type": "markdown",
   "id": "4357b7cf-9b30-4a74-bea8-726520ec0f9d",
   "metadata": {},
   "source": [
    "```{literalinclude} Fortran_Code/Section_1_16_Factorial_Recursion/app/section_1_16_factorial_recursion.f90\n",
    "---\n",
    "language: fortran\n",
    "---\n",
    "```"
   ]
  },
  {
   "cell_type": "markdown",
   "id": "63dd9100-dcb1-40b7-a16c-23cfeec208c7",
   "metadata": {},
   "source": [
    "The following explanation is given by \"Code Copilot\" within ChatGPT 4."
   ]
  },
  {
   "cell_type": "markdown",
   "id": "9cf15b30-2538-45cf-8248-8688a5b3f173",
   "metadata": {},
   "source": [
    "The provided Fortran program consists of two main components: a module named `factorial_module` and a program named `test_factorial`. Here is an explanation of each part and their interactions:\n",
    "\n",
    "### Module: factorial_module\n",
    "\n",
    "#### Purpose:\n",
    "The module defines and makes publicly available a recursive function `factorial` that computes the factorial of a given integer `n`. The factorial of a number is the product of all positive integers less than or equal to that number. It's defined as:\n",
    "- $ n! = n \\times (n-1) \\times ... \\times 2 \\times 1 $\n",
    "- $ 0! = 1 $ (by definition)\n",
    "\n",
    "#### Structure:\n",
    "- **Function Declaration**: The function `factorial` is declared as recursive, allowing it to call itself within its definition.\n",
    "- **Parameters**:\n",
    "- **Input**: `n` (integer) - the number for which the factorial is to be computed.\n",
    "- **Output**: `factorial_result` (integer) - the computed factorial value.\n",
    "- **Logic**:\n",
    "- If `n` is less than or equal to zero, the factorial is defined as 1. This also correctly handles the base case for the recursion.\n",
    "- Otherwise, the function computes the factorial by calling itself with `n - 1` and multiplying the result by `n`.\n",
    "\n",
    "### Program: test_factorial\n",
    "\n",
    "#### Purpose:\n",
    "This program uses the `factorial` function defined in the `factorial_module` to compute the factorial of an integer read from the command line.\n",
    "\n",
    "#### Structure:\n",
    "- **Module Usage**: It includes the `factorial_module` using the `use` statement to access the `factorial` function.\n",
    "- **Input Handling**: Reads an integer `n` from the standard input. In the given context, this input is expected to be piped in from the command line.\n",
    "- **Output**: Prints the result of the factorial computation in a formatted string showing `n` and `n!`.\n",
    "\n",
    "### Execution Flow:\n",
    "1. **Compilation and Linking**:\n",
    "- The `factorial_module` is compiled first to ensure that the definition of the `factorial` function is available.\n",
    "- The `test_factorial` program is compiled and linked with the `factorial_module`.\n",
    "2. **Running**:\n",
    "- The program expects an integer input from the command line.\n",
    "- It computes the factorial of the input integer using the `factorial` function.\n",
    "- It outputs the result in the format \"`n! = result`\".\n",
    "\n",
    "### Conclusion:\n",
    "This Fortran setup efficiently demonstrates modular programming by separating the mathematical logic (factorial computation) into a module for reuse. The recursive function is a straightforward and classic implementation for calculating factorials, suitable for small to moderately large values of `n` due to potential stack overflow issues with very large recursion depths. The program is well-structured for educational purposes and basic computational tasks involving factorials."
   ]
  },
  {
   "cell_type": "markdown",
   "id": "95a01b71-3e03-4fd3-883d-121719f4161e",
   "metadata": {},
   "source": [
    "## Program Compilation and Execution"
   ]
  },
  {
   "cell_type": "markdown",
   "id": "4c6b9985-c0cb-4602-8309-4e3369dd3226",
   "metadata": {},
   "source": [
    "The above program is compiled and run using Fortran Package Manager (fpm):"
   ]
  },
  {
   "cell_type": "code",
   "execution_count": 1,
   "id": "e8ba1050-b7b1-4e9e-87bf-28791145e5e7",
   "metadata": {
    "execution": {
     "iopub.execute_input": "2024-05-12T06:06:14.701374Z",
     "iopub.status.busy": "2024-05-12T06:06:14.701255Z",
     "iopub.status.idle": "2024-05-12T06:06:14.708149Z",
     "shell.execute_reply": "2024-05-12T06:06:14.706147Z",
     "shell.execute_reply.started": "2024-05-12T06:06:14.701361Z"
    }
   },
   "outputs": [],
   "source": [
    "import os\n",
    "root_dir = os.getcwd()"
   ]
  },
  {
   "cell_type": "code",
   "execution_count": 2,
   "id": "bdaf795d-554a-46e6-b4da-faeb331e1b13",
   "metadata": {
    "execution": {
     "iopub.execute_input": "2024-05-12T06:06:14.710148Z",
     "iopub.status.busy": "2024-05-12T06:06:14.709270Z",
     "iopub.status.idle": "2024-05-12T06:06:14.735996Z",
     "shell.execute_reply": "2024-05-12T06:06:14.734143Z",
     "shell.execute_reply.started": "2024-05-12T06:06:14.710129Z"
    }
   },
   "outputs": [],
   "source": [
    "code_dir = root_dir + \"/\" + \"Fortran_Code/Section_1_16_Factorial_Recursion\""
   ]
  },
  {
   "cell_type": "code",
   "execution_count": 3,
   "id": "a7d9f1b1-ba0d-4db1-84ef-7a358f0453a6",
   "metadata": {
    "execution": {
     "iopub.execute_input": "2024-05-12T06:06:14.739591Z",
     "iopub.status.busy": "2024-05-12T06:06:14.737192Z",
     "iopub.status.idle": "2024-05-12T06:06:14.802691Z",
     "shell.execute_reply": "2024-05-12T06:06:14.801176Z",
     "shell.execute_reply.started": "2024-05-12T06:06:14.739572Z"
    }
   },
   "outputs": [],
   "source": [
    "os.chdir(code_dir)"
   ]
  },
  {
   "cell_type": "code",
   "execution_count": 4,
   "id": "0fbd7621-e800-4235-ab30-80560cc3e1a8",
   "metadata": {
    "execution": {
     "iopub.execute_input": "2024-05-12T06:06:14.803771Z",
     "iopub.status.busy": "2024-05-12T06:06:14.803360Z",
     "iopub.status.idle": "2024-05-12T06:06:14.915405Z",
     "shell.execute_reply": "2024-05-12T06:06:14.914441Z",
     "shell.execute_reply.started": "2024-05-12T06:06:14.803752Z"
    }
   },
   "outputs": [],
   "source": [
    "build_status = os.system(\"fpm build 2>/dev/null\")"
   ]
  },
  {
   "cell_type": "markdown",
   "id": "e5feb49b-2e17-4102-9a65-06cb243ef70a",
   "metadata": {
    "tags": []
   },
   "source": [
    "## Calculate:"
   ]
  },
  {
   "cell_type": "markdown",
   "id": "908c607d-eb3c-453f-b0d2-0578991b2386",
   "metadata": {},
   "source": [
    "$$\n",
    "\\Large 3!\n",
    "$$"
   ]
  },
  {
   "cell_type": "code",
   "execution_count": 5,
   "id": "0483d40b-e849-4574-bcbe-003c81a96dd5",
   "metadata": {
    "execution": {
     "iopub.execute_input": "2024-05-12T06:06:14.916499Z",
     "iopub.status.busy": "2024-05-12T06:06:14.916289Z",
     "iopub.status.idle": "2024-05-12T06:06:14.992629Z",
     "shell.execute_reply": "2024-05-12T06:06:14.991213Z",
     "shell.execute_reply.started": "2024-05-12T06:06:14.916482Z"
    }
   },
   "outputs": [
    {
     "name": "stdout",
     "output_type": "stream",
     "text": [
      "\n",
      "         3! =          6\n"
     ]
    }
   ],
   "source": [
    "exec_status = os.system(\"echo 3 | fpm run 2>/dev/null\")"
   ]
  },
  {
   "cell_type": "markdown",
   "id": "557f4122-c7ff-4b18-80d5-368ea4cb8bb6",
   "metadata": {
    "tags": []
   },
   "source": [
    "## Calculate:"
   ]
  },
  {
   "cell_type": "markdown",
   "id": "7a300151-cf3e-4712-a800-21236ed48195",
   "metadata": {},
   "source": [
    "$$\n",
    "\\Large 6!\n",
    "$$"
   ]
  },
  {
   "cell_type": "code",
   "execution_count": 6,
   "id": "b2d3acd7-b65b-4afc-b47f-67b22cbcad95",
   "metadata": {
    "execution": {
     "iopub.execute_input": "2024-05-12T06:06:14.996690Z",
     "iopub.status.busy": "2024-05-12T06:06:14.996415Z",
     "iopub.status.idle": "2024-05-12T06:06:15.098339Z",
     "shell.execute_reply": "2024-05-12T06:06:15.097284Z",
     "shell.execute_reply.started": "2024-05-12T06:06:14.996670Z"
    }
   },
   "outputs": [
    {
     "name": "stdout",
     "output_type": "stream",
     "text": [
      "\n",
      "         6! =        720\n"
     ]
    }
   ],
   "source": [
    "exec_status = os.system(\"echo 6 | fpm run 2>/dev/null\")"
   ]
  },
  {
   "cell_type": "markdown",
   "id": "6c587a71-754c-4d66-be59-1b2aebcf3b6b",
   "metadata": {
    "tags": []
   },
   "source": [
    "## Calculate:"
   ]
  },
  {
   "cell_type": "markdown",
   "id": "e9190976-baf4-4889-8cb5-1ab7a0d31e7d",
   "metadata": {},
   "source": [
    "$$\n",
    "\\Large 15!\n",
    "$$"
   ]
  },
  {
   "cell_type": "code",
   "execution_count": 7,
   "id": "63f20f0b-7763-444b-94ad-e2c4c1566d78",
   "metadata": {
    "execution": {
     "iopub.execute_input": "2024-05-12T06:06:15.099191Z",
     "iopub.status.busy": "2024-05-12T06:06:15.098983Z",
     "iopub.status.idle": "2024-05-12T06:06:15.188483Z",
     "shell.execute_reply": "2024-05-12T06:06:15.185526Z",
     "shell.execute_reply.started": "2024-05-12T06:06:15.099174Z"
    }
   },
   "outputs": [
    {
     "name": "stdout",
     "output_type": "stream",
     "text": [
      "\n",
      "        15! = 2004310016\n"
     ]
    }
   ],
   "source": [
    "exec_status = os.system(\"echo 15 | fpm run 2>/dev/null\")"
   ]
  }
 ],
 "metadata": {
  "kernelspec": {
   "display_name": "Python 3 (ipykernel)",
   "language": "python",
   "name": "python3"
  },
  "language_info": {
   "codemirror_mode": {
    "name": "ipython",
    "version": 3
   },
   "file_extension": ".py",
   "mimetype": "text/x-python",
   "name": "python",
   "nbconvert_exporter": "python",
   "pygments_lexer": "ipython3",
   "version": "3.10.14"
  },
  "vscode": {
   "interpreter": {
    "hash": "916dbcbb3f70747c44a77c7bcd40155683ae19c65e1c03b4aa3499c5328201f1"
   }
  }
 },
 "nbformat": 4,
 "nbformat_minor": 5
}
