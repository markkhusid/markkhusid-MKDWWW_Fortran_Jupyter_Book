{
 "cells": [
  {
   "cell_type": "raw",
   "id": "c40b648f-a44a-4480-bbee-93e7a780f45b",
   "metadata": {},
   "source": [
    "---\n",
    "jupytext:\n",
    "  formats: md:myst\n",
    "  text_representation:\n",
    "    extension: .md\n",
    "    format_name: myst\n",
    "kernelspec:\n",
    "  display_name: Python 3\n",
    "  language: python\n",
    "  name: python3\n",
    "---"
   ]
  },
  {
   "cell_type": "markdown",
   "id": "fc63b62e-3ea6-4588-8b6e-f845bbc6d64c",
   "metadata": {
    "tags": []
   },
   "source": [
    "# Section 3.8: Argument Passing"
   ]
  },
  {
   "cell_type": "markdown",
   "id": "edfc7d7e-9803-4b96-82f1-bc0d47385f43",
   "metadata": {},
   "source": [
    "Adapted from: \"Guide to Fortran 2008 Programming\" by Walter S. Brainerd (Springer 2015)"
   ]
  },
  {
   "cell_type": "markdown",
   "id": "59ec1bec-3fd7-4061-aa24-c7765d25786f",
   "metadata": {},
   "source": [
    "## Program to demonstrate different methods of passing arguments to functions in Fortran."
   ]
  },
  {
   "cell_type": "markdown",
   "id": "e1c3293a-f7fd-4dd5-89be-383f587ca98c",
   "metadata": {},
   "source": [
    "This program calculates the sum:"
   ]
  },
  {
   "cell_type": "markdown",
   "id": "0c1f1094-0066-403a-9ccc-0c5c12e5ecfa",
   "metadata": {},
   "source": [
    "$$\n",
    "\\Large \\sum_{i=m}^n \\left(s+d \\times i \\right)\n",
    "$$"
   ]
  },
  {
   "cell_type": "markdown",
   "id": "c36821c7-3b26-404c-8a7c-2f978dfb65d4",
   "metadata": {},
   "source": [
    "``` fortran\n",
    "program series_sum_program\n",
    "\n",
    "    implicit none\n",
    "    \n",
    "    integer, parameter :: n = 100\n",
    "    \n",
    "    ! Shows different ways to pass arguments to a function\n",
    "    print *, series_sum(0, 700, 100.0, 0.1)\n",
    "    print *, series_sum(0, 700, d=0.1, s=100.0)\n",
    "    print *, series_sum(n=700, d=0.1, s=100.0)\n",
    "    print *, series_sum(d=0.1, s=100.0, n=700)\n",
    "    print *, series_sum(m=0, n=700, d=0.1, s=100.0)\n",
    "\n",
    "contains\n",
    "\n",
    "    function series_sum(m, n, s, d) result (series_sum_result)\n",
    "        integer, optional, intent(in)   :: m\n",
    "        integer, intent(in)             :: n\n",
    "        real, intent(in)                :: s, d\n",
    "        real                            :: series_sum_result\n",
    "        integer                         :: i, temp_m\n",
    "\n",
    "        if (present(m)) then\n",
    "            temp_m = m\n",
    "        else\n",
    "            temp_m = 0\n",
    "        end if\n",
    "\n",
    "        series_sum_result = 0\n",
    "        do i = temp_m, n\n",
    "            series_sum_result = series_sum_result + s + i * d\n",
    "        end do\n",
    "\n",
    "end function series_sum\n",
    "\n",
    "end program series_sum_program\n",
    "```"
   ]
  },
  {
   "cell_type": "markdown",
   "id": "4c6b9985-c0cb-4602-8309-4e3369dd3226",
   "metadata": {},
   "source": [
    "The above program is compiled and run using Fortran Package Manager (fpm):"
   ]
  },
  {
   "cell_type": "code",
   "execution_count": 1,
   "id": "e8ba1050-b7b1-4e9e-87bf-28791145e5e7",
   "metadata": {},
   "outputs": [],
   "source": [
    "import os\n",
    "root_dir = os.getcwd()"
   ]
  },
  {
   "cell_type": "code",
   "execution_count": 2,
   "id": "bdaf795d-554a-46e6-b4da-faeb331e1b13",
   "metadata": {},
   "outputs": [],
   "source": [
    "code_dir = root_dir + \"/\" + \"Fortran_Code/Section_3_8_Argument_Passing\""
   ]
  },
  {
   "cell_type": "code",
   "execution_count": 3,
   "id": "a7d9f1b1-ba0d-4db1-84ef-7a358f0453a6",
   "metadata": {},
   "outputs": [],
   "source": [
    "os.chdir(code_dir)"
   ]
  },
  {
   "cell_type": "code",
   "execution_count": 10,
   "id": "0fbd7621-e800-4235-ab30-80560cc3e1a8",
   "metadata": {},
   "outputs": [],
   "source": [
    "build_status = os.system(\"fpm build 2>/dev/null\")"
   ]
  },
  {
   "cell_type": "code",
   "execution_count": 11,
   "id": "0483d40b-e849-4574-bcbe-003c81a96dd5",
   "metadata": {},
   "outputs": [
    {
     "name": "stdout",
     "output_type": "stream",
     "text": [
      "   94635.0000    \n",
      "   94635.0000    \n",
      "   94635.0000    \n",
      "   94635.0000    \n",
      "   94635.0000    \n"
     ]
    }
   ],
   "source": [
    "exec_status = os.system(\"fpm run 2>/dev/null\")"
   ]
  },
  {
   "cell_type": "code",
   "execution_count": null,
   "id": "0b441222",
   "metadata": {},
   "outputs": [],
   "source": []
  }
 ],
 "metadata": {
  "kernelspec": {
   "display_name": "Python 3.9.2 64-bit",
   "language": "python",
   "name": "python3"
  },
  "language_info": {
   "codemirror_mode": {
    "name": "ipython",
    "version": 3
   },
   "file_extension": ".py",
   "mimetype": "text/x-python",
   "name": "python",
   "nbconvert_exporter": "python",
   "pygments_lexer": "ipython3",
   "version": "3.9.2"
  },
  "vscode": {
   "interpreter": {
    "hash": "916dbcbb3f70747c44a77c7bcd40155683ae19c65e1c03b4aa3499c5328201f1"
   }
  }
 },
 "nbformat": 4,
 "nbformat_minor": 5
}
