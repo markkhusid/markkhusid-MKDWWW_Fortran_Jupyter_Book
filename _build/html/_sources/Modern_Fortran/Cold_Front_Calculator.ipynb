{
 "cells": [
  {
   "cell_type": "raw",
   "id": "c40b648f-a44a-4480-bbee-93e7a780f45b",
   "metadata": {},
   "source": [
    "---\n",
    "jupytext:\n",
    "  formats: md:myst\n",
    "  text_representation:\n",
    "    extension: .md\n",
    "    format_name: myst\n",
    "kernelspec:\n",
    "  display_name: Python 3\n",
    "  language: python\n",
    "  name: python3\n",
    "---"
   ]
  },
  {
   "cell_type": "markdown",
   "id": "fc63b62e-3ea6-4588-8b6e-f845bbc6d64c",
   "metadata": {
    "tags": []
   },
   "source": [
    "# Cold Front Calculator"
   ]
  },
  {
   "cell_type": "markdown",
   "id": "edfc7d7e-9803-4b96-82f1-bc0d47385f43",
   "metadata": {},
   "source": [
    "Adapted from: \"Modern Fortan\" by Milan Curcic (Manning)"
   ]
  },
  {
   "cell_type": "markdown",
   "id": "59ec1bec-3fd7-4061-aa24-c7765d25786f",
   "metadata": {},
   "source": [
    "## Program to Calculate the Temperature due to a Cold Front"
   ]
  },
  {
   "cell_type": "markdown",
   "id": "c36821c7-3b26-404c-8a7c-2f978dfb65d4",
   "metadata": {},
   "source": [
    "```fortran\n",
    "program cold_front\n",
    "\n",
    "    implicit none\n",
    "    \n",
    "    real :: temp1 = 12 ! degrees C\n",
    "    real :: temp2 = 24 ! degrees C\n",
    "    real :: dx = 960   ! km\n",
    "    real :: c = 20     ! km / hr\n",
    "    real :: dt = 24    ! hours\n",
    "    \n",
    "    real :: res        ! result in degrees C\n",
    "    \n",
    "    res = temp2 - c * (temp2 - temp1) / dx * dt\n",
    "    \n",
    "    print *, \"Temperature after \", dt, &\n",
    "             \"hours is \", res, \"degrees\"\n",
    "             \n",
    "end program cold_front\n",
    "```"
   ]
  },
  {
   "cell_type": "markdown",
   "id": "4c6b9985-c0cb-4602-8309-4e3369dd3226",
   "metadata": {},
   "source": [
    "The above program is compiled and run using Fortran Package Manager (fpm):"
   ]
  },
  {
   "cell_type": "code",
   "execution_count": 1,
   "id": "e8ba1050-b7b1-4e9e-87bf-28791145e5e7",
   "metadata": {},
   "outputs": [
    {
     "data": {
      "text/plain": [
       "'/home/haxor/Documents/Engineering/My_Jupyter_Books/fortran/Modern_Fortran'"
      ]
     },
     "execution_count": 1,
     "metadata": {},
     "output_type": "execute_result"
    }
   ],
   "source": [
    "import os\n",
    "root_dir = os.getcwd()"
   ]
  },
  {
   "cell_type": "code",
   "execution_count": 2,
   "id": "bdaf795d-554a-46e6-b4da-faeb331e1b13",
   "metadata": {},
   "outputs": [],
   "source": [
    "code_dir = root_dir + \"/\" + \"Fortran_Code/Cold_Front_Calculator\""
   ]
  },
  {
   "cell_type": "code",
   "execution_count": 3,
   "id": "a7d9f1b1-ba0d-4db1-84ef-7a358f0453a6",
   "metadata": {},
   "outputs": [],
   "source": [
    "os.chdir(code_dir)"
   ]
  },
  {
   "cell_type": "code",
   "execution_count": 4,
   "id": "0fbd7621-e800-4235-ab30-80560cc3e1a8",
   "metadata": {},
   "outputs": [],
   "source": [
    "build_status = os.system(\"fpm build > /dev/null\")"
   ]
  },
  {
   "cell_type": "markdown",
   "id": "d878f58b-29c1-4154-8563-76c07816e722",
   "metadata": {},
   "source": [
    "fpm run output is piped into sed to suppress the status of the run command and only print the output of the executable."
   ]
  },
  {
   "cell_type": "code",
   "execution_count": 6,
   "id": "0483d40b-e849-4574-bcbe-003c81a96dd5",
   "metadata": {},
   "outputs": [
    {
     "name": "stdout",
     "output_type": "stream",
     "text": [
      " Temperature after    24.0000000     hours is    18.0000000     degrees\n"
     ]
    }
   ],
   "source": [
    "exec_status = os.system(\"fpm run | sed 1,1d\")"
   ]
  }
 ],
 "metadata": {
  "kernelspec": {
   "display_name": "Python 3 (ipykernel)",
   "language": "python",
   "name": "python3"
  },
  "language_info": {
   "codemirror_mode": {
    "name": "ipython",
    "version": 3
   },
   "file_extension": ".py",
   "mimetype": "text/x-python",
   "name": "python",
   "nbconvert_exporter": "python",
   "pygments_lexer": "ipython3",
   "version": "3.8.13"
  }
 },
 "nbformat": 4,
 "nbformat_minor": 5
}
