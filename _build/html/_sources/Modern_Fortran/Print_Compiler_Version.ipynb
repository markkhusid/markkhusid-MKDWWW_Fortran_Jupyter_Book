{
 "cells": [
  {
   "cell_type": "raw",
   "id": "735eb5aa-ccb8-411e-8ffc-2087a2d2f9e1",
   "metadata": {},
   "source": [
    "---\n",
    "jupytext:\n",
    "  formats: md:myst\n",
    "  text_representation:\n",
    "    extension: .md\n",
    "    format_name: myst\n",
    "kernelspec:\n",
    "  display_name: Python 3\n",
    "  language: python\n",
    "  name: python3\n",
    "---"
   ]
  },
  {
   "cell_type": "markdown",
   "id": "70ade4e0-c09c-4720-b371-cf37307ccdbc",
   "metadata": {
    "tags": []
   },
   "source": [
    "# Print Compiler Version"
   ]
  },
  {
   "cell_type": "markdown",
   "id": "6c4f1181-7c02-4391-a0a5-d2c51f5ff229",
   "metadata": {},
   "source": [
    "Adapted from: \"[Modern Fortran: Building Efficient Parallel Applications](https://www.manning.com/books/modern-fortran)\" by Milan Curcic (Manning)"
   ]
  },
  {
   "cell_type": "markdown",
   "id": "1427eb6e-0efe-4983-a8b7-398e9fde1fbc",
   "metadata": {},
   "source": [
    "```fortran\n",
    "program print_compiler_info\n",
    "\n",
    "    use iso_fortran_env\n",
    "    implicit none\n",
    "    print *, 'Compiler version: ', compiler_version()\n",
    "    print *, 'Compiler options: ', compiler_options()\n",
    "    \n",
    "end program print_compiler_info\n",
    "```"
   ]
  },
  {
   "cell_type": "markdown",
   "id": "4d1b3f1c-2475-4219-940a-2c51ece3e891",
   "metadata": {},
   "source": [
    "The above program is compiled and run using Fortran Package Manager (fpm):"
   ]
  },
  {
   "cell_type": "code",
   "execution_count": 1,
   "id": "5ebace28-6569-4f73-9a43-f53d4c64fc32",
   "metadata": {
    "execution": {
     "iopub.execute_input": "2024-05-05T03:16:46.988558Z",
     "iopub.status.busy": "2024-05-05T03:16:46.988234Z",
     "iopub.status.idle": "2024-05-05T03:16:46.992827Z",
     "shell.execute_reply": "2024-05-05T03:16:46.991964Z",
     "shell.execute_reply.started": "2024-05-05T03:16:46.988534Z"
    }
   },
   "outputs": [],
   "source": [
    "import os\n",
    "root_dir = os.getcwd()"
   ]
  },
  {
   "cell_type": "code",
   "execution_count": 2,
   "id": "ef493ade-dfdf-4ea2-89ab-98a61353948b",
   "metadata": {
    "execution": {
     "iopub.execute_input": "2024-05-05T03:16:47.328097Z",
     "iopub.status.busy": "2024-05-05T03:16:47.327728Z",
     "iopub.status.idle": "2024-05-05T03:16:47.337137Z",
     "shell.execute_reply": "2024-05-05T03:16:47.336687Z",
     "shell.execute_reply.started": "2024-05-05T03:16:47.328075Z"
    }
   },
   "outputs": [],
   "source": [
    "code_dir = root_dir + \"/\" + \"Fortran_Code/Print_Compiler_Version\""
   ]
  },
  {
   "cell_type": "code",
   "execution_count": 3,
   "id": "524753ac-5c2c-46fb-8841-f61ec40ae872",
   "metadata": {
    "execution": {
     "iopub.execute_input": "2024-05-05T03:16:47.713027Z",
     "iopub.status.busy": "2024-05-05T03:16:47.712630Z",
     "iopub.status.idle": "2024-05-05T03:16:47.737988Z",
     "shell.execute_reply": "2024-05-05T03:16:47.725080Z",
     "shell.execute_reply.started": "2024-05-05T03:16:47.713004Z"
    }
   },
   "outputs": [],
   "source": [
    "os.chdir(code_dir)"
   ]
  },
  {
   "cell_type": "code",
   "execution_count": 4,
   "id": "9a4ce293-09fc-4eec-b5d4-04bae94e5b25",
   "metadata": {
    "execution": {
     "iopub.execute_input": "2024-05-05T03:16:48.228761Z",
     "iopub.status.busy": "2024-05-05T03:16:48.228421Z",
     "iopub.status.idle": "2024-05-05T03:16:48.268416Z",
     "shell.execute_reply": "2024-05-05T03:16:48.267878Z",
     "shell.execute_reply.started": "2024-05-05T03:16:48.228738Z"
    }
   },
   "outputs": [],
   "source": [
    "build_status = os.system(\"fpm build 2>/dev/null\")"
   ]
  },
  {
   "cell_type": "code",
   "execution_count": 5,
   "id": "283ad703-2666-4e02-bb4e-359337d70bb5",
   "metadata": {
    "execution": {
     "iopub.execute_input": "2024-05-05T03:16:48.851929Z",
     "iopub.status.busy": "2024-05-05T03:16:48.851654Z",
     "iopub.status.idle": "2024-05-05T03:16:48.950384Z",
     "shell.execute_reply": "2024-05-05T03:16:48.920917Z",
     "shell.execute_reply.started": "2024-05-05T03:16:48.851908Z"
    }
   },
   "outputs": [
    {
     "name": "stdout",
     "output_type": "stream",
     "text": [
      " Compiler version: GCC version 12.2.0\n",
      " Compiler options: -I build/gfortran_87E2AE0597D39913 -mtune=generic -march=x86-64 -g -Wall -Wextra -Werror=implicit-interface -fPIC -fmax-errors=1 -fbounds-check -fcheck=array-temps -fbacktrace -fcoarray=single -fimplicit-none -ffree-form -J build/gfortran_87E2AE0597D39913 -fpre-include=/usr/include/finclude/x86_64-linux-gnu/math-vector-fortran.h\n"
     ]
    }
   ],
   "source": [
    "exec_status = os.system(\"fpm run 2>/dev/null\")"
   ]
  }
 ],
 "metadata": {
  "kernelspec": {
   "display_name": "Python 3 (ipykernel)",
   "language": "python",
   "name": "python3"
  },
  "language_info": {
   "codemirror_mode": {
    "name": "ipython",
    "version": 3
   },
   "file_extension": ".py",
   "mimetype": "text/x-python",
   "name": "python",
   "nbconvert_exporter": "python",
   "pygments_lexer": "ipython3",
   "version": "3.10.14"
  }
 },
 "nbformat": 4,
 "nbformat_minor": 5
}
