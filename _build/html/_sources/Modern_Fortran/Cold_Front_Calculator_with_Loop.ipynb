{
 "cells": [
  {
   "cell_type": "raw",
   "id": "3f1ed314-3360-4cd2-b12f-d225f1543c93",
   "metadata": {},
   "source": [
    "---\n",
    "jupytext:\n",
    "  formats: md:myst\n",
    "  text_representation:\n",
    "    extension: .md\n",
    "    format_name: myst\n",
    "kernelspec:\n",
    "  display_name: Python 3\n",
    "  language: python\n",
    "  name: python3\n",
    "---"
   ]
  },
  {
   "cell_type": "markdown",
   "id": "70ade4e0-c09c-4720-b371-cf37307ccdbc",
   "metadata": {
    "tags": []
   },
   "source": [
    "# Cold Front Calculator With Loop"
   ]
  },
  {
   "cell_type": "markdown",
   "id": "6c4f1181-7c02-4391-a0a5-d2c51f5ff229",
   "metadata": {},
   "source": [
    "Adapted from: \"Modern Fortan\" by Milan Curcic (Manning)"
   ]
  },
  {
   "cell_type": "markdown",
   "id": "1427eb6e-0efe-4983-a8b7-398e9fde1fbc",
   "metadata": {},
   "source": [
    "```fortran\n",
    "program cold_front\n",
    "\n",
    "    implicit none\n",
    "    integer :: n\n",
    "    real    :: nhours\n",
    "    \n",
    "    do n = 6, 48, 6\n",
    "        nhours = real(n)\n",
    "        print *, \"Temperature after \", &\n",
    "            nhours, \" hours is \", &\n",
    "            cold_front_temperature(12., 24., 20., 960., nhours), \" degrees.\"\n",
    "    end do\n",
    "    \n",
    "contains\n",
    "\n",
    "    real function cold_front_temperature ( &\n",
    "        temp1, temp2, c, dx, dt) result(res)\n",
    "        \n",
    "        real, intent(in) :: temp1, temp2, c, dx, dt\n",
    "        res = temp2 - c * (temp2 - temp1) / dx * dt\n",
    "        \n",
    "    end function cold_front_temperature\n",
    "    \n",
    "end program cold_front\n",
    "```"
   ]
  },
  {
   "cell_type": "markdown",
   "id": "78f7b3ec-6be7-4f79-a60b-2bd16ec4a729",
   "metadata": {},
   "source": [
    "The above program is compiled and run using Fortran Package Manager (fpm):"
   ]
  },
  {
   "cell_type": "code",
   "execution_count": 1,
   "id": "317af80e-8a16-47f6-8b5b-aaff80e2a8b7",
   "metadata": {},
   "outputs": [],
   "source": [
    "import os\n",
    "root_dir = os.getcwd()"
   ]
  },
  {
   "cell_type": "code",
   "execution_count": 2,
   "id": "daef8d7e-5a9f-4bc8-a658-da5390432b44",
   "metadata": {},
   "outputs": [],
   "source": [
    "code_dir = root_dir + \"/\" + \"Fortran_Code/Cold_Front_Calculator_with_Loop\""
   ]
  },
  {
   "cell_type": "code",
   "execution_count": 3,
   "id": "e069f5b4-a0b2-4b6f-befc-7e1f8e638abe",
   "metadata": {},
   "outputs": [],
   "source": [
    "os.chdir(code_dir)"
   ]
  },
  {
   "cell_type": "code",
   "execution_count": 4,
   "id": "257328b8-7c26-42f6-ab9f-e4d00d7161ef",
   "metadata": {},
   "outputs": [],
   "source": [
    "build_status = os.system(\"fpm build > /dev/null\")"
   ]
  },
  {
   "cell_type": "markdown",
   "id": "3b8b5986-203a-49ee-9552-8f8790bbfa41",
   "metadata": {},
   "source": [
    "fpm run output is piped into sed to suppress the status of the run command and only print the output of the executable."
   ]
  },
  {
   "cell_type": "code",
   "execution_count": 5,
   "id": "172d2e1b-1b4e-4811-8551-56baaff1ea0a",
   "metadata": {},
   "outputs": [
    {
     "name": "stdout",
     "output_type": "stream",
     "text": [
      " Temperature after    6.00000000      hours is    22.5000000      degrees.\n",
      " Temperature after    12.0000000      hours is    21.0000000      degrees.\n",
      " Temperature after    18.0000000      hours is    19.5000000      degrees.\n",
      " Temperature after    24.0000000      hours is    18.0000000      degrees.\n",
      " Temperature after    30.0000000      hours is    16.5000000      degrees.\n",
      " Temperature after    36.0000000      hours is    15.0000000      degrees.\n",
      " Temperature after    42.0000000      hours is    13.5000000      degrees.\n",
      " Temperature after    48.0000000      hours is    12.0000000      degrees.\n"
     ]
    }
   ],
   "source": [
    "exec_status = os.system(\"fpm run | sed 1,1d\")"
   ]
  },
  {
   "cell_type": "code",
   "execution_count": null,
   "id": "818eeac2-43ee-4b6d-9915-9dac79cf5150",
   "metadata": {},
   "outputs": [],
   "source": []
  }
 ],
 "metadata": {
  "kernelspec": {
   "display_name": "Python 3 (ipykernel)",
   "language": "python",
   "name": "python3"
  },
  "language_info": {
   "codemirror_mode": {
    "name": "ipython",
    "version": 3
   },
   "file_extension": ".py",
   "mimetype": "text/x-python",
   "name": "python",
   "nbconvert_exporter": "python",
   "pygments_lexer": "ipython3",
   "version": "3.8.13"
  }
 },
 "nbformat": 4,
 "nbformat_minor": 5
}
