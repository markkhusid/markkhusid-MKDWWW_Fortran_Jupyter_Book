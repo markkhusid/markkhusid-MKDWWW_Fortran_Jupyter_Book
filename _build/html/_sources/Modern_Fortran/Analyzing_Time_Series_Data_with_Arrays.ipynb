{
 "cells": [
  {
   "cell_type": "raw",
   "id": "e406df47-edcb-4fad-9d25-153750c2815a",
   "metadata": {},
   "source": [
    "---\n",
    "jupytext:\n",
    "  formats: md:myst\n",
    "  text_representation:\n",
    "    extension: .md\n",
    "    format_name: myst\n",
    "kernelspec:\n",
    "  display_name: Python 3\n",
    "  language: python\n",
    "  name: python3\n",
    "---"
   ]
  },
  {
   "cell_type": "markdown",
   "id": "7f39512c-f564-4587-a711-34c971fe153c",
   "metadata": {},
   "source": [
    "# Analyzing Time Series Data with Arrays\n",
    "The following program analyzes time series data using arrays. <br>\n",
    "Adapted from: \"Modern Fortan\" by Milan Curcic (Manning)"
   ]
  },
  {
   "cell_type": "markdown",
   "id": "74c83381-710e-4733-9825-467f7b44d020",
   "metadata": {
    "tags": []
   },
   "source": [
    "## Program to Calculate the Gain of a Stock Price"
   ]
  },
  {
   "cell_type": "markdown",
   "id": "b6c3ef40-21ba-4dfe-9c88-594160e96af3",
   "metadata": {},
   "source": [
    "### In file *stock_gain.f90*"
   ]
  },
  {
   "cell_type": "markdown",
   "id": "2a17b2ab-6057-41f0-9175-9911cb695f28",
   "metadata": {},
   "source": [
    "```{literalinclude} Fortran_Code/Analyzing_Time_Series_Data_with_Arrays/app/stock_gain.f90\n",
    "---\n",
    "language: fortran\n",
    "---\n",
    "```"
   ]
  },
  {
   "cell_type": "markdown",
   "id": "832c5a44-c06d-4785-b188-e2ea722d2dd8",
   "metadata": {},
   "source": [
    "### In file *mod_arrays.f90*"
   ]
  },
  {
   "cell_type": "markdown",
   "id": "ff1bfbcd-cd55-4e11-8f21-1ea6fcbce4f5",
   "metadata": {},
   "source": [
    "```{literalinclude} Fortran_Code/Analyzing_Time_Series_Data_with_Arrays/src/mod_arrays.f90\n",
    "---\n",
    "language: fortran\n",
    "---\n",
    "```"
   ]
  },
  {
   "cell_type": "markdown",
   "id": "cd911043-ccf6-4eba-be14-cb54104b58e6",
   "metadata": {},
   "source": [
    "### In file *mod_io.f90*"
   ]
  },
  {
   "cell_type": "markdown",
   "id": "e21621cf-3152-437e-8e6b-e0decce15e2d",
   "metadata": {},
   "source": [
    "```{literalinclude} Fortran_Code/Analyzing_Time_Series_Data_with_Arrays/src/mod_io.f90\n",
    "---\n",
    "language: fortran\n",
    "---\n",
    "```"
   ]
  },
  {
   "cell_type": "markdown",
   "id": "7a852896-bc97-46aa-9cab-b33e035a4555",
   "metadata": {},
   "source": [
    "## Program Explanation"
   ]
  },
  {
   "cell_type": "markdown",
   "id": "63dd9100-dcb1-40b7-a16c-23cfeec208c7",
   "metadata": {},
   "source": [
    "The following explanation is given by \"Code Copilot\" within ChatGPT 4."
   ]
  },
  {
   "cell_type": "markdown",
   "id": "61231137-cfd5-465b-b661-990eb23dfa02",
   "metadata": {},
   "source": [
    "The `stock_gain.f90` Fortran program calculates the gain of various stocks between two time points using their adjusted close prices. Here's a breakdown of the code:\n",
    "\n",
    "### Modules Used\n",
    "- **mod_arrays**: Provides a `reverse` function used to reverse arrays.\n",
    "- **mod_io**: Provides a `read_stock` function to read stock data from CSV files.\n",
    "\n",
    "### Data Structures\n",
    "- Arrays for stock symbols, time periods, and financial metrics (open, high, low, close, adjusted close, volume) are dynamically allocated. The actual size of these arrays is set during runtime based on the data read from the CSV files.\n",
    "\n",
    "### Main Process\n",
    "1. **Symbol Initialization**: A list of stock symbols is predefined.\n",
    "2. **Loop Through Each Symbol**:\n",
    "   - For each symbol, it reads the corresponding stock data from a CSV file named after the stock symbol.\n",
    "   - The adjusted close prices are reversed using the `reverse` function. This might be used to adjust the time order from most recent to oldest, or vice versa.\n",
    "   - The gain is calculated as the difference between the final and initial adjusted close prices.\n",
    "   - For the first stock, it prints the time period covered.\n",
    "   - It outputs the stock symbol, the gain in USD, and the relative gain as a percentage.\n",
    "\n",
    "### Output\n",
    "- The program prints a formatted output of the gains for each stock symbol over the specified period, showing both absolute and percentage changes.\n",
    "\n",
    "This program makes use of separate modules for array manipulations and I/O operations, which simplifies the main program and focuses on the computation of stock gains.\n",
    "\n",
    "The `mod_arrays.f90` file defines a module called `mod_arrays`, which includes a variety of functions designed to perform common array manipulations and statistical computations. Here's a detailed breakdown of each function provided in the module:\n",
    "\n",
    "### Functions in `mod_arrays`\n",
    "\n",
    "- **argsort(x)**: Returns indices that would sort the array `x` from low to high. This is useful for ordering data without changing the original array.\n",
    "\n",
    "- **average(x)**: Calculates the average of the elements in the array `x`.\n",
    "\n",
    "- **crossneg(x, w)**: Identifies indices where the array `x` crosses below its moving average of window size `w`. This function could be used to detect negative trends in time-series data.\n",
    "\n",
    "- **crosspos(x, w)**: Similar to `crossneg`, but it finds indices where `x` crosses above its moving average. It's used to identify positive trend shifts.\n",
    "\n",
    "- **intdate(t)**: Converts a date string in the format `YYYY-mm-dd` to an integer format for easier handling.\n",
    "\n",
    "- **moving_average(x, w)**: Computes the moving average of the array `x` using a one-sided window of size `w`. This function is essential for smoothing out time-series data.\n",
    "\n",
    "- **moving_std(x, w)**: Computes the moving standard deviation of the array `x`, providing insights into the variability of the data over a specified window.\n",
    "\n",
    "- **reverse(x)**: Reverses the elements of the array `x`. This is used in the main program to adjust the order of adjusted close prices.\n",
    "\n",
    "- **std(x)**: Calculates the standard deviation of the array `x`, a measure of the spread or dispersion of the array elements around the mean.\n",
    "\n",
    "### Usage and Visibility\n",
    "\n",
    "- All functions are declared as `public` which means they can be accessed from outside the module when it is included in other parts of the program.\n",
    "- The module uses `pure` functions, suggesting that these functions have no side effects (like modifying global variables), which is a desirable property in scientific computing for ensuring consistent and repeatable outcomes.\n",
    "\n",
    "This module provides fundamental tools for data processing, especially useful in financial analysis or any scientific computing involving array data.\n",
    "\n",
    "The `mod_io.f90` module provides functionality for input/output operations, particularly focused on reading and writing stock data. Here’s a detailed overview of this module:\n",
    "\n",
    "### Functions and Subroutines\n",
    "\n",
    "- **num_records(filename)**: This function counts and returns the number of records (lines) in a text file, typically used to determine the size of data before allocating memory for variables.\n",
    "\n",
    "- **read_stock(filename, time, open, high, low, close, adjclose, volume)**:\n",
    "  - Reads daily stock prices from a CSV file specified by `filename`.\n",
    "  - The stock data includes timestamps (`time`) and various price metrics (`open`, `high`, `low`, `close`, `adjclose`, and `volume`).\n",
    "  - The subroutine first calculates the number of records using `num_records`, allocates memory for the data arrays, and then reads each line of the file, storing the data in the respective arrays.\n",
    "\n",
    "- **write_stock(filename, time, price, mvavg, mvstd)**:\n",
    "  - Writes derived stock data (like prices along with moving averages and moving standard deviations) to a file.\n",
    "  - This is useful for outputting processed data, perhaps for reporting or further analysis.\n",
    "\n",
    "### Usage and Memory Management\n",
    "\n",
    "- The module relies on another module `mod_alloc` for dynamic memory allocation (`alloc` function), though the contents of `mod_alloc` aren't shown. This suggests a modular approach where memory management is abstracted away to improve code maintainability.\n",
    "- Memory allocation and deallocation are carefully handled in the `read_stock` subroutine to manage the memory efficiently and avoid memory leaks, especially important in Fortran where dynamic data structures are involved.\n",
    "\n",
    "### Design Considerations\n",
    "\n",
    "- The I/O operations are encapsulated within this module, which separates the data handling logic from the computational logic found in other parts of the program.\n",
    "- Using separate subroutines for reading and writing data ensures that the module handles all aspects of file I/O, making it reusable for different parts of the application that need to process input or output data.\n",
    "\n",
    "This module forms a critical component of the program by managing the flow of data in and out, ensuring that the main computational modules can focus solely on processing this data.\n",
    "\n",
    "If you have more specific questions about how any part of the code works or if you need further details on any other aspect, feel free to ask!"
   ]
  },
  {
   "cell_type": "markdown",
   "id": "95a01b71-3e03-4fd3-883d-121719f4161e",
   "metadata": {},
   "source": [
    "## Program Compilation and Execution"
   ]
  },
  {
   "cell_type": "markdown",
   "id": "9a8c631b-95cf-45c9-83b9-15b926b4d67d",
   "metadata": {},
   "source": [
    "The above program is compiled and run using Fortran Package Manager (fpm):"
   ]
  },
  {
   "cell_type": "markdown",
   "id": "c6f9ed20",
   "metadata": {
    "tags": []
   },
   "source": [
    "## Build the Program using FPM (Fortran Package Manager)"
   ]
  },
  {
   "cell_type": "code",
   "execution_count": 1,
   "id": "ca10be4d-5119-4d18-8b9a-a21ff292a2c8",
   "metadata": {
    "execution": {
     "iopub.execute_input": "2024-05-09T03:43:46.224297Z",
     "iopub.status.busy": "2024-05-09T03:43:46.223957Z",
     "iopub.status.idle": "2024-05-09T03:43:46.273050Z",
     "shell.execute_reply": "2024-05-09T03:43:46.261330Z",
     "shell.execute_reply.started": "2024-05-09T03:43:46.224272Z"
    }
   },
   "outputs": [],
   "source": [
    "import os\n",
    "root_dir = \"\"\n",
    "root_dir = os.getcwd()"
   ]
  },
  {
   "attachments": {},
   "cell_type": "markdown",
   "id": "48d176ac",
   "metadata": {},
   "source": [
    "The following FPM configuration file (fpm.toml) was used:"
   ]
  },
  {
   "attachments": {},
   "cell_type": "markdown",
   "id": "48ce3430",
   "metadata": {},
   "source": [
    "```{literalinclude} Fortran_Code/Analyzing_Time_Series_Data_with_Arrays/fpm.toml\n",
    "---\n",
    "language: toml\n",
    "---\n",
    "```"
   ]
  },
  {
   "cell_type": "code",
   "execution_count": 2,
   "id": "a828ec8c-6aca-41c1-ad8a-aafc1600eb73",
   "metadata": {
    "execution": {
     "iopub.execute_input": "2024-05-09T03:43:51.274054Z",
     "iopub.status.busy": "2024-05-09T03:43:51.273573Z",
     "iopub.status.idle": "2024-05-09T03:43:51.280111Z",
     "shell.execute_reply": "2024-05-09T03:43:51.278679Z",
     "shell.execute_reply.started": "2024-05-09T03:43:51.274033Z"
    }
   },
   "outputs": [],
   "source": [
    "code_dir = root_dir + \"/\" + \"Fortran_Code/Analyzing_Time_Series_Data_with_Arrays\""
   ]
  },
  {
   "cell_type": "code",
   "execution_count": 3,
   "id": "85c72ed0-fe45-4527-8886-309a050416d4",
   "metadata": {
    "execution": {
     "iopub.execute_input": "2024-05-09T03:43:51.795899Z",
     "iopub.status.busy": "2024-05-09T03:43:51.795223Z",
     "iopub.status.idle": "2024-05-09T03:43:51.801730Z",
     "shell.execute_reply": "2024-05-09T03:43:51.800843Z",
     "shell.execute_reply.started": "2024-05-09T03:43:51.795862Z"
    }
   },
   "outputs": [],
   "source": [
    "os.chdir(code_dir)"
   ]
  },
  {
   "cell_type": "code",
   "execution_count": 4,
   "id": "e77d753e-d8de-4190-a18e-b91dffc25ece",
   "metadata": {
    "execution": {
     "iopub.execute_input": "2024-05-09T03:43:53.339511Z",
     "iopub.status.busy": "2024-05-09T03:43:53.339229Z",
     "iopub.status.idle": "2024-05-09T03:43:53.507088Z",
     "shell.execute_reply": "2024-05-09T03:43:53.506125Z",
     "shell.execute_reply.started": "2024-05-09T03:43:53.339492Z"
    }
   },
   "outputs": [],
   "source": [
    "build_status = os.system(\"fpm build 2>/dev/null\")"
   ]
  },
  {
   "cell_type": "markdown",
   "id": "58b5102f",
   "metadata": {},
   "source": [
    "## Run the Program using FPM (Fortran Package Manager)"
   ]
  },
  {
   "cell_type": "code",
   "execution_count": 5,
   "id": "3176b27d-932e-47a1-8099-4fae064ec661",
   "metadata": {
    "execution": {
     "iopub.execute_input": "2024-05-09T03:43:55.627472Z",
     "iopub.status.busy": "2024-05-09T03:43:55.627194Z",
     "iopub.status.idle": "2024-05-09T03:43:55.778608Z",
     "shell.execute_reply": "2024-05-09T03:43:55.777517Z",
     "shell.execute_reply.started": "2024-05-09T03:43:55.627452Z"
    }
   },
   "outputs": [
    {
     "name": "stdout",
     "output_type": "stream",
     "text": [
      " 2000-01-03 through 2018-05-14\n",
      " Symbol, Gain (USD), Relative Gain (%)\n",
      " -------------------------------------\n",
      " AAPL   184.594589            5192\n",
      " AMZN   1512.16003            1692\n",
      " CRAY   9.60000038              56\n",
      " CSCO   1.71649933               4\n",
      " HPQ    1.55270004               7\n",
      " IBM    60.9193039              73\n",
      " INTC   25.8368015              89\n",
      " MSFT   59.4120979             154\n",
      " NVDA   251.745300            6964\n",
      " ORCL   20.3501987              77\n"
     ]
    }
   ],
   "source": [
    "exec_status = \\\n",
    "    os.system(\"fpm run 2>/dev/null\")"
   ]
  }
 ],
 "metadata": {
  "kernelspec": {
   "display_name": "Python 3 (ipykernel)",
   "language": "python",
   "name": "python3"
  },
  "language_info": {
   "codemirror_mode": {
    "name": "ipython",
    "version": 3
   },
   "file_extension": ".py",
   "mimetype": "text/x-python",
   "name": "python",
   "nbconvert_exporter": "python",
   "pygments_lexer": "ipython3",
   "version": "3.10.14"
  }
 },
 "nbformat": 4,
 "nbformat_minor": 5
}
