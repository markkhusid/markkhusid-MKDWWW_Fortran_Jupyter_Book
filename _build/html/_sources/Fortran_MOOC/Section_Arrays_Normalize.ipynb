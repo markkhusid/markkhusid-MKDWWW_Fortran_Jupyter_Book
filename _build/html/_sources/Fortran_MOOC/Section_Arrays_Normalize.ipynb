{
 "cells": [
  {
   "cell_type": "raw",
   "id": "c40b648f-a44a-4480-bbee-93e7a780f45b",
   "metadata": {},
   "source": [
    "---\n",
    "jupytext:\n",
    "  formats: md:myst\n",
    "  text_representation:\n",
    "    extension: .md\n",
    "    format_name: myst\n",
    "kernelspec:\n",
    "  display_name: Python 3\n",
    "  language: python\n",
    "  name: python3\n",
    "---"
   ]
  },
  {
   "cell_type": "markdown",
   "id": "fc63b62e-3ea6-4588-8b6e-f845bbc6d64c",
   "metadata": {
    "tags": []
   },
   "source": [
    "# Section Arrays: Normalize\n"
   ]
  },
  {
   "cell_type": "markdown",
   "id": "edfc7d7e-9803-4b96-82f1-bc0d47385f43",
   "metadata": {},
   "source": [
    "Adapted from: [https://github.com/gjbex/Fortran-MOOC/tree/master/source_code/arrays](https://github.com/gjbex/Fortran-MOOC/tree/master/source_code/arrays)"
   ]
  },
  {
   "cell_type": "markdown",
   "id": "59ec1bec-3fd7-4061-aa24-c7765d25786f",
   "metadata": {},
   "source": [
    "## This program normalizes a randomly generated matrix in Fortran."
   ]
  },
  {
   "cell_type": "markdown",
   "id": "c36821c7-3b26-404c-8a7c-2f978dfb65d4",
   "metadata": {},
   "source": [
    "```fortran\n",
    "program normalize\n",
    "  use, intrinsic :: iso_fortran_env, only : error_unit, DP => REAL64\n",
    "  implicit none\n",
    "  integer, parameter :: rows = 3, cols = 4\n",
    "  real(kind=DP), dimension(rows, cols) :: matrix, spread_norm\n",
    "  real(kind=DP), dimension(rows) :: norm\n",
    "\n",
    "  call random_number(matrix)\n",
    "  print '(A)', 'original:'\n",
    "  call print_matrix(matrix)\n",
    "\n",
    "  norm = sum(matrix, dim=2)\n",
    "  print '(A, *(F12.7))', 'norm:', norm\n",
    "\n",
    "  spread_norm = spread(norm, 2, size(matrix, 2))\n",
    "  call print_matrix(spread_norm)\n",
    "\n",
    "  matrix = matrix/spread_norm\n",
    "  print '(A)', 'row-normalized::'\n",
    "  call print_matrix(matrix)\n",
    "\n",
    "  norm = sum(matrix, dim=2)\n",
    "  print '(A, *(F12.7))', 'norm:', norm\n",
    "\n",
    "contains\n",
    "\n",
    "  subroutine print_matrix(matrix)\n",
    "      implicit none\n",
    "      real(kind=DP), dimension(:, :), intent(in) :: matrix\n",
    "      integer :: row\n",
    "\n",
    "      do row = 1, size(matrix, 1)\n",
    "          print '(*(F12.7))', matrix(row, :)\n",
    "      end do\n",
    "  end subroutine print_matrix\n",
    "\n",
    "end program normalize\n",
    "```"
   ]
  },
  {
   "cell_type": "markdown",
   "id": "4c6b9985-c0cb-4602-8309-4e3369dd3226",
   "metadata": {},
   "source": [
    "The above program is compiled and run using Fortran Package Manager (fpm):"
   ]
  },
  {
   "cell_type": "markdown",
   "id": "c6f9ed20",
   "metadata": {},
   "source": [
    "## Build the Program using FPM (Fortran Package Manager)"
   ]
  },
  {
   "cell_type": "code",
   "execution_count": 1,
   "id": "e8ba1050-b7b1-4e9e-87bf-28791145e5e7",
   "metadata": {},
   "outputs": [],
   "source": [
    "import os\n",
    "root_dir = os.getcwd()"
   ]
  },
  {
   "cell_type": "code",
   "execution_count": 2,
   "id": "bdaf795d-554a-46e6-b4da-faeb331e1b13",
   "metadata": {},
   "outputs": [],
   "source": [
    "code_dir = root_dir + \"/\" + \"Fortran_Code/Section_Arrays_Normalize\""
   ]
  },
  {
   "cell_type": "code",
   "execution_count": 3,
   "id": "a7d9f1b1-ba0d-4db1-84ef-7a358f0453a6",
   "metadata": {},
   "outputs": [],
   "source": [
    "os.chdir(code_dir)"
   ]
  },
  {
   "cell_type": "code",
   "execution_count": 4,
   "id": "0fbd7621-e800-4235-ab30-80560cc3e1a8",
   "metadata": {},
   "outputs": [],
   "source": [
    "build_status = os.system(\"fpm build 2>/dev/null\")"
   ]
  },
  {
   "cell_type": "markdown",
   "id": "58b5102f",
   "metadata": {},
   "source": [
    "## Run the Program using FPM (Fortran Package Manager)"
   ]
  },
  {
   "cell_type": "code",
   "execution_count": 5,
   "id": "0483d40b-e849-4574-bcbe-003c81a96dd5",
   "metadata": {},
   "outputs": [
    {
     "name": "stdout",
     "output_type": "stream",
     "text": [
      "original:\n",
      "   0.9819122   0.5656663   0.0519671   0.6593946\n",
      "   0.4108865   0.3895287   0.9864829   0.4993061\n",
      "   0.1143754   0.7222470   0.3168408   0.5699719\n",
      "norm:   2.2589402   2.2862042   1.7234352\n",
      "   2.2589402   2.2589402   2.2589402   2.2589402\n",
      "   2.2862042   2.2862042   2.2862042   2.2862042\n",
      "   1.7234352   1.7234352   1.7234352   1.7234352\n",
      "row-normalized::\n",
      "   0.4346783   0.2504122   0.0230051   0.2919044\n",
      "   0.1797243   0.1703823   0.4314938   0.2183996\n",
      "   0.0663648   0.4190741   0.1838426   0.3307185\n",
      "norm:   1.0000000   1.0000000   1.0000000\n"
     ]
    }
   ],
   "source": [
    "exec_status = os.system(\"fpm run 2>/dev/null\")"
   ]
  },
  {
   "cell_type": "code",
   "execution_count": 6,
   "id": "6fd88fa7",
   "metadata": {},
   "outputs": [
    {
     "name": "stdout",
     "output_type": "stream",
     "text": [
      "original:\n",
      "   0.9050181   0.2726466   0.6853125   0.2627178\n",
      "   0.5990356   0.6849099   0.2024486   0.6401817\n",
      "   0.4520195   0.7993657   0.2001478   0.3209484\n",
      "norm:   2.1256949   2.1265758   1.7724815\n",
      "   2.1256949   2.1256949   2.1256949   2.1256949\n",
      "   2.1265758   2.1265758   2.1265758   2.1265758\n",
      "   1.7724815   1.7724815   1.7724815   1.7724815\n",
      "row-normalized::\n",
      "   0.4257516   0.1282623   0.3223946   0.1235915\n",
      "   0.2816902   0.3220717   0.0951993   0.3010388\n",
      "   0.2550207   0.4509868   0.1129195   0.1810729\n",
      "norm:   1.0000000   1.0000000   1.0000000\n"
     ]
    }
   ],
   "source": [
    "exec_status = os.system(\"fpm run 2>/dev/null\")"
   ]
  },
  {
   "cell_type": "code",
   "execution_count": 7,
   "id": "dbb1bec0",
   "metadata": {},
   "outputs": [
    {
     "name": "stdout",
     "output_type": "stream",
     "text": [
      "original:\n",
      "   0.5397559   0.6360928   0.7468544   0.9909061\n",
      "   0.2020675   0.2961180   0.5907776   0.1273281\n",
      "   0.7599353   0.6659968   0.0851879   0.3199028\n",
      "norm:   2.9136092   1.2162912   1.8310228\n",
      "   2.9136092   2.9136092   2.9136092   2.9136092\n",
      "   1.2162912   1.2162912   1.2162912   1.2162912\n",
      "   1.8310228   1.8310228   1.8310228   1.8310228\n",
      "row-normalized::\n",
      "   0.1852534   0.2183178   0.2563331   0.3400957\n",
      "   0.1661342   0.2434598   0.4857205   0.1046855\n",
      "   0.4150332   0.3637294   0.0465247   0.1747126\n",
      "norm:   1.0000000   1.0000000   1.0000000\n"
     ]
    }
   ],
   "source": [
    "exec_status = os.system(\"fpm run 2>/dev/null\")"
   ]
  }
 ],
 "metadata": {
  "kernelspec": {
   "display_name": "Python 3 (ipykernel)",
   "language": "python",
   "name": "python3"
  },
  "language_info": {
   "codemirror_mode": {
    "name": "ipython",
    "version": 3
   },
   "file_extension": ".py",
   "mimetype": "text/x-python",
   "name": "python",
   "nbconvert_exporter": "python",
   "pygments_lexer": "ipython3",
   "version": "3.9.15"
  },
  "vscode": {
   "interpreter": {
    "hash": "1c7edbfe09241e3ab70fdbaa9340a6c53382c0b8a91b6341e8f1e4440b6e3c70"
   }
  }
 },
 "nbformat": 4,
 "nbformat_minor": 5
}
