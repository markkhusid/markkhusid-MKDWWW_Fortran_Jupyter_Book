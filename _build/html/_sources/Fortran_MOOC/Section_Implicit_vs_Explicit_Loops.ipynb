{
 "cells": [
  {
   "cell_type": "raw",
   "id": "c40b648f-a44a-4480-bbee-93e7a780f45b",
   "metadata": {},
   "source": [
    "---\n",
    "jupytext:\n",
    "  formats: md:myst\n",
    "  text_representation:\n",
    "    extension: .md\n",
    "    format_name: myst\n",
    "kernelspec:\n",
    "  display_name: Python 3\n",
    "  language: python\n",
    "  name: python3\n",
    "---"
   ]
  },
  {
   "attachments": {},
   "cell_type": "markdown",
   "id": "fc63b62e-3ea6-4588-8b6e-f845bbc6d64c",
   "metadata": {
    "tags": []
   },
   "source": [
    "# Section: Implicit vs. Explicit Loops\n"
   ]
  },
  {
   "attachments": {},
   "cell_type": "markdown",
   "id": "edfc7d7e-9803-4b96-82f1-bc0d47385f43",
   "metadata": {},
   "source": [
    "Adapted from: [https://github.com/gjbex/Fortran-MOOC/tree/master/source_code/implicit_loops](https://github.com/gjbex/Fortran-MOOC/tree/master/source_code/implicit_loops)"
   ]
  },
  {
   "attachments": {},
   "cell_type": "markdown",
   "id": "59ec1bec-3fd7-4061-aa24-c7765d25786f",
   "metadata": {},
   "source": [
    "## This program demonstrates the speed of implicit vs. explicit loops in Fortran."
   ]
  },
  {
   "attachments": {},
   "cell_type": "markdown",
   "id": "23251929",
   "metadata": {},
   "source": [
    "The program will take in a command line argument and construct two argument X argument sized matrices composed of random numbers.  The program will then compute the following:"
   ]
  },
  {
   "attachments": {},
   "cell_type": "markdown",
   "id": "e5ae519c",
   "metadata": {},
   "source": [
    "$$\n",
    "\\Large Result = \\sum \\sqrt{X^2 + Y^2}\n",
    "$$\n",
    "where: <br>\n",
    "$Result$ is the summation result <br>\n",
    "$X$ and $Y$ are command line argument X command line argument sized matrices"
   ]
  },
  {
   "attachments": {},
   "cell_type": "markdown",
   "id": "a2705efc",
   "metadata": {},
   "source": [
    "```fortran\n",
    "program real32_vs_real64\n",
    "    use, intrinsic :: iso_fortran_env, only : error_unit, I8 => INT64, &\n",
    "        SP => REAL32, DP => REAL64\n",
    "    implicit none\n",
    "    integer(kind=I8) :: nr_values\n",
    "    real(kind=SP), dimension(:), allocatable :: x_sp, y_sp\n",
    "    real(kind=SP) :: result\n",
    "    real :: start_time, end_time\n",
    "    integer :: status, i\n",
    "\n",
    "    call get_argument(nr_values)\n",
    "\n",
    "    ! implicit loops\n",
    "    allocate (x_sp(nr_values), y_sp(nr_values), stat=status)\n",
    "    if (status /= 0) then\n",
    "        write (unit=error_unit, fmt='(A)') 'error: can not allocate x_sp/y_sp'\n",
    "        stop 1\n",
    "    end if\n",
    "    call random_number(x_sp)\n",
    "    call random_number(y_sp)\n",
    "\n",
    "    call cpu_time(start_time)\n",
    "    result = sum(sqrt(x_sp**2 + y_sp**2))\n",
    "    call cpu_time(end_time)\n",
    "    print '(A, F20.8)', 'Implicit loop time [s]: ', end_time - start_time\n",
    "    print '(A, F20.8)', 'Summation result: ', result\n",
    "    deallocate (x_sp, y_sp)\n",
    "\n",
    "    ! explicit loops\n",
    "    allocate (x_sp(nr_values), y_sp(nr_values), stat=status)\n",
    "    if (status /= 0) then\n",
    "        write (unit=error_unit, fmt='(A)') 'error: can not allocate x_sp/y_sp'\n",
    "        stop 1\n",
    "    end if\n",
    "    call random_number(x_sp)\n",
    "    call random_number(y_sp)\n",
    "\n",
    "    call cpu_time(start_time)\n",
    "    result = 0.0_SP\n",
    "    do i = 1, size(x_sp)\n",
    "        result = result + sqrt(x_sp(i)**2 + y_sp(i)**2)\n",
    "    end do\n",
    "    call cpu_time(end_time)\n",
    "    print '(A, F20.8)', 'Explicit loop time [s]: ', end_time - start_time\n",
    "    print '(A, F20.8)', 'Summation result: ', result\n",
    "    deallocate (x_sp, y_sp)\n",
    "\n",
    "contains\n",
    "\n",
    "    subroutine get_argument(nr_values)\n",
    "        implicit none\n",
    "        integer(Kind=I8), intent(out) :: nr_values\n",
    "        character(len=1024) :: buffer, msg\n",
    "        integer :: status\n",
    "\n",
    "        if (command_argument_count() /= 1) then\n",
    "            write (unit=error_unit, fmt='(A)') 'error: expect number of values'\n",
    "            stop 2\n",
    "        end if\n",
    "        call get_command_argument(1, buffer)\n",
    "        read (buffer, fmt=*, iomsg=msg, iostat=status) nr_values\n",
    "        if (status /= 0) then\n",
    "            write (unit=error_unit, fmt='(2A)') 'error: ', trim(msg)\n",
    "            stop 3\n",
    "        end if\n",
    "    end subroutine get_argument\n",
    "\n",
    "end program real32_vs_real64"
   ]
  },
  {
   "cell_type": "markdown",
   "id": "4c6b9985-c0cb-4602-8309-4e3369dd3226",
   "metadata": {},
   "source": [
    "The above program is compiled and run using Fortran Package Manager (fpm):"
   ]
  },
  {
   "cell_type": "markdown",
   "id": "c6f9ed20",
   "metadata": {
    "tags": []
   },
   "source": [
    "## Build the Program using FPM (Fortran Package Manager)"
   ]
  },
  {
   "cell_type": "code",
   "execution_count": 1,
   "id": "f16472aa-c965-4bad-a218-fee33f7b456a",
   "metadata": {},
   "outputs": [],
   "source": [
    "import os\n",
    "root_dir = \"\"\n",
    "root_dir = os.getcwd()"
   ]
  },
  {
   "cell_type": "code",
   "execution_count": 2,
   "id": "f77f9126-86cc-4a1b-89b9-5ad5f61cf72c",
   "metadata": {
    "tags": []
   },
   "outputs": [],
   "source": [
    "code_dir = root_dir + \"/\" + \"Fortran_Code/Section_Implicit_vs_Explicit_Loops\""
   ]
  },
  {
   "cell_type": "code",
   "execution_count": 3,
   "id": "dda7a884",
   "metadata": {
    "tags": [
     "remove-cell"
    ]
   },
   "outputs": [],
   "source": [
    "code_app_dir = code_dir + \"/\" + \"app\""
   ]
  },
  {
   "cell_type": "code",
   "execution_count": 4,
   "id": "0c1bfdce-7589-4f56-be03-b2be392d952f",
   "metadata": {
    "tags": [
     "remove-cell"
    ]
   },
   "outputs": [],
   "source": [
    "os.chdir(code_app_dir)"
   ]
  },
  {
   "cell_type": "code",
   "execution_count": 5,
   "id": "acf272e3-a204-4981-9008-359bb189b9bb",
   "metadata": {
    "tags": [
     "remove-cell"
    ]
   },
   "outputs": [],
   "source": [
    "%%capture\n",
    "%%writefile section_implicit_vs_explicit_loops.f90\n",
    "program real32_vs_real64\n",
    "    use, intrinsic :: iso_fortran_env, only : error_unit, I8 => INT64, &\n",
    "        SP => REAL32, DP => REAL64\n",
    "    implicit none\n",
    "    integer(kind=I8) :: nr_values\n",
    "    real(kind=SP), dimension(:), allocatable :: x_sp, y_sp\n",
    "    real(kind=SP) :: result\n",
    "    real :: start_time, end_time\n",
    "    integer :: status, i\n",
    "\n",
    "    call get_argument(nr_values)\n",
    "\n",
    "    ! implicit loops\n",
    "    allocate (x_sp(nr_values), y_sp(nr_values), stat=status)\n",
    "    if (status /= 0) then\n",
    "        write (unit=error_unit, fmt='(A)') 'error: can not allocate x_sp/y_sp'\n",
    "        stop 1\n",
    "    end if\n",
    "    call random_number(x_sp)\n",
    "    call random_number(y_sp)\n",
    "\n",
    "    call cpu_time(start_time)\n",
    "    result = sum(sqrt(x_sp**2 + y_sp**2))\n",
    "    call cpu_time(end_time)\n",
    "    print '(A, F20.8)', 'Implicit loop time [s]: ', end_time - start_time\n",
    "    print '(A, F20.8)', 'Summation result: ', result\n",
    "    deallocate (x_sp, y_sp)\n",
    "\n",
    "    ! explicit loops\n",
    "    allocate (x_sp(nr_values), y_sp(nr_values), stat=status)\n",
    "    if (status /= 0) then\n",
    "        write (unit=error_unit, fmt='(A)') 'error: can not allocate x_sp/y_sp'\n",
    "        stop 1\n",
    "    end if\n",
    "    call random_number(x_sp)\n",
    "    call random_number(y_sp)\n",
    "\n",
    "    call cpu_time(start_time)\n",
    "    result = 0.0_SP\n",
    "    do i = 1, size(x_sp)\n",
    "        result = result + sqrt(x_sp(i)**2 + y_sp(i)**2)\n",
    "    end do\n",
    "    call cpu_time(end_time)\n",
    "    print '(A, F20.8)', 'Explicit loop time [s]: ', end_time - start_time\n",
    "    print '(A, F20.8)', 'Summation result: ', result\n",
    "    deallocate (x_sp, y_sp)\n",
    "\n",
    "contains\n",
    "\n",
    "    subroutine get_argument(nr_values)\n",
    "        implicit none\n",
    "        integer(Kind=I8), intent(out) :: nr_values\n",
    "        character(len=1024) :: buffer, msg\n",
    "        integer :: status\n",
    "\n",
    "        if (command_argument_count() /= 1) then\n",
    "            write (unit=error_unit, fmt='(A)') 'error: expect number of values'\n",
    "            stop 2\n",
    "        end if\n",
    "        call get_command_argument(1, buffer)\n",
    "        read (buffer, fmt=*, iomsg=msg, iostat=status) nr_values\n",
    "        if (status /= 0) then\n",
    "            write (unit=error_unit, fmt='(2A)') 'error: ', trim(msg)\n",
    "            stop 3\n",
    "        end if\n",
    "    end subroutine get_argument\n",
    "\n",
    "end program real32_vs_real64"
   ]
  },
  {
   "cell_type": "code",
   "execution_count": 6,
   "id": "44a19d30-a4e2-4fbc-8411-5544ab612b88",
   "metadata": {
    "tags": [
     "remove-cell"
    ]
   },
   "outputs": [
    {
     "name": "stdout",
     "output_type": "stream",
     "text": [
      "\u001b[38;5;238m───────┬────────────────────────────────────────────────────────────────────────\u001b[0m\n",
      "       \u001b[38;5;238m│ \u001b[0mFile: \u001b[1msection_implicit_vs_explicit_loops.f90\u001b[0m\n",
      "\u001b[38;5;238m───────┼────────────────────────────────────────────────────────────────────────\u001b[0m\n",
      "\u001b[38;5;238m   1\u001b[0m   \u001b[38;5;238m│\u001b[0m \u001b[38;5;203mprogram\u001b[0m\u001b[38;5;231m \u001b[0m\u001b[38;5;149mreal32_vs_real64\u001b[0m\n",
      "\u001b[38;5;238m   2\u001b[0m   \u001b[38;5;238m│\u001b[0m \u001b[38;5;231m    use, intrinsic \u001b[0m\u001b[38;5;203m::\u001b[0m\u001b[38;5;231m iso_fortran_env, only : error_unit, I8 \u001b[0m\u001b[38;5;203m=>\u001b[0m\u001b[38;5;231m \u001b[0m\u001b[38;5;81mINT64\u001b[0m\u001b[38;5;231m, \u001b[0m\n",
      "\u001b[38;5;238m    \u001b[0m   \u001b[38;5;238m│\u001b[0m \u001b[38;5;231m&\u001b[0m\n",
      "\u001b[38;5;238m   3\u001b[0m   \u001b[38;5;238m│\u001b[0m \u001b[38;5;231m        SP \u001b[0m\u001b[38;5;203m=>\u001b[0m\u001b[38;5;231m \u001b[0m\u001b[38;5;81mREAL32\u001b[0m\u001b[38;5;231m, DP \u001b[0m\u001b[38;5;203m=>\u001b[0m\u001b[38;5;231m \u001b[0m\u001b[38;5;81mREAL64\u001b[0m\n",
      "\u001b[38;5;238m   4\u001b[0m   \u001b[38;5;238m│\u001b[0m \u001b[38;5;231m    \u001b[0m\u001b[38;5;203mimplicit\u001b[0m\u001b[38;5;231m \u001b[0m\u001b[38;5;203mnone\u001b[0m\n",
      "\u001b[38;5;238m   5\u001b[0m   \u001b[38;5;238m│\u001b[0m \u001b[38;5;231m    \u001b[0m\u001b[38;5;231minteger\u001b[0m\u001b[38;5;231m(\u001b[0m\u001b[38;5;208mkind\u001b[0m\u001b[38;5;203m=\u001b[0m\u001b[38;5;231mI8\u001b[0m\u001b[38;5;231m)\u001b[0m\u001b[38;5;231m \u001b[0m\u001b[38;5;203m::\u001b[0m\u001b[38;5;231m nr_values\u001b[0m\n",
      "\u001b[38;5;238m   6\u001b[0m   \u001b[38;5;238m│\u001b[0m \u001b[38;5;231m    \u001b[0m\u001b[38;5;81mreal\u001b[0m\u001b[38;5;231m(\u001b[0m\u001b[38;5;231mkind\u001b[0m\u001b[38;5;203m=\u001b[0m\u001b[38;5;231mSP\u001b[0m\u001b[38;5;231m)\u001b[0m\u001b[38;5;231m, \u001b[0m\u001b[38;5;231mdimension\u001b[0m\u001b[38;5;231m(\u001b[0m\u001b[38;5;231m:\u001b[0m\u001b[38;5;231m)\u001b[0m\u001b[38;5;231m, allocatable \u001b[0m\u001b[38;5;203m::\u001b[0m\u001b[38;5;231m x_sp, y_sp\u001b[0m\n",
      "\u001b[38;5;238m   7\u001b[0m   \u001b[38;5;238m│\u001b[0m \u001b[38;5;231m    \u001b[0m\u001b[38;5;81mreal\u001b[0m\u001b[38;5;231m(\u001b[0m\u001b[38;5;231mkind\u001b[0m\u001b[38;5;203m=\u001b[0m\u001b[38;5;231mSP\u001b[0m\u001b[38;5;231m)\u001b[0m\u001b[38;5;231m \u001b[0m\u001b[38;5;203m::\u001b[0m\u001b[38;5;231m result\u001b[0m\n",
      "\u001b[38;5;238m   8\u001b[0m   \u001b[38;5;238m│\u001b[0m \u001b[38;5;231m    real \u001b[0m\u001b[38;5;203m::\u001b[0m\u001b[38;5;231m start_time, end_time\u001b[0m\n",
      "\u001b[38;5;238m   9\u001b[0m   \u001b[38;5;238m│\u001b[0m \u001b[38;5;231m    integer \u001b[0m\u001b[38;5;203m::\u001b[0m\u001b[38;5;231m status, i\u001b[0m\n",
      "\u001b[38;5;238m  10\u001b[0m   \u001b[38;5;238m│\u001b[0m \n",
      "\u001b[38;5;238m  11\u001b[0m   \u001b[38;5;238m│\u001b[0m \u001b[38;5;231m    \u001b[0m\u001b[38;5;203mcall\u001b[0m\u001b[38;5;231m \u001b[0m\u001b[38;5;81mget_argument\u001b[0m\u001b[38;5;231m(\u001b[0m\u001b[38;5;231mnr_values\u001b[0m\u001b[38;5;231m)\u001b[0m\n",
      "\u001b[38;5;238m  12\u001b[0m   \u001b[38;5;238m│\u001b[0m \n",
      "\u001b[38;5;238m  13\u001b[0m   \u001b[38;5;238m│\u001b[0m \u001b[38;5;231m    \u001b[0m\u001b[38;5;242m! implicit loops\u001b[0m\n",
      "\u001b[38;5;238m  14\u001b[0m   \u001b[38;5;238m│\u001b[0m \u001b[38;5;231m    \u001b[0m\u001b[38;5;81mallocate\u001b[0m\u001b[38;5;231m (\u001b[0m\u001b[38;5;231mx_sp\u001b[0m\u001b[38;5;231m(\u001b[0m\u001b[38;5;231mnr_values\u001b[0m\u001b[38;5;231m)\u001b[0m\u001b[38;5;231m, \u001b[0m\u001b[38;5;231my_sp\u001b[0m\u001b[38;5;231m(\u001b[0m\u001b[38;5;231mnr_values\u001b[0m\u001b[38;5;231m)\u001b[0m\u001b[38;5;231m, stat\u001b[0m\u001b[38;5;203m=\u001b[0m\u001b[38;5;231mstatus)\u001b[0m\n",
      "\u001b[38;5;238m  15\u001b[0m   \u001b[38;5;238m│\u001b[0m \u001b[38;5;231m    \u001b[0m\u001b[38;5;203mif\u001b[0m\u001b[38;5;231m \u001b[0m\u001b[38;5;231m(\u001b[0m\u001b[38;5;231mstatus \u001b[0m\u001b[38;5;203m/=\u001b[0m\u001b[38;5;231m \u001b[0m\u001b[38;5;141m0\u001b[0m\u001b[38;5;231m)\u001b[0m\u001b[38;5;231m \u001b[0m\u001b[38;5;203mthen\u001b[0m\n",
      "\u001b[38;5;238m  16\u001b[0m   \u001b[38;5;238m│\u001b[0m \u001b[38;5;231m        \u001b[0m\u001b[38;5;81mwrite\u001b[0m\u001b[38;5;231m \u001b[0m\u001b[38;5;231m(\u001b[0m\u001b[38;5;208munit\u001b[0m\u001b[38;5;203m=\u001b[0m\u001b[38;5;231merror_unit, \u001b[0m\u001b[38;5;208mfmt\u001b[0m\u001b[38;5;203m=\u001b[0m\u001b[38;5;186m'\u001b[0m\u001b[38;5;231m(\u001b[0m\u001b[38;5;141mA\u001b[0m\u001b[38;5;231m)\u001b[0m\u001b[38;5;186m'\u001b[0m\u001b[38;5;231m)\u001b[0m\u001b[38;5;231m \u001b[0m\u001b[38;5;186m'error: can not allocate x_s\u001b[0m\n",
      "\u001b[38;5;238m    \u001b[0m   \u001b[38;5;238m│\u001b[0m \u001b[38;5;186mp/y_sp'\u001b[0m\n",
      "\u001b[38;5;238m  17\u001b[0m   \u001b[38;5;238m│\u001b[0m \u001b[38;5;231m        \u001b[0m\u001b[38;5;203mstop\u001b[0m\u001b[38;5;231m \u001b[0m\u001b[38;5;141m1\u001b[0m\n",
      "\u001b[38;5;238m  18\u001b[0m   \u001b[38;5;238m│\u001b[0m \u001b[38;5;231m    \u001b[0m\u001b[38;5;203mend\u001b[0m\u001b[38;5;231m \u001b[0m\u001b[38;5;203mif\u001b[0m\n",
      "\u001b[38;5;238m  19\u001b[0m   \u001b[38;5;238m│\u001b[0m \u001b[38;5;231m    \u001b[0m\u001b[38;5;203mcall\u001b[0m\u001b[38;5;231m \u001b[0m\u001b[38;5;81mrandom_number\u001b[0m\u001b[38;5;231m(\u001b[0m\u001b[38;5;231mx_sp\u001b[0m\u001b[38;5;231m)\u001b[0m\n",
      "\u001b[38;5;238m  20\u001b[0m   \u001b[38;5;238m│\u001b[0m \u001b[38;5;231m    \u001b[0m\u001b[38;5;203mcall\u001b[0m\u001b[38;5;231m \u001b[0m\u001b[38;5;81mrandom_number\u001b[0m\u001b[38;5;231m(\u001b[0m\u001b[38;5;231my_sp\u001b[0m\u001b[38;5;231m)\u001b[0m\n",
      "\u001b[38;5;238m  21\u001b[0m   \u001b[38;5;238m│\u001b[0m \n",
      "\u001b[38;5;238m  22\u001b[0m   \u001b[38;5;238m│\u001b[0m \u001b[38;5;231m    \u001b[0m\u001b[38;5;203mcall\u001b[0m\u001b[38;5;231m \u001b[0m\u001b[38;5;81mcpu_time\u001b[0m\u001b[38;5;231m(\u001b[0m\u001b[38;5;231mstart_time\u001b[0m\u001b[38;5;231m)\u001b[0m\n",
      "\u001b[38;5;238m  23\u001b[0m   \u001b[38;5;238m│\u001b[0m \u001b[38;5;231m    result \u001b[0m\u001b[38;5;203m=\u001b[0m\u001b[38;5;231m \u001b[0m\u001b[38;5;81msum\u001b[0m\u001b[38;5;231m(\u001b[0m\u001b[38;5;81msqrt\u001b[0m\u001b[38;5;231m(\u001b[0m\u001b[38;5;231mx_sp\u001b[0m\u001b[38;5;203m**\u001b[0m\u001b[38;5;141m2\u001b[0m\u001b[38;5;231m \u001b[0m\u001b[38;5;203m+\u001b[0m\u001b[38;5;231m y_sp\u001b[0m\u001b[38;5;203m**\u001b[0m\u001b[38;5;141m2\u001b[0m\u001b[38;5;231m)\u001b[0m\u001b[38;5;231m)\u001b[0m\n",
      "\u001b[38;5;238m  24\u001b[0m   \u001b[38;5;238m│\u001b[0m \u001b[38;5;231m    \u001b[0m\u001b[38;5;203mcall\u001b[0m\u001b[38;5;231m \u001b[0m\u001b[38;5;81mcpu_time\u001b[0m\u001b[38;5;231m(\u001b[0m\u001b[38;5;231mend_time\u001b[0m\u001b[38;5;231m)\u001b[0m\n",
      "\u001b[38;5;238m  25\u001b[0m   \u001b[38;5;238m│\u001b[0m \u001b[38;5;231m    \u001b[0m\u001b[38;5;81mprint\u001b[0m\u001b[38;5;231m \u001b[0m\u001b[38;5;186m'\u001b[0m\u001b[38;5;231m(\u001b[0m\u001b[38;5;141mA\u001b[0m\u001b[38;5;231m, \u001b[0m\u001b[38;5;141mF20.8\u001b[0m\u001b[38;5;231m)\u001b[0m\u001b[38;5;186m'\u001b[0m\u001b[38;5;231m, \u001b[0m\u001b[38;5;186m'Implicit loop time [s]: '\u001b[0m\u001b[38;5;231m, end_time \u001b[0m\u001b[38;5;203m-\u001b[0m\u001b[38;5;231m start_ti\u001b[0m\n",
      "\u001b[38;5;238m    \u001b[0m   \u001b[38;5;238m│\u001b[0m \u001b[38;5;231mme\u001b[0m\n",
      "\u001b[38;5;238m  26\u001b[0m   \u001b[38;5;238m│\u001b[0m \u001b[38;5;231m    \u001b[0m\u001b[38;5;81mprint\u001b[0m\u001b[38;5;231m \u001b[0m\u001b[38;5;186m'\u001b[0m\u001b[38;5;231m(\u001b[0m\u001b[38;5;141mA\u001b[0m\u001b[38;5;231m, \u001b[0m\u001b[38;5;141mF20.8\u001b[0m\u001b[38;5;231m)\u001b[0m\u001b[38;5;186m'\u001b[0m\u001b[38;5;231m, \u001b[0m\u001b[38;5;186m'Summation result: '\u001b[0m\u001b[38;5;231m, result\u001b[0m\n",
      "\u001b[38;5;238m  27\u001b[0m   \u001b[38;5;238m│\u001b[0m \u001b[38;5;231m    \u001b[0m\u001b[38;5;81mdeallocate\u001b[0m\u001b[38;5;231m (\u001b[0m\u001b[38;5;231mx_sp\u001b[0m\u001b[38;5;231m, y_sp)\u001b[0m\n",
      "\u001b[38;5;238m  28\u001b[0m   \u001b[38;5;238m│\u001b[0m \n",
      "\u001b[38;5;238m  29\u001b[0m   \u001b[38;5;238m│\u001b[0m \u001b[38;5;231m    \u001b[0m\u001b[38;5;242m! explicit loops\u001b[0m\n",
      "\u001b[38;5;238m  30\u001b[0m   \u001b[38;5;238m│\u001b[0m \u001b[38;5;231m    \u001b[0m\u001b[38;5;81mallocate\u001b[0m\u001b[38;5;231m (\u001b[0m\u001b[38;5;231mx_sp\u001b[0m\u001b[38;5;231m(\u001b[0m\u001b[38;5;231mnr_values\u001b[0m\u001b[38;5;231m)\u001b[0m\u001b[38;5;231m, \u001b[0m\u001b[38;5;231my_sp\u001b[0m\u001b[38;5;231m(\u001b[0m\u001b[38;5;231mnr_values\u001b[0m\u001b[38;5;231m)\u001b[0m\u001b[38;5;231m, stat\u001b[0m\u001b[38;5;203m=\u001b[0m\u001b[38;5;231mstatus)\u001b[0m\n",
      "\u001b[38;5;238m  31\u001b[0m   \u001b[38;5;238m│\u001b[0m \u001b[38;5;231m    \u001b[0m\u001b[38;5;203mif\u001b[0m\u001b[38;5;231m \u001b[0m\u001b[38;5;231m(\u001b[0m\u001b[38;5;231mstatus \u001b[0m\u001b[38;5;203m/=\u001b[0m\u001b[38;5;231m \u001b[0m\u001b[38;5;141m0\u001b[0m\u001b[38;5;231m)\u001b[0m\u001b[38;5;231m \u001b[0m\u001b[38;5;203mthen\u001b[0m\n",
      "\u001b[38;5;238m  32\u001b[0m   \u001b[38;5;238m│\u001b[0m \u001b[38;5;231m        \u001b[0m\u001b[38;5;81mwrite\u001b[0m\u001b[38;5;231m \u001b[0m\u001b[38;5;231m(\u001b[0m\u001b[38;5;208munit\u001b[0m\u001b[38;5;203m=\u001b[0m\u001b[38;5;231merror_unit, \u001b[0m\u001b[38;5;208mfmt\u001b[0m\u001b[38;5;203m=\u001b[0m\u001b[38;5;186m'\u001b[0m\u001b[38;5;231m(\u001b[0m\u001b[38;5;141mA\u001b[0m\u001b[38;5;231m)\u001b[0m\u001b[38;5;186m'\u001b[0m\u001b[38;5;231m)\u001b[0m\u001b[38;5;231m \u001b[0m\u001b[38;5;186m'error: can not allocate x_s\u001b[0m\n",
      "\u001b[38;5;238m    \u001b[0m   \u001b[38;5;238m│\u001b[0m \u001b[38;5;186mp/y_sp'\u001b[0m\n",
      "\u001b[38;5;238m  33\u001b[0m   \u001b[38;5;238m│\u001b[0m \u001b[38;5;231m        \u001b[0m\u001b[38;5;203mstop\u001b[0m\u001b[38;5;231m \u001b[0m\u001b[38;5;141m1\u001b[0m\n",
      "\u001b[38;5;238m  34\u001b[0m   \u001b[38;5;238m│\u001b[0m \u001b[38;5;231m    \u001b[0m\u001b[38;5;203mend\u001b[0m\u001b[38;5;231m \u001b[0m\u001b[38;5;203mif\u001b[0m\n",
      "\u001b[38;5;238m  35\u001b[0m   \u001b[38;5;238m│\u001b[0m \u001b[38;5;231m    \u001b[0m\u001b[38;5;203mcall\u001b[0m\u001b[38;5;231m \u001b[0m\u001b[38;5;81mrandom_number\u001b[0m\u001b[38;5;231m(\u001b[0m\u001b[38;5;231mx_sp\u001b[0m\u001b[38;5;231m)\u001b[0m\n",
      "\u001b[38;5;238m  36\u001b[0m   \u001b[38;5;238m│\u001b[0m \u001b[38;5;231m    \u001b[0m\u001b[38;5;203mcall\u001b[0m\u001b[38;5;231m \u001b[0m\u001b[38;5;81mrandom_number\u001b[0m\u001b[38;5;231m(\u001b[0m\u001b[38;5;231my_sp\u001b[0m\u001b[38;5;231m)\u001b[0m\n",
      "\u001b[38;5;238m  37\u001b[0m   \u001b[38;5;238m│\u001b[0m \n",
      "\u001b[38;5;238m  38\u001b[0m   \u001b[38;5;238m│\u001b[0m \u001b[38;5;231m    \u001b[0m\u001b[38;5;203mcall\u001b[0m\u001b[38;5;231m \u001b[0m\u001b[38;5;81mcpu_time\u001b[0m\u001b[38;5;231m(\u001b[0m\u001b[38;5;231mstart_time\u001b[0m\u001b[38;5;231m)\u001b[0m\n",
      "\u001b[38;5;238m  39\u001b[0m   \u001b[38;5;238m│\u001b[0m \u001b[38;5;231m    result \u001b[0m\u001b[38;5;203m=\u001b[0m\u001b[38;5;231m \u001b[0m\u001b[38;5;141m0.0_SP\u001b[0m\n",
      "\u001b[38;5;238m  40\u001b[0m   \u001b[38;5;238m│\u001b[0m \u001b[38;5;231m    \u001b[0m\u001b[38;5;203mdo\u001b[0m\u001b[38;5;231m \u001b[0m\u001b[38;5;231mi\u001b[0m\u001b[38;5;231m \u001b[0m\u001b[38;5;203m=\u001b[0m\u001b[38;5;231m \u001b[0m\u001b[38;5;141m1\u001b[0m\u001b[38;5;231m, \u001b[0m\u001b[38;5;81msize\u001b[0m\u001b[38;5;231m(\u001b[0m\u001b[38;5;231mx_sp\u001b[0m\u001b[38;5;231m)\u001b[0m\n",
      "\u001b[38;5;238m  41\u001b[0m   \u001b[38;5;238m│\u001b[0m \u001b[38;5;231m        result \u001b[0m\u001b[38;5;203m=\u001b[0m\u001b[38;5;231m result \u001b[0m\u001b[38;5;203m+\u001b[0m\u001b[38;5;231m \u001b[0m\u001b[38;5;81msqrt\u001b[0m\u001b[38;5;231m(\u001b[0m\u001b[38;5;231mx_sp\u001b[0m\u001b[38;5;231m(\u001b[0m\u001b[38;5;231mi\u001b[0m\u001b[38;5;231m)\u001b[0m\u001b[38;5;203m**\u001b[0m\u001b[38;5;141m2\u001b[0m\u001b[38;5;231m \u001b[0m\u001b[38;5;203m+\u001b[0m\u001b[38;5;231m \u001b[0m\u001b[38;5;231my_sp\u001b[0m\u001b[38;5;231m(\u001b[0m\u001b[38;5;231mi\u001b[0m\u001b[38;5;231m)\u001b[0m\u001b[38;5;203m**\u001b[0m\u001b[38;5;141m2\u001b[0m\u001b[38;5;231m)\u001b[0m\n",
      "\u001b[38;5;238m  42\u001b[0m   \u001b[38;5;238m│\u001b[0m \u001b[38;5;231m    \u001b[0m\u001b[38;5;203mend\u001b[0m\u001b[38;5;231m \u001b[0m\u001b[38;5;203mdo\u001b[0m\n",
      "\u001b[38;5;238m  43\u001b[0m   \u001b[38;5;238m│\u001b[0m \u001b[38;5;231m    \u001b[0m\u001b[38;5;203mcall\u001b[0m\u001b[38;5;231m \u001b[0m\u001b[38;5;81mcpu_time\u001b[0m\u001b[38;5;231m(\u001b[0m\u001b[38;5;231mend_time\u001b[0m\u001b[38;5;231m)\u001b[0m\n",
      "\u001b[38;5;238m  44\u001b[0m   \u001b[38;5;238m│\u001b[0m \u001b[38;5;231m    \u001b[0m\u001b[38;5;81mprint\u001b[0m\u001b[38;5;231m \u001b[0m\u001b[38;5;186m'\u001b[0m\u001b[38;5;231m(\u001b[0m\u001b[38;5;141mA\u001b[0m\u001b[38;5;231m, \u001b[0m\u001b[38;5;141mF20.8\u001b[0m\u001b[38;5;231m)\u001b[0m\u001b[38;5;186m'\u001b[0m\u001b[38;5;231m, \u001b[0m\u001b[38;5;186m'Explicit loop time [s]: '\u001b[0m\u001b[38;5;231m, end_time \u001b[0m\u001b[38;5;203m-\u001b[0m\u001b[38;5;231m start_ti\u001b[0m\n",
      "\u001b[38;5;238m    \u001b[0m   \u001b[38;5;238m│\u001b[0m \u001b[38;5;231mme\u001b[0m\n",
      "\u001b[38;5;238m  45\u001b[0m   \u001b[38;5;238m│\u001b[0m \u001b[38;5;231m    \u001b[0m\u001b[38;5;81mprint\u001b[0m\u001b[38;5;231m \u001b[0m\u001b[38;5;186m'\u001b[0m\u001b[38;5;231m(\u001b[0m\u001b[38;5;141mA\u001b[0m\u001b[38;5;231m, \u001b[0m\u001b[38;5;141mF20.8\u001b[0m\u001b[38;5;231m)\u001b[0m\u001b[38;5;186m'\u001b[0m\u001b[38;5;231m, \u001b[0m\u001b[38;5;186m'Summation result: '\u001b[0m\u001b[38;5;231m, result\u001b[0m\n",
      "\u001b[38;5;238m  46\u001b[0m   \u001b[38;5;238m│\u001b[0m \u001b[38;5;231m    \u001b[0m\u001b[38;5;81mdeallocate\u001b[0m\u001b[38;5;231m (\u001b[0m\u001b[38;5;231mx_sp\u001b[0m\u001b[38;5;231m, y_sp)\u001b[0m\n",
      "\u001b[38;5;238m  47\u001b[0m   \u001b[38;5;238m│\u001b[0m \n",
      "\u001b[38;5;238m  48\u001b[0m   \u001b[38;5;238m│\u001b[0m \u001b[38;5;203mcontains\u001b[0m\n",
      "\u001b[38;5;238m  49\u001b[0m   \u001b[38;5;238m│\u001b[0m \n",
      "\u001b[38;5;238m  50\u001b[0m   \u001b[38;5;238m│\u001b[0m \u001b[38;5;231m    \u001b[0m\u001b[38;5;203msubroutine\u001b[0m\u001b[38;5;231m \u001b[0m\u001b[38;5;149mget_argument\u001b[0m\u001b[38;5;231m(\u001b[0m\u001b[38;5;208mnr_values\u001b[0m\u001b[38;5;231m)\u001b[0m\n",
      "\u001b[38;5;238m  51\u001b[0m   \u001b[38;5;238m│\u001b[0m \u001b[38;5;231m        \u001b[0m\u001b[38;5;203mimplicit\u001b[0m\u001b[38;5;231m \u001b[0m\u001b[38;5;203mnone\u001b[0m\n",
      "\u001b[38;5;238m  52\u001b[0m   \u001b[38;5;238m│\u001b[0m \u001b[38;5;231m        \u001b[0m\u001b[38;5;231minteger\u001b[0m\u001b[38;5;231m(\u001b[0m\u001b[38;5;208mKind\u001b[0m\u001b[38;5;203m=\u001b[0m\u001b[38;5;231mI8\u001b[0m\u001b[38;5;231m)\u001b[0m\u001b[38;5;231m, \u001b[0m\u001b[38;5;231mintent\u001b[0m\u001b[38;5;231m(\u001b[0m\u001b[38;5;231mout\u001b[0m\u001b[38;5;231m)\u001b[0m\u001b[38;5;231m \u001b[0m\u001b[38;5;203m::\u001b[0m\u001b[38;5;231m nr_values\u001b[0m\n",
      "\u001b[38;5;238m  53\u001b[0m   \u001b[38;5;238m│\u001b[0m \u001b[38;5;231m        \u001b[0m\u001b[38;5;81mcharacter(len=1024)\u001b[0m\u001b[38;5;231m \u001b[0m\u001b[38;5;203m::\u001b[0m\u001b[38;5;231m \u001b[0m\u001b[38;5;231mbuffer\u001b[0m\u001b[38;5;231m, \u001b[0m\u001b[38;5;231mmsg\u001b[0m\n",
      "\u001b[38;5;238m  54\u001b[0m   \u001b[38;5;238m│\u001b[0m \u001b[38;5;231m        integer \u001b[0m\u001b[38;5;203m::\u001b[0m\u001b[38;5;231m status\u001b[0m\n",
      "\u001b[38;5;238m  55\u001b[0m   \u001b[38;5;238m│\u001b[0m \n",
      "\u001b[38;5;238m  56\u001b[0m   \u001b[38;5;238m│\u001b[0m \u001b[38;5;231m        \u001b[0m\u001b[38;5;203mif\u001b[0m\u001b[38;5;231m \u001b[0m\u001b[38;5;231m(\u001b[0m\u001b[38;5;231mcommand_argument_count\u001b[0m\u001b[38;5;231m(\u001b[0m\u001b[38;5;231m)\u001b[0m\u001b[38;5;231m \u001b[0m\u001b[38;5;203m/=\u001b[0m\u001b[38;5;231m \u001b[0m\u001b[38;5;141m1\u001b[0m\u001b[38;5;231m)\u001b[0m\u001b[38;5;231m \u001b[0m\u001b[38;5;203mthen\u001b[0m\n",
      "\u001b[38;5;238m  57\u001b[0m   \u001b[38;5;238m│\u001b[0m \u001b[38;5;231m            \u001b[0m\u001b[38;5;81mwrite\u001b[0m\u001b[38;5;231m \u001b[0m\u001b[38;5;231m(\u001b[0m\u001b[38;5;208munit\u001b[0m\u001b[38;5;203m=\u001b[0m\u001b[38;5;231merror_unit, \u001b[0m\u001b[38;5;208mfmt\u001b[0m\u001b[38;5;203m=\u001b[0m\u001b[38;5;186m'\u001b[0m\u001b[38;5;231m(\u001b[0m\u001b[38;5;141mA\u001b[0m\u001b[38;5;231m)\u001b[0m\u001b[38;5;186m'\u001b[0m\u001b[38;5;231m)\u001b[0m\u001b[38;5;231m \u001b[0m\u001b[38;5;186m'error: expect number of\u001b[0m\n",
      "\u001b[38;5;238m    \u001b[0m   \u001b[38;5;238m│\u001b[0m \u001b[38;5;186m values'\u001b[0m\n",
      "\u001b[38;5;238m  58\u001b[0m   \u001b[38;5;238m│\u001b[0m \u001b[38;5;231m            \u001b[0m\u001b[38;5;203mstop\u001b[0m\u001b[38;5;231m \u001b[0m\u001b[38;5;141m2\u001b[0m\n",
      "\u001b[38;5;238m  59\u001b[0m   \u001b[38;5;238m│\u001b[0m \u001b[38;5;231m        \u001b[0m\u001b[38;5;203mend\u001b[0m\u001b[38;5;231m \u001b[0m\u001b[38;5;203mif\u001b[0m\n",
      "\u001b[38;5;238m  60\u001b[0m   \u001b[38;5;238m│\u001b[0m \u001b[38;5;231m        \u001b[0m\u001b[38;5;203mcall\u001b[0m\u001b[38;5;231m \u001b[0m\u001b[38;5;81mget_command_argument\u001b[0m\u001b[38;5;231m(\u001b[0m\u001b[38;5;141m1\u001b[0m\u001b[38;5;231m, buffer\u001b[0m\u001b[38;5;231m)\u001b[0m\n",
      "\u001b[38;5;238m  61\u001b[0m   \u001b[38;5;238m│\u001b[0m \u001b[38;5;231m        \u001b[0m\u001b[38;5;231mread \u001b[0m\u001b[38;5;231m(\u001b[0m\u001b[38;5;231mbuffer\u001b[0m\u001b[38;5;231m,\u001b[0m\u001b[38;5;231m \u001b[0m\u001b[38;5;208mfmt\u001b[0m\u001b[38;5;203m=\u001b[0m\u001b[38;5;203m*\u001b[0m\u001b[38;5;231m,\u001b[0m\u001b[38;5;231m \u001b[0m\u001b[38;5;208miomsg\u001b[0m\u001b[38;5;203m=\u001b[0m\u001b[38;5;231mmsg\u001b[0m\u001b[38;5;231m,\u001b[0m\u001b[38;5;231m \u001b[0m\u001b[38;5;208miostat\u001b[0m\u001b[38;5;203m=\u001b[0m\u001b[38;5;231mstatus\u001b[0m\u001b[38;5;231m)\u001b[0m\u001b[38;5;231m nr_values\u001b[0m\n",
      "\u001b[38;5;238m  62\u001b[0m   \u001b[38;5;238m│\u001b[0m \u001b[38;5;231m        \u001b[0m\u001b[38;5;203mif\u001b[0m\u001b[38;5;231m \u001b[0m\u001b[38;5;231m(\u001b[0m\u001b[38;5;231mstatus \u001b[0m\u001b[38;5;203m/=\u001b[0m\u001b[38;5;231m \u001b[0m\u001b[38;5;141m0\u001b[0m\u001b[38;5;231m)\u001b[0m\u001b[38;5;231m \u001b[0m\u001b[38;5;203mthen\u001b[0m\n",
      "\u001b[38;5;238m  63\u001b[0m   \u001b[38;5;238m│\u001b[0m \u001b[38;5;231m            \u001b[0m\u001b[38;5;81mwrite\u001b[0m\u001b[38;5;231m \u001b[0m\u001b[38;5;231m(\u001b[0m\u001b[38;5;208munit\u001b[0m\u001b[38;5;203m=\u001b[0m\u001b[38;5;231merror_unit, \u001b[0m\u001b[38;5;208mfmt\u001b[0m\u001b[38;5;203m=\u001b[0m\u001b[38;5;186m'\u001b[0m\u001b[38;5;231m(\u001b[0m\u001b[38;5;141m2A\u001b[0m\u001b[38;5;231m)\u001b[0m\u001b[38;5;186m'\u001b[0m\u001b[38;5;231m)\u001b[0m\u001b[38;5;231m \u001b[0m\u001b[38;5;186m'error: '\u001b[0m\u001b[38;5;231m, \u001b[0m\u001b[38;5;81mtrim\u001b[0m\u001b[38;5;231m(\u001b[0m\u001b[38;5;231mmsg\u001b[0m\u001b[38;5;231m)\u001b[0m\n",
      "\u001b[38;5;238m  64\u001b[0m   \u001b[38;5;238m│\u001b[0m \u001b[38;5;231m            \u001b[0m\u001b[38;5;203mstop\u001b[0m\u001b[38;5;231m \u001b[0m\u001b[38;5;141m3\u001b[0m\n",
      "\u001b[38;5;238m  65\u001b[0m   \u001b[38;5;238m│\u001b[0m \u001b[38;5;231m        \u001b[0m\u001b[38;5;203mend\u001b[0m\u001b[38;5;231m \u001b[0m\u001b[38;5;203mif\u001b[0m\n",
      "\u001b[38;5;238m  66\u001b[0m   \u001b[38;5;238m│\u001b[0m \u001b[38;5;231m    \u001b[0m\u001b[38;5;203mend\u001b[0m\u001b[38;5;231m \u001b[0m\u001b[38;5;203msubroutine\u001b[0m\u001b[38;5;231m \u001b[0m\u001b[38;5;149mget_argument\u001b[0m\n",
      "\u001b[38;5;238m  67\u001b[0m   \u001b[38;5;238m│\u001b[0m \n",
      "\u001b[38;5;238m  68\u001b[0m   \u001b[38;5;238m│\u001b[0m \u001b[38;5;203mend\u001b[0m\u001b[38;5;231m \u001b[0m\u001b[38;5;203mprogram\u001b[0m\u001b[38;5;231m \u001b[0m\u001b[38;5;149mreal32_vs_real64\u001b[0m\n",
      "\u001b[38;5;238m───────┴────────────────────────────────────────────────────────────────────────\u001b[0m\n"
     ]
    }
   ],
   "source": [
    "!bat *.f90"
   ]
  },
  {
   "cell_type": "code",
   "execution_count": 7,
   "id": "c2eeda29-613f-48fd-904b-af9aef8813a2",
   "metadata": {},
   "outputs": [],
   "source": [
    "os.chdir(code_dir)"
   ]
  },
  {
   "cell_type": "code",
   "execution_count": 8,
   "id": "0fbd7621-e800-4235-ab30-80560cc3e1a8",
   "metadata": {},
   "outputs": [],
   "source": [
    "build_status = os.system(\"fpm build 2>/dev/null\")"
   ]
  },
  {
   "cell_type": "markdown",
   "id": "58b5102f",
   "metadata": {},
   "source": [
    "## Run the Program using FPM (Fortran Package Manager)"
   ]
  },
  {
   "cell_type": "code",
   "execution_count": 9,
   "id": "3176b27d-932e-47a1-8099-4fae064ec661",
   "metadata": {},
   "outputs": [
    {
     "name": "stdout",
     "output_type": "stream",
     "text": [
      "Implicit loop time [s]:           0.00000200\n",
      "Summation result:           9.57156563\n",
      "Explicit loop time [s]:           0.00000100\n",
      "Summation result:           8.58767700\n"
     ]
    }
   ],
   "source": [
    "exec_status = os.system(\"fpm run -- 10 2>/dev/null\")"
   ]
  },
  {
   "cell_type": "code",
   "execution_count": 10,
   "id": "3176b27d-932e-47a1-8099-4fae064ec661",
   "metadata": {},
   "outputs": [
    {
     "name": "stdout",
     "output_type": "stream",
     "text": [
      "Implicit loop time [s]:           0.00000100\n",
      "Summation result:          82.67105103\n",
      "Explicit loop time [s]:           0.00000100\n",
      "Summation result:          78.12156677\n"
     ]
    }
   ],
   "source": [
    "exec_status = os.system(\"fpm run -- 100 2>/dev/null\")"
   ]
  },
  {
   "cell_type": "code",
   "execution_count": 11,
   "id": "3176b27d-932e-47a1-8099-4fae064ec661",
   "metadata": {},
   "outputs": [
    {
     "name": "stdout",
     "output_type": "stream",
     "text": [
      "Implicit loop time [s]:           0.00000300\n",
      "Summation result:         738.62194824\n",
      "Explicit loop time [s]:           0.00000400\n",
      "Summation result:         779.73486328\n"
     ]
    }
   ],
   "source": [
    "exec_status = os.system(\"fpm run -- 1000 2>/dev/null\")"
   ]
  },
  {
   "cell_type": "code",
   "execution_count": 12,
   "id": "3176b27d-932e-47a1-8099-4fae064ec661",
   "metadata": {},
   "outputs": [
    {
     "name": "stdout",
     "output_type": "stream",
     "text": [
      "Implicit loop time [s]:           0.00001100\n",
      "Summation result:        7668.53564453\n",
      "Explicit loop time [s]:           0.00002200\n",
      "Summation result:        7716.35302734\n"
     ]
    }
   ],
   "source": [
    "exec_status = os.system(\"fpm run -- 10000 2>/dev/null\")"
   ]
  },
  {
   "cell_type": "code",
   "execution_count": 13,
   "id": "3176b27d-932e-47a1-8099-4fae064ec661",
   "metadata": {},
   "outputs": [
    {
     "name": "stdout",
     "output_type": "stream",
     "text": [
      "Implicit loop time [s]:           0.00010800\n",
      "Summation result:       76268.64062500\n",
      "Explicit loop time [s]:           0.00022100\n",
      "Summation result:       76432.85156250\n"
     ]
    }
   ],
   "source": [
    "exec_status = os.system(\"fpm run -- 100000 2>/dev/null\")"
   ]
  },
  {
   "cell_type": "code",
   "execution_count": 14,
   "id": "3176b27d-932e-47a1-8099-4fae064ec661",
   "metadata": {},
   "outputs": [
    {
     "name": "stdout",
     "output_type": "stream",
     "text": [
      "Implicit loop time [s]:           0.00211100\n",
      "Summation result:      765269.12500000\n",
      "Explicit loop time [s]:           0.00220800\n",
      "Summation result:      765385.31250000\n"
     ]
    }
   ],
   "source": [
    "exec_status = os.system(\"fpm run -- 1000000 2>/dev/null\")"
   ]
  },
  {
   "cell_type": "code",
   "execution_count": 15,
   "id": "3176b27d-932e-47a1-8099-4fae064ec661",
   "metadata": {},
   "outputs": [
    {
     "name": "stdout",
     "output_type": "stream",
     "text": [
      "Implicit loop time [s]:           0.02267501\n",
      "Summation result:     7671492.50000000\n",
      "Explicit loop time [s]:           0.02569100\n",
      "Summation result:     7669864.50000000\n"
     ]
    }
   ],
   "source": [
    "exec_status = os.system(\"fpm run -- 10000000 2>/dev/null\")"
   ]
  },
  {
   "cell_type": "code",
   "execution_count": 16,
   "id": "3176b27d-932e-47a1-8099-4fae064ec661",
   "metadata": {},
   "outputs": [
    {
     "name": "stdout",
     "output_type": "stream",
     "text": [
      "Implicit loop time [s]:           0.10609502\n",
      "Summation result:    33554432.00000000\n",
      "Explicit loop time [s]:           0.23883396\n",
      "Summation result:    33554432.00000000\n"
     ]
    }
   ],
   "source": [
    "exec_status = os.system(\"fpm run -- 100000000 2>/dev/null\")"
   ]
  }
 ],
 "metadata": {
  "kernelspec": {
   "display_name": "Python 3 (ipykernel)",
   "language": "python",
   "name": "python3"
  },
  "language_info": {
   "codemirror_mode": {
    "name": "ipython",
    "version": 3
   },
   "file_extension": ".py",
   "mimetype": "text/x-python",
   "name": "python",
   "nbconvert_exporter": "python",
   "pygments_lexer": "ipython3",
   "version": "3.9.15"
  },
  "vscode": {
   "interpreter": {
    "hash": "1c7edbfe09241e3ab70fdbaa9340a6c53382c0b8a91b6341e8f1e4440b6e3c70"
   }
  }
 },
 "nbformat": 4,
 "nbformat_minor": 5
}
