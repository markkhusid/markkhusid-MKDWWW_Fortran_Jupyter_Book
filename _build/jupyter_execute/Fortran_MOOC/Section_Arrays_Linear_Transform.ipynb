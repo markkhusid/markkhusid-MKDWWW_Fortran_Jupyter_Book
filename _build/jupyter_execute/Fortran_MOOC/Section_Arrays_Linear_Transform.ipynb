{
 "cells": [
  {
   "cell_type": "raw",
   "id": "c40b648f-a44a-4480-bbee-93e7a780f45b",
   "metadata": {},
   "source": [
    "---\n",
    "jupytext:\n",
    "  formats: md:myst\n",
    "  text_representation:\n",
    "    extension: .md\n",
    "    format_name: myst\n",
    "kernelspec:\n",
    "  display_name: Python 3\n",
    "  language: python\n",
    "  name: python3\n",
    "---"
   ]
  },
  {
   "cell_type": "markdown",
   "id": "fc63b62e-3ea6-4588-8b6e-f845bbc6d64c",
   "metadata": {
    "tags": []
   },
   "source": [
    "# Section Arrays: Linear Transform\n"
   ]
  },
  {
   "cell_type": "markdown",
   "id": "edfc7d7e-9803-4b96-82f1-bc0d47385f43",
   "metadata": {},
   "source": [
    "Adapted from: [https://github.com/gjbex/Fortran-MOOC/tree/master/source_code/arrays](https://github.com/gjbex/Fortran-MOOC/tree/master/source_code/arrays)"
   ]
  },
  {
   "cell_type": "markdown",
   "id": "59ec1bec-3fd7-4061-aa24-c7765d25786f",
   "metadata": {},
   "source": [
    "## This program demonstrates an elemental function with multiple arguments in Fortran."
   ]
  },
  {
   "cell_type": "markdown",
   "id": "c36821c7-3b26-404c-8a7c-2f978dfb65d4",
   "metadata": {},
   "source": [
    "```fortran\n",
    "program linear_transform\n",
    "  implicit none\n",
    "  real, dimension(5) :: values\n",
    "  real, dimension(2) :: a = [ 1.1, 2.2 ], &\n",
    "                        x = [ 0.5, 2.0 ], &\n",
    "                        b = [ -1.2, 2.5 ]\n",
    "  integer :: i\n",
    "\n",
    "  call random_number(values)\n",
    "  print *, \"The contents of the valus array is:\"\n",
    "  print *, values\n",
    "  print *, \"lin_transform(values, 2.0, 1.0) = \"\n",
    "  print *, lin_transform(values, 2.0, 1.0)\n",
    "  print *, \"lin_transform(x, a, b) = \"\n",
    "  print *, lin_transform(x, a, b)\n",
    "\n",
    "contains\n",
    "\n",
    "  elemental real function lin_transform(x, a, b)\n",
    "      implicit none\n",
    "      real, intent(in) :: x, a, b\n",
    "\n",
    "      lin_transform = a*x + b\n",
    "  end function lin_transform\n",
    "\n",
    "end program linear_transform\n",
    "```"
   ]
  },
  {
   "cell_type": "markdown",
   "id": "4c6b9985-c0cb-4602-8309-4e3369dd3226",
   "metadata": {},
   "source": [
    "The above program is compiled and run using Fortran Package Manager (fpm):"
   ]
  },
  {
   "cell_type": "markdown",
   "id": "c6f9ed20",
   "metadata": {},
   "source": [
    "## Build the Program using FPM (Fortran Package Manager)"
   ]
  },
  {
   "cell_type": "code",
   "execution_count": 1,
   "id": "e8ba1050-b7b1-4e9e-87bf-28791145e5e7",
   "metadata": {},
   "outputs": [],
   "source": [
    "import os\n",
    "root_dir = os.getcwd()"
   ]
  },
  {
   "cell_type": "code",
   "execution_count": 2,
   "id": "bdaf795d-554a-46e6-b4da-faeb331e1b13",
   "metadata": {},
   "outputs": [],
   "source": [
    "code_dir = root_dir + \"/\" + \"Fortran_Code/Section_Arrays_Linear_Transform\""
   ]
  },
  {
   "cell_type": "code",
   "execution_count": 3,
   "id": "a7d9f1b1-ba0d-4db1-84ef-7a358f0453a6",
   "metadata": {},
   "outputs": [],
   "source": [
    "os.chdir(code_dir)"
   ]
  },
  {
   "cell_type": "code",
   "execution_count": 4,
   "id": "0fbd7621-e800-4235-ab30-80560cc3e1a8",
   "metadata": {},
   "outputs": [],
   "source": [
    "build_status = os.system(\"fpm build 2>/dev/null\")"
   ]
  },
  {
   "cell_type": "markdown",
   "id": "58b5102f",
   "metadata": {},
   "source": [
    "## Run the Program using FPM (Fortran Package Manager)"
   ]
  },
  {
   "cell_type": "code",
   "execution_count": 5,
   "id": "0483d40b-e849-4574-bcbe-003c81a96dd5",
   "metadata": {},
   "outputs": [
    {
     "name": "stdout",
     "output_type": "stream",
     "text": [
      " The contents of the valus array is:\n",
      "   9.48168039E-02  0.601557076      0.601342320      0.798384786      0.542778850    \n",
      " lin_transform(values, 2.0, 1.0) = \n",
      "   1.18963361       2.20311403       2.20268464       2.59676957       2.08555770    \n",
      " lin_transform(x, a, b) = \n",
      " -0.650000036       6.90000010    \n"
     ]
    }
   ],
   "source": [
    "exec_status = os.system(\"fpm run 2>/dev/null\")"
   ]
  },
  {
   "cell_type": "code",
   "execution_count": 6,
   "id": "004eb774",
   "metadata": {},
   "outputs": [
    {
     "name": "stdout",
     "output_type": "stream",
     "text": [
      " The contents of the valus array is:\n",
      "  0.447522521      0.997614801       4.34793234E-02  0.816174686      0.399242163    \n",
      " lin_transform(values, 2.0, 1.0) = \n",
      "   1.89504504       2.99522972       1.08695865       2.63234949       1.79848433    \n",
      " lin_transform(x, a, b) = \n",
      " -0.650000036       6.90000010    \n"
     ]
    }
   ],
   "source": [
    "exec_status = os.system(\"fpm run 2>/dev/null\")"
   ]
  }
 ],
 "metadata": {
  "kernelspec": {
   "display_name": "Python 3.9.15 ('base')",
   "language": "python",
   "name": "python3"
  },
  "language_info": {
   "codemirror_mode": {
    "name": "ipython",
    "version": 3
   },
   "file_extension": ".py",
   "mimetype": "text/x-python",
   "name": "python",
   "nbconvert_exporter": "python",
   "pygments_lexer": "ipython3",
   "version": "3.10.14"
  },
  "vscode": {
   "interpreter": {
    "hash": "1c7edbfe09241e3ab70fdbaa9340a6c53382c0b8a91b6341e8f1e4440b6e3c70"
   }
  }
 },
 "nbformat": 4,
 "nbformat_minor": 5
}