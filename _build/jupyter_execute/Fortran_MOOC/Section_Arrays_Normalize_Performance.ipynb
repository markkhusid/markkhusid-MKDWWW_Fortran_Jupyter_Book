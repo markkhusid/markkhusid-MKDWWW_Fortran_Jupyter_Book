{
 "cells": [
  {
   "cell_type": "raw",
   "id": "c40b648f-a44a-4480-bbee-93e7a780f45b",
   "metadata": {},
   "source": [
    "---\n",
    "jupytext:\n",
    "  formats: md:myst\n",
    "  text_representation:\n",
    "    extension: .md\n",
    "    format_name: myst\n",
    "kernelspec:\n",
    "  display_name: Python 3\n",
    "  language: python\n",
    "  name: python3\n",
    "---"
   ]
  },
  {
   "cell_type": "markdown",
   "id": "fc63b62e-3ea6-4588-8b6e-f845bbc6d64c",
   "metadata": {
    "tags": []
   },
   "source": [
    "# Section Arrays: Normalize Performance\n"
   ]
  },
  {
   "cell_type": "markdown",
   "id": "edfc7d7e-9803-4b96-82f1-bc0d47385f43",
   "metadata": {},
   "source": [
    "Adapted from: [https://github.com/gjbex/Fortran-MOOC/tree/master/source_code/arrays](https://github.com/gjbex/Fortran-MOOC/tree/master/source_code/arrays)"
   ]
  },
  {
   "cell_type": "markdown",
   "id": "59ec1bec-3fd7-4061-aa24-c7765d25786f",
   "metadata": {},
   "source": [
    "## This program tests the performance of various methods of performing matrix normalization in Fortran."
   ]
  },
  {
   "cell_type": "markdown",
   "id": "c36821c7-3b26-404c-8a7c-2f978dfb65d4",
   "metadata": {},
   "source": [
    "```fortran\n",
    "program normalize_performance\n",
    "    use, intrinsic :: iso_fortran_env, only : error_unit, DP => REAL64\n",
    "    implicit none\n",
    "    integer :: matrix_size\n",
    "    real(kind=DP), dimension(:, :), allocatable :: matrix\n",
    "    real(kind=DP) :: row_norm\n",
    "    integer :: row, col, istat\n",
    "    real :: start_time, end_time\n",
    "\n",
    "    call get_arguments(matrix_size)\n",
    "    allocate (matrix(matrix_size, matrix_size), stat=istat)\n",
    "\n",
    "    ! reinitialize the matrix to avoid cache effects\n",
    "    call random_number(matrix)\n",
    "    call cpu_time(start_time)\n",
    "    do row = 1, size(matrix, 1)\n",
    "        matrix(row, :) = matrix(row, :)/sum(matrix(row, :))\n",
    "    end do\n",
    "    call cpu_time(end_time)\n",
    "    print '(A, F10.6)', 'row-wise norm: ', end_time - start_time\n",
    "    if (.not. is_normed(matrix, abs_tol=1e-4_DP)) then\n",
    "        write (unit=error_unit, fmt='(A)') 'error: array is not normalized (row-wise)'\n",
    "    end if\n",
    "\n",
    "    ! reinitialize the matrix to avoid cache effects\n",
    "    call random_number(matrix)\n",
    "    call cpu_time(start_time)\n",
    "    do concurrent (row = 1:size(matrix, 1))\n",
    "        row_norm = 1.0_DP/sum(matrix(row, :))\n",
    "        do concurrent (col = 1:size(matrix, 2))\n",
    "            matrix(row, col) = matrix(row, col)*row_norm\n",
    "        end do\n",
    "    end do\n",
    "    call cpu_time(end_time)\n",
    "    print '(A, F10.6)', 'do concurrent row-wise norm: ', end_time - start_time\n",
    "    if (.not. is_normed(matrix, abs_tol=1e-4_DP)) then\n",
    "        write (unit=error_unit, fmt='(A)') 'error: array is not normalized (row-wise)'\n",
    "    end if\n",
    "\n",
    "    ! initialize the matrix\n",
    "    call random_number(matrix)\n",
    "    call cpu_time(start_time)\n",
    "    matrix = matrix/spread(sum(matrix, dim=2), 2, size(matrix, 2))\n",
    "    call cpu_time(end_time)\n",
    "    print '(A, F10.6)', 'norm using spread: ', end_time - start_time\n",
    "    if (.not. is_normed(matrix, abs_tol=1e-4_DP)) then\n",
    "        write (unit=error_unit, fmt='(A)') 'error: array is not normalized (spread)'\n",
    "    end if\n",
    "\n",
    "    deallocate (matrix)\n",
    "\n",
    "contains\n",
    "\n",
    "    subroutine get_arguments(matrix_size)\n",
    "        implicit none\n",
    "        integer, intent(out) :: matrix_size\n",
    "        character(len=1024) :: buffer, msg\n",
    "        integer :: istat\n",
    "\n",
    "        if (command_argument_count() /= 1) then\n",
    "            write (unit=error_unit, fmt='(A)') 'error: expect matrix size as argument'\n",
    "            stop 1\n",
    "        end if\n",
    "        call get_command_argument(1, buffer)\n",
    "        read (buffer, fmt=*, iostat=istat, iomsg=msg) matrix_size\n",
    "        if (istat /= 0) then\n",
    "            write (unit=error_unit, fmt='(2A)') 'error: ', trim(msg)\n",
    "            stop 2\n",
    "        end if\n",
    "    end subroutine get_arguments\n",
    "\n",
    "    function is_normed(matrix, abs_tol) result(is_okay)\n",
    "        implicit none\n",
    "        real(kind=DP), dimension(:, :), intent(in) :: matrix\n",
    "        real(kind=DP), value :: abs_tol\n",
    "        logical :: is_okay\n",
    "        \n",
    "        is_okay = all(sum(matrix, dim=2) - 1.0_DP < abs_tol)\n",
    "    end function is_normed\n",
    "\n",
    "end program normalize_performance\n",
    "```"
   ]
  },
  {
   "cell_type": "markdown",
   "id": "4c6b9985-c0cb-4602-8309-4e3369dd3226",
   "metadata": {},
   "source": [
    "The above program is compiled and run using Fortran Package Manager (fpm):"
   ]
  },
  {
   "cell_type": "markdown",
   "id": "c6f9ed20",
   "metadata": {},
   "source": [
    "## Build the Program using FPM (Fortran Package Manager)"
   ]
  },
  {
   "cell_type": "code",
   "execution_count": 1,
   "id": "e8ba1050-b7b1-4e9e-87bf-28791145e5e7",
   "metadata": {},
   "outputs": [],
   "source": [
    "import os\n",
    "root_dir = os.getcwd()"
   ]
  },
  {
   "cell_type": "code",
   "execution_count": 2,
   "id": "bdaf795d-554a-46e6-b4da-faeb331e1b13",
   "metadata": {},
   "outputs": [],
   "source": [
    "code_dir = root_dir + \"/\" + \"Fortran_Code/Section_Arrays_Normalize_Performance\""
   ]
  },
  {
   "cell_type": "code",
   "execution_count": 3,
   "id": "a7d9f1b1-ba0d-4db1-84ef-7a358f0453a6",
   "metadata": {},
   "outputs": [],
   "source": [
    "os.chdir(code_dir)"
   ]
  },
  {
   "cell_type": "code",
   "execution_count": 4,
   "id": "0fbd7621-e800-4235-ab30-80560cc3e1a8",
   "metadata": {},
   "outputs": [],
   "source": [
    "build_status = os.system(\"fpm build 2>/dev/null\")"
   ]
  },
  {
   "cell_type": "markdown",
   "id": "58b5102f",
   "metadata": {},
   "source": [
    "## Run the Program using FPM (Fortran Package Manager)"
   ]
  },
  {
   "cell_type": "code",
   "execution_count": 5,
   "id": "0483d40b-e849-4574-bcbe-003c81a96dd5",
   "metadata": {},
   "outputs": [
    {
     "name": "stdout",
     "output_type": "stream",
     "text": [
      "row-wise norm:   0.000001\n",
      "do concurrent row-wise norm:   0.000001\n",
      "norm using spread:   0.000005\n"
     ]
    }
   ],
   "source": [
    "exec_status = os.system(\"fpm run -- 10 2>/dev/null\")"
   ]
  },
  {
   "cell_type": "code",
   "execution_count": 6,
   "id": "6fd88fa7",
   "metadata": {},
   "outputs": [
    {
     "name": "stdout",
     "output_type": "stream",
     "text": [
      "row-wise norm:   0.000021\n",
      "do concurrent row-wise norm:   0.000033\n",
      "norm using spread:   0.000085\n"
     ]
    }
   ],
   "source": [
    "exec_status = os.system(\"fpm run -- 100 2>/dev/null\")"
   ]
  },
  {
   "cell_type": "code",
   "execution_count": 7,
   "id": "dbb1bec0",
   "metadata": {},
   "outputs": [
    {
     "name": "stdout",
     "output_type": "stream",
     "text": [
      "row-wise norm:   0.002361\n",
      "do concurrent row-wise norm:   0.003896\n",
      "norm using spread:   0.025514\n"
     ]
    }
   ],
   "source": [
    "exec_status = os.system(\"fpm run -- 1000 2>/dev/null\")"
   ]
  },
  {
   "cell_type": "code",
   "execution_count": 8,
   "id": "5b82b1da",
   "metadata": {},
   "outputs": [
    {
     "name": "stdout",
     "output_type": "stream",
     "text": [
      "row-wise norm:   1.901948\n"
     ]
    },
    {
     "name": "stdout",
     "output_type": "stream",
     "text": [
      "do concurrent row-wise norm:   1.772659\n"
     ]
    },
    {
     "name": "stdout",
     "output_type": "stream",
     "text": [
      "norm using spread:   2.152677\n"
     ]
    }
   ],
   "source": [
    "exec_status = os.system(\"fpm run -- 10000 2>/dev/null\")"
   ]
  }
 ],
 "metadata": {
  "kernelspec": {
   "display_name": "Python 3 (ipykernel)",
   "language": "python",
   "name": "python3"
  },
  "language_info": {
   "codemirror_mode": {
    "name": "ipython",
    "version": 3
   },
   "file_extension": ".py",
   "mimetype": "text/x-python",
   "name": "python",
   "nbconvert_exporter": "python",
   "pygments_lexer": "ipython3",
   "version": "3.10.14"
  },
  "vscode": {
   "interpreter": {
    "hash": "1c7edbfe09241e3ab70fdbaa9340a6c53382c0b8a91b6341e8f1e4440b6e3c70"
   }
  }
 },
 "nbformat": 4,
 "nbformat_minor": 5
}