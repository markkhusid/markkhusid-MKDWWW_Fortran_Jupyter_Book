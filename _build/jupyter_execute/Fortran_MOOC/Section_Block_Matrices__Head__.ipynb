{
 "cells": [
  {
   "cell_type": "raw",
   "id": "da69630d-57d9-48af-a290-4455f068216d",
   "metadata": {},
   "source": [
    "---\n",
    "jupytext:\n",
    "  formats: md:myst\n",
    "  text_representation:\n",
    "    extension: .md\n",
    "    format_name: myst\n",
    "kernelspec:\n",
    "  display_name: Python 3\n",
    "  language: python\n",
    "  name: python3\n",
    "---"
   ]
  },
  {
   "attachments": {},
   "cell_type": "markdown",
   "id": "29b3d245-0fe5-48e2-b541-9f88191c3848",
   "metadata": {},
   "source": [
    "# Section: Block Matrices"
   ]
  },
  {
   "cell_type": "markdown",
   "id": "abe9d740-1196-4fe9-ad37-5357cd042142",
   "metadata": {
    "tags": []
   },
   "source": [
    "In this section we will be following along with the examples from \"Fortran for scientific programming\", a [MOOC that is hosted by FutureLearn](https://www.futurelearn.com/courses/fortran-for-scientific-computing).  Course material can be found on Github [here](https://github.com/gjbex/Fortran-MOOC) . We will use Jupyter Lab with the Fortran Package Manager (fpm) to facilitate creation of this Jupyter Book."
   ]
  },
  {
   "attachments": {},
   "cell_type": "markdown",
   "id": "3d8fffd3",
   "metadata": {},
   "source": [
    "```{tableofcontents}\n",
    "```"
   ]
  }
 ],
 "metadata": {
  "kernelspec": {
   "display_name": "Python 3 (ipykernel)",
   "language": "python",
   "name": "python3"
  },
  "language_info": {
   "codemirror_mode": {
    "name": "ipython",
    "version": 3
   },
   "file_extension": ".py",
   "mimetype": "text/x-python",
   "name": "python",
   "nbconvert_exporter": "python",
   "pygments_lexer": "ipython3",
   "version": "3.10.14"
  },
  "vscode": {
   "interpreter": {
    "hash": "916dbcbb3f70747c44a77c7bcd40155683ae19c65e1c03b4aa3499c5328201f1"
   }
  }
 },
 "nbformat": 4,
 "nbformat_minor": 5
}