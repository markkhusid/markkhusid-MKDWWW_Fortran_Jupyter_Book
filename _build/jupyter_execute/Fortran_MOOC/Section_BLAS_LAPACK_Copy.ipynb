{
 "cells": [
  {
   "cell_type": "raw",
   "id": "c40b648f-a44a-4480-bbee-93e7a780f45b",
   "metadata": {},
   "source": [
    "---\n",
    "jupytext:\n",
    "  formats: md:myst\n",
    "  text_representation:\n",
    "    extension: .md\n",
    "    format_name: myst\n",
    "kernelspec:\n",
    "  display_name: Python 3\n",
    "  language: python\n",
    "  name: python3\n",
    "---"
   ]
  },
  {
   "attachments": {},
   "cell_type": "markdown",
   "id": "fc63b62e-3ea6-4588-8b6e-f845bbc6d64c",
   "metadata": {
    "tags": []
   },
   "source": [
    "# Section: BLAS/LAPACK - Vector Copy\n"
   ]
  },
  {
   "attachments": {},
   "cell_type": "markdown",
   "id": "edfc7d7e-9803-4b96-82f1-bc0d47385f43",
   "metadata": {},
   "source": [
    "Adapted from: [https://github.com/gjbex/Fortran-MOOC/tree/master/source_code/blas_lapack](https://github.com/gjbex/Fortran-MOOC/tree/master/source_code/blas_lapack)"
   ]
  },
  {
   "attachments": {},
   "cell_type": "markdown",
   "id": "59ec1bec-3fd7-4061-aa24-c7765d25786f",
   "metadata": {},
   "source": [
    "## This program demonstrates copying vectors using BLAS/LAPACK in Fortran."
   ]
  },
  {
   "cell_type": "markdown",
   "id": "249ddd48-685c-4dc4-8fbe-8f3c61de2a41",
   "metadata": {},
   "source": [
    "The Fortran program `copy_test` demonstrates the usage of the `scopy` subroutine, which is typically from the BLAS (Basic Linear Algebra Subprograms) library. The subroutine is used for copying and optionally scaling elements from one vector to another. Here's a step-by-step explanation of what each part of the program does:\n",
    "\n",
    "### Initialization and Vector Setup\n",
    "\n",
    "1. **Vector Initialization**:\n",
    "   - `vector1` is initialized with the first ten positive real numbers. This is achieved through an array constructor `[ (real(i), i=1, v_size) ]`, where `i` runs from 1 to `v_size` (10).\n",
    "   - `vector2` is another vector of the same size (`v_size`), intended to be the target for copying elements from `vector1`.\n",
    "   - `large_vector` is a vector twice the size of `vector1`, used to demonstrate copying with different increments and scaling.\n",
    "\n",
    "### Printing the Original Vector\n",
    "\n",
    "2. **Displaying `vector1`**:\n",
    "   - The program prints the original content of `vector1` using a formatted print statement.\n",
    "\n",
    "### Copying Elements with Different Parameters\n",
    "\n",
    "3. **First Copy Operation (`scopy(size(vector1), vector1, 1, vector2, 1)`)**:\n",
    "   - Copies the contents of `vector1` directly into `vector2` without any scaling or skipping elements (both source and destination increments are 1). The result is that `vector2` becomes an exact copy of `vector1`.\n",
    "\n",
    "4. **Second Copy Operation (`scopy(size(vector1), vector1, 1, vector2, 2)`)**:\n",
    "   - Copies elements from `vector1` into `vector2` but with a destination increment of 2. This means every second element in `vector2` is filled, leaving alternate elements as zero (since `vector2` was reset to 0.0 before this operation).\n",
    "\n",
    "5. **Third Copy Operation (`scopy(size(vector1), vector1, 2, vector2, 1)`)**:\n",
    "   - Copies every second element from `vector1` to `vector2` with a source increment of 2 and destination increment of 1. This results in `vector2` containing every second element of `vector1`, with remaining positions in `vector2` being zero.\n",
    "\n",
    "6. **Fourth Copy Operation (`scopy(size(vector1), vector1, 2, vector2, 2)`)**:\n",
    "   - Both source and destination increments are set to 2, which means every second element from `vector1` is copied to every second position in `vector2`.\n",
    "\n",
    "### Demonstrating with a Larger Vector\n",
    "\n",
    "7. **Fifth Copy Operation (`scopy(size(vector1), vector1, 1, large_vector, 2)`)**:\n",
    "   - Similar to the second copy operation but targets `large_vector`. Elements from `vector1` are placed in every second slot of `large_vector`.\n",
    "\n",
    "8. **Sixth Copy Operation with Scaling (`scopy(size(vector1), 3.0*vector1, 1, large_vector(2), 2)`)**:\n",
    "   - This operation is more complex as it involves scaling `vector1` by 3.0 and copying into `large_vector` starting from the second element and skipping every second slot. This demonstrates the ability to combine scaling and non-contiguous memory access in a single operation.\n",
    "\n",
    "### Summary\n",
    "\n",
    "The program is a comprehensive demonstration of various capabilities of the `scopy` subroutine, including element-wise copying with different strides and scaling. Each operation is followed by a print statement to visualize the results of these operations, showcasing how `scopy` handles different configurations of source and destination vectors. This type of functionality is typically used in numerical and scientific computations where efficient manipulation of large arrays is necessary."
   ]
  },
  {
   "cell_type": "markdown",
   "id": "4883d54d-377f-427c-b3c7-b3e4878aa8e4",
   "metadata": {},
   "source": [
    "## Program Code"
   ]
  },
  {
   "attachments": {},
   "cell_type": "markdown",
   "id": "49f81255",
   "metadata": {},
   "source": [
    "```{literalinclude} Fortran_Code/Section_BLAS_LAPACK_Copy/app/section_blas_lapack_copy.f90\n",
    "---\n",
    "language: fortran\n",
    "---\n",
    "```"
   ]
  },
  {
   "attachments": {},
   "cell_type": "markdown",
   "id": "4c6b9985-c0cb-4602-8309-4e3369dd3226",
   "metadata": {},
   "source": [
    "The above program is compiled and run using Fortran Package Manager (fpm):"
   ]
  },
  {
   "cell_type": "markdown",
   "id": "c6f9ed20",
   "metadata": {
    "tags": []
   },
   "source": [
    "## Build the Program using FPM (Fortran Package Manager)"
   ]
  },
  {
   "cell_type": "code",
   "execution_count": 1,
   "id": "f16472aa-c965-4bad-a218-fee33f7b456a",
   "metadata": {},
   "outputs": [],
   "source": [
    "import os\n",
    "root_dir = \"\"\n",
    "root_dir = os.getcwd()"
   ]
  },
  {
   "attachments": {},
   "cell_type": "markdown",
   "id": "48d176ac",
   "metadata": {},
   "source": [
    "Since the code makes use of the LAPACK library, the following FPM configuration file (fpm.toml) was used:"
   ]
  },
  {
   "attachments": {},
   "cell_type": "markdown",
   "id": "48ce3430",
   "metadata": {},
   "source": [
    "```{literalinclude} Fortran_Code/Section_BLAS_LAPACK_Copy/fpm.toml\n",
    "---\n",
    "language: toml\n",
    "---\n",
    "```"
   ]
  },
  {
   "cell_type": "code",
   "execution_count": 2,
   "id": "f77f9126-86cc-4a1b-89b9-5ad5f61cf72c",
   "metadata": {
    "tags": []
   },
   "outputs": [],
   "source": [
    "code_dir = root_dir + \"/\" + \"Fortran_Code/Section_BLAS_LAPACK_Copy\""
   ]
  },
  {
   "cell_type": "code",
   "execution_count": 3,
   "id": "c2eeda29-613f-48fd-904b-af9aef8813a2",
   "metadata": {},
   "outputs": [],
   "source": [
    "os.chdir(code_dir)"
   ]
  },
  {
   "cell_type": "code",
   "execution_count": 4,
   "id": "0fbd7621-e800-4235-ab30-80560cc3e1a8",
   "metadata": {},
   "outputs": [],
   "source": [
    "build_status = os.system(\"fpm build 2>/dev/null\")"
   ]
  },
  {
   "cell_type": "markdown",
   "id": "58b5102f",
   "metadata": {},
   "source": [
    "## Run the Program using FPM (Fortran Package Manager)"
   ]
  },
  {
   "cell_type": "code",
   "execution_count": 5,
   "id": "3176b27d-932e-47a1-8099-4fae064ec661",
   "metadata": {},
   "outputs": [
    {
     "name": "stdout",
     "output_type": "stream",
     "text": [
      "          original:   1.0  2.0  3.0  4.0  5.0  6.0  7.0  8.0  9.0 10.0\n",
      "        copy N 1 1:   1.0  2.0  3.0  4.0  5.0  6.0  7.0  8.0  9.0 10.0\n",
      "        copy N 1 2:   1.0  0.0  2.0  0.0  3.0  0.0  4.0  0.0  5.0  0.0\n",
      "        copy N 2 1:   1.0  3.0  5.0  7.0  9.0  0.0  0.0  0.0  0.0  0.0\n",
      "        copy N 2 2:   1.0  0.0  3.0  0.0  5.0  0.0  7.0  0.0  9.0  0.0\n",
      "        copy N 1 2:   1.0  0.0  2.0  0.0  3.0  0.0  4.0  0.0  5.0  0.0  6.0  0.0  7.0  0.0  8.0  0.0  9.0  0.0 10.0  0.0\n",
      "  shift copy N 1 2:   1.0  3.0  2.0  6.0  3.0  9.0  4.0 12.0  5.0 15.0  6.0 18.0  7.0 21.0  8.0 24.0  9.0 27.0 10.0 30.0\n"
     ]
    }
   ],
   "source": [
    "exec_status = \\\n",
    "    os.system(\"fpm run 2>/dev/null\")"
   ]
  }
 ],
 "metadata": {
  "kernelspec": {
   "display_name": "Python 3 (ipykernel)",
   "language": "python",
   "name": "python3"
  },
  "language_info": {
   "codemirror_mode": {
    "name": "ipython",
    "version": 3
   },
   "file_extension": ".py",
   "mimetype": "text/x-python",
   "name": "python",
   "nbconvert_exporter": "python",
   "pygments_lexer": "ipython3",
   "version": "3.10.14"
  },
  "vscode": {
   "interpreter": {
    "hash": "1c7edbfe09241e3ab70fdbaa9340a6c53382c0b8a91b6341e8f1e4440b6e3c70"
   }
  }
 },
 "nbformat": 4,
 "nbformat_minor": 5
}