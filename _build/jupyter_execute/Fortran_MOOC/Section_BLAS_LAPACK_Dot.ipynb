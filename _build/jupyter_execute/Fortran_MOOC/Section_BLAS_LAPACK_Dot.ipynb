{
 "cells": [
  {
   "cell_type": "raw",
   "id": "c40b648f-a44a-4480-bbee-93e7a780f45b",
   "metadata": {},
   "source": [
    "---\n",
    "jupytext:\n",
    "  formats: md:myst\n",
    "  text_representation:\n",
    "    extension: .md\n",
    "    format_name: myst\n",
    "kernelspec:\n",
    "  display_name: Python 3\n",
    "  language: python\n",
    "  name: python3\n",
    "---"
   ]
  },
  {
   "attachments": {},
   "cell_type": "markdown",
   "id": "fc63b62e-3ea6-4588-8b6e-f845bbc6d64c",
   "metadata": {
    "tags": []
   },
   "source": [
    "# Section: BLAS/LAPACK - Dot Product\n"
   ]
  },
  {
   "attachments": {},
   "cell_type": "markdown",
   "id": "edfc7d7e-9803-4b96-82f1-bc0d47385f43",
   "metadata": {},
   "source": [
    "Adapted from: [https://github.com/gjbex/Fortran-MOOC/tree/master/source_code/blas_lapack](https://github.com/gjbex/Fortran-MOOC/tree/master/source_code/blas_lapack)"
   ]
  },
  {
   "attachments": {},
   "cell_type": "markdown",
   "id": "59ec1bec-3fd7-4061-aa24-c7765d25786f",
   "metadata": {},
   "source": [
    "## This program demonstrates performing a dot product in Fortran."
   ]
  },
  {
   "attachments": {},
   "cell_type": "markdown",
   "id": "b010108c",
   "metadata": {},
   "source": [
    "### Dot Products"
   ]
  },
  {
   "attachments": {},
   "cell_type": "markdown",
   "id": "e4efe68f",
   "metadata": {},
   "source": [
    "In this notebook we will use Fortran to perform dot products on vectors and matrices."
   ]
  },
  {
   "attachments": {},
   "cell_type": "markdown",
   "id": "92fe04f3",
   "metadata": {},
   "source": [
    "The dot product of two vectors in 3-space is given by:"
   ]
  },
  {
   "attachments": {},
   "cell_type": "markdown",
   "id": "60de8dd5",
   "metadata": {},
   "source": [
    "$$\n",
    "\\Large \\mathbf{u} \\cdot \\mathbf{v} =\n",
    "u_1 v_1 + u_2 v_2 + u_3 v_3\n",
    "$$"
   ]
  },
  {
   "attachments": {},
   "cell_type": "markdown",
   "id": "2d0c08a5",
   "metadata": {},
   "source": [
    "where:"
   ]
  },
  {
   "attachments": {},
   "cell_type": "markdown",
   "id": "c8a2256a",
   "metadata": {},
   "source": [
    "$$\n",
    "\\Large \\mathbf{u} =\n",
    "\\left[\n",
    "\\begin{array}{c}\n",
    "u_{1}  \\\\\n",
    "u_{2}  \\\\\n",
    "u_{3}\n",
    "\\end{array}\n",
    "\\right]\n",
    "$$"
   ]
  },
  {
   "attachments": {},
   "cell_type": "markdown",
   "id": "d9769f3c",
   "metadata": {},
   "source": [
    "and"
   ]
  },
  {
   "attachments": {},
   "cell_type": "markdown",
   "id": "6a22a6fe",
   "metadata": {},
   "source": [
    "$$\n",
    "\\Large \\mathbf{v} =\n",
    "\\left[\n",
    "\\begin{array}{c}\n",
    "v_{1}  \\\\\n",
    "v_{2}  \\\\\n",
    "v_{3}\n",
    "\\end{array}\n",
    "\\right]\n",
    "$$"
   ]
  },
  {
   "attachments": {},
   "cell_type": "markdown",
   "id": "31041f68",
   "metadata": {},
   "source": [
    "The approach makes use of the BLAS/LAPACK linear equation solver routine called **SDOT**.  Information on this routine can be found at [LAPACK - SDOT](https://netlib.org/lapack/explore-html/df/d28/group__single__blas__level1_ga37a14d8598319955b711af0d64a6f56e.html#ga37a14d8598319955b711af0d64a6f56e).\n",
    "\n",
    "The driver program is called *dot_test* and is listed below:"
   ]
  },
  {
   "attachments": {},
   "cell_type": "markdown",
   "id": "ae43bd88",
   "metadata": {},
   "source": [
    "### In file dot_test.f90"
   ]
  },
  {
   "attachments": {},
   "cell_type": "markdown",
   "id": "49f81255",
   "metadata": {},
   "source": [
    "```{literalinclude} Fortran_Code/Section_BLAS_LAPACK_Dot/app/section_blas_lapack_dot.f90\n",
    "---\n",
    "language: fortran\n",
    "---\n",
    "```"
   ]
  },
  {
   "attachments": {},
   "cell_type": "markdown",
   "id": "4c6b9985-c0cb-4602-8309-4e3369dd3226",
   "metadata": {},
   "source": [
    "The above program is compiled and run using Fortran Package Manager (fpm):"
   ]
  },
  {
   "cell_type": "markdown",
   "id": "c6f9ed20",
   "metadata": {
    "tags": []
   },
   "source": [
    "## Build the Program using FPM (Fortran Package Manager)"
   ]
  },
  {
   "cell_type": "code",
   "execution_count": 1,
   "id": "f16472aa-c965-4bad-a218-fee33f7b456a",
   "metadata": {},
   "outputs": [],
   "source": [
    "import os\n",
    "root_dir = \"\"\n",
    "root_dir = os.getcwd()"
   ]
  },
  {
   "attachments": {},
   "cell_type": "markdown",
   "id": "48d176ac",
   "metadata": {},
   "source": [
    "Since the code makes use of the LAPACK library, the following FPM configuration file (fpm.toml) was used:"
   ]
  },
  {
   "attachments": {},
   "cell_type": "markdown",
   "id": "48ce3430",
   "metadata": {},
   "source": [
    "```{literalinclude} Fortran_Code/Section_BLAS_LAPACK_Dot/fpm.toml\n",
    "---\n",
    "language: toml\n",
    "---\n",
    "```"
   ]
  },
  {
   "cell_type": "code",
   "execution_count": 2,
   "id": "f77f9126-86cc-4a1b-89b9-5ad5f61cf72c",
   "metadata": {
    "tags": []
   },
   "outputs": [],
   "source": [
    "code_dir = root_dir + \"/\" + \"Fortran_Code/Section_BLAS_LAPACK_Dot\""
   ]
  },
  {
   "cell_type": "code",
   "execution_count": 3,
   "id": "c2eeda29-613f-48fd-904b-af9aef8813a2",
   "metadata": {},
   "outputs": [],
   "source": [
    "os.chdir(code_dir)"
   ]
  },
  {
   "cell_type": "code",
   "execution_count": 4,
   "id": "0fbd7621-e800-4235-ab30-80560cc3e1a8",
   "metadata": {},
   "outputs": [],
   "source": [
    "build_status = os.system(\"fpm build 2>/dev/null\")"
   ]
  },
  {
   "cell_type": "markdown",
   "id": "58b5102f",
   "metadata": {},
   "source": [
    "## Run the Program using FPM (Fortran Package Manager)"
   ]
  },
  {
   "cell_type": "code",
   "execution_count": 5,
   "id": "3176b27d-932e-47a1-8099-4fae064ec661",
   "metadata": {},
   "outputs": [
    {
     "name": "stdout",
     "output_type": "stream",
     "text": [
      "          vector 1:   0.5  1.0  1.5  2.0  2.5\n",
      "          vector 2:   0.1  0.2  0.3  0.4  0.5\n",
      "vector1 . vector2 =   2.75\n",
      "matrix:\n",
      "  1.0  6.0 11.0 16.0 21.0\n",
      "  2.0  7.0 12.0 17.0 22.0\n",
      "  3.0  8.0 13.0 18.0 23.0\n",
      "  4.0  9.0 14.0 19.0 24.0\n",
      "  5.0 10.0 15.0 20.0 25.0\n",
      "col 2 . col 4:     730.0\n",
      "row 2 . row 4:    1090.0\n"
     ]
    }
   ],
   "source": [
    "exec_status = \\\n",
    "    os.system(\"fpm run 2>/dev/null\")"
   ]
  }
 ],
 "metadata": {
  "kernelspec": {
   "display_name": "base",
   "language": "python",
   "name": "python3"
  },
  "language_info": {
   "codemirror_mode": {
    "name": "ipython",
    "version": 3
   },
   "file_extension": ".py",
   "mimetype": "text/x-python",
   "name": "python",
   "nbconvert_exporter": "python",
   "pygments_lexer": "ipython3",
   "version": "3.9.15"
  },
  "vscode": {
   "interpreter": {
    "hash": "1c7edbfe09241e3ab70fdbaa9340a6c53382c0b8a91b6341e8f1e4440b6e3c70"
   }
  }
 },
 "nbformat": 4,
 "nbformat_minor": 5
}