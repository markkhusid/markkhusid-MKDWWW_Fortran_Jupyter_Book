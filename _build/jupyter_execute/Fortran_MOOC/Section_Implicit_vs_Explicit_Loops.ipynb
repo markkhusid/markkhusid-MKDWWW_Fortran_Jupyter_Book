{
 "cells": [
  {
   "cell_type": "raw",
   "id": "c40b648f-a44a-4480-bbee-93e7a780f45b",
   "metadata": {},
   "source": [
    "---\n",
    "jupytext:\n",
    "  formats: md:myst\n",
    "  text_representation:\n",
    "    extension: .md\n",
    "    format_name: myst\n",
    "kernelspec:\n",
    "  display_name: Python 3\n",
    "  language: python\n",
    "  name: python3\n",
    "---"
   ]
  },
  {
   "attachments": {},
   "cell_type": "markdown",
   "id": "fc63b62e-3ea6-4588-8b6e-f845bbc6d64c",
   "metadata": {
    "tags": []
   },
   "source": [
    "# Section: Implicit vs. Explicit Loops\n"
   ]
  },
  {
   "attachments": {},
   "cell_type": "markdown",
   "id": "edfc7d7e-9803-4b96-82f1-bc0d47385f43",
   "metadata": {},
   "source": [
    "Adapted from: [https://github.com/gjbex/Fortran-MOOC/tree/master/source_code/implicit_loops](https://github.com/gjbex/Fortran-MOOC/tree/master/source_code/implicit_loops)"
   ]
  },
  {
   "attachments": {},
   "cell_type": "markdown",
   "id": "59ec1bec-3fd7-4061-aa24-c7765d25786f",
   "metadata": {},
   "source": [
    "## This program demonstrates the speed of implicit vs. explicit loops in Fortran."
   ]
  },
  {
   "attachments": {},
   "cell_type": "markdown",
   "id": "23251929",
   "metadata": {},
   "source": [
    "The program will take in a command line argument and construct two argument X argument sized matrices composed of random numbers.  The program will then compute the following:"
   ]
  },
  {
   "attachments": {},
   "cell_type": "markdown",
   "id": "e5ae519c",
   "metadata": {},
   "source": [
    "$$\n",
    "\\Large Result = \\sum \\sqrt{X^2 + Y^2}\n",
    "$$\n",
    "where: <br>\n",
    "$Result$ is the summation result <br>\n",
    "$X$ and $Y$ are command line argument X command line argument sized matrices"
   ]
  },
  {
   "attachments": {},
   "cell_type": "markdown",
   "id": "a2705efc",
   "metadata": {},
   "source": [
    "```fortran\n",
    "program real32_vs_real64\n",
    "    use, intrinsic :: iso_fortran_env, only : error_unit, I8 => INT64, &\n",
    "        SP => REAL32, DP => REAL64\n",
    "    implicit none\n",
    "    integer(kind=I8) :: nr_values\n",
    "    real(kind=SP), dimension(:), allocatable :: x_sp, y_sp\n",
    "    real(kind=SP) :: result\n",
    "    real :: start_time, end_time\n",
    "    integer :: status, i\n",
    "\n",
    "    call get_argument(nr_values)\n",
    "\n",
    "    ! implicit loops\n",
    "    allocate (x_sp(nr_values), y_sp(nr_values), stat=status)\n",
    "    if (status /= 0) then\n",
    "        write (unit=error_unit, fmt='(A)') 'error: can not allocate x_sp/y_sp'\n",
    "        stop 1\n",
    "    end if\n",
    "    call random_number(x_sp)\n",
    "    call random_number(y_sp)\n",
    "\n",
    "    call cpu_time(start_time)\n",
    "    result = sum(sqrt(x_sp**2 + y_sp**2))\n",
    "    call cpu_time(end_time)\n",
    "    print '(A, F20.8)', 'Implicit loop time [s]: ', end_time - start_time\n",
    "    print '(A, F20.8)', 'Summation result: ', result\n",
    "    deallocate (x_sp, y_sp)\n",
    "\n",
    "    ! explicit loops\n",
    "    allocate (x_sp(nr_values), y_sp(nr_values), stat=status)\n",
    "    if (status /= 0) then\n",
    "        write (unit=error_unit, fmt='(A)') 'error: can not allocate x_sp/y_sp'\n",
    "        stop 1\n",
    "    end if\n",
    "    call random_number(x_sp)\n",
    "    call random_number(y_sp)\n",
    "\n",
    "    call cpu_time(start_time)\n",
    "    result = 0.0_SP\n",
    "    do i = 1, size(x_sp)\n",
    "        result = result + sqrt(x_sp(i)**2 + y_sp(i)**2)\n",
    "    end do\n",
    "    call cpu_time(end_time)\n",
    "    print '(A, F20.8)', 'Explicit loop time [s]: ', end_time - start_time\n",
    "    print '(A, F20.8)', 'Summation result: ', result\n",
    "    deallocate (x_sp, y_sp)\n",
    "\n",
    "contains\n",
    "\n",
    "    subroutine get_argument(nr_values)\n",
    "        implicit none\n",
    "        integer(Kind=I8), intent(out) :: nr_values\n",
    "        character(len=1024) :: buffer, msg\n",
    "        integer :: status\n",
    "\n",
    "        if (command_argument_count() /= 1) then\n",
    "            write (unit=error_unit, fmt='(A)') 'error: expect number of values'\n",
    "            stop 2\n",
    "        end if\n",
    "        call get_command_argument(1, buffer)\n",
    "        read (buffer, fmt=*, iomsg=msg, iostat=status) nr_values\n",
    "        if (status /= 0) then\n",
    "            write (unit=error_unit, fmt='(2A)') 'error: ', trim(msg)\n",
    "            stop 3\n",
    "        end if\n",
    "    end subroutine get_argument\n",
    "\n",
    "end program real32_vs_real64"
   ]
  },
  {
   "cell_type": "markdown",
   "id": "4c6b9985-c0cb-4602-8309-4e3369dd3226",
   "metadata": {},
   "source": [
    "The above program is compiled and run using Fortran Package Manager (fpm):"
   ]
  },
  {
   "cell_type": "markdown",
   "id": "c6f9ed20",
   "metadata": {
    "tags": []
   },
   "source": [
    "## Build the Program using FPM (Fortran Package Manager)"
   ]
  },
  {
   "cell_type": "code",
   "execution_count": 1,
   "id": "f16472aa-c965-4bad-a218-fee33f7b456a",
   "metadata": {},
   "outputs": [],
   "source": [
    "import os\n",
    "root_dir = \"\"\n",
    "root_dir = os.getcwd()"
   ]
  },
  {
   "cell_type": "code",
   "execution_count": 2,
   "id": "f77f9126-86cc-4a1b-89b9-5ad5f61cf72c",
   "metadata": {
    "tags": []
   },
   "outputs": [],
   "source": [
    "code_dir = root_dir + \"/\" + \"Fortran_Code/Section_Implicit_vs_Explicit_Loops\""
   ]
  },
  {
   "cell_type": "code",
   "execution_count": 3,
   "id": "dda7a884",
   "metadata": {
    "tags": [
     "remove-cell"
    ]
   },
   "outputs": [],
   "source": [
    "code_app_dir = code_dir + \"/\" + \"app\""
   ]
  },
  {
   "cell_type": "code",
   "execution_count": 4,
   "id": "0c1bfdce-7589-4f56-be03-b2be392d952f",
   "metadata": {
    "tags": [
     "remove-cell"
    ]
   },
   "outputs": [],
   "source": [
    "os.chdir(code_app_dir)"
   ]
  },
  {
   "cell_type": "code",
   "execution_count": 5,
   "id": "acf272e3-a204-4981-9008-359bb189b9bb",
   "metadata": {
    "tags": [
     "remove-cell"
    ]
   },
   "outputs": [],
   "source": [
    "%%capture\n",
    "%%writefile section_implicit_vs_explicit_loops.f90\n",
    "program real32_vs_real64\n",
    "    use, intrinsic :: iso_fortran_env, only : error_unit, I8 => INT64, &\n",
    "        SP => REAL32, DP => REAL64\n",
    "    implicit none\n",
    "    integer(kind=I8) :: nr_values\n",
    "    real(kind=SP), dimension(:), allocatable :: x_sp, y_sp\n",
    "    real(kind=SP) :: result\n",
    "    real :: start_time, end_time\n",
    "    integer :: status, i\n",
    "\n",
    "    call get_argument(nr_values)\n",
    "\n",
    "    ! implicit loops\n",
    "    allocate (x_sp(nr_values), y_sp(nr_values), stat=status)\n",
    "    if (status /= 0) then\n",
    "        write (unit=error_unit, fmt='(A)') 'error: can not allocate x_sp/y_sp'\n",
    "        stop 1\n",
    "    end if\n",
    "    call random_number(x_sp)\n",
    "    call random_number(y_sp)\n",
    "\n",
    "    call cpu_time(start_time)\n",
    "    result = sum(sqrt(x_sp**2 + y_sp**2))\n",
    "    call cpu_time(end_time)\n",
    "    print '(A, F20.8)', 'Implicit loop time [s]: ', end_time - start_time\n",
    "    print '(A, F20.8)', 'Summation result: ', result\n",
    "    deallocate (x_sp, y_sp)\n",
    "\n",
    "    ! explicit loops\n",
    "    allocate (x_sp(nr_values), y_sp(nr_values), stat=status)\n",
    "    if (status /= 0) then\n",
    "        write (unit=error_unit, fmt='(A)') 'error: can not allocate x_sp/y_sp'\n",
    "        stop 1\n",
    "    end if\n",
    "    call random_number(x_sp)\n",
    "    call random_number(y_sp)\n",
    "\n",
    "    call cpu_time(start_time)\n",
    "    result = 0.0_SP\n",
    "    do i = 1, size(x_sp)\n",
    "        result = result + sqrt(x_sp(i)**2 + y_sp(i)**2)\n",
    "    end do\n",
    "    call cpu_time(end_time)\n",
    "    print '(A, F20.8)', 'Explicit loop time [s]: ', end_time - start_time\n",
    "    print '(A, F20.8)', 'Summation result: ', result\n",
    "    deallocate (x_sp, y_sp)\n",
    "\n",
    "contains\n",
    "\n",
    "    subroutine get_argument(nr_values)\n",
    "        implicit none\n",
    "        integer(Kind=I8), intent(out) :: nr_values\n",
    "        character(len=1024) :: buffer, msg\n",
    "        integer :: status\n",
    "\n",
    "        if (command_argument_count() /= 1) then\n",
    "            write (unit=error_unit, fmt='(A)') 'error: expect number of values'\n",
    "            stop 2\n",
    "        end if\n",
    "        call get_command_argument(1, buffer)\n",
    "        read (buffer, fmt=*, iomsg=msg, iostat=status) nr_values\n",
    "        if (status /= 0) then\n",
    "            write (unit=error_unit, fmt='(2A)') 'error: ', trim(msg)\n",
    "            stop 3\n",
    "        end if\n",
    "    end subroutine get_argument\n",
    "\n",
    "end program real32_vs_real64"
   ]
  },
  {
   "cell_type": "code",
   "execution_count": 6,
   "id": "44a19d30-a4e2-4fbc-8411-5544ab612b88",
   "metadata": {
    "tags": [
     "remove-cell"
    ]
   },
   "outputs": [
    {
     "name": "stdout",
     "output_type": "stream",
     "text": [
      "\u001b[38;5;238m───────┬────────────────────────────────────────────────────────────────────────\u001b[0m\r\n",
      "       \u001b[38;5;238m│ \u001b[0mFile: \u001b[1msection_implicit_vs_explicit_loops.f90\u001b[0m\r\n",
      "\u001b[38;5;238m───────┼────────────────────────────────────────────────────────────────────────\u001b[0m\r\n",
      "\u001b[38;5;238m   1\u001b[0m   \u001b[38;5;238m│\u001b[0m \u001b[38;2;249;38;114mprogram\u001b[0m\u001b[38;2;248;248;242m \u001b[0m\u001b[38;2;166;226;46mreal32_vs_real64\u001b[0m\r\n",
      "\u001b[38;5;238m   2\u001b[0m   \u001b[38;5;238m│\u001b[0m \u001b[38;2;248;248;242m    use, intrinsic \u001b[0m\u001b[38;2;249;38;114m::\u001b[0m\u001b[38;2;248;248;242m iso_fortran_env, only : error_unit, I8 \u001b[0m\u001b[38;2;249;38;114m=>\u001b[0m\u001b[38;2;248;248;242m \u001b[0m\u001b[38;2;102;217;239mINT64\u001b[0m\u001b[38;2;248;248;242m, \u001b[0m\r\n",
      "\u001b[38;5;238m    \u001b[0m   \u001b[38;5;238m│\u001b[0m \u001b[38;2;248;248;242m&\u001b[0m\r\n",
      "\u001b[38;5;238m   3\u001b[0m   \u001b[38;5;238m│\u001b[0m \u001b[38;2;248;248;242m        SP \u001b[0m\u001b[38;2;249;38;114m=>\u001b[0m\u001b[38;2;248;248;242m \u001b[0m\u001b[38;2;102;217;239mREAL32\u001b[0m\u001b[38;2;248;248;242m, DP \u001b[0m\u001b[38;2;249;38;114m=>\u001b[0m\u001b[38;2;248;248;242m \u001b[0m\u001b[38;2;102;217;239mREAL64\u001b[0m\r\n",
      "\u001b[38;5;238m   4\u001b[0m   \u001b[38;5;238m│\u001b[0m \u001b[38;2;248;248;242m    \u001b[0m\u001b[38;2;249;38;114mimplicit\u001b[0m\u001b[38;2;248;248;242m \u001b[0m\u001b[38;2;249;38;114mnone\u001b[0m\r\n",
      "\u001b[38;5;238m   5\u001b[0m   \u001b[38;5;238m│\u001b[0m \u001b[38;2;248;248;242m    \u001b[0m\u001b[38;2;248;248;242minteger\u001b[0m\u001b[38;2;248;248;242m(\u001b[0m\u001b[38;2;253;151;31mkind\u001b[0m\u001b[38;2;249;38;114m=\u001b[0m\u001b[38;2;248;248;242mI8\u001b[0m\u001b[38;2;248;248;242m)\u001b[0m\u001b[38;2;248;248;242m \u001b[0m\u001b[38;2;249;38;114m::\u001b[0m\u001b[38;2;248;248;242m nr_values\u001b[0m\r\n",
      "\u001b[38;5;238m   6\u001b[0m   \u001b[38;5;238m│\u001b[0m \u001b[38;2;248;248;242m    \u001b[0m\u001b[38;2;102;217;239mreal\u001b[0m\u001b[38;2;248;248;242m(\u001b[0m\u001b[38;2;248;248;242mkind\u001b[0m\u001b[38;2;249;38;114m=\u001b[0m\u001b[38;2;248;248;242mSP\u001b[0m\u001b[38;2;248;248;242m)\u001b[0m\u001b[38;2;248;248;242m, \u001b[0m\u001b[38;2;248;248;242mdimension\u001b[0m\u001b[38;2;248;248;242m(\u001b[0m\u001b[38;2;248;248;242m:\u001b[0m\u001b[38;2;248;248;242m)\u001b[0m\u001b[38;2;248;248;242m, allocatable \u001b[0m\u001b[38;2;249;38;114m::\u001b[0m\u001b[38;2;248;248;242m x_sp, y_sp\u001b[0m\r\n",
      "\u001b[38;5;238m   7\u001b[0m   \u001b[38;5;238m│\u001b[0m \u001b[38;2;248;248;242m    \u001b[0m\u001b[38;2;102;217;239mreal\u001b[0m\u001b[38;2;248;248;242m(\u001b[0m\u001b[38;2;248;248;242mkind\u001b[0m\u001b[38;2;249;38;114m=\u001b[0m\u001b[38;2;248;248;242mSP\u001b[0m\u001b[38;2;248;248;242m)\u001b[0m\u001b[38;2;248;248;242m \u001b[0m\u001b[38;2;249;38;114m::\u001b[0m\u001b[38;2;248;248;242m result\u001b[0m\r\n",
      "\u001b[38;5;238m   8\u001b[0m   \u001b[38;5;238m│\u001b[0m \u001b[38;2;248;248;242m    real \u001b[0m\u001b[38;2;249;38;114m::\u001b[0m\u001b[38;2;248;248;242m start_time, end_time\u001b[0m\r\n",
      "\u001b[38;5;238m   9\u001b[0m   \u001b[38;5;238m│\u001b[0m \u001b[38;2;248;248;242m    integer \u001b[0m\u001b[38;2;249;38;114m::\u001b[0m\u001b[38;2;248;248;242m status, i\u001b[0m\r\n",
      "\u001b[38;5;238m  10\u001b[0m   \u001b[38;5;238m│\u001b[0m \r\n",
      "\u001b[38;5;238m  11\u001b[0m   \u001b[38;5;238m│\u001b[0m \u001b[38;2;248;248;242m    \u001b[0m\u001b[38;2;249;38;114mcall\u001b[0m\u001b[38;2;248;248;242m \u001b[0m\u001b[38;2;102;217;239mget_argument\u001b[0m\u001b[38;2;248;248;242m(\u001b[0m\u001b[38;2;248;248;242mnr_values\u001b[0m\u001b[38;2;248;248;242m)\u001b[0m\r\n",
      "\u001b[38;5;238m  12\u001b[0m   \u001b[38;5;238m│\u001b[0m \r\n",
      "\u001b[38;5;238m  13\u001b[0m   \u001b[38;5;238m│\u001b[0m \u001b[38;2;248;248;242m    \u001b[0m\u001b[38;2;117;113;94m! implicit loops\u001b[0m\r\n",
      "\u001b[38;5;238m  14\u001b[0m   \u001b[38;5;238m│\u001b[0m \u001b[38;2;248;248;242m    \u001b[0m\u001b[38;2;102;217;239mallocate\u001b[0m\u001b[38;2;248;248;242m (\u001b[0m\u001b[38;2;255;255;255mx_sp\u001b[0m\u001b[38;2;248;248;242m(\u001b[0m\u001b[38;2;248;248;242mnr_values\u001b[0m\u001b[38;2;248;248;242m)\u001b[0m\u001b[38;2;248;248;242m, \u001b[0m\u001b[38;2;248;248;242my_sp\u001b[0m\u001b[38;2;248;248;242m(\u001b[0m\u001b[38;2;248;248;242mnr_values\u001b[0m\u001b[38;2;248;248;242m)\u001b[0m\u001b[38;2;248;248;242m, stat\u001b[0m\u001b[38;2;249;38;114m=\u001b[0m\u001b[38;2;248;248;242mstatus)\u001b[0m\r\n",
      "\u001b[38;5;238m  15\u001b[0m   \u001b[38;5;238m│\u001b[0m \u001b[38;2;248;248;242m    \u001b[0m\u001b[38;2;249;38;114mif\u001b[0m\u001b[38;2;248;248;242m \u001b[0m\u001b[38;2;248;248;242m(\u001b[0m\u001b[38;2;248;248;242mstatus \u001b[0m\u001b[38;2;249;38;114m/=\u001b[0m\u001b[38;2;248;248;242m \u001b[0m\u001b[38;2;190;132;255m0\u001b[0m\u001b[38;2;248;248;242m)\u001b[0m\u001b[38;2;248;248;242m \u001b[0m\u001b[38;2;249;38;114mthen\u001b[0m\r\n",
      "\u001b[38;5;238m  16\u001b[0m   \u001b[38;5;238m│\u001b[0m \u001b[38;2;248;248;242m        \u001b[0m\u001b[38;2;102;217;239mwrite\u001b[0m\u001b[38;2;248;248;242m \u001b[0m\u001b[38;2;248;248;242m(\u001b[0m\u001b[38;2;253;151;31munit\u001b[0m\u001b[38;2;249;38;114m=\u001b[0m\u001b[38;2;248;248;242merror_unit, \u001b[0m\u001b[38;2;253;151;31mfmt\u001b[0m\u001b[38;2;249;38;114m=\u001b[0m\u001b[38;2;230;219;116m'\u001b[0m\u001b[38;2;248;248;242m(\u001b[0m\u001b[38;2;190;132;255mA\u001b[0m\u001b[38;2;248;248;242m)\u001b[0m\u001b[38;2;230;219;116m'\u001b[0m\u001b[38;2;248;248;242m)\u001b[0m\u001b[38;2;248;248;242m \u001b[0m\u001b[38;2;230;219;116m'error: can not allocate x_s\u001b[0m\r\n",
      "\u001b[38;5;238m    \u001b[0m   \u001b[38;5;238m│\u001b[0m \u001b[38;2;230;219;116mp/y_sp'\u001b[0m\r\n",
      "\u001b[38;5;238m  17\u001b[0m   \u001b[38;5;238m│\u001b[0m \u001b[38;2;248;248;242m        \u001b[0m\u001b[38;2;249;38;114mstop\u001b[0m\u001b[38;2;248;248;242m \u001b[0m\u001b[38;2;190;132;255m1\u001b[0m\r\n",
      "\u001b[38;5;238m  18\u001b[0m   \u001b[38;5;238m│\u001b[0m \u001b[38;2;248;248;242m    \u001b[0m\u001b[38;2;249;38;114mend\u001b[0m\u001b[38;2;248;248;242m \u001b[0m\u001b[38;2;249;38;114mif\u001b[0m\r\n",
      "\u001b[38;5;238m  19\u001b[0m   \u001b[38;5;238m│\u001b[0m \u001b[38;2;248;248;242m    \u001b[0m\u001b[38;2;249;38;114mcall\u001b[0m\u001b[38;2;248;248;242m \u001b[0m\u001b[38;2;102;217;239mrandom_number\u001b[0m\u001b[38;2;248;248;242m(\u001b[0m\u001b[38;2;248;248;242mx_sp\u001b[0m\u001b[38;2;248;248;242m)\u001b[0m\r\n",
      "\u001b[38;5;238m  20\u001b[0m   \u001b[38;5;238m│\u001b[0m \u001b[38;2;248;248;242m    \u001b[0m\u001b[38;2;249;38;114mcall\u001b[0m\u001b[38;2;248;248;242m \u001b[0m\u001b[38;2;102;217;239mrandom_number\u001b[0m\u001b[38;2;248;248;242m(\u001b[0m\u001b[38;2;248;248;242my_sp\u001b[0m\u001b[38;2;248;248;242m)\u001b[0m\r\n",
      "\u001b[38;5;238m  21\u001b[0m   \u001b[38;5;238m│\u001b[0m \r\n",
      "\u001b[38;5;238m  22\u001b[0m   \u001b[38;5;238m│\u001b[0m \u001b[38;2;248;248;242m    \u001b[0m\u001b[38;2;249;38;114mcall\u001b[0m\u001b[38;2;248;248;242m \u001b[0m\u001b[38;2;102;217;239mcpu_time\u001b[0m\u001b[38;2;248;248;242m(\u001b[0m\u001b[38;2;248;248;242mstart_time\u001b[0m\u001b[38;2;248;248;242m)\u001b[0m\r\n",
      "\u001b[38;5;238m  23\u001b[0m   \u001b[38;5;238m│\u001b[0m \u001b[38;2;248;248;242m    result \u001b[0m\u001b[38;2;249;38;114m=\u001b[0m\u001b[38;2;248;248;242m \u001b[0m\u001b[38;2;102;217;239msum\u001b[0m\u001b[38;2;248;248;242m(\u001b[0m\u001b[38;2;102;217;239msqrt\u001b[0m\u001b[38;2;248;248;242m(\u001b[0m\u001b[38;2;248;248;242mx_sp\u001b[0m\u001b[38;2;249;38;114m**\u001b[0m\u001b[38;2;190;132;255m2\u001b[0m\u001b[38;2;248;248;242m \u001b[0m\u001b[38;2;249;38;114m+\u001b[0m\u001b[38;2;248;248;242m y_sp\u001b[0m\u001b[38;2;249;38;114m**\u001b[0m\u001b[38;2;190;132;255m2\u001b[0m\u001b[38;2;248;248;242m)\u001b[0m\u001b[38;2;248;248;242m)\u001b[0m\r\n",
      "\u001b[38;5;238m  24\u001b[0m   \u001b[38;5;238m│\u001b[0m \u001b[38;2;248;248;242m    \u001b[0m\u001b[38;2;249;38;114mcall\u001b[0m\u001b[38;2;248;248;242m \u001b[0m\u001b[38;2;102;217;239mcpu_time\u001b[0m\u001b[38;2;248;248;242m(\u001b[0m\u001b[38;2;248;248;242mend_time\u001b[0m\u001b[38;2;248;248;242m)\u001b[0m\r\n",
      "\u001b[38;5;238m  25\u001b[0m   \u001b[38;5;238m│\u001b[0m \u001b[38;2;248;248;242m    \u001b[0m\u001b[38;2;102;217;239mprint\u001b[0m\u001b[38;2;248;248;242m \u001b[0m\u001b[38;2;230;219;116m'\u001b[0m\u001b[38;2;248;248;242m(\u001b[0m\u001b[38;2;190;132;255mA\u001b[0m\u001b[38;2;248;248;242m, \u001b[0m\u001b[38;2;190;132;255mF20.8\u001b[0m\u001b[38;2;248;248;242m)\u001b[0m\u001b[38;2;230;219;116m'\u001b[0m\u001b[38;2;248;248;242m, \u001b[0m\u001b[38;2;230;219;116m'Implicit loop time [s]: '\u001b[0m\u001b[38;2;248;248;242m, end_time \u001b[0m\u001b[38;2;249;38;114m-\u001b[0m\u001b[38;2;248;248;242m start_ti\u001b[0m\r\n",
      "\u001b[38;5;238m    \u001b[0m   \u001b[38;5;238m│\u001b[0m \u001b[38;2;248;248;242mme\u001b[0m\r\n",
      "\u001b[38;5;238m  26\u001b[0m   \u001b[38;5;238m│\u001b[0m \u001b[38;2;248;248;242m    \u001b[0m\u001b[38;2;102;217;239mprint\u001b[0m\u001b[38;2;248;248;242m \u001b[0m\u001b[38;2;230;219;116m'\u001b[0m\u001b[38;2;248;248;242m(\u001b[0m\u001b[38;2;190;132;255mA\u001b[0m\u001b[38;2;248;248;242m, \u001b[0m\u001b[38;2;190;132;255mF20.8\u001b[0m\u001b[38;2;248;248;242m)\u001b[0m\u001b[38;2;230;219;116m'\u001b[0m\u001b[38;2;248;248;242m, \u001b[0m\u001b[38;2;230;219;116m'Summation result: '\u001b[0m\u001b[38;2;248;248;242m, result\u001b[0m\r\n",
      "\u001b[38;5;238m  27\u001b[0m   \u001b[38;5;238m│\u001b[0m \u001b[38;2;248;248;242m    \u001b[0m\u001b[38;2;102;217;239mdeallocate\u001b[0m\u001b[38;2;248;248;242m (\u001b[0m\u001b[38;2;255;255;255mx_sp\u001b[0m\u001b[38;2;248;248;242m, y_sp)\u001b[0m\r\n",
      "\u001b[38;5;238m  28\u001b[0m   \u001b[38;5;238m│\u001b[0m \r\n",
      "\u001b[38;5;238m  29\u001b[0m   \u001b[38;5;238m│\u001b[0m \u001b[38;2;248;248;242m    \u001b[0m\u001b[38;2;117;113;94m! explicit loops\u001b[0m\r\n",
      "\u001b[38;5;238m  30\u001b[0m   \u001b[38;5;238m│\u001b[0m \u001b[38;2;248;248;242m    \u001b[0m\u001b[38;2;102;217;239mallocate\u001b[0m\u001b[38;2;248;248;242m (\u001b[0m\u001b[38;2;255;255;255mx_sp\u001b[0m\u001b[38;2;248;248;242m(\u001b[0m\u001b[38;2;248;248;242mnr_values\u001b[0m\u001b[38;2;248;248;242m)\u001b[0m\u001b[38;2;248;248;242m, \u001b[0m\u001b[38;2;248;248;242my_sp\u001b[0m\u001b[38;2;248;248;242m(\u001b[0m\u001b[38;2;248;248;242mnr_values\u001b[0m\u001b[38;2;248;248;242m)\u001b[0m\u001b[38;2;248;248;242m, stat\u001b[0m\u001b[38;2;249;38;114m=\u001b[0m\u001b[38;2;248;248;242mstatus)\u001b[0m\r\n",
      "\u001b[38;5;238m  31\u001b[0m   \u001b[38;5;238m│\u001b[0m \u001b[38;2;248;248;242m    \u001b[0m\u001b[38;2;249;38;114mif\u001b[0m\u001b[38;2;248;248;242m \u001b[0m\u001b[38;2;248;248;242m(\u001b[0m\u001b[38;2;248;248;242mstatus \u001b[0m\u001b[38;2;249;38;114m/=\u001b[0m\u001b[38;2;248;248;242m \u001b[0m\u001b[38;2;190;132;255m0\u001b[0m\u001b[38;2;248;248;242m)\u001b[0m\u001b[38;2;248;248;242m \u001b[0m\u001b[38;2;249;38;114mthen\u001b[0m\r\n",
      "\u001b[38;5;238m  32\u001b[0m   \u001b[38;5;238m│\u001b[0m \u001b[38;2;248;248;242m        \u001b[0m\u001b[38;2;102;217;239mwrite\u001b[0m\u001b[38;2;248;248;242m \u001b[0m\u001b[38;2;248;248;242m(\u001b[0m\u001b[38;2;253;151;31munit\u001b[0m\u001b[38;2;249;38;114m=\u001b[0m\u001b[38;2;248;248;242merror_unit, \u001b[0m\u001b[38;2;253;151;31mfmt\u001b[0m\u001b[38;2;249;38;114m=\u001b[0m\u001b[38;2;230;219;116m'\u001b[0m\u001b[38;2;248;248;242m(\u001b[0m\u001b[38;2;190;132;255mA\u001b[0m\u001b[38;2;248;248;242m)\u001b[0m\u001b[38;2;230;219;116m'\u001b[0m\u001b[38;2;248;248;242m)\u001b[0m\u001b[38;2;248;248;242m \u001b[0m\u001b[38;2;230;219;116m'error: can not allocate x_s\u001b[0m\r\n",
      "\u001b[38;5;238m    \u001b[0m   \u001b[38;5;238m│\u001b[0m \u001b[38;2;230;219;116mp/y_sp'\u001b[0m\r\n",
      "\u001b[38;5;238m  33\u001b[0m   \u001b[38;5;238m│\u001b[0m \u001b[38;2;248;248;242m        \u001b[0m\u001b[38;2;249;38;114mstop\u001b[0m\u001b[38;2;248;248;242m \u001b[0m\u001b[38;2;190;132;255m1\u001b[0m\r\n",
      "\u001b[38;5;238m  34\u001b[0m   \u001b[38;5;238m│\u001b[0m \u001b[38;2;248;248;242m    \u001b[0m\u001b[38;2;249;38;114mend\u001b[0m\u001b[38;2;248;248;242m \u001b[0m\u001b[38;2;249;38;114mif\u001b[0m\r\n",
      "\u001b[38;5;238m  35\u001b[0m   \u001b[38;5;238m│\u001b[0m \u001b[38;2;248;248;242m    \u001b[0m\u001b[38;2;249;38;114mcall\u001b[0m\u001b[38;2;248;248;242m \u001b[0m\u001b[38;2;102;217;239mrandom_number\u001b[0m\u001b[38;2;248;248;242m(\u001b[0m\u001b[38;2;248;248;242mx_sp\u001b[0m\u001b[38;2;248;248;242m)\u001b[0m\r\n",
      "\u001b[38;5;238m  36\u001b[0m   \u001b[38;5;238m│\u001b[0m \u001b[38;2;248;248;242m    \u001b[0m\u001b[38;2;249;38;114mcall\u001b[0m\u001b[38;2;248;248;242m \u001b[0m\u001b[38;2;102;217;239mrandom_number\u001b[0m\u001b[38;2;248;248;242m(\u001b[0m\u001b[38;2;248;248;242my_sp\u001b[0m\u001b[38;2;248;248;242m)\u001b[0m\r\n",
      "\u001b[38;5;238m  37\u001b[0m   \u001b[38;5;238m│\u001b[0m \r\n",
      "\u001b[38;5;238m  38\u001b[0m   \u001b[38;5;238m│\u001b[0m \u001b[38;2;248;248;242m    \u001b[0m\u001b[38;2;249;38;114mcall\u001b[0m\u001b[38;2;248;248;242m \u001b[0m\u001b[38;2;102;217;239mcpu_time\u001b[0m\u001b[38;2;248;248;242m(\u001b[0m\u001b[38;2;248;248;242mstart_time\u001b[0m\u001b[38;2;248;248;242m)\u001b[0m\r\n",
      "\u001b[38;5;238m  39\u001b[0m   \u001b[38;5;238m│\u001b[0m \u001b[38;2;248;248;242m    result \u001b[0m\u001b[38;2;249;38;114m=\u001b[0m\u001b[38;2;248;248;242m \u001b[0m\u001b[38;2;190;132;255m0.0_SP\u001b[0m\r\n",
      "\u001b[38;5;238m  40\u001b[0m   \u001b[38;5;238m│\u001b[0m \u001b[38;2;248;248;242m    \u001b[0m\u001b[38;2;249;38;114mdo\u001b[0m\u001b[38;2;248;248;242m \u001b[0m\u001b[38;2;248;248;242mi\u001b[0m\u001b[38;2;248;248;242m \u001b[0m\u001b[38;2;249;38;114m=\u001b[0m\u001b[38;2;248;248;242m \u001b[0m\u001b[38;2;190;132;255m1\u001b[0m\u001b[38;2;248;248;242m, \u001b[0m\u001b[38;2;102;217;239msize\u001b[0m\u001b[38;2;248;248;242m(\u001b[0m\u001b[38;2;248;248;242mx_sp\u001b[0m\u001b[38;2;248;248;242m)\u001b[0m\r\n",
      "\u001b[38;5;238m  41\u001b[0m   \u001b[38;5;238m│\u001b[0m \u001b[38;2;248;248;242m        result \u001b[0m\u001b[38;2;249;38;114m=\u001b[0m\u001b[38;2;248;248;242m result \u001b[0m\u001b[38;2;249;38;114m+\u001b[0m\u001b[38;2;248;248;242m \u001b[0m\u001b[38;2;102;217;239msqrt\u001b[0m\u001b[38;2;248;248;242m(\u001b[0m\u001b[38;2;248;248;242mx_sp\u001b[0m\u001b[38;2;248;248;242m(\u001b[0m\u001b[38;2;248;248;242mi\u001b[0m\u001b[38;2;248;248;242m)\u001b[0m\u001b[38;2;249;38;114m**\u001b[0m\u001b[38;2;190;132;255m2\u001b[0m\u001b[38;2;248;248;242m \u001b[0m\u001b[38;2;249;38;114m+\u001b[0m\u001b[38;2;248;248;242m \u001b[0m\u001b[38;2;248;248;242my_sp\u001b[0m\u001b[38;2;248;248;242m(\u001b[0m\u001b[38;2;248;248;242mi\u001b[0m\u001b[38;2;248;248;242m)\u001b[0m\u001b[38;2;249;38;114m**\u001b[0m\u001b[38;2;190;132;255m2\u001b[0m\u001b[38;2;248;248;242m)\u001b[0m\r\n",
      "\u001b[38;5;238m  42\u001b[0m   \u001b[38;5;238m│\u001b[0m \u001b[38;2;248;248;242m    \u001b[0m\u001b[38;2;249;38;114mend\u001b[0m\u001b[38;2;248;248;242m \u001b[0m\u001b[38;2;249;38;114mdo\u001b[0m\r\n",
      "\u001b[38;5;238m  43\u001b[0m   \u001b[38;5;238m│\u001b[0m \u001b[38;2;248;248;242m    \u001b[0m\u001b[38;2;249;38;114mcall\u001b[0m\u001b[38;2;248;248;242m \u001b[0m\u001b[38;2;102;217;239mcpu_time\u001b[0m\u001b[38;2;248;248;242m(\u001b[0m\u001b[38;2;248;248;242mend_time\u001b[0m\u001b[38;2;248;248;242m)\u001b[0m\r\n",
      "\u001b[38;5;238m  44\u001b[0m   \u001b[38;5;238m│\u001b[0m \u001b[38;2;248;248;242m    \u001b[0m\u001b[38;2;102;217;239mprint\u001b[0m\u001b[38;2;248;248;242m \u001b[0m\u001b[38;2;230;219;116m'\u001b[0m\u001b[38;2;248;248;242m(\u001b[0m\u001b[38;2;190;132;255mA\u001b[0m\u001b[38;2;248;248;242m, \u001b[0m\u001b[38;2;190;132;255mF20.8\u001b[0m\u001b[38;2;248;248;242m)\u001b[0m\u001b[38;2;230;219;116m'\u001b[0m\u001b[38;2;248;248;242m, \u001b[0m\u001b[38;2;230;219;116m'Explicit loop time [s]: '\u001b[0m\u001b[38;2;248;248;242m, end_time \u001b[0m\u001b[38;2;249;38;114m-\u001b[0m\u001b[38;2;248;248;242m start_ti\u001b[0m\r\n",
      "\u001b[38;5;238m    \u001b[0m   \u001b[38;5;238m│\u001b[0m \u001b[38;2;248;248;242mme\u001b[0m\r\n",
      "\u001b[38;5;238m  45\u001b[0m   \u001b[38;5;238m│\u001b[0m \u001b[38;2;248;248;242m    \u001b[0m\u001b[38;2;102;217;239mprint\u001b[0m\u001b[38;2;248;248;242m \u001b[0m\u001b[38;2;230;219;116m'\u001b[0m\u001b[38;2;248;248;242m(\u001b[0m\u001b[38;2;190;132;255mA\u001b[0m\u001b[38;2;248;248;242m, \u001b[0m\u001b[38;2;190;132;255mF20.8\u001b[0m\u001b[38;2;248;248;242m)\u001b[0m\u001b[38;2;230;219;116m'\u001b[0m\u001b[38;2;248;248;242m, \u001b[0m\u001b[38;2;230;219;116m'Summation result: '\u001b[0m\u001b[38;2;248;248;242m, result\u001b[0m\r\n",
      "\u001b[38;5;238m  46\u001b[0m   \u001b[38;5;238m│\u001b[0m \u001b[38;2;248;248;242m    \u001b[0m\u001b[38;2;102;217;239mdeallocate\u001b[0m\u001b[38;2;248;248;242m (\u001b[0m\u001b[38;2;255;255;255mx_sp\u001b[0m\u001b[38;2;248;248;242m, y_sp)\u001b[0m\r\n",
      "\u001b[38;5;238m  47\u001b[0m   \u001b[38;5;238m│\u001b[0m \r\n",
      "\u001b[38;5;238m  48\u001b[0m   \u001b[38;5;238m│\u001b[0m \u001b[38;2;249;38;114mcontains\u001b[0m\r\n",
      "\u001b[38;5;238m  49\u001b[0m   \u001b[38;5;238m│\u001b[0m \r\n",
      "\u001b[38;5;238m  50\u001b[0m   \u001b[38;5;238m│\u001b[0m \u001b[38;2;248;248;242m    \u001b[0m\u001b[38;2;249;38;114msubroutine\u001b[0m\u001b[38;2;248;248;242m \u001b[0m\u001b[38;2;166;226;46mget_argument\u001b[0m\u001b[38;2;248;248;242m(\u001b[0m\u001b[38;2;253;151;31mnr_values\u001b[0m\u001b[38;2;248;248;242m)\u001b[0m\r\n",
      "\u001b[38;5;238m  51\u001b[0m   \u001b[38;5;238m│\u001b[0m \u001b[38;2;248;248;242m        \u001b[0m\u001b[38;2;249;38;114mimplicit\u001b[0m\u001b[38;2;248;248;242m \u001b[0m\u001b[38;2;249;38;114mnone\u001b[0m\r\n",
      "\u001b[38;5;238m  52\u001b[0m   \u001b[38;5;238m│\u001b[0m \u001b[38;2;248;248;242m        \u001b[0m\u001b[38;2;248;248;242minteger\u001b[0m\u001b[38;2;248;248;242m(\u001b[0m\u001b[38;2;253;151;31mKind\u001b[0m\u001b[38;2;249;38;114m=\u001b[0m\u001b[38;2;248;248;242mI8\u001b[0m\u001b[38;2;248;248;242m)\u001b[0m\u001b[38;2;248;248;242m, \u001b[0m\u001b[38;2;248;248;242mintent\u001b[0m\u001b[38;2;248;248;242m(\u001b[0m\u001b[38;2;248;248;242mout\u001b[0m\u001b[38;2;248;248;242m)\u001b[0m\u001b[38;2;248;248;242m \u001b[0m\u001b[38;2;249;38;114m::\u001b[0m\u001b[38;2;248;248;242m nr_values\u001b[0m\r\n",
      "\u001b[38;5;238m  53\u001b[0m   \u001b[38;5;238m│\u001b[0m \u001b[38;2;248;248;242m        \u001b[0m\u001b[38;2;102;217;239mcharacter(len=1024)\u001b[0m\u001b[38;2;248;248;242m \u001b[0m\u001b[38;2;249;38;114m::\u001b[0m\u001b[38;2;248;248;242m \u001b[0m\u001b[38;2;255;255;255mbuffer\u001b[0m\u001b[38;2;248;248;242m, \u001b[0m\u001b[38;2;255;255;255mmsg\u001b[0m\r\n",
      "\u001b[38;5;238m  54\u001b[0m   \u001b[38;5;238m│\u001b[0m \u001b[38;2;248;248;242m        integer \u001b[0m\u001b[38;2;249;38;114m::\u001b[0m\u001b[38;2;248;248;242m status\u001b[0m\r\n",
      "\u001b[38;5;238m  55\u001b[0m   \u001b[38;5;238m│\u001b[0m \r\n",
      "\u001b[38;5;238m  56\u001b[0m   \u001b[38;5;238m│\u001b[0m \u001b[38;2;248;248;242m        \u001b[0m\u001b[38;2;249;38;114mif\u001b[0m\u001b[38;2;248;248;242m \u001b[0m\u001b[38;2;248;248;242m(\u001b[0m\u001b[38;2;248;248;242mcommand_argument_count\u001b[0m\u001b[38;2;248;248;242m(\u001b[0m\u001b[38;2;248;248;242m)\u001b[0m\u001b[38;2;248;248;242m \u001b[0m\u001b[38;2;249;38;114m/=\u001b[0m\u001b[38;2;248;248;242m \u001b[0m\u001b[38;2;190;132;255m1\u001b[0m\u001b[38;2;248;248;242m)\u001b[0m\u001b[38;2;248;248;242m \u001b[0m\u001b[38;2;249;38;114mthen\u001b[0m\r\n",
      "\u001b[38;5;238m  57\u001b[0m   \u001b[38;5;238m│\u001b[0m \u001b[38;2;248;248;242m            \u001b[0m\u001b[38;2;102;217;239mwrite\u001b[0m\u001b[38;2;248;248;242m \u001b[0m\u001b[38;2;248;248;242m(\u001b[0m\u001b[38;2;253;151;31munit\u001b[0m\u001b[38;2;249;38;114m=\u001b[0m\u001b[38;2;248;248;242merror_unit, \u001b[0m\u001b[38;2;253;151;31mfmt\u001b[0m\u001b[38;2;249;38;114m=\u001b[0m\u001b[38;2;230;219;116m'\u001b[0m\u001b[38;2;248;248;242m(\u001b[0m\u001b[38;2;190;132;255mA\u001b[0m\u001b[38;2;248;248;242m)\u001b[0m\u001b[38;2;230;219;116m'\u001b[0m\u001b[38;2;248;248;242m)\u001b[0m\u001b[38;2;248;248;242m \u001b[0m\u001b[38;2;230;219;116m'error: expect number of\u001b[0m\r\n",
      "\u001b[38;5;238m    \u001b[0m   \u001b[38;5;238m│\u001b[0m \u001b[38;2;230;219;116m values'\u001b[0m\r\n",
      "\u001b[38;5;238m  58\u001b[0m   \u001b[38;5;238m│\u001b[0m \u001b[38;2;248;248;242m            \u001b[0m\u001b[38;2;249;38;114mstop\u001b[0m\u001b[38;2;248;248;242m \u001b[0m\u001b[38;2;190;132;255m2\u001b[0m\r\n",
      "\u001b[38;5;238m  59\u001b[0m   \u001b[38;5;238m│\u001b[0m \u001b[38;2;248;248;242m        \u001b[0m\u001b[38;2;249;38;114mend\u001b[0m\u001b[38;2;248;248;242m \u001b[0m\u001b[38;2;249;38;114mif\u001b[0m\r\n",
      "\u001b[38;5;238m  60\u001b[0m   \u001b[38;5;238m│\u001b[0m \u001b[38;2;248;248;242m        \u001b[0m\u001b[38;2;249;38;114mcall\u001b[0m\u001b[38;2;248;248;242m \u001b[0m\u001b[38;2;102;217;239mget_command_argument\u001b[0m\u001b[38;2;248;248;242m(\u001b[0m\u001b[38;2;190;132;255m1\u001b[0m\u001b[38;2;248;248;242m, buffer\u001b[0m\u001b[38;2;248;248;242m)\u001b[0m\r\n",
      "\u001b[38;5;238m  61\u001b[0m   \u001b[38;5;238m│\u001b[0m \u001b[38;2;248;248;242m        \u001b[0m\u001b[38;2;248;248;242mread \u001b[0m\u001b[38;2;248;248;242m(\u001b[0m\u001b[38;2;248;248;242mbuffer\u001b[0m\u001b[38;2;248;248;242m,\u001b[0m\u001b[38;2;248;248;242m \u001b[0m\u001b[38;2;253;151;31mfmt\u001b[0m\u001b[38;2;249;38;114m=\u001b[0m\u001b[38;2;249;38;114m*\u001b[0m\u001b[38;2;248;248;242m,\u001b[0m\u001b[38;2;248;248;242m \u001b[0m\u001b[38;2;253;151;31miomsg\u001b[0m\u001b[38;2;249;38;114m=\u001b[0m\u001b[38;2;248;248;242mmsg\u001b[0m\u001b[38;2;248;248;242m,\u001b[0m\u001b[38;2;248;248;242m \u001b[0m\u001b[38;2;253;151;31miostat\u001b[0m\u001b[38;2;249;38;114m=\u001b[0m\u001b[38;2;248;248;242mstatus\u001b[0m\u001b[38;2;248;248;242m)\u001b[0m\u001b[38;2;248;248;242m nr_values\u001b[0m\r\n",
      "\u001b[38;5;238m  62\u001b[0m   \u001b[38;5;238m│\u001b[0m \u001b[38;2;248;248;242m        \u001b[0m\u001b[38;2;249;38;114mif\u001b[0m\u001b[38;2;248;248;242m \u001b[0m\u001b[38;2;248;248;242m(\u001b[0m\u001b[38;2;248;248;242mstatus \u001b[0m\u001b[38;2;249;38;114m/=\u001b[0m\u001b[38;2;248;248;242m \u001b[0m\u001b[38;2;190;132;255m0\u001b[0m\u001b[38;2;248;248;242m)\u001b[0m\u001b[38;2;248;248;242m \u001b[0m\u001b[38;2;249;38;114mthen\u001b[0m\r\n",
      "\u001b[38;5;238m  63\u001b[0m   \u001b[38;5;238m│\u001b[0m \u001b[38;2;248;248;242m            \u001b[0m\u001b[38;2;102;217;239mwrite\u001b[0m\u001b[38;2;248;248;242m \u001b[0m\u001b[38;2;248;248;242m(\u001b[0m\u001b[38;2;253;151;31munit\u001b[0m\u001b[38;2;249;38;114m=\u001b[0m\u001b[38;2;248;248;242merror_unit, \u001b[0m\u001b[38;2;253;151;31mfmt\u001b[0m\u001b[38;2;249;38;114m=\u001b[0m\u001b[38;2;230;219;116m'\u001b[0m\u001b[38;2;248;248;242m(\u001b[0m\u001b[38;2;190;132;255m2A\u001b[0m\u001b[38;2;248;248;242m)\u001b[0m\u001b[38;2;230;219;116m'\u001b[0m\u001b[38;2;248;248;242m)\u001b[0m\u001b[38;2;248;248;242m \u001b[0m\u001b[38;2;230;219;116m'error: '\u001b[0m\u001b[38;2;248;248;242m, \u001b[0m\u001b[38;2;102;217;239mtrim\u001b[0m\u001b[38;2;248;248;242m(\u001b[0m\u001b[38;2;248;248;242mmsg\u001b[0m\u001b[38;2;248;248;242m)\u001b[0m\r\n",
      "\u001b[38;5;238m  64\u001b[0m   \u001b[38;5;238m│\u001b[0m \u001b[38;2;248;248;242m            \u001b[0m\u001b[38;2;249;38;114mstop\u001b[0m\u001b[38;2;248;248;242m \u001b[0m\u001b[38;2;190;132;255m3\u001b[0m\r\n",
      "\u001b[38;5;238m  65\u001b[0m   \u001b[38;5;238m│\u001b[0m \u001b[38;2;248;248;242m        \u001b[0m\u001b[38;2;249;38;114mend\u001b[0m\u001b[38;2;248;248;242m \u001b[0m\u001b[38;2;249;38;114mif\u001b[0m\r\n",
      "\u001b[38;5;238m  66\u001b[0m   \u001b[38;5;238m│\u001b[0m \u001b[38;2;248;248;242m    \u001b[0m\u001b[38;2;249;38;114mend\u001b[0m\u001b[38;2;248;248;242m \u001b[0m\u001b[38;2;249;38;114msubroutine\u001b[0m\u001b[38;2;248;248;242m \u001b[0m\u001b[38;2;166;226;46mget_argument\u001b[0m\r\n",
      "\u001b[38;5;238m  67\u001b[0m   \u001b[38;5;238m│\u001b[0m \r\n",
      "\u001b[38;5;238m  68\u001b[0m   \u001b[38;5;238m│\u001b[0m \u001b[38;2;249;38;114mend\u001b[0m\u001b[38;2;248;248;242m \u001b[0m\u001b[38;2;249;38;114mprogram\u001b[0m\u001b[38;2;248;248;242m \u001b[0m\u001b[38;2;166;226;46mreal32_vs_real64\u001b[0m\r\n",
      "\u001b[38;5;238m───────┴────────────────────────────────────────────────────────────────────────\u001b[0m\r\n"
     ]
    }
   ],
   "source": [
    "!bat *.f90"
   ]
  },
  {
   "cell_type": "code",
   "execution_count": 7,
   "id": "c2eeda29-613f-48fd-904b-af9aef8813a2",
   "metadata": {},
   "outputs": [],
   "source": [
    "os.chdir(code_dir)"
   ]
  },
  {
   "cell_type": "code",
   "execution_count": 8,
   "id": "0fbd7621-e800-4235-ab30-80560cc3e1a8",
   "metadata": {},
   "outputs": [
    {
     "name": "stdout",
     "output_type": "stream",
     "text": [
      "[  0%] libSection_Implicit_vs_Explici\n",
      "[ 33%] libSection_Implicit_vs_Explici  done.\n",
      "[ 33%] section_implicit_vs_explicit_l\n"
     ]
    },
    {
     "name": "stdout",
     "output_type": "stream",
     "text": [
      "[ 66%] section_implicit_vs_explicit_l  done.\n",
      "[ 66%] Section_Implicit_vs_Explicit_L\n",
      "[100%] Section_Implicit_vs_Explicit_L  done.\n",
      "[100%] Project compiled successfully.\n"
     ]
    }
   ],
   "source": [
    "build_status = os.system(\"fpm build 2>/dev/null\")"
   ]
  },
  {
   "cell_type": "markdown",
   "id": "58b5102f",
   "metadata": {},
   "source": [
    "## Run the Program using FPM (Fortran Package Manager)"
   ]
  },
  {
   "cell_type": "code",
   "execution_count": 9,
   "id": "3176b27d-932e-47a1-8099-4fae064ec661",
   "metadata": {},
   "outputs": [
    {
     "name": "stdout",
     "output_type": "stream",
     "text": [
      "Implicit loop time [s]:           0.00000100\n",
      "Summation result:           8.62599087\n",
      "Explicit loop time [s]:           0.00000100\n",
      "Summation result:          10.00116730\n"
     ]
    }
   ],
   "source": [
    "exec_status = os.system(\"fpm run -- 10 2>/dev/null\")"
   ]
  },
  {
   "cell_type": "code",
   "execution_count": 10,
   "id": "fb04b138",
   "metadata": {},
   "outputs": [
    {
     "name": "stdout",
     "output_type": "stream",
     "text": [
      "Implicit loop time [s]:           0.00000200\n",
      "Summation result:          77.57578278\n",
      "Explicit loop time [s]:           0.00000100\n",
      "Summation result:          74.62050629\n"
     ]
    }
   ],
   "source": [
    "exec_status = os.system(\"fpm run -- 100 2>/dev/null\")"
   ]
  },
  {
   "cell_type": "code",
   "execution_count": 11,
   "id": "c3aff635",
   "metadata": {},
   "outputs": [
    {
     "name": "stdout",
     "output_type": "stream",
     "text": [
      "Implicit loop time [s]:           0.00000200\n",
      "Summation result:         753.60321045\n",
      "Explicit loop time [s]:           0.00000300\n",
      "Summation result:         760.39465332\n"
     ]
    }
   ],
   "source": [
    "exec_status = os.system(\"fpm run -- 1000 2>/dev/null\")"
   ]
  },
  {
   "cell_type": "code",
   "execution_count": 12,
   "id": "e9bbbb2f",
   "metadata": {},
   "outputs": [
    {
     "name": "stdout",
     "output_type": "stream",
     "text": [
      "Implicit loop time [s]:           0.00001000\n",
      "Summation result:        7601.47216797\n",
      "Explicit loop time [s]:           0.00002100\n",
      "Summation result:        7652.75732422\n"
     ]
    }
   ],
   "source": [
    "exec_status = os.system(\"fpm run -- 10000 2>/dev/null\")"
   ]
  },
  {
   "cell_type": "code",
   "execution_count": 13,
   "id": "9b84c3fd",
   "metadata": {},
   "outputs": [
    {
     "name": "stdout",
     "output_type": "stream",
     "text": [
      "Implicit loop time [s]:           0.00012000\n",
      "Summation result:       76693.43750000\n",
      "Explicit loop time [s]:           0.00023900\n",
      "Summation result:       76563.52343750\n"
     ]
    }
   ],
   "source": [
    "exec_status = os.system(\"fpm run -- 100000 2>/dev/null\")"
   ]
  },
  {
   "cell_type": "code",
   "execution_count": 14,
   "id": "a11863e2",
   "metadata": {},
   "outputs": [
    {
     "name": "stdout",
     "output_type": "stream",
     "text": [
      "Implicit loop time [s]:           0.00107400\n",
      "Summation result:      765408.50000000\n",
      "Explicit loop time [s]:           0.00234000\n",
      "Summation result:      765084.75000000\n"
     ]
    }
   ],
   "source": [
    "exec_status = os.system(\"fpm run -- 1000000 2>/dev/null\")"
   ]
  },
  {
   "cell_type": "code",
   "execution_count": 15,
   "id": "e67f8837",
   "metadata": {},
   "outputs": [
    {
     "name": "stdout",
     "output_type": "stream",
     "text": [
      "Implicit loop time [s]:           0.01097000\n",
      "Summation result:     7670658.00000000\n"
     ]
    },
    {
     "name": "stdout",
     "output_type": "stream",
     "text": [
      "Explicit loop time [s]:           0.02409799\n",
      "Summation result:     7669361.50000000\n"
     ]
    }
   ],
   "source": [
    "exec_status = os.system(\"fpm run -- 10000000 2>/dev/null\")"
   ]
  },
  {
   "cell_type": "code",
   "execution_count": 16,
   "id": "8a580ebe",
   "metadata": {},
   "outputs": [
    {
     "name": "stdout",
     "output_type": "stream",
     "text": [
      "Implicit loop time [s]:           0.11800799\n",
      "Summation result:    33554432.00000000\n"
     ]
    },
    {
     "name": "stdout",
     "output_type": "stream",
     "text": [
      "Explicit loop time [s]:           0.23821402\n",
      "Summation result:    33554432.00000000\n"
     ]
    }
   ],
   "source": [
    "exec_status = os.system(\"fpm run -- 100000000 2>/dev/null\")"
   ]
  }
 ],
 "metadata": {
  "kernelspec": {
   "display_name": "Python 3 (ipykernel)",
   "language": "python",
   "name": "python3"
  },
  "language_info": {
   "codemirror_mode": {
    "name": "ipython",
    "version": 3
   },
   "file_extension": ".py",
   "mimetype": "text/x-python",
   "name": "python",
   "nbconvert_exporter": "python",
   "pygments_lexer": "ipython3",
   "version": "3.10.13"
  },
  "vscode": {
   "interpreter": {
    "hash": "1c7edbfe09241e3ab70fdbaa9340a6c53382c0b8a91b6341e8f1e4440b6e3c70"
   }
  }
 },
 "nbformat": 4,
 "nbformat_minor": 5
}