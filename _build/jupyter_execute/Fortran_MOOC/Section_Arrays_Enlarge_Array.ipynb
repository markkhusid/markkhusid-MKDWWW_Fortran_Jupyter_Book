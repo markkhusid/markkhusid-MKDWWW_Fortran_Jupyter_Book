{
 "cells": [
  {
   "cell_type": "raw",
   "id": "c40b648f-a44a-4480-bbee-93e7a780f45b",
   "metadata": {},
   "source": [
    "---\n",
    "jupytext:\n",
    "  formats: md:myst\n",
    "  text_representation:\n",
    "    extension: .md\n",
    "    format_name: myst\n",
    "kernelspec:\n",
    "  display_name: Python 3\n",
    "  language: python\n",
    "  name: python3\n",
    "---"
   ]
  },
  {
   "cell_type": "markdown",
   "id": "fc63b62e-3ea6-4588-8b6e-f845bbc6d64c",
   "metadata": {
    "tags": []
   },
   "source": [
    "# Section Arrays: Enlarge Array"
   ]
  },
  {
   "cell_type": "markdown",
   "id": "edfc7d7e-9803-4b96-82f1-bc0d47385f43",
   "metadata": {},
   "source": [
    "Adapted from: [https://github.com/gjbex/Fortran-MOOC/tree/master/source_code/arrays](https://github.com/gjbex/Fortran-MOOC/tree/master/source_code/arrays)"
   ]
  },
  {
   "cell_type": "markdown",
   "id": "59ec1bec-3fd7-4061-aa24-c7765d25786f",
   "metadata": {},
   "source": [
    "## This program demonstrates enlarging an array in Fortran."
   ]
  },
  {
   "cell_type": "markdown",
   "id": "c36821c7-3b26-404c-8a7c-2f978dfb65d4",
   "metadata": {},
   "source": [
    "```fortran\n",
    "program enlarge_array\n",
    "  use, intrinsic :: iso_fortran_env, only : error_unit\n",
    "  implicit none\n",
    "  integer, parameter :: initial_size = 3, size_incr = 2\n",
    "  integer, dimension(:), allocatable :: values\n",
    "  integer :: i\n",
    "  \n",
    "  allocate (values(initial_size))\n",
    "  \n",
    "  do i = 1, size(values)\n",
    "      values(i) = i\n",
    "  end do\n",
    "  print *, values\n",
    "\n",
    "  do i = 1, 3\n",
    "      call grow_array(values, size_incr)\n",
    "      print *, values\n",
    "  end do\n",
    "\n",
    "  deallocate (values)\n",
    "\n",
    "  do i = 1, 3\n",
    "      call grow_array(values, size_incr)\n",
    "      print *, values\n",
    "  end do\n",
    "\n",
    "  deallocate (values)\n",
    "\n",
    "contains\n",
    "\n",
    "    subroutine grow_array(values, size_incr)\n",
    "        implicit none\n",
    "        integer, dimension(:), allocatable, intent(inout) :: values\n",
    "        integer, value ::size_incr\n",
    "        integer, dimension(:), allocatable :: new_values\n",
    "        integer :: i, size_of_values_array\n",
    "\n",
    "        ! Added statement below to simplify allocate statement\n",
    "        size_of_values_array = size(values)\n",
    "\n",
    "        if (allocated(values)) then\n",
    "            ! The below statement fails because values and new values are of different sizes\n",
    "            ! seems to be a Fortran version issue\n",
    "            !allocate (new_values(size_of_values_array + size_incr), source=values)\n",
    "            allocate (new_values(size_of_values_array + size_incr))\n",
    "\n",
    "            ! For now I will just copy values into new_values using a loop\n",
    "            do i = 1, size(values)\n",
    "                new_values(i) = values(i)\n",
    "            end do\n",
    "\n",
    "            do i = size(values) + 1, size(new_values)\n",
    "                new_values(i) = i\n",
    "            end do\n",
    "\n",
    "            deallocate (values)\n",
    "            \n",
    "            call move_alloc(new_values, values)\n",
    "        else\n",
    "            allocate (values(size_incr))\n",
    "            do i = 1, size(values)\n",
    "                values(i) = i\n",
    "            end do\n",
    "        end if\n",
    "    end subroutine grow_array\n",
    "\n",
    "end program enlarge_array\n",
    "```"
   ]
  },
  {
   "cell_type": "markdown",
   "id": "4c6b9985-c0cb-4602-8309-4e3369dd3226",
   "metadata": {},
   "source": [
    "The above program is compiled and run using Fortran Package Manager (fpm):"
   ]
  },
  {
   "cell_type": "markdown",
   "id": "c6f9ed20",
   "metadata": {},
   "source": [
    "## Build the Program using FPM (Fortran Package Manager)"
   ]
  },
  {
   "cell_type": "code",
   "execution_count": 1,
   "id": "e8ba1050-b7b1-4e9e-87bf-28791145e5e7",
   "metadata": {},
   "outputs": [],
   "source": [
    "import os\n",
    "root_dir = os.getcwd()"
   ]
  },
  {
   "cell_type": "code",
   "execution_count": 2,
   "id": "bdaf795d-554a-46e6-b4da-faeb331e1b13",
   "metadata": {},
   "outputs": [],
   "source": [
    "code_dir = root_dir + \"/\" + \"Fortran_Code/Section_Arrays_Enlarge_Array\""
   ]
  },
  {
   "cell_type": "code",
   "execution_count": 3,
   "id": "a7d9f1b1-ba0d-4db1-84ef-7a358f0453a6",
   "metadata": {},
   "outputs": [],
   "source": [
    "os.chdir(code_dir)"
   ]
  },
  {
   "cell_type": "code",
   "execution_count": 4,
   "id": "0fbd7621-e800-4235-ab30-80560cc3e1a8",
   "metadata": {},
   "outputs": [],
   "source": [
    "build_status = os.system(\"fpm build 2>/dev/null\")"
   ]
  },
  {
   "cell_type": "markdown",
   "id": "58b5102f",
   "metadata": {},
   "source": [
    "## Run the Program using FPM (Fortran Package Manager)"
   ]
  },
  {
   "cell_type": "code",
   "execution_count": 5,
   "id": "0483d40b-e849-4574-bcbe-003c81a96dd5",
   "metadata": {},
   "outputs": [
    {
     "name": "stdout",
     "output_type": "stream",
     "text": [
      "           1           2           3\n",
      "           1           2           3           4           5\n",
      "           1           2           3           4           5           6           7\n",
      "           1           2           3           4           5           6           7           8           9\n",
      "           1           2\n",
      "           1           2           3           4\n",
      "           1           2           3           4           5           6\n"
     ]
    }
   ],
   "source": [
    "exec_status = os.system(\"fpm run 2>/dev/null\")"
   ]
  }
 ],
 "metadata": {
  "kernelspec": {
   "display_name": "Python 3.9.15 ('base')",
   "language": "python",
   "name": "python3"
  },
  "language_info": {
   "codemirror_mode": {
    "name": "ipython",
    "version": 3
   },
   "file_extension": ".py",
   "mimetype": "text/x-python",
   "name": "python",
   "nbconvert_exporter": "python",
   "pygments_lexer": "ipython3",
   "version": "3.10.14"
  },
  "vscode": {
   "interpreter": {
    "hash": "1c7edbfe09241e3ab70fdbaa9340a6c53382c0b8a91b6341e8f1e4440b6e3c70"
   }
  }
 },
 "nbformat": 4,
 "nbformat_minor": 5
}