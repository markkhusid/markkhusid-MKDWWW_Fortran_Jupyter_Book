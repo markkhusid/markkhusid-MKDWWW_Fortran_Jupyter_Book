{
 "cells": [
  {
   "cell_type": "raw",
   "id": "c40b648f-a44a-4480-bbee-93e7a780f45b",
   "metadata": {},
   "source": [
    "---\n",
    "jupytext:\n",
    "  formats: md:myst\n",
    "  text_representation:\n",
    "    extension: .md\n",
    "    format_name: myst\n",
    "kernelspec:\n",
    "  display_name: Python 3\n",
    "  language: python\n",
    "  name: python3\n",
    "---"
   ]
  },
  {
   "attachments": {},
   "cell_type": "markdown",
   "id": "fc63b62e-3ea6-4588-8b6e-f845bbc6d64c",
   "metadata": {
    "tags": []
   },
   "source": [
    "# Section: Block Matrices"
   ]
  },
  {
   "attachments": {},
   "cell_type": "markdown",
   "id": "edfc7d7e-9803-4b96-82f1-bc0d47385f43",
   "metadata": {},
   "source": [
    "Adapted from: [https://github.com/gjbex/Fortran-MOOC/tree/master/source_code/block_matrices](https://github.com/gjbex/Fortran-MOOC/tree/master/source_code/block_matrices)"
   ]
  },
  {
   "attachments": {},
   "cell_type": "markdown",
   "id": "59ec1bec-3fd7-4061-aa24-c7765d25786f",
   "metadata": {},
   "source": [
    "## This program demonstrates using the Forall construct operate on a block matrix in Fortran."
   ]
  },
  {
   "cell_type": "markdown",
   "id": "dc4e2497-4231-41a6-92ff-c69dd5712b53",
   "metadata": {},
   "source": [
    "The Fortran program `block_matrix` is designed to generate a block diagonal matrix, where each block along the diagonal is filled with ones, and the rest of the matrix is filled with zeros. The size of the matrix and the blocks within it can be specified by command-line arguments or default to a predefined size if no arguments are provided. Here's an in-depth explanation of the components and functionalities of the program:\n",
    "\n",
    "### Key Components of the Program\n",
    "\n",
    "1. **Variable Declarations**\n",
    "   - `matrix_size`: The size of the square matrix.\n",
    "   - `block_size`: The size of the blocks that will be filled with ones along the diagonal.\n",
    "   - `data`: A dynamically allocated 2D integer array that holds the matrix data.\n",
    "\n",
    "2. **Flow of Execution**\n",
    "   - The program starts by calling `get_parameters` to set the `matrix_size` and `block_size`, either from command-line arguments or default values.\n",
    "   - It then creates the block matrix using the `create_block_matrix` function.\n",
    "   - The matrix is printed using `print_matrix`.\n",
    "   - Finally, the allocated matrix is deallocated.\n",
    "\n",
    "### Detailed Explanation of Subroutines and Functions\n",
    "\n",
    "#### `get_parameters(matrix_size, block_size)`\n",
    "   - **Purpose**: To fetch and validate the size of the matrix and blocks from command-line arguments.\n",
    "   - **Input Handling**: If two command-line arguments are provided, they are read and assigned to `matrix_size` and `block_size`. If the reading fails (detected by `iostat`), an error message is displayed.\n",
    "   - **Defaults**: If not exactly two command-line arguments are given, defaults to a matrix size of 9 and a block size of 3.\n",
    "\n",
    "#### `create_block_matrix(matrix_size, block_size)`\n",
    "   - **Purpose**: To generate a block diagonal matrix based on specified sizes.\n",
    "   - **Process**:\n",
    "     - The matrix `B` is allocated with dimensions `matrix_size x matrix_size`.\n",
    "     - A nested `forall` construct is used to fill the diagonal blocks with ones. The construct iterates over starting points of blocks (variable `i`) and then fills a `block_size x block_size` block from each starting point `(i, i)`.\n",
    "     - The conditional within the `forall` ensures that the filling does not exceed the matrix dimensions, avoiding out-of-bound errors.\n",
    "   - **Error Handling**: If allocation fails, an error message is printed and the program is stopped.\n",
    "\n",
    "#### `print_matrix(A)`\n",
    "   - **Purpose**: To print the matrix to the standard output.\n",
    "   - **Details**: Iterates over each row of the matrix `A` and prints the elements formatted as integers.\n",
    "\n",
    "### Special Features and Techniques Used\n",
    "- **Command Argument Processing**: Demonstrates basic usage of `get_command_argument` for customizable program behavior.\n",
    "- **Error Handling in Allocation**: Uses `stat` and `error_unit` to manage and respond to allocation failures.\n",
    "- **Matrix Construction with `forall`**: Efficiently constructs block matrices using a `forall` statement, a parallel loop construct suited for operations on arrays.\n",
    "\n",
    "### Sample Output Explanation\n",
    "Given a `matrix_size` of 9 and a `block_size` of 3, the matrix `B` would look like this:\n",
    "```\n",
    "111000000\n",
    "111000000\n",
    "111000000\n",
    "000111000\n",
    "000111000\n",
    "000111000\n",
    "000000111\n",
    "000000111\n",
    "000000111\n",
    "```\n",
    "Each `1` represents a filled element within a `3x3` block along the diagonal in a `9x9` matrix.\n",
    "\n",
    "### Usage Scenario\n",
    "This program could be useful in numerical simulations or mathematical modeling where block diagonal matrices are required, such as in block iterative methods for solving large sparse systems of equations."
   ]
  },
  {
   "cell_type": "markdown",
   "id": "485f6965-0e08-48d2-96ec-9d0f646e1190",
   "metadata": {},
   "source": [
    "## Program Code"
   ]
  },
  {
   "attachments": {},
   "cell_type": "markdown",
   "id": "452abd72",
   "metadata": {},
   "source": [
    "In file *section_block_matrices.f90*"
   ]
  },
  {
   "attachments": {},
   "cell_type": "markdown",
   "id": "49f81255",
   "metadata": {},
   "source": [
    "```{literalinclude} Fortran_Code/Section_Block_Matrices/app/section_block_matrices.f90\n",
    "---\n",
    "language: fortran\n",
    "---\n",
    "```"
   ]
  },
  {
   "attachments": {},
   "cell_type": "markdown",
   "id": "4c6b9985-c0cb-4602-8309-4e3369dd3226",
   "metadata": {},
   "source": [
    "The above program is compiled and run using Fortran Package Manager (fpm):"
   ]
  },
  {
   "cell_type": "markdown",
   "id": "c6f9ed20",
   "metadata": {
    "tags": []
   },
   "source": [
    "## Build the Program using FPM (Fortran Package Manager)"
   ]
  },
  {
   "cell_type": "code",
   "execution_count": 1,
   "id": "f16472aa-c965-4bad-a218-fee33f7b456a",
   "metadata": {
    "execution": {
     "iopub.execute_input": "2024-05-05T02:30:33.749721Z",
     "iopub.status.busy": "2024-05-05T02:30:33.749208Z",
     "iopub.status.idle": "2024-05-05T02:30:33.754891Z",
     "shell.execute_reply": "2024-05-05T02:30:33.753763Z",
     "shell.execute_reply.started": "2024-05-05T02:30:33.749696Z"
    }
   },
   "outputs": [],
   "source": [
    "import os\n",
    "root_dir = \"\"\n",
    "root_dir = os.getcwd()"
   ]
  },
  {
   "attachments": {},
   "cell_type": "markdown",
   "id": "48d176ac",
   "metadata": {},
   "source": [
    "Since the code makes use of the LAPACK library, the following FPM configuration file (fpm.toml) was used:"
   ]
  },
  {
   "attachments": {},
   "cell_type": "markdown",
   "id": "48ce3430",
   "metadata": {},
   "source": [
    "```{literalinclude} Fortran_Code/Section_Block_Matrices/fpm.toml\n",
    "---\n",
    "language: toml\n",
    "---\n",
    "```"
   ]
  },
  {
   "cell_type": "code",
   "execution_count": 2,
   "id": "f77f9126-86cc-4a1b-89b9-5ad5f61cf72c",
   "metadata": {
    "execution": {
     "iopub.execute_input": "2024-05-05T02:31:04.161870Z",
     "iopub.status.busy": "2024-05-05T02:31:04.161344Z",
     "iopub.status.idle": "2024-05-05T02:31:04.168663Z",
     "shell.execute_reply": "2024-05-05T02:31:04.167817Z",
     "shell.execute_reply.started": "2024-05-05T02:31:04.161842Z"
    },
    "tags": []
   },
   "outputs": [],
   "source": [
    "code_dir = root_dir + \"/\" + \"Fortran_Code/Section_Block_Matrices/\""
   ]
  },
  {
   "cell_type": "code",
   "execution_count": 3,
   "id": "c2eeda29-613f-48fd-904b-af9aef8813a2",
   "metadata": {
    "execution": {
     "iopub.execute_input": "2024-05-05T02:31:08.595625Z",
     "iopub.status.busy": "2024-05-05T02:31:08.595288Z",
     "iopub.status.idle": "2024-05-05T02:31:08.600266Z",
     "shell.execute_reply": "2024-05-05T02:31:08.599232Z",
     "shell.execute_reply.started": "2024-05-05T02:31:08.595603Z"
    }
   },
   "outputs": [],
   "source": [
    "os.chdir(code_dir)"
   ]
  },
  {
   "cell_type": "code",
   "execution_count": 4,
   "id": "0fbd7621-e800-4235-ab30-80560cc3e1a8",
   "metadata": {
    "execution": {
     "iopub.execute_input": "2024-05-05T02:31:13.866051Z",
     "iopub.status.busy": "2024-05-05T02:31:13.865540Z",
     "iopub.status.idle": "2024-05-05T02:31:13.915330Z",
     "shell.execute_reply": "2024-05-05T02:31:13.914378Z",
     "shell.execute_reply.started": "2024-05-05T02:31:13.866027Z"
    }
   },
   "outputs": [],
   "source": [
    "build_status = os.system(\"fpm build 2>/dev/null\")"
   ]
  },
  {
   "cell_type": "markdown",
   "id": "58b5102f",
   "metadata": {},
   "source": [
    "## Run the Program using FPM (Fortran Package Manager)"
   ]
  },
  {
   "cell_type": "code",
   "execution_count": 5,
   "id": "3176b27d-932e-47a1-8099-4fae064ec661",
   "metadata": {
    "execution": {
     "iopub.execute_input": "2024-05-05T02:33:18.688913Z",
     "iopub.status.busy": "2024-05-05T02:33:18.687810Z",
     "iopub.status.idle": "2024-05-05T02:33:18.740359Z",
     "shell.execute_reply": "2024-05-05T02:33:18.739747Z",
     "shell.execute_reply.started": "2024-05-05T02:33:18.688873Z"
    }
   },
   "outputs": [],
   "source": [
    "exec_status = \\\n",
    "    os.system(\"fpm run 2>/dev/null\")"
   ]
  }
 ],
 "metadata": {
  "kernelspec": {
   "display_name": "Python 3 (ipykernel)",
   "language": "python",
   "name": "python3"
  },
  "language_info": {
   "codemirror_mode": {
    "name": "ipython",
    "version": 3
   },
   "file_extension": ".py",
   "mimetype": "text/x-python",
   "name": "python",
   "nbconvert_exporter": "python",
   "pygments_lexer": "ipython3",
   "version": "3.10.14"
  }
 },
 "nbformat": 4,
 "nbformat_minor": 5
}