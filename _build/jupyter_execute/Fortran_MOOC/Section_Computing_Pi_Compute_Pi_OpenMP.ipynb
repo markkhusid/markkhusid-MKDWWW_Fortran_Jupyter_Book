{
 "cells": [
  {
   "cell_type": "raw",
   "id": "c40b648f-a44a-4480-bbee-93e7a780f45b",
   "metadata": {},
   "source": [
    "---\n",
    "jupytext:\n",
    "  formats: md:myst\n",
    "  text_representation:\n",
    "    extension: .md\n",
    "    format_name: myst\n",
    "kernelspec:\n",
    "  display_name: Python 3\n",
    "  language: python\n",
    "  name: python3\n",
    "---"
   ]
  },
  {
   "cell_type": "markdown",
   "id": "fc63b62e-3ea6-4588-8b6e-f845bbc6d64c",
   "metadata": {
    "tags": []
   },
   "source": [
    "# Section Computing Pi: Compute Pi with OpenMP\n"
   ]
  },
  {
   "cell_type": "markdown",
   "id": "edfc7d7e-9803-4b96-82f1-bc0d47385f43",
   "metadata": {},
   "source": [
    "Adapted from: [https://github.com/gjbex/Fortran-MOOC/tree/master/source_code/computing_pi](https://github.com/gjbex/Fortran-MOOC/tree/master/source_code/computing_pi)"
   ]
  },
  {
   "cell_type": "markdown",
   "id": "59ec1bec-3fd7-4061-aa24-c7765d25786f",
   "metadata": {},
   "source": [
    "## This program demonstrates computing $\\pi$ in Fortran using OpenMP.  The program uses the following equation for computation:"
   ]
  },
  {
   "cell_type": "markdown",
   "id": "9fd8964a-042e-4bcd-a90a-93bfa6acd96a",
   "metadata": {},
   "source": [
    "$$\n",
    "\\Large \\pi = 4 \\int_{0}^{1} \\sqrt{1-x^2}dx\n",
    "$$"
   ]
  },
  {
   "attachments": {},
   "cell_type": "markdown",
   "id": "ae43bd88",
   "metadata": {},
   "source": [
    "### In file section_computing_pi_compute_pi_openmp.f90"
   ]
  },
  {
   "attachments": {},
   "cell_type": "markdown",
   "id": "49f81255",
   "metadata": {},
   "source": [
    "```{literalinclude} Fortran_Code/Section_Computing_Pi_Compute_Pi_OpenMP/app/section_computing_pi_compute_pi_openmp.f90\n",
    "---\n",
    "language: fortran\n",
    "---\n",
    "```"
   ]
  },
  {
   "cell_type": "markdown",
   "id": "4c6b9985-c0cb-4602-8309-4e3369dd3226",
   "metadata": {},
   "source": [
    "The above program is compiled and run using Fortran Package Manager (fpm):"
   ]
  },
  {
   "cell_type": "markdown",
   "id": "c6f9ed20",
   "metadata": {
    "tags": []
   },
   "source": [
    "## Build the Program using FPM (Fortran Package Manager)"
   ]
  },
  {
   "cell_type": "code",
   "execution_count": 1,
   "id": "f16472aa-c965-4bad-a218-fee33f7b456a",
   "metadata": {},
   "outputs": [],
   "source": [
    "import os\n",
    "root_dir = \"\"\n",
    "root_dir = os.getcwd()"
   ]
  },
  {
   "cell_type": "markdown",
   "id": "f4c7e5a2",
   "metadata": {},
   "source": [
    "Since this program uses the OpenMP external library, the fpm.toml file had to be augmented as below."
   ]
  },
  {
   "attachments": {},
   "cell_type": "markdown",
   "id": "48ce3430",
   "metadata": {},
   "source": [
    "```{literalinclude} Fortran_Code/Section_Computing_Pi_Compute_Pi_OpenMP/fpm.toml\n",
    "---\n",
    "language: toml\n",
    "---\n",
    "```"
   ]
  },
  {
   "cell_type": "code",
   "execution_count": 2,
   "id": "f77f9126-86cc-4a1b-89b9-5ad5f61cf72c",
   "metadata": {
    "tags": []
   },
   "outputs": [],
   "source": [
    "code_dir = root_dir + \"/\" + \"Fortran_Code/Section_Computing_Pi_Compute_Pi_OpenMP\""
   ]
  },
  {
   "cell_type": "code",
   "execution_count": 3,
   "id": "c2eeda29-613f-48fd-904b-af9aef8813a2",
   "metadata": {},
   "outputs": [],
   "source": [
    "os.chdir(code_dir)"
   ]
  },
  {
   "cell_type": "markdown",
   "id": "9775df6f-26f0-409a-ac79-b6e7d10f2309",
   "metadata": {},
   "source": [
    "We use FPM (Fortran Package Manager) to build and link OpenMP into the executable with the --flag -fopenmp switches."
   ]
  },
  {
   "cell_type": "code",
   "execution_count": 4,
   "id": "0fbd7621-e800-4235-ab30-80560cc3e1a8",
   "metadata": {},
   "outputs": [],
   "source": [
    "build_status = os.system(\"fpm build --flag -fopenmp 2>/dev/null\")"
   ]
  },
  {
   "cell_type": "markdown",
   "id": "58b5102f",
   "metadata": {},
   "source": [
    "## Run the Program using FPM (Fortran Package Manager)"
   ]
  },
  {
   "cell_type": "markdown",
   "id": "cb73b5fd-9594-4ab5-a801-457d6083d64f",
   "metadata": {},
   "source": [
    "### 10 Iterations"
   ]
  },
  {
   "cell_type": "code",
   "execution_count": 5,
   "id": "3176b27d-932e-47a1-8099-4fae064ec661",
   "metadata": {},
   "outputs": [
    {
     "name": "stdout",
     "output_type": "stream",
     "text": [
      "31.4 ms ± 1.95 ms per loop (mean ± std. dev. of 10 runs, 1 loop each)\n"
     ]
    }
   ],
   "source": [
    "%%timeit -r 10 -n 1\n",
    "exec_status = os.system(\"fpm run -- 10 2>/dev/null > output.txt\")"
   ]
  },
  {
   "cell_type": "code",
   "execution_count": 6,
   "id": "679b9cc1-d841-4f33-b497-e240c0e8cc75",
   "metadata": {},
   "outputs": [
    {
     "name": "stdout",
     "output_type": "stream",
     "text": [
      "After              10 loops, Pi =         2.904518326248318\r\n",
      "Actual value of Pi =         3.141592653589793\r\n",
      "Absolute difference =         0.237074327341475\r\n"
     ]
    }
   ],
   "source": [
    "%cat output.txt"
   ]
  },
  {
   "cell_type": "markdown",
   "id": "46ff98b0-1945-4b40-a5b8-86f15d5297d9",
   "metadata": {},
   "source": [
    "### 100 Iterations"
   ]
  },
  {
   "cell_type": "code",
   "execution_count": 7,
   "id": "67d698db",
   "metadata": {},
   "outputs": [
    {
     "name": "stdout",
     "output_type": "stream",
     "text": [
      "31.2 ms ± 2.52 ms per loop (mean ± std. dev. of 10 runs, 1 loop each)\n"
     ]
    }
   ],
   "source": [
    "%%timeit -r 10 -n 1\n",
    "exec_status = os.system(\"fpm run -- 100 2>/dev/null > output.txt\")"
   ]
  },
  {
   "cell_type": "code",
   "execution_count": 8,
   "id": "8e04dd66-6b5f-4e82-95b8-24fd654c3f2d",
   "metadata": {},
   "outputs": [
    {
     "name": "stdout",
     "output_type": "stream",
     "text": [
      "After             100 loops, Pi =         3.120417031779045\r\n",
      "Actual value of Pi =         3.141592653589793\r\n",
      "Absolute difference =         0.021175621810748\r\n"
     ]
    }
   ],
   "source": [
    "%cat output.txt"
   ]
  },
  {
   "cell_type": "markdown",
   "id": "1eed13c1-bb48-4e38-9d4f-bac942ab274e",
   "metadata": {},
   "source": [
    "### 1,000 Iterations"
   ]
  },
  {
   "cell_type": "code",
   "execution_count": 9,
   "id": "8beb605f",
   "metadata": {},
   "outputs": [
    {
     "name": "stdout",
     "output_type": "stream",
     "text": [
      "33.2 ms ± 2.87 ms per loop (mean ± std. dev. of 10 runs, 1 loop each)\n"
     ]
    }
   ],
   "source": [
    "%%timeit -r 10 -n 1\n",
    "exec_status = os.system(\"fpm run -- 1000 2>/dev/null > output.txt\")"
   ]
  },
  {
   "cell_type": "code",
   "execution_count": 10,
   "id": "65f80bc2-e4a1-4743-ba8f-015127d179e0",
   "metadata": {},
   "outputs": [
    {
     "name": "stdout",
     "output_type": "stream",
     "text": [
      "After            1000 loops, Pi =         3.139555466911027\r\n",
      "Actual value of Pi =         3.141592653589793\r\n",
      "Absolute difference =         0.002037186678766\r\n"
     ]
    }
   ],
   "source": [
    "%cat output.txt"
   ]
  },
  {
   "cell_type": "markdown",
   "id": "706cd3c9-9a8c-4977-b49c-3ebf9daa72d3",
   "metadata": {},
   "source": [
    "### 10,000 Iterations"
   ]
  },
  {
   "cell_type": "code",
   "execution_count": 11,
   "id": "2d1a2712",
   "metadata": {},
   "outputs": [
    {
     "name": "stdout",
     "output_type": "stream",
     "text": [
      "32.4 ms ± 3.78 ms per loop (mean ± std. dev. of 10 runs, 1 loop each)\n"
     ]
    }
   ],
   "source": [
    "%%timeit -r 10 -n 1\n",
    "exec_status = os.system(\"fpm run -- 10000 2>/dev/null > output.txt\")"
   ]
  },
  {
   "cell_type": "code",
   "execution_count": 12,
   "id": "b49b7014-bd95-4490-b6bd-8e47ccd7c128",
   "metadata": {},
   "outputs": [
    {
     "name": "stdout",
     "output_type": "stream",
     "text": [
      "After           10000 loops, Pi =         3.141391477611324\r\n",
      "Actual value of Pi =         3.141592653589793\r\n",
      "Absolute difference =         0.000201175978469\r\n"
     ]
    }
   ],
   "source": [
    "%cat output.txt"
   ]
  },
  {
   "cell_type": "markdown",
   "id": "e30c73bf-263d-409f-a89b-c9f822d890ab",
   "metadata": {},
   "source": [
    "### 100,000 Iterations"
   ]
  },
  {
   "cell_type": "code",
   "execution_count": 13,
   "id": "758e3cb0",
   "metadata": {},
   "outputs": [
    {
     "name": "stdout",
     "output_type": "stream",
     "text": [
      "32.6 ms ± 6.12 ms per loop (mean ± std. dev. of 10 runs, 1 loop each)\n"
     ]
    }
   ],
   "source": [
    "%%timeit -r 10 -n 1\n",
    "exec_status = os.system(\"fpm run -- 100000 2>/dev/null > output.txt\")"
   ]
  },
  {
   "cell_type": "code",
   "execution_count": 14,
   "id": "7f5f2558-bb61-4fcc-a857-abf1dea792e3",
   "metadata": {},
   "outputs": [
    {
     "name": "stdout",
     "output_type": "stream",
     "text": [
      "After          100000 loops, Pi =         3.141572616401988\r\n",
      "Actual value of Pi =         3.141592653589793\r\n",
      "Absolute difference =         0.000020037187805\r\n"
     ]
    }
   ],
   "source": [
    "%cat output.txt"
   ]
  },
  {
   "cell_type": "markdown",
   "id": "a52dd31c-fdbc-4a10-b80f-d9afc9dbf7fb",
   "metadata": {},
   "source": [
    "### 1,000,000 Iterations"
   ]
  },
  {
   "cell_type": "code",
   "execution_count": 15,
   "id": "01d5a006",
   "metadata": {},
   "outputs": [
    {
     "name": "stdout",
     "output_type": "stream",
     "text": [
      "34.5 ms ± 5.39 ms per loop (mean ± std. dev. of 10 runs, 1 loop each)\n"
     ]
    }
   ],
   "source": [
    "%%timeit -r 10 -n 1\n",
    "exec_status = os.system(\"fpm run -- 1000000 2>/dev/null > output.txt\")"
   ]
  },
  {
   "cell_type": "code",
   "execution_count": 16,
   "id": "c5b4e5e4-abf5-498e-937d-100a52f1faf5",
   "metadata": {},
   "outputs": [
    {
     "name": "stdout",
     "output_type": "stream",
     "text": [
      "After         1000000 loops, Pi =         3.141590652413800\r\n",
      "Actual value of Pi =         3.141592653589793\r\n",
      "Absolute difference =         0.000002001175993\r\n"
     ]
    }
   ],
   "source": [
    "%cat output.txt"
   ]
  },
  {
   "cell_type": "markdown",
   "id": "ce0d7c30-5b62-436a-94dd-602714be811f",
   "metadata": {},
   "source": [
    "### 10,000,000 Iterations"
   ]
  },
  {
   "cell_type": "code",
   "execution_count": 17,
   "id": "60f0e63e",
   "metadata": {},
   "outputs": [
    {
     "name": "stdout",
     "output_type": "stream",
     "text": [
      "40.2 ms ± 11.3 ms per loop (mean ± std. dev. of 10 runs, 2 loops each)\n"
     ]
    }
   ],
   "source": [
    "%%timeit -r 10 -n 2\n",
    "exec_status = os.system(\"fpm run -- 10000000 2>/dev/null > output.txt\")"
   ]
  },
  {
   "cell_type": "code",
   "execution_count": 18,
   "id": "19ebfb74-a694-4f73-9492-09385fb81184",
   "metadata": {},
   "outputs": [
    {
     "name": "stdout",
     "output_type": "stream",
     "text": [
      "After        10000000 loops, Pi =         3.141592453552619\r\n",
      "Actual value of Pi =         3.141592653589793\r\n",
      "Absolute difference =         0.000000200037174\r\n"
     ]
    }
   ],
   "source": [
    "%cat output.txt"
   ]
  },
  {
   "cell_type": "markdown",
   "id": "c935b5eb-3a74-44be-b1dc-4927ccf777ae",
   "metadata": {},
   "source": [
    "### 100,000,000 Iterations"
   ]
  },
  {
   "cell_type": "code",
   "execution_count": 19,
   "id": "9a056210",
   "metadata": {},
   "outputs": [
    {
     "name": "stdout",
     "output_type": "stream",
     "text": [
      "74.6 ms ± 9.45 ms per loop (mean ± std. dev. of 10 runs, 2 loops each)\n"
     ]
    }
   ],
   "source": [
    "%%timeit -r 10 -n 2\n",
    "exec_status = os.system(\"fpm run -- 100000000 2>/dev/null > output.txt\")"
   ]
  },
  {
   "cell_type": "code",
   "execution_count": 20,
   "id": "1a06b118-5eae-4265-9855-9276cf1c9f8e",
   "metadata": {},
   "outputs": [
    {
     "name": "stdout",
     "output_type": "stream",
     "text": [
      "After       100000000 loops, Pi =         3.141592633588636\r\n",
      "Actual value of Pi =         3.141592653589793\r\n",
      "Absolute difference =         0.000000020001157\r\n"
     ]
    }
   ],
   "source": [
    "%cat output.txt"
   ]
  },
  {
   "cell_type": "markdown",
   "id": "f6ed1e6e-ce29-43d7-bb23-2a9914b3c15f",
   "metadata": {},
   "source": [
    "### 1,000,000,000 Iterations"
   ]
  },
  {
   "cell_type": "code",
   "execution_count": 21,
   "id": "7d31a72c-cd45-4e36-a776-7c9f66fd8616",
   "metadata": {},
   "outputs": [
    {
     "name": "stdout",
     "output_type": "stream",
     "text": [
      "427 ms ± 71.2 ms per loop (mean ± std. dev. of 10 runs, 2 loops each)\n"
     ]
    }
   ],
   "source": [
    "%%timeit -r 10 -n 2\n",
    "exec_status = os.system(\"fpm run -- 1000000000 2>/dev/null > output.txt\")"
   ]
  },
  {
   "cell_type": "code",
   "execution_count": 22,
   "id": "bbbe329f-fe25-41b7-a3ae-bf09e6135205",
   "metadata": {},
   "outputs": [
    {
     "name": "stdout",
     "output_type": "stream",
     "text": [
      "After      1000000000 loops, Pi =         3.141592651589789\r\n",
      "Actual value of Pi =         3.141592653589793\r\n",
      "Absolute difference =         0.000000002000004\r\n"
     ]
    }
   ],
   "source": [
    "%cat output.txt"
   ]
  }
 ],
 "metadata": {
  "kernelspec": {
   "display_name": "Python 3 (ipykernel)",
   "language": "python",
   "name": "python3"
  },
  "language_info": {
   "codemirror_mode": {
    "name": "ipython",
    "version": 3
   },
   "file_extension": ".py",
   "mimetype": "text/x-python",
   "name": "python",
   "nbconvert_exporter": "python",
   "pygments_lexer": "ipython3",
   "version": "3.10.14"
  },
  "vscode": {
   "interpreter": {
    "hash": "1c7edbfe09241e3ab70fdbaa9340a6c53382c0b8a91b6341e8f1e4440b6e3c70"
   }
  }
 },
 "nbformat": 4,
 "nbformat_minor": 5
}