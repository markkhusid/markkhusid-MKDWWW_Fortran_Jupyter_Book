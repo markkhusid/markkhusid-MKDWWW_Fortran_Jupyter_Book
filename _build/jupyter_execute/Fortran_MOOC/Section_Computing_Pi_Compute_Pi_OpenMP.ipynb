{
 "cells": [
  {
   "cell_type": "raw",
   "id": "c40b648f-a44a-4480-bbee-93e7a780f45b",
   "metadata": {},
   "source": [
    "---\n",
    "jupytext:\n",
    "  formats: md:myst\n",
    "  text_representation:\n",
    "    extension: .md\n",
    "    format_name: myst\n",
    "kernelspec:\n",
    "  display_name: Python 3\n",
    "  language: python\n",
    "  name: python3\n",
    "---"
   ]
  },
  {
   "cell_type": "markdown",
   "id": "fc63b62e-3ea6-4588-8b6e-f845bbc6d64c",
   "metadata": {
    "tags": []
   },
   "source": [
    "# Section Computing Pi: Compute Pi with OpenMP\n"
   ]
  },
  {
   "cell_type": "markdown",
   "id": "edfc7d7e-9803-4b96-82f1-bc0d47385f43",
   "metadata": {},
   "source": [
    "Adapted from: [https://github.com/gjbex/Fortran-MOOC/tree/master/source_code/computing_pi](https://github.com/gjbex/Fortran-MOOC/tree/master/source_code/computing_pi)"
   ]
  },
  {
   "cell_type": "markdown",
   "id": "59ec1bec-3fd7-4061-aa24-c7765d25786f",
   "metadata": {},
   "source": [
    "## This program demonstrates computing $\\pi$ in Fortran using OpenMP.  The program uses the following equation for computation:"
   ]
  },
  {
   "cell_type": "markdown",
   "id": "9fd8964a-042e-4bcd-a90a-93bfa6acd96a",
   "metadata": {},
   "source": [
    "$$\n",
    "\\Large \\pi = 4 \\int_{0}^{1} \\sqrt{1-x^2}dx\n",
    "$$"
   ]
  },
  {
   "cell_type": "markdown",
   "id": "a2705efc",
   "metadata": {},
   "source": [
    "```fortran\n",
    "program compute_pi_omp\n",
    "  use, intrinsic :: iso_fortran_env, only : DP => REAL64, I8 => INT64\n",
    "  implicit none\n",
    "  integer(kind=I8) :: i, nr_iters\n",
    "  real(kind=DP) :: delta, x, pi_val\n",
    "\n",
    "  pi_val = 0.0_DP\n",
    "  nr_iters = get_nr_iters()\n",
    "  delta = 1.0_DP/nr_iters\n",
    "  x = 0.0_DP\n",
    "\n",
    "  !$omp parallel do default(none) private(x) shared(delta, nr_iters) reduction(+:pi_val)\n",
    "  do i = 1, nr_iters\n",
    "      x = i*delta\n",
    "      pi_val = pi_val + sqrt(1.0_DP - x**2)\n",
    "  end do\n",
    "  !$omp end parallel do\n",
    "\n",
    "  pi_val = 4.0_DP*pi_val/nr_iters\n",
    "  print '(A, I10, A, F25.15)', \"After \", nr_iters, \" loops, Pi = \", pi_val\n",
    "\n",
    "contains\n",
    "   \n",
    "  function get_nr_iters() result(nr_iters)\n",
    "      use, intrinsic :: iso_fortran_env, only : error_unit\n",
    "      implicit none\n",
    "      integer(kind=I8) :: nr_iters\n",
    "      integer(kind=I8), parameter :: default_nr_iters = 1000_I8\n",
    "      character(len=1024) :: buffer, msg\n",
    "      integer :: istat\n",
    "\n",
    "      if (command_argument_count() >= 1) then\n",
    "          call get_command_argument(1, buffer)\n",
    "          read (buffer, fmt=*, iostat=istat, iomsg=msg) nr_iters\n",
    "          if (istat /= 0) then\n",
    "              write (unit=error_unit, fmt='(2A)') &\n",
    "                  'error: ', msg\n",
    "              stop 1\n",
    "          end if\n",
    "      else\n",
    "          nr_iters = default_nr_iters\n",
    "      end if\n",
    "  end function get_nr_iters\n",
    "\n",
    "end program compute_pi_omp\n",
    "```"
   ]
  },
  {
   "cell_type": "markdown",
   "id": "4c6b9985-c0cb-4602-8309-4e3369dd3226",
   "metadata": {},
   "source": [
    "The above program is compiled and run using Fortran Package Manager (fpm):"
   ]
  },
  {
   "cell_type": "markdown",
   "id": "c6f9ed20",
   "metadata": {
    "tags": []
   },
   "source": [
    "## Build the Program using FPM (Fortran Package Manager)"
   ]
  },
  {
   "cell_type": "code",
   "execution_count": 1,
   "id": "f16472aa-c965-4bad-a218-fee33f7b456a",
   "metadata": {},
   "outputs": [],
   "source": [
    "import os\n",
    "root_dir = \"\"\n",
    "root_dir = os.getcwd()"
   ]
  },
  {
   "cell_type": "code",
   "execution_count": 2,
   "id": "f77f9126-86cc-4a1b-89b9-5ad5f61cf72c",
   "metadata": {
    "tags": []
   },
   "outputs": [],
   "source": [
    "code_dir = root_dir + \"/\" + \"Fortran_Code/Section_Computing_Pi_Compute_Pi_OpenMP\""
   ]
  },
  {
   "cell_type": "code",
   "execution_count": 3,
   "id": "dda7a884",
   "metadata": {
    "tags": [
     "remove-cell"
    ]
   },
   "outputs": [],
   "source": [
    "code_app_dir = code_dir + \"/\" + \"app\""
   ]
  },
  {
   "cell_type": "code",
   "execution_count": 4,
   "id": "0c1bfdce-7589-4f56-be03-b2be392d952f",
   "metadata": {
    "tags": [
     "remove-cell"
    ]
   },
   "outputs": [],
   "source": [
    "os.chdir(code_app_dir)"
   ]
  },
  {
   "cell_type": "code",
   "execution_count": 5,
   "id": "acf272e3-a204-4981-9008-359bb189b9bb",
   "metadata": {
    "tags": [
     "remove-cell"
    ]
   },
   "outputs": [],
   "source": [
    "%%capture\n",
    "%%writefile section_computing_pi_compute_pi_openmp.f90\n",
    "program compute_pi_omp\n",
    "  use, intrinsic :: iso_fortran_env, only : DP => REAL64, I8 => INT64\n",
    "  implicit none\n",
    "  integer(kind=I8) :: i, nr_iters\n",
    "  real(kind=DP) :: delta, x, pi_val\n",
    "\n",
    "  pi_val = 0.0_DP\n",
    "  nr_iters = get_nr_iters()\n",
    "  delta = 1.0_DP/nr_iters\n",
    "  x = 0.0_DP\n",
    "\n",
    "  !$omp parallel do default(none) private(x) shared(delta, nr_iters) reduction(+:pi_val)\n",
    "  do i = 1, nr_iters\n",
    "      x = i*delta\n",
    "      pi_val = pi_val + sqrt(1.0_DP - x**2)\n",
    "  end do\n",
    "  !$omp end parallel do\n",
    "\n",
    "  pi_val = 4.0_DP*pi_val/nr_iters\n",
    "  print '(A, I10, A, F25.15)', \"After \", nr_iters, \" loops, Pi = \", pi_val\n",
    "\n",
    "contains\n",
    "   \n",
    "  function get_nr_iters() result(nr_iters)\n",
    "      use, intrinsic :: iso_fortran_env, only : error_unit\n",
    "      implicit none\n",
    "      integer(kind=I8) :: nr_iters\n",
    "      integer(kind=I8), parameter :: default_nr_iters = 1000_I8\n",
    "      character(len=1024) :: buffer, msg\n",
    "      integer :: istat\n",
    "\n",
    "      if (command_argument_count() >= 1) then\n",
    "          call get_command_argument(1, buffer)\n",
    "          read (buffer, fmt=*, iostat=istat, iomsg=msg) nr_iters\n",
    "          if (istat /= 0) then\n",
    "              write (unit=error_unit, fmt='(2A)') &\n",
    "                  'error: ', msg\n",
    "              stop 1\n",
    "          end if\n",
    "      else\n",
    "          nr_iters = default_nr_iters\n",
    "      end if\n",
    "  end function get_nr_iters\n",
    "\n",
    "end program compute_pi_omp"
   ]
  },
  {
   "cell_type": "code",
   "execution_count": 6,
   "id": "44a19d30-a4e2-4fbc-8411-5544ab612b88",
   "metadata": {
    "tags": [
     "remove-cell"
    ]
   },
   "outputs": [
    {
     "name": "stdout",
     "output_type": "stream",
     "text": [
      "\u001b[38;5;238m───────┬────────────────────────────────────────────────────────────────────────\u001b[0m\r\n",
      "       \u001b[38;5;238m│ \u001b[0mFile: \u001b[1msection_computing_pi_compute_pi_openmp.f90\u001b[0m\r\n",
      "\u001b[38;5;238m───────┼────────────────────────────────────────────────────────────────────────\u001b[0m\r\n",
      "\u001b[38;5;238m   1\u001b[0m   \u001b[38;5;238m│\u001b[0m \u001b[38;2;249;38;114mprogram\u001b[0m\u001b[38;2;248;248;242m \u001b[0m\u001b[38;2;166;226;46mcompute_pi_omp\u001b[0m\r\n",
      "\u001b[38;5;238m   2\u001b[0m   \u001b[38;5;238m│\u001b[0m \u001b[38;2;248;248;242m  use, intrinsic \u001b[0m\u001b[38;2;249;38;114m::\u001b[0m\u001b[38;2;248;248;242m iso_fortran_env, only : DP \u001b[0m\u001b[38;2;249;38;114m=>\u001b[0m\u001b[38;2;248;248;242m \u001b[0m\u001b[38;2;102;217;239mREAL64\u001b[0m\u001b[38;2;248;248;242m, I8 \u001b[0m\u001b[38;2;249;38;114m=>\u001b[0m\u001b[38;2;248;248;242m \u001b[0m\u001b[38;2;102;217;239mINT64\u001b[0m\r\n",
      "\u001b[38;5;238m   3\u001b[0m   \u001b[38;5;238m│\u001b[0m \u001b[38;2;248;248;242m  \u001b[0m\u001b[38;2;249;38;114mimplicit\u001b[0m\u001b[38;2;248;248;242m \u001b[0m\u001b[38;2;249;38;114mnone\u001b[0m\r\n",
      "\u001b[38;5;238m   4\u001b[0m   \u001b[38;5;238m│\u001b[0m \u001b[38;2;248;248;242m  \u001b[0m\u001b[38;2;248;248;242minteger\u001b[0m\u001b[38;2;248;248;242m(\u001b[0m\u001b[38;2;253;151;31mkind\u001b[0m\u001b[38;2;249;38;114m=\u001b[0m\u001b[38;2;248;248;242mI8\u001b[0m\u001b[38;2;248;248;242m)\u001b[0m\u001b[38;2;248;248;242m \u001b[0m\u001b[38;2;249;38;114m::\u001b[0m\u001b[38;2;248;248;242m i, nr_iters\u001b[0m\r\n",
      "\u001b[38;5;238m   5\u001b[0m   \u001b[38;5;238m│\u001b[0m \u001b[38;2;248;248;242m  \u001b[0m\u001b[38;2;102;217;239mreal\u001b[0m\u001b[38;2;248;248;242m(\u001b[0m\u001b[38;2;248;248;242mkind\u001b[0m\u001b[38;2;249;38;114m=\u001b[0m\u001b[38;2;248;248;242mDP\u001b[0m\u001b[38;2;248;248;242m)\u001b[0m\u001b[38;2;248;248;242m \u001b[0m\u001b[38;2;249;38;114m::\u001b[0m\u001b[38;2;248;248;242m delta, x, pi_val\u001b[0m\r\n",
      "\u001b[38;5;238m   6\u001b[0m   \u001b[38;5;238m│\u001b[0m \r\n",
      "\u001b[38;5;238m   7\u001b[0m   \u001b[38;5;238m│\u001b[0m \u001b[38;2;248;248;242m  pi_val \u001b[0m\u001b[38;2;249;38;114m=\u001b[0m\u001b[38;2;248;248;242m \u001b[0m\u001b[38;2;190;132;255m0.0_DP\u001b[0m\r\n",
      "\u001b[38;5;238m   8\u001b[0m   \u001b[38;5;238m│\u001b[0m \u001b[38;2;248;248;242m  nr_iters \u001b[0m\u001b[38;2;249;38;114m=\u001b[0m\u001b[38;2;248;248;242m \u001b[0m\u001b[38;2;248;248;242mget_nr_iters\u001b[0m\u001b[38;2;248;248;242m(\u001b[0m\u001b[38;2;248;248;242m)\u001b[0m\r\n",
      "\u001b[38;5;238m   9\u001b[0m   \u001b[38;5;238m│\u001b[0m \u001b[38;2;248;248;242m  delta \u001b[0m\u001b[38;2;249;38;114m=\u001b[0m\u001b[38;2;248;248;242m \u001b[0m\u001b[38;2;190;132;255m1.0_DP\u001b[0m\u001b[38;2;249;38;114m/\u001b[0m\u001b[38;2;248;248;242mnr_iters\u001b[0m\r\n",
      "\u001b[38;5;238m  10\u001b[0m   \u001b[38;5;238m│\u001b[0m \u001b[38;2;248;248;242m  x \u001b[0m\u001b[38;2;249;38;114m=\u001b[0m\u001b[38;2;248;248;242m \u001b[0m\u001b[38;2;190;132;255m0.0_DP\u001b[0m\r\n",
      "\u001b[38;5;238m  11\u001b[0m   \u001b[38;5;238m│\u001b[0m \r\n",
      "\u001b[38;5;238m  12\u001b[0m   \u001b[38;5;238m│\u001b[0m \u001b[38;2;248;248;242m  \u001b[0m\u001b[38;2;117;113;94m!$\u001b[0m\u001b[1;38;2;249;38;114momp parallel do default(none) private(x) shared(delta, nr_iters) re\u001b[0m\r\n",
      "\u001b[38;5;238m    \u001b[0m   \u001b[38;5;238m│\u001b[0m \u001b[1;38;2;249;38;114mduction(+:pi_val)\u001b[0m\r\n",
      "\u001b[38;5;238m  13\u001b[0m   \u001b[38;5;238m│\u001b[0m \u001b[38;2;248;248;242m  \u001b[0m\u001b[38;2;249;38;114mdo\u001b[0m\u001b[38;2;248;248;242m \u001b[0m\u001b[38;2;248;248;242mi\u001b[0m\u001b[38;2;248;248;242m \u001b[0m\u001b[38;2;249;38;114m=\u001b[0m\u001b[38;2;248;248;242m \u001b[0m\u001b[38;2;190;132;255m1\u001b[0m\u001b[38;2;248;248;242m, nr_iters\u001b[0m\r\n",
      "\u001b[38;5;238m  14\u001b[0m   \u001b[38;5;238m│\u001b[0m \u001b[38;2;248;248;242m      x \u001b[0m\u001b[38;2;249;38;114m=\u001b[0m\u001b[38;2;248;248;242m i\u001b[0m\u001b[38;2;249;38;114m*\u001b[0m\u001b[38;2;248;248;242mdelta\u001b[0m\r\n",
      "\u001b[38;5;238m  15\u001b[0m   \u001b[38;5;238m│\u001b[0m \u001b[38;2;248;248;242m      pi_val \u001b[0m\u001b[38;2;249;38;114m=\u001b[0m\u001b[38;2;248;248;242m pi_val \u001b[0m\u001b[38;2;249;38;114m+\u001b[0m\u001b[38;2;248;248;242m \u001b[0m\u001b[38;2;102;217;239msqrt\u001b[0m\u001b[38;2;248;248;242m(\u001b[0m\u001b[38;2;190;132;255m1.0_DP\u001b[0m\u001b[38;2;248;248;242m \u001b[0m\u001b[38;2;249;38;114m-\u001b[0m\u001b[38;2;248;248;242m x\u001b[0m\u001b[38;2;249;38;114m**\u001b[0m\u001b[38;2;190;132;255m2\u001b[0m\u001b[38;2;248;248;242m)\u001b[0m\r\n",
      "\u001b[38;5;238m  16\u001b[0m   \u001b[38;5;238m│\u001b[0m \u001b[38;2;248;248;242m  \u001b[0m\u001b[38;2;249;38;114mend\u001b[0m\u001b[38;2;248;248;242m \u001b[0m\u001b[38;2;249;38;114mdo\u001b[0m\r\n",
      "\u001b[38;5;238m  17\u001b[0m   \u001b[38;5;238m│\u001b[0m \u001b[38;2;248;248;242m  \u001b[0m\u001b[38;2;117;113;94m!$\u001b[0m\u001b[1;38;2;249;38;114momp end parallel do\u001b[0m\r\n",
      "\u001b[38;5;238m  18\u001b[0m   \u001b[38;5;238m│\u001b[0m \r\n",
      "\u001b[38;5;238m  19\u001b[0m   \u001b[38;5;238m│\u001b[0m \u001b[38;2;248;248;242m  pi_val \u001b[0m\u001b[38;2;249;38;114m=\u001b[0m\u001b[38;2;248;248;242m \u001b[0m\u001b[38;2;190;132;255m4.0_DP\u001b[0m\u001b[38;2;249;38;114m*\u001b[0m\u001b[38;2;248;248;242mpi_val\u001b[0m\u001b[38;2;249;38;114m/\u001b[0m\u001b[38;2;248;248;242mnr_iters\u001b[0m\r\n",
      "\u001b[38;5;238m  20\u001b[0m   \u001b[38;5;238m│\u001b[0m \u001b[38;2;248;248;242m  \u001b[0m\u001b[38;2;102;217;239mprint\u001b[0m\u001b[38;2;248;248;242m \u001b[0m\u001b[38;2;230;219;116m'\u001b[0m\u001b[38;2;248;248;242m(\u001b[0m\u001b[38;2;190;132;255mA\u001b[0m\u001b[38;2;248;248;242m, \u001b[0m\u001b[38;2;190;132;255mI10\u001b[0m\u001b[38;2;248;248;242m, \u001b[0m\u001b[38;2;190;132;255mA\u001b[0m\u001b[38;2;248;248;242m, \u001b[0m\u001b[38;2;190;132;255mF25.15\u001b[0m\u001b[38;2;248;248;242m)\u001b[0m\u001b[38;2;230;219;116m'\u001b[0m\u001b[38;2;248;248;242m, \u001b[0m\u001b[38;2;230;219;116m\"After \"\u001b[0m\u001b[38;2;248;248;242m, nr_iters, \u001b[0m\u001b[38;2;230;219;116m\" loops, Pi = \"\u001b[0m\u001b[38;2;248;248;242m, pi_\u001b[0m\r\n",
      "\u001b[38;5;238m    \u001b[0m   \u001b[38;5;238m│\u001b[0m \u001b[38;2;248;248;242mval\u001b[0m\r\n",
      "\u001b[38;5;238m  21\u001b[0m   \u001b[38;5;238m│\u001b[0m \r\n",
      "\u001b[38;5;238m  22\u001b[0m   \u001b[38;5;238m│\u001b[0m \u001b[38;2;249;38;114mcontains\u001b[0m\r\n",
      "\u001b[38;5;238m  23\u001b[0m   \u001b[38;5;238m│\u001b[0m \u001b[38;2;248;248;242m   \u001b[0m\r\n",
      "\u001b[38;5;238m  24\u001b[0m   \u001b[38;5;238m│\u001b[0m \u001b[38;2;248;248;242m  \u001b[0m\u001b[38;2;249;38;114mfunction\u001b[0m\u001b[38;2;248;248;242m \u001b[0m\u001b[38;2;166;226;46mget_nr_iters\u001b[0m\u001b[38;2;248;248;242m(\u001b[0m\u001b[38;2;248;248;242m) \u001b[0m\u001b[38;2;249;38;114mresult\u001b[0m\u001b[38;2;248;248;242m(\u001b[0m\u001b[38;2;253;151;31mnr_iters\u001b[0m\u001b[38;2;248;248;242m)\u001b[0m\r\n",
      "\u001b[38;5;238m  25\u001b[0m   \u001b[38;5;238m│\u001b[0m \u001b[38;2;248;248;242m      use, intrinsic \u001b[0m\u001b[38;2;249;38;114m::\u001b[0m\u001b[38;2;248;248;242m iso_fortran_env, only : error_unit\u001b[0m\r\n",
      "\u001b[38;5;238m  26\u001b[0m   \u001b[38;5;238m│\u001b[0m \u001b[38;2;248;248;242m      \u001b[0m\u001b[38;2;249;38;114mimplicit\u001b[0m\u001b[38;2;248;248;242m \u001b[0m\u001b[38;2;249;38;114mnone\u001b[0m\r\n",
      "\u001b[38;5;238m  27\u001b[0m   \u001b[38;5;238m│\u001b[0m \u001b[38;2;248;248;242m      \u001b[0m\u001b[38;2;248;248;242minteger\u001b[0m\u001b[38;2;248;248;242m(\u001b[0m\u001b[38;2;253;151;31mkind\u001b[0m\u001b[38;2;249;38;114m=\u001b[0m\u001b[38;2;248;248;242mI8\u001b[0m\u001b[38;2;248;248;242m)\u001b[0m\u001b[38;2;248;248;242m \u001b[0m\u001b[38;2;249;38;114m::\u001b[0m\u001b[38;2;248;248;242m nr_iters\u001b[0m\r\n",
      "\u001b[38;5;238m  28\u001b[0m   \u001b[38;5;238m│\u001b[0m \u001b[38;2;248;248;242m      \u001b[0m\u001b[38;2;248;248;242minteger\u001b[0m\u001b[38;2;248;248;242m(\u001b[0m\u001b[38;2;253;151;31mkind\u001b[0m\u001b[38;2;249;38;114m=\u001b[0m\u001b[38;2;248;248;242mI8\u001b[0m\u001b[38;2;248;248;242m)\u001b[0m\u001b[38;2;248;248;242m, parameter \u001b[0m\u001b[38;2;249;38;114m::\u001b[0m\u001b[38;2;248;248;242m default_nr_iters \u001b[0m\u001b[38;2;249;38;114m=\u001b[0m\u001b[38;2;248;248;242m \u001b[0m\u001b[38;2;190;132;255m1000_I8\u001b[0m\r\n",
      "\u001b[38;5;238m  29\u001b[0m   \u001b[38;5;238m│\u001b[0m \u001b[38;2;248;248;242m      \u001b[0m\u001b[38;2;102;217;239mcharacter(len=1024)\u001b[0m\u001b[38;2;248;248;242m \u001b[0m\u001b[38;2;249;38;114m::\u001b[0m\u001b[38;2;248;248;242m \u001b[0m\u001b[38;2;255;255;255mbuffer\u001b[0m\u001b[38;2;248;248;242m, \u001b[0m\u001b[38;2;255;255;255mmsg\u001b[0m\r\n",
      "\u001b[38;5;238m  30\u001b[0m   \u001b[38;5;238m│\u001b[0m \u001b[38;2;248;248;242m      integer \u001b[0m\u001b[38;2;249;38;114m::\u001b[0m\u001b[38;2;248;248;242m istat\u001b[0m\r\n",
      "\u001b[38;5;238m  31\u001b[0m   \u001b[38;5;238m│\u001b[0m \r\n",
      "\u001b[38;5;238m  32\u001b[0m   \u001b[38;5;238m│\u001b[0m \u001b[38;2;248;248;242m      \u001b[0m\u001b[38;2;249;38;114mif\u001b[0m\u001b[38;2;248;248;242m \u001b[0m\u001b[38;2;248;248;242m(\u001b[0m\u001b[38;2;248;248;242mcommand_argument_count\u001b[0m\u001b[38;2;248;248;242m(\u001b[0m\u001b[38;2;248;248;242m)\u001b[0m\u001b[38;2;248;248;242m \u001b[0m\u001b[38;2;249;38;114m>=\u001b[0m\u001b[38;2;248;248;242m \u001b[0m\u001b[38;2;190;132;255m1\u001b[0m\u001b[38;2;248;248;242m)\u001b[0m\u001b[38;2;248;248;242m \u001b[0m\u001b[38;2;249;38;114mthen\u001b[0m\r\n",
      "\u001b[38;5;238m  33\u001b[0m   \u001b[38;5;238m│\u001b[0m \u001b[38;2;248;248;242m          \u001b[0m\u001b[38;2;249;38;114mcall\u001b[0m\u001b[38;2;248;248;242m \u001b[0m\u001b[38;2;102;217;239mget_command_argument\u001b[0m\u001b[38;2;248;248;242m(\u001b[0m\u001b[38;2;190;132;255m1\u001b[0m\u001b[38;2;248;248;242m, buffer\u001b[0m\u001b[38;2;248;248;242m)\u001b[0m\r\n",
      "\u001b[38;5;238m  34\u001b[0m   \u001b[38;5;238m│\u001b[0m \u001b[38;2;248;248;242m          \u001b[0m\u001b[38;2;248;248;242mread \u001b[0m\u001b[38;2;248;248;242m(\u001b[0m\u001b[38;2;248;248;242mbuffer\u001b[0m\u001b[38;2;248;248;242m,\u001b[0m\u001b[38;2;248;248;242m \u001b[0m\u001b[38;2;253;151;31mfmt\u001b[0m\u001b[38;2;249;38;114m=\u001b[0m\u001b[38;2;249;38;114m*\u001b[0m\u001b[38;2;248;248;242m,\u001b[0m\u001b[38;2;248;248;242m \u001b[0m\u001b[38;2;253;151;31miostat\u001b[0m\u001b[38;2;249;38;114m=\u001b[0m\u001b[38;2;248;248;242mistat\u001b[0m\u001b[38;2;248;248;242m,\u001b[0m\u001b[38;2;248;248;242m \u001b[0m\u001b[38;2;253;151;31miomsg\u001b[0m\u001b[38;2;249;38;114m=\u001b[0m\u001b[38;2;248;248;242mmsg\u001b[0m\u001b[38;2;248;248;242m)\u001b[0m\u001b[38;2;248;248;242m nr_iters\u001b[0m\r\n",
      "\u001b[38;5;238m  35\u001b[0m   \u001b[38;5;238m│\u001b[0m \u001b[38;2;248;248;242m          \u001b[0m\u001b[38;2;249;38;114mif\u001b[0m\u001b[38;2;248;248;242m \u001b[0m\u001b[38;2;248;248;242m(\u001b[0m\u001b[38;2;248;248;242mistat \u001b[0m\u001b[38;2;249;38;114m/=\u001b[0m\u001b[38;2;248;248;242m \u001b[0m\u001b[38;2;190;132;255m0\u001b[0m\u001b[38;2;248;248;242m)\u001b[0m\u001b[38;2;248;248;242m \u001b[0m\u001b[38;2;249;38;114mthen\u001b[0m\r\n",
      "\u001b[38;5;238m  36\u001b[0m   \u001b[38;5;238m│\u001b[0m \u001b[38;2;248;248;242m              \u001b[0m\u001b[38;2;102;217;239mwrite\u001b[0m\u001b[38;2;248;248;242m \u001b[0m\u001b[38;2;248;248;242m(\u001b[0m\u001b[38;2;253;151;31munit\u001b[0m\u001b[38;2;249;38;114m=\u001b[0m\u001b[38;2;248;248;242merror_unit, \u001b[0m\u001b[38;2;253;151;31mfmt\u001b[0m\u001b[38;2;249;38;114m=\u001b[0m\u001b[38;2;230;219;116m'\u001b[0m\u001b[38;2;248;248;242m(\u001b[0m\u001b[38;2;190;132;255m2A\u001b[0m\u001b[38;2;248;248;242m)\u001b[0m\u001b[38;2;230;219;116m'\u001b[0m\u001b[38;2;248;248;242m)\u001b[0m\u001b[38;2;248;248;242m \u001b[0m\u001b[38;2;102;217;239m&\u001b[0m\r\n",
      "\u001b[38;5;238m  37\u001b[0m   \u001b[38;5;238m│\u001b[0m \u001b[38;2;248;248;242m                  \u001b[0m\u001b[38;2;230;219;116m'error: '\u001b[0m\u001b[38;2;248;248;242m, msg\u001b[0m\r\n",
      "\u001b[38;5;238m  38\u001b[0m   \u001b[38;5;238m│\u001b[0m \u001b[38;2;248;248;242m              \u001b[0m\u001b[38;2;249;38;114mstop\u001b[0m\u001b[38;2;248;248;242m \u001b[0m\u001b[38;2;190;132;255m1\u001b[0m\r\n",
      "\u001b[38;5;238m  39\u001b[0m   \u001b[38;5;238m│\u001b[0m \u001b[38;2;248;248;242m          \u001b[0m\u001b[38;2;249;38;114mend\u001b[0m\u001b[38;2;248;248;242m \u001b[0m\u001b[38;2;249;38;114mif\u001b[0m\r\n",
      "\u001b[38;5;238m  40\u001b[0m   \u001b[38;5;238m│\u001b[0m \u001b[38;2;248;248;242m      \u001b[0m\u001b[38;2;249;38;114melse\u001b[0m\r\n",
      "\u001b[38;5;238m  41\u001b[0m   \u001b[38;5;238m│\u001b[0m \u001b[38;2;248;248;242m          nr_iters \u001b[0m\u001b[38;2;249;38;114m=\u001b[0m\u001b[38;2;248;248;242m default_nr_iters\u001b[0m\r\n",
      "\u001b[38;5;238m  42\u001b[0m   \u001b[38;5;238m│\u001b[0m \u001b[38;2;248;248;242m      \u001b[0m\u001b[38;2;249;38;114mend\u001b[0m\u001b[38;2;248;248;242m \u001b[0m\u001b[38;2;249;38;114mif\u001b[0m\r\n",
      "\u001b[38;5;238m  43\u001b[0m   \u001b[38;5;238m│\u001b[0m \u001b[38;2;248;248;242m  \u001b[0m\u001b[38;2;249;38;114mend\u001b[0m\u001b[38;2;248;248;242m \u001b[0m\u001b[38;2;249;38;114mfunction\u001b[0m\u001b[38;2;248;248;242m \u001b[0m\u001b[38;2;166;226;46mget_nr_iters\u001b[0m\r\n",
      "\u001b[38;5;238m  44\u001b[0m   \u001b[38;5;238m│\u001b[0m \r\n",
      "\u001b[38;5;238m  45\u001b[0m   \u001b[38;5;238m│\u001b[0m \u001b[38;2;249;38;114mend\u001b[0m\u001b[38;2;248;248;242m \u001b[0m\u001b[38;2;249;38;114mprogram\u001b[0m\u001b[38;2;248;248;242m \u001b[0m\u001b[38;2;166;226;46mcompute_pi_omp\u001b[0m\r\n",
      "\u001b[38;5;238m───────┴────────────────────────────────────────────────────────────────────────\u001b[0m\r\n"
     ]
    }
   ],
   "source": [
    "!bat *.f90"
   ]
  },
  {
   "cell_type": "code",
   "execution_count": 7,
   "id": "c2eeda29-613f-48fd-904b-af9aef8813a2",
   "metadata": {},
   "outputs": [],
   "source": [
    "os.chdir(code_dir)"
   ]
  },
  {
   "cell_type": "markdown",
   "id": "f4c7e5a2",
   "metadata": {},
   "source": [
    "Since this program uses the OpenMP external library, the fpm.toml file had to be augmented as below."
   ]
  },
  {
   "cell_type": "code",
   "execution_count": 8,
   "id": "02532116",
   "metadata": {},
   "outputs": [
    {
     "name": "stdout",
     "output_type": "stream",
     "text": [
      "\u001b[38;5;238m───────┬────────────────────────────────────────────────────────────────────────\u001b[0m\r\n",
      "       \u001b[38;5;238m│ \u001b[0mFile: \u001b[1mfpm.toml\u001b[0m\r\n",
      "\u001b[38;5;238m───────┼────────────────────────────────────────────────────────────────────────\u001b[0m\r\n",
      "\u001b[38;5;238m   1\u001b[0m   \u001b[38;5;238m│\u001b[0m \u001b[38;2;249;38;114mname\u001b[0m\u001b[38;2;248;248;242m \u001b[0m\u001b[38;2;248;248;242m=\u001b[0m\u001b[38;2;248;248;242m \u001b[0m\u001b[38;2;230;219;116m\"\u001b[0m\u001b[38;2;230;219;116mSection_Computing_Pi_Compute_Pi_OpenMP\u001b[0m\u001b[38;2;230;219;116m\"\u001b[0m\r\n",
      "\u001b[38;5;238m   2\u001b[0m   \u001b[38;5;238m│\u001b[0m \r\n",
      "\u001b[38;5;238m   3\u001b[0m   \u001b[38;5;238m│\u001b[0m \u001b[38;2;248;248;242m[\u001b[0m\u001b[38;2;166;226;46mbuild\u001b[0m\u001b[38;2;248;248;242m]\u001b[0m\r\n",
      "\u001b[38;5;238m   4\u001b[0m   \u001b[38;5;238m│\u001b[0m \u001b[38;2;249;38;114mauto-executables\u001b[0m\u001b[38;2;248;248;242m \u001b[0m\u001b[38;2;248;248;242m=\u001b[0m\u001b[38;2;248;248;242m \u001b[0m\u001b[38;2;190;132;255mtrue\u001b[0m\r\n",
      "\u001b[38;5;238m   5\u001b[0m   \u001b[38;5;238m│\u001b[0m \u001b[38;2;249;38;114mauto-tests\u001b[0m\u001b[38;2;248;248;242m \u001b[0m\u001b[38;2;248;248;242m=\u001b[0m\u001b[38;2;248;248;242m \u001b[0m\u001b[38;2;190;132;255mtrue\u001b[0m\r\n",
      "\u001b[38;5;238m   6\u001b[0m   \u001b[38;5;238m│\u001b[0m \u001b[38;2;249;38;114mauto-examples\u001b[0m\u001b[38;2;248;248;242m \u001b[0m\u001b[38;2;248;248;242m=\u001b[0m\u001b[38;2;248;248;242m \u001b[0m\u001b[38;2;190;132;255mtrue\u001b[0m\r\n",
      "\u001b[38;5;238m   7\u001b[0m   \u001b[38;5;238m│\u001b[0m \u001b[38;2;249;38;114mexternal-modules\u001b[0m\u001b[38;2;248;248;242m \u001b[0m\u001b[38;2;248;248;242m=\u001b[0m\u001b[38;2;248;248;242m \u001b[0m\u001b[38;2;230;219;116m\"\u001b[0m\u001b[38;2;230;219;116mopenmp\u001b[0m\u001b[38;2;230;219;116m\"\u001b[0m\r\n",
      "\u001b[38;5;238m   8\u001b[0m   \u001b[38;5;238m│\u001b[0m \r\n",
      "\u001b[38;5;238m   9\u001b[0m   \u001b[38;5;238m│\u001b[0m \u001b[38;2;248;248;242m[\u001b[0m\u001b[38;2;166;226;46minstall\u001b[0m\u001b[38;2;248;248;242m]\u001b[0m\r\n",
      "\u001b[38;5;238m  10\u001b[0m   \u001b[38;5;238m│\u001b[0m \u001b[38;2;249;38;114mlibrary\u001b[0m\u001b[38;2;248;248;242m \u001b[0m\u001b[38;2;248;248;242m=\u001b[0m\u001b[38;2;248;248;242m \u001b[0m\u001b[38;2;190;132;255mfalse\u001b[0m\r\n",
      "\u001b[38;5;238m  11\u001b[0m   \u001b[38;5;238m│\u001b[0m \r\n",
      "\u001b[38;5;238m  12\u001b[0m   \u001b[38;5;238m│\u001b[0m \u001b[38;2;248;248;242m[[\u001b[0m\u001b[38;2;166;226;46mexecutable\u001b[0m\u001b[38;2;248;248;242m]]\u001b[0m\r\n",
      "\u001b[38;5;238m  13\u001b[0m   \u001b[38;5;238m│\u001b[0m \u001b[38;2;249;38;114mname\u001b[0m\u001b[38;2;248;248;242m=\u001b[0m\u001b[38;2;230;219;116m\"\u001b[0m\u001b[38;2;230;219;116mSection_Computing_Pi_Compute_Pi_OpenMP\u001b[0m\u001b[38;2;230;219;116m\"\u001b[0m\r\n",
      "\u001b[38;5;238m  14\u001b[0m   \u001b[38;5;238m│\u001b[0m \u001b[38;2;249;38;114msource-dir\u001b[0m\u001b[38;2;248;248;242m=\u001b[0m\u001b[38;2;230;219;116m\"\u001b[0m\u001b[38;2;230;219;116mapp\u001b[0m\u001b[38;2;230;219;116m\"\u001b[0m\r\n",
      "\u001b[38;5;238m  15\u001b[0m   \u001b[38;5;238m│\u001b[0m \u001b[38;2;249;38;114mmain\u001b[0m\u001b[38;2;248;248;242m=\u001b[0m\u001b[38;2;230;219;116m\"\u001b[0m\u001b[38;2;230;219;116msection_computing_pi_compute_pi_openmp.f90\u001b[0m\u001b[38;2;230;219;116m\"\u001b[0m\r\n",
      "\u001b[38;5;238m───────┴────────────────────────────────────────────────────────────────────────\u001b[0m\r\n"
     ]
    }
   ],
   "source": [
    "!bat fpm.toml"
   ]
  },
  {
   "cell_type": "code",
   "execution_count": 9,
   "id": "0fbd7621-e800-4235-ab30-80560cc3e1a8",
   "metadata": {},
   "outputs": [],
   "source": [
    "build_status = os.system(\"fpm build 2>/dev/null\")"
   ]
  },
  {
   "cell_type": "markdown",
   "id": "58b5102f",
   "metadata": {},
   "source": [
    "## Run the Program using FPM (Fortran Package Manager)"
   ]
  },
  {
   "cell_type": "code",
   "execution_count": 10,
   "id": "3176b27d-932e-47a1-8099-4fae064ec661",
   "metadata": {},
   "outputs": [
    {
     "name": "stdout",
     "output_type": "stream",
     "text": [
      "After         10 loops, Pi =         2.904518326248318\n"
     ]
    },
    {
     "name": "stdout",
     "output_type": "stream",
     "text": [
      "After         10 loops, Pi =         2.904518326248318\n",
      "After         10 loops, Pi =         2.904518326248318\n",
      "After         10 loops, Pi =         2.904518326248318\n",
      "After         10 loops, Pi =         2.904518326248318\n",
      "After         10 loops, Pi =         2.904518326248318\n",
      "After         10 loops, Pi =         2.904518326248318\n"
     ]
    },
    {
     "name": "stdout",
     "output_type": "stream",
     "text": [
      "After         10 loops, Pi =         2.904518326248318\n"
     ]
    },
    {
     "name": "stdout",
     "output_type": "stream",
     "text": [
      "After         10 loops, Pi =         2.904518326248318\n",
      "After         10 loops, Pi =         2.904518326248318\n",
      "32.4 ms ± 2.69 ms per loop (mean ± std. dev. of 10 runs, 1 loop each)\n"
     ]
    }
   ],
   "source": [
    "%%timeit -r 10 -n 1\n",
    "exec_status = os.system(\"fpm run -- 10 2>/dev/null\")"
   ]
  },
  {
   "cell_type": "code",
   "execution_count": 11,
   "id": "5968ec6d",
   "metadata": {},
   "outputs": [
    {
     "name": "stdout",
     "output_type": "stream",
     "text": [
      "After        100 loops, Pi =         3.120417031779045\n",
      "After        100 loops, Pi =         3.120417031779045\n",
      "After        100 loops, Pi =         3.120417031779045\n"
     ]
    },
    {
     "name": "stdout",
     "output_type": "stream",
     "text": [
      "After        100 loops, Pi =         3.120417031779045\n"
     ]
    },
    {
     "name": "stdout",
     "output_type": "stream",
     "text": [
      "After        100 loops, Pi =         3.120417031779045\n",
      "After        100 loops, Pi =         3.120417031779045\n"
     ]
    },
    {
     "name": "stdout",
     "output_type": "stream",
     "text": [
      "After        100 loops, Pi =         3.120417031779045\n",
      "After        100 loops, Pi =         3.120417031779045\n",
      "After        100 loops, Pi =         3.120417031779045\n",
      "After        100 loops, Pi =         3.120417031779045\n",
      "33.4 ms ± 4.85 ms per loop (mean ± std. dev. of 10 runs, 1 loop each)\n"
     ]
    }
   ],
   "source": [
    "%%timeit -r 10 -n 1\n",
    "exec_status = os.system(\"fpm run -- 100 2>/dev/null\")"
   ]
  },
  {
   "cell_type": "code",
   "execution_count": 12,
   "id": "7fc1c812",
   "metadata": {},
   "outputs": [
    {
     "name": "stdout",
     "output_type": "stream",
     "text": [
      "After       1000 loops, Pi =         3.139555466911023\n",
      "After       1000 loops, Pi =         3.139555466911023\n",
      "After       1000 loops, Pi =         3.139555466911023\n"
     ]
    },
    {
     "name": "stdout",
     "output_type": "stream",
     "text": [
      "After       1000 loops, Pi =         3.139555466911023\n",
      "After       1000 loops, Pi =         3.139555466911023\n",
      "After       1000 loops, Pi =         3.139555466911023\n",
      "After       1000 loops, Pi =         3.139555466911023\n"
     ]
    },
    {
     "name": "stdout",
     "output_type": "stream",
     "text": [
      "After       1000 loops, Pi =         3.139555466911023\n",
      "After       1000 loops, Pi =         3.139555466911023\n",
      "After       1000 loops, Pi =         3.139555466911023\n",
      "32.6 ms ± 2.77 ms per loop (mean ± std. dev. of 10 runs, 1 loop each)\n"
     ]
    }
   ],
   "source": [
    "%%timeit -r 10 -n 1\n",
    "exec_status = os.system(\"fpm run -- 1000 2>/dev/null\")"
   ]
  },
  {
   "cell_type": "code",
   "execution_count": 13,
   "id": "7eca869a",
   "metadata": {},
   "outputs": [
    {
     "name": "stdout",
     "output_type": "stream",
     "text": [
      "After      10000 loops, Pi =         3.141391477611321\n",
      "After      10000 loops, Pi =         3.141391477611321\n",
      "After      10000 loops, Pi =         3.141391477611321\n"
     ]
    },
    {
     "name": "stdout",
     "output_type": "stream",
     "text": [
      "After      10000 loops, Pi =         3.141391477611321\n",
      "After      10000 loops, Pi =         3.141391477611321\n",
      "After      10000 loops, Pi =         3.141391477611321\n",
      "After      10000 loops, Pi =         3.141391477611321\n"
     ]
    },
    {
     "name": "stdout",
     "output_type": "stream",
     "text": [
      "After      10000 loops, Pi =         3.141391477611321\n",
      "After      10000 loops, Pi =         3.141391477611321\n",
      "After      10000 loops, Pi =         3.141391477611321\n",
      "32.8 ms ± 3.68 ms per loop (mean ± std. dev. of 10 runs, 1 loop each)\n"
     ]
    }
   ],
   "source": [
    "%%timeit -r 10 -n 1\n",
    "exec_status = os.system(\"fpm run -- 10000 2>/dev/null\")"
   ]
  },
  {
   "cell_type": "code",
   "execution_count": 14,
   "id": "a9b0de68",
   "metadata": {},
   "outputs": [
    {
     "name": "stdout",
     "output_type": "stream",
     "text": [
      "After     100000 loops, Pi =         3.141572616402007\n",
      "After     100000 loops, Pi =         3.141572616402007\n",
      "After     100000 loops, Pi =         3.141572616402007\n",
      "After     100000 loops, Pi =         3.141572616402007\n"
     ]
    },
    {
     "name": "stdout",
     "output_type": "stream",
     "text": [
      "After     100000 loops, Pi =         3.141572616402007\n",
      "After     100000 loops, Pi =         3.141572616402007\n",
      "After     100000 loops, Pi =         3.141572616402007\n"
     ]
    },
    {
     "name": "stdout",
     "output_type": "stream",
     "text": [
      "After     100000 loops, Pi =         3.141572616402007\n",
      "After     100000 loops, Pi =         3.141572616402007\n",
      "After     100000 loops, Pi =         3.141572616402007\n",
      "31.5 ms ± 2.81 ms per loop (mean ± std. dev. of 10 runs, 1 loop each)\n"
     ]
    }
   ],
   "source": [
    "%%timeit -r 10 -n 1\n",
    "exec_status = os.system(\"fpm run -- 100000 2>/dev/null\")"
   ]
  },
  {
   "cell_type": "code",
   "execution_count": 15,
   "id": "1713fa00",
   "metadata": {},
   "outputs": [
    {
     "name": "stdout",
     "output_type": "stream",
     "text": [
      "After    1000000 loops, Pi =         3.141590652413977\n",
      "After    1000000 loops, Pi =         3.141590652413977\n",
      "After    1000000 loops, Pi =         3.141590652413977\n"
     ]
    },
    {
     "name": "stdout",
     "output_type": "stream",
     "text": [
      "After    1000000 loops, Pi =         3.141590652413977\n",
      "After    1000000 loops, Pi =         3.141590652413977\n",
      "After    1000000 loops, Pi =         3.141590652413977\n"
     ]
    },
    {
     "name": "stdout",
     "output_type": "stream",
     "text": [
      "After    1000000 loops, Pi =         3.141590652413977\n",
      "After    1000000 loops, Pi =         3.141590652413977\n",
      "After    1000000 loops, Pi =         3.141590652413977\n"
     ]
    },
    {
     "name": "stdout",
     "output_type": "stream",
     "text": [
      "After    1000000 loops, Pi =         3.141590652413977\n",
      "35.7 ms ± 3.1 ms per loop (mean ± std. dev. of 10 runs, 1 loop each)\n"
     ]
    }
   ],
   "source": [
    "%%timeit -r 10 -n 1\n",
    "exec_status = os.system(\"fpm run -- 1000000 2>/dev/null\")"
   ]
  },
  {
   "cell_type": "code",
   "execution_count": 16,
   "id": "52897d2f",
   "metadata": {},
   "outputs": [
    {
     "name": "stdout",
     "output_type": "stream",
     "text": [
      "After   10000000 loops, Pi =         3.141592453552712\n"
     ]
    },
    {
     "name": "stdout",
     "output_type": "stream",
     "text": [
      "After   10000000 loops, Pi =         3.141592453552712\n",
      "After   10000000 loops, Pi =         3.141592453552712\n"
     ]
    },
    {
     "name": "stdout",
     "output_type": "stream",
     "text": [
      "After   10000000 loops, Pi =         3.141592453552712\n"
     ]
    },
    {
     "name": "stdout",
     "output_type": "stream",
     "text": [
      "After   10000000 loops, Pi =         3.141592453552712\n"
     ]
    },
    {
     "name": "stdout",
     "output_type": "stream",
     "text": [
      "After   10000000 loops, Pi =         3.141592453552712\n",
      "After   10000000 loops, Pi =         3.141592453552712\n"
     ]
    },
    {
     "name": "stdout",
     "output_type": "stream",
     "text": [
      "After   10000000 loops, Pi =         3.141592453552712\n"
     ]
    },
    {
     "name": "stdout",
     "output_type": "stream",
     "text": [
      "After   10000000 loops, Pi =         3.141592453552712\n"
     ]
    },
    {
     "name": "stdout",
     "output_type": "stream",
     "text": [
      "After   10000000 loops, Pi =         3.141592453552712\n",
      "58.9 ms ± 4.68 ms per loop (mean ± std. dev. of 10 runs, 1 loop each)\n"
     ]
    }
   ],
   "source": [
    "%%timeit -r 10 -n 1\n",
    "exec_status = os.system(\"fpm run -- 10000000 2>/dev/null\")"
   ]
  },
  {
   "cell_type": "code",
   "execution_count": 17,
   "id": "24bc57a3",
   "metadata": {},
   "outputs": [
    {
     "name": "stdout",
     "output_type": "stream",
     "text": [
      "After  100000000 loops, Pi =         3.141592633586875\n"
     ]
    },
    {
     "name": "stdout",
     "output_type": "stream",
     "text": [
      "After  100000000 loops, Pi =         3.141592633586875\n",
      "After  100000000 loops, Pi =         3.141592633586875\n"
     ]
    },
    {
     "name": "stdout",
     "output_type": "stream",
     "text": [
      "After  100000000 loops, Pi =         3.141592633586875\n"
     ]
    },
    {
     "name": "stdout",
     "output_type": "stream",
     "text": [
      "After  100000000 loops, Pi =         3.141592633586875\n"
     ]
    },
    {
     "name": "stdout",
     "output_type": "stream",
     "text": [
      "After  100000000 loops, Pi =         3.141592633586875\n",
      "After  100000000 loops, Pi =         3.141592633586875\n"
     ]
    },
    {
     "name": "stdout",
     "output_type": "stream",
     "text": [
      "After  100000000 loops, Pi =         3.141592633586875\n"
     ]
    },
    {
     "name": "stdout",
     "output_type": "stream",
     "text": [
      "After  100000000 loops, Pi =         3.141592633586875\n",
      "After  100000000 loops, Pi =         3.141592633586875\n"
     ]
    },
    {
     "name": "stdout",
     "output_type": "stream",
     "text": [
      "267 ms ± 14.6 ms per loop (mean ± std. dev. of 10 runs, 1 loop each)\n"
     ]
    }
   ],
   "source": [
    "%%timeit -r 10 -n 1\n",
    "exec_status = os.system(\"fpm run -- 100000000 2>/dev/null\")"
   ]
  },
  {
   "cell_type": "code",
   "execution_count": 18,
   "id": "949a6b8c-2f23-4e35-b209-6e34df042949",
   "metadata": {},
   "outputs": [
    {
     "name": "stdout",
     "output_type": "stream",
     "text": [
      "After 1000000000 loops, Pi =         3.141592651590121\n"
     ]
    },
    {
     "name": "stdout",
     "output_type": "stream",
     "text": [
      "After 1000000000 loops, Pi =         3.141592651590121\n"
     ]
    },
    {
     "name": "stdout",
     "output_type": "stream",
     "text": [
      "After 1000000000 loops, Pi =         3.141592651590121\n"
     ]
    },
    {
     "name": "stdout",
     "output_type": "stream",
     "text": [
      "After 1000000000 loops, Pi =         3.141592651590121\n"
     ]
    },
    {
     "name": "stdout",
     "output_type": "stream",
     "text": [
      "After 1000000000 loops, Pi =         3.141592651590121\n"
     ]
    },
    {
     "name": "stdout",
     "output_type": "stream",
     "text": [
      "After 1000000000 loops, Pi =         3.141592651590121\n"
     ]
    },
    {
     "name": "stdout",
     "output_type": "stream",
     "text": [
      "After 1000000000 loops, Pi =         3.141592651590121\n"
     ]
    },
    {
     "name": "stdout",
     "output_type": "stream",
     "text": [
      "After 1000000000 loops, Pi =         3.141592651590121\n"
     ]
    },
    {
     "name": "stdout",
     "output_type": "stream",
     "text": [
      "After 1000000000 loops, Pi =         3.141592651590121\n"
     ]
    },
    {
     "name": "stdout",
     "output_type": "stream",
     "text": [
      "After 1000000000 loops, Pi =         3.141592651590121\n",
      "2.21 s ± 49.4 ms per loop (mean ± std. dev. of 10 runs, 1 loop each)\n"
     ]
    }
   ],
   "source": [
    "%%timeit -r 10 -n 1\n",
    "exec_status = os.system(\"fpm run -- 1000000000 2>/dev/null\")"
   ]
  }
 ],
 "metadata": {
  "kernelspec": {
   "display_name": "Python 3 (ipykernel)",
   "language": "python",
   "name": "python3"
  },
  "language_info": {
   "codemirror_mode": {
    "name": "ipython",
    "version": 3
   },
   "file_extension": ".py",
   "mimetype": "text/x-python",
   "name": "python",
   "nbconvert_exporter": "python",
   "pygments_lexer": "ipython3",
   "version": "3.10.13"
  },
  "vscode": {
   "interpreter": {
    "hash": "1c7edbfe09241e3ab70fdbaa9340a6c53382c0b8a91b6341e8f1e4440b6e3c70"
   }
  }
 },
 "nbformat": 4,
 "nbformat_minor": 5
}