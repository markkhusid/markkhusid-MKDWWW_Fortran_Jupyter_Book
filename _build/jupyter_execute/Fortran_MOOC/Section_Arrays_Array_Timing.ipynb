{
 "cells": [
  {
   "cell_type": "raw",
   "id": "c40b648f-a44a-4480-bbee-93e7a780f45b",
   "metadata": {},
   "source": [
    "---\n",
    "jupytext:\n",
    "  formats: md:myst\n",
    "  text_representation:\n",
    "    extension: .md\n",
    "    format_name: myst\n",
    "kernelspec:\n",
    "  display_name: Python 3\n",
    "  language: python\n",
    "  name: python3\n",
    "---"
   ]
  },
  {
   "cell_type": "markdown",
   "id": "fc63b62e-3ea6-4588-8b6e-f845bbc6d64c",
   "metadata": {
    "tags": []
   },
   "source": [
    "# Section Arrays: Array Timing"
   ]
  },
  {
   "cell_type": "markdown",
   "id": "edfc7d7e-9803-4b96-82f1-bc0d47385f43",
   "metadata": {},
   "source": [
    "Adapted from: [https://github.com/gjbex/Fortran-MOOC/tree/master/source_code/arrays](https://github.com/gjbex/Fortran-MOOC/tree/master/source_code/arrays)"
   ]
  },
  {
   "cell_type": "markdown",
   "id": "59ec1bec-3fd7-4061-aa24-c7765d25786f",
   "metadata": {},
   "source": [
    "## This program demonstrates the different computation times on 2x2 matrices using various Fortran techniques."
   ]
  },
  {
   "cell_type": "markdown",
   "id": "c36821c7-3b26-404c-8a7c-2f978dfb65d4",
   "metadata": {},
   "source": [
    "```fortran\n",
    "program array_timings\n",
    "    use, intrinsic :: iso_fortran_env, only : DP => REAL64, error_unit\n",
    "    implicit none\n",
    "    integer, parameter :: nr_rows = 10000, nr_cols = 10000\n",
    "    real(kind=DP), parameter :: delta = 1e-7_DP\n",
    "    real(kind=DP), dimension(:, :), allocatable :: A, B, C, A_old\n",
    "    real :: start_time, end_time\n",
    "    integer :: istat, row, col\n",
    "\n",
    "    ! allocate arrays\n",
    "    allocate (A(nr_rows, nr_cols), B(nr_rows, nr_cols), C(nr_rows, nr_cols), &\n",
    "              A_old(nr_rows, nr_cols), stat=istat)\n",
    "    if (istat /= 0) then\n",
    "        write (unit=error_unit, fmt='(A)') 'error: can not allocated arrays'\n",
    "        stop 1\n",
    "    end if\n",
    "\n",
    "    ! initialize arrays\n",
    "    call random_number(B)\n",
    "    call random_number(C)\n",
    "\n",
    "    ! compute array expressions\n",
    "    call cpu_time(start_time)\n",
    "    A = 5.0_DP*B + sqrt(2.5_DP*C)/3.2_DP\n",
    "    call cpu_time(end_time)\n",
    "    print '(A, F12.6)', 'array expression: ', end_time - start_time\n",
    "\n",
    "    ! store result for comparison\n",
    "    A_old = A\n",
    "\n",
    "    ! compute do loops\n",
    "    call cpu_time(start_time)\n",
    "    do col = 1, nr_cols\n",
    "        do row = 1, nr_rows\n",
    "            A(row, col) = 5.0_DP*B(row, col) + sqrt(2.5_DP*C(row, col))/3.2_DP\n",
    "        end do\n",
    "    end do\n",
    "    call cpu_time(end_time)\n",
    "    print '(A, F12.6)', 'do loops: ', end_time - start_time\n",
    "\n",
    "    ! check result\n",
    "    if (.not. are_almost_equal(A, A_old, delta)) &\n",
    "        print '(A, E7.2)', 'warning: not equal up to ', delta\n",
    "\n",
    "    ! compute forall\n",
    "    call cpu_time(start_time)\n",
    "    forall (row = 1:nr_rows, col=1:nr_cols)\n",
    "        A(row, col) = 5.0_DP*B(row, col) + sqrt(2.5_DP*C(row, col))/3.2_DP\n",
    "    end forall\n",
    "    call cpu_time(end_time)\n",
    "    print '(A, F12.6)', 'forall: ', end_time - start_time\n",
    "\n",
    "    ! check result\n",
    "    if (.not. are_almost_equal(A, A_old, delta)) &\n",
    "        print '(A, E7.2)', 'warning: not equal up to ', delta\n",
    "\n",
    "    ! compute do concurrent\n",
    "    call cpu_time(start_time)\n",
    "    do concurrent (row = 1:nr_rows, col=1:nr_cols)\n",
    "        A(row, col) = 5.0_DP*B(row, col) + sqrt(2.5_DP*C(row, col))/3.2_DP\n",
    "        end do\n",
    "    call cpu_time(end_time)\n",
    "    print '(A, F12.6)', 'do concurrent: ', end_time - start_time\n",
    "\n",
    "    ! check result\n",
    "    if (.not. are_almost_equal(A, A_old, delta)) &\n",
    "        print '(A, E7.2)', 'warning: not equal up to ', delta\n",
    "    ! deallocate arrays\n",
    "    deallocate(A, B, C, A_old)\n",
    "    \n",
    "contains\n",
    "\n",
    "    function are_almost_equal(A, B, delta) result(are_same)\n",
    "        implicit none\n",
    "        real(kind=DP), dimension(:, :), intent(in) :: A, B\n",
    "        real(kind=DP), value :: delta\n",
    "        logical :: are_same\n",
    "\n",
    "        are_same = all(abs(A - B)/A < delta)\n",
    "    end function are_almost_equal\n",
    "\n",
    "end program array_timings\n",
    "\n",
    "```"
   ]
  },
  {
   "cell_type": "markdown",
   "id": "4c6b9985-c0cb-4602-8309-4e3369dd3226",
   "metadata": {},
   "source": [
    "The above program is compiled and run using Fortran Package Manager (fpm):"
   ]
  },
  {
   "cell_type": "code",
   "execution_count": 1,
   "id": "e8ba1050-b7b1-4e9e-87bf-28791145e5e7",
   "metadata": {},
   "outputs": [],
   "source": [
    "import os\n",
    "root_dir = os.getcwd()"
   ]
  },
  {
   "cell_type": "code",
   "execution_count": 2,
   "id": "bdaf795d-554a-46e6-b4da-faeb331e1b13",
   "metadata": {},
   "outputs": [],
   "source": [
    "code_dir = root_dir + \"/\" + \"Fortran_Code/Section_Arrays_Array_Timing\""
   ]
  },
  {
   "cell_type": "code",
   "execution_count": 3,
   "id": "a7d9f1b1-ba0d-4db1-84ef-7a358f0453a6",
   "metadata": {},
   "outputs": [],
   "source": [
    "os.chdir(code_dir)"
   ]
  },
  {
   "cell_type": "code",
   "execution_count": 4,
   "id": "0fbd7621-e800-4235-ab30-80560cc3e1a8",
   "metadata": {},
   "outputs": [],
   "source": [
    "build_status = os.system(\"fpm build 2>/dev/null\")"
   ]
  },
  {
   "cell_type": "code",
   "execution_count": 5,
   "id": "0483d40b-e849-4574-bcbe-003c81a96dd5",
   "metadata": {},
   "outputs": [
    {
     "name": "stdout",
     "output_type": "stream",
     "text": [
      "array expression:     2.282927\n"
     ]
    },
    {
     "name": "stdout",
     "output_type": "stream",
     "text": [
      "do loops:     0.467672\n"
     ]
    },
    {
     "name": "stdout",
     "output_type": "stream",
     "text": [
      "forall:     0.390354\n"
     ]
    },
    {
     "name": "stdout",
     "output_type": "stream",
     "text": [
      "do concurrent:     0.426361\n"
     ]
    }
   ],
   "source": [
    "exec_status = os.system(\"fpm run 2>/dev/null\")"
   ]
  }
 ],
 "metadata": {
  "kernelspec": {
   "display_name": "Python 3.9.2 64-bit",
   "language": "python",
   "name": "python3"
  },
  "language_info": {
   "codemirror_mode": {
    "name": "ipython",
    "version": 3
   },
   "file_extension": ".py",
   "mimetype": "text/x-python",
   "name": "python",
   "nbconvert_exporter": "python",
   "pygments_lexer": "ipython3",
   "version": "3.9.15"
  },
  "vscode": {
   "interpreter": {
    "hash": "916dbcbb3f70747c44a77c7bcd40155683ae19c65e1c03b4aa3499c5328201f1"
   }
  }
 },
 "nbformat": 4,
 "nbformat_minor": 5
}