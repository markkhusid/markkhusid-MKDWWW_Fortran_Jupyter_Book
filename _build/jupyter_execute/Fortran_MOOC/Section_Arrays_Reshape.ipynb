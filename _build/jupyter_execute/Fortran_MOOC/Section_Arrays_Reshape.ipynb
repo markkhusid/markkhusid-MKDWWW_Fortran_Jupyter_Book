{
 "cells": [
  {
   "cell_type": "raw",
   "id": "c40b648f-a44a-4480-bbee-93e7a780f45b",
   "metadata": {},
   "source": [
    "---\n",
    "jupytext:\n",
    "  formats: md:myst\n",
    "  text_representation:\n",
    "    extension: .md\n",
    "    format_name: myst\n",
    "kernelspec:\n",
    "  display_name: Python 3\n",
    "  language: python\n",
    "  name: python3\n",
    "---"
   ]
  },
  {
   "cell_type": "markdown",
   "id": "fc63b62e-3ea6-4588-8b6e-f845bbc6d64c",
   "metadata": {
    "tags": []
   },
   "source": [
    "# Section Arrays: Reshape\n"
   ]
  },
  {
   "cell_type": "markdown",
   "id": "edfc7d7e-9803-4b96-82f1-bc0d47385f43",
   "metadata": {},
   "source": [
    "Adapted from: [https://github.com/gjbex/Fortran-MOOC/tree/master/source_code/arrays](https://github.com/gjbex/Fortran-MOOC/tree/master/source_code/arrays)"
   ]
  },
  {
   "cell_type": "markdown",
   "id": "59ec1bec-3fd7-4061-aa24-c7765d25786f",
   "metadata": {},
   "source": [
    "## This program reshapes an array into a matrix in Fortran."
   ]
  },
  {
   "cell_type": "markdown",
   "id": "c36821c7-3b26-404c-8a7c-2f978dfb65d4",
   "metadata": {},
   "source": [
    "```fortran\n",
    "program reshape_test\n",
    "    implicit none\n",
    "    integer, parameter :: nr_values = 12\n",
    "    integer :: i\n",
    "    integer, dimension(nr_values) :: values = [ (i, i=1, nr_values) ]\n",
    "    integer, dimension(2, 5) :: too_small\n",
    "    integer, dimension(3, 5) :: too_large\n",
    "\n",
    "    too_small = reshape(values, shape(too_small))\n",
    "    call print_matrix(too_small)\n",
    "\n",
    "    too_large = reshape(values, shape(too_large), pad=[-1, -2])\n",
    "    call print_matrix(too_large)\n",
    "\n",
    "contains\n",
    "\n",
    "    subroutine print_matrix(A)\n",
    "        implicit none\n",
    "        integer, dimension(:, :), intent(in) :: A\n",
    "        integer :: i\n",
    "\n",
    "        do i = 1, size(A, 1)\n",
    "            print *, A(i, :)\n",
    "        end do\n",
    "    end subroutine print_matrix\n",
    "\n",
    "end program reshape_test\n",
    "```"
   ]
  },
  {
   "cell_type": "markdown",
   "id": "4c6b9985-c0cb-4602-8309-4e3369dd3226",
   "metadata": {},
   "source": [
    "The above program is compiled and run using Fortran Package Manager (fpm):"
   ]
  },
  {
   "cell_type": "markdown",
   "id": "c6f9ed20",
   "metadata": {},
   "source": [
    "## Build the Program using FPM (Fortran Package Manager)"
   ]
  },
  {
   "cell_type": "code",
   "execution_count": 1,
   "id": "e8ba1050-b7b1-4e9e-87bf-28791145e5e7",
   "metadata": {},
   "outputs": [],
   "source": [
    "import os\n",
    "root_dir = os.getcwd()"
   ]
  },
  {
   "cell_type": "code",
   "execution_count": 2,
   "id": "bdaf795d-554a-46e6-b4da-faeb331e1b13",
   "metadata": {},
   "outputs": [],
   "source": [
    "code_dir = root_dir + \"/\" + \"Fortran_Code/Section_Arrays_Reshape\""
   ]
  },
  {
   "cell_type": "code",
   "execution_count": 3,
   "id": "a7d9f1b1-ba0d-4db1-84ef-7a358f0453a6",
   "metadata": {},
   "outputs": [],
   "source": [
    "os.chdir(code_dir)"
   ]
  },
  {
   "cell_type": "code",
   "execution_count": 4,
   "id": "0fbd7621-e800-4235-ab30-80560cc3e1a8",
   "metadata": {},
   "outputs": [
    {
     "name": "stdout",
     "output_type": "stream",
     "text": [
      " + mkdir -p build/dependencies\n",
      "[  0%]    libSection_Arrays_Reshape.a\n",
      "[ 33%]    libSection_Arrays_Reshape.a  done.\n",
      "[ 33%]     section_arrays_reshape.f90\n"
     ]
    },
    {
     "name": "stdout",
     "output_type": "stream",
     "text": [
      "[ 66%]     section_arrays_reshape.f90  done.\n",
      "[ 66%]         Section_Arrays_Reshape\n",
      "[100%]         Section_Arrays_Reshape  done.\n",
      "[100%] Project compiled successfully.\n"
     ]
    }
   ],
   "source": [
    "build_status = os.system(\"fpm build 2>/dev/null\")"
   ]
  },
  {
   "cell_type": "markdown",
   "id": "58b5102f",
   "metadata": {},
   "source": [
    "## Run the Program using FPM (Fortran Package Manager)"
   ]
  },
  {
   "cell_type": "code",
   "execution_count": 5,
   "id": "0483d40b-e849-4574-bcbe-003c81a96dd5",
   "metadata": {},
   "outputs": [
    {
     "name": "stdout",
     "output_type": "stream",
     "text": [
      "           1           3           5           7           9\n",
      "           2           4           6           8          10\n",
      "\n",
      "           1           4           7          10          -1\n",
      "           2           5           8          11          -2\n",
      "           3           6           9          12          -1\n"
     ]
    }
   ],
   "source": [
    "exec_status = os.system(\"fpm run 2>/dev/null\")"
   ]
  }
 ],
 "metadata": {
  "kernelspec": {
   "display_name": "Python 3 (ipykernel)",
   "language": "python",
   "name": "python3"
  },
  "language_info": {
   "codemirror_mode": {
    "name": "ipython",
    "version": 3
   },
   "file_extension": ".py",
   "mimetype": "text/x-python",
   "name": "python",
   "nbconvert_exporter": "python",
   "pygments_lexer": "ipython3",
   "version": "3.10.6"
  },
  "vscode": {
   "interpreter": {
    "hash": "1c7edbfe09241e3ab70fdbaa9340a6c53382c0b8a91b6341e8f1e4440b6e3c70"
   }
  }
 },
 "nbformat": 4,
 "nbformat_minor": 5
}