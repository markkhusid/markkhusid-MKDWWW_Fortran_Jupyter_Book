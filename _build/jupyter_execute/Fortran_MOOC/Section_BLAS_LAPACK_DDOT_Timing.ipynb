{
 "cells": [
  {
   "cell_type": "raw",
   "id": "c40b648f-a44a-4480-bbee-93e7a780f45b",
   "metadata": {},
   "source": [
    "---\n",
    "jupytext:\n",
    "  formats: md:myst\n",
    "  text_representation:\n",
    "    extension: .md\n",
    "    format_name: myst\n",
    "kernelspec:\n",
    "  display_name: Python 3\n",
    "  language: python\n",
    "  name: python3\n",
    "---"
   ]
  },
  {
   "attachments": {},
   "cell_type": "markdown",
   "id": "fc63b62e-3ea6-4588-8b6e-f845bbc6d64c",
   "metadata": {
    "tags": []
   },
   "source": [
    "# Section: BLAS/LAPACK - DDOT Timing\n"
   ]
  },
  {
   "attachments": {},
   "cell_type": "markdown",
   "id": "edfc7d7e-9803-4b96-82f1-bc0d47385f43",
   "metadata": {},
   "source": [
    "Adapted from: [https://github.com/gjbex/Fortran-MOOC/tree/master/source_code/blas_lapack](https://github.com/gjbex/Fortran-MOOC/tree/master/source_code/blas_lapack)"
   ]
  },
  {
   "attachments": {},
   "cell_type": "markdown",
   "id": "59ec1bec-3fd7-4061-aa24-c7765d25786f",
   "metadata": {},
   "source": [
    "## This program demonstrates copying vectors using BLAS/LAPACK in Fortran."
   ]
  },
  {
   "attachments": {},
   "cell_type": "markdown",
   "id": "49f81255",
   "metadata": {},
   "source": [
    "```{literalinclude} Fortran_Code/Section_BLAS_LAPACK_DDOT_Timing/app/section_blas_lapack_ddot_timing.f90\n",
    "---\n",
    "language: fortran\n",
    "---\n",
    "```"
   ]
  },
  {
   "attachments": {},
   "cell_type": "markdown",
   "id": "4c6b9985-c0cb-4602-8309-4e3369dd3226",
   "metadata": {},
   "source": [
    "The above program is compiled and run using Fortran Package Manager (fpm):"
   ]
  },
  {
   "cell_type": "markdown",
   "id": "c6f9ed20",
   "metadata": {
    "tags": []
   },
   "source": [
    "## Build the Program using FPM (Fortran Package Manager)"
   ]
  },
  {
   "cell_type": "code",
   "execution_count": 1,
   "id": "f16472aa-c965-4bad-a218-fee33f7b456a",
   "metadata": {},
   "outputs": [],
   "source": [
    "import os\n",
    "root_dir = \"\"\n",
    "root_dir = os.getcwd()"
   ]
  },
  {
   "attachments": {},
   "cell_type": "markdown",
   "id": "48d176ac",
   "metadata": {},
   "source": [
    "Since the code makes use of the LAPACK library, the following FPM configuration file (fpm.toml) was used:"
   ]
  },
  {
   "attachments": {},
   "cell_type": "markdown",
   "id": "48ce3430",
   "metadata": {},
   "source": [
    "```{literalinclude} Fortran_Code/Section_BLAS_LAPACK_DDOT_Timing/fpm.toml\n",
    "---\n",
    "language: toml\n",
    "---\n",
    "```"
   ]
  },
  {
   "cell_type": "code",
   "execution_count": 2,
   "id": "f77f9126-86cc-4a1b-89b9-5ad5f61cf72c",
   "metadata": {
    "tags": []
   },
   "outputs": [],
   "source": [
    "code_dir = root_dir + \"/\" + \"Fortran_Code/Section_BLAS_LAPACK_DDOT_Timing\""
   ]
  },
  {
   "cell_type": "code",
   "execution_count": 3,
   "id": "c2eeda29-613f-48fd-904b-af9aef8813a2",
   "metadata": {},
   "outputs": [],
   "source": [
    "os.chdir(code_dir)"
   ]
  },
  {
   "cell_type": "code",
   "execution_count": 4,
   "id": "0fbd7621-e800-4235-ab30-80560cc3e1a8",
   "metadata": {},
   "outputs": [],
   "source": [
    "build_status = os.system(\"fpm build 2>/dev/null\")"
   ]
  },
  {
   "cell_type": "markdown",
   "id": "58b5102f",
   "metadata": {},
   "source": [
    "## Run the Program using FPM (Fortran Package Manager)"
   ]
  },
  {
   "cell_type": "code",
   "execution_count": 5,
   "id": "3176b27d-932e-47a1-8099-4fae064ec661",
   "metadata": {},
   "outputs": [
    {
     "name": "stdout",
     "output_type": "stream",
     "text": [
      " Received command line arguments...\n",
      "Runs:          1\n",
      "Array size:       1000\n",
      " Filling arrays u, v with data...\n",
      " Starting DDOT run...\n",
      " Starting Loop run...\n",
      "ddot time:   0.000007, loop time:   0.000003\n"
     ]
    }
   ],
   "source": [
    "exec_status = \\\n",
    "    os.system(\"fpm run 2>/dev/null -- 1 1000\")"
   ]
  },
  {
   "cell_type": "code",
   "execution_count": 6,
   "id": "bc0909d1",
   "metadata": {},
   "outputs": [
    {
     "name": "stdout",
     "output_type": "stream",
     "text": [
      " Received command line arguments...\n",
      "Runs:          1\n",
      "Array size:      10000\n",
      " Filling arrays u, v with data...\n",
      " Starting DDOT run...\n",
      " Starting Loop run...\n",
      "ddot time:   0.000017, loop time:   0.000022\n"
     ]
    }
   ],
   "source": [
    "exec_status = \\\n",
    "    os.system(\"fpm run 2>/dev/null -- 1 10000\")"
   ]
  },
  {
   "cell_type": "code",
   "execution_count": 7,
   "id": "3b25a9c3",
   "metadata": {},
   "outputs": [
    {
     "name": "stdout",
     "output_type": "stream",
     "text": [
      " Received command line arguments...\n",
      "Runs:          1\n",
      "Array size:     100000\n",
      " Filling arrays u, v with data...\n",
      " Starting DDOT run...\n",
      " Starting Loop run...\n",
      "ddot time:   0.000122, loop time:   0.000279\n"
     ]
    }
   ],
   "source": [
    "exec_status = \\\n",
    "    os.system(\"fpm run 2>/dev/null -- 1 100000\")"
   ]
  },
  {
   "cell_type": "code",
   "execution_count": 8,
   "id": "c5e99ddc",
   "metadata": {},
   "outputs": [
    {
     "name": "stdout",
     "output_type": "stream",
     "text": [
      " Received command line arguments...\n",
      "Runs:          1\n",
      "Array size:    1000000\n",
      " Filling arrays u, v with data...\n",
      " Starting DDOT run...\n",
      " Starting Loop run...\n",
      "ddot time:   0.001106, loop time:   0.002432\n"
     ]
    }
   ],
   "source": [
    "exec_status = \\\n",
    "    os.system(\"fpm run 2>/dev/null -- 1 1000000\")"
   ]
  },
  {
   "cell_type": "code",
   "execution_count": 9,
   "id": "099045a7",
   "metadata": {},
   "outputs": [
    {
     "name": "stdout",
     "output_type": "stream",
     "text": [
      " Received command line arguments...\n",
      "Runs:          1\n",
      "Array size:   10000000\n",
      " Filling arrays u, v with data...\n",
      " Starting DDOT run...\n",
      " Starting Loop run...\n"
     ]
    },
    {
     "name": "stdout",
     "output_type": "stream",
     "text": [
      "ddot time:   0.011080, loop time:   0.023141\n"
     ]
    }
   ],
   "source": [
    "exec_status = \\\n",
    "    os.system(\"fpm run 2>/dev/null -- 1 10000000\")"
   ]
  },
  {
   "cell_type": "code",
   "execution_count": 10,
   "id": "af8208b9",
   "metadata": {},
   "outputs": [
    {
     "name": "stdout",
     "output_type": "stream",
     "text": [
      " Received command line arguments...\n",
      "Runs:          1\n",
      "Array size:  100000000\n",
      " Filling arrays u, v with data...\n"
     ]
    },
    {
     "name": "stdout",
     "output_type": "stream",
     "text": [
      " Starting DDOT run...\n",
      " Starting Loop run...\n"
     ]
    },
    {
     "name": "stdout",
     "output_type": "stream",
     "text": [
      "ddot time:   0.114395, loop time:   0.240858\n"
     ]
    }
   ],
   "source": [
    "exec_status = \\\n",
    "    os.system(\"fpm run 2>/dev/null -- 1 100000000\")"
   ]
  },
  {
   "cell_type": "code",
   "execution_count": 11,
   "id": "0c0c8387",
   "metadata": {},
   "outputs": [
    {
     "name": "stdout",
     "output_type": "stream",
     "text": [
      " Received command line arguments...\n",
      "Runs:          1\n",
      "Array size:   50000000\n",
      " Filling arrays u, v with data...\n"
     ]
    },
    {
     "name": "stdout",
     "output_type": "stream",
     "text": [
      " Starting DDOT run...\n",
      " Starting Loop run...\n",
      "ddot time:   0.065293, loop time:   0.127046\n"
     ]
    }
   ],
   "source": [
    "exec_status = \\\n",
    "    os.system(\"fpm run 2>/dev/null\")"
   ]
  }
 ],
 "metadata": {
  "kernelspec": {
   "display_name": "base",
   "language": "python",
   "name": "python3"
  },
  "language_info": {
   "codemirror_mode": {
    "name": "ipython",
    "version": 3
   },
   "file_extension": ".py",
   "mimetype": "text/x-python",
   "name": "python",
   "nbconvert_exporter": "python",
   "pygments_lexer": "ipython3",
   "version": "3.9.15"
  },
  "vscode": {
   "interpreter": {
    "hash": "1c7edbfe09241e3ab70fdbaa9340a6c53382c0b8a91b6341e8f1e4440b6e3c70"
   }
  }
 },
 "nbformat": 4,
 "nbformat_minor": 5
}