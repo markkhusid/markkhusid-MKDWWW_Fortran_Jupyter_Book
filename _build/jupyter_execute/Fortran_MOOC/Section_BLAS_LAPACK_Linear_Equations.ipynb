{
 "cells": [
  {
   "cell_type": "raw",
   "id": "c40b648f-a44a-4480-bbee-93e7a780f45b",
   "metadata": {},
   "source": [
    "---\n",
    "jupytext:\n",
    "  formats: md:myst\n",
    "  text_representation:\n",
    "    extension: .md\n",
    "    format_name: myst\n",
    "kernelspec:\n",
    "  display_name: Python 3\n",
    "  language: python\n",
    "  name: python3\n",
    "---"
   ]
  },
  {
   "attachments": {},
   "cell_type": "markdown",
   "id": "fc63b62e-3ea6-4588-8b6e-f845bbc6d64c",
   "metadata": {
    "tags": []
   },
   "source": [
    "# Section: BLAS/LAPACK - Linear Equations\n"
   ]
  },
  {
   "attachments": {},
   "cell_type": "markdown",
   "id": "edfc7d7e-9803-4b96-82f1-bc0d47385f43",
   "metadata": {},
   "source": [
    "Adapted from: [https://github.com/gjbex/Fortran-MOOC/tree/master/source_code/blas_lapack/linear_equations](https://github.com/gjbex/Fortran-MOOC/tree/master/source_code/blas_lapack/linear_equations)"
   ]
  },
  {
   "attachments": {},
   "cell_type": "markdown",
   "id": "59ec1bec-3fd7-4061-aa24-c7765d25786f",
   "metadata": {},
   "source": [
    "## This program demonstrates solving linear algebra equations in Fortran."
   ]
  },
  {
   "attachments": {},
   "cell_type": "markdown",
   "id": "b010108c",
   "metadata": {},
   "source": [
    "### Linear Equation Problem"
   ]
  },
  {
   "attachments": {},
   "cell_type": "markdown",
   "id": "e4efe68f",
   "metadata": {},
   "source": [
    "In this notebook we will use Fortran to solve a system of linear equations of the form:"
   ]
  },
  {
   "attachments": {},
   "cell_type": "markdown",
   "id": "74662cc6",
   "metadata": {},
   "source": [
    "$$\n",
    "\\Large A \\mathbf{x} = \\mathbf{b}\n",
    "$$\n",
    "where: <br>\n"
   ]
  },
  {
   "attachments": {},
   "cell_type": "markdown",
   "id": "30939470",
   "metadata": {},
   "source": [
    "$$\n",
    "\\Large A =\n",
    "\\left[\n",
    "\\begin{array}{cccc}\n",
    "a_{11} & a_{12} & \\cdots & a_{1n} \\\\\n",
    "a_{21} & a_{22} & \\cdots & a_{2n} \\\\\n",
    "\\vdots & \\vdots & \\vdots & \\vdots \\\\\n",
    "a_{m1} & a_{m2} & \\cdots & a_{mn}\n",
    "\\end{array}\n",
    "\\right]\n",
    "$$"
   ]
  },
  {
   "attachments": {},
   "cell_type": "markdown",
   "id": "7c6c0958",
   "metadata": {},
   "source": [
    "$$\n",
    "\\Large \\mathbf{x} =\n",
    "\\left[\n",
    "\\begin{array}{c}\n",
    "x_{1}  \\\\\n",
    "x_{2}  \\\\\n",
    "\\vdots \\\\\n",
    "x_{n}\n",
    "\\end{array}\n",
    "\\right]\n",
    "$$"
   ]
  },
  {
   "attachments": {},
   "cell_type": "markdown",
   "id": "52bb7322",
   "metadata": {},
   "source": [
    "$$\n",
    "\\Large \\mathbf{b} = \n",
    "\\left[\n",
    "\\begin{array}{c}\n",
    "b_{1}  \\\\\n",
    "b_{2}  \\\\\n",
    "\\vdots \\\\\n",
    "b_{n}\n",
    "\\end{array}\n",
    "\\right]\n",
    "$$"
   ]
  },
  {
   "attachments": {},
   "cell_type": "markdown",
   "id": "31041f68",
   "metadata": {},
   "source": [
    "The approach will be to have a main program that reads in as parameters the number of equations, the matrix $\\mathbf{A}$ and the vector $\\mathbf{x}$ as text files.  The main program is called *solve_equations.f90*.  It makes use of the LAPACK linear equation solver routine called **DGESV**.  Information on this routine can be found at [LAPACK - DGESV](https://netlib.org/lapack/explore-html/d7/d3b/group__double_g_esolve_ga5ee879032a8365897c3ba91e3dc8d512.html#ga5ee879032a8365897c3ba91e3dc8d512).\n",
    "\n",
    "The main program makes use of a module called *linalg_mod.f90*, which contains subroutines to read and write matrices and arrays to and from text files.\n",
    "\n",
    "Finally, there is a helper program called *generate_array.f90* which has a subroutine that gets arguments from the command line and generates either of vector or matrix of specified size.  Every element in the array or matrix is a random number."
   ]
  },
  {
   "cell_type": "markdown",
   "id": "5ae3b601-1378-4266-a01e-749fe9297a60",
   "metadata": {},
   "source": [
    "## Explanation of the Programs"
   ]
  },
  {
   "cell_type": "markdown",
   "id": "92edb00a-ca54-4702-97de-355d1ee78dec",
   "metadata": {},
   "source": [
    "### Explaining `generate_array.f90`\n",
    "\n",
    "The Fortran program `generate_array.f90` serves to generate either a vector or a matrix with random elements, depending on the command line arguments provided. It uses routines from a module named `linalg_mod` to handle array creation and output. Below is an explanation of the program structure and its key components:\n",
    "\n",
    "#### Program Structure\n",
    "\n",
    "1. **Module Usage**\n",
    "   - `iso_fortran_env`: Utilized for standard environment variables and constants, specifically `error_unit` for error messages and `DP` alias for `REAL64`, indicating double precision.\n",
    "   - `linalg_mod`: Externally defined module used here for `write_array` and `generate_random_array`, which handle array operations.\n",
    "\n",
    "2. **Variable Declarations**\n",
    "   - `dimensions`: An allocatable integer array to store dimensions provided via command-line arguments.\n",
    "   - `vector`: An allocatable vector of type `real(kind=DP)`.\n",
    "   - `matrix`: An allocatable 2D array of type `real(kind=DP)`.\n",
    "\n",
    "3. **Main Execution Logic**\n",
    "   - It begins by fetching command-line arguments into `dimensions`.\n",
    "   - Based on the size of `dimensions`, it either generates a 1D vector or a 2D matrix:\n",
    "     - For a single dimension, a vector of random elements is created and written.\n",
    "     - For two dimensions, a matrix is created and written.\n",
    "   - If neither one nor two dimensions are provided, it outputs an error indicating that only rank 1 and 2 arrays are supported.\n",
    "\n",
    "4. **Error Handling**\n",
    "   - The program checks for proper memory allocation and command-line argument processing, with appropriate error messages and stops if any issues occur.\n",
    "\n",
    "#### Subroutine: `get_arguments`\n",
    "\n",
    "- **Purpose**: Fetches command-line arguments to determine the size of the array to be generated.\n",
    "- **Process**:\n",
    "  - Determines the number of arguments (`rank`).\n",
    "  - Allocates the `dimensions` array based on `rank`.\n",
    "  - Reads each command argument into `dimensions`, converting from string to integer.\n",
    "  - Handles errors in conversion and allocation, stopping the program if necessary.\n",
    "\n",
    "### Key Functionalities\n",
    "\n",
    "- **Array Generation**: Depending on the input dimensions, it generates either a vector or a matrix with random values.\n",
    "- **Modular Design**: Leverages external modules for specific functionalities, which simplifies the main program.\n",
    "- **Flexibility**: The ability to handle both vectors and matrices makes the program versatile for different kinds of numerical data generation tasks.\n",
    "\n",
    "### Usage\n",
    "\n",
    "- The program is executed with command-line arguments specifying the dimensions of the array to generate. For example:\n",
    "  - `./generate_array 10` would generate a vector of size 10.\n",
    "  - `./generate_array 3 4` would generate a 3x4 matrix.\n",
    "\n",
    "Now, let's move on to read and explain the `solve_equations.f90` file.\n",
    "\n",
    "### Explaining `solve_equations.f90`\n",
    "\n",
    "The Fortran program `solve_equations.f90` is designed to solve a system of linear equations using LAPACK's `dgesv` subroutine, which solves systems of linear equations \\( AX = B \\) by performing LU decomposition with partial pivoting. Here's a breakdown of its key components and functionalities:\n",
    "\n",
    "#### Program Structure\n",
    "\n",
    "1. **Module Usage**\n",
    "   - `iso_fortran_env`: Standard intrinsic module providing access to the `error_unit` and `DP` (double precision kind type alias).\n",
    "   - `linalg_mod`: Custom module providing `read_array` and `write_array` functions, used to handle input/output operations for matrices and vectors.\n",
    "\n",
    "2. **Variable Declarations**\n",
    "   - `nr_eqns`: Number of equations in the system, derived from command-line arguments.\n",
    "   - `status`, `info`: Variables for checking statuses of operations; `info` is used specifically with `dgesv`.\n",
    "   - `matrix_file_name`, `vector_file_name`: File names for storing matrix \\( A \\) and vector \\( B \\).\n",
    "   - `b`: Vector \\( B \\) in the equation \\( AX = B \\).\n",
    "   - `pivot`: Integer array for pivot indices from the LU decomposition.\n",
    "   - `A`: Matrix \\( A \\) of the system.\n",
    "\n",
    "3. **Explicit Interface for `dgesv`**\n",
    "   - The subroutine's interface is explicitly defined to ensure correct passing of arguments:\n",
    "     - `n`, `nrhs`, `a`, `lda`, `ipiv`, `b`, `ldb`, and `info` describe the system dimensions, matrix and vector storage details, and output for status information.\n",
    "\n",
    "4. **Main Execution Logic**\n",
    "   - **Argument Reading**: Fetches command-line arguments to determine the number of equations and file names for matrix \\( A \\) and vector \\( B \\).\n",
    "   - **Array Allocation**: Allocates memory for \\( A \\), \\( B \\), and pivot indices.\n",
    "   - **File Reading**: Reads matrix \\( A \\) and vector \\( B \\) from files specified by the user.\n",
    "   - **System Solving**: Calls `dgesv` to solve the linear system, where \\( A \\) is modified to store the factors from the LU decomposition, and \\( B \\) is overwritten with the solution \\( X \\).\n",
    "   - **Output**: Writes the solution vector \\( X \\) back to a file.\n",
    "\n",
    "5. **Error Handling**\n",
    "   - Checks for successful allocation and reading operations, with appropriate error messages and program termination on failures.\n",
    "\n",
    "#### Subroutine: `get_arguments`\n",
    "\n",
    "- **Purpose**: Fetches and validates command-line arguments to ensure correct program setup.\n",
    "- **Parameters**:\n",
    "  - `nr_eqns`: Number of equations/system size.\n",
    "  - `matrix_file_name`, `vector_file_name`: File paths for the matrix and vector data.\n",
    "\n",
    "### Key Functionalities\n",
    "\n",
    "- **Linear System Solver**: Uses `dgesv` for robust and efficient solving of linear systems, leveraging LAPACK's optimized routines.\n",
    "- **Modular File Handling**: Employs modular functions from `linalg_mod` for input/output operations, promoting code reuse and organization.\n",
    "- **Error Management**: Extensive error checking ensures the program gracefully handles common issues like invalid input or memory allocation failures.\n",
    "\n",
    "### Usage\n",
    "\n",
    "The program is intended to be executed with three command-line arguments specifying the number of equations, matrix file name, and vector file name. For example:\n",
    "```bash\n",
    "./solve_equations 3 matrix.dat vector.dat\n",
    "```\n",
    "\n",
    "This would solve a 3x3 system of equations using matrix and vector data from `matrix.dat` and `vector.dat`.\n",
    "\n",
    "Next, let's proceed to read and explain the `linalg_mod.f90` file.\n",
    "\n",
    "### Explaining `linalg_mod.f90`\n",
    "\n",
    "The Fortran module `linalg_mod.f90` provides utility functions for reading, writing, and generating arrays. This module likely supports the functionality required by the other programs you uploaded (`generate_array.f90` and `solve_equations.f90`). Here's a breakdown of its contents and functionalities:\n",
    "\n",
    "#### Module Structure and Functions\n",
    "\n",
    "1. **Module `linalg_mod`**\n",
    "   - Utilizes `iso_fortran_env` for standard environment definitions, such as `output_unit`, `error_unit`, and `DP` (double precision floating-point kind).\n",
    "\n",
    "2. **Functionality Exposed**\n",
    "   - `read_array`: Reads an array from a file whose dimensions and rank are defined by the inputs.\n",
    "   - `write_array`: Writes an array to a file or standard output, handling both vectors and matrices.\n",
    "   - `generate_random_array`: Fills an allocatable array with random numbers, based on the dimensions provided.\n",
    "\n",
    "3. **Detailed Function Descriptions**\n",
    "   - **`read_array`**:\n",
    "     - Takes a file name, an array (allocatable), and its expected dimensions.\n",
    "     - Checks if the rank of the array matches the number of dimensions provided.\n",
    "     - Depending on the rank, it calls `read_vector` or `read_matrix` to perform the read operation.\n",
    "     - Errors are managed by stopping the program if the ranks or dimensions do not match expectations.\n",
    "\n",
    "   - **`write_array`**:\n",
    "     - Accepts an array and an optional file name for output.\n",
    "     - Uses rank-specific procedures (`write_vector` or `write_matrix`) to handle the output based on the array's rank.\n",
    "     - If no file name is provided, the output is directed to the standard output (`output_unit`).\n",
    "\n",
    "   - **`generate_random_array`**:\n",
    "     - Designed to allocate and populate an array (either vector or matrix) with random numbers.\n",
    "     - Checks the allocation status and initializes the array with random numbers using the intrinsic `random_number` procedure.\n",
    "     - Manages errors related to mismatched ranks or failed allocations.\n",
    "\n",
    "#### Subroutines for Vector and Matrix Handling\n",
    "\n",
    "- **`read_vector` and `write_vector`**:\n",
    "  - Handle reading and writing operations for vectors, respectively.\n",
    "\n",
    "- **`read_matrix` and `write_matrix`**:\n",
    "  - Handle reading and writing operations for matrices, respectively.\n",
    "\n",
    "### Key Functionalities and Error Handling\n",
    "\n",
    "- The module is equipped to handle errors related to input/output operations and array manipulations, which is critical for robust numerical software.\n",
    "- Error messages are detailed, including specific issues like mismatched array ranks or failed memory allocations, which aids in debugging and user feedback.\n",
    "- Flexibility to output to either a file or standard output enhances the module's usability across different computational scenarios.\n",
    "\n",
    "### Usage\n",
    "\n",
    "This module is utilized by other programs for managing arrays, particularly in numerical computations involving linear algebra. It abstracts away the details of file I/O and array initialization, allowing other parts of the software to focus on core computational logic.\n",
    "\n",
    "Overall, `linalg_mod.f90` serves as a foundational component for array management in Fortran programs, providing essential services such as reading, writing, and generating arrays with a focus on error handling and user feedback."
   ]
  },
  {
   "cell_type": "markdown",
   "id": "7bd8b17a-62a7-4f45-aae3-eab802e356c3",
   "metadata": {},
   "source": [
    "## Program Code"
   ]
  },
  {
   "cell_type": "markdown",
   "id": "9b94f04f-d27a-4747-b999-055d489f9e6c",
   "metadata": {},
   "source": [
    "The individual program files are listed below:"
   ]
  },
  {
   "attachments": {},
   "cell_type": "markdown",
   "id": "ae43bd88",
   "metadata": {},
   "source": [
    "### In file linalg_mod.f90"
   ]
  },
  {
   "attachments": {},
   "cell_type": "markdown",
   "id": "49f81255",
   "metadata": {},
   "source": [
    "```{literalinclude} Fortran_Code/Section_BLAS_LAPACK_Linear_Equations/src/linalg_mod.f90\n",
    "---\n",
    "language: fortran\n",
    "---\n",
    "```"
   ]
  },
  {
   "attachments": {},
   "cell_type": "markdown",
   "id": "14ba03fa",
   "metadata": {},
   "source": [
    "### In file generate_array.f90"
   ]
  },
  {
   "attachments": {},
   "cell_type": "markdown",
   "id": "e4975f0c",
   "metadata": {},
   "source": [
    "```{literalinclude} Fortran_Code/Section_BLAS_LAPACK_Linear_Equations/app/generate_array.f90\n",
    "---\n",
    "language: fortran\n",
    "---\n",
    "```"
   ]
  },
  {
   "attachments": {},
   "cell_type": "markdown",
   "id": "924d2886",
   "metadata": {},
   "source": [
    "### In solve_equations.f90"
   ]
  },
  {
   "attachments": {},
   "cell_type": "markdown",
   "id": "a2705efc",
   "metadata": {},
   "source": [
    "```{literalinclude} Fortran_Code/Section_BLAS_LAPACK_Linear_Equations/app/solve_equations.f90\n",
    "---\n",
    "language: fortran\n",
    "---\n",
    "```"
   ]
  },
  {
   "attachments": {},
   "cell_type": "markdown",
   "id": "4c6b9985-c0cb-4602-8309-4e3369dd3226",
   "metadata": {},
   "source": [
    "The above programs are compiled and run using Fortran Package Manager (fpm):"
   ]
  },
  {
   "cell_type": "markdown",
   "id": "c6f9ed20",
   "metadata": {
    "tags": []
   },
   "source": [
    "## Build the Program using FPM (Fortran Package Manager)"
   ]
  },
  {
   "cell_type": "code",
   "execution_count": 1,
   "id": "f16472aa-c965-4bad-a218-fee33f7b456a",
   "metadata": {
    "execution": {
     "iopub.execute_input": "2024-05-05T04:19:52.669821Z",
     "iopub.status.busy": "2024-05-05T04:19:52.669274Z",
     "iopub.status.idle": "2024-05-05T04:19:52.676027Z",
     "shell.execute_reply": "2024-05-05T04:19:52.674933Z",
     "shell.execute_reply.started": "2024-05-05T04:19:52.669799Z"
    }
   },
   "outputs": [],
   "source": [
    "import os\n",
    "root_dir = \"\"\n",
    "root_dir = os.getcwd()"
   ]
  },
  {
   "attachments": {},
   "cell_type": "markdown",
   "id": "48d176ac",
   "metadata": {},
   "source": [
    "Since the code makes use of the LAPACK library, the following FPM configuration file (fpm.toml) was used:"
   ]
  },
  {
   "attachments": {},
   "cell_type": "markdown",
   "id": "48ce3430",
   "metadata": {},
   "source": [
    "```{literalinclude} Fortran_Code/Section_BLAS_LAPACK_Linear_Equations/fpm.toml\n",
    "---\n",
    "language: toml\n",
    "---\n",
    "```"
   ]
  },
  {
   "cell_type": "code",
   "execution_count": 2,
   "id": "f77f9126-86cc-4a1b-89b9-5ad5f61cf72c",
   "metadata": {
    "execution": {
     "iopub.execute_input": "2024-05-05T04:19:54.194828Z",
     "iopub.status.busy": "2024-05-05T04:19:54.194541Z",
     "iopub.status.idle": "2024-05-05T04:19:54.199912Z",
     "shell.execute_reply": "2024-05-05T04:19:54.198835Z",
     "shell.execute_reply.started": "2024-05-05T04:19:54.194807Z"
    },
    "tags": []
   },
   "outputs": [],
   "source": [
    "code_dir = root_dir + \"/\" + \"Fortran_Code/Section_BLAS_LAPACK_Linear_Equations\""
   ]
  },
  {
   "cell_type": "code",
   "execution_count": 3,
   "id": "c2eeda29-613f-48fd-904b-af9aef8813a2",
   "metadata": {
    "execution": {
     "iopub.execute_input": "2024-05-05T04:19:55.735289Z",
     "iopub.status.busy": "2024-05-05T04:19:55.734965Z",
     "iopub.status.idle": "2024-05-05T04:19:55.740517Z",
     "shell.execute_reply": "2024-05-05T04:19:55.739285Z",
     "shell.execute_reply.started": "2024-05-05T04:19:55.735266Z"
    }
   },
   "outputs": [],
   "source": [
    "os.chdir(code_dir)"
   ]
  },
  {
   "attachments": {},
   "cell_type": "markdown",
   "id": "2aac5422",
   "metadata": {},
   "source": [
    "The files *solve_equations.f90* and *generate_array.f90* were placed into the \"app\" folder, while the file *linalg_mod.f90* was placed into the \"src\" folder."
   ]
  },
  {
   "cell_type": "code",
   "execution_count": 4,
   "id": "0fbd7621-e800-4235-ab30-80560cc3e1a8",
   "metadata": {
    "execution": {
     "iopub.execute_input": "2024-05-05T04:19:57.845885Z",
     "iopub.status.busy": "2024-05-05T04:19:57.845447Z",
     "iopub.status.idle": "2024-05-05T04:19:57.892194Z",
     "shell.execute_reply": "2024-05-05T04:19:57.890874Z",
     "shell.execute_reply.started": "2024-05-05T04:19:57.845861Z"
    }
   },
   "outputs": [],
   "source": [
    "build_status = os.system(\"fpm build 2>/dev/null\")"
   ]
  },
  {
   "cell_type": "markdown",
   "id": "58b5102f",
   "metadata": {},
   "source": [
    "## Run the Program using FPM (Fortran Package Manager)"
   ]
  },
  {
   "attachments": {},
   "cell_type": "markdown",
   "id": "9d20b466",
   "metadata": {},
   "source": [
    "### Solve a Test Linear System of Two Equations"
   ]
  },
  {
   "attachments": {},
   "cell_type": "markdown",
   "id": "4caa25a1",
   "metadata": {},
   "source": [
    "As our first run, we wish to solve the following set of linear equations:"
   ]
  },
  {
   "attachments": {},
   "cell_type": "markdown",
   "id": "6d991660",
   "metadata": {},
   "source": [
    "$$\n",
    "\\begin{align*}\n",
    "2x+8y & = 20 \\\\\n",
    "x+2y  & = 4\n",
    "\\end{align*}\n",
    "$$"
   ]
  },
  {
   "attachments": {},
   "cell_type": "markdown",
   "id": "ea7ecd67",
   "metadata": {},
   "source": [
    "The variables in the equations are converted into components of the $\\mathbf{x}$ vector as shown below:"
   ]
  },
  {
   "attachments": {},
   "cell_type": "markdown",
   "id": "ae3c328f",
   "metadata": {},
   "source": [
    "$$\n",
    "\\begin{align*}\n",
    "2x_1+8x_2 & = 20 \\\\\n",
    "x_1+2x_2  & = 4\n",
    "\\end{align*}\n",
    "$$"
   ]
  },
  {
   "attachments": {},
   "cell_type": "markdown",
   "id": "f695caa4",
   "metadata": {},
   "source": [
    "These equations are converted into matrix form as shown below:"
   ]
  },
  {
   "attachments": {},
   "cell_type": "markdown",
   "id": "7853d826",
   "metadata": {},
   "source": [
    "$$\n",
    "\\begin{equation*}\n",
    "\\left[\n",
    "\\begin{array}{cc}\n",
    "2 & 8 \\\\\n",
    "1 & 2 \\\\\n",
    "\\end{array}\n",
    "\\right]\n",
    "\\left[\n",
    "\\begin{array}{c}\n",
    "x_1 \\\\\n",
    "x_2 \\\\\n",
    "\\end{array}\n",
    "\\right]\n",
    "=\n",
    "\\left[\n",
    "\\begin{array}{c}\n",
    "20 \\\\\n",
    "4 \\\\\n",
    "\\end{array}\n",
    "\\right]\n",
    "\\end{equation*}\n",
    "$$"
   ]
  },
  {
   "attachments": {},
   "cell_type": "markdown",
   "id": "196dd707",
   "metadata": {},
   "source": [
    "Therefore we have the following:"
   ]
  },
  {
   "attachments": {},
   "cell_type": "markdown",
   "id": "5d9ca029",
   "metadata": {},
   "source": [
    "$$\n",
    "\\mathbf{A} = \n",
    "\\left[\n",
    "\\begin{array}{cc}\n",
    "2 & 8 \\\\\n",
    "1 & 2 \n",
    "\\end{array}\n",
    "\\right]\n",
    "$$"
   ]
  },
  {
   "attachments": {},
   "cell_type": "markdown",
   "id": "3d169955",
   "metadata": {},
   "source": [
    "$$\n",
    "\\mathbf{x} = \n",
    "\\left[\n",
    "\\begin{array}{c}\n",
    "x_1 \\\\\n",
    "x_2  \n",
    "\\end{array}\n",
    "\\right]\n",
    "$$"
   ]
  },
  {
   "attachments": {},
   "cell_type": "markdown",
   "id": "066128e8",
   "metadata": {},
   "source": [
    "\n",
    "$$\n",
    "\\mathbf{b} = \n",
    "\\left[\n",
    "\\begin{array}{c}\n",
    "20 \\\\\n",
    "4  \n",
    "\\end{array}\n",
    "\\right]\n",
    "$$\n"
   ]
  },
  {
   "attachments": {},
   "cell_type": "markdown",
   "id": "5de8c65a",
   "metadata": {},
   "source": [
    "The matrix $\\mathbf{A}$ and the vector $\\mathbf{b}$ are written into text files as shown below:"
   ]
  },
  {
   "cell_type": "code",
   "execution_count": 5,
   "id": "1c01eb34",
   "metadata": {
    "execution": {
     "iopub.execute_input": "2024-05-05T04:20:07.136124Z",
     "iopub.status.busy": "2024-05-05T04:20:07.135790Z",
     "iopub.status.idle": "2024-05-05T04:20:07.143198Z",
     "shell.execute_reply": "2024-05-05T04:20:07.140928Z",
     "shell.execute_reply.started": "2024-05-05T04:20:07.136104Z"
    }
   },
   "outputs": [
    {
     "name": "stdout",
     "output_type": "stream",
     "text": [
      "Overwriting A_test1.txt\n"
     ]
    }
   ],
   "source": [
    "%%writefile A_test1.txt\n",
    "2 8\n",
    "1 2"
   ]
  },
  {
   "cell_type": "code",
   "execution_count": 6,
   "id": "249b8e0d",
   "metadata": {
    "execution": {
     "iopub.execute_input": "2024-05-05T04:20:08.086298Z",
     "iopub.status.busy": "2024-05-05T04:20:08.086028Z",
     "iopub.status.idle": "2024-05-05T04:20:08.115926Z",
     "shell.execute_reply": "2024-05-05T04:20:08.111169Z",
     "shell.execute_reply.started": "2024-05-05T04:20:08.086278Z"
    }
   },
   "outputs": [
    {
     "name": "stdout",
     "output_type": "stream",
     "text": [
      "Overwriting b_test1.txt\n"
     ]
    }
   ],
   "source": [
    "%%writefile b_test1.txt\n",
    "20\n",
    "4"
   ]
  },
  {
   "attachments": {},
   "cell_type": "markdown",
   "id": "638f5f18",
   "metadata": {},
   "source": [
    "The *solve_equations* program can now be run with the number of equations command line argument set to 2, and the files *A_test1.txt* and *b_test1.txt*"
   ]
  },
  {
   "cell_type": "code",
   "execution_count": 7,
   "id": "3176b27d-932e-47a1-8099-4fae064ec661",
   "metadata": {
    "execution": {
     "iopub.execute_input": "2024-05-05T04:20:12.697873Z",
     "iopub.status.busy": "2024-05-05T04:20:12.697542Z",
     "iopub.status.idle": "2024-05-05T04:20:12.798103Z",
     "shell.execute_reply": "2024-05-05T04:20:12.797223Z",
     "shell.execute_reply.started": "2024-05-05T04:20:12.697850Z"
    }
   },
   "outputs": [
    {
     "name": "stdout",
     "output_type": "stream",
     "text": [
      "         -2.000000000000000\n",
      "          3.000000000000000\n"
     ]
    }
   ],
   "source": [
    "exec_status = \\\n",
    "    os.system(\"fpm run solve_equations 2>/dev/null -- 2 A_test1.txt b_test1.txt\")"
   ]
  },
  {
   "attachments": {},
   "cell_type": "markdown",
   "id": "b307ea7e",
   "metadata": {},
   "source": [
    "The results are printed in scientfic notation and in the order of $x_1$, $x_2$."
   ]
  },
  {
   "attachments": {},
   "cell_type": "markdown",
   "id": "5cc87d92",
   "metadata": {},
   "source": [
    "We now wish to use Python's Numpy library to test these results:"
   ]
  },
  {
   "cell_type": "code",
   "execution_count": 8,
   "id": "3114a075",
   "metadata": {
    "execution": {
     "iopub.execute_input": "2024-05-05T04:20:16.439976Z",
     "iopub.status.busy": "2024-05-05T04:20:16.439669Z",
     "iopub.status.idle": "2024-05-05T04:20:16.449574Z",
     "shell.execute_reply": "2024-05-05T04:20:16.448315Z",
     "shell.execute_reply.started": "2024-05-05T04:20:16.439954Z"
    }
   },
   "outputs": [
    {
     "name": "stdout",
     "output_type": "stream",
     "text": [
      "x1 = -2.0\n",
      "x2 = 3.0\n"
     ]
    }
   ],
   "source": [
    "import numpy as np\n",
    "\n",
    "A = np.genfromtxt(\"A_test1.txt\")\n",
    "b = np.genfromtxt(\"b_test1.txt\")\n",
    "x = np.linalg.solve(A, b)\n",
    "print(\"x1 = {0:2.1f}\".format(x[0]))\n",
    "print(\"x2 = {0:2.1f}\".format(x[1]))"
   ]
  },
  {
   "attachments": {},
   "cell_type": "markdown",
   "id": "13e8131b",
   "metadata": {},
   "source": [
    "We can see that the Fortran code and Numpy produce the same results."
   ]
  },
  {
   "attachments": {},
   "cell_type": "markdown",
   "id": "3fb674dc",
   "metadata": {},
   "source": [
    "### Solve a Test Linear System of Equations of Arbitrary Size"
   ]
  },
  {
   "attachments": {},
   "cell_type": "markdown",
   "id": "d0419269",
   "metadata": {},
   "source": [
    "The Fortran code can be used to solve an arbitrarily large system of equations.  To test this functionality, we make use of the *generate_array.f90* program to generate arrays or matrices of arbitrary size filled with random numbers.\n",
    "\n",
    "As a start, we will use the *generate_array.f90* to generate a matrix file A_test2.txt that contains a 10x10 matrix."
   ]
  },
  {
   "cell_type": "code",
   "execution_count": 9,
   "id": "22de1ace",
   "metadata": {
    "execution": {
     "iopub.execute_input": "2024-05-05T04:20:19.650308Z",
     "iopub.status.busy": "2024-05-05T04:20:19.649857Z",
     "iopub.status.idle": "2024-05-05T04:20:19.691204Z",
     "shell.execute_reply": "2024-05-05T04:20:19.690285Z",
     "shell.execute_reply.started": "2024-05-05T04:20:19.650281Z"
    }
   },
   "outputs": [],
   "source": [
    "exec_status = os.system(\"fpm run generate_array 2>/dev/null -- 10 10 > A_test2.txt\") "
   ]
  },
  {
   "attachments": {},
   "cell_type": "markdown",
   "id": "ec2f4018",
   "metadata": {},
   "source": [
    "The $\\mathbf{A}$ matrix is shown below:"
   ]
  },
  {
   "cell_type": "code",
   "execution_count": 10,
   "id": "cd5fb348",
   "metadata": {
    "execution": {
     "iopub.execute_input": "2024-05-05T04:20:21.610247Z",
     "iopub.status.busy": "2024-05-05T04:20:21.609537Z",
     "iopub.status.idle": "2024-05-05T04:20:21.646148Z",
     "shell.execute_reply": "2024-05-05T04:20:21.641964Z",
     "shell.execute_reply.started": "2024-05-05T04:20:21.610223Z"
    }
   },
   "outputs": [
    {
     "data": {
      "text/html": [
       "<div>\n",
       "<style scoped>\n",
       "    .dataframe tbody tr th:only-of-type {\n",
       "        vertical-align: middle;\n",
       "    }\n",
       "\n",
       "    .dataframe tbody tr th {\n",
       "        vertical-align: top;\n",
       "    }\n",
       "\n",
       "    .dataframe thead th {\n",
       "        text-align: right;\n",
       "    }\n",
       "</style>\n",
       "<table border=\"1\" class=\"dataframe\">\n",
       "  <thead>\n",
       "    <tr style=\"text-align: right;\">\n",
       "      <th></th>\n",
       "      <th>0</th>\n",
       "      <th>1</th>\n",
       "      <th>2</th>\n",
       "      <th>3</th>\n",
       "      <th>4</th>\n",
       "      <th>5</th>\n",
       "      <th>6</th>\n",
       "      <th>7</th>\n",
       "      <th>8</th>\n",
       "      <th>9</th>\n",
       "    </tr>\n",
       "  </thead>\n",
       "  <tbody>\n",
       "    <tr>\n",
       "      <th>0</th>\n",
       "      <td>0.421673</td>\n",
       "      <td>0.935618</td>\n",
       "      <td>0.126794</td>\n",
       "      <td>0.255176</td>\n",
       "      <td>0.408764</td>\n",
       "      <td>0.928710</td>\n",
       "      <td>0.145421</td>\n",
       "      <td>0.558095</td>\n",
       "      <td>0.468621</td>\n",
       "      <td>0.257515</td>\n",
       "    </tr>\n",
       "    <tr>\n",
       "      <th>1</th>\n",
       "      <td>0.587095</td>\n",
       "      <td>0.467240</td>\n",
       "      <td>0.245670</td>\n",
       "      <td>0.200381</td>\n",
       "      <td>0.511438</td>\n",
       "      <td>0.813974</td>\n",
       "      <td>0.086570</td>\n",
       "      <td>0.034281</td>\n",
       "      <td>0.430556</td>\n",
       "      <td>0.280993</td>\n",
       "    </tr>\n",
       "    <tr>\n",
       "      <th>2</th>\n",
       "      <td>0.903030</td>\n",
       "      <td>0.182116</td>\n",
       "      <td>0.502272</td>\n",
       "      <td>0.869994</td>\n",
       "      <td>0.693967</td>\n",
       "      <td>0.937254</td>\n",
       "      <td>0.661794</td>\n",
       "      <td>0.070945</td>\n",
       "      <td>0.381007</td>\n",
       "      <td>0.212883</td>\n",
       "    </tr>\n",
       "    <tr>\n",
       "      <th>3</th>\n",
       "      <td>0.263161</td>\n",
       "      <td>0.868036</td>\n",
       "      <td>0.597302</td>\n",
       "      <td>0.340067</td>\n",
       "      <td>0.078363</td>\n",
       "      <td>0.629179</td>\n",
       "      <td>0.596100</td>\n",
       "      <td>0.681268</td>\n",
       "      <td>0.570964</td>\n",
       "      <td>0.017023</td>\n",
       "    </tr>\n",
       "    <tr>\n",
       "      <th>4</th>\n",
       "      <td>0.244690</td>\n",
       "      <td>0.891965</td>\n",
       "      <td>0.608509</td>\n",
       "      <td>0.529229</td>\n",
       "      <td>0.296088</td>\n",
       "      <td>0.655500</td>\n",
       "      <td>0.021702</td>\n",
       "      <td>0.930641</td>\n",
       "      <td>0.830929</td>\n",
       "      <td>0.902585</td>\n",
       "    </tr>\n",
       "    <tr>\n",
       "      <th>5</th>\n",
       "      <td>0.403680</td>\n",
       "      <td>0.857524</td>\n",
       "      <td>0.225238</td>\n",
       "      <td>0.414229</td>\n",
       "      <td>0.644367</td>\n",
       "      <td>0.370850</td>\n",
       "      <td>0.294341</td>\n",
       "      <td>0.029291</td>\n",
       "      <td>0.638900</td>\n",
       "      <td>0.628002</td>\n",
       "    </tr>\n",
       "    <tr>\n",
       "      <th>6</th>\n",
       "      <td>0.617487</td>\n",
       "      <td>0.682296</td>\n",
       "      <td>0.879799</td>\n",
       "      <td>0.765662</td>\n",
       "      <td>0.240073</td>\n",
       "      <td>0.716382</td>\n",
       "      <td>0.222183</td>\n",
       "      <td>0.962739</td>\n",
       "      <td>0.107814</td>\n",
       "      <td>0.132789</td>\n",
       "    </tr>\n",
       "    <tr>\n",
       "      <th>7</th>\n",
       "      <td>0.142222</td>\n",
       "      <td>0.959092</td>\n",
       "      <td>0.023716</td>\n",
       "      <td>0.353006</td>\n",
       "      <td>0.240515</td>\n",
       "      <td>0.581517</td>\n",
       "      <td>0.122547</td>\n",
       "      <td>0.019490</td>\n",
       "      <td>0.628463</td>\n",
       "      <td>0.969933</td>\n",
       "    </tr>\n",
       "    <tr>\n",
       "      <th>8</th>\n",
       "      <td>0.149716</td>\n",
       "      <td>0.985596</td>\n",
       "      <td>0.001668</td>\n",
       "      <td>0.628802</td>\n",
       "      <td>0.158205</td>\n",
       "      <td>0.474989</td>\n",
       "      <td>0.826883</td>\n",
       "      <td>0.571380</td>\n",
       "      <td>0.378739</td>\n",
       "      <td>0.623974</td>\n",
       "    </tr>\n",
       "    <tr>\n",
       "      <th>9</th>\n",
       "      <td>0.038831</td>\n",
       "      <td>0.107022</td>\n",
       "      <td>0.134601</td>\n",
       "      <td>0.835905</td>\n",
       "      <td>0.813101</td>\n",
       "      <td>0.316593</td>\n",
       "      <td>0.897804</td>\n",
       "      <td>0.212598</td>\n",
       "      <td>0.479313</td>\n",
       "      <td>0.891057</td>\n",
       "    </tr>\n",
       "  </tbody>\n",
       "</table>\n",
       "</div>"
      ],
      "text/plain": [
       "          0         1         2         3         4         5         6  \\\n",
       "0  0.421673  0.935618  0.126794  0.255176  0.408764  0.928710  0.145421   \n",
       "1  0.587095  0.467240  0.245670  0.200381  0.511438  0.813974  0.086570   \n",
       "2  0.903030  0.182116  0.502272  0.869994  0.693967  0.937254  0.661794   \n",
       "3  0.263161  0.868036  0.597302  0.340067  0.078363  0.629179  0.596100   \n",
       "4  0.244690  0.891965  0.608509  0.529229  0.296088  0.655500  0.021702   \n",
       "5  0.403680  0.857524  0.225238  0.414229  0.644367  0.370850  0.294341   \n",
       "6  0.617487  0.682296  0.879799  0.765662  0.240073  0.716382  0.222183   \n",
       "7  0.142222  0.959092  0.023716  0.353006  0.240515  0.581517  0.122547   \n",
       "8  0.149716  0.985596  0.001668  0.628802  0.158205  0.474989  0.826883   \n",
       "9  0.038831  0.107022  0.134601  0.835905  0.813101  0.316593  0.897804   \n",
       "\n",
       "          7         8         9  \n",
       "0  0.558095  0.468621  0.257515  \n",
       "1  0.034281  0.430556  0.280993  \n",
       "2  0.070945  0.381007  0.212883  \n",
       "3  0.681268  0.570964  0.017023  \n",
       "4  0.930641  0.830929  0.902585  \n",
       "5  0.029291  0.638900  0.628002  \n",
       "6  0.962739  0.107814  0.132789  \n",
       "7  0.019490  0.628463  0.969933  \n",
       "8  0.571380  0.378739  0.623974  \n",
       "9  0.212598  0.479313  0.891057  "
      ]
     },
     "execution_count": 10,
     "metadata": {},
     "output_type": "execute_result"
    }
   ],
   "source": [
    "import pandas as pd\n",
    "A = pd.read_table(\"A_test2.txt\", \n",
    "    header=None, \n",
    "    sep='\\s+')\n",
    "A"
   ]
  },
  {
   "attachments": {},
   "cell_type": "markdown",
   "id": "ce941462",
   "metadata": {},
   "source": [
    "And now we generate the $\\mathbf{b}$ vector:"
   ]
  },
  {
   "cell_type": "code",
   "execution_count": 11,
   "id": "38b6c712",
   "metadata": {
    "execution": {
     "iopub.execute_input": "2024-05-05T04:20:23.264901Z",
     "iopub.status.busy": "2024-05-05T04:20:23.264622Z",
     "iopub.status.idle": "2024-05-05T04:20:23.327229Z",
     "shell.execute_reply": "2024-05-05T04:20:23.326264Z",
     "shell.execute_reply.started": "2024-05-05T04:20:23.264881Z"
    }
   },
   "outputs": [],
   "source": [
    "exec_status = os.system(\"fpm run generate_array 2>/dev/null -- 10 > b_test2.txt\") "
   ]
  },
  {
   "attachments": {},
   "cell_type": "markdown",
   "id": "54dad84d",
   "metadata": {},
   "source": [
    "The $\\mathbf{b}$ vector is shown below:"
   ]
  },
  {
   "cell_type": "code",
   "execution_count": 12,
   "id": "fc631ba4",
   "metadata": {
    "execution": {
     "iopub.execute_input": "2024-05-05T04:20:25.426522Z",
     "iopub.status.busy": "2024-05-05T04:20:25.426174Z",
     "iopub.status.idle": "2024-05-05T04:20:25.436331Z",
     "shell.execute_reply": "2024-05-05T04:20:25.435560Z",
     "shell.execute_reply.started": "2024-05-05T04:20:25.426502Z"
    }
   },
   "outputs": [
    {
     "data": {
      "text/html": [
       "<div>\n",
       "<style scoped>\n",
       "    .dataframe tbody tr th:only-of-type {\n",
       "        vertical-align: middle;\n",
       "    }\n",
       "\n",
       "    .dataframe tbody tr th {\n",
       "        vertical-align: top;\n",
       "    }\n",
       "\n",
       "    .dataframe thead th {\n",
       "        text-align: right;\n",
       "    }\n",
       "</style>\n",
       "<table border=\"1\" class=\"dataframe\">\n",
       "  <thead>\n",
       "    <tr style=\"text-align: right;\">\n",
       "      <th></th>\n",
       "      <th>0</th>\n",
       "    </tr>\n",
       "  </thead>\n",
       "  <tbody>\n",
       "    <tr>\n",
       "      <th>0</th>\n",
       "      <td>0.884898</td>\n",
       "    </tr>\n",
       "    <tr>\n",
       "      <th>1</th>\n",
       "      <td>0.427984</td>\n",
       "    </tr>\n",
       "    <tr>\n",
       "      <th>2</th>\n",
       "      <td>0.308936</td>\n",
       "    </tr>\n",
       "    <tr>\n",
       "      <th>3</th>\n",
       "      <td>0.180324</td>\n",
       "    </tr>\n",
       "    <tr>\n",
       "      <th>4</th>\n",
       "      <td>0.740749</td>\n",
       "    </tr>\n",
       "    <tr>\n",
       "      <th>5</th>\n",
       "      <td>0.636743</td>\n",
       "    </tr>\n",
       "    <tr>\n",
       "      <th>6</th>\n",
       "      <td>0.007627</td>\n",
       "    </tr>\n",
       "    <tr>\n",
       "      <th>7</th>\n",
       "      <td>0.508185</td>\n",
       "    </tr>\n",
       "    <tr>\n",
       "      <th>8</th>\n",
       "      <td>0.202605</td>\n",
       "    </tr>\n",
       "    <tr>\n",
       "      <th>9</th>\n",
       "      <td>0.263376</td>\n",
       "    </tr>\n",
       "  </tbody>\n",
       "</table>\n",
       "</div>"
      ],
      "text/plain": [
       "          0\n",
       "0  0.884898\n",
       "1  0.427984\n",
       "2  0.308936\n",
       "3  0.180324\n",
       "4  0.740749\n",
       "5  0.636743\n",
       "6  0.007627\n",
       "7  0.508185\n",
       "8  0.202605\n",
       "9  0.263376"
      ]
     },
     "execution_count": 12,
     "metadata": {},
     "output_type": "execute_result"
    }
   ],
   "source": [
    "b = pd.read_table(\"b_test2.txt\", \n",
    "    header=None, \n",
    "    sep='\\s+')\n",
    "b"
   ]
  },
  {
   "attachments": {},
   "cell_type": "markdown",
   "id": "abcfe522",
   "metadata": {},
   "source": [
    "We now use the *solve_equation* Fortran code to solve this linear system of equations:"
   ]
  },
  {
   "cell_type": "code",
   "execution_count": 13,
   "id": "d22f4254",
   "metadata": {
    "execution": {
     "iopub.execute_input": "2024-05-05T04:20:27.546995Z",
     "iopub.status.busy": "2024-05-05T04:20:27.546600Z",
     "iopub.status.idle": "2024-05-05T04:20:27.602102Z",
     "shell.execute_reply": "2024-05-05T04:20:27.601297Z",
     "shell.execute_reply.started": "2024-05-05T04:20:27.546975Z"
    }
   },
   "outputs": [
    {
     "name": "stdout",
     "output_type": "stream",
     "text": [
      "         -0.300619545614419\n",
      "          0.147645143403048\n",
      "         -1.273611728694176\n",
      "          1.305132415355371\n",
      "          0.557331029770800\n",
      "          0.025935962246598\n",
      "         -1.111310819419793\n",
      "          0.291430520533678\n",
      "          1.523017222769444\n",
      "         -1.027865673834484\n"
     ]
    }
   ],
   "source": [
    "exec_status = \\\n",
    "    os.system(\"fpm run solve_equations 2>/dev/null -- 10 A_test2.txt b_test2.txt\")"
   ]
  },
  {
   "attachments": {},
   "cell_type": "markdown",
   "id": "8e0b8fac",
   "metadata": {},
   "source": [
    "And the results are compared to the output of Numpy:"
   ]
  },
  {
   "cell_type": "code",
   "execution_count": 14,
   "id": "b5b50489",
   "metadata": {
    "execution": {
     "iopub.execute_input": "2024-05-05T04:20:29.578093Z",
     "iopub.status.busy": "2024-05-05T04:20:29.577819Z",
     "iopub.status.idle": "2024-05-05T04:20:29.586649Z",
     "shell.execute_reply": "2024-05-05T04:20:29.585329Z",
     "shell.execute_reply.started": "2024-05-05T04:20:29.578074Z"
    }
   },
   "outputs": [
    {
     "name": "stdout",
     "output_type": "stream",
     "text": [
      "x1 = -0.300620\n",
      "x2 = 0.147645\n",
      "x3 = -1.273612\n",
      "x4 = 1.305132\n",
      "x5 = 0.557331\n",
      "x6 = 0.025936\n",
      "x7 = -1.111311\n",
      "x8 = 0.291431\n",
      "x9 = 1.523017\n",
      "x10 = -1.027866\n"
     ]
    }
   ],
   "source": [
    "A = np.genfromtxt(\"A_test2.txt\")\n",
    "b = np.genfromtxt(\"b_test2.txt\")\n",
    "x = np.linalg.solve(A, b)\n",
    "\n",
    "for i in range(len(x)):\n",
    "    print (\"x{0:d} = {1:2.6f}\".format(i+1, x[i]))"
   ]
  },
  {
   "attachments": {},
   "cell_type": "markdown",
   "id": "c5eb8ac6",
   "metadata": {},
   "source": [
    "Again, we see that the results are the same."
   ]
  }
 ],
 "metadata": {
  "kernelspec": {
   "display_name": "Python 3 (ipykernel)",
   "language": "python",
   "name": "python3"
  },
  "language_info": {
   "codemirror_mode": {
    "name": "ipython",
    "version": 3
   },
   "file_extension": ".py",
   "mimetype": "text/x-python",
   "name": "python",
   "nbconvert_exporter": "python",
   "pygments_lexer": "ipython3",
   "version": "3.10.14"
  },
  "vscode": {
   "interpreter": {
    "hash": "1c7edbfe09241e3ab70fdbaa9340a6c53382c0b8a91b6341e8f1e4440b6e3c70"
   }
  }
 },
 "nbformat": 4,
 "nbformat_minor": 5
}