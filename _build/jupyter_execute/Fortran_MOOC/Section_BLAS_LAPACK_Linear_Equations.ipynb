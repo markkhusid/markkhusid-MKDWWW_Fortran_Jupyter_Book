{
 "cells": [
  {
   "cell_type": "raw",
   "id": "c40b648f-a44a-4480-bbee-93e7a780f45b",
   "metadata": {},
   "source": [
    "---\n",
    "jupytext:\n",
    "  formats: md:myst\n",
    "  text_representation:\n",
    "    extension: .md\n",
    "    format_name: myst\n",
    "kernelspec:\n",
    "  display_name: Python 3\n",
    "  language: python\n",
    "  name: python3\n",
    "---"
   ]
  },
  {
   "attachments": {},
   "cell_type": "markdown",
   "id": "fc63b62e-3ea6-4588-8b6e-f845bbc6d64c",
   "metadata": {
    "tags": []
   },
   "source": [
    "# Section: BLAS/LAPACK - Linear Equations\n"
   ]
  },
  {
   "attachments": {},
   "cell_type": "markdown",
   "id": "edfc7d7e-9803-4b96-82f1-bc0d47385f43",
   "metadata": {},
   "source": [
    "Adapted from: [https://github.com/gjbex/Fortran-MOOC/tree/master/source_code/blas_lapack/linear_equations](https://github.com/gjbex/Fortran-MOOC/tree/master/source_code/blas_lapack/linear_equations)"
   ]
  },
  {
   "attachments": {},
   "cell_type": "markdown",
   "id": "59ec1bec-3fd7-4061-aa24-c7765d25786f",
   "metadata": {},
   "source": [
    "## This program demonstrates solving linear algebra equations in Fortran."
   ]
  },
  {
   "attachments": {},
   "cell_type": "markdown",
   "id": "b010108c",
   "metadata": {},
   "source": [
    "### Linear Equation Problem"
   ]
  },
  {
   "attachments": {},
   "cell_type": "markdown",
   "id": "e4efe68f",
   "metadata": {},
   "source": [
    "In this notebook we will use Fortran to solve a system of linear equations of the form:"
   ]
  },
  {
   "attachments": {},
   "cell_type": "markdown",
   "id": "74662cc6",
   "metadata": {},
   "source": [
    "$$\n",
    "\\Large A \\mathbf{x} = \\mathbf{b}\n",
    "$$\n",
    "where: <br>\n"
   ]
  },
  {
   "attachments": {},
   "cell_type": "markdown",
   "id": "30939470",
   "metadata": {},
   "source": [
    "$$\n",
    "\\Large A =\n",
    "\\left[\n",
    "\\begin{array}{cccc}\n",
    "a_{11} & a_{12} & \\cdots & a_{1n} \\\\\n",
    "a_{21} & a_{22} & \\cdots & a_{2n} \\\\\n",
    "\\vdots & \\vdots & \\vdots & \\vdots \\\\\n",
    "a_{m1} & a_{m2} & \\cdots & a_{mn}\n",
    "\\end{array}\n",
    "\\right]\n",
    "$$"
   ]
  },
  {
   "attachments": {},
   "cell_type": "markdown",
   "id": "a679fdd6",
   "metadata": {},
   "source": [
    "$$\n",
    "\\Large \\mathbf{x} =\n",
    "\\left[\n",
    "\\begin{array}{c}\n",
    "x_{1}  \\\\\n",
    "x_{2}  \\\\\n",
    "\\vdots \\\\\n",
    "x_{n}\n",
    "\\end{array}\n",
    "\\right]\n",
    "$$"
   ]
  },
  {
   "attachments": {},
   "cell_type": "markdown",
   "id": "52bb7322",
   "metadata": {},
   "source": [
    "$$\n",
    "\\Large \\mathbf{b} = \n",
    "\\left[\n",
    "\\begin{array}{c}\n",
    "b_{1}  \\\\\n",
    "b_{2}  \\\\\n",
    "\\vdots \\\\\n",
    "b_{n}\n",
    "\\end{array}\n",
    "\\right]\n",
    "$$"
   ]
  },
  {
   "attachments": {},
   "cell_type": "markdown",
   "id": "31041f68",
   "metadata": {},
   "source": [
    "The approach will be to have a main program that reads in as parameters the number of equations, the matrix $\\mathbf{A}$ and the vector $\\mathbf{x}$ as text files.  The main program is called *solve_equations.f90*.  It makes use of the LAPACK linear equation solver routine called **DGESV**.  Information on this routine can be found at [LAPACK - DGESV](https://netlib.org/lapack/explore-html/d7/d3b/group__double_g_esolve_ga5ee879032a8365897c3ba91e3dc8d512.html#ga5ee879032a8365897c3ba91e3dc8d512).\n",
    "\n",
    "The main program makes use of a module called *linalg_mod.f90*, which contains subroutines to read and write matrices and arrays to and from text files.\n",
    "\n",
    "Finally, there is a helper program called *generate_array.f90* which has a subroutine that gets arguments from the command line and generates either of vector or matrix of specified size.  Every element in the array or matrix is a random number.\n",
    "\n",
    "The individual program files are listed below:"
   ]
  },
  {
   "attachments": {},
   "cell_type": "markdown",
   "id": "ae43bd88",
   "metadata": {},
   "source": [
    "### In file linalg_mod.f90"
   ]
  },
  {
   "attachments": {},
   "cell_type": "markdown",
   "id": "49f81255",
   "metadata": {},
   "source": [
    "```{literalinclude} Fortran_Code/Section_BLAS_LAPACK_Linear_Equations/src/linalg_mod.f90\n",
    "---\n",
    "language: fortran\n",
    "---\n",
    "```"
   ]
  },
  {
   "attachments": {},
   "cell_type": "markdown",
   "id": "5c7b2265",
   "metadata": {},
   "source": [
    "### In file generate_array.f90"
   ]
  },
  {
   "attachments": {},
   "cell_type": "markdown",
   "id": "90bc81c6",
   "metadata": {},
   "source": [
    "```{literalinclude} Fortran_Code/Section_BLAS_LAPACK_Linear_Equations/app/generate_array.f90\n",
    "---\n",
    "language: fortran\n",
    "---\n",
    "```"
   ]
  },
  {
   "attachments": {},
   "cell_type": "markdown",
   "id": "924d2886",
   "metadata": {},
   "source": [
    "### In solve_equations.f90"
   ]
  },
  {
   "attachments": {},
   "cell_type": "markdown",
   "id": "a2705efc",
   "metadata": {},
   "source": [
    "```{literalinclude} Fortran_Code/Section_BLAS_LAPACK_Linear_Equations/app/solve_equations.f90\n",
    "---\n",
    "language: fortran\n",
    "---\n",
    "```"
   ]
  },
  {
   "attachments": {},
   "cell_type": "markdown",
   "id": "4c6b9985-c0cb-4602-8309-4e3369dd3226",
   "metadata": {},
   "source": [
    "The above programs are compiled and run using Fortran Package Manager (fpm):"
   ]
  },
  {
   "cell_type": "markdown",
   "id": "c6f9ed20",
   "metadata": {
    "tags": []
   },
   "source": [
    "## Build the Program using FPM (Fortran Package Manager)"
   ]
  },
  {
   "cell_type": "code",
   "execution_count": 1,
   "id": "f16472aa-c965-4bad-a218-fee33f7b456a",
   "metadata": {},
   "outputs": [],
   "source": [
    "import os\n",
    "root_dir = \"\"\n",
    "root_dir = os.getcwd()"
   ]
  },
  {
   "attachments": {},
   "cell_type": "markdown",
   "id": "48d176ac",
   "metadata": {},
   "source": [
    "Since the code makes use of the LAPACK library, the following FPM configuration file (fpm.toml) was used:"
   ]
  },
  {
   "attachments": {},
   "cell_type": "markdown",
   "id": "48ce3430",
   "metadata": {},
   "source": [
    "```{literalinclude} Fortran_Code/Section_BLAS_LAPACK_Linear_Equations/fpm.toml\n",
    "---\n",
    "language: toml\n",
    "---\n",
    "```"
   ]
  },
  {
   "cell_type": "code",
   "execution_count": 2,
   "id": "f77f9126-86cc-4a1b-89b9-5ad5f61cf72c",
   "metadata": {
    "tags": []
   },
   "outputs": [],
   "source": [
    "code_dir = root_dir + \"/\" + \"Fortran_Code/Section_BLAS_LAPACK_Linear_Equations\""
   ]
  },
  {
   "cell_type": "code",
   "execution_count": 3,
   "id": "c2eeda29-613f-48fd-904b-af9aef8813a2",
   "metadata": {},
   "outputs": [],
   "source": [
    "os.chdir(code_dir)"
   ]
  },
  {
   "attachments": {},
   "cell_type": "markdown",
   "id": "2aac5422",
   "metadata": {},
   "source": [
    "The files *solve_equations.f90* and *generate_array.f90* were placed into the \"app\" folder, while the file *linalg_mod.f90* was placed into the \"src\" folder."
   ]
  },
  {
   "cell_type": "code",
   "execution_count": 4,
   "id": "0fbd7621-e800-4235-ab30-80560cc3e1a8",
   "metadata": {},
   "outputs": [],
   "source": [
    "build_status = os.system(\"fpm build 2>/dev/null\")"
   ]
  },
  {
   "cell_type": "markdown",
   "id": "58b5102f",
   "metadata": {},
   "source": [
    "## Run the Program using FPM (Fortran Package Manager)"
   ]
  },
  {
   "attachments": {},
   "cell_type": "markdown",
   "id": "9d20b466",
   "metadata": {},
   "source": [
    "### Solve a Test Linear System of Two Equations"
   ]
  },
  {
   "attachments": {},
   "cell_type": "markdown",
   "id": "4caa25a1",
   "metadata": {},
   "source": [
    "As our first run, we wish to solve the following set of linear equations:"
   ]
  },
  {
   "attachments": {},
   "cell_type": "markdown",
   "id": "6d991660",
   "metadata": {},
   "source": [
    "$$\n",
    "\\begin{align*}\n",
    "2x+8y & = 20 \\\\\n",
    "x+2y  & = 4\n",
    "\\end{align*}\n",
    "$$"
   ]
  },
  {
   "attachments": {},
   "cell_type": "markdown",
   "id": "ea7ecd67",
   "metadata": {},
   "source": [
    "The variables in the equations are converted into components of the $\\mathbf{x}$ vector as shown below:"
   ]
  },
  {
   "attachments": {},
   "cell_type": "markdown",
   "id": "ae3c328f",
   "metadata": {},
   "source": [
    "$$\n",
    "\\begin{align*}\n",
    "2x_1+8x_2 & = 20 \\\\\n",
    "x_1+2x_2  & = 4\n",
    "\\end{align*}\n",
    "$$"
   ]
  },
  {
   "attachments": {},
   "cell_type": "markdown",
   "id": "f695caa4",
   "metadata": {},
   "source": [
    "These equations are converted into matrix form as shown below:"
   ]
  },
  {
   "attachments": {},
   "cell_type": "markdown",
   "id": "7853d826",
   "metadata": {},
   "source": [
    "$$\n",
    "\\begin{equation*}\n",
    "\\left[\n",
    "\\begin{array}{cc}\n",
    "2 & 8 \\\\\n",
    "1 & 2 \\\\\n",
    "\\end{array}\n",
    "\\right]\n",
    "\\left[\n",
    "\\begin{array}{c}\n",
    "x_1 \\\\\n",
    "x_2 \\\\\n",
    "\\end{array}\n",
    "\\right]\n",
    "=\n",
    "\\left[\n",
    "\\begin{array}{c}\n",
    "20 \\\\\n",
    "4 \\\\\n",
    "\\end{array}\n",
    "\\right]\n",
    "\\end{equation*}\n",
    "$$"
   ]
  },
  {
   "attachments": {},
   "cell_type": "markdown",
   "id": "196dd707",
   "metadata": {},
   "source": [
    "Therefore we have the following:"
   ]
  },
  {
   "attachments": {},
   "cell_type": "markdown",
   "id": "5d9ca029",
   "metadata": {},
   "source": [
    "$$\n",
    "\\mathbf{A} = \n",
    "\\left[\n",
    "\\begin{array}{cc}\n",
    "2 & 8 \\\\\n",
    "1 & 2 \n",
    "\\end{array}\n",
    "\\right]\n",
    "$$"
   ]
  },
  {
   "attachments": {},
   "cell_type": "markdown",
   "id": "3d169955",
   "metadata": {},
   "source": [
    "$$\n",
    "\\mathbf{x} = \n",
    "\\left[\n",
    "\\begin{array}{c}\n",
    "x_1 \\\\\n",
    "x_2  \n",
    "\\end{array}\n",
    "\\right]\n",
    "$$"
   ]
  },
  {
   "attachments": {},
   "cell_type": "markdown",
   "id": "066128e8",
   "metadata": {},
   "source": [
    "\n",
    "$$\n",
    "\\mathbf{b} = \n",
    "\\left[\n",
    "\\begin{array}{c}\n",
    "20 \\\\\n",
    "4  \n",
    "\\end{array}\n",
    "\\right]\n",
    "$$\n"
   ]
  },
  {
   "attachments": {},
   "cell_type": "markdown",
   "id": "5de8c65a",
   "metadata": {},
   "source": [
    "The matrix $\\mathbf{A}$ and the vector $\\mathbf{b}$ are written into text files as shown below:"
   ]
  },
  {
   "cell_type": "code",
   "execution_count": 5,
   "id": "1c01eb34",
   "metadata": {},
   "outputs": [
    {
     "name": "stdout",
     "output_type": "stream",
     "text": [
      "Overwriting A_test1.txt\n"
     ]
    }
   ],
   "source": [
    "%%writefile A_test1.txt\n",
    "2 8\n",
    "1 2"
   ]
  },
  {
   "cell_type": "code",
   "execution_count": 6,
   "id": "249b8e0d",
   "metadata": {},
   "outputs": [
    {
     "name": "stdout",
     "output_type": "stream",
     "text": [
      "Overwriting b_test1.txt\n"
     ]
    }
   ],
   "source": [
    "%%writefile b_test1.txt\n",
    "20\n",
    "4"
   ]
  },
  {
   "attachments": {},
   "cell_type": "markdown",
   "id": "638f5f18",
   "metadata": {},
   "source": [
    "The *solve_equations* program can now be run with the number of equations command line argument set to 2, and the files *A_test1.txt* and *b_test1.txt*"
   ]
  },
  {
   "cell_type": "code",
   "execution_count": 7,
   "id": "3176b27d-932e-47a1-8099-4fae064ec661",
   "metadata": {},
   "outputs": [
    {
     "name": "stdout",
     "output_type": "stream",
     "text": [
      "     -0.200000000000000E+01\n",
      "      0.300000000000000E+01\n"
     ]
    }
   ],
   "source": [
    "exec_status = \\\n",
    "    os.system(\"fpm run solve_equations 2>/dev/null -- 2 A_test1.txt b_test1.txt\")"
   ]
  },
  {
   "attachments": {},
   "cell_type": "markdown",
   "id": "b307ea7e",
   "metadata": {},
   "source": [
    "The results are printed in scientfic notation and in the order of $x_1$, $x_2$."
   ]
  },
  {
   "attachments": {},
   "cell_type": "markdown",
   "id": "5cc87d92",
   "metadata": {},
   "source": [
    "We now wish to use Python's Numpy library to test these results:"
   ]
  },
  {
   "cell_type": "code",
   "execution_count": 8,
   "id": "3114a075",
   "metadata": {},
   "outputs": [
    {
     "name": "stdout",
     "output_type": "stream",
     "text": [
      "x1 = -2.0\n",
      "x2 = 3.0\n"
     ]
    }
   ],
   "source": [
    "import numpy as np\n",
    "\n",
    "A = np.genfromtxt(\"A_test1.txt\")\n",
    "b = np.genfromtxt(\"b_test1.txt\")\n",
    "x = np.linalg.solve(A, b)\n",
    "print(\"x1 = {0:2.1f}\".format(x[0]))\n",
    "print(\"x2 = {0:2.1f}\".format(x[1]))"
   ]
  },
  {
   "attachments": {},
   "cell_type": "markdown",
   "id": "13e8131b",
   "metadata": {},
   "source": [
    "We can see that the Fortran code and Numpy produce the same results."
   ]
  },
  {
   "attachments": {},
   "cell_type": "markdown",
   "id": "3fb674dc",
   "metadata": {},
   "source": [
    "### Solve a Test Linear System of Equations of Arbitrary Size"
   ]
  },
  {
   "attachments": {},
   "cell_type": "markdown",
   "id": "d0419269",
   "metadata": {},
   "source": [
    "The Fortran code can be used to solve an arbitrarily large system of equations.  To test this functionality, we make use of the *generate_array.f90* program to generate arrays or matrices of arbitrary size filled with random numbers.\n",
    "\n",
    "As a start, we will use the *generate_array.f90* to generate a matrix file A_test2.txt that contains a 10x10 matrix."
   ]
  },
  {
   "cell_type": "code",
   "execution_count": 9,
   "id": "22de1ace",
   "metadata": {},
   "outputs": [],
   "source": [
    "exec_status = os.system(\"fpm run generate_array 2>/dev/null -- 10 10 > A_test2.txt\") "
   ]
  },
  {
   "attachments": {},
   "cell_type": "markdown",
   "id": "ec2f4018",
   "metadata": {},
   "source": [
    "The $\\mathbf{A}$ matrix is shown below:"
   ]
  },
  {
   "cell_type": "code",
   "execution_count": 10,
   "id": "cd5fb348",
   "metadata": {},
   "outputs": [
    {
     "data": {
      "text/html": [
       "<div>\n",
       "<style scoped>\n",
       "    .dataframe tbody tr th:only-of-type {\n",
       "        vertical-align: middle;\n",
       "    }\n",
       "\n",
       "    .dataframe tbody tr th {\n",
       "        vertical-align: top;\n",
       "    }\n",
       "\n",
       "    .dataframe thead th {\n",
       "        text-align: right;\n",
       "    }\n",
       "</style>\n",
       "<table border=\"1\" class=\"dataframe\">\n",
       "  <thead>\n",
       "    <tr style=\"text-align: right;\">\n",
       "      <th></th>\n",
       "      <th>0</th>\n",
       "      <th>1</th>\n",
       "      <th>2</th>\n",
       "      <th>3</th>\n",
       "      <th>4</th>\n",
       "      <th>5</th>\n",
       "      <th>6</th>\n",
       "      <th>7</th>\n",
       "      <th>8</th>\n",
       "      <th>9</th>\n",
       "    </tr>\n",
       "  </thead>\n",
       "  <tbody>\n",
       "    <tr>\n",
       "      <th>0</th>\n",
       "      <td>0.479059</td>\n",
       "      <td>0.018255</td>\n",
       "      <td>0.148529</td>\n",
       "      <td>0.868123</td>\n",
       "      <td>0.652005</td>\n",
       "      <td>0.051371</td>\n",
       "      <td>0.566791</td>\n",
       "      <td>0.646060</td>\n",
       "      <td>0.430780</td>\n",
       "      <td>0.813868</td>\n",
       "    </tr>\n",
       "    <tr>\n",
       "      <th>1</th>\n",
       "      <td>0.948968</td>\n",
       "      <td>0.001345</td>\n",
       "      <td>0.396227</td>\n",
       "      <td>0.706450</td>\n",
       "      <td>0.240061</td>\n",
       "      <td>0.004235</td>\n",
       "      <td>0.122635</td>\n",
       "      <td>0.658306</td>\n",
       "      <td>0.481734</td>\n",
       "      <td>0.493693</td>\n",
       "    </tr>\n",
       "    <tr>\n",
       "      <th>2</th>\n",
       "      <td>0.487909</td>\n",
       "      <td>0.297930</td>\n",
       "      <td>0.288298</td>\n",
       "      <td>0.531290</td>\n",
       "      <td>0.805373</td>\n",
       "      <td>0.889581</td>\n",
       "      <td>0.116428</td>\n",
       "      <td>0.480135</td>\n",
       "      <td>0.919205</td>\n",
       "      <td>0.856963</td>\n",
       "    </tr>\n",
       "    <tr>\n",
       "      <th>3</th>\n",
       "      <td>0.008240</td>\n",
       "      <td>0.697264</td>\n",
       "      <td>0.140707</td>\n",
       "      <td>0.987016</td>\n",
       "      <td>0.136896</td>\n",
       "      <td>0.917161</td>\n",
       "      <td>0.109125</td>\n",
       "      <td>0.339215</td>\n",
       "      <td>0.881406</td>\n",
       "      <td>0.482073</td>\n",
       "    </tr>\n",
       "    <tr>\n",
       "      <th>4</th>\n",
       "      <td>0.803257</td>\n",
       "      <td>0.834973</td>\n",
       "      <td>0.266232</td>\n",
       "      <td>0.525780</td>\n",
       "      <td>0.696429</td>\n",
       "      <td>0.916220</td>\n",
       "      <td>0.330767</td>\n",
       "      <td>0.085754</td>\n",
       "      <td>0.044459</td>\n",
       "      <td>0.076469</td>\n",
       "    </tr>\n",
       "    <tr>\n",
       "      <th>5</th>\n",
       "      <td>0.745642</td>\n",
       "      <td>0.346349</td>\n",
       "      <td>0.088949</td>\n",
       "      <td>0.275074</td>\n",
       "      <td>0.530497</td>\n",
       "      <td>0.531867</td>\n",
       "      <td>0.111653</td>\n",
       "      <td>0.450347</td>\n",
       "      <td>0.184724</td>\n",
       "      <td>0.269379</td>\n",
       "    </tr>\n",
       "    <tr>\n",
       "      <th>6</th>\n",
       "      <td>0.093903</td>\n",
       "      <td>0.912523</td>\n",
       "      <td>0.782977</td>\n",
       "      <td>0.718646</td>\n",
       "      <td>0.366289</td>\n",
       "      <td>0.088915</td>\n",
       "      <td>0.564593</td>\n",
       "      <td>0.678411</td>\n",
       "      <td>0.871130</td>\n",
       "      <td>0.191260</td>\n",
       "    </tr>\n",
       "    <tr>\n",
       "      <th>7</th>\n",
       "      <td>0.564059</td>\n",
       "      <td>0.499795</td>\n",
       "      <td>0.375514</td>\n",
       "      <td>0.414760</td>\n",
       "      <td>0.232315</td>\n",
       "      <td>0.735868</td>\n",
       "      <td>0.060799</td>\n",
       "      <td>0.053368</td>\n",
       "      <td>0.101157</td>\n",
       "      <td>0.990241</td>\n",
       "    </tr>\n",
       "    <tr>\n",
       "      <th>8</th>\n",
       "      <td>0.383391</td>\n",
       "      <td>0.826573</td>\n",
       "      <td>0.243387</td>\n",
       "      <td>0.127267</td>\n",
       "      <td>0.148193</td>\n",
       "      <td>0.244269</td>\n",
       "      <td>0.738519</td>\n",
       "      <td>0.259511</td>\n",
       "      <td>0.649513</td>\n",
       "      <td>0.280199</td>\n",
       "    </tr>\n",
       "    <tr>\n",
       "      <th>9</th>\n",
       "      <td>0.724082</td>\n",
       "      <td>0.597383</td>\n",
       "      <td>0.553630</td>\n",
       "      <td>0.272111</td>\n",
       "      <td>0.611309</td>\n",
       "      <td>0.260843</td>\n",
       "      <td>0.516537</td>\n",
       "      <td>0.237010</td>\n",
       "      <td>0.728137</td>\n",
       "      <td>0.905719</td>\n",
       "    </tr>\n",
       "  </tbody>\n",
       "</table>\n",
       "</div>"
      ],
      "text/plain": [
       "          0         1         2         3         4         5         6  \\\n",
       "0  0.479059  0.018255  0.148529  0.868123  0.652005  0.051371  0.566791   \n",
       "1  0.948968  0.001345  0.396227  0.706450  0.240061  0.004235  0.122635   \n",
       "2  0.487909  0.297930  0.288298  0.531290  0.805373  0.889581  0.116428   \n",
       "3  0.008240  0.697264  0.140707  0.987016  0.136896  0.917161  0.109125   \n",
       "4  0.803257  0.834973  0.266232  0.525780  0.696429  0.916220  0.330767   \n",
       "5  0.745642  0.346349  0.088949  0.275074  0.530497  0.531867  0.111653   \n",
       "6  0.093903  0.912523  0.782977  0.718646  0.366289  0.088915  0.564593   \n",
       "7  0.564059  0.499795  0.375514  0.414760  0.232315  0.735868  0.060799   \n",
       "8  0.383391  0.826573  0.243387  0.127267  0.148193  0.244269  0.738519   \n",
       "9  0.724082  0.597383  0.553630  0.272111  0.611309  0.260843  0.516537   \n",
       "\n",
       "          7         8         9  \n",
       "0  0.646060  0.430780  0.813868  \n",
       "1  0.658306  0.481734  0.493693  \n",
       "2  0.480135  0.919205  0.856963  \n",
       "3  0.339215  0.881406  0.482073  \n",
       "4  0.085754  0.044459  0.076469  \n",
       "5  0.450347  0.184724  0.269379  \n",
       "6  0.678411  0.871130  0.191260  \n",
       "7  0.053368  0.101157  0.990241  \n",
       "8  0.259511  0.649513  0.280199  \n",
       "9  0.237010  0.728137  0.905719  "
      ]
     },
     "execution_count": 10,
     "metadata": {},
     "output_type": "execute_result"
    }
   ],
   "source": [
    "import pandas as pd\n",
    "A = pd.read_table(\"A_test2.txt\", \n",
    "    header=None, \n",
    "    sep='\\s+')\n",
    "A"
   ]
  },
  {
   "attachments": {},
   "cell_type": "markdown",
   "id": "ce941462",
   "metadata": {},
   "source": [
    "And now we generate the $\\mathbf{b}$ vector:"
   ]
  },
  {
   "cell_type": "code",
   "execution_count": 11,
   "id": "b45086f3",
   "metadata": {},
   "outputs": [],
   "source": [
    "exec_status = os.system(\"fpm run generate_array 2>/dev/null -- 10 > b_test2.txt\") "
   ]
  },
  {
   "attachments": {},
   "cell_type": "markdown",
   "id": "54dad84d",
   "metadata": {},
   "source": [
    "The $\\mathbf{b}$ vector is shown below:"
   ]
  },
  {
   "cell_type": "code",
   "execution_count": 12,
   "id": "fc631ba4",
   "metadata": {},
   "outputs": [
    {
     "data": {
      "text/html": [
       "<div>\n",
       "<style scoped>\n",
       "    .dataframe tbody tr th:only-of-type {\n",
       "        vertical-align: middle;\n",
       "    }\n",
       "\n",
       "    .dataframe tbody tr th {\n",
       "        vertical-align: top;\n",
       "    }\n",
       "\n",
       "    .dataframe thead th {\n",
       "        text-align: right;\n",
       "    }\n",
       "</style>\n",
       "<table border=\"1\" class=\"dataframe\">\n",
       "  <thead>\n",
       "    <tr style=\"text-align: right;\">\n",
       "      <th></th>\n",
       "      <th>0</th>\n",
       "    </tr>\n",
       "  </thead>\n",
       "  <tbody>\n",
       "    <tr>\n",
       "      <th>0</th>\n",
       "      <td>0.210498</td>\n",
       "    </tr>\n",
       "    <tr>\n",
       "      <th>1</th>\n",
       "      <td>0.764398</td>\n",
       "    </tr>\n",
       "    <tr>\n",
       "      <th>2</th>\n",
       "      <td>0.051053</td>\n",
       "    </tr>\n",
       "    <tr>\n",
       "      <th>3</th>\n",
       "      <td>0.970386</td>\n",
       "    </tr>\n",
       "    <tr>\n",
       "      <th>4</th>\n",
       "      <td>0.316946</td>\n",
       "    </tr>\n",
       "    <tr>\n",
       "      <th>5</th>\n",
       "      <td>0.780281</td>\n",
       "    </tr>\n",
       "    <tr>\n",
       "      <th>6</th>\n",
       "      <td>0.968970</td>\n",
       "    </tr>\n",
       "    <tr>\n",
       "      <th>7</th>\n",
       "      <td>0.683564</td>\n",
       "    </tr>\n",
       "    <tr>\n",
       "      <th>8</th>\n",
       "      <td>0.226975</td>\n",
       "    </tr>\n",
       "    <tr>\n",
       "      <th>9</th>\n",
       "      <td>0.447995</td>\n",
       "    </tr>\n",
       "  </tbody>\n",
       "</table>\n",
       "</div>"
      ],
      "text/plain": [
       "          0\n",
       "0  0.210498\n",
       "1  0.764398\n",
       "2  0.051053\n",
       "3  0.970386\n",
       "4  0.316946\n",
       "5  0.780281\n",
       "6  0.968970\n",
       "7  0.683564\n",
       "8  0.226975\n",
       "9  0.447995"
      ]
     },
     "execution_count": 12,
     "metadata": {},
     "output_type": "execute_result"
    }
   ],
   "source": [
    "b = pd.read_table(\"b_test2.txt\", \n",
    "    header=None, \n",
    "    sep='\\s+')\n",
    "b"
   ]
  },
  {
   "attachments": {},
   "cell_type": "markdown",
   "id": "abcfe522",
   "metadata": {},
   "source": [
    "We now use the *solve_equation* Fortran code to solve this linear system of equations:"
   ]
  },
  {
   "cell_type": "code",
   "execution_count": 13,
   "id": "d22f4254",
   "metadata": {},
   "outputs": [
    {
     "name": "stdout",
     "output_type": "stream",
     "text": [
      "      0.379509964087763E+00\n",
      "      0.330127214720091E+01\n",
      "     -0.181957572101974E+01\n",
      "      0.582252336130065E+00\n",
      "      0.355930375439009E+00\n",
      "     -0.215991473028111E+01\n",
      "     -0.296149549471929E+01\n",
      "      0.960411217453677E+00\n",
      "     -0.192534071254801E+00\n",
      "      0.925350149549067E+00\n"
     ]
    }
   ],
   "source": [
    "exec_status = \\\n",
    "    os.system(\"fpm run solve_equations 2>/dev/null -- 10 A_test2.txt b_test2.txt\")"
   ]
  },
  {
   "attachments": {},
   "cell_type": "markdown",
   "id": "8e0b8fac",
   "metadata": {},
   "source": [
    "And the results are compared to the output of Numpy:"
   ]
  },
  {
   "cell_type": "code",
   "execution_count": 14,
   "id": "b5b50489",
   "metadata": {},
   "outputs": [
    {
     "name": "stdout",
     "output_type": "stream",
     "text": [
      "x1 = 0.379510\n",
      "x2 = 3.301272\n",
      "x3 = -1.819576\n",
      "x4 = 0.582252\n",
      "x5 = 0.355930\n",
      "x6 = -2.159915\n",
      "x7 = -2.961495\n",
      "x8 = 0.960411\n",
      "x9 = -0.192534\n",
      "x10 = 0.925350\n"
     ]
    }
   ],
   "source": [
    "A = np.genfromtxt(\"A_test2.txt\")\n",
    "b = np.genfromtxt(\"b_test2.txt\")\n",
    "x = np.linalg.solve(A, b)\n",
    "\n",
    "for i in range(len(x)):\n",
    "    print (\"x{0:d} = {1:2.6f}\".format(i+1, x[i]))"
   ]
  },
  {
   "attachments": {},
   "cell_type": "markdown",
   "id": "c5eb8ac6",
   "metadata": {},
   "source": [
    "Again, we see that the results are the same."
   ]
  }
 ],
 "metadata": {
  "kernelspec": {
   "display_name": "base",
   "language": "python",
   "name": "python3"
  },
  "language_info": {
   "codemirror_mode": {
    "name": "ipython",
    "version": 3
   },
   "file_extension": ".py",
   "mimetype": "text/x-python",
   "name": "python",
   "nbconvert_exporter": "python",
   "pygments_lexer": "ipython3",
   "version": "3.9.15"
  },
  "vscode": {
   "interpreter": {
    "hash": "1c7edbfe09241e3ab70fdbaa9340a6c53382c0b8a91b6341e8f1e4440b6e3c70"
   }
  }
 },
 "nbformat": 4,
 "nbformat_minor": 5
}