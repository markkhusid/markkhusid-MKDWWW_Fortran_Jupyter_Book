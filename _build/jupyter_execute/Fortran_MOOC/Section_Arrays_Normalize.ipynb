{
 "cells": [
  {
   "cell_type": "raw",
   "id": "c40b648f-a44a-4480-bbee-93e7a780f45b",
   "metadata": {},
   "source": [
    "---\n",
    "jupytext:\n",
    "  formats: md:myst\n",
    "  text_representation:\n",
    "    extension: .md\n",
    "    format_name: myst\n",
    "kernelspec:\n",
    "  display_name: Python 3\n",
    "  language: python\n",
    "  name: python3\n",
    "---"
   ]
  },
  {
   "cell_type": "markdown",
   "id": "fc63b62e-3ea6-4588-8b6e-f845bbc6d64c",
   "metadata": {
    "tags": []
   },
   "source": [
    "# Section Arrays: Normalize\n"
   ]
  },
  {
   "cell_type": "markdown",
   "id": "edfc7d7e-9803-4b96-82f1-bc0d47385f43",
   "metadata": {},
   "source": [
    "Adapted from: [https://github.com/gjbex/Fortran-MOOC/tree/master/source_code/arrays](https://github.com/gjbex/Fortran-MOOC/tree/master/source_code/arrays)"
   ]
  },
  {
   "cell_type": "markdown",
   "id": "59ec1bec-3fd7-4061-aa24-c7765d25786f",
   "metadata": {},
   "source": [
    "## This program normalizes a randomly generated matrix in Fortran."
   ]
  },
  {
   "cell_type": "markdown",
   "id": "c36821c7-3b26-404c-8a7c-2f978dfb65d4",
   "metadata": {},
   "source": [
    "```fortran\n",
    "program normalize\n",
    "  use, intrinsic :: iso_fortran_env, only : error_unit, DP => REAL64\n",
    "  implicit none\n",
    "  integer, parameter :: rows = 3, cols = 4\n",
    "  real(kind=DP), dimension(rows, cols) :: matrix, spread_norm\n",
    "  real(kind=DP), dimension(rows) :: norm\n",
    "\n",
    "  call random_number(matrix)\n",
    "  print '(A)', 'original:'\n",
    "  call print_matrix(matrix)\n",
    "\n",
    "  norm = sum(matrix, dim=2)\n",
    "  print '(A, *(F12.7))', 'norm:', norm\n",
    "\n",
    "  spread_norm = spread(norm, 2, size(matrix, 2))\n",
    "  call print_matrix(spread_norm)\n",
    "\n",
    "  matrix = matrix/spread_norm\n",
    "  print '(A)', 'row-normalized::'\n",
    "  call print_matrix(matrix)\n",
    "\n",
    "  norm = sum(matrix, dim=2)\n",
    "  print '(A, *(F12.7))', 'norm:', norm\n",
    "\n",
    "contains\n",
    "\n",
    "  subroutine print_matrix(matrix)\n",
    "      implicit none\n",
    "      real(kind=DP), dimension(:, :), intent(in) :: matrix\n",
    "      integer :: row\n",
    "\n",
    "      do row = 1, size(matrix, 1)\n",
    "          print '(*(F12.7))', matrix(row, :)\n",
    "      end do\n",
    "  end subroutine print_matrix\n",
    "\n",
    "end program normalize\n",
    "```"
   ]
  },
  {
   "cell_type": "markdown",
   "id": "4c6b9985-c0cb-4602-8309-4e3369dd3226",
   "metadata": {},
   "source": [
    "The above program is compiled and run using Fortran Package Manager (fpm):"
   ]
  },
  {
   "cell_type": "markdown",
   "id": "c6f9ed20",
   "metadata": {},
   "source": [
    "## Build the Program using FPM (Fortran Package Manager)"
   ]
  },
  {
   "cell_type": "code",
   "execution_count": 1,
   "id": "e8ba1050-b7b1-4e9e-87bf-28791145e5e7",
   "metadata": {},
   "outputs": [],
   "source": [
    "import os\n",
    "root_dir = os.getcwd()"
   ]
  },
  {
   "cell_type": "code",
   "execution_count": 2,
   "id": "bdaf795d-554a-46e6-b4da-faeb331e1b13",
   "metadata": {},
   "outputs": [],
   "source": [
    "code_dir = root_dir + \"/\" + \"Fortran_Code/Section_Arrays_Normalize\""
   ]
  },
  {
   "cell_type": "code",
   "execution_count": 3,
   "id": "a7d9f1b1-ba0d-4db1-84ef-7a358f0453a6",
   "metadata": {},
   "outputs": [],
   "source": [
    "os.chdir(code_dir)"
   ]
  },
  {
   "cell_type": "code",
   "execution_count": 4,
   "id": "0fbd7621-e800-4235-ab30-80560cc3e1a8",
   "metadata": {},
   "outputs": [],
   "source": [
    "build_status = os.system(\"fpm build 2>/dev/null\")"
   ]
  },
  {
   "cell_type": "markdown",
   "id": "58b5102f",
   "metadata": {},
   "source": [
    "## Run the Program using FPM (Fortran Package Manager)"
   ]
  },
  {
   "cell_type": "code",
   "execution_count": 5,
   "id": "0483d40b-e849-4574-bcbe-003c81a96dd5",
   "metadata": {},
   "outputs": [
    {
     "name": "stdout",
     "output_type": "stream",
     "text": [
      "original:\n",
      "   0.0960507   0.0788726   0.1600229   0.4817641\n",
      "   0.6106017   0.5342869   0.5273907   0.9969011\n",
      "   0.9525043   0.7201538   0.1826179   0.4232396\n",
      "norm:   0.8167103   2.6691805   2.2785157\n",
      "   0.8167103   0.8167103   0.8167103   0.8167103\n",
      "   2.6691805   2.6691805   2.6691805   2.6691805\n",
      "   2.2785157   2.2785157   2.2785157   2.2785157\n",
      "row-normalized::\n",
      "   0.1176068   0.0965735   0.1959359   0.5898837\n",
      "   0.2287600   0.2001689   0.1975853   0.3734858\n",
      "   0.4180372   0.3160627   0.0801477   0.1857523\n",
      "norm:   1.0000000   1.0000000   1.0000000\n"
     ]
    }
   ],
   "source": [
    "exec_status = os.system(\"fpm run 2>/dev/null\")"
   ]
  },
  {
   "cell_type": "code",
   "execution_count": 6,
   "id": "6fd88fa7",
   "metadata": {},
   "outputs": [
    {
     "name": "stdout",
     "output_type": "stream",
     "text": [
      "original:\n",
      "   0.7903963   0.1956377   0.4281195   0.1002243\n",
      "   0.8975208   0.7035018   0.6729723   0.2817520\n",
      "   0.5968745   0.8199887   0.4637679   0.8026923\n",
      "norm:   1.5143778   2.5557469   2.6833235\n",
      "   1.5143778   1.5143778   1.5143778   1.5143778\n",
      "   2.5557469   2.5557469   2.5557469   2.5557469\n",
      "   2.6833235   2.6833235   2.6833235   2.6833235\n",
      "row-normalized::\n",
      "   0.5219281   0.1291869   0.2827032   0.0661818\n",
      "   0.3511775   0.2752627   0.2633173   0.1102425\n",
      "   0.2224385   0.3055870   0.1728334   0.2991411\n",
      "norm:   1.0000000   1.0000000   1.0000000\n"
     ]
    }
   ],
   "source": [
    "exec_status = os.system(\"fpm run 2>/dev/null\")"
   ]
  },
  {
   "cell_type": "code",
   "execution_count": 7,
   "id": "dbb1bec0",
   "metadata": {},
   "outputs": [
    {
     "name": "stdout",
     "output_type": "stream",
     "text": [
      "original:\n",
      "   0.0718216   0.4080069   0.2604005   0.2192006\n",
      "   0.1530737   0.9334634   0.9810090   0.9510445\n",
      "   0.1707085   0.1626133   0.8971008   0.2408611\n",
      "norm:   0.9594296   3.0185906   1.4712837\n",
      "   0.9594296   0.9594296   0.9594296   0.9594296\n",
      "   3.0185906   3.0185906   3.0185906   3.0185906\n",
      "   1.4712837   1.4712837   1.4712837   1.4712837\n",
      "row-normalized::\n",
      "   0.0748587   0.4252598   0.2714117   0.2284697\n",
      "   0.0507103   0.3092382   0.3249891   0.3150624\n",
      "   0.1160269   0.1105248   0.6097402   0.1637082\n",
      "norm:   1.0000000   1.0000000   1.0000000\n"
     ]
    }
   ],
   "source": [
    "exec_status = os.system(\"fpm run 2>/dev/null\")"
   ]
  }
 ],
 "metadata": {
  "kernelspec": {
   "display_name": "Python 3 (ipykernel)",
   "language": "python",
   "name": "python3"
  },
  "language_info": {
   "codemirror_mode": {
    "name": "ipython",
    "version": 3
   },
   "file_extension": ".py",
   "mimetype": "text/x-python",
   "name": "python",
   "nbconvert_exporter": "python",
   "pygments_lexer": "ipython3",
   "version": "3.9.15"
  },
  "vscode": {
   "interpreter": {
    "hash": "1c7edbfe09241e3ab70fdbaa9340a6c53382c0b8a91b6341e8f1e4440b6e3c70"
   }
  }
 },
 "nbformat": 4,
 "nbformat_minor": 5
}