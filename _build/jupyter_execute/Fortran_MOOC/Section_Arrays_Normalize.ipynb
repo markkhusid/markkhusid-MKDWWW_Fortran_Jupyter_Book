{
 "cells": [
  {
   "cell_type": "raw",
   "id": "c40b648f-a44a-4480-bbee-93e7a780f45b",
   "metadata": {},
   "source": [
    "---\n",
    "jupytext:\n",
    "  formats: md:myst\n",
    "  text_representation:\n",
    "    extension: .md\n",
    "    format_name: myst\n",
    "kernelspec:\n",
    "  display_name: Python 3\n",
    "  language: python\n",
    "  name: python3\n",
    "---"
   ]
  },
  {
   "cell_type": "markdown",
   "id": "fc63b62e-3ea6-4588-8b6e-f845bbc6d64c",
   "metadata": {
    "tags": []
   },
   "source": [
    "# Section Arrays: Normalize\n"
   ]
  },
  {
   "cell_type": "markdown",
   "id": "edfc7d7e-9803-4b96-82f1-bc0d47385f43",
   "metadata": {},
   "source": [
    "Adapted from: [https://github.com/gjbex/Fortran-MOOC/tree/master/source_code/arrays](https://github.com/gjbex/Fortran-MOOC/tree/master/source_code/arrays)"
   ]
  },
  {
   "cell_type": "markdown",
   "id": "59ec1bec-3fd7-4061-aa24-c7765d25786f",
   "metadata": {},
   "source": [
    "## This program normalizes a randomly generated matrix in Fortran."
   ]
  },
  {
   "cell_type": "markdown",
   "id": "c36821c7-3b26-404c-8a7c-2f978dfb65d4",
   "metadata": {},
   "source": [
    "```fortran\n",
    "program normalize\n",
    "  use, intrinsic :: iso_fortran_env, only : error_unit, DP => REAL64\n",
    "  implicit none\n",
    "  integer, parameter :: rows = 3, cols = 4\n",
    "  real(kind=DP), dimension(rows, cols) :: matrix, spread_norm\n",
    "  real(kind=DP), dimension(rows) :: norm\n",
    "\n",
    "  call random_number(matrix)\n",
    "  print '(A)', 'original:'\n",
    "  call print_matrix(matrix)\n",
    "\n",
    "  norm = sum(matrix, dim=2)\n",
    "  print '(A, *(F12.7))', 'norm:', norm\n",
    "\n",
    "  spread_norm = spread(norm, 2, size(matrix, 2))\n",
    "  call print_matrix(spread_norm)\n",
    "\n",
    "  matrix = matrix/spread_norm\n",
    "  print '(A)', 'row-normalized::'\n",
    "  call print_matrix(matrix)\n",
    "\n",
    "  norm = sum(matrix, dim=2)\n",
    "  print '(A, *(F12.7))', 'norm:', norm\n",
    "\n",
    "contains\n",
    "\n",
    "  subroutine print_matrix(matrix)\n",
    "      implicit none\n",
    "      real(kind=DP), dimension(:, :), intent(in) :: matrix\n",
    "      integer :: row\n",
    "\n",
    "      do row = 1, size(matrix, 1)\n",
    "          print '(*(F12.7))', matrix(row, :)\n",
    "      end do\n",
    "  end subroutine print_matrix\n",
    "\n",
    "end program normalize\n",
    "```"
   ]
  },
  {
   "cell_type": "markdown",
   "id": "4c6b9985-c0cb-4602-8309-4e3369dd3226",
   "metadata": {},
   "source": [
    "The above program is compiled and run using Fortran Package Manager (fpm):"
   ]
  },
  {
   "cell_type": "markdown",
   "id": "c6f9ed20",
   "metadata": {},
   "source": [
    "## Build the Program using FPM (Fortran Package Manager)"
   ]
  },
  {
   "cell_type": "code",
   "execution_count": 1,
   "id": "e8ba1050-b7b1-4e9e-87bf-28791145e5e7",
   "metadata": {},
   "outputs": [],
   "source": [
    "import os\n",
    "root_dir = os.getcwd()"
   ]
  },
  {
   "cell_type": "code",
   "execution_count": 2,
   "id": "bdaf795d-554a-46e6-b4da-faeb331e1b13",
   "metadata": {},
   "outputs": [],
   "source": [
    "code_dir = root_dir + \"/\" + \"Fortran_Code/Section_Arrays_Normalize\""
   ]
  },
  {
   "cell_type": "code",
   "execution_count": 3,
   "id": "a7d9f1b1-ba0d-4db1-84ef-7a358f0453a6",
   "metadata": {},
   "outputs": [],
   "source": [
    "os.chdir(code_dir)"
   ]
  },
  {
   "cell_type": "code",
   "execution_count": 4,
   "id": "0fbd7621-e800-4235-ab30-80560cc3e1a8",
   "metadata": {},
   "outputs": [
    {
     "name": "stdout",
     "output_type": "stream",
     "text": [
      "[  0%]  libSection_Arrays_Normalize.a\n",
      "[ 33%]  libSection_Arrays_Normalize.a  done.\n",
      "[ 33%]   section_arrays_normalize.f90\n",
      "[ 66%]   section_arrays_normalize.f90  done.\n",
      "[ 66%]       Section_Arrays_Normalize\n",
      "[100%]       Section_Arrays_Normalize  done.\n",
      "[100%] Project compiled successfully.\n"
     ]
    }
   ],
   "source": [
    "build_status = os.system(\"fpm build 2>/dev/null\")"
   ]
  },
  {
   "cell_type": "markdown",
   "id": "58b5102f",
   "metadata": {},
   "source": [
    "## Run the Program using FPM (Fortran Package Manager)"
   ]
  },
  {
   "cell_type": "code",
   "execution_count": 5,
   "id": "0483d40b-e849-4574-bcbe-003c81a96dd5",
   "metadata": {},
   "outputs": [
    {
     "name": "stdout",
     "output_type": "stream",
     "text": [
      "original:\n",
      "   0.2536397   0.8198217   0.7364528   0.5203637\n",
      "   0.3387981   0.0025567   0.8586085   0.4309156\n",
      "   0.6882431   0.1006906   0.8076488   0.7759556\n",
      "norm:   2.3302779   1.6308789   2.3725381\n",
      "   2.3302779   2.3302779   2.3302779   2.3302779\n",
      "   1.6308789   1.6308789   1.6308789   1.6308789\n",
      "   2.3725381   2.3725381   2.3725381   2.3725381\n",
      "row-normalized::\n",
      "   0.1088453   0.3518128   0.3160365   0.2233054\n",
      "   0.2077396   0.0015677   0.5264698   0.2642229\n",
      "   0.2900873   0.0424400   0.3404155   0.3270571\n",
      "norm:   1.0000000   1.0000000   1.0000000\n"
     ]
    }
   ],
   "source": [
    "exec_status = os.system(\"fpm run 2>/dev/null\")"
   ]
  },
  {
   "cell_type": "code",
   "execution_count": 6,
   "id": "6fd88fa7",
   "metadata": {},
   "outputs": [
    {
     "name": "stdout",
     "output_type": "stream",
     "text": [
      "original:\n",
      "   0.1727873   0.1115047   0.5990667   0.7414672\n",
      "   0.7256073   0.2742975   0.8957321   0.8823952\n",
      "   0.3386251   0.7122332   0.2812473   0.9609102\n",
      "norm:   1.6248259   2.7780321   2.2930158\n",
      "   1.6248259   1.6248259   1.6248259   1.6248259\n",
      "   2.7780321   2.7780321   2.7780321   2.7780321\n",
      "   2.2930158   2.2930158   2.2930158   2.2930158\n",
      "row-normalized::\n",
      "   0.1063421   0.0686256   0.3686959   0.4563364\n",
      "   0.2611947   0.0987381   0.3224340   0.3176332\n",
      "   0.1476767   0.3106098   0.1226539   0.4190596\n",
      "norm:   1.0000000   1.0000000   1.0000000\n"
     ]
    }
   ],
   "source": [
    "exec_status = os.system(\"fpm run 2>/dev/null\")"
   ]
  },
  {
   "cell_type": "code",
   "execution_count": 7,
   "id": "dbb1bec0",
   "metadata": {},
   "outputs": [
    {
     "name": "stdout",
     "output_type": "stream",
     "text": [
      "original:\n",
      "   0.3760261   0.8740406   0.2532821   0.6564410\n",
      "   0.5658171   0.4380095   0.3233891   0.2617259\n",
      "   0.7901664   0.3365058   0.8442626   0.5218137\n",
      "norm:   2.1597899   1.5889416   2.4927485\n",
      "   2.1597899   2.1597899   2.1597899   2.1597899\n",
      "   1.5889416   1.5889416   1.5889416   1.5889416\n",
      "   2.4927485   2.4927485   2.4927485   2.4927485\n",
      "row-normalized::\n",
      "   0.1741031   0.4046878   0.1172717   0.3039374\n",
      "   0.3560968   0.2756612   0.2035249   0.1647171\n",
      "   0.3169860   0.1349939   0.3386874   0.2093327\n",
      "norm:   1.0000000   1.0000000   1.0000000\n"
     ]
    }
   ],
   "source": [
    "exec_status = os.system(\"fpm run 2>/dev/null\")"
   ]
  }
 ],
 "metadata": {
  "kernelspec": {
   "display_name": "Python 3 (ipykernel)",
   "language": "python",
   "name": "python3"
  },
  "language_info": {
   "codemirror_mode": {
    "name": "ipython",
    "version": 3
   },
   "file_extension": ".py",
   "mimetype": "text/x-python",
   "name": "python",
   "nbconvert_exporter": "python",
   "pygments_lexer": "ipython3",
   "version": "3.10.13"
  },
  "vscode": {
   "interpreter": {
    "hash": "1c7edbfe09241e3ab70fdbaa9340a6c53382c0b8a91b6341e8f1e4440b6e3c70"
   }
  }
 },
 "nbformat": 4,
 "nbformat_minor": 5
}