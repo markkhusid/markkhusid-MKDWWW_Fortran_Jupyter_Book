{
 "cells": [
  {
   "cell_type": "raw",
   "id": "c40b648f-a44a-4480-bbee-93e7a780f45b",
   "metadata": {},
   "source": [
    "---\n",
    "jupytext:\n",
    "  formats: md:myst\n",
    "  text_representation:\n",
    "    extension: .md\n",
    "    format_name: myst\n",
    "kernelspec:\n",
    "  display_name: Python 3\n",
    "  language: python\n",
    "  name: python3\n",
    "---"
   ]
  },
  {
   "cell_type": "markdown",
   "id": "fc63b62e-3ea6-4588-8b6e-f845bbc6d64c",
   "metadata": {
    "tags": []
   },
   "source": [
    "# Section Arrays: Normalize\n"
   ]
  },
  {
   "cell_type": "markdown",
   "id": "edfc7d7e-9803-4b96-82f1-bc0d47385f43",
   "metadata": {},
   "source": [
    "Adapted from: [https://github.com/gjbex/Fortran-MOOC/tree/master/source_code/arrays](https://github.com/gjbex/Fortran-MOOC/tree/master/source_code/arrays)"
   ]
  },
  {
   "cell_type": "markdown",
   "id": "59ec1bec-3fd7-4061-aa24-c7765d25786f",
   "metadata": {},
   "source": [
    "## This program normalizes a randomly generated matrix in Fortran."
   ]
  },
  {
   "cell_type": "markdown",
   "id": "c36821c7-3b26-404c-8a7c-2f978dfb65d4",
   "metadata": {},
   "source": [
    "```fortran\n",
    "program normalize\n",
    "  use, intrinsic :: iso_fortran_env, only : error_unit, DP => REAL64\n",
    "  implicit none\n",
    "  integer, parameter :: rows = 3, cols = 4\n",
    "  real(kind=DP), dimension(rows, cols) :: matrix, spread_norm\n",
    "  real(kind=DP), dimension(rows) :: norm\n",
    "\n",
    "  call random_number(matrix)\n",
    "  print '(A)', 'original:'\n",
    "  call print_matrix(matrix)\n",
    "\n",
    "  norm = sum(matrix, dim=2)\n",
    "  print '(A, *(F12.7))', 'norm:', norm\n",
    "\n",
    "  spread_norm = spread(norm, 2, size(matrix, 2))\n",
    "  call print_matrix(spread_norm)\n",
    "\n",
    "  matrix = matrix/spread_norm\n",
    "  print '(A)', 'row-normalized::'\n",
    "  call print_matrix(matrix)\n",
    "\n",
    "  norm = sum(matrix, dim=2)\n",
    "  print '(A, *(F12.7))', 'norm:', norm\n",
    "\n",
    "contains\n",
    "\n",
    "  subroutine print_matrix(matrix)\n",
    "      implicit none\n",
    "      real(kind=DP), dimension(:, :), intent(in) :: matrix\n",
    "      integer :: row\n",
    "\n",
    "      do row = 1, size(matrix, 1)\n",
    "          print '(*(F12.7))', matrix(row, :)\n",
    "      end do\n",
    "  end subroutine print_matrix\n",
    "\n",
    "end program normalize\n",
    "```"
   ]
  },
  {
   "cell_type": "markdown",
   "id": "4c6b9985-c0cb-4602-8309-4e3369dd3226",
   "metadata": {},
   "source": [
    "The above program is compiled and run using Fortran Package Manager (fpm):"
   ]
  },
  {
   "cell_type": "markdown",
   "id": "c6f9ed20",
   "metadata": {},
   "source": [
    "## Build the Program using FPM (Fortran Package Manager)"
   ]
  },
  {
   "cell_type": "code",
   "execution_count": 1,
   "id": "e8ba1050-b7b1-4e9e-87bf-28791145e5e7",
   "metadata": {},
   "outputs": [],
   "source": [
    "import os\n",
    "root_dir = os.getcwd()"
   ]
  },
  {
   "cell_type": "code",
   "execution_count": 2,
   "id": "bdaf795d-554a-46e6-b4da-faeb331e1b13",
   "metadata": {},
   "outputs": [],
   "source": [
    "code_dir = root_dir + \"/\" + \"Fortran_Code/Section_Arrays_Normalize\""
   ]
  },
  {
   "cell_type": "code",
   "execution_count": 3,
   "id": "a7d9f1b1-ba0d-4db1-84ef-7a358f0453a6",
   "metadata": {},
   "outputs": [],
   "source": [
    "os.chdir(code_dir)"
   ]
  },
  {
   "cell_type": "code",
   "execution_count": 4,
   "id": "0fbd7621-e800-4235-ab30-80560cc3e1a8",
   "metadata": {},
   "outputs": [],
   "source": [
    "build_status = os.system(\"fpm build 2>/dev/null\")"
   ]
  },
  {
   "cell_type": "markdown",
   "id": "58b5102f",
   "metadata": {},
   "source": [
    "## Run the Program using FPM (Fortran Package Manager)"
   ]
  },
  {
   "cell_type": "code",
   "execution_count": 5,
   "id": "0483d40b-e849-4574-bcbe-003c81a96dd5",
   "metadata": {},
   "outputs": [
    {
     "name": "stdout",
     "output_type": "stream",
     "text": [
      "original:\n",
      "   0.8668645   0.2471073   0.3619750   0.9437882\n",
      "   0.1488206   0.9257797   0.4830807   0.1654424\n",
      "   0.8133826   0.3493362   0.3280994   0.8711719\n",
      "norm:   2.4197350   1.7231234   2.3619902\n",
      "   2.4197350   2.4197350   2.4197350   2.4197350\n",
      "   1.7231234   1.7231234   1.7231234   1.7231234\n",
      "   2.3619902   2.3619902   2.3619902   2.3619902\n",
      "row-normalized::\n",
      "   0.3582477   0.1021216   0.1495928   0.3900378\n",
      "   0.0863668   0.5372684   0.2803518   0.0960131\n",
      "   0.3443633   0.1478991   0.1389080   0.3688296\n",
      "norm:   1.0000000   1.0000000   1.0000000\n"
     ]
    }
   ],
   "source": [
    "exec_status = os.system(\"fpm run 2>/dev/null\")"
   ]
  },
  {
   "cell_type": "code",
   "execution_count": 6,
   "id": "6fd88fa7",
   "metadata": {},
   "outputs": [
    {
     "name": "stdout",
     "output_type": "stream",
     "text": [
      "original:\n",
      "   0.8496485   0.9592949   0.1763494   0.6029891\n",
      "   0.0455125   0.4487843   0.8632473   0.1457986\n",
      "   0.3445359   0.6887643   0.9017805   0.5518010\n",
      "norm:   2.5882819   1.5033427   2.4868817\n",
      "   2.5882819   2.5882819   2.5882819   2.5882819\n",
      "   1.5033427   1.5033427   1.5033427   1.5033427\n",
      "   2.4868817   2.4868817   2.4868817   2.4868817\n",
      "row-normalized::\n",
      "   0.3282674   0.3706300   0.0681338   0.2329688\n",
      "   0.0302742   0.2985243   0.5742186   0.0969830\n",
      "   0.1385413   0.2769590   0.3626149   0.2218847\n",
      "norm:   1.0000000   1.0000000   1.0000000\n"
     ]
    }
   ],
   "source": [
    "exec_status = os.system(\"fpm run 2>/dev/null\")"
   ]
  },
  {
   "cell_type": "code",
   "execution_count": 7,
   "id": "dbb1bec0",
   "metadata": {},
   "outputs": [
    {
     "name": "stdout",
     "output_type": "stream",
     "text": [
      "original:\n",
      "   0.4987975   0.9523870   0.4357527   0.4111892\n",
      "   0.4140137   0.3184107   0.3625679   0.5987274\n",
      "   0.2359681   0.6338439   0.5382156   0.3696621\n",
      "norm:   2.2981264   1.6937197   1.7776896\n",
      "   2.2981264   2.2981264   2.2981264   2.2981264\n",
      "   1.6937197   1.6937197   1.6937197   1.6937197\n",
      "   1.7776896   1.7776896   1.7776896   1.7776896\n",
      "row-normalized::\n",
      "   0.2170453   0.4144189   0.1896122   0.1789237\n",
      "   0.2444405   0.1879949   0.2140661   0.3534985\n",
      "   0.1327387   0.3565549   0.3027613   0.2079452\n",
      "norm:   1.0000000   1.0000000   1.0000000\n"
     ]
    }
   ],
   "source": [
    "exec_status = os.system(\"fpm run 2>/dev/null\")"
   ]
  }
 ],
 "metadata": {
  "kernelspec": {
   "display_name": "Python 3 (ipykernel)",
   "language": "python",
   "name": "python3"
  },
  "language_info": {
   "codemirror_mode": {
    "name": "ipython",
    "version": 3
   },
   "file_extension": ".py",
   "mimetype": "text/x-python",
   "name": "python",
   "nbconvert_exporter": "python",
   "pygments_lexer": "ipython3",
   "version": "3.10.14"
  },
  "vscode": {
   "interpreter": {
    "hash": "1c7edbfe09241e3ab70fdbaa9340a6c53382c0b8a91b6341e8f1e4440b6e3c70"
   }
  }
 },
 "nbformat": 4,
 "nbformat_minor": 5
}