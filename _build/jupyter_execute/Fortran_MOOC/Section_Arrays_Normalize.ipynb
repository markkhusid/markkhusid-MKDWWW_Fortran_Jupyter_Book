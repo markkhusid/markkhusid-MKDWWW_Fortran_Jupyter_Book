{
 "cells": [
  {
   "cell_type": "raw",
   "id": "c40b648f-a44a-4480-bbee-93e7a780f45b",
   "metadata": {},
   "source": [
    "---\n",
    "jupytext:\n",
    "  formats: md:myst\n",
    "  text_representation:\n",
    "    extension: .md\n",
    "    format_name: myst\n",
    "kernelspec:\n",
    "  display_name: Python 3\n",
    "  language: python\n",
    "  name: python3\n",
    "---"
   ]
  },
  {
   "cell_type": "markdown",
   "id": "fc63b62e-3ea6-4588-8b6e-f845bbc6d64c",
   "metadata": {
    "tags": []
   },
   "source": [
    "# Section Arrays: Normalize\n"
   ]
  },
  {
   "cell_type": "markdown",
   "id": "edfc7d7e-9803-4b96-82f1-bc0d47385f43",
   "metadata": {},
   "source": [
    "Adapted from: [https://github.com/gjbex/Fortran-MOOC/tree/master/source_code/arrays](https://github.com/gjbex/Fortran-MOOC/tree/master/source_code/arrays)"
   ]
  },
  {
   "cell_type": "markdown",
   "id": "59ec1bec-3fd7-4061-aa24-c7765d25786f",
   "metadata": {},
   "source": [
    "## This program normalizes a randomly generated matrix in Fortran."
   ]
  },
  {
   "cell_type": "markdown",
   "id": "c36821c7-3b26-404c-8a7c-2f978dfb65d4",
   "metadata": {},
   "source": [
    "```fortran\n",
    "program normalize\n",
    "  use, intrinsic :: iso_fortran_env, only : error_unit, DP => REAL64\n",
    "  implicit none\n",
    "  integer, parameter :: rows = 3, cols = 4\n",
    "  real(kind=DP), dimension(rows, cols) :: matrix, spread_norm\n",
    "  real(kind=DP), dimension(rows) :: norm\n",
    "\n",
    "  call random_number(matrix)\n",
    "  print '(A)', 'original:'\n",
    "  call print_matrix(matrix)\n",
    "\n",
    "  norm = sum(matrix, dim=2)\n",
    "  print '(A, *(F12.7))', 'norm:', norm\n",
    "\n",
    "  spread_norm = spread(norm, 2, size(matrix, 2))\n",
    "  call print_matrix(spread_norm)\n",
    "\n",
    "  matrix = matrix/spread_norm\n",
    "  print '(A)', 'row-normalized::'\n",
    "  call print_matrix(matrix)\n",
    "\n",
    "  norm = sum(matrix, dim=2)\n",
    "  print '(A, *(F12.7))', 'norm:', norm\n",
    "\n",
    "contains\n",
    "\n",
    "  subroutine print_matrix(matrix)\n",
    "      implicit none\n",
    "      real(kind=DP), dimension(:, :), intent(in) :: matrix\n",
    "      integer :: row\n",
    "\n",
    "      do row = 1, size(matrix, 1)\n",
    "          print '(*(F12.7))', matrix(row, :)\n",
    "      end do\n",
    "  end subroutine print_matrix\n",
    "\n",
    "end program normalize\n",
    "```"
   ]
  },
  {
   "cell_type": "markdown",
   "id": "4c6b9985-c0cb-4602-8309-4e3369dd3226",
   "metadata": {},
   "source": [
    "The above program is compiled and run using Fortran Package Manager (fpm):"
   ]
  },
  {
   "cell_type": "markdown",
   "id": "c6f9ed20",
   "metadata": {},
   "source": [
    "## Build the Program using FPM (Fortran Package Manager)"
   ]
  },
  {
   "cell_type": "code",
   "execution_count": 1,
   "id": "e8ba1050-b7b1-4e9e-87bf-28791145e5e7",
   "metadata": {},
   "outputs": [],
   "source": [
    "import os\n",
    "root_dir = os.getcwd()"
   ]
  },
  {
   "cell_type": "code",
   "execution_count": 2,
   "id": "bdaf795d-554a-46e6-b4da-faeb331e1b13",
   "metadata": {},
   "outputs": [],
   "source": [
    "code_dir = root_dir + \"/\" + \"Fortran_Code/Section_Arrays_Normalize\""
   ]
  },
  {
   "cell_type": "code",
   "execution_count": 3,
   "id": "a7d9f1b1-ba0d-4db1-84ef-7a358f0453a6",
   "metadata": {},
   "outputs": [],
   "source": [
    "os.chdir(code_dir)"
   ]
  },
  {
   "cell_type": "code",
   "execution_count": 4,
   "id": "0fbd7621-e800-4235-ab30-80560cc3e1a8",
   "metadata": {},
   "outputs": [
    {
     "name": "stdout",
     "output_type": "stream",
     "text": [
      " + mkdir -p build/dependencies\n",
      "[  0%]  libSection_Arrays_Normalize.a\n",
      "[ 33%]  libSection_Arrays_Normalize.a  done.\n",
      "[ 33%]   section_arrays_normalize.f90\n",
      "[ 66%]   section_arrays_normalize.f90  done.\n",
      "[ 66%]       Section_Arrays_Normalize\n",
      "[100%]       Section_Arrays_Normalize  done.\n",
      "[100%] Project compiled successfully.\n"
     ]
    }
   ],
   "source": [
    "build_status = os.system(\"fpm build 2>/dev/null\")"
   ]
  },
  {
   "cell_type": "markdown",
   "id": "58b5102f",
   "metadata": {},
   "source": [
    "## Run the Program using FPM (Fortran Package Manager)"
   ]
  },
  {
   "cell_type": "code",
   "execution_count": 5,
   "id": "0483d40b-e849-4574-bcbe-003c81a96dd5",
   "metadata": {},
   "outputs": [
    {
     "name": "stdout",
     "output_type": "stream",
     "text": [
      "original:\n",
      "   0.4668734   0.3475093   0.2324552   0.3526990\n",
      "   0.8726176   0.2535019   0.4949175   0.7896945\n",
      "   0.8646361   0.3755604   0.5958886   0.1221671\n",
      "norm:   1.3995369   2.4107314   1.9582522\n",
      "   1.3995369   1.3995369   1.3995369   1.3995369\n",
      "   2.4107314   2.4107314   2.4107314   2.4107314\n",
      "   1.9582522   1.9582522   1.9582522   1.9582522\n",
      "row-normalized::\n",
      "   0.3335914   0.2483030   0.1660944   0.2520112\n",
      "   0.3619721   0.1051556   0.2052976   0.3275746\n",
      "   0.4415346   0.1917835   0.3042961   0.0623858\n",
      "norm:   1.0000000   1.0000000   1.0000000\n"
     ]
    }
   ],
   "source": [
    "exec_status = os.system(\"fpm run 2>/dev/null\")"
   ]
  },
  {
   "cell_type": "code",
   "execution_count": 6,
   "id": "6fd88fa7",
   "metadata": {},
   "outputs": [
    {
     "name": "stdout",
     "output_type": "stream",
     "text": [
      "original:\n",
      "   0.4029546   0.2222522   0.5020449   0.7327881\n",
      "   0.0089204   0.0192753   0.0898917   0.6945294\n",
      "   0.6398553   0.0766965   0.9690323   0.3008596\n",
      "norm:   1.8600399   0.8126168   1.9864436\n",
      "   1.8600399   1.8600399   1.8600399   1.8600399\n",
      "   0.8126168   0.8126168   0.8126168   0.8126168\n",
      "   1.9864436   1.9864436   1.9864436   1.9864436\n",
      "row-normalized::\n",
      "   0.2166376   0.1194879   0.2699109   0.3939636\n",
      "   0.0109774   0.0237200   0.1106200   0.8546826\n",
      "   0.3221110   0.0386099   0.4878227   0.1514564\n",
      "norm:   1.0000000   1.0000000   1.0000000\n"
     ]
    }
   ],
   "source": [
    "exec_status = os.system(\"fpm run 2>/dev/null\")"
   ]
  },
  {
   "cell_type": "code",
   "execution_count": 7,
   "id": "dbb1bec0",
   "metadata": {},
   "outputs": [
    {
     "name": "stdout",
     "output_type": "stream",
     "text": [
      "original:\n",
      "   0.3432582   0.9834018   0.7073217   0.9995911\n",
      "   0.0750912   0.0922545   0.6603940   0.1747160\n",
      "   0.9225899   0.6918959   0.5334448   0.8871386\n",
      "norm:   3.0335728   1.0024557   3.0350693\n",
      "   3.0335728   3.0335728   3.0335728   3.0335728\n",
      "   1.0024557   1.0024557   1.0024557   1.0024557\n",
      "   3.0350693   3.0350693   3.0350693   3.0350693\n",
      "row-normalized::\n",
      "   0.1131531   0.3241728   0.2331646   0.3295095\n",
      "   0.0749073   0.0920285   0.6587762   0.1742880\n",
      "   0.3039766   0.2279671   0.1757603   0.2922960\n",
      "norm:   1.0000000   1.0000000   1.0000000\n"
     ]
    }
   ],
   "source": [
    "exec_status = os.system(\"fpm run 2>/dev/null\")"
   ]
  }
 ],
 "metadata": {
  "kernelspec": {
   "display_name": "Python 3 (ipykernel)",
   "language": "python",
   "name": "python3"
  },
  "language_info": {
   "codemirror_mode": {
    "name": "ipython",
    "version": 3
   },
   "file_extension": ".py",
   "mimetype": "text/x-python",
   "name": "python",
   "nbconvert_exporter": "python",
   "pygments_lexer": "ipython3",
   "version": "3.10.6"
  },
  "vscode": {
   "interpreter": {
    "hash": "1c7edbfe09241e3ab70fdbaa9340a6c53382c0b8a91b6341e8f1e4440b6e3c70"
   }
  }
 },
 "nbformat": 4,
 "nbformat_minor": 5
}