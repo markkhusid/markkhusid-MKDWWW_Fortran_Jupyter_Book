{
 "cells": [
  {
   "cell_type": "raw",
   "id": "c40b648f-a44a-4480-bbee-93e7a780f45b",
   "metadata": {},
   "source": [
    "---\n",
    "jupytext:\n",
    "  formats: md:myst\n",
    "  text_representation:\n",
    "    extension: .md\n",
    "    format_name: myst\n",
    "kernelspec:\n",
    "  display_name: Python 3\n",
    "  language: python\n",
    "  name: python3\n",
    "---"
   ]
  },
  {
   "cell_type": "markdown",
   "id": "fc63b62e-3ea6-4588-8b6e-f845bbc6d64c",
   "metadata": {
    "tags": []
   },
   "source": [
    "# Section Arrays: Trace\n"
   ]
  },
  {
   "cell_type": "markdown",
   "id": "edfc7d7e-9803-4b96-82f1-bc0d47385f43",
   "metadata": {},
   "source": [
    "Adapted from: [https://github.com/gjbex/Fortran-MOOC/tree/master/source_code/arrays](https://github.com/gjbex/Fortran-MOOC/tree/master/source_code/arrays)"
   ]
  },
  {
   "cell_type": "code",
   "execution_count": 1,
   "id": "f16472aa-c965-4bad-a218-fee33f7b456a",
   "metadata": {},
   "outputs": [],
   "source": [
    "import os\n",
    "root_dir = os.getcwd()"
   ]
  },
  {
   "cell_type": "code",
   "execution_count": 2,
   "id": "f77f9126-86cc-4a1b-89b9-5ad5f61cf72c",
   "metadata": {},
   "outputs": [],
   "source": [
    "code_dir = root_dir + \"/\" + \"Fortran_Code/Section_Arrays_Trace\"\n",
    "code_app_dir = code_dir + \"/\" + \"app\""
   ]
  },
  {
   "cell_type": "code",
   "execution_count": 3,
   "id": "0c1bfdce-7589-4f56-be03-b2be392d952f",
   "metadata": {},
   "outputs": [],
   "source": [
    "os.chdir(code_app_dir)"
   ]
  },
  {
   "cell_type": "markdown",
   "id": "59ec1bec-3fd7-4061-aa24-c7765d25786f",
   "metadata": {},
   "source": [
    "## This program demonstrates computing the trace of a matrix  in Fortran."
   ]
  },
  {
   "cell_type": "code",
   "execution_count": 4,
   "id": "acf272e3-a204-4981-9008-359bb189b9bb",
   "metadata": {},
   "outputs": [],
   "source": [
    "%%capture\n",
    "%%writefile section_arrays_trace.f90\n",
    "program compute_trace\n",
    "    implicit none\n",
    "    integer :: i\n",
    "    real, dimension(5, 5) :: A\n",
    "\n",
    "    call random_number(A)\n",
    "    do i = 1, size(A, 1)\n",
    "        print '(5F7.4)', A(i, :)\n",
    "    end do\n",
    "    print '(/, A, F7.4)', 'trace = ', trace(A)\n",
    "\n",
    "contains\n",
    "\n",
    "    real function trace(matrix)\n",
    "        use, intrinsic :: iso_fortran_env, only : error_unit\n",
    "        implicit none\n",
    "        real, dimension(:, :), intent(in) :: matrix\n",
    "        integer :: i\n",
    "\n",
    "        if (size(matrix, 1) /= size(matrix, 2)) then\n",
    "            write (unit=error_unit, fmt='(A)') &\n",
    "                'error: can not compute trace of a non-square matrix'\n",
    "            stop 1\n",
    "        end if\n",
    "        trace = 0.0\n",
    "        do i = 1, size(matrix, 1)\n",
    "            trace = trace + matrix(i, i)\n",
    "        end do\n",
    "    end function trace\n",
    "\n",
    "end program compute_trace"
   ]
  },
  {
   "cell_type": "code",
   "execution_count": 5,
   "id": "39618ec1-819f-40e4-9e24-94c2199fb644",
   "metadata": {},
   "outputs": [
    {
     "name": "stdout",
     "output_type": "stream",
     "text": [
      "\u001b[38;5;238m───────┬────────────────────────────────────────────────────────────────────────\u001b[0m\r\n",
      "       \u001b[38;5;238m│ \u001b[0mFile: \u001b[1msection_arrays_trace.f90\u001b[0m\r\n",
      "\u001b[38;5;238m───────┼────────────────────────────────────────────────────────────────────────\u001b[0m\r\n",
      "\u001b[38;5;238m   1\u001b[0m   \u001b[38;5;238m│\u001b[0m \u001b[38;2;249;38;114mprogram\u001b[0m\u001b[38;2;248;248;242m \u001b[0m\u001b[38;2;166;226;46mcompute_trace\u001b[0m\r\n",
      "\u001b[38;5;238m   2\u001b[0m   \u001b[38;5;238m│\u001b[0m \u001b[38;2;248;248;242m    \u001b[0m\u001b[38;2;249;38;114mimplicit\u001b[0m\u001b[38;2;248;248;242m \u001b[0m\u001b[38;2;249;38;114mnone\u001b[0m\r\n",
      "\u001b[38;5;238m   3\u001b[0m   \u001b[38;5;238m│\u001b[0m \u001b[38;2;248;248;242m    integer \u001b[0m\u001b[38;2;249;38;114m::\u001b[0m\u001b[38;2;248;248;242m i\u001b[0m\r\n",
      "\u001b[38;5;238m   4\u001b[0m   \u001b[38;5;238m│\u001b[0m \u001b[38;2;248;248;242m    real, \u001b[0m\u001b[38;2;248;248;242mdimension\u001b[0m\u001b[38;2;248;248;242m(\u001b[0m\u001b[38;2;190;132;255m5\u001b[0m\u001b[38;2;248;248;242m,\u001b[0m\u001b[38;2;248;248;242m \u001b[0m\u001b[38;2;190;132;255m5\u001b[0m\u001b[38;2;248;248;242m)\u001b[0m\u001b[38;2;248;248;242m \u001b[0m\u001b[38;2;249;38;114m::\u001b[0m\u001b[38;2;248;248;242m A\u001b[0m\r\n",
      "\u001b[38;5;238m   5\u001b[0m   \u001b[38;5;238m│\u001b[0m \r\n",
      "\u001b[38;5;238m   6\u001b[0m   \u001b[38;5;238m│\u001b[0m \u001b[38;2;248;248;242m    \u001b[0m\u001b[38;2;249;38;114mcall\u001b[0m\u001b[38;2;248;248;242m \u001b[0m\u001b[38;2;102;217;239mrandom_number\u001b[0m\u001b[38;2;248;248;242m(\u001b[0m\u001b[38;2;248;248;242mA\u001b[0m\u001b[38;2;248;248;242m)\u001b[0m\r\n",
      "\u001b[38;5;238m   7\u001b[0m   \u001b[38;5;238m│\u001b[0m \u001b[38;2;248;248;242m    \u001b[0m\u001b[38;2;249;38;114mdo\u001b[0m\u001b[38;2;248;248;242m \u001b[0m\u001b[38;2;248;248;242mi\u001b[0m\u001b[38;2;248;248;242m \u001b[0m\u001b[38;2;249;38;114m=\u001b[0m\u001b[38;2;248;248;242m \u001b[0m\u001b[38;2;190;132;255m1\u001b[0m\u001b[38;2;248;248;242m, \u001b[0m\u001b[38;2;102;217;239msize\u001b[0m\u001b[38;2;248;248;242m(\u001b[0m\u001b[38;2;248;248;242mA, \u001b[0m\u001b[38;2;190;132;255m1\u001b[0m\u001b[38;2;248;248;242m)\u001b[0m\r\n",
      "\u001b[38;5;238m   8\u001b[0m   \u001b[38;5;238m│\u001b[0m \u001b[38;2;248;248;242m        \u001b[0m\u001b[38;2;102;217;239mprint\u001b[0m\u001b[38;2;248;248;242m \u001b[0m\u001b[38;2;230;219;116m'\u001b[0m\u001b[38;2;248;248;242m(\u001b[0m\u001b[38;2;190;132;255m5F7.4\u001b[0m\u001b[38;2;248;248;242m)\u001b[0m\u001b[38;2;230;219;116m'\u001b[0m\u001b[38;2;248;248;242m, \u001b[0m\u001b[38;2;248;248;242mA\u001b[0m\u001b[38;2;248;248;242m(\u001b[0m\u001b[38;2;248;248;242mi\u001b[0m\u001b[38;2;248;248;242m,\u001b[0m\u001b[38;2;248;248;242m :\u001b[0m\u001b[38;2;248;248;242m)\u001b[0m\r\n",
      "\u001b[38;5;238m   9\u001b[0m   \u001b[38;5;238m│\u001b[0m \u001b[38;2;248;248;242m    \u001b[0m\u001b[38;2;249;38;114mend\u001b[0m\u001b[38;2;248;248;242m \u001b[0m\u001b[38;2;249;38;114mdo\u001b[0m\r\n",
      "\u001b[38;5;238m  10\u001b[0m   \u001b[38;5;238m│\u001b[0m \u001b[38;2;248;248;242m    \u001b[0m\u001b[38;2;102;217;239mprint\u001b[0m\u001b[38;2;248;248;242m \u001b[0m\u001b[38;2;230;219;116m'\u001b[0m\u001b[38;2;248;248;242m(\u001b[0m\u001b[38;2;190;132;255m/\u001b[0m\u001b[38;2;248;248;242m, \u001b[0m\u001b[38;2;190;132;255mA\u001b[0m\u001b[38;2;248;248;242m, \u001b[0m\u001b[38;2;190;132;255mF7.4\u001b[0m\u001b[38;2;248;248;242m)\u001b[0m\u001b[38;2;230;219;116m'\u001b[0m\u001b[38;2;248;248;242m, \u001b[0m\u001b[38;2;230;219;116m'trace = '\u001b[0m\u001b[38;2;248;248;242m, \u001b[0m\u001b[38;2;248;248;242mtrace\u001b[0m\u001b[38;2;248;248;242m(\u001b[0m\u001b[38;2;248;248;242mA\u001b[0m\u001b[38;2;248;248;242m)\u001b[0m\r\n",
      "\u001b[38;5;238m  11\u001b[0m   \u001b[38;5;238m│\u001b[0m \r\n",
      "\u001b[38;5;238m  12\u001b[0m   \u001b[38;5;238m│\u001b[0m \u001b[38;2;249;38;114mcontains\u001b[0m\r\n",
      "\u001b[38;5;238m  13\u001b[0m   \u001b[38;5;238m│\u001b[0m \r\n",
      "\u001b[38;5;238m  14\u001b[0m   \u001b[38;5;238m│\u001b[0m \u001b[38;2;248;248;242m    real function \u001b[0m\u001b[38;2;248;248;242mtrace\u001b[0m\u001b[38;2;248;248;242m(\u001b[0m\u001b[38;2;248;248;242mmatrix\u001b[0m\u001b[38;2;248;248;242m)\u001b[0m\r\n",
      "\u001b[38;5;238m  15\u001b[0m   \u001b[38;5;238m│\u001b[0m \u001b[38;2;248;248;242m        use, intrinsic \u001b[0m\u001b[38;2;249;38;114m::\u001b[0m\u001b[38;2;248;248;242m iso_fortran_env, only : error_unit\u001b[0m\r\n",
      "\u001b[38;5;238m  16\u001b[0m   \u001b[38;5;238m│\u001b[0m \u001b[38;2;248;248;242m        \u001b[0m\u001b[38;2;249;38;114mimplicit\u001b[0m\u001b[38;2;248;248;242m \u001b[0m\u001b[38;2;249;38;114mnone\u001b[0m\r\n",
      "\u001b[38;5;238m  17\u001b[0m   \u001b[38;5;238m│\u001b[0m \u001b[38;2;248;248;242m        real, \u001b[0m\u001b[38;2;248;248;242mdimension\u001b[0m\u001b[38;2;248;248;242m(\u001b[0m\u001b[38;2;248;248;242m:\u001b[0m\u001b[38;2;248;248;242m,\u001b[0m\u001b[38;2;248;248;242m :\u001b[0m\u001b[38;2;248;248;242m)\u001b[0m\u001b[38;2;248;248;242m, \u001b[0m\u001b[38;2;248;248;242mintent\u001b[0m\u001b[38;2;248;248;242m(\u001b[0m\u001b[38;2;248;248;242min\u001b[0m\u001b[38;2;248;248;242m)\u001b[0m\u001b[38;2;248;248;242m \u001b[0m\u001b[38;2;249;38;114m::\u001b[0m\u001b[38;2;248;248;242m matrix\u001b[0m\r\n",
      "\u001b[38;5;238m  18\u001b[0m   \u001b[38;5;238m│\u001b[0m \u001b[38;2;248;248;242m        integer \u001b[0m\u001b[38;2;249;38;114m::\u001b[0m\u001b[38;2;248;248;242m i\u001b[0m\r\n",
      "\u001b[38;5;238m  19\u001b[0m   \u001b[38;5;238m│\u001b[0m \r\n",
      "\u001b[38;5;238m  20\u001b[0m   \u001b[38;5;238m│\u001b[0m \u001b[38;2;248;248;242m        \u001b[0m\u001b[38;2;249;38;114mif\u001b[0m\u001b[38;2;248;248;242m \u001b[0m\u001b[38;2;248;248;242m(\u001b[0m\u001b[38;2;102;217;239msize\u001b[0m\u001b[38;2;248;248;242m(\u001b[0m\u001b[38;2;248;248;242mmatrix, \u001b[0m\u001b[38;2;190;132;255m1\u001b[0m\u001b[38;2;248;248;242m)\u001b[0m\u001b[38;2;248;248;242m \u001b[0m\u001b[38;2;249;38;114m/=\u001b[0m\u001b[38;2;248;248;242m \u001b[0m\u001b[38;2;102;217;239msize\u001b[0m\u001b[38;2;248;248;242m(\u001b[0m\u001b[38;2;248;248;242mmatrix, \u001b[0m\u001b[38;2;190;132;255m2\u001b[0m\u001b[38;2;248;248;242m)\u001b[0m\u001b[38;2;248;248;242m)\u001b[0m\u001b[38;2;248;248;242m \u001b[0m\u001b[38;2;249;38;114mthen\u001b[0m\r\n",
      "\u001b[38;5;238m  21\u001b[0m   \u001b[38;5;238m│\u001b[0m \u001b[38;2;248;248;242m            \u001b[0m\u001b[38;2;102;217;239mwrite\u001b[0m\u001b[38;2;248;248;242m \u001b[0m\u001b[38;2;248;248;242m(\u001b[0m\u001b[38;2;253;151;31munit\u001b[0m\u001b[38;2;249;38;114m=\u001b[0m\u001b[38;2;248;248;242merror_unit, \u001b[0m\u001b[38;2;253;151;31mfmt\u001b[0m\u001b[38;2;249;38;114m=\u001b[0m\u001b[38;2;230;219;116m'\u001b[0m\u001b[38;2;248;248;242m(\u001b[0m\u001b[38;2;190;132;255mA\u001b[0m\u001b[38;2;248;248;242m)\u001b[0m\u001b[38;2;230;219;116m'\u001b[0m\u001b[38;2;248;248;242m)\u001b[0m\u001b[38;2;248;248;242m \u001b[0m\u001b[38;2;102;217;239m&\u001b[0m\r\n",
      "\u001b[38;5;238m  22\u001b[0m   \u001b[38;5;238m│\u001b[0m \u001b[38;2;248;248;242m                \u001b[0m\u001b[38;2;230;219;116m'error: can not compute trace of a non-square matrix'\u001b[0m\r\n",
      "\u001b[38;5;238m  23\u001b[0m   \u001b[38;5;238m│\u001b[0m \u001b[38;2;248;248;242m            \u001b[0m\u001b[38;2;249;38;114mstop\u001b[0m\u001b[38;2;248;248;242m \u001b[0m\u001b[38;2;190;132;255m1\u001b[0m\r\n",
      "\u001b[38;5;238m  24\u001b[0m   \u001b[38;5;238m│\u001b[0m \u001b[38;2;248;248;242m        \u001b[0m\u001b[38;2;249;38;114mend\u001b[0m\u001b[38;2;248;248;242m \u001b[0m\u001b[38;2;249;38;114mif\u001b[0m\r\n",
      "\u001b[38;5;238m  25\u001b[0m   \u001b[38;5;238m│\u001b[0m \u001b[38;2;248;248;242m        trace \u001b[0m\u001b[38;2;249;38;114m=\u001b[0m\u001b[38;2;248;248;242m \u001b[0m\u001b[38;2;190;132;255m0.0\u001b[0m\r\n",
      "\u001b[38;5;238m  26\u001b[0m   \u001b[38;5;238m│\u001b[0m \u001b[38;2;248;248;242m        \u001b[0m\u001b[38;2;249;38;114mdo\u001b[0m\u001b[38;2;248;248;242m \u001b[0m\u001b[38;2;248;248;242mi\u001b[0m\u001b[38;2;248;248;242m \u001b[0m\u001b[38;2;249;38;114m=\u001b[0m\u001b[38;2;248;248;242m \u001b[0m\u001b[38;2;190;132;255m1\u001b[0m\u001b[38;2;248;248;242m, \u001b[0m\u001b[38;2;102;217;239msize\u001b[0m\u001b[38;2;248;248;242m(\u001b[0m\u001b[38;2;248;248;242mmatrix, \u001b[0m\u001b[38;2;190;132;255m1\u001b[0m\u001b[38;2;248;248;242m)\u001b[0m\r\n",
      "\u001b[38;5;238m  27\u001b[0m   \u001b[38;5;238m│\u001b[0m \u001b[38;2;248;248;242m            trace \u001b[0m\u001b[38;2;249;38;114m=\u001b[0m\u001b[38;2;248;248;242m trace \u001b[0m\u001b[38;2;249;38;114m+\u001b[0m\u001b[38;2;248;248;242m \u001b[0m\u001b[38;2;248;248;242mmatrix\u001b[0m\u001b[38;2;248;248;242m(\u001b[0m\u001b[38;2;248;248;242mi\u001b[0m\u001b[38;2;248;248;242m,\u001b[0m\u001b[38;2;248;248;242m i\u001b[0m\u001b[38;2;248;248;242m)\u001b[0m\r\n",
      "\u001b[38;5;238m  28\u001b[0m   \u001b[38;5;238m│\u001b[0m \u001b[38;2;248;248;242m        \u001b[0m\u001b[38;2;249;38;114mend\u001b[0m\u001b[38;2;248;248;242m \u001b[0m\u001b[38;2;249;38;114mdo\u001b[0m\r\n",
      "\u001b[38;5;238m  29\u001b[0m   \u001b[38;5;238m│\u001b[0m \u001b[38;2;248;248;242m    \u001b[0m\u001b[38;2;249;38;114mend\u001b[0m\u001b[38;2;248;248;242m \u001b[0m\u001b[38;2;249;38;114mfunction\u001b[0m\u001b[38;2;248;248;242m \u001b[0m\u001b[38;2;166;226;46mtrace\u001b[0m\r\n",
      "\u001b[38;5;238m  30\u001b[0m   \u001b[38;5;238m│\u001b[0m \r\n",
      "\u001b[38;5;238m  31\u001b[0m   \u001b[38;5;238m│\u001b[0m \u001b[38;2;249;38;114mend\u001b[0m\u001b[38;2;248;248;242m \u001b[0m\u001b[38;2;249;38;114mprogram\u001b[0m\u001b[38;2;248;248;242m \u001b[0m\u001b[38;2;166;226;46mcompute_trace\u001b[0m\r\n",
      "\u001b[38;5;238m───────┴────────────────────────────────────────────────────────────────────────\u001b[0m\r\n"
     ]
    }
   ],
   "source": [
    "!bat section_arrays_trace.f90"
   ]
  },
  {
   "cell_type": "markdown",
   "id": "4c6b9985-c0cb-4602-8309-4e3369dd3226",
   "metadata": {},
   "source": [
    "The above program is compiled and run using Fortran Package Manager (fpm):"
   ]
  },
  {
   "cell_type": "code",
   "execution_count": 6,
   "id": "c2eeda29-613f-48fd-904b-af9aef8813a2",
   "metadata": {},
   "outputs": [],
   "source": [
    "os.chdir(code_dir)"
   ]
  },
  {
   "cell_type": "markdown",
   "id": "c6f9ed20",
   "metadata": {
    "tags": []
   },
   "source": [
    "## Build the Program using FPM (Fortran Package Manager)"
   ]
  },
  {
   "cell_type": "code",
   "execution_count": 7,
   "id": "0fbd7621-e800-4235-ab30-80560cc3e1a8",
   "metadata": {},
   "outputs": [],
   "source": [
    "build_status = os.system(\"fpm build 2>/dev/null\")"
   ]
  },
  {
   "cell_type": "markdown",
   "id": "58b5102f",
   "metadata": {},
   "source": [
    "## Run the Program using FPM (Fortran Package Manager)"
   ]
  },
  {
   "cell_type": "code",
   "execution_count": 8,
   "id": "0483d40b-e849-4574-bcbe-003c81a96dd5",
   "metadata": {},
   "outputs": [
    {
     "name": "stdout",
     "output_type": "stream",
     "text": [
      " 0.3440 0.6346 0.6225 0.4196 0.2113\n",
      " 0.2423 0.6582 0.4643 0.3002 0.3229\n",
      " 0.7764 0.8436 0.9791 0.8518 0.6422\n",
      " 0.1868 0.5503 0.8908 0.0397 0.3177\n",
      " 0.4187 0.6438 0.5743 0.0291 0.4108\n",
      "\n",
      "trace =  2.4319\n"
     ]
    }
   ],
   "source": [
    "exec_status = os.system(\"fpm run 2>/dev/null\")"
   ]
  }
 ],
 "metadata": {
  "kernelspec": {
   "display_name": "Python 3 (ipykernel)",
   "language": "python",
   "name": "python3"
  },
  "language_info": {
   "codemirror_mode": {
    "name": "ipython",
    "version": 3
   },
   "file_extension": ".py",
   "mimetype": "text/x-python",
   "name": "python",
   "nbconvert_exporter": "python",
   "pygments_lexer": "ipython3",
   "version": "3.9.15"
  },
  "vscode": {
   "interpreter": {
    "hash": "1c7edbfe09241e3ab70fdbaa9340a6c53382c0b8a91b6341e8f1e4440b6e3c70"
   }
  }
 },
 "nbformat": 4,
 "nbformat_minor": 5
}