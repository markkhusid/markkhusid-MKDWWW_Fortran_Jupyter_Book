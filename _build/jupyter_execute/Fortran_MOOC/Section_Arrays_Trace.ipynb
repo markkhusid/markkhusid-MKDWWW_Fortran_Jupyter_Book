{
 "cells": [
  {
   "cell_type": "raw",
   "id": "c40b648f-a44a-4480-bbee-93e7a780f45b",
   "metadata": {},
   "source": [
    "---\n",
    "jupytext:\n",
    "  formats: md:myst\n",
    "  text_representation:\n",
    "    extension: .md\n",
    "    format_name: myst\n",
    "kernelspec:\n",
    "  display_name: Python 3\n",
    "  language: python\n",
    "  name: python3\n",
    "---"
   ]
  },
  {
   "cell_type": "markdown",
   "id": "fc63b62e-3ea6-4588-8b6e-f845bbc6d64c",
   "metadata": {
    "tags": []
   },
   "source": [
    "# Section Arrays: Trace\n"
   ]
  },
  {
   "cell_type": "markdown",
   "id": "edfc7d7e-9803-4b96-82f1-bc0d47385f43",
   "metadata": {},
   "source": [
    "Adapted from: [https://github.com/gjbex/Fortran-MOOC/tree/master/source_code/arrays](https://github.com/gjbex/Fortran-MOOC/tree/master/source_code/arrays)"
   ]
  },
  {
   "cell_type": "markdown",
   "id": "59ec1bec-3fd7-4061-aa24-c7765d25786f",
   "metadata": {},
   "source": [
    "## This program demonstrates computing the trace of a matrix  in Fortran."
   ]
  },
  {
   "cell_type": "markdown",
   "id": "a2705efc",
   "metadata": {},
   "source": [
    "```fortran\n",
    "program compute_trace\n",
    "    implicit none\n",
    "    integer :: i\n",
    "    real, dimension(5, 5) :: A\n",
    "\n",
    "    call random_number(A)\n",
    "    do i = 1, size(A, 1)\n",
    "        print '(5F7.4)', A(i, :)\n",
    "    end do\n",
    "    print '(/, A, F7.4)', 'trace = ', trace(A)\n",
    "\n",
    "contains\n",
    "\n",
    "    real function trace(matrix)\n",
    "        use, intrinsic :: iso_fortran_env, only : error_unit\n",
    "        implicit none\n",
    "        real, dimension(:, :), intent(in) :: matrix\n",
    "        integer :: i\n",
    "\n",
    "        if (size(matrix, 1) /= size(matrix, 2)) then\n",
    "            write (unit=error_unit, fmt='(A)') &\n",
    "                'error: can not compute trace of a non-square matrix'\n",
    "            stop 1\n",
    "        end if\n",
    "        trace = 0.0\n",
    "        do i = 1, size(matrix, 1)\n",
    "            trace = trace + matrix(i, i)\n",
    "        end do\n",
    "    end function trace\n",
    "\n",
    "end program compute_trace\n",
    "```"
   ]
  },
  {
   "cell_type": "markdown",
   "id": "4c6b9985-c0cb-4602-8309-4e3369dd3226",
   "metadata": {},
   "source": [
    "The above program is compiled and run using Fortran Package Manager (fpm):"
   ]
  },
  {
   "cell_type": "markdown",
   "id": "c6f9ed20",
   "metadata": {
    "tags": []
   },
   "source": [
    "## Build the Program using FPM (Fortran Package Manager)"
   ]
  },
  {
   "cell_type": "code",
   "execution_count": 1,
   "id": "f16472aa-c965-4bad-a218-fee33f7b456a",
   "metadata": {},
   "outputs": [],
   "source": [
    "import os\n",
    "root_dir = os.getcwd()"
   ]
  },
  {
   "cell_type": "code",
   "execution_count": 2,
   "id": "f77f9126-86cc-4a1b-89b9-5ad5f61cf72c",
   "metadata": {
    "tags": []
   },
   "outputs": [],
   "source": [
    "code_dir = root_dir + \"/\" + \"Fortran_Code/Section_Arrays_Trace\""
   ]
  },
  {
   "cell_type": "code",
   "execution_count": 3,
   "id": "dda7a884",
   "metadata": {
    "tags": [
     "remove-cell"
    ]
   },
   "outputs": [],
   "source": [
    "code_app_dir = code_dir + \"/\" + \"app\""
   ]
  },
  {
   "cell_type": "code",
   "execution_count": 4,
   "id": "0c1bfdce-7589-4f56-be03-b2be392d952f",
   "metadata": {
    "tags": [
     "remove-cell"
    ]
   },
   "outputs": [],
   "source": [
    "os.chdir(code_app_dir)"
   ]
  },
  {
   "cell_type": "code",
   "execution_count": 5,
   "id": "acf272e3-a204-4981-9008-359bb189b9bb",
   "metadata": {
    "tags": [
     "remove-cell"
    ]
   },
   "outputs": [],
   "source": [
    "%%capture\n",
    "%%writefile section_arrays_trace.f90\n",
    "program compute_trace\n",
    "    implicit none\n",
    "    integer :: i\n",
    "    real, dimension(5, 5) :: A\n",
    "\n",
    "    call random_number(A)\n",
    "    do i = 1, size(A, 1)\n",
    "        print '(5F7.4)', A(i, :)\n",
    "    end do\n",
    "    print '(/, A, F7.4)', 'trace = ', trace(A)\n",
    "\n",
    "contains\n",
    "\n",
    "    real function trace(matrix)\n",
    "        use, intrinsic :: iso_fortran_env, only : error_unit\n",
    "        implicit none\n",
    "        real, dimension(:, :), intent(in) :: matrix\n",
    "        integer :: i\n",
    "\n",
    "        if (size(matrix, 1) /= size(matrix, 2)) then\n",
    "            write (unit=error_unit, fmt='(A)') &\n",
    "                'error: can not compute trace of a non-square matrix'\n",
    "            stop 1\n",
    "        end if\n",
    "        trace = 0.0\n",
    "        do i = 1, size(matrix, 1)\n",
    "            trace = trace + matrix(i, i)\n",
    "        end do\n",
    "    end function trace\n",
    "\n",
    "end program compute_trace"
   ]
  },
  {
   "cell_type": "code",
   "execution_count": 6,
   "id": "c2eeda29-613f-48fd-904b-af9aef8813a2",
   "metadata": {},
   "outputs": [],
   "source": [
    "os.chdir(code_dir)"
   ]
  },
  {
   "cell_type": "code",
   "execution_count": 7,
   "id": "0fbd7621-e800-4235-ab30-80560cc3e1a8",
   "metadata": {},
   "outputs": [],
   "source": [
    "build_status = os.system(\"fpm build 2>/dev/null\")"
   ]
  },
  {
   "cell_type": "markdown",
   "id": "58b5102f",
   "metadata": {},
   "source": [
    "## Run the Program using FPM (Fortran Package Manager)"
   ]
  },
  {
   "cell_type": "code",
   "execution_count": 8,
   "id": "0483d40b-e849-4574-bcbe-003c81a96dd5",
   "metadata": {},
   "outputs": [
    {
     "name": "stdout",
     "output_type": "stream",
     "text": [
      " 0.9291 0.7798 0.7948 0.3614 0.2723\n",
      " 0.0763 0.2349 0.5257 0.8471 0.5703\n",
      " 0.9834 0.4852 0.4684 0.9579 0.1995\n",
      " 0.9913 0.5512 0.1679 0.8296 0.4830\n",
      " 0.7913 0.4281 0.2940 0.1233 0.6101\n",
      "\n",
      "trace =  3.0722\n"
     ]
    }
   ],
   "source": [
    "exec_status = os.system(\"fpm run 2>/dev/null\")"
   ]
  }
 ],
 "metadata": {
  "kernelspec": {
   "display_name": "Python 3 (ipykernel)",
   "language": "python",
   "name": "python3"
  },
  "language_info": {
   "codemirror_mode": {
    "name": "ipython",
    "version": 3
   },
   "file_extension": ".py",
   "mimetype": "text/x-python",
   "name": "python",
   "nbconvert_exporter": "python",
   "pygments_lexer": "ipython3",
   "version": "3.10.13"
  },
  "vscode": {
   "interpreter": {
    "hash": "1c7edbfe09241e3ab70fdbaa9340a6c53382c0b8a91b6341e8f1e4440b6e3c70"
   }
  }
 },
 "nbformat": 4,
 "nbformat_minor": 5
}