{
 "cells": [
  {
   "cell_type": "raw",
   "id": "c40b648f-a44a-4480-bbee-93e7a780f45b",
   "metadata": {},
   "source": [
    "---\n",
    "jupytext:\n",
    "  formats: md:myst\n",
    "  text_representation:\n",
    "    extension: .md\n",
    "    format_name: myst\n",
    "kernelspec:\n",
    "  display_name: Python 3\n",
    "  language: python\n",
    "  name: python3\n",
    "---"
   ]
  },
  {
   "attachments": {},
   "cell_type": "markdown",
   "id": "fc63b62e-3ea6-4588-8b6e-f845bbc6d64c",
   "metadata": {
    "tags": []
   },
   "source": [
    "# Section: BLAS/LAPACK - BLAS95\n"
   ]
  },
  {
   "attachments": {},
   "cell_type": "markdown",
   "id": "edfc7d7e-9803-4b96-82f1-bc0d47385f43",
   "metadata": {},
   "source": [
    "Adapted from: [https://github.com/gjbex/Fortran-MOOC/tree/master/source_code/blas_lapack](https://github.com/gjbex/Fortran-MOOC/tree/master/source_code/blas_lapack)"
   ]
  },
  {
   "attachments": {},
   "cell_type": "markdown",
   "id": "59ec1bec-3fd7-4061-aa24-c7765d25786f",
   "metadata": {},
   "source": [
    "## This program demonstrates the BLAS95 linear algebra library in Fortran."
   ]
  },
  {
   "attachments": {},
   "cell_type": "markdown",
   "id": "ae43bd88",
   "metadata": {},
   "source": [
    "### In file sdot.f90"
   ]
  },
  {
   "attachments": {},
   "cell_type": "markdown",
   "id": "49f81255",
   "metadata": {},
   "source": [
    "```fortran\n",
    "module sdot_mod\n",
    "\n",
    "      public :: sdot\n",
    "\n",
    "contains\n",
    "\n",
    "      REAL FUNCTION SDOT(N,SX,INCX,SY,INCY)\n",
    "!  ====== UPDATE TO DOCUMENTATION ======\n",
    "!  To make the calling program compile, I took sdot.f90 from BLAS at\n",
    "!  https://netlib.org/blas/ and changed it into a module.\n",
    "!  I was not able to get the Intel MKL library to work and the Intel\n",
    "!  source code was not available.\n",
    "\n",
    "!  =========== DOCUMENTATION ===========\n",
    "!\n",
    "!* Online html documentation available at\n",
    "!            http://www.netlib.org/lapack/explore-html/\n",
    "!\n",
    "!  Definition:\n",
    "!  ===========\n",
    "!\n",
    "!       REAL FUNCTION SDOT(N,SX,INCX,SY,INCY)\n",
    "!\n",
    "!       .. Scalar Arguments ..\n",
    "!       INTEGER INCX,INCY,N\n",
    "!       ..\n",
    "!       .. Array Arguments ..\n",
    "!       REAL SX(*),SY(*)\n",
    "!       ..\n",
    "!\n",
    "!\n",
    "!*> \\par Purpose:\n",
    "!  =============\n",
    "!>\n",
    "!*> \\verbatim\n",
    "!*>\n",
    "!*>    SDOT forms the dot product of two vectors.\n",
    "!*>    uses unrolled loops for increments equal to one.\n",
    "!*> \\endverbatim\n",
    "!*\n",
    "!*  Arguments:\n",
    "!*  ==========\n",
    "!*\n",
    "!*> \\param[in] N\n",
    "!*> \\verbatim\n",
    "!*>          N is INTEGER\n",
    "!*>         number of elements in input vector(s)\n",
    "!*> \\endverbatim\n",
    "!*>\n",
    "!*> \\param[in] SX\n",
    "!*> \\verbatim\n",
    "!*>          SX is REAL array, dimension ( 1 + ( N - 1 )*abs( INCX ) )\n",
    "!*> \\endverbatim\n",
    "!*>\n",
    "!*> \\param[in] INCX\n",
    "!*> \\verbatim\n",
    "!*>          INCX is INTEGER\n",
    "!*>         storage spacing between elements of SX\n",
    "!*> \\endverbatim\n",
    "!*>\n",
    "!*> \\param[in] SY\n",
    "!*> \\verbatim\n",
    "!*>          SY is REAL array, dimension ( 1 + ( N - 1 )*abs( INCY ) )\n",
    "!*> \\endverbatim\n",
    "!*>\n",
    "!*> \\param[in] INCY\n",
    "!*> \\verbatim\n",
    "!*>          INCY is INTEGER\n",
    "!*>         storage spacing between elements of SY\n",
    "!*> \\endverbatim\n",
    "!*\n",
    "!*  Authors:\n",
    "!*  ========\n",
    "!*\n",
    "!*> \\author Univ. of Tennessee\n",
    "!*> \\author Univ. of California Berkeley\n",
    "!*> \\author Univ. of Colorado Denver\n",
    "!*> \\author NAG Ltd.\n",
    "!*\n",
    "!*> \\ingroup single_blas_level1\n",
    "!*\n",
    "!*> \\par Further Details:\n",
    "!*  =====================\n",
    "!*>\n",
    "!*> \\verbatim\n",
    "!*>\n",
    "!*>     jack dongarra, linpack, 3/11/78.\n",
    "!*>     modified 12/3/93, array(1) declarations changed to array(*)\n",
    "!*> \\endverbatim\n",
    "!*>\n",
    "!*  =====================================================================\n",
    "\n",
    "!*\n",
    "!*  -- Reference BLAS level1 routine --\n",
    "!*  -- Reference BLAS is a software package provided by Univ. of Tennessee,    --\n",
    "!*  -- Univ. of California Berkeley, Univ. of Colorado Denver and NAG Ltd..--\n",
    "!*\n",
    "!*     .. Scalar Arguments ..\n",
    "      INTEGER INCX,INCY,N\n",
    "!*     ..\n",
    "!*     .. Array Arguments ..\n",
    "      REAL SX(*),SY(*)\n",
    "!*     ..\n",
    "!*\n",
    "!*  =====================================================================\n",
    "!*\n",
    "!*     .. Local Scalars ..\n",
    "      REAL STEMP\n",
    "      INTEGER I,IX,IY,M,MP1\n",
    "!*     ..\n",
    "!*     .. Intrinsic Functions ..\n",
    "      INTRINSIC MOD\n",
    "!*     ..\n",
    "      STEMP = 0.0e0\n",
    "      SDOT = 0.0e0\n",
    "      IF (N.LE.0) RETURN\n",
    "      IF (INCX.EQ.1 .AND. INCY.EQ.1) THEN\n",
    "!*\n",
    "!*        code for both increments equal to 1\n",
    "!*\n",
    "!*\n",
    "!*        clean-up loop\n",
    "!*\n",
    "         M = MOD(N,5)\n",
    "         IF (M.NE.0) THEN\n",
    "            DO I = 1,M\n",
    "               STEMP = STEMP + SX(I)*SY(I)\n",
    "            END DO\n",
    "            IF (N.LT.5) THEN\n",
    "               SDOT=STEMP\n",
    "            RETURN\n",
    "            END IF\n",
    "         END IF\n",
    "         MP1 = M + 1\n",
    "         DO I = MP1,N,5\n",
    "            STEMP = STEMP + SX(I)*SY(I) + SX(I+1)*SY(I+1) + &\n",
    "            SX(I+2)*SY(I+2) + SX(I+3)*SY(I+3) + SX(I+4)*SY(I+4)\n",
    "         END DO\n",
    "      ELSE\n",
    "!*\n",
    "!*        code for unequal increments or equal increments\n",
    "!*          not equal to 1\n",
    "!*\n",
    "         IX = 1\n",
    "         IY = 1\n",
    "         IF (INCX.LT.0) IX = (-N+1)*INCX + 1\n",
    "         IF (INCY.LT.0) IY = (-N+1)*INCY + 1\n",
    "         DO I = 1,N\n",
    "            STEMP = STEMP + SX(IX)*SY(IY)\n",
    "            IX = IX + INCX\n",
    "            IY = IY + INCY\n",
    "         END DO\n",
    "      END IF\n",
    "      SDOT = STEMP\n",
    "      RETURN\n",
    "!*\n",
    "!*     End of SDOT\n",
    "!*\n",
    "      end function sdot\n",
    "      \n",
    "end module sdot_mod\n",
    "```\n"
   ]
  },
  {
   "attachments": {},
   "cell_type": "markdown",
   "id": "924d2886",
   "metadata": {},
   "source": [
    "### In file section_blas_lapack_blas95_dot_blas95.f90"
   ]
  },
  {
   "attachments": {},
   "cell_type": "markdown",
   "id": "a2705efc",
   "metadata": {},
   "source": [
    "```fortran\n",
    "program dot_test\n",
    "    use :: sdot_mod\n",
    "    implicit none\n",
    "    integer, parameter :: v_size = 5\n",
    "    integer :: i\n",
    "    real, dimension(v_size) :: vector1 = [ (0.5*I, i=1, v_size) ], &\n",
    "                               vector2 = [ (0.1*i, i=1, v_size) ]\n",
    "    real, dimension(v_size, v_size) :: matrix = reshape( &\n",
    "        [ (real(i), i=1, v_size*v_size) ], [ v_size, v_size ] &\n",
    "    )\n",
    "    \n",
    "    print '(A25, *(F5.1))', 'vector 1: ', vector1\n",
    "    print '(A25, *(F5.1))', 'vector 2: ', vector2\n",
    "    print '(A25, F6.2)', 'vector 1 . vector 2 =', &\n",
    "        sdot(v_size, vector1, 1, vector2, 1)\n",
    "\n",
    "    print *\n",
    "\n",
    "    print '(A)', 'matrix:'\n",
    "    do i = 1, size(matrix, 1)\n",
    "        print '(*(F5.1))', matrix(i, :)\n",
    "    end do\n",
    "\n",
    "    print *\n",
    "\n",
    "    print '(A, F6.1)', 'col 2 . col 4:', &\n",
    "        sdot(v_size, matrix(:, 2), 1, matrix(:, 4), 1)\n",
    "\n",
    "    print *\n",
    "\n",
    "    print '(A, F6.1)', 'row 2 . row 4:', &\n",
    "        sdot(v_size, matrix(2, :), 1, matrix(4, :), 1)\n",
    "\n",
    "    print *\n",
    "end program dot_test\n",
    "```"
   ]
  },
  {
   "cell_type": "markdown",
   "id": "4c6b9985-c0cb-4602-8309-4e3369dd3226",
   "metadata": {},
   "source": [
    "The above program is compiled and run using Fortran Package Manager (fpm):"
   ]
  },
  {
   "cell_type": "markdown",
   "id": "c6f9ed20",
   "metadata": {
    "tags": []
   },
   "source": [
    "## Build the Program using FPM (Fortran Package Manager)"
   ]
  },
  {
   "cell_type": "code",
   "execution_count": 1,
   "id": "f16472aa-c965-4bad-a218-fee33f7b456a",
   "metadata": {},
   "outputs": [],
   "source": [
    "import os\n",
    "root_dir = \"\"\n",
    "root_dir = os.getcwd()"
   ]
  },
  {
   "cell_type": "code",
   "execution_count": 2,
   "id": "f77f9126-86cc-4a1b-89b9-5ad5f61cf72c",
   "metadata": {
    "tags": []
   },
   "outputs": [],
   "source": [
    "code_dir = root_dir + \"/\" + \"Fortran_Code/Section_BLAS_LAPACK_BLAS95\""
   ]
  },
  {
   "cell_type": "code",
   "execution_count": 3,
   "id": "dda7a884",
   "metadata": {
    "tags": [
     "remove-cell"
    ]
   },
   "outputs": [],
   "source": [
    "code_app_dir = code_dir + \"/\" + \"app\""
   ]
  },
  {
   "cell_type": "code",
   "execution_count": 4,
   "id": "0c1bfdce-7589-4f56-be03-b2be392d952f",
   "metadata": {
    "tags": [
     "remove-cell"
    ]
   },
   "outputs": [],
   "source": [
    "os.chdir(code_app_dir)"
   ]
  },
  {
   "cell_type": "code",
   "execution_count": 5,
   "id": "acf272e3-a204-4981-9008-359bb189b9bb",
   "metadata": {
    "tags": [
     "remove-cell"
    ]
   },
   "outputs": [],
   "source": [
    "%%capture\n",
    "%%section_blas_lapack_blas95_dot_blas95.f90\n",
    "program dot_test\n",
    "    use :: sdot_mod\n",
    "    implicit none\n",
    "    integer, parameter :: v_size = 5\n",
    "    integer :: i\n",
    "    real, dimension(v_size) :: vector1 = [ (0.5*I, i=1, v_size) ], &\n",
    "                               vector2 = [ (0.1*i, i=1, v_size) ]\n",
    "    real, dimension(v_size, v_size) :: matrix = reshape( &\n",
    "        [ (real(i), i=1, v_size*v_size) ], [ v_size, v_size ] &\n",
    "    )\n",
    "    \n",
    "    print '(A25, *(F5.1))', 'vector 1: ', vector1\n",
    "    print '(A25, *(F5.1))', 'vector 2: ', vector2\n",
    "    print '(A25, F6.2)', 'vector 1 . vector 2 =', &\n",
    "        sdot(v_size, vector1, 1, vector2, 1)\n",
    "\n",
    "    print *\n",
    "\n",
    "    print '(A)', 'matrix:'\n",
    "    do i = 1, size(matrix, 1)\n",
    "        print '(*(F5.1))', matrix(i, :)\n",
    "    end do\n",
    "\n",
    "    print *\n",
    "\n",
    "    print '(A, F6.1)', 'col 2 . col 4:', &\n",
    "        sdot(v_size, matrix(:, 2), 1, matrix(:, 4), 1)\n",
    "\n",
    "    print *\n",
    "\n",
    "    print '(A, F6.1)', 'row 2 . row 4:', &\n",
    "        sdot(v_size, matrix(2, :), 1, matrix(4, :), 1)\n",
    "\n",
    "    print *\n",
    "end program dot_test"
   ]
  },
  {
   "cell_type": "code",
   "execution_count": 6,
   "id": "44a19d30-a4e2-4fbc-8411-5544ab612b88",
   "metadata": {
    "tags": [
     "remove-cell"
    ]
   },
   "outputs": [
    {
     "name": "stdout",
     "output_type": "stream",
     "text": [
      "\u001b[38;5;238m───────┬────────────────────────────────────────────────────────────────────────\u001b[0m\r\n",
      "       \u001b[38;5;238m│ \u001b[0mFile: \u001b[1msection_blas_lapack_blas95_dot_blas95.f90\u001b[0m\r\n",
      "\u001b[38;5;238m───────┼────────────────────────────────────────────────────────────────────────\u001b[0m\r\n",
      "\u001b[38;5;238m   1\u001b[0m   \u001b[38;5;238m│\u001b[0m \u001b[38;2;249;38;114mprogram\u001b[0m\u001b[38;2;248;248;242m \u001b[0m\u001b[38;2;166;226;46mdot_test\u001b[0m\r\n",
      "\u001b[38;5;238m   2\u001b[0m   \u001b[38;5;238m│\u001b[0m \u001b[38;2;248;248;242m    use \u001b[0m\u001b[38;2;249;38;114m::\u001b[0m\u001b[38;2;248;248;242m sdot_mod\u001b[0m\r\n",
      "\u001b[38;5;238m   3\u001b[0m   \u001b[38;5;238m│\u001b[0m \u001b[38;2;248;248;242m    \u001b[0m\u001b[38;2;249;38;114mimplicit\u001b[0m\u001b[38;2;248;248;242m \u001b[0m\u001b[38;2;249;38;114mnone\u001b[0m\r\n",
      "\u001b[38;5;238m   4\u001b[0m   \u001b[38;5;238m│\u001b[0m \u001b[38;2;248;248;242m    integer, parameter \u001b[0m\u001b[38;2;249;38;114m::\u001b[0m\u001b[38;2;248;248;242m v_size \u001b[0m\u001b[38;2;249;38;114m=\u001b[0m\u001b[38;2;248;248;242m \u001b[0m\u001b[38;2;190;132;255m5\u001b[0m\r\n",
      "\u001b[38;5;238m   5\u001b[0m   \u001b[38;5;238m│\u001b[0m \u001b[38;2;248;248;242m    integer \u001b[0m\u001b[38;2;249;38;114m::\u001b[0m\u001b[38;2;248;248;242m i\u001b[0m\r\n",
      "\u001b[38;5;238m   6\u001b[0m   \u001b[38;5;238m│\u001b[0m \u001b[38;2;248;248;242m    real, \u001b[0m\u001b[38;2;248;248;242mdimension\u001b[0m\u001b[38;2;248;248;242m(\u001b[0m\u001b[38;2;248;248;242mv_size\u001b[0m\u001b[38;2;248;248;242m)\u001b[0m\u001b[38;2;248;248;242m \u001b[0m\u001b[38;2;249;38;114m::\u001b[0m\u001b[38;2;248;248;242m vector1 \u001b[0m\u001b[38;2;249;38;114m=\u001b[0m\u001b[38;2;248;248;242m \u001b[0m\u001b[38;2;248;248;242m[\u001b[0m\u001b[38;2;248;248;242m \u001b[0m\u001b[38;2;248;248;242m(\u001b[0m\u001b[38;2;190;132;255m0.5\u001b[0m\u001b[38;2;249;38;114m*\u001b[0m\u001b[38;2;248;248;242mI, i\u001b[0m\u001b[38;2;249;38;114m=\u001b[0m\u001b[38;2;190;132;255m1\u001b[0m\u001b[38;2;248;248;242m, v_size\u001b[0m\u001b[38;2;248;248;242m)\u001b[0m\u001b[38;2;248;248;242m \u001b[0m\u001b[38;2;248;248;242m]\u001b[0m\u001b[38;2;248;248;242m, &\u001b[0m\r\n",
      "\u001b[38;5;238m   7\u001b[0m   \u001b[38;5;238m│\u001b[0m \u001b[38;2;248;248;242m                               vector2 \u001b[0m\u001b[38;2;249;38;114m=\u001b[0m\u001b[38;2;248;248;242m \u001b[0m\u001b[38;2;248;248;242m[\u001b[0m\u001b[38;2;248;248;242m \u001b[0m\u001b[38;2;248;248;242m(\u001b[0m\u001b[38;2;190;132;255m0.1\u001b[0m\u001b[38;2;249;38;114m*\u001b[0m\u001b[38;2;248;248;242mi, i\u001b[0m\u001b[38;2;249;38;114m=\u001b[0m\u001b[38;2;190;132;255m1\u001b[0m\u001b[38;2;248;248;242m, v_size\u001b[0m\u001b[38;2;248;248;242m)\u001b[0m\u001b[38;2;248;248;242m \u001b[0m\u001b[38;2;248;248;242m]\u001b[0m\r\n",
      "\u001b[38;5;238m   8\u001b[0m   \u001b[38;5;238m│\u001b[0m \u001b[38;2;248;248;242m    real, \u001b[0m\u001b[38;2;248;248;242mdimension\u001b[0m\u001b[38;2;248;248;242m(\u001b[0m\u001b[38;2;248;248;242mv_size\u001b[0m\u001b[38;2;248;248;242m,\u001b[0m\u001b[38;2;248;248;242m v_size\u001b[0m\u001b[38;2;248;248;242m)\u001b[0m\u001b[38;2;248;248;242m \u001b[0m\u001b[38;2;249;38;114m::\u001b[0m\u001b[38;2;248;248;242m matrix \u001b[0m\u001b[38;2;249;38;114m=\u001b[0m\u001b[38;2;248;248;242m \u001b[0m\u001b[38;2;102;217;239mreshape\u001b[0m\u001b[38;2;248;248;242m(\u001b[0m\u001b[38;2;248;248;242m &\u001b[0m\r\n",
      "\u001b[38;5;238m   9\u001b[0m   \u001b[38;5;238m│\u001b[0m \u001b[38;2;248;248;242m        \u001b[0m\u001b[38;2;248;248;242m[\u001b[0m\u001b[38;2;248;248;242m \u001b[0m\u001b[38;2;248;248;242m(\u001b[0m\u001b[38;2;102;217;239mreal\u001b[0m\u001b[38;2;248;248;242m(\u001b[0m\u001b[38;2;248;248;242mi\u001b[0m\u001b[38;2;248;248;242m)\u001b[0m\u001b[38;2;248;248;242m, i\u001b[0m\u001b[38;2;249;38;114m=\u001b[0m\u001b[38;2;190;132;255m1\u001b[0m\u001b[38;2;248;248;242m, v_size\u001b[0m\u001b[38;2;249;38;114m*\u001b[0m\u001b[38;2;248;248;242mv_size\u001b[0m\u001b[38;2;248;248;242m)\u001b[0m\u001b[38;2;248;248;242m \u001b[0m\u001b[38;2;248;248;242m]\u001b[0m\u001b[38;2;248;248;242m, \u001b[0m\u001b[38;2;248;248;242m[\u001b[0m\u001b[38;2;248;248;242m v_size, v_size \u001b[0m\u001b[38;2;248;248;242m]\u001b[0m\u001b[38;2;248;248;242m &\u001b[0m\r\n",
      "\u001b[38;5;238m  10\u001b[0m   \u001b[38;5;238m│\u001b[0m \u001b[38;2;248;248;242m    \u001b[0m\u001b[38;2;248;248;242m)\u001b[0m\r\n",
      "\u001b[38;5;238m  11\u001b[0m   \u001b[38;5;238m│\u001b[0m \u001b[38;2;248;248;242m    \u001b[0m\r\n",
      "\u001b[38;5;238m  12\u001b[0m   \u001b[38;5;238m│\u001b[0m \u001b[38;2;248;248;242m    \u001b[0m\u001b[38;2;102;217;239mprint\u001b[0m\u001b[38;2;248;248;242m \u001b[0m\u001b[38;2;230;219;116m'\u001b[0m\u001b[38;2;248;248;242m(\u001b[0m\u001b[38;2;190;132;255mA25\u001b[0m\u001b[38;2;248;248;242m, *\u001b[0m\u001b[38;2;248;248;242m(\u001b[0m\u001b[38;2;190;132;255mF5.1\u001b[0m\u001b[38;2;248;248;242m)\u001b[0m\u001b[38;2;248;248;242m)\u001b[0m\u001b[38;2;230;219;116m'\u001b[0m\u001b[38;2;248;248;242m, \u001b[0m\u001b[38;2;230;219;116m'vector 1: '\u001b[0m\u001b[38;2;248;248;242m, vector1\u001b[0m\r\n",
      "\u001b[38;5;238m  13\u001b[0m   \u001b[38;5;238m│\u001b[0m \u001b[38;2;248;248;242m    \u001b[0m\u001b[38;2;102;217;239mprint\u001b[0m\u001b[38;2;248;248;242m \u001b[0m\u001b[38;2;230;219;116m'\u001b[0m\u001b[38;2;248;248;242m(\u001b[0m\u001b[38;2;190;132;255mA25\u001b[0m\u001b[38;2;248;248;242m, *\u001b[0m\u001b[38;2;248;248;242m(\u001b[0m\u001b[38;2;190;132;255mF5.1\u001b[0m\u001b[38;2;248;248;242m)\u001b[0m\u001b[38;2;248;248;242m)\u001b[0m\u001b[38;2;230;219;116m'\u001b[0m\u001b[38;2;248;248;242m, \u001b[0m\u001b[38;2;230;219;116m'vector 2: '\u001b[0m\u001b[38;2;248;248;242m, vector2\u001b[0m\r\n",
      "\u001b[38;5;238m  14\u001b[0m   \u001b[38;5;238m│\u001b[0m \u001b[38;2;248;248;242m    \u001b[0m\u001b[38;2;102;217;239mprint\u001b[0m\u001b[38;2;248;248;242m \u001b[0m\u001b[38;2;230;219;116m'\u001b[0m\u001b[38;2;248;248;242m(\u001b[0m\u001b[38;2;190;132;255mA25\u001b[0m\u001b[38;2;248;248;242m, \u001b[0m\u001b[38;2;190;132;255mF6.2\u001b[0m\u001b[38;2;248;248;242m)\u001b[0m\u001b[38;2;230;219;116m'\u001b[0m\u001b[38;2;248;248;242m, \u001b[0m\u001b[38;2;230;219;116m'vector 1 . vector 2 ='\u001b[0m\u001b[38;2;248;248;242m, \u001b[0m\u001b[38;2;102;217;239m&\u001b[0m\r\n",
      "\u001b[38;5;238m  15\u001b[0m   \u001b[38;5;238m│\u001b[0m \u001b[38;2;248;248;242m        \u001b[0m\u001b[38;2;248;248;242msdot\u001b[0m\u001b[38;2;248;248;242m(\u001b[0m\u001b[38;2;248;248;242mv_size\u001b[0m\u001b[38;2;248;248;242m,\u001b[0m\u001b[38;2;248;248;242m vector1\u001b[0m\u001b[38;2;248;248;242m,\u001b[0m\u001b[38;2;248;248;242m \u001b[0m\u001b[38;2;190;132;255m1\u001b[0m\u001b[38;2;248;248;242m,\u001b[0m\u001b[38;2;248;248;242m vector2\u001b[0m\u001b[38;2;248;248;242m,\u001b[0m\u001b[38;2;248;248;242m \u001b[0m\u001b[38;2;190;132;255m1\u001b[0m\u001b[38;2;248;248;242m)\u001b[0m\r\n",
      "\u001b[38;5;238m  16\u001b[0m   \u001b[38;5;238m│\u001b[0m \r\n",
      "\u001b[38;5;238m  17\u001b[0m   \u001b[38;5;238m│\u001b[0m \u001b[38;2;248;248;242m    \u001b[0m\u001b[38;2;102;217;239mprint\u001b[0m\u001b[38;2;248;248;242m \u001b[0m\u001b[38;2;248;248;242m*\u001b[0m\r\n",
      "\u001b[38;5;238m  18\u001b[0m   \u001b[38;5;238m│\u001b[0m \r\n",
      "\u001b[38;5;238m  19\u001b[0m   \u001b[38;5;238m│\u001b[0m \u001b[38;2;248;248;242m    \u001b[0m\u001b[38;2;102;217;239mprint\u001b[0m\u001b[38;2;248;248;242m \u001b[0m\u001b[38;2;230;219;116m'\u001b[0m\u001b[38;2;248;248;242m(\u001b[0m\u001b[38;2;190;132;255mA\u001b[0m\u001b[38;2;248;248;242m)\u001b[0m\u001b[38;2;230;219;116m'\u001b[0m\u001b[38;2;248;248;242m, \u001b[0m\u001b[38;2;230;219;116m'matrix:'\u001b[0m\r\n",
      "\u001b[38;5;238m  20\u001b[0m   \u001b[38;5;238m│\u001b[0m \u001b[38;2;248;248;242m    \u001b[0m\u001b[38;2;249;38;114mdo\u001b[0m\u001b[38;2;248;248;242m \u001b[0m\u001b[38;2;248;248;242mi\u001b[0m\u001b[38;2;248;248;242m \u001b[0m\u001b[38;2;249;38;114m=\u001b[0m\u001b[38;2;248;248;242m \u001b[0m\u001b[38;2;190;132;255m1\u001b[0m\u001b[38;2;248;248;242m, \u001b[0m\u001b[38;2;102;217;239msize\u001b[0m\u001b[38;2;248;248;242m(\u001b[0m\u001b[38;2;248;248;242mmatrix, \u001b[0m\u001b[38;2;190;132;255m1\u001b[0m\u001b[38;2;248;248;242m)\u001b[0m\r\n",
      "\u001b[38;5;238m  21\u001b[0m   \u001b[38;5;238m│\u001b[0m \u001b[38;2;248;248;242m        \u001b[0m\u001b[38;2;102;217;239mprint\u001b[0m\u001b[38;2;248;248;242m \u001b[0m\u001b[38;2;230;219;116m'\u001b[0m\u001b[38;2;248;248;242m(\u001b[0m\u001b[38;2;248;248;242m*\u001b[0m\u001b[38;2;248;248;242m(\u001b[0m\u001b[38;2;190;132;255mF5.1\u001b[0m\u001b[38;2;248;248;242m)\u001b[0m\u001b[38;2;248;248;242m)\u001b[0m\u001b[38;2;230;219;116m'\u001b[0m\u001b[38;2;248;248;242m, \u001b[0m\u001b[38;2;248;248;242mmatrix\u001b[0m\u001b[38;2;248;248;242m(\u001b[0m\u001b[38;2;248;248;242mi\u001b[0m\u001b[38;2;248;248;242m,\u001b[0m\u001b[38;2;248;248;242m :\u001b[0m\u001b[38;2;248;248;242m)\u001b[0m\r\n",
      "\u001b[38;5;238m  22\u001b[0m   \u001b[38;5;238m│\u001b[0m \u001b[38;2;248;248;242m    \u001b[0m\u001b[38;2;249;38;114mend\u001b[0m\u001b[38;2;248;248;242m \u001b[0m\u001b[38;2;249;38;114mdo\u001b[0m\r\n",
      "\u001b[38;5;238m  23\u001b[0m   \u001b[38;5;238m│\u001b[0m \r\n",
      "\u001b[38;5;238m  24\u001b[0m   \u001b[38;5;238m│\u001b[0m \u001b[38;2;248;248;242m    \u001b[0m\u001b[38;2;102;217;239mprint\u001b[0m\u001b[38;2;248;248;242m \u001b[0m\u001b[38;2;248;248;242m*\u001b[0m\r\n",
      "\u001b[38;5;238m  25\u001b[0m   \u001b[38;5;238m│\u001b[0m \r\n",
      "\u001b[38;5;238m  26\u001b[0m   \u001b[38;5;238m│\u001b[0m \u001b[38;2;248;248;242m    \u001b[0m\u001b[38;2;102;217;239mprint\u001b[0m\u001b[38;2;248;248;242m \u001b[0m\u001b[38;2;230;219;116m'\u001b[0m\u001b[38;2;248;248;242m(\u001b[0m\u001b[38;2;190;132;255mA\u001b[0m\u001b[38;2;248;248;242m, \u001b[0m\u001b[38;2;190;132;255mF6.1\u001b[0m\u001b[38;2;248;248;242m)\u001b[0m\u001b[38;2;230;219;116m'\u001b[0m\u001b[38;2;248;248;242m, \u001b[0m\u001b[38;2;230;219;116m'col 2 . col 4:'\u001b[0m\u001b[38;2;248;248;242m, \u001b[0m\u001b[38;2;102;217;239m&\u001b[0m\r\n",
      "\u001b[38;5;238m  27\u001b[0m   \u001b[38;5;238m│\u001b[0m \u001b[38;2;248;248;242m        \u001b[0m\u001b[38;2;248;248;242msdot\u001b[0m\u001b[38;2;248;248;242m(\u001b[0m\u001b[38;2;248;248;242mv_size\u001b[0m\u001b[38;2;248;248;242m,\u001b[0m\u001b[38;2;248;248;242m \u001b[0m\u001b[38;2;248;248;242mmatrix\u001b[0m\u001b[38;2;248;248;242m(\u001b[0m\u001b[38;2;248;248;242m:\u001b[0m\u001b[38;2;248;248;242m,\u001b[0m\u001b[38;2;248;248;242m \u001b[0m\u001b[38;2;190;132;255m2\u001b[0m\u001b[38;2;248;248;242m)\u001b[0m\u001b[38;2;248;248;242m,\u001b[0m\u001b[38;2;248;248;242m \u001b[0m\u001b[38;2;190;132;255m1\u001b[0m\u001b[38;2;248;248;242m,\u001b[0m\u001b[38;2;248;248;242m \u001b[0m\u001b[38;2;248;248;242mmatrix\u001b[0m\u001b[38;2;248;248;242m(\u001b[0m\u001b[38;2;248;248;242m:\u001b[0m\u001b[38;2;248;248;242m,\u001b[0m\u001b[38;2;248;248;242m \u001b[0m\u001b[38;2;190;132;255m4\u001b[0m\u001b[38;2;248;248;242m)\u001b[0m\u001b[38;2;248;248;242m,\u001b[0m\u001b[38;2;248;248;242m \u001b[0m\u001b[38;2;190;132;255m1\u001b[0m\u001b[38;2;248;248;242m)\u001b[0m\r\n",
      "\u001b[38;5;238m  28\u001b[0m   \u001b[38;5;238m│\u001b[0m \r\n",
      "\u001b[38;5;238m  29\u001b[0m   \u001b[38;5;238m│\u001b[0m \u001b[38;2;248;248;242m    \u001b[0m\u001b[38;2;102;217;239mprint\u001b[0m\u001b[38;2;248;248;242m \u001b[0m\u001b[38;2;248;248;242m*\u001b[0m\r\n",
      "\u001b[38;5;238m  30\u001b[0m   \u001b[38;5;238m│\u001b[0m \r\n",
      "\u001b[38;5;238m  31\u001b[0m   \u001b[38;5;238m│\u001b[0m \u001b[38;2;248;248;242m    \u001b[0m\u001b[38;2;102;217;239mprint\u001b[0m\u001b[38;2;248;248;242m \u001b[0m\u001b[38;2;230;219;116m'\u001b[0m\u001b[38;2;248;248;242m(\u001b[0m\u001b[38;2;190;132;255mA\u001b[0m\u001b[38;2;248;248;242m, \u001b[0m\u001b[38;2;190;132;255mF6.1\u001b[0m\u001b[38;2;248;248;242m)\u001b[0m\u001b[38;2;230;219;116m'\u001b[0m\u001b[38;2;248;248;242m, \u001b[0m\u001b[38;2;230;219;116m'row 2 . row 4:'\u001b[0m\u001b[38;2;248;248;242m, \u001b[0m\u001b[38;2;102;217;239m&\u001b[0m\r\n",
      "\u001b[38;5;238m  32\u001b[0m   \u001b[38;5;238m│\u001b[0m \u001b[38;2;248;248;242m        \u001b[0m\u001b[38;2;248;248;242msdot\u001b[0m\u001b[38;2;248;248;242m(\u001b[0m\u001b[38;2;248;248;242mv_size\u001b[0m\u001b[38;2;248;248;242m,\u001b[0m\u001b[38;2;248;248;242m \u001b[0m\u001b[38;2;248;248;242mmatrix\u001b[0m\u001b[38;2;248;248;242m(\u001b[0m\u001b[38;2;190;132;255m2\u001b[0m\u001b[38;2;248;248;242m,\u001b[0m\u001b[38;2;248;248;242m :\u001b[0m\u001b[38;2;248;248;242m)\u001b[0m\u001b[38;2;248;248;242m,\u001b[0m\u001b[38;2;248;248;242m \u001b[0m\u001b[38;2;190;132;255m1\u001b[0m\u001b[38;2;248;248;242m,\u001b[0m\u001b[38;2;248;248;242m \u001b[0m\u001b[38;2;248;248;242mmatrix\u001b[0m\u001b[38;2;248;248;242m(\u001b[0m\u001b[38;2;190;132;255m4\u001b[0m\u001b[38;2;248;248;242m,\u001b[0m\u001b[38;2;248;248;242m :\u001b[0m\u001b[38;2;248;248;242m)\u001b[0m\u001b[38;2;248;248;242m,\u001b[0m\u001b[38;2;248;248;242m \u001b[0m\u001b[38;2;190;132;255m1\u001b[0m\u001b[38;2;248;248;242m)\u001b[0m\r\n",
      "\u001b[38;5;238m  33\u001b[0m   \u001b[38;5;238m│\u001b[0m \r\n",
      "\u001b[38;5;238m  34\u001b[0m   \u001b[38;5;238m│\u001b[0m \u001b[38;2;248;248;242m    \u001b[0m\u001b[38;2;102;217;239mprint\u001b[0m\u001b[38;2;248;248;242m \u001b[0m\u001b[38;2;248;248;242m*\u001b[0m\r\n",
      "\u001b[38;5;238m  35\u001b[0m   \u001b[38;5;238m│\u001b[0m \u001b[38;2;249;38;114mend\u001b[0m\u001b[38;2;248;248;242m \u001b[0m\u001b[38;2;249;38;114mprogram\u001b[0m\u001b[38;2;248;248;242m \u001b[0m\u001b[38;2;166;226;46mdot_test\u001b[0m\r\n",
      "\u001b[38;5;238m───────┴────────────────────────────────────────────────────────────────────────\u001b[0m\r\n"
     ]
    }
   ],
   "source": [
    "!bat *.f90"
   ]
  },
  {
   "cell_type": "code",
   "execution_count": 7,
   "id": "c2eeda29-613f-48fd-904b-af9aef8813a2",
   "metadata": {},
   "outputs": [],
   "source": [
    "os.chdir(code_dir)"
   ]
  },
  {
   "cell_type": "code",
   "execution_count": 8,
   "id": "0fbd7621-e800-4235-ab30-80560cc3e1a8",
   "metadata": {},
   "outputs": [],
   "source": [
    "build_status = os.system(\"fpm build 2>/dev/null\")"
   ]
  },
  {
   "cell_type": "markdown",
   "id": "58b5102f",
   "metadata": {},
   "source": [
    "## Run the Program using FPM (Fortran Package Manager)"
   ]
  },
  {
   "attachments": {},
   "cell_type": "markdown",
   "id": "4caa25a1",
   "metadata": {},
   "source": [
    "The program is run and the output is saved into a data file *data.dat*."
   ]
  },
  {
   "cell_type": "code",
   "execution_count": 9,
   "id": "3176b27d-932e-47a1-8099-4fae064ec661",
   "metadata": {},
   "outputs": [
    {
     "name": "stdout",
     "output_type": "stream",
     "text": [
      "               vector 1:   0.5  1.0  1.5  2.0  2.5\n",
      "               vector 2:   0.1  0.2  0.3  0.4  0.5\n",
      "    vector 1 . vector 2 =  2.75\n",
      "\n",
      "matrix:\n",
      "  1.0  6.0 11.0 16.0 21.0\n",
      "  2.0  7.0 12.0 17.0 22.0\n",
      "  3.0  8.0 13.0 18.0 23.0\n",
      "  4.0  9.0 14.0 19.0 24.0\n",
      "  5.0 10.0 15.0 20.0 25.0\n",
      "\n",
      "col 2 . col 4: 730.0\n",
      "\n",
      "row 2 . row 4:1090.0\n",
      "\n"
     ]
    }
   ],
   "source": [
    "exec_status = os.system(\"fpm run 2>/dev/null\")"
   ]
  }
 ],
 "metadata": {
  "kernelspec": {
   "display_name": "Python 3",
   "language": "python",
   "name": "python3"
  },
  "language_info": {
   "codemirror_mode": {
    "name": "ipython",
    "version": 3
   },
   "file_extension": ".py",
   "mimetype": "text/x-python",
   "name": "python",
   "nbconvert_exporter": "python",
   "pygments_lexer": "ipython3",
   "version": "3.9.15"
  },
  "vscode": {
   "interpreter": {
    "hash": "916dbcbb3f70747c44a77c7bcd40155683ae19c65e1c03b4aa3499c5328201f1"
   }
  }
 },
 "nbformat": 4,
 "nbformat_minor": 5
}