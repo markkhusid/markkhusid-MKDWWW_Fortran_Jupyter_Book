{
 "cells": [
  {
   "cell_type": "raw",
   "id": "da69630d-57d9-48af-a290-4455f068216d",
   "metadata": {},
   "source": [
    "---\n",
    "jupytext:\n",
    "  formats: md:myst\n",
    "  text_representation:\n",
    "    extension: .md\n",
    "    format_name: myst\n",
    "kernelspec:\n",
    "  display_name: Python 3\n",
    "  language: python\n",
    "  name: python3\n",
    "---"
   ]
  },
  {
   "cell_type": "markdown",
   "id": "29b3d245-0fe5-48e2-b541-9f88191c3848",
   "metadata": {},
   "source": [
    "# Worked Examples"
   ]
  },
  {
   "cell_type": "markdown",
   "id": "abe9d740-1196-4fe9-ad37-5357cd042142",
   "metadata": {
    "tags": []
   },
   "source": [
    "In this section we will be following along with the examples from \"Modern Fortan\" by Milan Curcic (Manning). We will use Jupyter Lab to facilitate rapid production of HTML content. The output of the Fortran code will be displayed in graphical format using Python scripts and Matplotlib."
   ]
  }
 ],
 "metadata": {
  "kernelspec": {
   "display_name": "Python 3 (ipykernel)",
   "language": "python",
   "name": "python3"
  },
  "language_info": {
   "codemirror_mode": {
    "name": "ipython",
    "version": 3
   },
   "file_extension": ".py",
   "mimetype": "text/x-python",
   "name": "python",
   "nbconvert_exporter": "python",
   "pygments_lexer": "ipython3",
   "version": "3.9.15"
  }
 },
 "nbformat": 4,
 "nbformat_minor": 5
}