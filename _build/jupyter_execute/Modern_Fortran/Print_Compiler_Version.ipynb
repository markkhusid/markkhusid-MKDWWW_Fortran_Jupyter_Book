{
 "cells": [
  {
   "cell_type": "raw",
   "id": "735eb5aa-ccb8-411e-8ffc-2087a2d2f9e1",
   "metadata": {},
   "source": [
    "---\n",
    "jupytext:\n",
    "  formats: md:myst\n",
    "  text_representation:\n",
    "    extension: .md\n",
    "    format_name: myst\n",
    "kernelspec:\n",
    "  display_name: Python 3\n",
    "  language: python\n",
    "  name: python3\n",
    "---"
   ]
  },
  {
   "cell_type": "markdown",
   "id": "70ade4e0-c09c-4720-b371-cf37307ccdbc",
   "metadata": {
    "tags": []
   },
   "source": [
    "# Print Compiler Version"
   ]
  },
  {
   "cell_type": "markdown",
   "id": "6c4f1181-7c02-4391-a0a5-d2c51f5ff229",
   "metadata": {},
   "source": [
    "Adapted from: \"Modern Fortan\" by Milan Curcic (Manning)"
   ]
  },
  {
   "cell_type": "markdown",
   "id": "1427eb6e-0efe-4983-a8b7-398e9fde1fbc",
   "metadata": {},
   "source": [
    "```fortran\n",
    "program print_compiler_info\n",
    "\n",
    "    use iso_fortran_env\n",
    "    implicit none\n",
    "    print *, 'Compiler version: ', compiler_version()\n",
    "    print *, 'Compiler options: ', compiler_options()\n",
    "    \n",
    "end program print_compiler_info\n",
    "```"
   ]
  },
  {
   "cell_type": "markdown",
   "id": "4d1b3f1c-2475-4219-940a-2c51ece3e891",
   "metadata": {},
   "source": [
    "The above program is compiled and run using Fortran Package Manager (fpm):"
   ]
  },
  {
   "cell_type": "code",
   "execution_count": 1,
   "id": "5ebace28-6569-4f73-9a43-f53d4c64fc32",
   "metadata": {},
   "outputs": [],
   "source": [
    "import os\n",
    "root_dir = os.getcwd()"
   ]
  },
  {
   "cell_type": "code",
   "execution_count": 2,
   "id": "ef493ade-dfdf-4ea2-89ab-98a61353948b",
   "metadata": {},
   "outputs": [],
   "source": [
    "code_dir = root_dir + \"/\" + \"Fortran_Code/Print_Compiler_Version\""
   ]
  },
  {
   "cell_type": "code",
   "execution_count": 3,
   "id": "524753ac-5c2c-46fb-8841-f61ec40ae872",
   "metadata": {},
   "outputs": [],
   "source": [
    "os.chdir(code_dir)"
   ]
  },
  {
   "cell_type": "code",
   "execution_count": 4,
   "id": "9a4ce293-09fc-4eec-b5d4-04bae94e5b25",
   "metadata": {},
   "outputs": [],
   "source": [
    "build_status = os.system(\"fpm build > /dev/null\")"
   ]
  },
  {
   "cell_type": "markdown",
   "id": "f977b55b-b0d4-4f7c-878c-07a8ba5dff0f",
   "metadata": {},
   "source": [
    "fpm run output is piped into sed to suppress the status of the run command."
   ]
  },
  {
   "cell_type": "code",
   "execution_count": 5,
   "id": "283ad703-2666-4e02-bb4e-359337d70bb5",
   "metadata": {},
   "outputs": [
    {
     "name": "stdout",
     "output_type": "stream",
     "text": [
      " Compiler options: -I build/gfortran_2A42023B310FA28D -mtune=generic -march=x86-64 -g -Wall -Wextra -Wimplicit-interface -fPIC -fmax-errors=1 -fcheck=bounds -fcheck=array-temps -fbacktrace -fcoarray=single -J build/gfortran_2A42023B310FA28D -fpre-include=/usr/lib/gcc/x86_64-linux-gnu/11/../../../../x86_64-linux-gnu/include/finclude/math-vector-fortran.h\n"
     ]
    },
    {
     "name": "stderr",
     "output_type": "stream",
     "text": [
      "Project is up to date\n"
     ]
    }
   ],
   "source": [
    "exec_status = os.system(\"fpm run | sed 1,1d\")"
   ]
  }
 ],
 "metadata": {
  "kernelspec": {
   "display_name": "Python 3 (ipykernel)",
   "language": "python",
   "name": "python3"
  },
  "language_info": {
   "codemirror_mode": {
    "name": "ipython",
    "version": 3
   },
   "file_extension": ".py",
   "mimetype": "text/x-python",
   "name": "python",
   "nbconvert_exporter": "python",
   "pygments_lexer": "ipython3",
   "version": "3.10.6"
  }
 },
 "nbformat": 4,
 "nbformat_minor": 5
}