{
 "cells": [
  {
   "cell_type": "raw",
   "id": "3f1ed314-3360-4cd2-b12f-d225f1543c93",
   "metadata": {},
   "source": [
    "---\n",
    "jupytext:\n",
    "  formats: md:myst\n",
    "  text_representation:\n",
    "    extension: .md\n",
    "    format_name: myst\n",
    "kernelspec:\n",
    "  display_name: Python 3\n",
    "  language: python\n",
    "  name: python3\n",
    "---"
   ]
  },
  {
   "cell_type": "markdown",
   "id": "70ade4e0-c09c-4720-b371-cf37307ccdbc",
   "metadata": {
    "tags": []
   },
   "source": [
    "# Cold Front Calculator With Loop"
   ]
  },
  {
   "cell_type": "markdown",
   "id": "6c4f1181-7c02-4391-a0a5-d2c51f5ff229",
   "metadata": {},
   "source": [
    "Adapted from: \"Modern Fortan\" by Milan Curcic (Manning)"
   ]
  },
  {
   "cell_type": "markdown",
   "id": "59ec1bec-3fd7-4061-aa24-c7765d25786f",
   "metadata": {},
   "source": [
    "## Program to Calculate the Temperature due to a Cold Front Using a Loop"
   ]
  },
  {
   "cell_type": "markdown",
   "id": "4357b7cf-9b30-4a74-bea8-726520ec0f9d",
   "metadata": {},
   "source": [
    "```{literalinclude} Fortran_Code/Cold_Front_Calculator_with_Loop/app/cold_front_calculator_with_loop.f90\n",
    "---\n",
    "language: fortran\n",
    "---\n",
    "```"
   ]
  },
  {
   "cell_type": "markdown",
   "id": "7a852896-bc97-46aa-9cab-b33e035a4555",
   "metadata": {},
   "source": [
    "## Program Explanation"
   ]
  },
  {
   "cell_type": "markdown",
   "id": "63dd9100-dcb1-40b7-a16c-23cfeec208c7",
   "metadata": {},
   "source": [
    "The following explanation is given by \"Code Copilot\" within ChatGPT 4."
   ]
  },
  {
   "cell_type": "markdown",
   "id": "04d930a2-266f-42f1-b52d-2dce1335a583",
   "metadata": {},
   "source": [
    "The Fortran program named `cold_front` is designed to calculate and display the temperature at different time intervals as a cold front moves through a region, altering the temperature linearly based on its speed and the initial temperature gradient over a given distance. The core computation is encapsulated within a function `cold_front_temperature`, which calculates the resulting temperature after the cold front has affected the area for a specified duration.\n",
    "\n",
    "### Program Structure and Explanation\n",
    "\n",
    "1. **Variable Declarations:**\n",
    "   - `n`: An integer used as a counter in the loop to represent time in hours.\n",
    "   - `nhours`: A real number that converts `n` into a real data type appropriate for passing to the `cold_front_temperature` function.\n",
    "\n",
    "2. **Loop Execution:**\n",
    "   - The `do` loop runs from 6 to 48 hours in increments of 6 hours. For each iteration, it calculates the temperature after `nhours` using the `cold_front_temperature` function and prints the result.\n",
    "\n",
    "3. **Function Definition (`cold_front_temperature`):**\n",
    "   - **Input Parameters:**\n",
    "     - `temp1` (Real): The initial temperature at the starting point (e.g., 12 degrees Celsius).\n",
    "     - `temp2` (Real): The initial temperature at a distance `dx` from the starting point (e.g., 24 degrees Celsius).\n",
    "     - `c` (Real): The speed of the cold front in km/hr (e.g., 20 km/hr).\n",
    "     - `dx` (Real): The distance over which the initial temperature difference `temp2 - temp1` is observed (e.g., 960 km).\n",
    "     - `dt` (Real): The time in hours for which the effect of the cold front is being calculated (e.g., `nhours`).\n",
    "   - **Calculation and Result:**\n",
    "     - The formula `temp2 - c * (temp2 - temp1) / dx * dt` is used to calculate the temperature after the cold front has moved for `dt` hours. This calculation effectively adjusts the temperature at the point `temp2` by considering how the temperature gradient changes linearly with distance, scaled by the speed of the cold front and the time elapsed.\n",
    "\n",
    "### Calculation Explanation\n",
    "\n",
    "- The function calculates the change in temperature as a function of time due to the movement of the cold front:\n",
    "  - `(temp2 - temp1) / dx` computes the rate of temperature change per kilometer (temperature gradient).\n",
    "  - Multiplying this gradient by the cold front's speed `c` gives the rate of temperature change per hour.\n",
    "  - Multiplying further by `dt` scales this hourly change by the number of hours `nhours` to determine the total change in temperature over that period.\n",
    "- The result is subtracted from `temp2` because as the cold front moves, it brings the characteristics (temperature) of the starting point (`temp1`) towards the point initially at `temp2`.\n",
    "\n",
    "### Usage and Output\n",
    "\n",
    "- The program is particularly useful for educational purposes or simple meteorological predictions to understand the impact of a moving cold front over time on the local temperature.\n",
    "- It provides a straightforward and clear output showing how the temperature changes every 6 hours from 6 to 48 hours as a cold front progresses through the area.\n",
    "\n",
    "This program is an excellent example of using procedural abstraction (`cold_front_temperature` function) to encapsulate the logic for a specific calculation, making the main program more readable and easier to manage."
   ]
  },
  {
   "cell_type": "markdown",
   "id": "95a01b71-3e03-4fd3-883d-121719f4161e",
   "metadata": {
    "jp-MarkdownHeadingCollapsed": true
   },
   "source": [
    "## Program Compilation and Execution"
   ]
  },
  {
   "cell_type": "markdown",
   "id": "78f7b3ec-6be7-4f79-a60b-2bd16ec4a729",
   "metadata": {},
   "source": [
    "The above program is compiled and run using Fortran Package Manager (fpm):"
   ]
  },
  {
   "cell_type": "code",
   "execution_count": 1,
   "id": "317af80e-8a16-47f6-8b5b-aaff80e2a8b7",
   "metadata": {
    "execution": {
     "iopub.execute_input": "2024-05-05T03:14:16.093475Z",
     "iopub.status.busy": "2024-05-05T03:14:16.093160Z",
     "iopub.status.idle": "2024-05-05T03:14:16.177015Z",
     "shell.execute_reply": "2024-05-05T03:14:16.118559Z",
     "shell.execute_reply.started": "2024-05-05T03:14:16.093456Z"
    }
   },
   "outputs": [],
   "source": [
    "import os\n",
    "root_dir = os.getcwd()"
   ]
  },
  {
   "cell_type": "code",
   "execution_count": 2,
   "id": "daef8d7e-5a9f-4bc8-a658-da5390432b44",
   "metadata": {
    "execution": {
     "iopub.execute_input": "2024-05-05T03:14:16.475880Z",
     "iopub.status.busy": "2024-05-05T03:14:16.475458Z",
     "iopub.status.idle": "2024-05-05T03:14:16.483382Z",
     "shell.execute_reply": "2024-05-05T03:14:16.481911Z",
     "shell.execute_reply.started": "2024-05-05T03:14:16.475857Z"
    }
   },
   "outputs": [],
   "source": [
    "code_dir = root_dir + \"/\" + \"Fortran_Code/Cold_Front_Calculator_with_Loop\""
   ]
  },
  {
   "cell_type": "code",
   "execution_count": 3,
   "id": "e069f5b4-a0b2-4b6f-befc-7e1f8e638abe",
   "metadata": {
    "execution": {
     "iopub.execute_input": "2024-05-05T03:14:16.805055Z",
     "iopub.status.busy": "2024-05-05T03:14:16.804691Z",
     "iopub.status.idle": "2024-05-05T03:14:16.829904Z",
     "shell.execute_reply": "2024-05-05T03:14:16.828507Z",
     "shell.execute_reply.started": "2024-05-05T03:14:16.805031Z"
    }
   },
   "outputs": [],
   "source": [
    "os.chdir(code_dir)"
   ]
  },
  {
   "cell_type": "code",
   "execution_count": 4,
   "id": "257328b8-7c26-42f6-ab9f-e4d00d7161ef",
   "metadata": {
    "execution": {
     "iopub.execute_input": "2024-05-05T03:14:17.480673Z",
     "iopub.status.busy": "2024-05-05T03:14:17.480120Z",
     "iopub.status.idle": "2024-05-05T03:14:17.670911Z",
     "shell.execute_reply": "2024-05-05T03:14:17.668900Z",
     "shell.execute_reply.started": "2024-05-05T03:14:17.480649Z"
    }
   },
   "outputs": [],
   "source": [
    "build_status = os.system(\"fpm build 2>/dev/null\")"
   ]
  },
  {
   "cell_type": "code",
   "execution_count": 5,
   "id": "172d2e1b-1b4e-4811-8551-56baaff1ea0a",
   "metadata": {
    "execution": {
     "iopub.execute_input": "2024-05-05T03:14:18.847404Z",
     "iopub.status.busy": "2024-05-05T03:14:18.847196Z",
     "iopub.status.idle": "2024-05-05T03:14:18.892373Z",
     "shell.execute_reply": "2024-05-05T03:14:18.891383Z",
     "shell.execute_reply.started": "2024-05-05T03:14:18.847389Z"
    }
   },
   "outputs": [
    {
     "name": "stdout",
     "output_type": "stream",
     "text": [
      " Temperature after    6.00000000      hours is    22.5000000      degrees.\n",
      " Temperature after    12.0000000      hours is    21.0000000      degrees.\n",
      " Temperature after    18.0000000      hours is    19.5000000      degrees.\n",
      " Temperature after    24.0000000      hours is    18.0000000      degrees.\n",
      " Temperature after    30.0000000      hours is    16.5000000      degrees.\n",
      " Temperature after    36.0000000      hours is    15.0000000      degrees.\n",
      " Temperature after    42.0000000      hours is    13.5000000      degrees.\n",
      " Temperature after    48.0000000      hours is    12.0000000      degrees.\n"
     ]
    }
   ],
   "source": [
    "exec_status = os.system(\"fpm run 2>/dev/null\")"
   ]
  }
 ],
 "metadata": {
  "kernelspec": {
   "display_name": "Python 3 (ipykernel)",
   "language": "python",
   "name": "python3"
  },
  "language_info": {
   "codemirror_mode": {
    "name": "ipython",
    "version": 3
   },
   "file_extension": ".py",
   "mimetype": "text/x-python",
   "name": "python",
   "nbconvert_exporter": "python",
   "pygments_lexer": "ipython3",
   "version": "3.10.14"
  }
 },
 "nbformat": 4,
 "nbformat_minor": 5
}