{
 "cells": [
  {
   "cell_type": "raw",
   "id": "c40b648f-a44a-4480-bbee-93e7a780f45b",
   "metadata": {},
   "source": [
    "---\n",
    "jupytext:\n",
    "  formats: md:myst\n",
    "  text_representation:\n",
    "    extension: .md\n",
    "    format_name: myst\n",
    "kernelspec:\n",
    "  display_name: Python 3\n",
    "  language: python\n",
    "  name: python3\n",
    "---"
   ]
  },
  {
   "cell_type": "markdown",
   "id": "fc63b62e-3ea6-4588-8b6e-f845bbc6d64c",
   "metadata": {
    "tags": []
   },
   "source": [
    "# Section 7: Pendulum Period Calculator"
   ]
  },
  {
   "cell_type": "markdown",
   "id": "edfc7d7e-9803-4b96-82f1-bc0d47385f43",
   "metadata": {},
   "source": [
    "Adapted from: \"Introduction to Programming using Fortran 95/2003/2008\" by Ed Jorgensen (March 2018 / Version 3.0.51)"
   ]
  },
  {
   "cell_type": "markdown",
   "id": "59ec1bec-3fd7-4061-aa24-c7765d25786f",
   "metadata": {},
   "source": [
    "## Program to Calculate the Period of a Pendulum"
   ]
  },
  {
   "cell_type": "markdown",
   "id": "c36821c7-3b26-404c-8a7c-2f978dfb65d4",
   "metadata": {},
   "source": [
    "```fortran\n",
    "program period\n",
    "\n",
    "    ! Program to calculate the period of a pendulum\n",
    "\n",
    "    ! Declare variables\n",
    "    !   real constants -> gravity, pi\n",
    "    !   reals -> angle, length, alpha\n",
    "\n",
    "    implicit none\n",
    "\n",
    "    real                :: angle, length, pperiod, alpha\n",
    "    real, parameter     :: gravity = 980.0, pi = 3.14159\n",
    "\n",
    "    ! display initial header\n",
    "        \n",
    "        write (*,'(a)') \"Pendulum Period Calculation Program\"\n",
    "        print *\n",
    "\n",
    "    ! prompt for and read the length of the angle values\n",
    "    ! for the website, we will hard code the length and angle\n",
    "\n",
    "        !write (*,'(a)', advance=\"no\") \"Enter the Length and Angle values: \"\n",
    "        !read (*,*) length, angle\n",
    "        length = 1 ! meters\n",
    "        angle = 10 ! degrees\n",
    "\t    write (*, '(a, f8.2, a)') \"The Length is: \", length, \" meters\"\n",
    "\t    write (*, '(a, f8.2, a)') \"The Angle  is: \", angle , \" degrees\"\n",
    "\n",
    "    ! convert degrees to radians\n",
    "        alpha = angle * pi / 180.0\n",
    "\n",
    "    ! calculate the period\n",
    "        pperiod = 2.0 * pi * sqrt(length / gravity) * ( 1.0 + 1.0/4.0 * sin( alpha / 2.0 )**2)\n",
    "\n",
    "    ! display the results\n",
    "        print *\n",
    "        write (*, '(a)') \"Calculating Results......\"\n",
    "        write (*,'(a, f8.2, a)') \"The period is: \", pperiod, \" seconds.\"\n",
    "        print *\n",
    "\n",
    "end program period\n",
    "```"
   ]
  },
  {
   "cell_type": "markdown",
   "id": "4c6b9985-c0cb-4602-8309-4e3369dd3226",
   "metadata": {},
   "source": [
    "The above program is compiled and run using Fortran Package Manager (fpm):"
   ]
  },
  {
   "cell_type": "code",
   "execution_count": 1,
   "id": "e8ba1050-b7b1-4e9e-87bf-28791145e5e7",
   "metadata": {},
   "outputs": [],
   "source": [
    "import os\n",
    "root_dir = os.getcwd()"
   ]
  },
  {
   "cell_type": "code",
   "execution_count": 2,
   "id": "bdaf795d-554a-46e6-b4da-faeb331e1b13",
   "metadata": {},
   "outputs": [],
   "source": [
    "code_dir = root_dir + \"/\" + \"Fortran_Code/Section_7_Period_Calculator\""
   ]
  },
  {
   "cell_type": "code",
   "execution_count": 3,
   "id": "a7d9f1b1-ba0d-4db1-84ef-7a358f0453a6",
   "metadata": {},
   "outputs": [],
   "source": [
    "os.chdir(code_dir)"
   ]
  },
  {
   "cell_type": "code",
   "execution_count": 4,
   "id": "0fbd7621-e800-4235-ab30-80560cc3e1a8",
   "metadata": {},
   "outputs": [
    {
     "name": "stderr",
     "output_type": "stream",
     "text": [
      "Project is up to date\n"
     ]
    }
   ],
   "source": [
    "build_status = os.system(\"fpm build > /dev/null\")"
   ]
  },
  {
   "cell_type": "markdown",
   "id": "d878f58b-29c1-4154-8563-76c07816e722",
   "metadata": {},
   "source": [
    "fpm run output is piped into sed to suppress the status of the run command and only print the output of the executable."
   ]
  },
  {
   "cell_type": "code",
   "execution_count": 5,
   "id": "0483d40b-e849-4574-bcbe-003c81a96dd5",
   "metadata": {},
   "outputs": [
    {
     "name": "stdout",
     "output_type": "stream",
     "text": [
      "\n",
      "The Length is:     1.00 meters\n",
      "The Angle  is:    10.00 degrees\n",
      "\n",
      "Calculating Results......\n",
      "The period is:     0.20 seconds.\n",
      "\n"
     ]
    },
    {
     "name": "stderr",
     "output_type": "stream",
     "text": [
      "Project is up to date\n"
     ]
    }
   ],
   "source": [
    "exec_status = os.system(\"fpm run | sed 1,1d\")"
   ]
  }
 ],
 "metadata": {
  "kernelspec": {
   "display_name": "Python 3 (ipykernel)",
   "language": "python",
   "name": "python3"
  },
  "language_info": {
   "codemirror_mode": {
    "name": "ipython",
    "version": 3
   },
   "file_extension": ".py",
   "mimetype": "text/x-python",
   "name": "python",
   "nbconvert_exporter": "python",
   "pygments_lexer": "ipython3",
   "version": "3.10.13"
  }
 },
 "nbformat": 4,
 "nbformat_minor": 5
}