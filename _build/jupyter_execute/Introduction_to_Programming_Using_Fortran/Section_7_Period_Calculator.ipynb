{
 "cells": [
  {
   "cell_type": "raw",
   "id": "c40b648f-a44a-4480-bbee-93e7a780f45b",
   "metadata": {},
   "source": [
    "---\n",
    "jupytext:\n",
    "  formats: md:myst\n",
    "  text_representation:\n",
    "    extension: .md\n",
    "    format_name: myst\n",
    "kernelspec:\n",
    "  display_name: Python 3\n",
    "  language: python\n",
    "  name: python3\n",
    "---"
   ]
  },
  {
   "cell_type": "markdown",
   "id": "fc63b62e-3ea6-4588-8b6e-f845bbc6d64c",
   "metadata": {
    "tags": []
   },
   "source": [
    "# Section 7: Pendulum Period Calculator"
   ]
  },
  {
   "cell_type": "markdown",
   "id": "edfc7d7e-9803-4b96-82f1-bc0d47385f43",
   "metadata": {},
   "source": [
    "Adapted from: \"Introduction to Programming using Fortran 95/2003/2008\" by Ed Jorgensen (March 2018 / Version 3.0.51)"
   ]
  },
  {
   "cell_type": "markdown",
   "id": "59ec1bec-3fd7-4061-aa24-c7765d25786f",
   "metadata": {},
   "source": [
    "## Program to Calculate the Period of a Pendulum"
   ]
  },
  {
   "cell_type": "markdown",
   "id": "4357b7cf-9b30-4a74-bea8-726520ec0f9d",
   "metadata": {},
   "source": [
    "```{literalinclude} Fortran_Code/Section_7_Period_Calculator/app/section_7_period_calculator.f90\n",
    "---\n",
    "language: fortran\n",
    "---\n",
    "```"
   ]
  },
  {
   "cell_type": "markdown",
   "id": "7a852896-bc97-46aa-9cab-b33e035a4555",
   "metadata": {},
   "source": [
    "## Program Explanation"
   ]
  },
  {
   "cell_type": "markdown",
   "id": "63dd9100-dcb1-40b7-a16c-23cfeec208c7",
   "metadata": {},
   "source": [
    "The following explanation is given by \"Code Copilot\" within ChatGPT 4."
   ]
  },
  {
   "cell_type": "markdown",
   "id": "9634a235-4c34-4ad0-b674-5c14db186e0d",
   "metadata": {},
   "source": [
    "The Fortran program provided is designed to calculate the period of a pendulum based on its length and the angle of displacement. Below is a detailed explanation of the program:\n",
    "\n",
    "### Structure Overview\n",
    "- **Program Name**: `period`\n",
    "- **Purpose**: Calculates the period of a pendulum using the small-angle approximation for simple harmonic motion.\n",
    "\n",
    "### Variable Declaration\n",
    "- **angle**: The initial angle of the pendulum swing (in degrees).\n",
    "- **length**: The length of the pendulum (in meters).\n",
    "- **pperiod**: Calculated period of the pendulum's oscillation (in seconds).\n",
    "- **alpha**: Angle in radians, used in the period calculation formula.\n",
    "- **gravity** and **pi**: Constants representing the acceleration due to gravity (cm/s²) and the mathematical constant Pi, respectively.\n",
    "\n",
    "### Program Flow\n",
    "1. **Header Display**: The program starts by displaying a header \"Pendulum Period Calculation Program\" to indicate its function.\n",
    "\n",
    "2. **Input Handling**:\n",
    "   - In a typical scenario, the program might prompt the user to enter the length and angle. However, for demonstration or specific usage (e.g., on a website), these values are hardcoded with:\n",
    "     - `length = 1` meter\n",
    "     - `angle = 10` degrees\n",
    "   - It then displays these values back to the user.\n",
    "\n",
    "3. **Angle Conversion**:\n",
    "   - The angle input in degrees is converted into radians. This is necessary because trigonometric functions in programming typically expect angles in radians.\n",
    "   - Conversion formula: `alpha = angle * pi / 180.0`\n",
    "\n",
    "4. **Period Calculation**:\n",
    "   - The formula used for calculating the period of a pendulum under the small-angle approximation is:\n",
    "     $$\n",
    "     \\Large T = 2\\pi \\sqrt{\\frac{\\text{length}}{\\text{gravity}}} \\left(1 + \\frac{1}{4} \\sin^2\\left(\\frac{\\alpha}{2}\\right)\\right)\n",
    "     $$\n",
    "   - This formula considers the correction for larger angles using the first term of the Taylor series expansion of the sine function.\n",
    "\n",
    "5. **Result Display**:\n",
    "   - The calculated period of the pendulum is displayed in seconds, formatted to two decimal places.\n",
    "\n",
    "### Final Output\n",
    "The program outputs the formatted results of the pendulum's period calculation, providing a straightforward demonstration of basic physics calculations in Fortran.\n",
    "\n",
    "This program exemplifies good practices in Fortran programming, including clear variable naming, modular steps in calculations, and output formatting. However, note the potential unit discrepancy with the gravity constant, which could lead to incorrect results unless adjusted or documented properly."
   ]
  },
  {
   "cell_type": "markdown",
   "id": "95a01b71-3e03-4fd3-883d-121719f4161e",
   "metadata": {},
   "source": [
    "## Program Compilation and Execution"
   ]
  },
  {
   "cell_type": "markdown",
   "id": "4c6b9985-c0cb-4602-8309-4e3369dd3226",
   "metadata": {},
   "source": [
    "The above program is compiled and run using Fortran Package Manager (fpm):"
   ]
  },
  {
   "cell_type": "code",
   "execution_count": 1,
   "id": "e8ba1050-b7b1-4e9e-87bf-28791145e5e7",
   "metadata": {
    "execution": {
     "iopub.execute_input": "2024-05-09T04:21:54.839313Z",
     "iopub.status.busy": "2024-05-09T04:21:54.838105Z",
     "iopub.status.idle": "2024-05-09T04:21:54.851383Z",
     "shell.execute_reply": "2024-05-09T04:21:54.844249Z",
     "shell.execute_reply.started": "2024-05-09T04:21:54.839286Z"
    }
   },
   "outputs": [],
   "source": [
    "import os\n",
    "root_dir = os.getcwd()"
   ]
  },
  {
   "cell_type": "code",
   "execution_count": 2,
   "id": "bdaf795d-554a-46e6-b4da-faeb331e1b13",
   "metadata": {
    "execution": {
     "iopub.execute_input": "2024-05-09T04:21:55.304720Z",
     "iopub.status.busy": "2024-05-09T04:21:55.304368Z",
     "iopub.status.idle": "2024-05-09T04:21:55.317080Z",
     "shell.execute_reply": "2024-05-09T04:21:55.315302Z",
     "shell.execute_reply.started": "2024-05-09T04:21:55.304697Z"
    }
   },
   "outputs": [],
   "source": [
    "code_dir = root_dir + \"/\" + \"Fortran_Code/Section_7_Period_Calculator\""
   ]
  },
  {
   "cell_type": "code",
   "execution_count": 3,
   "id": "a7d9f1b1-ba0d-4db1-84ef-7a358f0453a6",
   "metadata": {
    "execution": {
     "iopub.execute_input": "2024-05-09T04:21:55.803810Z",
     "iopub.status.busy": "2024-05-09T04:21:55.802607Z",
     "iopub.status.idle": "2024-05-09T04:21:55.810892Z",
     "shell.execute_reply": "2024-05-09T04:21:55.810029Z",
     "shell.execute_reply.started": "2024-05-09T04:21:55.803779Z"
    }
   },
   "outputs": [],
   "source": [
    "os.chdir(code_dir)"
   ]
  },
  {
   "cell_type": "code",
   "execution_count": 4,
   "id": "0fbd7621-e800-4235-ab30-80560cc3e1a8",
   "metadata": {
    "execution": {
     "iopub.execute_input": "2024-05-09T04:22:27.236295Z",
     "iopub.status.busy": "2024-05-09T04:22:27.235848Z",
     "iopub.status.idle": "2024-05-09T04:22:27.312043Z",
     "shell.execute_reply": "2024-05-09T04:22:27.311120Z",
     "shell.execute_reply.started": "2024-05-09T04:22:27.236261Z"
    }
   },
   "outputs": [],
   "source": [
    "build_status = os.system(\"fpm build 2>/dev/null\")"
   ]
  },
  {
   "cell_type": "code",
   "execution_count": 5,
   "id": "0483d40b-e849-4574-bcbe-003c81a96dd5",
   "metadata": {
    "execution": {
     "iopub.execute_input": "2024-05-09T04:22:27.868691Z",
     "iopub.status.busy": "2024-05-09T04:22:27.867495Z",
     "iopub.status.idle": "2024-05-09T04:22:28.060325Z",
     "shell.execute_reply": "2024-05-09T04:22:28.059378Z",
     "shell.execute_reply.started": "2024-05-09T04:22:27.868665Z"
    }
   },
   "outputs": [
    {
     "name": "stdout",
     "output_type": "stream",
     "text": [
      "Pendulum Period Calculation Program\n",
      "\n",
      "The Length is:     1.00 meters\n",
      "The Angle  is:    10.00 degrees\n",
      "\n",
      "Calculating Results......\n",
      "The period is:     0.20 seconds.\n",
      "\n"
     ]
    }
   ],
   "source": [
    "exec_status = os.system(\"fpm run 2>/dev/null\")"
   ]
  }
 ],
 "metadata": {
  "kernelspec": {
   "display_name": "Python 3 (ipykernel)",
   "language": "python",
   "name": "python3"
  },
  "language_info": {
   "codemirror_mode": {
    "name": "ipython",
    "version": 3
   },
   "file_extension": ".py",
   "mimetype": "text/x-python",
   "name": "python",
   "nbconvert_exporter": "python",
   "pygments_lexer": "ipython3",
   "version": "3.10.14"
  }
 },
 "nbformat": 4,
 "nbformat_minor": 5
}