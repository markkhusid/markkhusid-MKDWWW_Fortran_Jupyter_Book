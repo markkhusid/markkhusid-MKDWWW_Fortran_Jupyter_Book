{
 "cells": [
  {
   "cell_type": "raw",
   "id": "c40b648f-a44a-4480-bbee-93e7a780f45b",
   "metadata": {},
   "source": [
    "---\n",
    "jupytext:\n",
    "  formats: md:myst\n",
    "  text_representation:\n",
    "    extension: .md\n",
    "    format_name: myst\n",
    "kernelspec:\n",
    "  display_name: Python 3\n",
    "  language: python\n",
    "  name: python3\n",
    "---"
   ]
  },
  {
   "cell_type": "markdown",
   "id": "fc63b62e-3ea6-4588-8b6e-f845bbc6d64c",
   "metadata": {
    "tags": []
   },
   "source": [
    "# Section 9.3: Difference Between Sum of Squares and Square of Sums"
   ]
  },
  {
   "cell_type": "markdown",
   "id": "edfc7d7e-9803-4b96-82f1-bc0d47385f43",
   "metadata": {},
   "source": [
    "Adapted from: \"Introduction to Programming using Fortran 95/2003/2008\" by Ed Jorgensen (March 2018 / Version 3.0.51)"
   ]
  },
  {
   "cell_type": "markdown",
   "id": "59ec1bec-3fd7-4061-aa24-c7765d25786f",
   "metadata": {},
   "source": [
    "## Program to Calculate the Difference Between the Sum of Squares and the Square of Sums"
   ]
  },
  {
   "cell_type": "markdown",
   "id": "c36821c7-3b26-404c-8a7c-2f978dfb65d4",
   "metadata": {},
   "source": [
    "```fortran\n",
    "program SOSdifference\n",
    "\n",
    "    ! declare variables\n",
    "    implicit none\n",
    "    integer :: i, n, SumOfSqrs = 0, SqrOfSums = 0, difference\n",
    "\n",
    "    ! display initial header\n",
    "\n",
    "    !write (*,*) \"Example Program\"\n",
    "    print *\n",
    "    write (*,'(a)') \"This program calculates the\"\n",
    "    write (*,'(a)') \"difference between sum of squares \"\n",
    "    write (*,'(a)') \"and square of sums\"\n",
    "\n",
    "    ! prompt for and read the n value\n",
    "    !write (*,*) \"Enter N value: \"\n",
    "    !read  (*,*) n\n",
    "    ! Set n = 100 for Jupyter Notebook\n",
    "    n = 100\n",
    "\n",
    "    ! loop from 1 to n\n",
    "\n",
    "    do i = 1, n\n",
    "        ! compute sum of squares\n",
    "        SumOfSqrs = SumOfSqrs + i ** 2\n",
    "\n",
    "        ! compute square of sums\n",
    "        SqrOfSums = SqrOfSums + i\n",
    "    end do\n",
    "\n",
    "    ! square the sums\n",
    "    SqrOfSums = SqrOfSums ** 2\n",
    "\n",
    "    ! compute the difference between sum of squares and square of sums  \n",
    "    difference = SqrOfSums - SumOfSqrs\n",
    "\n",
    "    ! display results\n",
    "    print *\n",
    "    write (*,'(a)') \"Results...\"\n",
    "    print *\n",
    "    write (*, '(a, i5, a, i10)') \"The square of the sums from 1 to \", n, \" is -> \", SqrOfSums\n",
    "    print *\n",
    "    write (*, '(a, i5, a, i10)') \"The sum of the squares from 1 to \", n, \" is -> \", SumOfSqrs\n",
    "    print *\n",
    "    write (*,'(a, i10)') \"The difference between the square of the sums and sum of the squares is -> \", difference\n",
    "    print *\n",
    "end program SOSdifference\n",
    "```"
   ]
  },
  {
   "cell_type": "markdown",
   "id": "4c6b9985-c0cb-4602-8309-4e3369dd3226",
   "metadata": {},
   "source": [
    "The above program is compiled and run using Fortran Package Manager (fpm):"
   ]
  },
  {
   "cell_type": "code",
   "execution_count": 1,
   "id": "e8ba1050-b7b1-4e9e-87bf-28791145e5e7",
   "metadata": {},
   "outputs": [],
   "source": [
    "import os\n",
    "root_dir = os.getcwd()"
   ]
  },
  {
   "cell_type": "code",
   "execution_count": 2,
   "id": "bdaf795d-554a-46e6-b4da-faeb331e1b13",
   "metadata": {},
   "outputs": [],
   "source": [
    "code_dir = root_dir + \"/\" + \"Fortran_Code/Section_9_3_SOS_Difference\""
   ]
  },
  {
   "cell_type": "code",
   "execution_count": 3,
   "id": "a7d9f1b1-ba0d-4db1-84ef-7a358f0453a6",
   "metadata": {},
   "outputs": [],
   "source": [
    "os.chdir(code_dir)"
   ]
  },
  {
   "cell_type": "code",
   "execution_count": 4,
   "id": "0fbd7621-e800-4235-ab30-80560cc3e1a8",
   "metadata": {},
   "outputs": [
    {
     "name": "stderr",
     "output_type": "stream",
     "text": [
      "Project is up to date\n"
     ]
    }
   ],
   "source": [
    "build_status = os.system(\"fpm build > /dev/null\")"
   ]
  },
  {
   "cell_type": "markdown",
   "id": "d878f58b-29c1-4154-8563-76c07816e722",
   "metadata": {},
   "source": [
    "fpm run output is piped into sed to suppress the status of the run command and only print the output of the executable."
   ]
  },
  {
   "cell_type": "code",
   "execution_count": 5,
   "id": "0483d40b-e849-4574-bcbe-003c81a96dd5",
   "metadata": {},
   "outputs": [
    {
     "name": "stdout",
     "output_type": "stream",
     "text": [
      "This program calculates the\n",
      "difference between sum of squares \n",
      "and square of sums\n",
      "\n",
      "Results...\n",
      "\n",
      "The square of the sums from 1 to   100 is ->   25502500\n",
      "\n",
      "The sum of the squares from 1 to   100 is ->     338350\n",
      "\n",
      "The difference between the square of the sums and sum of the squares is ->   25164150\n",
      "\n"
     ]
    },
    {
     "name": "stderr",
     "output_type": "stream",
     "text": [
      "Project is up to date\n"
     ]
    }
   ],
   "source": [
    "exec_status = os.system(\"fpm run | sed 1,1d\")"
   ]
  }
 ],
 "metadata": {
  "kernelspec": {
   "display_name": "Python 3 (ipykernel)",
   "language": "python",
   "name": "python3"
  },
  "language_info": {
   "codemirror_mode": {
    "name": "ipython",
    "version": 3
   },
   "file_extension": ".py",
   "mimetype": "text/x-python",
   "name": "python",
   "nbconvert_exporter": "python",
   "pygments_lexer": "ipython3",
   "version": "3.9.13"
  }
 },
 "nbformat": 4,
 "nbformat_minor": 5
}