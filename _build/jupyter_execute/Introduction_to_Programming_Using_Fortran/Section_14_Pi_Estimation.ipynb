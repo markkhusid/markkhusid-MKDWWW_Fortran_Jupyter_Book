{
 "cells": [
  {
   "cell_type": "raw",
   "id": "c40b648f-a44a-4480-bbee-93e7a780f45b",
   "metadata": {},
   "source": [
    "---\n",
    "jupytext:\n",
    "  formats: md:myst\n",
    "  text_representation:\n",
    "    extension: .md\n",
    "    format_name: myst\n",
    "kernelspec:\n",
    "  display_name: Python 3\n",
    "  language: python\n",
    "  name: python3\n",
    "---"
   ]
  },
  {
   "cell_type": "markdown",
   "id": "fc63b62e-3ea6-4588-8b6e-f845bbc6d64c",
   "metadata": {
    "tags": []
   },
   "source": [
    "# Section 14: Pi Estimation"
   ]
  },
  {
   "cell_type": "markdown",
   "id": "edfc7d7e-9803-4b96-82f1-bc0d47385f43",
   "metadata": {},
   "source": [
    "Adapted from: \"Introduction to Programming using Fortran 95/2003/2008\" by Ed Jorgensen (March 2018 / Version 3.0.51)"
   ]
  },
  {
   "cell_type": "markdown",
   "id": "59ec1bec-3fd7-4061-aa24-c7765d25786f",
   "metadata": {},
   "source": [
    "## Program to Estimate the Value of Pi"
   ]
  },
  {
   "cell_type": "markdown",
   "id": "c36821c7-3b26-404c-8a7c-2f978dfb65d4",
   "metadata": {},
   "source": [
    "```fortran\n",
    "program piestimation\n",
    "\n",
    "! declare variabes\n",
    "\n",
    "implicit none\n",
    "\n",
    "integer                             :: count, alstat, i, incount\n",
    "real                                :: x, y, pi_est, pt\n",
    "real, allocatable, dimension (:,:)  :: points\n",
    "\n",
    "! display inital header\n",
    "    write (*, '(/a/)') \"Program Example - Pi estimation\"\n",
    "\n",
    "! prompt for and obtain count value\n",
    "    ! This section will be skipped for the Jupyter Notebook\n",
    "    !do\n",
    "        ! prompt for count value\n",
    "        ! write (*, '(a)', advance=\"no\") \"Enter Count (100 - 1,000,000): \"\n",
    "\n",
    "        ! read count value\n",
    "        ! read (*,*) count\n",
    "\n",
    "        ! if count is correct, exit loop\n",
    "        !if ( count >= 100 .and. count <= 1000000 ) exit\n",
    "\n",
    "        ! Otherwise, display error message\n",
    "        !write (*, '(a,a,/a)') \"Error, count must be \", &\n",
    "        !    \"between 100 and 1,000,000.\",              &\n",
    "        !    \"Please re-enter.\"\n",
    "\n",
    "    !end do\n",
    "\n",
    "! Set number of estimation points (i.e. count) = 1 million\n",
    "count = 1000000\n",
    "\n",
    "! allocate two dimensional array\n",
    "    allocate (points(count,2), stat=alstat)\n",
    "\n",
    "    ! Check for allocation errors\n",
    "    if ( alstat /= 0 ) then\n",
    "        write (*, '(a,a/a)') \"Error, unable to\",        &\n",
    "            \" allocate memory.\", \"Program terminated.\"\n",
    "        stop\n",
    "    end if\n",
    "\n",
    "\n",
    "! generate points\n",
    "    call random_seed()\n",
    "\n",
    "    ! loop count times\n",
    "    do i = 1, count\n",
    "\n",
    "        ! generate x and y values\n",
    "        call random_number(x)\n",
    "        call random_number(y)\n",
    "\n",
    "        ! place (x,y) values in array\n",
    "        points(i,1) = x\n",
    "        \n",
    "        points(i,2) = y\n",
    "    end do\n",
    "\n",
    "! perform monte carlo estimation\n",
    "\n",
    "    ! set count of samples inside circle = 0\n",
    "    incount = 0\n",
    "\n",
    "    ! loop count times\n",
    "    do i = 1, count\n",
    "\n",
    "    ! if [ sqrt (x(i)^2 + y(i)^2) < 1.0 ]\n",
    "    ! increment count of samples inside circle\n",
    "\n",
    "        pt = points(i,1)**2 + points(i,2)**2\n",
    "        if (sqrt(pt) < 1.0) incount = incount + 1\n",
    "\n",
    "    end do\n",
    "\n",
    "    pi_est = 4.0 * real (incount) / real (count)\n",
    "\n",
    "! display results\n",
    "    write (*, '(a, i10)') \"The number of points to process is -> \", count\n",
    "    print *\n",
    "    write (*, '(a, i10)') \"The number of points inside the circle were -> \", incount\n",
    "    print *\n",
    "    write (*, '(a, f16.8)') \"Estimated Pi Value: \", pi_est\n",
    "    print *\n",
    "end program piestimation\n",
    "```"
   ]
  },
  {
   "cell_type": "markdown",
   "id": "4c6b9985-c0cb-4602-8309-4e3369dd3226",
   "metadata": {},
   "source": [
    "The above program is compiled and run using Fortran Package Manager (fpm):"
   ]
  },
  {
   "cell_type": "code",
   "execution_count": 1,
   "id": "e8ba1050-b7b1-4e9e-87bf-28791145e5e7",
   "metadata": {},
   "outputs": [],
   "source": [
    "import os\n",
    "root_dir = os.getcwd()"
   ]
  },
  {
   "cell_type": "code",
   "execution_count": 2,
   "id": "bdaf795d-554a-46e6-b4da-faeb331e1b13",
   "metadata": {},
   "outputs": [],
   "source": [
    "code_dir = root_dir + \"/\" + \"Fortran_Code/Section_14_Pi_Estimation\""
   ]
  },
  {
   "cell_type": "code",
   "execution_count": 3,
   "id": "a7d9f1b1-ba0d-4db1-84ef-7a358f0453a6",
   "metadata": {},
   "outputs": [],
   "source": [
    "os.chdir(code_dir)"
   ]
  },
  {
   "cell_type": "code",
   "execution_count": 4,
   "id": "0fbd7621-e800-4235-ab30-80560cc3e1a8",
   "metadata": {},
   "outputs": [
    {
     "name": "stderr",
     "output_type": "stream",
     "text": [
      "Project is up to date\n"
     ]
    }
   ],
   "source": [
    "build_status = os.system(\"fpm build > /dev/null\")"
   ]
  },
  {
   "cell_type": "markdown",
   "id": "d878f58b-29c1-4154-8563-76c07816e722",
   "metadata": {},
   "source": [
    "fpm run output is piped into sed to suppress the status of the run command and only print the output of the executable."
   ]
  },
  {
   "cell_type": "code",
   "execution_count": 5,
   "id": "0483d40b-e849-4574-bcbe-003c81a96dd5",
   "metadata": {},
   "outputs": [
    {
     "name": "stdout",
     "output_type": "stream",
     "text": [
      "Program Example - Pi estimation\n",
      "\n",
      "The number of points to process is ->    1000000\n",
      "\n",
      "The number of points inside the circle were ->     785324\n",
      "\n",
      "Estimated Pi Value:       3.14129591\n",
      "\n"
     ]
    },
    {
     "name": "stderr",
     "output_type": "stream",
     "text": [
      "Project is up to date\n"
     ]
    }
   ],
   "source": [
    "exec_status = os.system(\"fpm run | sed 1,1d\")"
   ]
  }
 ],
 "metadata": {
  "kernelspec": {
   "display_name": "Python 3 (ipykernel)",
   "language": "python",
   "name": "python3"
  },
  "language_info": {
   "codemirror_mode": {
    "name": "ipython",
    "version": 3
   },
   "file_extension": ".py",
   "mimetype": "text/x-python",
   "name": "python",
   "nbconvert_exporter": "python",
   "pygments_lexer": "ipython3",
   "version": "3.9.15"
  }
 },
 "nbformat": 4,
 "nbformat_minor": 5
}