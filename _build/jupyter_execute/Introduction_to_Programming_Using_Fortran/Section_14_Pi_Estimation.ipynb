{
 "cells": [
  {
   "cell_type": "raw",
   "id": "c40b648f-a44a-4480-bbee-93e7a780f45b",
   "metadata": {},
   "source": [
    "---\n",
    "jupytext:\n",
    "  formats: md:myst\n",
    "  text_representation:\n",
    "    extension: .md\n",
    "    format_name: myst\n",
    "kernelspec:\n",
    "  display_name: Python 3\n",
    "  language: python\n",
    "  name: python3\n",
    "---"
   ]
  },
  {
   "cell_type": "markdown",
   "id": "fc63b62e-3ea6-4588-8b6e-f845bbc6d64c",
   "metadata": {
    "tags": []
   },
   "source": [
    "# Section 14: Pi Estimation"
   ]
  },
  {
   "cell_type": "markdown",
   "id": "edfc7d7e-9803-4b96-82f1-bc0d47385f43",
   "metadata": {},
   "source": [
    "Adapted from: \"[Introduction to Programming Using Fortran 95/2003/2008](https://open.umn.edu/opentextbooks/textbooks/introduction-to-programming-using-fortran-95-2003-2008)\" by Ed Jorgensen (March 2018 / Version 3.0.51)."
   ]
  },
  {
   "cell_type": "markdown",
   "id": "59ec1bec-3fd7-4061-aa24-c7765d25786f",
   "metadata": {},
   "source": [
    "## Program to Estimate the Value of Pi"
   ]
  },
  {
   "cell_type": "markdown",
   "id": "4357b7cf-9b30-4a74-bea8-726520ec0f9d",
   "metadata": {},
   "source": [
    "```{literalinclude} Fortran_Code/Section_14_Pi_Estimation/app/section_14_pi_estimation.f90\n",
    "---\n",
    "language: fortran\n",
    "---\n",
    "```"
   ]
  },
  {
   "cell_type": "markdown",
   "id": "63dd9100-dcb1-40b7-a16c-23cfeec208c7",
   "metadata": {},
   "source": [
    "The following explanation is given by \"Code Copilot\" within ChatGPT 4."
   ]
  },
  {
   "cell_type": "markdown",
   "id": "b4199259-bcdd-4300-b40e-521188e972e2",
   "metadata": {},
   "source": [
    "The Fortran program `piestimation` is designed to estimate the value of $\\pi$ using a Monte Carlo method. This method is a statistical technique that uses random sampling to approximate mathematical constants or solve mathematical problems. Here's a breakdown of the program's structure and functionality:\n",
    "\n",
    "### Variable Declaration\n",
    "- `count`: The number of random points to be generated for the estimation.\n",
    "- `alstat`: Status variable for array allocation.\n",
    "- `i`: Loop control variable.\n",
    "- `incount`: Counter for the number of points that fall inside the unit circle.\n",
    "- `x`, `y`: Coordinates of a randomly generated point.\n",
    "- `pi_est`: The estimated value of $\\pi$.\n",
    "- `pt`: Temporary variable to store the sum of squares of `x` and `y`.\n",
    "- `points`: A 2-dimensional allocatable array to store the `x` and `y` coordinates of each point.\n",
    "\n",
    "### User Interaction\n",
    "- The program begins by printing a header message to indicate its function.\n",
    "- It initially contains commented-out code that prompts the user to enter a value for `count` with validations to ensure the input is within a specified range (100 to 1,000,000). This interactive portion is omitted in this version, likely to accommodate automated execution environments like Jupyter Notebooks.\n",
    "\n",
    "### Setting Parameters\n",
    "- Directly sets `count` to 1,000,000 for simplicity, meaning one million points will be used for the estimation.\n",
    "\n",
    "### Memory Allocation\n",
    "- Allocates space for the `points` array, which will hold the `x` and `y` coordinates of the randomly generated points. It checks for successful allocation and terminates the program if memory allocation fails.\n",
    "\n",
    "### Random Point Generation\n",
    "- Initializes the random number generator.\n",
    "- Loops `count` times to generate random `x` and `y` coordinates for each point. These coordinates are stored in the `points` array.\n",
    "\n",
    "### Monte Carlo Estimation\n",
    "- Resets the `incount` (inside count) to zero.\n",
    "- Loops through each point, calculating the distance from the origin using the Euclidean distance formula (i.e., checking if $x^2 + y^2 < 1$). If the condition is true, the point is inside the unit circle, and `incount` is incremented.\n",
    "- Calculates the estimated value of $\\pi$ using the formula:\n",
    "$$\n",
    "\t\\pi_{\\text{est}} = 4 \\times \\frac{\\text{incount}}{\\text{count}}\n",
    "$$\n",
    "\tThis formula derives from the ratio of the area of the unit circle to the area of the bounding square (since the radius of the circle is 1, the area of the circle is $\\pi$, and the area of the square is $2^2 = 4$).\n",
    "\n",
    "\t\n",
    "\t### Display Results\n",
    "\t- Prints the total number of points processed.\n",
    "\t- Displays the number of points that fell inside the unit circle.\n",
    "\t- Outputs the estimated value of $\\pi$.\n",
    "\t\n",
    "\tThis program is an excellent example of using random sampling methods for numerical approximation and demonstrates fundamental concepts of probabilistic simulation in Fortran."
   ]
  },
  {
   "cell_type": "markdown",
   "id": "95a01b71-3e03-4fd3-883d-121719f4161e",
   "metadata": {},
   "source": [
    "## Program Compilation and Execution"
   ]
  },
  {
   "cell_type": "markdown",
   "id": "4c6b9985-c0cb-4602-8309-4e3369dd3226",
   "metadata": {},
   "source": [
    "The above program is compiled and run using Fortran Package Manager (fpm):"
   ]
  },
  {
   "cell_type": "code",
   "execution_count": 1,
   "id": "e8ba1050-b7b1-4e9e-87bf-28791145e5e7",
   "metadata": {
    "execution": {
     "iopub.execute_input": "2024-05-12T02:15:59.988300Z",
     "iopub.status.busy": "2024-05-12T02:15:59.987954Z",
     "iopub.status.idle": "2024-05-12T02:15:59.992554Z",
     "shell.execute_reply": "2024-05-12T02:15:59.992205Z",
     "shell.execute_reply.started": "2024-05-12T02:15:59.988276Z"
    }
   },
   "outputs": [],
   "source": [
    "import os\n",
    "root_dir = os.getcwd()"
   ]
  },
  {
   "cell_type": "code",
   "execution_count": 2,
   "id": "bdaf795d-554a-46e6-b4da-faeb331e1b13",
   "metadata": {
    "execution": {
     "iopub.execute_input": "2024-05-12T02:16:00.512629Z",
     "iopub.status.busy": "2024-05-12T02:16:00.512273Z",
     "iopub.status.idle": "2024-05-12T02:16:00.530853Z",
     "shell.execute_reply": "2024-05-12T02:16:00.529929Z",
     "shell.execute_reply.started": "2024-05-12T02:16:00.512606Z"
    }
   },
   "outputs": [],
   "source": [
    "code_dir = root_dir + \"/\" + \"Fortran_Code/Section_14_Pi_Estimation\""
   ]
  },
  {
   "cell_type": "code",
   "execution_count": 3,
   "id": "a7d9f1b1-ba0d-4db1-84ef-7a358f0453a6",
   "metadata": {
    "execution": {
     "iopub.execute_input": "2024-05-12T02:16:01.071940Z",
     "iopub.status.busy": "2024-05-12T02:16:01.071520Z",
     "iopub.status.idle": "2024-05-12T02:16:01.082903Z",
     "shell.execute_reply": "2024-05-12T02:16:01.081318Z",
     "shell.execute_reply.started": "2024-05-12T02:16:01.071918Z"
    }
   },
   "outputs": [],
   "source": [
    "os.chdir(code_dir)"
   ]
  },
  {
   "cell_type": "code",
   "execution_count": 4,
   "id": "0fbd7621-e800-4235-ab30-80560cc3e1a8",
   "metadata": {
    "execution": {
     "iopub.execute_input": "2024-05-12T02:16:01.396081Z",
     "iopub.status.busy": "2024-05-12T02:16:01.393509Z",
     "iopub.status.idle": "2024-05-12T02:16:01.501413Z",
     "shell.execute_reply": "2024-05-12T02:16:01.500108Z",
     "shell.execute_reply.started": "2024-05-12T02:16:01.396051Z"
    }
   },
   "outputs": [],
   "source": [
    "build_status = os.system(\"fpm build 2>/dev/null\")"
   ]
  },
  {
   "cell_type": "code",
   "execution_count": 5,
   "id": "0483d40b-e849-4574-bcbe-003c81a96dd5",
   "metadata": {
    "execution": {
     "iopub.execute_input": "2024-05-12T02:16:01.835548Z",
     "iopub.status.busy": "2024-05-12T02:16:01.835231Z",
     "iopub.status.idle": "2024-05-12T02:16:01.918177Z",
     "shell.execute_reply": "2024-05-12T02:16:01.917023Z",
     "shell.execute_reply.started": "2024-05-12T02:16:01.835528Z"
    }
   },
   "outputs": [
    {
     "name": "stdout",
     "output_type": "stream",
     "text": [
      "\n",
      "Program Example - Pi estimation\n",
      "\n",
      "The number of points to process is ->    1000000\n",
      "\n",
      "The number of points inside the circle were ->     785890\n",
      "\n",
      "Estimated Pi Value:       3.14355993\n",
      "\n"
     ]
    }
   ],
   "source": [
    "exec_status = os.system(\"fpm run 2>/dev/null\")"
   ]
  }
 ],
 "metadata": {
  "kernelspec": {
   "display_name": "Python 3 (ipykernel)",
   "language": "python",
   "name": "python3"
  },
  "language_info": {
   "codemirror_mode": {
    "name": "ipython",
    "version": 3
   },
   "file_extension": ".py",
   "mimetype": "text/x-python",
   "name": "python",
   "nbconvert_exporter": "python",
   "pygments_lexer": "ipython3",
   "version": "3.10.14"
  }
 },
 "nbformat": 4,
 "nbformat_minor": 5
}