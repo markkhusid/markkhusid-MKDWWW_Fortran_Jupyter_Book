{
 "cells": [
  {
   "cell_type": "raw",
   "id": "c40b648f-a44a-4480-bbee-93e7a780f45b",
   "metadata": {},
   "source": [
    "---\n",
    "jupytext:\n",
    "  formats: md:myst\n",
    "  text_representation:\n",
    "    extension: .md\n",
    "    format_name: myst\n",
    "kernelspec:\n",
    "  display_name: Python 3\n",
    "  language: python\n",
    "  name: python3\n",
    "---"
   ]
  },
  {
   "cell_type": "markdown",
   "id": "fc63b62e-3ea6-4588-8b6e-f845bbc6d64c",
   "metadata": {
    "tags": []
   },
   "source": [
    "# Section 12.8: Line Numbers"
   ]
  },
  {
   "cell_type": "markdown",
   "id": "edfc7d7e-9803-4b96-82f1-bc0d47385f43",
   "metadata": {},
   "source": [
    "Adapted from: \"[Introduction to Programming Using Fortran 95/2003/2008](https://open.umn.edu/opentextbooks/textbooks/introduction-to-programming-using-fortran-95-2003-2008)\" by Ed Jorgensen (March 2018 / Version 3.0.51)."
   ]
  },
  {
   "cell_type": "markdown",
   "id": "59ec1bec-3fd7-4061-aa24-c7765d25786f",
   "metadata": {},
   "source": [
    "## Program to add line numbers to each line in a text file"
   ]
  },
  {
   "cell_type": "markdown",
   "id": "4357b7cf-9b30-4a74-bea8-726520ec0f9d",
   "metadata": {},
   "source": [
    "```{literalinclude} Fortran_Code/Section_12_8_Line_Numbers/app/section_12_8_line_numbers.f90\n",
    "---\n",
    "language: fortran\n",
    "---\n",
    "```"
   ]
  },
  {
   "cell_type": "markdown",
   "id": "63dd9100-dcb1-40b7-a16c-23cfeec208c7",
   "metadata": {},
   "source": [
    "The following explanation is given by \"Code Copilot\" within ChatGPT 4."
   ]
  },
  {
   "cell_type": "markdown",
   "id": "c47e7be8-51ba-44b0-97c6-7ace109667c8",
   "metadata": {},
   "source": [
    "The Fortran program you're inquiring about seems to involve reading data from an input file, manipulating or processing this data in some way, and then writing the output to another file, formatting it with line numbers. Based on the content of the input and output files, here’s a likely explanation:\n",
    "\n",
    "### Program Description\n",
    "\n",
    "1. **Input Handling**: The program reads lines from an input file named `input_test_file.txt`, which contains the following text:\n",
    "   ```\n",
    "   this is a test 1\n",
    "   this is another test line 345\n",
    "   one more line if you please\n",
    "   ```\n",
    "\n",
    "2. **Processing**: The main functionality of the program likely involves:\n",
    "   - Reading each line from the input file.\n",
    "   - Keeping track of the line numbers as it reads each line.\n",
    "\n",
    "3. **Output Handling**: The output of the program is written to another file named `output_test_file.txt`. Each line of the input file is prefixed with its line number in a formatted manner, shown as follows:\n",
    "   ```\n",
    "         1  this is a test 1\n",
    "         2  this is another test line 345\n",
    "         3  one more line if you please\n",
    "   ```\n",
    "   The line numbers are formatted to be right-aligned, possibly using formatted output capabilities in Fortran, which allows specifying field widths and alignments.\n",
    "\n",
    "### Likely Code Structure\n",
    "The program might include:\n",
    "- Opening and reading from the input file.\n",
    "- Looping through each line, incrementing a line counter.\n",
    "- Writing each line to the output file with the line number formatted to be right-aligned.\n",
    "- Closing both the input and output files after processing is complete.\n",
    "\n",
    "This approach is commonly used in programs that need to display or log data with line numbers for easier tracking and referencing, particularly useful in contexts like debugging or data reviewing. If you need the actual Fortran code or further explanation on how it could be implemented, please let me know!"
   ]
  },
  {
   "cell_type": "markdown",
   "id": "95a01b71-3e03-4fd3-883d-121719f4161e",
   "metadata": {},
   "source": [
    "## Program Compilation and Execution"
   ]
  },
  {
   "cell_type": "markdown",
   "id": "4c6b9985-c0cb-4602-8309-4e3369dd3226",
   "metadata": {},
   "source": [
    "The above program is compiled and run using Fortran Package Manager (fpm):"
   ]
  },
  {
   "cell_type": "code",
   "execution_count": 1,
   "id": "e8ba1050-b7b1-4e9e-87bf-28791145e5e7",
   "metadata": {
    "execution": {
     "iopub.execute_input": "2024-05-12T00:49:47.210766Z",
     "iopub.status.busy": "2024-05-12T00:49:47.210475Z",
     "iopub.status.idle": "2024-05-12T00:49:47.276889Z",
     "shell.execute_reply": "2024-05-12T00:49:47.259265Z",
     "shell.execute_reply.started": "2024-05-12T00:49:47.210745Z"
    }
   },
   "outputs": [],
   "source": [
    "import os\n",
    "root_dir = os.getcwd()"
   ]
  },
  {
   "cell_type": "code",
   "execution_count": 2,
   "id": "bdaf795d-554a-46e6-b4da-faeb331e1b13",
   "metadata": {
    "execution": {
     "iopub.execute_input": "2024-05-12T00:49:48.002722Z",
     "iopub.status.busy": "2024-05-12T00:49:48.002348Z",
     "iopub.status.idle": "2024-05-12T00:49:48.007607Z",
     "shell.execute_reply": "2024-05-12T00:49:48.007231Z",
     "shell.execute_reply.started": "2024-05-12T00:49:48.002701Z"
    }
   },
   "outputs": [],
   "source": [
    "code_dir = root_dir + \"/\" + \"Fortran_Code/Section_12_8_Line_Numbers\""
   ]
  },
  {
   "cell_type": "code",
   "execution_count": 3,
   "id": "a7d9f1b1-ba0d-4db1-84ef-7a358f0453a6",
   "metadata": {
    "execution": {
     "iopub.execute_input": "2024-05-12T00:49:48.475038Z",
     "iopub.status.busy": "2024-05-12T00:49:48.474735Z",
     "iopub.status.idle": "2024-05-12T00:49:48.480921Z",
     "shell.execute_reply": "2024-05-12T00:49:48.480340Z",
     "shell.execute_reply.started": "2024-05-12T00:49:48.475016Z"
    }
   },
   "outputs": [],
   "source": [
    "os.chdir(code_dir)"
   ]
  },
  {
   "cell_type": "code",
   "execution_count": 4,
   "id": "0fbd7621-e800-4235-ab30-80560cc3e1a8",
   "metadata": {
    "execution": {
     "iopub.execute_input": "2024-05-12T00:49:48.949506Z",
     "iopub.status.busy": "2024-05-12T00:49:48.949176Z",
     "iopub.status.idle": "2024-05-12T00:49:48.996304Z",
     "shell.execute_reply": "2024-05-12T00:49:48.995841Z",
     "shell.execute_reply.started": "2024-05-12T00:49:48.949483Z"
    }
   },
   "outputs": [],
   "source": [
    "build_status = os.system(\"fpm build 2>/dev/null\")"
   ]
  },
  {
   "cell_type": "code",
   "execution_count": 5,
   "id": "0483d40b-e849-4574-bcbe-003c81a96dd5",
   "metadata": {
    "execution": {
     "iopub.execute_input": "2024-05-12T00:49:50.137015Z",
     "iopub.status.busy": "2024-05-12T00:49:50.136027Z",
     "iopub.status.idle": "2024-05-12T00:49:50.227281Z",
     "shell.execute_reply": "2024-05-12T00:49:50.226390Z",
     "shell.execute_reply.started": "2024-05-12T00:49:50.136346Z"
    }
   },
   "outputs": [
    {
     "name": "stdout",
     "output_type": "stream",
     "text": [
      "\n",
      "Line Number Example Program\n",
      "\n",
      "Opened input file for reading -> input_test_file.txt           \n",
      "\n",
      "Opened output file for writing -> output_test_file.txt          \n",
      "\n",
      "Processing input file and writing output file....\n",
      "\n",
      "Read line from input file -> this is a test 1                                                                                                                    \n",
      "Wrote line to output file ->          1  this is a test 1                                                                                                                    \n",
      "Read line from input file -> this is another test line 345                                                                                                       \n",
      "Wrote line to output file ->          2  this is another test line 345                                                                                                       \n",
      "Read line from input file -> one more line if you please                                                                                                         \n",
      "Wrote line to output file ->          3  one more line if you please                                                                                                         \n",
      "\n"
     ]
    }
   ],
   "source": [
    "exec_status = os.system(\"fpm run 2>/dev/null\")"
   ]
  }
 ],
 "metadata": {
  "kernelspec": {
   "display_name": "Python 3 (ipykernel)",
   "language": "python",
   "name": "python3"
  },
  "language_info": {
   "codemirror_mode": {
    "name": "ipython",
    "version": 3
   },
   "file_extension": ".py",
   "mimetype": "text/x-python",
   "name": "python",
   "nbconvert_exporter": "python",
   "pygments_lexer": "ipython3",
   "version": "3.10.14"
  }
 },
 "nbformat": 4,
 "nbformat_minor": 5
}