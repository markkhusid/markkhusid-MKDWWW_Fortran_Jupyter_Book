{
 "cells": [
  {
   "cell_type": "raw",
   "id": "c40b648f-a44a-4480-bbee-93e7a780f45b",
   "metadata": {},
   "source": [
    "---\n",
    "jupytext:\n",
    "  formats: md:myst\n",
    "  text_representation:\n",
    "    extension: .md\n",
    "    format_name: myst\n",
    "kernelspec:\n",
    "  display_name: Python 3\n",
    "  language: python\n",
    "  name: python3\n",
    "---"
   ]
  },
  {
   "cell_type": "markdown",
   "id": "fc63b62e-3ea6-4588-8b6e-f845bbc6d64c",
   "metadata": {
    "tags": []
   },
   "source": [
    "# Section 12.8: Line Numbers"
   ]
  },
  {
   "cell_type": "markdown",
   "id": "edfc7d7e-9803-4b96-82f1-bc0d47385f43",
   "metadata": {},
   "source": [
    "Adapted from: \"Introduction to Programming using Fortran 95/2003/2008\" by Ed Jorgensen (March 2018 / Version 3.0.51)"
   ]
  },
  {
   "cell_type": "markdown",
   "id": "59ec1bec-3fd7-4061-aa24-c7765d25786f",
   "metadata": {},
   "source": [
    "## Program to add line numbers to each line in a text file"
   ]
  },
  {
   "cell_type": "markdown",
   "id": "c36821c7-3b26-404c-8a7c-2f978dfb65d4",
   "metadata": {},
   "source": [
    "```fortran\n",
    "program linenumbers\n",
    "\n",
    "! declare variables\n",
    "\n",
    "implicit none\n",
    "\n",
    "integer             :: i, rdopst, wropst, rdst\n",
    "character(30)       :: rdfile, wrfile\n",
    "character(132)      :: line\n",
    "\n",
    "! --------------------\n",
    "! dsiplay initial header\n",
    "\n",
    "print *\n",
    "write (*,'(a)') \"Line Number Example Program\"\n",
    "\n",
    "! --------------------\n",
    "! Set rdfile to input_test_file.txt for Jupyter Notebook\n",
    "rdfile = \"input_test_file.txt\"\n",
    "\n",
    "open (  12, file = rdfile, status = \"old\",      &\n",
    "        action = \"read\", position = \"rewind\",   &\n",
    "        iostat = rdopst )\n",
    "\n",
    "! Check if file exists\n",
    "print * ! skip a line on screen\n",
    "if (rdopst /= 0) then\n",
    "    write (*, '(a,a)', advance = \"no\") \"Unable to open input file -> \", rdfile\n",
    "    stop\n",
    "else\n",
    "    write (*, '(a,a)', advance=\"no\") \"Opened input file for reading -> \", rdfile\n",
    "end if\n",
    "print * ! skip a line on screen\n",
    "\n",
    "! --------------------\n",
    "! Set wrfile to output_test_file for Jupyter Notebook\n",
    "\n",
    "wrfile = \"output_test_file.txt\"\n",
    "\n",
    "open (  14, file = wrfile, status = \"replace\",  &\n",
    "        action = \"write\", position = \"rewind\",  &\n",
    "        iostat = wropst )\n",
    "\n",
    "print * ! skip a line on screen\n",
    "if (wropst /= 0) then\n",
    "    write (*, '(a,a)', advance=\"no\") \"Unable to open output file -> \", wrfile\n",
    "    stop\n",
    "else \n",
    "    write (*, '(a,a)', advance=\"no\") \"Opened output file for writing -> \", wrfile\n",
    "end if\n",
    "print * ! skip a line on screen\n",
    "\n",
    "! --------------------\n",
    "! Process input file and add line numbers.  Write result to output file\n",
    "print * ! skip a line on screen\n",
    "write (*, '(a)') \"Processing input file and writing output file....\"\n",
    "print * ! skip a line on screen\n",
    "i = 1\n",
    "do\n",
    "    ! read line from input file\n",
    "    read (12, '(a)', iostat = rdst) line\n",
    "\n",
    "    ! if end of file, exit loop\n",
    "    if (rdst > 0) stop \"read error\"\n",
    "    if (rdst < 0) exit\n",
    "\n",
    "    write (*, '(a, a)', advance=\"no\") \"Read line from input file -> \", line\n",
    "\n",
    "    ! write line number and line to output file\n",
    "    write (14, '(i10, 2x, a)') i, line\n",
    "    print * ! skip line on screen\n",
    "    write (*, '(a, i10, 2x, a)', advance=\"no\") \"Wrote line to output file -> \", i, line\n",
    "    print * ! skip line on sreen\n",
    "    i = i + 1\n",
    "        \n",
    "end do\n",
    "\n",
    "print * ! skip line on screen\n",
    "\n",
    "! close files\n",
    "\n",
    "close (12)\n",
    "close (14)\n",
    "\n",
    "end program linenumbers\n",
    "```"
   ]
  },
  {
   "cell_type": "markdown",
   "id": "4c6b9985-c0cb-4602-8309-4e3369dd3226",
   "metadata": {},
   "source": [
    "The above program is compiled and run using Fortran Package Manager (fpm):"
   ]
  },
  {
   "cell_type": "code",
   "execution_count": 1,
   "id": "e8ba1050-b7b1-4e9e-87bf-28791145e5e7",
   "metadata": {},
   "outputs": [],
   "source": [
    "import os\n",
    "root_dir = os.getcwd()"
   ]
  },
  {
   "cell_type": "code",
   "execution_count": 2,
   "id": "bdaf795d-554a-46e6-b4da-faeb331e1b13",
   "metadata": {},
   "outputs": [],
   "source": [
    "code_dir = root_dir + \"/\" + \"Fortran_Code/Section_12_8_Line_Numbers\""
   ]
  },
  {
   "cell_type": "code",
   "execution_count": 3,
   "id": "a7d9f1b1-ba0d-4db1-84ef-7a358f0453a6",
   "metadata": {},
   "outputs": [],
   "source": [
    "os.chdir(code_dir)"
   ]
  },
  {
   "cell_type": "code",
   "execution_count": 4,
   "id": "0fbd7621-e800-4235-ab30-80560cc3e1a8",
   "metadata": {},
   "outputs": [],
   "source": [
    "build_status = os.system(\"fpm build > /dev/null\")"
   ]
  },
  {
   "cell_type": "markdown",
   "id": "d878f58b-29c1-4154-8563-76c07816e722",
   "metadata": {},
   "source": [
    "fpm run output is piped into sed to suppress the status of the run command and only print the output of the executable."
   ]
  },
  {
   "cell_type": "code",
   "execution_count": 5,
   "id": "0483d40b-e849-4574-bcbe-003c81a96dd5",
   "metadata": {},
   "outputs": [
    {
     "name": "stdout",
     "output_type": "stream",
     "text": [
      "Line Number Example Program\n",
      "\n",
      "Opened input file for reading -> input_test_file.txt           \n",
      "\n",
      "Opened output file for writing -> output_test_file.txt          \n",
      "\n",
      "Processing input file and writing output file....\n",
      "\n",
      "Read line from input file -> this is a test 1                                                                                                                    \n",
      "Wrote line to output file ->          1  this is a test 1                                                                                                                    \n",
      "Read line from input file -> this is another test line 345                                                                                                       \n",
      "Wrote line to output file ->          2  this is another test line 345                                                                                                       \n",
      "Read line from input file -> one more line if you please                                                             "
     ]
    },
    {
     "name": "stderr",
     "output_type": "stream",
     "text": [
      "Project is up to date\n"
     ]
    },
    {
     "name": "stdout",
     "output_type": "stream",
     "text": [
      "                                            \n",
      "Wrote line to output file ->          3  one more line if you please                                                                                                         \n",
      "\n"
     ]
    }
   ],
   "source": [
    "exec_status = os.system(\"fpm run | sed 1,1d\")"
   ]
  }
 ],
 "metadata": {
  "kernelspec": {
   "display_name": "Python 3 (ipykernel)",
   "language": "python",
   "name": "python3"
  },
  "language_info": {
   "codemirror_mode": {
    "name": "ipython",
    "version": 3
   },
   "file_extension": ".py",
   "mimetype": "text/x-python",
   "name": "python",
   "nbconvert_exporter": "python",
   "pygments_lexer": "ipython3",
   "version": "3.10.6"
  }
 },
 "nbformat": 4,
 "nbformat_minor": 5
}