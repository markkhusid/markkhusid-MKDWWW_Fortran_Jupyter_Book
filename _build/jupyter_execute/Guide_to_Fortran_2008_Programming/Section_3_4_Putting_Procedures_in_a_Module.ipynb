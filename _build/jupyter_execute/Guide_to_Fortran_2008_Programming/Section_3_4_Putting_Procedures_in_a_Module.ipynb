{
 "cells": [
  {
   "cell_type": "raw",
   "id": "c40b648f-a44a-4480-bbee-93e7a780f45b",
   "metadata": {},
   "source": [
    "---\n",
    "jupytext:\n",
    "  formats: md:myst\n",
    "  text_representation:\n",
    "    extension: .md\n",
    "    format_name: myst\n",
    "kernelspec:\n",
    "  display_name: Python 3\n",
    "  language: python\n",
    "  name: python3\n",
    "---"
   ]
  },
  {
   "cell_type": "markdown",
   "id": "fc63b62e-3ea6-4588-8b6e-f845bbc6d64c",
   "metadata": {
    "tags": []
   },
   "source": [
    "# Section 3.4: Putting Procedures in a Module"
   ]
  },
  {
   "cell_type": "markdown",
   "id": "edfc7d7e-9803-4b96-82f1-bc0d47385f43",
   "metadata": {},
   "source": [
    "Adapted from: \"Guide to Fortran 2008 Programming\" by Walter S. Brainerd (Springer 2015)"
   ]
  },
  {
   "cell_type": "markdown",
   "id": "59ec1bec-3fd7-4061-aa24-c7765d25786f",
   "metadata": {},
   "source": [
    "## Program that demonstrates putting procedures into a module."
   ]
  },
  {
   "cell_type": "markdown",
   "id": "c36821c7-3b26-404c-8a7c-2f978dfb65d4",
   "metadata": {},
   "source": [
    "```fortran\n",
    "module sort_3_module\n",
    "\n",
    "    implicit none\n",
    "    private\n",
    "    real :: n1, n2, n3\n",
    "\n",
    "    public ::   read_the_numbers, &\n",
    "                sort_the_numbers, &\n",
    "                print_the_numbers\n",
    "\n",
    "    private swap\n",
    "\n",
    "contains\n",
    "\n",
    "    subroutine swap(a, b)\n",
    "        real, intent(in out) :: a, b\n",
    "        real temp\n",
    "        temp = a\n",
    "        a = b\n",
    "        b = temp\n",
    "    end subroutine swap\n",
    "\n",
    "    subroutine read_the_numbers()\n",
    "        !print *, \"Enter three numbers separated by spaces:\"\n",
    "        read *, n1, n2, n3\n",
    "        write (*, '(a, f20.3)') \"Input data n1:\", n1\n",
    "        write (*, '(a, f20.3)') \"Input data n2:\", n2\n",
    "        write (*, '(a, f20.3)') \"Input data n3:\", n3\n",
    "   end subroutine read_the_numbers\n",
    "\n",
    "   subroutine sort_the_numbers()\n",
    "        if (n1 > n2) then\n",
    "            call swap(n1, n2)\n",
    "        end if\n",
    "        if (n1 > n3) then\n",
    "            call swap(n1, n3)\n",
    "        end if\n",
    "        if (n2 > n3) then\n",
    "            call swap(n2, n3)\n",
    "        end if\n",
    "    end subroutine sort_the_numbers\n",
    "\n",
    "    subroutine print_the_numbers()\n",
    "        write (*, '(a)') \"The numbers, in ascending order, are:\"\n",
    "        write (*, '(3f20.3)') n1, n2, n3\n",
    "    end subroutine print_the_numbers\n",
    "\n",
    "end module sort_3_module\n",
    "\n",
    "program sort_3\n",
    "\n",
    "    use sort_3_module\n",
    "    implicit none\n",
    "\n",
    "    call read_the_numbers()\n",
    "    call sort_the_numbers()\n",
    "    call print_the_numbers()\n",
    "\n",
    "end program sort_3\n",
    "```"
   ]
  },
  {
   "cell_type": "markdown",
   "id": "4c6b9985-c0cb-4602-8309-4e3369dd3226",
   "metadata": {},
   "source": [
    "The above program is compiled and run using Fortran Package Manager (fpm):"
   ]
  },
  {
   "cell_type": "code",
   "execution_count": 1,
   "id": "e8ba1050-b7b1-4e9e-87bf-28791145e5e7",
   "metadata": {},
   "outputs": [],
   "source": [
    "import os\n",
    "root_dir = os.getcwd()"
   ]
  },
  {
   "cell_type": "code",
   "execution_count": 2,
   "id": "bdaf795d-554a-46e6-b4da-faeb331e1b13",
   "metadata": {},
   "outputs": [],
   "source": [
    "code_dir = root_dir + \"/\" + \"Fortran_Code/Section_3_4_Putting_Procedures_in_a_Module\""
   ]
  },
  {
   "cell_type": "code",
   "execution_count": 3,
   "id": "a7d9f1b1-ba0d-4db1-84ef-7a358f0453a6",
   "metadata": {},
   "outputs": [],
   "source": [
    "os.chdir(code_dir)"
   ]
  },
  {
   "cell_type": "code",
   "execution_count": 4,
   "id": "0fbd7621-e800-4235-ab30-80560cc3e1a8",
   "metadata": {},
   "outputs": [
    {
     "name": "stdout",
     "output_type": "stream",
     "text": [
      "[  0%] libSection_3_4_Putting_Procedu\n",
      "[ 33%] libSection_3_4_Putting_Procedu  done.\n",
      "[ 33%] section_3_4_putting_procedures\n",
      "[ 66%] section_3_4_putting_procedures  done.\n",
      "[ 66%] Section_3_4_Putting_Procedures\n",
      "[100%] Section_3_4_Putting_Procedures  done.\n",
      "[100%] Project compiled successfully.\n"
     ]
    }
   ],
   "source": [
    "build_status = os.system(\"fpm build 2>/dev/null\")"
   ]
  },
  {
   "cell_type": "code",
   "execution_count": 5,
   "id": "0483d40b-e849-4574-bcbe-003c81a96dd5",
   "metadata": {},
   "outputs": [
    {
     "name": "stdout",
     "output_type": "stream",
     "text": [
      "Input data n1:             819.234\n",
      "Input data n2:          122381.898\n",
      "Input data n3:            1718.979\n",
      "The numbers, in ascending order, are:\n",
      "             819.234            1718.979          122381.898\n"
     ]
    }
   ],
   "source": [
    "exec_status = os.system(\"echo '819.234 122381.899 1718.9787' | fpm run 2>/dev/null\")"
   ]
  }
 ],
 "metadata": {
  "kernelspec": {
   "display_name": "Python 3.9.2 64-bit",
   "language": "python",
   "name": "python3"
  },
  "language_info": {
   "codemirror_mode": {
    "name": "ipython",
    "version": 3
   },
   "file_extension": ".py",
   "mimetype": "text/x-python",
   "name": "python",
   "nbconvert_exporter": "python",
   "pygments_lexer": "ipython3",
   "version": "3.10.13"
  },
  "vscode": {
   "interpreter": {
    "hash": "916dbcbb3f70747c44a77c7bcd40155683ae19c65e1c03b4aa3499c5328201f1"
   }
  }
 },
 "nbformat": 4,
 "nbformat_minor": 5
}