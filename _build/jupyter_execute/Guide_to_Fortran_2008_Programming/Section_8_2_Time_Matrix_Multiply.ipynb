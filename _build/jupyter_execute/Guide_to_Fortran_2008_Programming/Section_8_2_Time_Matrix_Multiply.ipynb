{
 "cells": [
  {
   "cell_type": "raw",
   "id": "c40b648f-a44a-4480-bbee-93e7a780f45b",
   "metadata": {},
   "source": [
    "---\n",
    "jupytext:\n",
    "  formats: md:myst\n",
    "  text_representation:\n",
    "    extension: .md\n",
    "    format_name: myst\n",
    "kernelspec:\n",
    "  display_name: Python 3\n",
    "  language: python\n",
    "  name: python3\n",
    "---"
   ]
  },
  {
   "cell_type": "markdown",
   "id": "fc63b62e-3ea6-4588-8b6e-f845bbc6d64c",
   "metadata": {
    "tags": []
   },
   "source": [
    "# Section 8.2: Time Matrix Multiply"
   ]
  },
  {
   "cell_type": "markdown",
   "id": "edfc7d7e-9803-4b96-82f1-bc0d47385f43",
   "metadata": {},
   "source": [
    "Adapted from: \"Guide to Fortran 2008 Programming\" by Walter S. Brainerd (Springer 2015)"
   ]
  },
  {
   "cell_type": "markdown",
   "id": "59ec1bec-3fd7-4061-aa24-c7765d25786f",
   "metadata": {},
   "source": [
    "## Program to demonstrate the performance improvement of using matmul over do loops."
   ]
  },
  {
   "cell_type": "markdown",
   "id": "c36821c7-3b26-404c-8a7c-2f978dfb65d4",
   "metadata": {},
   "source": [
    "```fortran\n",
    "program time_matrix_multiply\n",
    "\n",
    "    ! Compare times of the matmul intrinsic cs DO loops\n",
    "\n",
    "    implicit none\n",
    "    integer, parameter :: n = 10\n",
    "    real, dimension (n, n) :: a, b, c1, c2\n",
    "    character(len=8) :: date\n",
    "    real :: start_time_1, stop_time_1, start_time_2, stop_time_2\n",
    "    real :: total_time_1, total_time_2\n",
    "    integer :: i, j, k\n",
    "    character(len=*), parameter :: form = \"(t2, a, f0.10, a)\"\n",
    "\n",
    "    ! Get date to print on report\n",
    "\n",
    "    call date_and_time(date = date)\n",
    "\n",
    "    print *, \"Timing report dated: \" // date(1:4) &\n",
    "        // \"-\" // date(5:6) // \"-\" // date(7:8)\n",
    "\n",
    "    call random_seed()\n",
    "    call random_number(a)\n",
    "    call random_number(b)\n",
    "    call cpu_time(start_time_1)\n",
    "   \n",
    "    ! Lines below added for effect\n",
    "    ! The matrices of random values will be printed to the screen\n",
    "    write (*, \"(a)\") \"Matrix A\"\n",
    "    write (*, \"(10f10.3)\") (a(i,:), i=1,n)\n",
    "\n",
    "    print *\n",
    "    write (*, \"(a)\") \"Matrix B\"\n",
    "    write (*, \"(10f10.3)\") (b(i,:), i=1,n)\n",
    "\n",
    "    c1 = 0\n",
    "\n",
    "    do k = 1, n\n",
    "        do j = 1, n\n",
    "            do i = 1, n\n",
    "                c1(i, j) = c1(i, j) + a(i, k) * b(k, j)\n",
    "            end do\n",
    "        end do\n",
    "    end do\n",
    "\n",
    "    call cpu_time(stop_time_1)\n",
    "\n",
    "    total_time_1 = stop_time_1 - start_time_1\n",
    "\n",
    "    print *\n",
    "\n",
    "    write (*, \"(a)\") \"Matrix C1 is AxB using loops.\"\n",
    "    write (*, \"(10f10.3)\") (c1(i,:), i=1,n)\n",
    "\n",
    "    call cpu_time(start_time_2)\n",
    "    c2 = matmul(a, b)\n",
    "    call cpu_time(stop_time_2)\n",
    "\n",
    "    total_time_2 = stop_time_2 - start_time_2\n",
    "\n",
    "    print *\n",
    "\n",
    "    write (*, \"(a)\") \"Matrix C2 is AxB using matmul.\"\n",
    "    write (*, \"(10f10.3)\") (c1(i,:), i=1,n)\n",
    "\n",
    "    print *\n",
    "\n",
    "    write (*, form) \"Time of Do loop version is: \", total_time_1, \" seconds.\"\n",
    "    write (*, form) \"Time of matmul version is: \", total_time_2, \" seconds.\"\n",
    "\n",
    "    print *\n",
    "\n",
    "    if (any(abs(c1-c2) > 1.0e-4)) then\n",
    "        write (*,  \"(a)\") \"There are significantly different values between the matrices.\"\n",
    "    else\n",
    "        write (*,  \"(a)\") \"The results are approximately the same.\"\n",
    "    end if\n",
    "\n",
    "    print *\n",
    "    write (*, \"(a, f10.3, a)\") \"The speedup ratio is: \", total_time_1/total_time_2, \"x\"\n",
    "\n",
    "end program time_matrix_multiply\n",
    "```"
   ]
  },
  {
   "cell_type": "markdown",
   "id": "4c6b9985-c0cb-4602-8309-4e3369dd3226",
   "metadata": {},
   "source": [
    "The above program is compiled and run using Fortran Package Manager (fpm):"
   ]
  },
  {
   "cell_type": "code",
   "execution_count": 1,
   "id": "e8ba1050-b7b1-4e9e-87bf-28791145e5e7",
   "metadata": {},
   "outputs": [],
   "source": [
    "import os\n",
    "root_dir = os.getcwd()"
   ]
  },
  {
   "cell_type": "code",
   "execution_count": 2,
   "id": "bdaf795d-554a-46e6-b4da-faeb331e1b13",
   "metadata": {},
   "outputs": [],
   "source": [
    "code_dir = root_dir + \"/\" + \"Fortran_Code/Section_8_2_Time_Matrix_Multiply\""
   ]
  },
  {
   "cell_type": "code",
   "execution_count": 3,
   "id": "a7d9f1b1-ba0d-4db1-84ef-7a358f0453a6",
   "metadata": {},
   "outputs": [],
   "source": [
    "os.chdir(code_dir)"
   ]
  },
  {
   "cell_type": "code",
   "execution_count": 4,
   "id": "0fbd7621-e800-4235-ab30-80560cc3e1a8",
   "metadata": {},
   "outputs": [],
   "source": [
    "build_status = os.system(\"fpm build > /dev/null\")"
   ]
  },
  {
   "cell_type": "markdown",
   "id": "d878f58b-29c1-4154-8563-76c07816e722",
   "metadata": {},
   "source": [
    "fpm run output is piped into sed to suppress the status of the run command and only print the output of the executable."
   ]
  },
  {
   "cell_type": "code",
   "execution_count": 5,
   "id": "0483d40b-e849-4574-bcbe-003c81a96dd5",
   "metadata": {},
   "outputs": [
    {
     "name": "stdout",
     "output_type": "stream",
     "text": [
      " Timing report dated: 2022-05-30\n",
      "Matrix A\n",
      "     0.238     0.089     0.549     0.603     0.789     0.446     0.279     0.865     0.248     0.253\n",
      "     0.001     0.150     0.241     0.314     0.771     0.419     0.225     0.402     0.715     0.398\n",
      "     0.108     0.564     0.479     0.701     0.901     0.783     0.515     0.122     0.729     0.067\n",
      "     0.089     0.338     0.444     0.652     0.730     0.133     0.856     0.450     0.166     0.432\n",
      "     0.980     0.988     0.108     0.660     0.865     0.153     0.368     0.842     0.265     0.088\n",
      "     0.715     0.098     0.561     0.521     0.661     0.244     0.005     0.713     0.670     0.480\n",
      "     0.051     0.240     0.134     0.302     0.320     0.677     0.262     0.524     0.827     0.759\n",
      "     0.025     0.176     0.062     0.750     0.238     0.075     0.029     0.845     0.714     0.491\n",
      "     0.808     0.999     0.956     0.087     0.197     0.788     0.160     0.754     0.552     0.675\n",
      "     0.948     0.641     0.878     0.008     0.562     0.072     0.421     0.165     0.087     0.009\n",
      "\n",
      "Matrix B\n",
      "     0.543     0.620     0.684     0.863     0.154     0.434     0.236     0.479     0.762     0.446\n",
      "     0.472     0.855     0.413     0.656     0.998     0.734     0.908     0.534     0.632     0.613\n",
      "     0.625     0.428     0.381     0.692     0.722     0.011     0.113     0.287     0.001     0.722\n",
      "     0.823     0.508     0.500     0.039     0.782     0.701     0.778     0.292     0.839     0.195\n",
      "     0.484     0.785     0.008     0.988     0.088     0.227     0.420     0.912     0.811     0.178\n",
      "     0.687     0.655     0.062     0.819     0.603     0.516     0.474     0.634     0.893     0.455\n",
      "     0.886     0.004     0.765     0.492     0.707     0.941     0.023     0.664     0.296     0.723\n",
      "     0.266     0.430     0.736     0.154     0.705     0.467     0.008     0.016     0.430     0.503\n",
      "     0.685     0.247     0.027     0.278     0.355     0.634     0.548     0.459     0.572     0.949\n",
      "     0.360     0.810     0.831     0.897     0.319     0.504     0.067     0.501     0.343     0.188\n",
      "\n",
      "Matrix C1 is AxB using loops.\n",
      "     2.437     2.316     1.811     2.379     2.307     1.958     1.377     1.938     2.464     1.939\n",
      "     2.081     1.945     1.162     2.113     1.713     1.779     1.358     1.895     2.144     1.775\n",
      "     3.186     2.619     1.454     2.888     2.755     2.603     2.303     2.725     3.101     2.531\n",
      "     2.614     2.114     2.059     2.386     2.445     2.322     1.398     2.160     2.229     1.970\n",
      "     2.896     3.114     2.447     3.038     2.875     2.842     2.257     2.530     3.416     2.432\n",
      "     2.527     2.572     1.970     2.672     2.122     2.035     1.525     2.029     2.654     2.204\n",
      "     2.304     2.188     1.619     2.298     2.107     2.232     1.450     1.944     2.344     2.072\n",
      "     1.835     1.748     1.566     1.290     1.903     1.882     1.324     1.214     1.968     1.603\n",
      "     3.180     3.488     2.676     3.811     3.428     2.799     2.087     2.610     3.103     3.220\n",
      "     2.174     2.105     1.713     2.725     1.966     1.594     1.240     1.935     1.903     2.056\n",
      "\n",
      "Matrix C2 is AxB using matmul.\n",
      "     2.437     2.316     1.811     2.379     2.307     1.958     1.377     1.938     2.464     1.939\n",
      "     2.081     1.945     1.162     2.113     1.713     1.779     1.358     1.895     2.144     1.775\n",
      "     3.186     2.619     1.454     2.888     2.755     2.603     2.303     2.725     3.101     2.531\n",
      "     2.614     2.114     2.059     2.386     2.445     2.322     1.398     2.160     2.229     1.970\n",
      "     2.896     3.114     2.447     3.038     2.875     2.842     2.257     2.530     3.416     2.432\n",
      "     2.527     2.572     1.970     2.672     2.122     2.035     1.525     2.029     2.654     2.204\n",
      "     2.304     2.188     1.619     2.298     2.107     2.232     1.450     1.944     2.344     2.072\n",
      "     1.835     1.748     1.566     1.290     1.903     1.882     1.324     1.214     1.968     1.603\n",
      "     3.180     3.488     2.676     3.811     3.428     2.799     2.087     2.610     3.103     3.220\n",
      "     2.174     2.105     1.713     2.725     1.966     1.594     1.240     1.935     1.903     2.056\n",
      "\n",
      " Time of Do loop version is: .0002300001 seconds.\n",
      " Time of matmul version is: .0000419999 seconds.\n",
      "\n",
      "The results are approximately the same.\n",
      "\n",
      "The speedup ratio is:      5.476x\n"
     ]
    }
   ],
   "source": [
    "exec_status = os.system(\"fpm run | sed 1,1d\")"
   ]
  },
  {
   "cell_type": "code",
   "execution_count": null,
   "id": "4ddf35b3-f0bf-439d-9e19-6199fba3455a",
   "metadata": {},
   "outputs": [],
   "source": []
  }
 ],
 "metadata": {
  "kernelspec": {
   "display_name": "Python 3 (ipykernel)",
   "language": "python",
   "name": "python3"
  },
  "language_info": {
   "codemirror_mode": {
    "name": "ipython",
    "version": 3
   },
   "file_extension": ".py",
   "mimetype": "text/x-python",
   "name": "python",
   "nbconvert_exporter": "python",
   "pygments_lexer": "ipython3",
   "version": "3.8.13"
  }
 },
 "nbformat": 4,
 "nbformat_minor": 5
}