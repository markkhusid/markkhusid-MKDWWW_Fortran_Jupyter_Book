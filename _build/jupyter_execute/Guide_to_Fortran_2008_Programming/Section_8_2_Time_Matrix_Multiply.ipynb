{
 "cells": [
  {
   "cell_type": "raw",
   "id": "c40b648f-a44a-4480-bbee-93e7a780f45b",
   "metadata": {},
   "source": [
    "---\n",
    "jupytext:\n",
    "  formats: md:myst\n",
    "  text_representation:\n",
    "    extension: .md\n",
    "    format_name: myst\n",
    "kernelspec:\n",
    "  display_name: Python 3\n",
    "  language: python\n",
    "  name: python3\n",
    "---"
   ]
  },
  {
   "cell_type": "markdown",
   "id": "fc63b62e-3ea6-4588-8b6e-f845bbc6d64c",
   "metadata": {
    "tags": []
   },
   "source": [
    "# Section 8.2: Time Matrix Multiply"
   ]
  },
  {
   "cell_type": "markdown",
   "id": "edfc7d7e-9803-4b96-82f1-bc0d47385f43",
   "metadata": {},
   "source": [
    "Adapted from: \"Guide to Fortran 2008 Programming\" by Walter S. Brainerd (Springer 2015)"
   ]
  },
  {
   "cell_type": "markdown",
   "id": "59ec1bec-3fd7-4061-aa24-c7765d25786f",
   "metadata": {},
   "source": [
    "## Program to demonstrate the performance improvement of using matmul over do loops."
   ]
  },
  {
   "cell_type": "markdown",
   "id": "c36821c7-3b26-404c-8a7c-2f978dfb65d4",
   "metadata": {},
   "source": [
    "```fortran\n",
    "program time_matrix_multiply\n",
    "\n",
    "    ! Compare times of the matmul intrinsic cs DO loops\n",
    "\n",
    "    implicit none\n",
    "    integer, parameter :: n = 10\n",
    "    real, dimension (n, n) :: a, b, c1, c2\n",
    "    character(len=8) :: date\n",
    "    real :: start_time_1, stop_time_1, start_time_2, stop_time_2\n",
    "    real :: total_time_1, total_time_2\n",
    "    integer :: i, j, k\n",
    "    character(len=*), parameter :: form = \"(t2, a, f0.10, a)\"\n",
    "\n",
    "    ! Get date to print on report\n",
    "\n",
    "    call date_and_time(date = date)\n",
    "\n",
    "    print *, \"Timing report dated: \" // date(1:4) &\n",
    "        // \"-\" // date(5:6) // \"-\" // date(7:8)\n",
    "\n",
    "    call random_seed()\n",
    "    call random_number(a)\n",
    "    call random_number(b)\n",
    "    call cpu_time(start_time_1)\n",
    "   \n",
    "    ! Lines below added for effect\n",
    "    ! The matrices of random values will be printed to the screen\n",
    "    write (*, \"(a)\") \"Matrix A\"\n",
    "    write (*, \"(10f10.3)\") (a(i,:), i=1,n)\n",
    "\n",
    "    print *\n",
    "    write (*, \"(a)\") \"Matrix B\"\n",
    "    write (*, \"(10f10.3)\") (b(i,:), i=1,n)\n",
    "\n",
    "    c1 = 0\n",
    "\n",
    "    do k = 1, n\n",
    "        do j = 1, n\n",
    "            do i = 1, n\n",
    "                c1(i, j) = c1(i, j) + a(i, k) * b(k, j)\n",
    "            end do\n",
    "        end do\n",
    "    end do\n",
    "\n",
    "    call cpu_time(stop_time_1)\n",
    "\n",
    "    total_time_1 = stop_time_1 - start_time_1\n",
    "\n",
    "    print *\n",
    "\n",
    "    write (*, \"(a)\") \"Matrix C1 is AxB using loops.\"\n",
    "    write (*, \"(10f10.3)\") (c1(i,:), i=1,n)\n",
    "\n",
    "    call cpu_time(start_time_2)\n",
    "    c2 = matmul(a, b)\n",
    "    call cpu_time(stop_time_2)\n",
    "\n",
    "    total_time_2 = stop_time_2 - start_time_2\n",
    "\n",
    "    print *\n",
    "\n",
    "    write (*, \"(a)\") \"Matrix C2 is AxB using matmul.\"\n",
    "    write (*, \"(10f10.3)\") (c1(i,:), i=1,n)\n",
    "\n",
    "    print *\n",
    "\n",
    "    write (*, form) \"Time of Do loop version is: \", total_time_1, \" seconds.\"\n",
    "    write (*, form) \"Time of matmul version is: \", total_time_2, \" seconds.\"\n",
    "\n",
    "    print *\n",
    "\n",
    "    if (any(abs(c1-c2) > 1.0e-4)) then\n",
    "        write (*,  \"(a)\") \"There are significantly different values between the matrices.\"\n",
    "    else\n",
    "        write (*,  \"(a)\") \"The results are approximately the same.\"\n",
    "    end if\n",
    "\n",
    "    print *\n",
    "    write (*, \"(a, f10.3, a)\") \"The speedup ratio is: \", total_time_1/total_time_2, \"x\"\n",
    "\n",
    "end program time_matrix_multiply\n",
    "```"
   ]
  },
  {
   "cell_type": "markdown",
   "id": "4c6b9985-c0cb-4602-8309-4e3369dd3226",
   "metadata": {},
   "source": [
    "The above program is compiled and run using Fortran Package Manager (fpm):"
   ]
  },
  {
   "cell_type": "code",
   "execution_count": 1,
   "id": "e8ba1050-b7b1-4e9e-87bf-28791145e5e7",
   "metadata": {},
   "outputs": [],
   "source": [
    "import os\n",
    "root_dir = os.getcwd()"
   ]
  },
  {
   "cell_type": "code",
   "execution_count": 2,
   "id": "bdaf795d-554a-46e6-b4da-faeb331e1b13",
   "metadata": {},
   "outputs": [],
   "source": [
    "code_dir = root_dir + \"/\" + \"Fortran_Code/Section_8_2_Time_Matrix_Multiply\""
   ]
  },
  {
   "cell_type": "code",
   "execution_count": 3,
   "id": "a7d9f1b1-ba0d-4db1-84ef-7a358f0453a6",
   "metadata": {},
   "outputs": [],
   "source": [
    "os.chdir(code_dir)"
   ]
  },
  {
   "cell_type": "code",
   "execution_count": 4,
   "id": "0fbd7621-e800-4235-ab30-80560cc3e1a8",
   "metadata": {},
   "outputs": [],
   "source": [
    "build_status = os.system(\"fpm build > /dev/null\")"
   ]
  },
  {
   "cell_type": "markdown",
   "id": "d878f58b-29c1-4154-8563-76c07816e722",
   "metadata": {},
   "source": [
    "fpm run output is piped into sed to suppress the status of the run command and only print the output of the executable."
   ]
  },
  {
   "cell_type": "code",
   "execution_count": 5,
   "id": "0483d40b-e849-4574-bcbe-003c81a96dd5",
   "metadata": {},
   "outputs": [
    {
     "name": "stdout",
     "output_type": "stream",
     "text": [
      " Timing report dated: 2022-06-20\n",
      "Matrix A\n",
      "     0.808     0.715     0.145     0.883     0.607     0.526     0.897     0.725     0.061     0.935\n",
      "     0.729     0.688     0.474     0.051     0.544     0.169     0.139     0.849     0.274     0.086\n",
      "     0.379     0.576     0.636     0.147     0.614     0.729     0.820     0.541     0.412     0.735\n",
      "     0.000     0.839     0.861     0.389     0.620     0.943     0.181     0.659     0.002     0.105\n",
      "     0.643     0.622     0.307     0.152     0.227     0.079     0.712     0.725     0.120     0.006\n",
      "     0.648     0.994     0.040     0.421     0.686     0.690     0.912     0.425     0.451     0.175\n",
      "     0.997     0.998     0.799     0.750     0.976     0.176     0.065     0.567     0.295     0.966\n",
      "     0.041     0.910     0.359     0.658     0.197     0.332     0.227     0.092     0.801     0.891\n",
      "     0.338     0.712     0.350     0.681     0.237     0.273     0.572     0.092     0.732     0.744\n",
      "     0.152     0.524     0.789     0.455     0.319     0.235     0.796     0.752     0.734     0.273\n",
      "\n",
      "Matrix B\n",
      "     0.517     0.624     0.926     0.717     0.634     0.216     0.789     0.803     0.151     0.793\n",
      "     0.040     0.225     0.276     0.794     0.268     0.265     0.271     0.813     0.883     0.986\n",
      "     0.311     0.495     0.528     0.732     0.099     0.408     0.090     0.663     0.122     0.562\n",
      "     0.407     0.272     0.796     0.167     0.333     0.099     0.489     0.592     0.884     0.640\n",
      "     0.546     0.015     0.165     0.143     0.971     0.179     0.775     0.955     0.986     0.331\n",
      "     0.583     0.486     0.132     0.186     0.913     0.386     0.137     0.469     0.803     0.112\n",
      "     0.097     0.420     0.845     0.469     0.061     0.540     0.944     0.971     0.594     0.602\n",
      "     0.259     0.575     0.829     0.888     0.086     0.353     0.045     0.061     0.540     0.769\n",
      "     0.357     0.618     0.002     0.628     0.411     0.946     0.282     0.578     0.214     0.381\n",
      "     0.298     0.372     0.348     0.033     0.003     0.553     0.764     0.093     0.664     0.509\n",
      "\n",
      "Matrix C1 is AxB using loops.\n",
      "     2.064     2.420     3.579     2.718     2.226     2.138     3.429     3.712     4.131     3.848\n",
      "     1.325     1.695     2.118     2.526     1.587     1.382     1.585     2.440     2.150     2.637\n",
      "     1.823     2.268     2.559     2.590     2.037     2.330     2.636     3.345     3.320     3.045\n",
      "     1.569     1.683     1.958     2.300     1.972     1.477     1.386     2.745     3.093     2.540\n",
      "     0.987     1.569     2.303     2.306     1.104     1.273     1.707     2.375     1.951     2.512\n",
      "     1.747     2.079     2.619     2.674     2.396     2.017     2.756     3.771     3.568     3.227\n",
      "     2.291     2.441     3.263     3.140     2.513     2.172     3.182     3.958     3.946     4.124\n",
      "     1.335     1.725     1.658     1.934     1.372     2.031     1.956     2.516     2.843     2.620\n",
      "     1.441     1.889     2.132     2.096     1.492     2.066     2.364     2.893     2.818     2.784\n",
      "     1.458     2.168     2.541     2.779     1.407     2.228     2.035     3.024     2.705     2.979\n",
      "\n",
      "Matrix C2 is AxB using matmul.\n",
      "     2.064     2.420     3.579     2.718     2.226     2.138     3.429     3.712     4.131     3.848\n",
      "     1.325     1.695     2.118     2.526     1.587     1.382     1.585     2.440     2.150     2.637\n",
      "     1.823     2.268     2.559     2.590     2.037     2.330     2.636     3.345     3.320     3.045\n",
      "     1.569     1.683     1.958     2.300     1.972     1.477     1.386     2.745     3.093     2.540\n",
      "     0.987     1.569     2.303     2.306     1.104     1.273     1.707     2.375     1.951     2.512\n",
      "     1.747     2.079     2.619     2.674     2.396     2.017     2.756     3.771     3.568     3.227\n",
      "     2.291     2.441     3.263     3.140     2.513     2.172     3.182     3.958     3.946     4.124\n",
      "     1.335     1.725     1.658     1.934     1.372     2.031     1.956     2.516     2.843     2.620\n",
      "     1.441     1.889     2.132     2.096     1.492     2.066     2.364     2.893     2.818     2.784\n",
      "     1.458     2.168     2.541     2.779  "
     ]
    },
    {
     "name": "stdout",
     "output_type": "stream",
     "text": [
      "   1.407     2.228     2.035     3.024     2.705     2.979\n",
      "\n",
      " Time of Do loop version is: .0014549997 seconds.\n",
      " Time of matmul version is: .0000569997 seconds.\n",
      "\n",
      "The results are approximately the same.\n",
      "\n",
      "The speedup ratio is:     25.526x\n"
     ]
    }
   ],
   "source": [
    "exec_status = os.system(\"fpm run | sed 1,1d\")"
   ]
  },
  {
   "cell_type": "code",
   "execution_count": null,
   "id": "4ddf35b3-f0bf-439d-9e19-6199fba3455a",
   "metadata": {},
   "outputs": [],
   "source": []
  }
 ],
 "metadata": {
  "kernelspec": {
   "display_name": "Python 3 (ipykernel)",
   "language": "python",
   "name": "python3"
  },
  "language_info": {
   "codemirror_mode": {
    "name": "ipython",
    "version": 3
   },
   "file_extension": ".py",
   "mimetype": "text/x-python",
   "name": "python",
   "nbconvert_exporter": "python",
   "pygments_lexer": "ipython3",
   "version": "3.8.13"
  }
 },
 "nbformat": 4,
 "nbformat_minor": 5
}