{
 "cells": [
  {
   "cell_type": "raw",
   "id": "c40b648f-a44a-4480-bbee-93e7a780f45b",
   "metadata": {},
   "source": [
    "---\n",
    "jupytext:\n",
    "  formats: md:myst\n",
    "  text_representation:\n",
    "    extension: .md\n",
    "    format_name: myst\n",
    "kernelspec:\n",
    "  display_name: Python 3\n",
    "  language: python\n",
    "  name: python3\n",
    "---"
   ]
  },
  {
   "cell_type": "markdown",
   "id": "fc63b62e-3ea6-4588-8b6e-f845bbc6d64c",
   "metadata": {
    "tags": []
   },
   "source": [
    "# Section 8.2: Time Matrix Multiply"
   ]
  },
  {
   "cell_type": "markdown",
   "id": "edfc7d7e-9803-4b96-82f1-bc0d47385f43",
   "metadata": {},
   "source": [
    "Adapted from: \"Guide to Fortran 2008 Programming\" by Walter S. Brainerd (Springer 2015)"
   ]
  },
  {
   "cell_type": "markdown",
   "id": "59ec1bec-3fd7-4061-aa24-c7765d25786f",
   "metadata": {},
   "source": [
    "## Program to demonstrate the performance improvement of using matmul over do loops."
   ]
  },
  {
   "cell_type": "markdown",
   "id": "c36821c7-3b26-404c-8a7c-2f978dfb65d4",
   "metadata": {},
   "source": [
    "```fortran\n",
    "program time_matrix_multiply\n",
    "\n",
    "    ! Compare times of the matmul intrinsic cs DO loops\n",
    "\n",
    "    implicit none\n",
    "    integer, parameter :: n = 10\n",
    "    real, dimension (n, n) :: a, b, c1, c2\n",
    "    character(len=8) :: date\n",
    "    real :: start_time_1, stop_time_1, start_time_2, stop_time_2\n",
    "    real :: total_time_1, total_time_2\n",
    "    integer :: i, j, k\n",
    "    character(len=*), parameter :: form = \"(t2, a, f0.10, a)\"\n",
    "\n",
    "    ! Get date to print on report\n",
    "\n",
    "    call date_and_time(date = date)\n",
    "\n",
    "    print *, \"Timing report dated: \" // date(1:4) &\n",
    "        // \"-\" // date(5:6) // \"-\" // date(7:8)\n",
    "\n",
    "    call random_seed()\n",
    "    call random_number(a)\n",
    "    call random_number(b)\n",
    "    call cpu_time(start_time_1)\n",
    "   \n",
    "    ! Lines below added for effect\n",
    "    ! The matrices of random values will be printed to the screen\n",
    "    write (*, \"(a)\") \"Matrix A\"\n",
    "    write (*, \"(10f10.3)\") (a(i,:), i=1,n)\n",
    "\n",
    "    print *\n",
    "    write (*, \"(a)\") \"Matrix B\"\n",
    "    write (*, \"(10f10.3)\") (b(i,:), i=1,n)\n",
    "\n",
    "    c1 = 0\n",
    "\n",
    "    do k = 1, n\n",
    "        do j = 1, n\n",
    "            do i = 1, n\n",
    "                c1(i, j) = c1(i, j) + a(i, k) * b(k, j)\n",
    "            end do\n",
    "        end do\n",
    "    end do\n",
    "\n",
    "    call cpu_time(stop_time_1)\n",
    "\n",
    "    total_time_1 = stop_time_1 - start_time_1\n",
    "\n",
    "    print *\n",
    "\n",
    "    write (*, \"(a)\") \"Matrix C1 is AxB using loops.\"\n",
    "    write (*, \"(10f10.3)\") (c1(i,:), i=1,n)\n",
    "\n",
    "    call cpu_time(start_time_2)\n",
    "    c2 = matmul(a, b)\n",
    "    call cpu_time(stop_time_2)\n",
    "\n",
    "    total_time_2 = stop_time_2 - start_time_2\n",
    "\n",
    "    print *\n",
    "\n",
    "    write (*, \"(a)\") \"Matrix C2 is AxB using matmul.\"\n",
    "    write (*, \"(10f10.3)\") (c1(i,:), i=1,n)\n",
    "\n",
    "    print *\n",
    "\n",
    "    write (*, form) \"Time of Do loop version is: \", total_time_1, \" seconds.\"\n",
    "    write (*, form) \"Time of matmul version is: \", total_time_2, \" seconds.\"\n",
    "\n",
    "    print *\n",
    "\n",
    "    if (any(abs(c1-c2) > 1.0e-4)) then\n",
    "        write (*,  \"(a)\") \"There are significantly different values between the matrices.\"\n",
    "    else\n",
    "        write (*,  \"(a)\") \"The results are approximately the same.\"\n",
    "    end if\n",
    "\n",
    "    print *\n",
    "    write (*, \"(a, f10.3, a)\") \"The speedup ratio is: \", total_time_1/total_time_2, \"x\"\n",
    "\n",
    "end program time_matrix_multiply\n",
    "```"
   ]
  },
  {
   "cell_type": "markdown",
   "id": "4c6b9985-c0cb-4602-8309-4e3369dd3226",
   "metadata": {},
   "source": [
    "The above program is compiled and run using Fortran Package Manager (fpm):"
   ]
  },
  {
   "cell_type": "code",
   "execution_count": 1,
   "id": "e8ba1050-b7b1-4e9e-87bf-28791145e5e7",
   "metadata": {},
   "outputs": [],
   "source": [
    "import os\n",
    "root_dir = os.getcwd()"
   ]
  },
  {
   "cell_type": "code",
   "execution_count": 2,
   "id": "bdaf795d-554a-46e6-b4da-faeb331e1b13",
   "metadata": {},
   "outputs": [],
   "source": [
    "code_dir = root_dir + \"/\" + \"Fortran_Code/Section_8_2_Time_Matrix_Multiply\""
   ]
  },
  {
   "cell_type": "code",
   "execution_count": 3,
   "id": "a7d9f1b1-ba0d-4db1-84ef-7a358f0453a6",
   "metadata": {},
   "outputs": [],
   "source": [
    "os.chdir(code_dir)"
   ]
  },
  {
   "cell_type": "code",
   "execution_count": 4,
   "id": "0fbd7621-e800-4235-ab30-80560cc3e1a8",
   "metadata": {},
   "outputs": [
    {
     "name": "stdout",
     "output_type": "stream",
     "text": [
      "[  0%] section_8_2_time_matrix_multip\n",
      "[ 50%] section_8_2_time_matrix_multip  done.\n",
      "[ 50%] Section_8_2_Time_Matrix_Multip\n",
      "[100%] Section_8_2_Time_Matrix_Multip  done.\n",
      "[100%] Project compiled successfully.\n"
     ]
    }
   ],
   "source": [
    "build_status = os.system(\"fpm build 2>/dev/null\")"
   ]
  },
  {
   "cell_type": "code",
   "execution_count": 5,
   "id": "0483d40b-e849-4574-bcbe-003c81a96dd5",
   "metadata": {},
   "outputs": [
    {
     "name": "stdout",
     "output_type": "stream",
     "text": [
      " Timing report dated: 2023-12-26\n",
      "Matrix A\n",
      "     0.392     0.117     0.102     0.897     0.521     0.101     0.492     0.932     0.118     0.910\n",
      "     0.329     0.923     0.698     0.287     0.777     0.093     0.733     0.691     0.867     0.992\n",
      "     0.788     0.716     0.120     0.019     0.050     0.479     0.580     0.977     0.179     0.250\n",
      "     0.719     0.275     0.871     0.549     0.699     0.472     0.858     0.487     0.374     0.520\n",
      "     0.240     0.211     0.135     0.824     0.307     0.755     0.145     0.042     0.556     0.343\n",
      "     0.893     0.653     0.760     0.929     0.974     0.672     0.407     0.253     0.163     0.588\n",
      "     0.157     0.384     0.564     0.180     0.478     0.752     0.161     0.125     0.352     0.089\n",
      "     0.356     0.484     0.082     0.016     0.686     0.887     0.466     0.694     0.060     0.727\n",
      "     0.931     0.617     0.548     0.572     0.953     0.511     0.813     0.073     0.536     0.533\n",
      "     0.822     0.079     0.860     0.944     0.101     0.308     0.974     0.908     0.011     0.550\n",
      "\n",
      "Matrix B\n",
      "     0.805     0.247     0.362     0.313     0.877     0.454     0.322     0.476     0.424     0.418\n",
      "     0.094     0.120     0.029     0.677     0.161     0.865     0.554     0.546     0.525     0.021\n",
      "     0.179     0.569     0.827     0.980     0.643     0.001     0.140     0.161     0.485     0.676\n",
      "     0.120     0.471     0.792     0.901     0.249     0.062     0.406     0.872     0.147     0.055\n",
      "     0.672     0.255     0.817     0.890     0.242     0.320     0.552     0.099     0.888     0.163\n",
      "     0.431     0.439     0.651     0.256     0.167     0.824     0.761     0.539     0.397     0.961\n",
      "     0.520     0.283     0.460     0.090     0.010     0.561     0.778     0.758     0.517     0.496\n",
      "     0.508     0.521     0.515     0.533     0.307     0.446     0.869     0.029     0.892     0.418\n",
      "     0.412     0.264     0.942     0.953     0.264     0.170     0.440     0.081     0.205     0.877\n",
      "     0.928     0.807     0.594     0.321     0.166     0.266     0.506     0.815     0.934     0.501\n",
      "\n",
      "Matrix C1 is AxB using loops.\n",
      "     2.468     2.159     2.790     2.545     1.267     1.539     2.638     2.306     2.871     1.659\n",
      "     3.083     2.561     3.746     3.965     1.774     2.423     3.385     2.606     3.832     2.771\n",
      "     2.068     1.503     1.861     1.856     1.374     2.247     2.571     1.751     2.447     1.872\n",
      "     2.830     2.366     3.609     3.363     1.962     2.113     2.991     2.554     3.201     2.710\n",
      "     1.511     1.446     2.416     2.235     0.955     1.349     1.859     1.843     1.517     1.766\n",
      "     2.924     2.477     3.760     3.857     2.178     2.419     3.086     2.980     3.376     2.501\n",
      "     1.304     1.218     2.080     2.087     0.996     1.417     1.685     1.211     1.640     1.751\n",
      "     2.486     1.861     2.423     2.074     1.115     2.307     2.814     1.978     2.960     2.118\n",
      "     3.011     2.193     3.607     3.535     1.987     2.440     3.067     2.833     3.211     2.621\n",
      "     2.619     2.503     3.295     2.932     1.979     1.888     2.932     2.787     2.987     2.439\n",
      "\n",
      "Matrix C2 is AxB using matmul.\n",
      "     2.468     2.159     2.790     2.545     1.267     1.539     2.638     2.306     2.871     1.659\n",
      "     3.083     2.561     3.746     3.965     1.774     2.423     3.385     2.606     3.832     2.771\n",
      "     2.068     1.503     1.861     1.856     1.374     2.247     2.571     1.751     2.447     1.872\n",
      "     2.830     2.366     3.609     3.363     1.962     2.113     2.991     2.554     3.201     2.710\n",
      "     1.511     1.446     2.416     2.235     0.955     1.349     1.859     1.843     1.517     1.766\n",
      "     2.924     2.477     3.760     3.857     2.178     2.419     3.086     2.980     3.376     2.501\n",
      "     1.304     1.218     2.080     2.087     0.996     1.417     1.685     1.211     1.640     1.751\n",
      "     2.486     1.861     2.423     2.074     1.115     2.307     2.814     1.978     2.960     2.118\n",
      "     3.011     2.193     3.607     3.535     1.987     2.440     3.067     2.833     3.211     2.621\n",
      "     2.619     2.503     3.295     2.932     1.979     1.888     2.932     2.787     2.987     2.439\n",
      "\n",
      " Time of Do loop version is: .0001050001 seconds.\n",
      " Time of matmul version is: .0003430001 seconds.\n",
      "\n",
      "The results are approximately the same.\n",
      "\n",
      "The speedup ratio is:      0.306x\n"
     ]
    }
   ],
   "source": [
    "exec_status = os.system(\"fpm run 2>/dev/null\")"
   ]
  }
 ],
 "metadata": {
  "kernelspec": {
   "display_name": "Python 3.9.2 64-bit",
   "language": "python",
   "name": "python3"
  },
  "language_info": {
   "codemirror_mode": {
    "name": "ipython",
    "version": 3
   },
   "file_extension": ".py",
   "mimetype": "text/x-python",
   "name": "python",
   "nbconvert_exporter": "python",
   "pygments_lexer": "ipython3",
   "version": "3.10.13"
  },
  "vscode": {
   "interpreter": {
    "hash": "916dbcbb3f70747c44a77c7bcd40155683ae19c65e1c03b4aa3499c5328201f1"
   }
  }
 },
 "nbformat": 4,
 "nbformat_minor": 5
}