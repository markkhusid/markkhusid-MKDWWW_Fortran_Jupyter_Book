{
 "cells": [
  {
   "cell_type": "raw",
   "id": "c40b648f-a44a-4480-bbee-93e7a780f45b",
   "metadata": {},
   "source": [
    "---\n",
    "jupytext:\n",
    "  formats: md:myst\n",
    "  text_representation:\n",
    "    extension: .md\n",
    "    format_name: myst\n",
    "kernelspec:\n",
    "  display_name: Python 3\n",
    "  language: python\n",
    "  name: python3\n",
    "---"
   ]
  },
  {
   "cell_type": "markdown",
   "id": "fc63b62e-3ea6-4588-8b6e-f845bbc6d64c",
   "metadata": {
    "tags": []
   },
   "source": [
    "# Section 8.2: Time Matrix Multiply"
   ]
  },
  {
   "cell_type": "markdown",
   "id": "edfc7d7e-9803-4b96-82f1-bc0d47385f43",
   "metadata": {},
   "source": [
    "Adapted from: \"Guide to Fortran 2008 Programming\" by Walter S. Brainerd (Springer 2015)"
   ]
  },
  {
   "cell_type": "markdown",
   "id": "59ec1bec-3fd7-4061-aa24-c7765d25786f",
   "metadata": {},
   "source": [
    "## Program to demonstrate the performance improvement of using matmul over do loops."
   ]
  },
  {
   "cell_type": "markdown",
   "id": "c36821c7-3b26-404c-8a7c-2f978dfb65d4",
   "metadata": {},
   "source": [
    "```fortran\n",
    "program time_matrix_multiply\n",
    "\n",
    "    ! Compare times of the matmul intrinsic cs DO loops\n",
    "\n",
    "    implicit none\n",
    "    integer, parameter :: n = 10\n",
    "    real, dimension (n, n) :: a, b, c1, c2\n",
    "    character(len=8) :: date\n",
    "    real :: start_time_1, stop_time_1, start_time_2, stop_time_2\n",
    "    real :: total_time_1, total_time_2\n",
    "    integer :: i, j, k\n",
    "    character(len=*), parameter :: form = \"(t2, a, f0.10, a)\"\n",
    "\n",
    "    ! Get date to print on report\n",
    "\n",
    "    call date_and_time(date = date)\n",
    "\n",
    "    print *, \"Timing report dated: \" // date(1:4) &\n",
    "        // \"-\" // date(5:6) // \"-\" // date(7:8)\n",
    "\n",
    "    call random_seed()\n",
    "    call random_number(a)\n",
    "    call random_number(b)\n",
    "    call cpu_time(start_time_1)\n",
    "   \n",
    "    ! Lines below added for effect\n",
    "    ! The matrices of random values will be printed to the screen\n",
    "    write (*, \"(a)\") \"Matrix A\"\n",
    "    write (*, \"(10f10.3)\") (a(i,:), i=1,n)\n",
    "\n",
    "    print *\n",
    "    write (*, \"(a)\") \"Matrix B\"\n",
    "    write (*, \"(10f10.3)\") (b(i,:), i=1,n)\n",
    "\n",
    "    c1 = 0\n",
    "\n",
    "    do k = 1, n\n",
    "        do j = 1, n\n",
    "            do i = 1, n\n",
    "                c1(i, j) = c1(i, j) + a(i, k) * b(k, j)\n",
    "            end do\n",
    "        end do\n",
    "    end do\n",
    "\n",
    "    call cpu_time(stop_time_1)\n",
    "\n",
    "    total_time_1 = stop_time_1 - start_time_1\n",
    "\n",
    "    print *\n",
    "\n",
    "    write (*, \"(a)\") \"Matrix C1 is AxB using loops.\"\n",
    "    write (*, \"(10f10.3)\") (c1(i,:), i=1,n)\n",
    "\n",
    "    call cpu_time(start_time_2)\n",
    "    c2 = matmul(a, b)\n",
    "    call cpu_time(stop_time_2)\n",
    "\n",
    "    total_time_2 = stop_time_2 - start_time_2\n",
    "\n",
    "    print *\n",
    "\n",
    "    write (*, \"(a)\") \"Matrix C2 is AxB using matmul.\"\n",
    "    write (*, \"(10f10.3)\") (c1(i,:), i=1,n)\n",
    "\n",
    "    print *\n",
    "\n",
    "    write (*, form) \"Time of Do loop version is: \", total_time_1, \" seconds.\"\n",
    "    write (*, form) \"Time of matmul version is: \", total_time_2, \" seconds.\"\n",
    "\n",
    "    print *\n",
    "\n",
    "    if (any(abs(c1-c2) > 1.0e-4)) then\n",
    "        write (*,  \"(a)\") \"There are significantly different values between the matrices.\"\n",
    "    else\n",
    "        write (*,  \"(a)\") \"The results are approximately the same.\"\n",
    "    end if\n",
    "\n",
    "    print *\n",
    "    write (*, \"(a, f10.3, a)\") \"The speedup ratio is: \", total_time_1/total_time_2, \"x\"\n",
    "\n",
    "end program time_matrix_multiply\n",
    "```"
   ]
  },
  {
   "cell_type": "markdown",
   "id": "4c6b9985-c0cb-4602-8309-4e3369dd3226",
   "metadata": {},
   "source": [
    "The above program is compiled and run using Fortran Package Manager (fpm):"
   ]
  },
  {
   "cell_type": "code",
   "execution_count": 1,
   "id": "e8ba1050-b7b1-4e9e-87bf-28791145e5e7",
   "metadata": {},
   "outputs": [],
   "source": [
    "import os\n",
    "root_dir = os.getcwd()"
   ]
  },
  {
   "cell_type": "code",
   "execution_count": 2,
   "id": "bdaf795d-554a-46e6-b4da-faeb331e1b13",
   "metadata": {},
   "outputs": [],
   "source": [
    "code_dir = root_dir + \"/\" + \"Fortran_Code/Section_8_2_Time_Matrix_Multiply\""
   ]
  },
  {
   "cell_type": "code",
   "execution_count": 3,
   "id": "a7d9f1b1-ba0d-4db1-84ef-7a358f0453a6",
   "metadata": {},
   "outputs": [],
   "source": [
    "os.chdir(code_dir)"
   ]
  },
  {
   "cell_type": "code",
   "execution_count": 4,
   "id": "0fbd7621-e800-4235-ab30-80560cc3e1a8",
   "metadata": {},
   "outputs": [
    {
     "name": "stderr",
     "output_type": "stream",
     "text": [
      "Project is up to date\n"
     ]
    }
   ],
   "source": [
    "build_status = os.system(\"fpm build > /dev/null\")"
   ]
  },
  {
   "cell_type": "markdown",
   "id": "d878f58b-29c1-4154-8563-76c07816e722",
   "metadata": {},
   "source": [
    "fpm run output is piped into sed to suppress the status of the run command and only print the output of the executable."
   ]
  },
  {
   "cell_type": "code",
   "execution_count": 5,
   "id": "0483d40b-e849-4574-bcbe-003c81a96dd5",
   "metadata": {},
   "outputs": [
    {
     "name": "stdout",
     "output_type": "stream",
     "text": [
      "Matrix A\n",
      "     0.824     0.196     0.936     0.254     0.287     0.077     0.688     0.019     0.706     0.760\n",
      "     0.816     0.714     0.824     0.534     0.991     0.430     0.206     0.661     0.854     0.598\n",
      "     0.659     0.506     0.737     0.304     0.662     0.846     0.901     0.337     0.419     0.084\n",
      "     0.718     0.770     0.835     0.709     0.737     0.838     0.532     0.992     0.521     0.140\n",
      "     0.704     0.758     0.584     0.331     0.557     0.826     0.171     0.482     0.660     0.165\n",
      "     0.373     0.021     0.766     0.005     0.485     0.350     0.813     0.033     0.252     0.129\n",
      "     0.081     0.013     0.907     0.789     0.666     0.557     0.344     0.424     0.937     0.832\n",
      "     0.993     0.889     0.488     0.236     0.224     0.444     0.993     0.595     0.176     0.651\n",
      "     0.655     0.088     0.105     0.322     0.024     0.615     0.714     0.551     0.611     0.954\n",
      "     0.514     0.425     0.279     0.845     0.361     0.533     0.025     0.006     0.661     0.907\n",
      "\n",
      "Matrix B\n",
      "     0.520     0.022     0.241     0.323     0.209     0.133     0.001     0.624     0.523     0.649\n",
      "     0.751     0.104     0.161     0.792     0.390     0.038     0.655     0.633     0.318     0.503\n",
      "     0.645     0.377     0.467     0.726     0.806     0.740     0.050     0.631     0.606     0.001\n",
      "     0.339     0.855     0.466     0.101     0.616     0.660     0.122     0.582     0.573     0.659\n",
      "     0.947     0.107     0.858     0.658     0.206     0.595     0.953     0.312     0.849     0.846\n",
      "     0.426     0.198     0.517     0.746     0.353     0.971     0.586     0.475     0.570     0.261\n",
      "     0.136     0.761     0.697     0.478     0.773     0.629     0.018     0.432     0.678     0.354\n",
      "     0.756     0.021     0.245     0.486     0.725     0.932     0.883     0.132     0.529     0.453\n",
      "     0.400     0.680     0.678     0.249     0.462     0.920     0.866     0.968     0.817     0.158\n",
      "     0.698     0.042     0.893     0.765     0.775     0.846     0.084     0.169     0.575     0.385\n",
      "\n",
      "Matrix C1 is AxB using loops.\n",
      "     2.491     1.690     2.714     2.469     2.706     2.966     1.230     2.616     2.984     1.721\n",
      "     4.082     1.827     3.437     3.545     3.295     4.144     3.149     3.411     4.077     2.931\n",
      "     2.892     1.824     2.801     3.009     2.750     3.406     2.216     2.835     3.350     2.235\n",
      "     3.913     2.048     3.175     3.602     3.488     4.321     3.175     3.392     4.027     2.939\n",
      "     3.070     1.417     2.456     2.874     2.439     3.210     2.596     2.851     3.101     2.192\n",
      "     1.640     1.222     1.912     1.840     1.799     2.133     0.994     1.672     2.129     1.151\n",
      "     3.095     2.144     3.394     2.869     3.223     4.318     2.373     2.816     3.632     2.071\n",
      "     3.090     1.527     2.681     3.187     3.081     3.141     1.861     2.697     3.183     2.454\n",
      "     2.292     1.474     2.610     2.356     2.649     3.324     1.595     2.152     2.813     1.830\n",
      "     2.529     1.535     2.580     2.300     2.314     2.980     1.708     2.430     2.751     2.016\n",
      "\n",
      "Matrix C2 is AxB using matmul.\n",
      "     2.491     1.690     2.714     2.469     2.706     2.966     1.230     2.616     2.984     1.721\n",
      "     4.082     1.827     3.437     3.545     3.295     4.144     3.149     3.411     4.077     2.931\n",
      "     2.892     1.824     2.801     3.009     2.750     3.406     2.216     2.835     3.350     2.235\n",
      "     3.913     2.048     3.175     3.602     3.488     4.321     3.175     3.392     4.027     2.939\n",
      "     3.070     1.417     2.456     2.874     2.439     3.210     2.596     2.851     3.101     2.192\n",
      "     1.640     1.222     1.912     1.840     1.799     2.133     0.994     1.672     2.129     1.151\n",
      "     3.095     2.144     3.394     2.869     3.223     4.318     2.373     2.816     3.632     2.071\n",
      "     3.090     1.527     2.681     3.187     3.081     3.141     1.861     2.697     3.183     2.454\n",
      "     2.292     1.474     2.610     2.356     2.649     3.324     1.595     2.152     2.813     1.830\n",
      "     2.529     1.535     2.580     2.300     2.314     2.980     1.708     2.430     2.751     2.016\n",
      "\n",
      " Time of Do loop version is: .0002489999 seconds.\n",
      " Time of matmul version is: .0001020001 seconds.\n",
      "\n",
      "The results are approximately the same.\n",
      "\n",
      "The speedup ratio is:      2.441x\n"
     ]
    },
    {
     "name": "stderr",
     "output_type": "stream",
     "text": [
      "Project is up to date\n"
     ]
    }
   ],
   "source": [
    "exec_status = os.system(\"fpm run | sed 1,1d\")"
   ]
  },
  {
   "cell_type": "code",
   "execution_count": null,
   "id": "4ddf35b3-f0bf-439d-9e19-6199fba3455a",
   "metadata": {},
   "outputs": [],
   "source": []
  }
 ],
 "metadata": {
  "kernelspec": {
   "display_name": "Python 3 (ipykernel)",
   "language": "python",
   "name": "python3"
  },
  "language_info": {
   "codemirror_mode": {
    "name": "ipython",
    "version": 3
   },
   "file_extension": ".py",
   "mimetype": "text/x-python",
   "name": "python",
   "nbconvert_exporter": "python",
   "pygments_lexer": "ipython3",
   "version": "3.9.13"
  }
 },
 "nbformat": 4,
 "nbformat_minor": 5
}