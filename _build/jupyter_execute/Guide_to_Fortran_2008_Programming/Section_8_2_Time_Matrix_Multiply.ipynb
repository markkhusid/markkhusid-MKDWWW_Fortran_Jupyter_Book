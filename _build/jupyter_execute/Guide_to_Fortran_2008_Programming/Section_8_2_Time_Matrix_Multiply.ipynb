{
 "cells": [
  {
   "cell_type": "raw",
   "id": "c40b648f-a44a-4480-bbee-93e7a780f45b",
   "metadata": {},
   "source": [
    "---\n",
    "jupytext:\n",
    "  formats: md:myst\n",
    "  text_representation:\n",
    "    extension: .md\n",
    "    format_name: myst\n",
    "kernelspec:\n",
    "  display_name: Python 3\n",
    "  language: python\n",
    "  name: python3\n",
    "---"
   ]
  },
  {
   "cell_type": "markdown",
   "id": "fc63b62e-3ea6-4588-8b6e-f845bbc6d64c",
   "metadata": {
    "tags": []
   },
   "source": [
    "# Section 8.2: Time Matrix Multiply"
   ]
  },
  {
   "cell_type": "markdown",
   "id": "edfc7d7e-9803-4b96-82f1-bc0d47385f43",
   "metadata": {},
   "source": [
    "Adapted from: \"Guide to Fortran 2008 Programming\" by Walter S. Brainerd (Springer 2015)"
   ]
  },
  {
   "cell_type": "markdown",
   "id": "59ec1bec-3fd7-4061-aa24-c7765d25786f",
   "metadata": {},
   "source": [
    "## Program to demonstrate the performance improvement of using matmul over do loops."
   ]
  },
  {
   "cell_type": "markdown",
   "id": "c36821c7-3b26-404c-8a7c-2f978dfb65d4",
   "metadata": {},
   "source": [
    "```fortran\n",
    "program time_matrix_multiply\n",
    "\n",
    "    ! Compare times of the matmul intrinsic cs DO loops\n",
    "\n",
    "    implicit none\n",
    "    integer, parameter :: n = 10\n",
    "    real, dimension (n, n) :: a, b, c1, c2\n",
    "    character(len=8) :: date\n",
    "    real :: start_time_1, stop_time_1, start_time_2, stop_time_2\n",
    "    real :: total_time_1, total_time_2\n",
    "    integer :: i, j, k\n",
    "    character(len=*), parameter :: form = \"(t2, a, f0.10, a)\"\n",
    "\n",
    "    ! Get date to print on report\n",
    "\n",
    "    call date_and_time(date = date)\n",
    "\n",
    "    print *, \"Timing report dated: \" // date(1:4) &\n",
    "        // \"-\" // date(5:6) // \"-\" // date(7:8)\n",
    "\n",
    "    call random_seed()\n",
    "    call random_number(a)\n",
    "    call random_number(b)\n",
    "    call cpu_time(start_time_1)\n",
    "   \n",
    "    ! Lines below added for effect\n",
    "    ! The matrices of random values will be printed to the screen\n",
    "    write (*, \"(a)\") \"Matrix A\"\n",
    "    write (*, \"(10f10.3)\") (a(i,:), i=1,n)\n",
    "\n",
    "    print *\n",
    "    write (*, \"(a)\") \"Matrix B\"\n",
    "    write (*, \"(10f10.3)\") (b(i,:), i=1,n)\n",
    "\n",
    "    c1 = 0\n",
    "\n",
    "    do k = 1, n\n",
    "        do j = 1, n\n",
    "            do i = 1, n\n",
    "                c1(i, j) = c1(i, j) + a(i, k) * b(k, j)\n",
    "            end do\n",
    "        end do\n",
    "    end do\n",
    "\n",
    "    call cpu_time(stop_time_1)\n",
    "\n",
    "    total_time_1 = stop_time_1 - start_time_1\n",
    "\n",
    "    print *\n",
    "\n",
    "    write (*, \"(a)\") \"Matrix C1 is AxB using loops.\"\n",
    "    write (*, \"(10f10.3)\") (c1(i,:), i=1,n)\n",
    "\n",
    "    call cpu_time(start_time_2)\n",
    "    c2 = matmul(a, b)\n",
    "    call cpu_time(stop_time_2)\n",
    "\n",
    "    total_time_2 = stop_time_2 - start_time_2\n",
    "\n",
    "    print *\n",
    "\n",
    "    write (*, \"(a)\") \"Matrix C2 is AxB using matmul.\"\n",
    "    write (*, \"(10f10.3)\") (c1(i,:), i=1,n)\n",
    "\n",
    "    print *\n",
    "\n",
    "    write (*, form) \"Time of Do loop version is: \", total_time_1, \" seconds.\"\n",
    "    write (*, form) \"Time of matmul version is: \", total_time_2, \" seconds.\"\n",
    "\n",
    "    print *\n",
    "\n",
    "    if (any(abs(c1-c2) > 1.0e-4)) then\n",
    "        write (*,  \"(a)\") \"There are significantly different values between the matrices.\"\n",
    "    else\n",
    "        write (*,  \"(a)\") \"The results are approximately the same.\"\n",
    "    end if\n",
    "\n",
    "    print *\n",
    "    write (*, \"(a, f10.3, a)\") \"The speedup ratio is: \", total_time_1/total_time_2, \"x\"\n",
    "\n",
    "end program time_matrix_multiply\n",
    "```"
   ]
  },
  {
   "cell_type": "markdown",
   "id": "4c6b9985-c0cb-4602-8309-4e3369dd3226",
   "metadata": {},
   "source": [
    "The above program is compiled and run using Fortran Package Manager (fpm):"
   ]
  },
  {
   "cell_type": "code",
   "execution_count": 1,
   "id": "e8ba1050-b7b1-4e9e-87bf-28791145e5e7",
   "metadata": {},
   "outputs": [],
   "source": [
    "import os\n",
    "root_dir = os.getcwd()"
   ]
  },
  {
   "cell_type": "code",
   "execution_count": 2,
   "id": "bdaf795d-554a-46e6-b4da-faeb331e1b13",
   "metadata": {},
   "outputs": [],
   "source": [
    "code_dir = root_dir + \"/\" + \"Fortran_Code/Section_8_2_Time_Matrix_Multiply\""
   ]
  },
  {
   "cell_type": "code",
   "execution_count": 3,
   "id": "a7d9f1b1-ba0d-4db1-84ef-7a358f0453a6",
   "metadata": {},
   "outputs": [],
   "source": [
    "os.chdir(code_dir)"
   ]
  },
  {
   "cell_type": "code",
   "execution_count": 4,
   "id": "0fbd7621-e800-4235-ab30-80560cc3e1a8",
   "metadata": {},
   "outputs": [
    {
     "name": "stdout",
     "output_type": "stream",
     "text": [
      " + mkdir -p build/dependencies\n",
      "[  0%] section_8_2_time_matrix_multip\n",
      "[ 50%] section_8_2_time_matrix_multip  done.\n",
      "[ 50%] Section_8_2_Time_Matrix_Multip\n",
      "[100%] Section_8_2_Time_Matrix_Multip  done.\n",
      "[100%] Project compiled successfully.\n"
     ]
    }
   ],
   "source": [
    "build_status = os.system(\"fpm build 2>/dev/null\")"
   ]
  },
  {
   "cell_type": "code",
   "execution_count": 5,
   "id": "0483d40b-e849-4574-bcbe-003c81a96dd5",
   "metadata": {},
   "outputs": [
    {
     "name": "stdout",
     "output_type": "stream",
     "text": [
      " Timing report dated: 2022-12-20\n",
      "Matrix A\n",
      "     0.335     0.334     0.925     0.901     0.314     0.498     0.399     0.349     0.945     0.926\n",
      "     0.267     0.491     0.305     0.005     0.207     0.451     0.095     0.224     0.068     0.891\n",
      "     0.189     0.517     0.112     0.872     0.107     0.037     0.040     0.128     0.246     0.836\n",
      "     0.635     0.559     0.513     0.759     0.016     0.445     0.201     0.449     0.122     0.136\n",
      "     0.045     0.680     0.898     0.364     0.572     0.526     0.409     0.596     0.687     0.924\n",
      "     0.436     0.766     0.616     0.276     0.626     0.001     0.881     0.627     0.581     0.194\n",
      "     0.764     0.159     0.745     0.916     0.938     0.769     0.541     0.369     0.472     0.482\n",
      "     0.038     0.459     0.106     0.249     0.888     0.455     0.410     0.098     0.613     0.720\n",
      "     0.198     0.181     0.575     0.393     0.363     0.390     0.239     0.427     0.690     0.599\n",
      "     0.391     0.702     0.648     0.133     0.789     0.675     0.126     0.428     0.302     0.764\n",
      "\n",
      "Matrix B\n",
      "     0.831     0.474     0.964     0.813     0.791     0.103     0.575     0.134     0.722     0.433\n",
      "     0.321     0.889     0.371     0.882     0.793     0.965     0.212     0.528     0.685     0.361\n",
      "     0.800     0.430     0.784     0.163     0.163     0.558     0.251     0.780     0.307     0.939\n",
      "     0.664     0.227     0.679     0.855     0.594     0.192     0.042     0.496     0.589     0.393\n",
      "     0.928     0.146     0.352     0.457     0.877     0.861     0.069     0.498     0.703     0.939\n",
      "     0.599     0.008     0.184     0.557     0.441     0.192     0.934     0.121     0.954     0.923\n",
      "     0.312     0.438     0.850     0.411     0.209     0.437     0.366     0.868     0.439     0.680\n",
      "     0.419     0.689     0.964     0.214     0.433     0.498     0.173     0.605     0.436     0.965\n",
      "     0.532     0.908     0.254     0.195     0.912     0.070     0.793     0.383     0.033     0.188\n",
      "     0.411     0.327     0.408     0.920     0.847     0.727     0.177     0.140     0.044     0.326\n",
      "\n",
      "Matrix C1 is AxB using loops.\n",
      "     3.468     2.684     3.280     3.185     3.591     2.500     2.140     2.654     2.380     3.330\n",
      "     1.616     1.279     1.517     1.971     1.968     1.744     1.056     1.063     1.384     1.778\n",
      "     1.654     1.414     1.660     2.305     2.202     1.554     0.705     1.199     1.268     1.321\n",
      "     2.275     1.749     2.515     2.324     2.153     1.556     1.333     1.730     2.176     2.320\n",
      "     3.186     2.698     3.019     2.929     3.424     3.022     1.903     2.702     2.396     3.558\n",
      "     2.792     2.715     3.175     2.441     2.915     2.600     1.549     2.785     2.320     3.117\n",
      "     3.993     2.251     3.604     3.360     3.668     2.583     2.202     2.721     3.256     4.007\n",
      "     2.316     1.700     1.747     2.296     2.835     2.200     1.423     1.700     1.853     2.356\n",
      "     2.381     1.868     2.209     2.009     2.489     1.780     1.517     1.807     1.642     2.446\n",
      "     2.987     2.113     2.546     2.798     3.174     2.759     1.722     2.059     2.524     3.252\n",
      "\n",
      "Matrix C2 is AxB using matmul.\n",
      "     3.468     2.684     3.280     3.185     3.591     2.500     2.140     2.654     2.380     3.330\n",
      "     1.616     1.279     1.517     1.971     1.968     1.744     1.056     1.063     1.384     1.778\n",
      "     1.654     1.414     1.660     2.305     2.202     1.554     0.705     1.199     1.268     1.321\n",
      "     2.275     1.749     2.515     2.324     2.153     1.556     1.333     1.730     2.176     2.320\n",
      "     3.186     2.698     3.019     2.929     3.424     3.022     1.903     2.702     2.396     3.558\n",
      "     2.792     2.715     3.175     2.441     2.915     2.600     1.549     2.785     2.320     3.117\n",
      "     3.993     2.251     3.604     3.360     3.668     2.583     2.202     2.721     3.256     4.007\n",
      "     2.316     1.700     1.747     2.296     2.835     2.200     1.423     1.700     1.853     2.356\n",
      "     2.381     1.868     2.209     2.009     2.489     1.780     1.517     1.807     1.642     2.446\n",
      "     2.987     2.113     2.546     2.798     3.174     2.759     1.722     2.059     2.524     3.252\n",
      "\n",
      " Time of Do loop version is: .0003120000 seconds.\n",
      " Time of matmul version is: .0001599999 seconds.\n",
      "\n",
      "The results are approximately the same.\n",
      "\n",
      "The speedup ratio is:      1.950x\n"
     ]
    }
   ],
   "source": [
    "exec_status = os.system(\"fpm run 2>/dev/null\")"
   ]
  }
 ],
 "metadata": {
  "kernelspec": {
   "display_name": "Python 3.9.2 64-bit",
   "language": "python",
   "name": "python3"
  },
  "language_info": {
   "codemirror_mode": {
    "name": "ipython",
    "version": 3
   },
   "file_extension": ".py",
   "mimetype": "text/x-python",
   "name": "python",
   "nbconvert_exporter": "python",
   "pygments_lexer": "ipython3",
   "version": "3.10.6"
  },
  "vscode": {
   "interpreter": {
    "hash": "916dbcbb3f70747c44a77c7bcd40155683ae19c65e1c03b4aa3499c5328201f1"
   }
  }
 },
 "nbformat": 4,
 "nbformat_minor": 5
}