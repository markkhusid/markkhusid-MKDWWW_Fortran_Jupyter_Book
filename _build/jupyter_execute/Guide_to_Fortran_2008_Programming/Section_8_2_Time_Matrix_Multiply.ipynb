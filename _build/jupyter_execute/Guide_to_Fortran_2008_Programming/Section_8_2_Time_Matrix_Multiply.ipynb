{
 "cells": [
  {
   "cell_type": "raw",
   "id": "c40b648f-a44a-4480-bbee-93e7a780f45b",
   "metadata": {},
   "source": [
    "---\n",
    "jupytext:\n",
    "  formats: md:myst\n",
    "  text_representation:\n",
    "    extension: .md\n",
    "    format_name: myst\n",
    "kernelspec:\n",
    "  display_name: Python 3\n",
    "  language: python\n",
    "  name: python3\n",
    "---"
   ]
  },
  {
   "cell_type": "markdown",
   "id": "fc63b62e-3ea6-4588-8b6e-f845bbc6d64c",
   "metadata": {
    "tags": []
   },
   "source": [
    "# Section 8.2: Time Matrix Multiply"
   ]
  },
  {
   "cell_type": "markdown",
   "id": "edfc7d7e-9803-4b96-82f1-bc0d47385f43",
   "metadata": {},
   "source": [
    "Adapted from: \"Guide to Fortran 2008 Programming\" by Walter S. Brainerd (Springer 2015)"
   ]
  },
  {
   "cell_type": "markdown",
   "id": "59ec1bec-3fd7-4061-aa24-c7765d25786f",
   "metadata": {},
   "source": [
    "## Program to demonstrate the performance improvement of using matmul over do loops."
   ]
  },
  {
   "cell_type": "markdown",
   "id": "c36821c7-3b26-404c-8a7c-2f978dfb65d4",
   "metadata": {},
   "source": [
    "```fortran\n",
    "program time_matrix_multiply\n",
    "\n",
    "    ! Compare times of the matmul intrinsic cs DO loops\n",
    "\n",
    "    implicit none\n",
    "    integer, parameter :: n = 10\n",
    "    real, dimension (n, n) :: a, b, c1, c2\n",
    "    character(len=8) :: date\n",
    "    real :: start_time_1, stop_time_1, start_time_2, stop_time_2\n",
    "    real :: total_time_1, total_time_2\n",
    "    integer :: i, j, k\n",
    "    character(len=*), parameter :: form = \"(t2, a, f0.10, a)\"\n",
    "\n",
    "    ! Get date to print on report\n",
    "\n",
    "    call date_and_time(date = date)\n",
    "\n",
    "    print *, \"Timing report dated: \" // date(1:4) &\n",
    "        // \"-\" // date(5:6) // \"-\" // date(7:8)\n",
    "\n",
    "    call random_seed()\n",
    "    call random_number(a)\n",
    "    call random_number(b)\n",
    "    call cpu_time(start_time_1)\n",
    "   \n",
    "    ! Lines below added for effect\n",
    "    ! The matrices of random values will be printed to the screen\n",
    "    write (*, \"(a)\") \"Matrix A\"\n",
    "    write (*, \"(10f10.3)\") (a(i,:), i=1,n)\n",
    "\n",
    "    print *\n",
    "    write (*, \"(a)\") \"Matrix B\"\n",
    "    write (*, \"(10f10.3)\") (b(i,:), i=1,n)\n",
    "\n",
    "    c1 = 0\n",
    "\n",
    "    do k = 1, n\n",
    "        do j = 1, n\n",
    "            do i = 1, n\n",
    "                c1(i, j) = c1(i, j) + a(i, k) * b(k, j)\n",
    "            end do\n",
    "        end do\n",
    "    end do\n",
    "\n",
    "    call cpu_time(stop_time_1)\n",
    "\n",
    "    total_time_1 = stop_time_1 - start_time_1\n",
    "\n",
    "    print *\n",
    "\n",
    "    write (*, \"(a)\") \"Matrix C1 is AxB using loops.\"\n",
    "    write (*, \"(10f10.3)\") (c1(i,:), i=1,n)\n",
    "\n",
    "    call cpu_time(start_time_2)\n",
    "    c2 = matmul(a, b)\n",
    "    call cpu_time(stop_time_2)\n",
    "\n",
    "    total_time_2 = stop_time_2 - start_time_2\n",
    "\n",
    "    print *\n",
    "\n",
    "    write (*, \"(a)\") \"Matrix C2 is AxB using matmul.\"\n",
    "    write (*, \"(10f10.3)\") (c1(i,:), i=1,n)\n",
    "\n",
    "    print *\n",
    "\n",
    "    write (*, form) \"Time of Do loop version is: \", total_time_1, \" seconds.\"\n",
    "    write (*, form) \"Time of matmul version is: \", total_time_2, \" seconds.\"\n",
    "\n",
    "    print *\n",
    "\n",
    "    if (any(abs(c1-c2) > 1.0e-4)) then\n",
    "        write (*,  \"(a)\") \"There are significantly different values between the matrices.\"\n",
    "    else\n",
    "        write (*,  \"(a)\") \"The results are approximately the same.\"\n",
    "    end if\n",
    "\n",
    "    print *\n",
    "    write (*, \"(a, f10.3, a)\") \"The speedup ratio is: \", total_time_1/total_time_2, \"x\"\n",
    "\n",
    "end program time_matrix_multiply\n",
    "```"
   ]
  },
  {
   "cell_type": "markdown",
   "id": "4c6b9985-c0cb-4602-8309-4e3369dd3226",
   "metadata": {},
   "source": [
    "The above program is compiled and run using Fortran Package Manager (fpm):"
   ]
  },
  {
   "cell_type": "code",
   "execution_count": 1,
   "id": "e8ba1050-b7b1-4e9e-87bf-28791145e5e7",
   "metadata": {},
   "outputs": [],
   "source": [
    "import os\n",
    "root_dir = os.getcwd()"
   ]
  },
  {
   "cell_type": "code",
   "execution_count": 2,
   "id": "bdaf795d-554a-46e6-b4da-faeb331e1b13",
   "metadata": {},
   "outputs": [],
   "source": [
    "code_dir = root_dir + \"/\" + \"Fortran_Code/Section_8_2_Time_Matrix_Multiply\""
   ]
  },
  {
   "cell_type": "code",
   "execution_count": 3,
   "id": "a7d9f1b1-ba0d-4db1-84ef-7a358f0453a6",
   "metadata": {},
   "outputs": [],
   "source": [
    "os.chdir(code_dir)"
   ]
  },
  {
   "cell_type": "code",
   "execution_count": 4,
   "id": "0fbd7621-e800-4235-ab30-80560cc3e1a8",
   "metadata": {},
   "outputs": [],
   "source": [
    "build_status = os.system(\"fpm build 2>/dev/null\")"
   ]
  },
  {
   "cell_type": "code",
   "execution_count": 5,
   "id": "0483d40b-e849-4574-bcbe-003c81a96dd5",
   "metadata": {},
   "outputs": [
    {
     "name": "stdout",
     "output_type": "stream",
     "text": [
      " Timing report dated: 2024-05-05\n",
      "Matrix A\n",
      "     0.002     0.823     0.563     0.533     0.332     0.031     0.789     0.888     0.509     0.445\n",
      "     0.069     0.056     0.204     0.167     0.160     0.653     0.756     0.027     0.386     0.847\n",
      "     0.120     0.878     0.163     0.250     0.462     0.016     0.843     0.646     0.736     0.236\n",
      "     0.809     0.777     0.402     0.680     0.374     0.323     0.904     0.056     0.026     0.569\n",
      "     0.438     0.297     0.848     0.910     0.756     0.354     0.215     0.360     0.256     0.760\n",
      "     0.999     0.836     0.167     0.732     0.377     0.364     0.068     0.577     0.516     0.568\n",
      "     0.712     0.817     0.668     0.418     0.564     0.229     0.849     0.790     0.856     0.137\n",
      "     0.194     0.198     0.755     0.798     0.562     0.975     0.941     0.645     0.797     0.682\n",
      "     0.102     0.576     0.064     0.399     0.024     0.975     0.117     0.523     0.454     0.537\n",
      "     0.621     0.957     0.211     0.659     0.387     0.619     0.388     0.841     0.479     0.351\n",
      "\n",
      "Matrix B\n",
      "     0.763     0.017     0.167     0.528     0.570     0.012     0.439     0.120     0.261     0.124\n",
      "     0.219     0.893     0.823     0.729     0.946     0.898     0.242     0.152     0.835     0.660\n",
      "     0.098     0.899     0.901     0.668     0.859     0.509     0.778     0.191     0.870     0.625\n",
      "     0.101     0.415     0.768     0.592     0.794     0.937     0.085     0.762     0.933     0.960\n",
      "     0.807     0.923     0.007     0.883     0.185     0.414     0.432     0.949     0.655     0.847\n",
      "     0.646     0.764     0.718     0.726     0.056     0.747     0.979     0.777     0.553     0.272\n",
      "     0.307     0.214     0.558     0.282     0.087     0.569     0.165     0.400     0.640     0.741\n",
      "     0.268     0.980     0.654     0.305     0.365     0.381     0.676     0.959     0.582     0.447\n",
      "     0.784     0.718     0.998     0.688     0.197     0.336     0.737     0.828     0.865     0.683\n",
      "     0.820     0.529     0.861     0.309     0.924     0.520     0.753     0.610     0.005     0.833\n",
      "\n",
      "Matrix C1 is AxB using loops.\n",
      "     1.822     3.432     3.530     2.589     2.653     2.876     2.296     2.838     3.373     3.397\n",
      "     1.889     1.866     2.395     1.677     1.401     1.877     1.990     2.008     1.702     2.189\n",
      "     1.910     2.943     2.927     2.394     1.995     2.406     1.924     2.530     3.003     2.945\n",
      "     2.185     2.512     2.951     2.695     2.798     2.786     2.026     2.201     2.904     3.109\n",
      "     2.399     3.366     3.305     3.059     3.044     2.875     2.713     3.053     3.212     3.519\n",
      "     2.621     3.095     3.251     3.005     3.018     2.690     2.561     2.833     3.063     3.036\n",
      "     2.688     3.855     3.846     3.441     2.858     3.022     2.941     3.258     4.079     3.667\n",
      "     3.076     4.222     4.523     3.649     2.843     3.678     3.678     4.169     4.195     4.233\n",
      "     1.871     2.653     2.878     2.152     1.819     2.360     2.344     2.448     2.264     2.178\n",
      "     2.491     3.596     3.582     3.152     2.829     3.100     2.747     3.184     3.509     3.253\n",
      "\n",
      "Matrix C2 is AxB using matmul.\n",
      "     1.822     3.432     3.530     2.589     2.653     2.876     2.296     2.838     3.373     3.397\n",
      "     1.889     1.866     2.395     1.677     1.401     1.877     1.990     2.008     1.702     2.189\n",
      "     1.910     2.943     2.927     2.394     1.995     2.406     1.924     2.530     3.003     2.945\n",
      "     2.185     2.512     2.951     2.695     2.798     2.786     2.026     2.201     2.904     3.109\n",
      "     2.399     3.366     3.305     3.059     3.044     2.875     2.713     3.053     3.212     3.519\n",
      "     2.621     3.095     3.251     3.005     3.018     2.690     2.561     2.833     3.063     3.036\n",
      "     2.688     3.855     3.846     3.441     2.858     3.022     2.941     3.258     4.079     3.667\n",
      "     3.076     4.222     4.523     3.649     2.843     3.678     3.678     4.169     4.195     4.233\n",
      "     1.871     2.653     2.878     2.152     1.819     2.360     2.344     2.448     2.264     2.178\n",
      "     2.491     3.596     3.582     3.152     2.829     3.100     2.747     3.184     3.509     3.253\n",
      "\n",
      " Time of Do loop version is: .0000890000 seconds.\n",
      " Time of matmul version is: .0000100001 seconds.\n",
      "\n",
      "The results are approximately the same.\n",
      "\n",
      "The speedup ratio is:      8.900x\n"
     ]
    }
   ],
   "source": [
    "exec_status = os.system(\"fpm run 2>/dev/null\")"
   ]
  }
 ],
 "metadata": {
  "kernelspec": {
   "display_name": "Python 3.9.2 64-bit",
   "language": "python",
   "name": "python3"
  },
  "language_info": {
   "codemirror_mode": {
    "name": "ipython",
    "version": 3
   },
   "file_extension": ".py",
   "mimetype": "text/x-python",
   "name": "python",
   "nbconvert_exporter": "python",
   "pygments_lexer": "ipython3",
   "version": "3.10.14"
  },
  "vscode": {
   "interpreter": {
    "hash": "916dbcbb3f70747c44a77c7bcd40155683ae19c65e1c03b4aa3499c5328201f1"
   }
  }
 },
 "nbformat": 4,
 "nbformat_minor": 5
}