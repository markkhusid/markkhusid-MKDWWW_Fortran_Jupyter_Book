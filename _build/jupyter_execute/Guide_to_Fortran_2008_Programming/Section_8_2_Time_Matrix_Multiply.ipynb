{
 "cells": [
  {
   "cell_type": "raw",
   "id": "c40b648f-a44a-4480-bbee-93e7a780f45b",
   "metadata": {},
   "source": [
    "---\n",
    "jupytext:\n",
    "  formats: md:myst\n",
    "  text_representation:\n",
    "    extension: .md\n",
    "    format_name: myst\n",
    "kernelspec:\n",
    "  display_name: Python 3\n",
    "  language: python\n",
    "  name: python3\n",
    "---"
   ]
  },
  {
   "cell_type": "markdown",
   "id": "fc63b62e-3ea6-4588-8b6e-f845bbc6d64c",
   "metadata": {
    "tags": []
   },
   "source": [
    "# Section 8.2: Time Matrix Multiply"
   ]
  },
  {
   "cell_type": "markdown",
   "id": "edfc7d7e-9803-4b96-82f1-bc0d47385f43",
   "metadata": {},
   "source": [
    "Adapted from: \"Guide to Fortran 2008 Programming\" by Walter S. Brainerd (Springer 2015)"
   ]
  },
  {
   "cell_type": "markdown",
   "id": "59ec1bec-3fd7-4061-aa24-c7765d25786f",
   "metadata": {},
   "source": [
    "## Program to demonstrate the performance improvement of using matmul over do loops."
   ]
  },
  {
   "cell_type": "markdown",
   "id": "c36821c7-3b26-404c-8a7c-2f978dfb65d4",
   "metadata": {},
   "source": [
    "```fortran\n",
    "program time_matrix_multiply\n",
    "\n",
    "    ! Compare times of the matmul intrinsic cs DO loops\n",
    "\n",
    "    implicit none\n",
    "    integer, parameter :: n = 10\n",
    "    real, dimension (n, n) :: a, b, c1, c2\n",
    "    character(len=8) :: date\n",
    "    real :: start_time_1, stop_time_1, start_time_2, stop_time_2\n",
    "    real :: total_time_1, total_time_2\n",
    "    integer :: i, j, k\n",
    "    character(len=*), parameter :: form = \"(t2, a, f0.10, a)\"\n",
    "\n",
    "    ! Get date to print on report\n",
    "\n",
    "    call date_and_time(date = date)\n",
    "\n",
    "    print *, \"Timing report dated: \" // date(1:4) &\n",
    "        // \"-\" // date(5:6) // \"-\" // date(7:8)\n",
    "\n",
    "    call random_seed()\n",
    "    call random_number(a)\n",
    "    call random_number(b)\n",
    "    call cpu_time(start_time_1)\n",
    "   \n",
    "    ! Lines below added for effect\n",
    "    ! The matrices of random values will be printed to the screen\n",
    "    write (*, \"(a)\") \"Matrix A\"\n",
    "    write (*, \"(10f10.3)\") (a(i,:), i=1,n)\n",
    "\n",
    "    print *\n",
    "    write (*, \"(a)\") \"Matrix B\"\n",
    "    write (*, \"(10f10.3)\") (b(i,:), i=1,n)\n",
    "\n",
    "    c1 = 0\n",
    "\n",
    "    do k = 1, n\n",
    "        do j = 1, n\n",
    "            do i = 1, n\n",
    "                c1(i, j) = c1(i, j) + a(i, k) * b(k, j)\n",
    "            end do\n",
    "        end do\n",
    "    end do\n",
    "\n",
    "    call cpu_time(stop_time_1)\n",
    "\n",
    "    total_time_1 = stop_time_1 - start_time_1\n",
    "\n",
    "    print *\n",
    "\n",
    "    write (*, \"(a)\") \"Matrix C1 is AxB using loops.\"\n",
    "    write (*, \"(10f10.3)\") (c1(i,:), i=1,n)\n",
    "\n",
    "    call cpu_time(start_time_2)\n",
    "    c2 = matmul(a, b)\n",
    "    call cpu_time(stop_time_2)\n",
    "\n",
    "    total_time_2 = stop_time_2 - start_time_2\n",
    "\n",
    "    print *\n",
    "\n",
    "    write (*, \"(a)\") \"Matrix C2 is AxB using matmul.\"\n",
    "    write (*, \"(10f10.3)\") (c1(i,:), i=1,n)\n",
    "\n",
    "    print *\n",
    "\n",
    "    write (*, form) \"Time of Do loop version is: \", total_time_1, \" seconds.\"\n",
    "    write (*, form) \"Time of matmul version is: \", total_time_2, \" seconds.\"\n",
    "\n",
    "    print *\n",
    "\n",
    "    if (any(abs(c1-c2) > 1.0e-4)) then\n",
    "        write (*,  \"(a)\") \"There are significantly different values between the matrices.\"\n",
    "    else\n",
    "        write (*,  \"(a)\") \"The results are approximately the same.\"\n",
    "    end if\n",
    "\n",
    "    print *\n",
    "    write (*, \"(a, f10.3, a)\") \"The speedup ratio is: \", total_time_1/total_time_2, \"x\"\n",
    "\n",
    "end program time_matrix_multiply\n",
    "```"
   ]
  },
  {
   "cell_type": "markdown",
   "id": "4c6b9985-c0cb-4602-8309-4e3369dd3226",
   "metadata": {},
   "source": [
    "The above program is compiled and run using Fortran Package Manager (fpm):"
   ]
  },
  {
   "cell_type": "code",
   "execution_count": 1,
   "id": "e8ba1050-b7b1-4e9e-87bf-28791145e5e7",
   "metadata": {},
   "outputs": [],
   "source": [
    "import os\n",
    "root_dir = os.getcwd()"
   ]
  },
  {
   "cell_type": "code",
   "execution_count": 2,
   "id": "bdaf795d-554a-46e6-b4da-faeb331e1b13",
   "metadata": {},
   "outputs": [],
   "source": [
    "code_dir = root_dir + \"/\" + \"Fortran_Code/Section_8_2_Time_Matrix_Multiply\""
   ]
  },
  {
   "cell_type": "code",
   "execution_count": 3,
   "id": "a7d9f1b1-ba0d-4db1-84ef-7a358f0453a6",
   "metadata": {},
   "outputs": [],
   "source": [
    "os.chdir(code_dir)"
   ]
  },
  {
   "cell_type": "code",
   "execution_count": 4,
   "id": "0fbd7621-e800-4235-ab30-80560cc3e1a8",
   "metadata": {},
   "outputs": [],
   "source": [
    "build_status = os.system(\"fpm build 2>/dev/null\")"
   ]
  },
  {
   "cell_type": "code",
   "execution_count": 5,
   "id": "0483d40b-e849-4574-bcbe-003c81a96dd5",
   "metadata": {},
   "outputs": [
    {
     "name": "stdout",
     "output_type": "stream",
     "text": [
      " Timing report dated: 2023-12-26\n",
      "Matrix A\n",
      "     0.826     0.448     0.546     0.144     0.603     0.849     0.846     0.219     0.846     0.739\n",
      "     0.632     0.084     0.131     0.831     0.200     0.475     0.203     0.888     0.657     0.233\n",
      "     0.411     0.608     0.760     0.897     0.168     0.972     0.645     0.256     0.273     0.205\n",
      "     0.334     0.336     0.374     0.596     0.145     0.710     0.388     0.228     0.667     0.258\n",
      "     0.950     0.955     0.299     0.765     0.102     0.008     0.697     0.787     0.956     0.870\n",
      "     0.431     0.481     0.756     0.338     0.040     0.535     0.220     0.938     0.463     0.284\n",
      "     0.456     0.401     0.751     0.462     0.479     0.059     0.202     0.961     0.231     0.616\n",
      "     0.980     0.113     0.497     0.692     0.737     0.252     0.040     0.882     0.086     0.918\n",
      "     0.165     0.311     0.723     0.574     0.615     0.201     0.756     0.159     0.348     0.385\n",
      "     0.001     0.049     0.936     0.031     0.015     0.085     0.560     0.034     0.027     0.665\n",
      "\n",
      "Matrix B\n",
      "     0.569     0.915     0.244     0.353     0.468     0.857     0.220     0.736     0.494     0.455\n",
      "     0.371     0.300     0.803     0.528     0.200     0.312     0.478     0.751     0.343     0.814\n",
      "     0.044     0.581     0.253     0.413     0.791     0.350     0.762     0.359     0.991     0.360\n",
      "     0.131     0.048     0.687     0.774     0.364     0.163     0.961     0.421     0.797     0.873\n",
      "     0.670     0.260     0.791     0.261     0.672     0.873     0.755     0.263     0.933     0.136\n",
      "     0.193     0.974     0.983     0.754     0.639     0.694     0.100     0.705     0.954     0.528\n",
      "     0.981     0.383     0.138     0.212     0.317     0.428     0.713     0.123     0.341     0.081\n",
      "     0.521     0.655     0.152     0.644     0.203     0.802     0.306     0.047     0.114     0.376\n",
      "     0.299     0.691     0.382     0.577     0.555     0.583     0.449     0.105     0.693     0.451\n",
      "     0.104     0.617     0.612     0.442     0.339     0.749     0.237     0.324     0.875     0.543\n",
      "\n",
      "Matrix C1 is AxB using loops.\n",
      "     2.520     3.706     3.037     2.798     2.940     3.762     2.715     2.401     4.136     2.527\n",
      "     1.613     2.492     2.008     2.472     1.844     2.610     2.042     1.524     2.602     2.180\n",
      "     1.780     2.765     2.844     2.801     2.453     2.570     2.755     2.326     3.581     2.657\n",
      "     1.369     2.300     2.169     2.212     1.914     2.170     1.979     1.634     2.785     2.033\n",
      "     2.547     3.379     2.802     3.178     2.429     3.574     3.078     2.383     3.555     3.259\n",
      "     1.504     2.719     1.996     2.437     2.001     2.575     2.028     1.691     2.696     2.176\n",
      "     1.667     2.425     2.017     2.278     2.012     2.767     2.364     1.562     2.856     2.121\n",
      "     1.874     2.909     2.496     2.561     2.333     3.442     2.449     2.000     3.471     2.426\n",
      "     1.736     1.920     2.049     1.911     2.058     2.204     2.606     1.421     2.981     1.766\n",
      "     0.735     1.313     0.893     0.955     1.251     1.202     1.366     0.739     1.859     0.882\n",
      "\n",
      "Matrix C2 is AxB using matmul.\n",
      "     2.520     3.706     3.037     2.798     2.940     3.762     2.715     2.401     4.136     2.527\n",
      "     1.613     2.492     2.008     2.472     1.844     2.610     2.042     1.524     2.602     2.180\n",
      "     1.780     2.765     2.844     2.801     2.453     2.570     2.755     2.326     3.581     2.657\n",
      "     1.369     2.300     2.169     2.212     1.914     2.170     1.979     1.634     2.785     2.033\n",
      "     2.547     3.379     2.802     3.178     2.429     3.574     3.078     2.383     3.555     3.259\n",
      "     1.504     2.719     1.996     2.437     2.001     2.575     2.028     1.691     2.696     2.176\n",
      "     1.667     2.425     2.017     2.278     2.012     2.767     2.364     1.562     2.856     2.121\n",
      "     1.874     2.909     2.496     2.561     2.333     3.442     2.449     2.000     3.471     2.426\n",
      "     1.736     1.920     2.049     1.911     2.058     2.204     2.606     1.421     2.981     1.766\n",
      "     0.735     1.313     0.893     0.955     1.251     1.202     1.366     0.739     1.859     0.882\n",
      "\n",
      " Time of Do loop version is: .0000829999 seconds.\n",
      " Time of matmul version is: .0000109999 seconds.\n",
      "\n",
      "The results are approximately the same.\n",
      "\n",
      "The speedup ratio is:      7.546x\n"
     ]
    }
   ],
   "source": [
    "exec_status = os.system(\"fpm run 2>/dev/null\")"
   ]
  }
 ],
 "metadata": {
  "kernelspec": {
   "display_name": "Python 3.9.2 64-bit",
   "language": "python",
   "name": "python3"
  },
  "language_info": {
   "codemirror_mode": {
    "name": "ipython",
    "version": 3
   },
   "file_extension": ".py",
   "mimetype": "text/x-python",
   "name": "python",
   "nbconvert_exporter": "python",
   "pygments_lexer": "ipython3",
   "version": "3.10.13"
  },
  "vscode": {
   "interpreter": {
    "hash": "916dbcbb3f70747c44a77c7bcd40155683ae19c65e1c03b4aa3499c5328201f1"
   }
  }
 },
 "nbformat": 4,
 "nbformat_minor": 5
}