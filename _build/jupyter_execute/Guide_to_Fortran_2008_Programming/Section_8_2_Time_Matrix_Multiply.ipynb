{
 "cells": [
  {
   "cell_type": "raw",
   "id": "c40b648f-a44a-4480-bbee-93e7a780f45b",
   "metadata": {},
   "source": [
    "---\n",
    "jupytext:\n",
    "  formats: md:myst\n",
    "  text_representation:\n",
    "    extension: .md\n",
    "    format_name: myst\n",
    "kernelspec:\n",
    "  display_name: Python 3\n",
    "  language: python\n",
    "  name: python3\n",
    "---"
   ]
  },
  {
   "cell_type": "markdown",
   "id": "fc63b62e-3ea6-4588-8b6e-f845bbc6d64c",
   "metadata": {
    "tags": []
   },
   "source": [
    "# Section 8.2: Time Matrix Multiply"
   ]
  },
  {
   "cell_type": "markdown",
   "id": "edfc7d7e-9803-4b96-82f1-bc0d47385f43",
   "metadata": {},
   "source": [
    "Adapted from: \"Guide to Fortran 2008 Programming\" by Walter S. Brainerd (Springer 2015)"
   ]
  },
  {
   "cell_type": "markdown",
   "id": "59ec1bec-3fd7-4061-aa24-c7765d25786f",
   "metadata": {},
   "source": [
    "## Program to demonstrate the performance improvement of using matmul over do loops."
   ]
  },
  {
   "cell_type": "markdown",
   "id": "c36821c7-3b26-404c-8a7c-2f978dfb65d4",
   "metadata": {},
   "source": [
    "```fortran\n",
    "program time_matrix_multiply\n",
    "\n",
    "    ! Compare times of the matmul intrinsic cs DO loops\n",
    "\n",
    "    implicit none\n",
    "    integer, parameter :: n = 10\n",
    "    real, dimension (n, n) :: a, b, c1, c2\n",
    "    character(len=8) :: date\n",
    "    real :: start_time_1, stop_time_1, start_time_2, stop_time_2\n",
    "    real :: total_time_1, total_time_2\n",
    "    integer :: i, j, k\n",
    "    character(len=*), parameter :: form = \"(t2, a, f0.10, a)\"\n",
    "\n",
    "    ! Get date to print on report\n",
    "\n",
    "    call date_and_time(date = date)\n",
    "\n",
    "    print *, \"Timing report dated: \" // date(1:4) &\n",
    "        // \"-\" // date(5:6) // \"-\" // date(7:8)\n",
    "\n",
    "    call random_seed()\n",
    "    call random_number(a)\n",
    "    call random_number(b)\n",
    "    call cpu_time(start_time_1)\n",
    "   \n",
    "    ! Lines below added for effect\n",
    "    ! The matrices of random values will be printed to the screen\n",
    "    write (*, \"(a)\") \"Matrix A\"\n",
    "    write (*, \"(10f10.3)\") (a(i,:), i=1,n)\n",
    "\n",
    "    print *\n",
    "    write (*, \"(a)\") \"Matrix B\"\n",
    "    write (*, \"(10f10.3)\") (b(i,:), i=1,n)\n",
    "\n",
    "    c1 = 0\n",
    "\n",
    "    do k = 1, n\n",
    "        do j = 1, n\n",
    "            do i = 1, n\n",
    "                c1(i, j) = c1(i, j) + a(i, k) * b(k, j)\n",
    "            end do\n",
    "        end do\n",
    "    end do\n",
    "\n",
    "    call cpu_time(stop_time_1)\n",
    "\n",
    "    total_time_1 = stop_time_1 - start_time_1\n",
    "\n",
    "    print *\n",
    "\n",
    "    write (*, \"(a)\") \"Matrix C1 is AxB using loops.\"\n",
    "    write (*, \"(10f10.3)\") (c1(i,:), i=1,n)\n",
    "\n",
    "    call cpu_time(start_time_2)\n",
    "    c2 = matmul(a, b)\n",
    "    call cpu_time(stop_time_2)\n",
    "\n",
    "    total_time_2 = stop_time_2 - start_time_2\n",
    "\n",
    "    print *\n",
    "\n",
    "    write (*, \"(a)\") \"Matrix C2 is AxB using matmul.\"\n",
    "    write (*, \"(10f10.3)\") (c1(i,:), i=1,n)\n",
    "\n",
    "    print *\n",
    "\n",
    "    write (*, form) \"Time of Do loop version is: \", total_time_1, \" seconds.\"\n",
    "    write (*, form) \"Time of matmul version is: \", total_time_2, \" seconds.\"\n",
    "\n",
    "    print *\n",
    "\n",
    "    if (any(abs(c1-c2) > 1.0e-4)) then\n",
    "        write (*,  \"(a)\") \"There are significantly different values between the matrices.\"\n",
    "    else\n",
    "        write (*,  \"(a)\") \"The results are approximately the same.\"\n",
    "    end if\n",
    "\n",
    "    print *\n",
    "    write (*, \"(a, f10.3, a)\") \"The speedup ratio is: \", total_time_1/total_time_2, \"x\"\n",
    "\n",
    "end program time_matrix_multiply\n",
    "```"
   ]
  },
  {
   "cell_type": "markdown",
   "id": "4c6b9985-c0cb-4602-8309-4e3369dd3226",
   "metadata": {},
   "source": [
    "The above program is compiled and run using Fortran Package Manager (fpm):"
   ]
  },
  {
   "cell_type": "code",
   "execution_count": 1,
   "id": "e8ba1050-b7b1-4e9e-87bf-28791145e5e7",
   "metadata": {},
   "outputs": [],
   "source": [
    "import os\n",
    "root_dir = os.getcwd()"
   ]
  },
  {
   "cell_type": "code",
   "execution_count": 2,
   "id": "bdaf795d-554a-46e6-b4da-faeb331e1b13",
   "metadata": {},
   "outputs": [],
   "source": [
    "code_dir = root_dir + \"/\" + \"Fortran_Code/Section_8_2_Time_Matrix_Multiply\""
   ]
  },
  {
   "cell_type": "code",
   "execution_count": 3,
   "id": "a7d9f1b1-ba0d-4db1-84ef-7a358f0453a6",
   "metadata": {},
   "outputs": [],
   "source": [
    "os.chdir(code_dir)"
   ]
  },
  {
   "cell_type": "code",
   "execution_count": 4,
   "id": "0fbd7621-e800-4235-ab30-80560cc3e1a8",
   "metadata": {},
   "outputs": [],
   "source": [
    "build_status = os.system(\"fpm build 2>/dev/null\")"
   ]
  },
  {
   "cell_type": "code",
   "execution_count": 5,
   "id": "0483d40b-e849-4574-bcbe-003c81a96dd5",
   "metadata": {},
   "outputs": [
    {
     "name": "stdout",
     "output_type": "stream",
     "text": [
      " Timing report dated: 2022-12-18\n",
      "Matrix A\n",
      "     0.820     0.964     0.895     0.517     0.969     0.158     0.539     0.968     0.025     0.477\n",
      "     0.425     0.557     0.878     0.231     0.483     0.418     0.751     0.473     0.044     0.120\n",
      "     0.155     0.605     0.714     0.488     0.883     0.650     0.820     0.363     0.377     0.194\n",
      "     0.480     0.618     0.611     0.428     0.180     0.454     0.234     0.806     0.055     0.654\n",
      "     0.579     0.457     0.034     0.959     0.009     0.738     0.813     0.649     0.218     0.787\n",
      "     0.147     0.865     0.551     0.597     0.660     0.056     0.249     0.735     0.731     0.809\n",
      "     0.088     0.913     0.793     0.898     0.465     0.015     0.503     0.190     0.429     0.607\n",
      "     0.847     0.227     0.376     0.975     0.691     0.998     0.348     0.327     0.165     0.653\n",
      "     0.492     0.001     0.519     0.067     0.711     0.741     0.060     0.025     0.251     0.299\n",
      "     0.803     0.470     0.650     0.431     0.798     0.941     0.417     0.321     0.170     0.097\n",
      "\n",
      "Matrix B\n",
      "     0.807     0.722     0.157     0.032     0.839     0.911     0.067     0.638     0.277     0.820\n",
      "     0.163     0.179     0.713     0.306     0.294     0.655     0.080     0.449     0.607     0.747\n",
      "     0.566     0.148     0.033     0.115     0.916     0.160     0.767     0.704     0.490     0.411\n",
      "     0.009     0.010     0.682     0.850     0.131     0.282     0.261     0.789     0.289     0.723\n",
      "     0.340     0.804     0.173     0.183     0.743     0.867     0.033     0.281     0.006     0.618\n",
      "     0.539     0.236     0.072     0.941     0.973     0.216     0.242     0.186     0.518     0.690\n",
      "     0.621     0.256     0.827     0.857     0.757     0.188     0.499     0.764     0.351     0.462\n",
      "     0.114     0.544     0.301     0.795     0.947     0.300     0.320     0.579     0.500     0.990\n",
      "     0.996     0.912     0.860     0.481     0.203     0.029     0.475     0.883     0.811     0.286\n",
      "     0.145     0.488     0.958     0.082     0.042     0.731     0.012     0.621     0.113     0.424\n",
      "\n",
      "Matrix C1 is AxB using loops.\n",
      "     2.285     2.638     2.594     2.473     4.083     3.284     1.620     3.585     2.235     4.260\n",
      "     1.904     1.574     1.681     2.014     3.152     1.839     1.473     2.495     1.721     2.759\n",
      "     2.238     2.040     2.311     2.650     3.364     2.112     1.627     2.917     2.040     3.149\n",
      "     1.530     1.671     2.003     2.020     2.755     2.081     1.187     2.586     1.771     3.040\n",
      "     1.880     1.840     2.936     3.055     2.809     2.199     1.257     3.172     1.989     3.452\n",
      "     1.915     2.417     3.015     2.229     2.572     2.421     1.409     3.299     2.180     3.266\n",
      "     1.692     1.649     2.809     2.073     2.219     2.072     1.463     3.114     1.924     2.827\n",
      "     2.228     2.245     2.318     2.725     3.369     2.717     1.247     3.062     1.852     3.649\n",
      "     1.666     1.583     0.876     1.175     2.279     1.573     0.812     1.537     1.069     1.867\n",
      "     2.354     2.112     1.664     2.345     3.631     2.412     1.350     2.635     1.899     3.332\n",
      "\n",
      "Matrix C2 is AxB using matmul.\n",
      "     2.285     2.638     2.594     2.473     4.083     3.284     1.620     3.585     2.235     4.260\n",
      "     1.904     1.574     1.681     2.014     3.152     1.839     1.473     2.495     1.721     2.759\n",
      "     2.238     2.040     2.311     2.650     3.364     2.112     1.627     2.917     2.040     3.149\n",
      "     1.530     1.671     2.003     2.020     2.755     2.081     1.187     2.586     1.771     3.040\n",
      "     1.880     1.840     2.936     3.055     2.809     2.199     1.257     3.172     1.989     3.452\n",
      "     1.915     2.417     3.015     2.229     2.572     2.421     1.409     3.299     2.180     3.266\n",
      "     1.692     1.649     2.809     2.073     2.219     2.072     1.463     3.114     1.924     2.827\n",
      "     2.228     2.245     2.318     2.725     3.369     2.717     1.247     3.062     1.852     3.649\n",
      "     1.666     1.583     0.876     1.175     2.279     1.573     0.812     1.537     1.069     1.867\n",
      "     2.354     2.112     1.664     2.345     3.631     2.412     1.350     2.635     1.899     3.332\n",
      "\n",
      " Time of Do loop version is: .0000800000 seconds.\n",
      " Time of matmul version is: .0000160000 seconds.\n",
      "\n",
      "The results are approximately the same.\n",
      "\n",
      "The speedup ratio is:      5.000x\n"
     ]
    }
   ],
   "source": [
    "exec_status = os.system(\"fpm run 2>/dev/null\")"
   ]
  }
 ],
 "metadata": {
  "kernelspec": {
   "display_name": "Python 3.9.2 64-bit",
   "language": "python",
   "name": "python3"
  },
  "language_info": {
   "codemirror_mode": {
    "name": "ipython",
    "version": 3
   },
   "file_extension": ".py",
   "mimetype": "text/x-python",
   "name": "python",
   "nbconvert_exporter": "python",
   "pygments_lexer": "ipython3",
   "version": "3.9.15"
  },
  "vscode": {
   "interpreter": {
    "hash": "916dbcbb3f70747c44a77c7bcd40155683ae19c65e1c03b4aa3499c5328201f1"
   }
  }
 },
 "nbformat": 4,
 "nbformat_minor": 5
}