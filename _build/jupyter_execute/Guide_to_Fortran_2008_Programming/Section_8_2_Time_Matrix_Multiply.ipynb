{
 "cells": [
  {
   "cell_type": "raw",
   "id": "c40b648f-a44a-4480-bbee-93e7a780f45b",
   "metadata": {},
   "source": [
    "---\n",
    "jupytext:\n",
    "  formats: md:myst\n",
    "  text_representation:\n",
    "    extension: .md\n",
    "    format_name: myst\n",
    "kernelspec:\n",
    "  display_name: Python 3\n",
    "  language: python\n",
    "  name: python3\n",
    "---"
   ]
  },
  {
   "cell_type": "markdown",
   "id": "fc63b62e-3ea6-4588-8b6e-f845bbc6d64c",
   "metadata": {
    "tags": []
   },
   "source": [
    "# Section 8.2: Time Matrix Multiply"
   ]
  },
  {
   "cell_type": "markdown",
   "id": "edfc7d7e-9803-4b96-82f1-bc0d47385f43",
   "metadata": {},
   "source": [
    "Adapted from: \"Guide to Fortran 2008 Programming\" by Walter S. Brainerd (Springer 2015)"
   ]
  },
  {
   "cell_type": "markdown",
   "id": "59ec1bec-3fd7-4061-aa24-c7765d25786f",
   "metadata": {},
   "source": [
    "## Program to demonstrate the performance improvement of using matmul over do loops."
   ]
  },
  {
   "cell_type": "markdown",
   "id": "c36821c7-3b26-404c-8a7c-2f978dfb65d4",
   "metadata": {},
   "source": [
    "```fortran\n",
    "program time_matrix_multiply\n",
    "\n",
    "    ! Compare times of the matmul intrinsic cs DO loops\n",
    "\n",
    "    implicit none\n",
    "    integer, parameter :: n = 10\n",
    "    real, dimension (n, n) :: a, b, c1, c2\n",
    "    character(len=8) :: date\n",
    "    real :: start_time_1, stop_time_1, start_time_2, stop_time_2\n",
    "    real :: total_time_1, total_time_2\n",
    "    integer :: i, j, k\n",
    "    character(len=*), parameter :: form = \"(t2, a, f0.10, a)\"\n",
    "\n",
    "    ! Get date to print on report\n",
    "\n",
    "    call date_and_time(date = date)\n",
    "\n",
    "    print *, \"Timing report dated: \" // date(1:4) &\n",
    "        // \"-\" // date(5:6) // \"-\" // date(7:8)\n",
    "\n",
    "    call random_seed()\n",
    "    call random_number(a)\n",
    "    call random_number(b)\n",
    "    call cpu_time(start_time_1)\n",
    "   \n",
    "    ! Lines below added for effect\n",
    "    ! The matrices of random values will be printed to the screen\n",
    "    write (*, \"(a)\") \"Matrix A\"\n",
    "    write (*, \"(10f10.3)\") (a(i,:), i=1,n)\n",
    "\n",
    "    print *\n",
    "    write (*, \"(a)\") \"Matrix B\"\n",
    "    write (*, \"(10f10.3)\") (b(i,:), i=1,n)\n",
    "\n",
    "    c1 = 0\n",
    "\n",
    "    do k = 1, n\n",
    "        do j = 1, n\n",
    "            do i = 1, n\n",
    "                c1(i, j) = c1(i, j) + a(i, k) * b(k, j)\n",
    "            end do\n",
    "        end do\n",
    "    end do\n",
    "\n",
    "    call cpu_time(stop_time_1)\n",
    "\n",
    "    total_time_1 = stop_time_1 - start_time_1\n",
    "\n",
    "    print *\n",
    "\n",
    "    write (*, \"(a)\") \"Matrix C1 is AxB using loops.\"\n",
    "    write (*, \"(10f10.3)\") (c1(i,:), i=1,n)\n",
    "\n",
    "    call cpu_time(start_time_2)\n",
    "    c2 = matmul(a, b)\n",
    "    call cpu_time(stop_time_2)\n",
    "\n",
    "    total_time_2 = stop_time_2 - start_time_2\n",
    "\n",
    "    print *\n",
    "\n",
    "    write (*, \"(a)\") \"Matrix C2 is AxB using matmul.\"\n",
    "    write (*, \"(10f10.3)\") (c1(i,:), i=1,n)\n",
    "\n",
    "    print *\n",
    "\n",
    "    write (*, form) \"Time of Do loop version is: \", total_time_1, \" seconds.\"\n",
    "    write (*, form) \"Time of matmul version is: \", total_time_2, \" seconds.\"\n",
    "\n",
    "    print *\n",
    "\n",
    "    if (any(abs(c1-c2) > 1.0e-4)) then\n",
    "        write (*,  \"(a)\") \"There are significantly different values between the matrices.\"\n",
    "    else\n",
    "        write (*,  \"(a)\") \"The results are approximately the same.\"\n",
    "    end if\n",
    "\n",
    "    print *\n",
    "    write (*, \"(a, f10.3, a)\") \"The speedup ratio is: \", total_time_1/total_time_2, \"x\"\n",
    "\n",
    "end program time_matrix_multiply\n",
    "```"
   ]
  },
  {
   "cell_type": "markdown",
   "id": "4c6b9985-c0cb-4602-8309-4e3369dd3226",
   "metadata": {},
   "source": [
    "The above program is compiled and run using Fortran Package Manager (fpm):"
   ]
  },
  {
   "cell_type": "code",
   "execution_count": 1,
   "id": "e8ba1050-b7b1-4e9e-87bf-28791145e5e7",
   "metadata": {},
   "outputs": [],
   "source": [
    "import os\n",
    "root_dir = os.getcwd()"
   ]
  },
  {
   "cell_type": "code",
   "execution_count": 2,
   "id": "bdaf795d-554a-46e6-b4da-faeb331e1b13",
   "metadata": {},
   "outputs": [],
   "source": [
    "code_dir = root_dir + \"/\" + \"Fortran_Code/Section_8_2_Time_Matrix_Multiply\""
   ]
  },
  {
   "cell_type": "code",
   "execution_count": 3,
   "id": "a7d9f1b1-ba0d-4db1-84ef-7a358f0453a6",
   "metadata": {},
   "outputs": [],
   "source": [
    "os.chdir(code_dir)"
   ]
  },
  {
   "cell_type": "code",
   "execution_count": 4,
   "id": "0fbd7621-e800-4235-ab30-80560cc3e1a8",
   "metadata": {},
   "outputs": [],
   "source": [
    "build_status = os.system(\"fpm build 2>/dev/null\")"
   ]
  },
  {
   "cell_type": "code",
   "execution_count": 5,
   "id": "0483d40b-e849-4574-bcbe-003c81a96dd5",
   "metadata": {},
   "outputs": [
    {
     "name": "stdout",
     "output_type": "stream",
     "text": [
      " Timing report dated: 2022-12-23\n",
      "Matrix A\n",
      "     0.948     0.283     0.368     0.818     0.495     0.369     0.938     0.276     0.082     0.329\n",
      "     0.256     0.341     0.096     0.960     0.337     0.856     0.239     0.137     0.844     0.022\n",
      "     0.314     0.665     0.731     0.731     0.771     0.132     0.526     0.656     0.332     0.997\n",
      "     0.112     0.141     0.088     0.635     0.431     0.322     0.789     0.854     0.463     0.875\n",
      "     0.137     0.608     0.619     0.479     0.874     0.394     0.513     0.741     0.469     0.637\n",
      "     0.604     0.021     0.570     0.246     0.478     0.840     0.669     0.111     0.393     0.054\n",
      "     0.891     0.140     0.361     0.837     0.354     0.703     0.929     0.635     0.104     0.018\n",
      "     0.112     0.984     0.787     0.235     0.730     0.127     0.255     0.998     0.244     0.568\n",
      "     0.159     0.852     0.409     0.058     0.801     0.963     0.476     0.489     0.877     0.183\n",
      "     0.515     0.142     0.111     0.563     0.854     0.872     0.517     0.645     0.657     0.743\n",
      "\n",
      "Matrix B\n",
      "     0.214     0.542     0.808     0.762     0.337     0.954     0.937     0.952     0.965     0.182\n",
      "     0.700     0.632     0.489     0.852     0.663     0.720     0.567     0.274     0.529     0.194\n",
      "     0.070     0.053     0.569     0.248     0.477     0.382     0.313     0.781     0.683     0.289\n",
      "     0.108     0.967     0.352     0.073     0.943     0.542     0.357     0.762     0.673     0.474\n",
      "     0.247     0.996     0.053     0.630     0.215     0.918     0.120     0.754     0.041     0.604\n",
      "     0.590     0.890     0.349     0.863     0.503     0.215     0.889     0.305     0.517     0.479\n",
      "     0.917     0.698     0.941     0.884     0.133     0.172     0.058     0.720     0.509     0.964\n",
      "     0.901     0.235     0.330     0.430     0.821     0.052     0.533     0.762     0.664     0.827\n",
      "     0.661     0.451     0.356     0.348     0.585     0.039     0.241     0.568     0.210     0.428\n",
      "     0.379     0.335     0.425     0.801     0.846     0.203     0.496     0.906     0.026     0.349\n",
      "\n",
      "Matrix C1 is AxB using loops.\n",
      "     2.143     3.191     2.700     2.985     2.423     2.472     2.227     3.607     2.763     2.480\n",
      "     1.901     2.972     1.663     2.113     2.423     1.627     1.909     2.436     1.986     1.922\n",
      "     2.602     3.227     2.593     3.302     3.463     2.532     2.325     4.202     2.545     2.813\n",
      "     2.624     2.737     2.129     2.750     2.843     1.428     1.823     3.396     1.943     2.760\n",
      "     2.689     3.133     2.278     3.149     3.072     2.228     2.146     3.703     2.307     2.797\n",
      "     1.817     2.520     2.056     2.483     1.702     1.709     1.867     2.668     2.100     2.011\n",
      "     2.404     3.227     2.680     2.923     2.504     2.218     2.418     3.515     3.037     2.712\n",
      "     2.558     2.503     2.083     2.899     2.984     2.162     2.079     3.356     2.278     2.426\n",
      "     2.958     3.261     2.177     3.372     2.657     2.075     2.323     3.026     2.210     2.588\n",
      "     2.775     3.603     2.346     3.431     3.085     2.212     2.576     3.865     2.362     2.927\n",
      "\n",
      "Matrix C2 is AxB using matmul.\n",
      "     2.143     3.191     2.700     2.985     2.423     2.472     2.227     3.607     2.763     2.480\n",
      "     1.901     2.972     1.663     2.113     2.423     1.627     1.909     2.436     1.986     1.922\n",
      "     2.602     3.227     2.593     3.302     3.463     2.532     2.325     4.202     2.545     2.813\n",
      "     2.624     2.737     2.129     2.750     2.843     1.428     1.823     3.396     1.943     2.760\n",
      "     2.689     3.133     2.278     3.149     3.072     2.228     2.146     3.703     2.307     2.797\n",
      "     1.817     2.520     2.056     2.483     1.702     1.709     1.867     2.668     2.100     2.011\n",
      "     2.404     3.227     2.680     2.923     2.504     2.218     2.418     3.515     3.037     2.712\n",
      "     2.558     2.503     2.083     2.899     2.984     2.162     2.079     3.356     2.278     2.426\n",
      "     2.958     3.261     2.177     3.372     2.657     2.075     2.323     3.026     2.210     2.588\n",
      "     2.775     3.603     2.346     3.431     3.085     2.212     2.576     3.865     2.362     2.927\n",
      "\n",
      " Time of Do loop version is: .0000770000 seconds.\n",
      " Time of matmul version is: .0000100000 seconds.\n",
      "\n",
      "The results are approximately the same.\n",
      "\n",
      "The speedup ratio is:      7.700x\n"
     ]
    }
   ],
   "source": [
    "exec_status = os.system(\"fpm run 2>/dev/null\")"
   ]
  }
 ],
 "metadata": {
  "kernelspec": {
   "display_name": "Python 3.9.2 64-bit",
   "language": "python",
   "name": "python3"
  },
  "language_info": {
   "codemirror_mode": {
    "name": "ipython",
    "version": 3
   },
   "file_extension": ".py",
   "mimetype": "text/x-python",
   "name": "python",
   "nbconvert_exporter": "python",
   "pygments_lexer": "ipython3",
   "version": "3.9.15"
  },
  "vscode": {
   "interpreter": {
    "hash": "916dbcbb3f70747c44a77c7bcd40155683ae19c65e1c03b4aa3499c5328201f1"
   }
  }
 },
 "nbformat": 4,
 "nbformat_minor": 5
}