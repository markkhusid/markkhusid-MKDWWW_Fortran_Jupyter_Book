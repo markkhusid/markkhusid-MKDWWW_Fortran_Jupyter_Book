{
 "cells": [
  {
   "cell_type": "raw",
   "id": "c40b648f-a44a-4480-bbee-93e7a780f45b",
   "metadata": {},
   "source": [
    "---\n",
    "jupytext:\n",
    "  formats: md:myst\n",
    "  text_representation:\n",
    "    extension: .md\n",
    "    format_name: myst\n",
    "kernelspec:\n",
    "  display_name: Python 3\n",
    "  language: python\n",
    "  name: python3\n",
    "---"
   ]
  },
  {
   "cell_type": "markdown",
   "id": "fc63b62e-3ea6-4588-8b6e-f845bbc6d64c",
   "metadata": {
    "tags": []
   },
   "source": [
    "# Section 8.2: Time Matrix Multiply"
   ]
  },
  {
   "cell_type": "markdown",
   "id": "edfc7d7e-9803-4b96-82f1-bc0d47385f43",
   "metadata": {},
   "source": [
    "Adapted from: \"Guide to Fortran 2008 Programming\" by Walter S. Brainerd (Springer 2015)"
   ]
  },
  {
   "cell_type": "markdown",
   "id": "59ec1bec-3fd7-4061-aa24-c7765d25786f",
   "metadata": {},
   "source": [
    "## Program to demonstrate the performance improvement of using matmul over do loops."
   ]
  },
  {
   "cell_type": "markdown",
   "id": "c36821c7-3b26-404c-8a7c-2f978dfb65d4",
   "metadata": {},
   "source": [
    "```fortran\n",
    "program time_matrix_multiply\n",
    "\n",
    "    ! Compare times of the matmul intrinsic cs DO loops\n",
    "\n",
    "    implicit none\n",
    "    integer, parameter :: n = 10\n",
    "    real, dimension (n, n) :: a, b, c1, c2\n",
    "    character(len=8) :: date\n",
    "    real :: start_time_1, stop_time_1, start_time_2, stop_time_2\n",
    "    real :: total_time_1, total_time_2\n",
    "    integer :: i, j, k\n",
    "    character(len=*), parameter :: form = \"(t2, a, f0.10, a)\"\n",
    "\n",
    "    ! Get date to print on report\n",
    "\n",
    "    call date_and_time(date = date)\n",
    "\n",
    "    print *, \"Timing report dated: \" // date(1:4) &\n",
    "        // \"-\" // date(5:6) // \"-\" // date(7:8)\n",
    "\n",
    "    call random_seed()\n",
    "    call random_number(a)\n",
    "    call random_number(b)\n",
    "    call cpu_time(start_time_1)\n",
    "   \n",
    "    ! Lines below added for effect\n",
    "    ! The matrices of random values will be printed to the screen\n",
    "    write (*, \"(a)\") \"Matrix A\"\n",
    "    write (*, \"(10f10.3)\") (a(i,:), i=1,n)\n",
    "\n",
    "    print *\n",
    "    write (*, \"(a)\") \"Matrix B\"\n",
    "    write (*, \"(10f10.3)\") (b(i,:), i=1,n)\n",
    "\n",
    "    c1 = 0\n",
    "\n",
    "    do k = 1, n\n",
    "        do j = 1, n\n",
    "            do i = 1, n\n",
    "                c1(i, j) = c1(i, j) + a(i, k) * b(k, j)\n",
    "            end do\n",
    "        end do\n",
    "    end do\n",
    "\n",
    "    call cpu_time(stop_time_1)\n",
    "\n",
    "    total_time_1 = stop_time_1 - start_time_1\n",
    "\n",
    "    print *\n",
    "\n",
    "    write (*, \"(a)\") \"Matrix C1 is AxB using loops.\"\n",
    "    write (*, \"(10f10.3)\") (c1(i,:), i=1,n)\n",
    "\n",
    "    call cpu_time(start_time_2)\n",
    "    c2 = matmul(a, b)\n",
    "    call cpu_time(stop_time_2)\n",
    "\n",
    "    total_time_2 = stop_time_2 - start_time_2\n",
    "\n",
    "    print *\n",
    "\n",
    "    write (*, \"(a)\") \"Matrix C2 is AxB using matmul.\"\n",
    "    write (*, \"(10f10.3)\") (c1(i,:), i=1,n)\n",
    "\n",
    "    print *\n",
    "\n",
    "    write (*, form) \"Time of Do loop version is: \", total_time_1, \" seconds.\"\n",
    "    write (*, form) \"Time of matmul version is: \", total_time_2, \" seconds.\"\n",
    "\n",
    "    print *\n",
    "\n",
    "    if (any(abs(c1-c2) > 1.0e-4)) then\n",
    "        write (*,  \"(a)\") \"There are significantly different values between the matrices.\"\n",
    "    else\n",
    "        write (*,  \"(a)\") \"The results are approximately the same.\"\n",
    "    end if\n",
    "\n",
    "    print *\n",
    "    write (*, \"(a, f10.3, a)\") \"The speedup ratio is: \", total_time_1/total_time_2, \"x\"\n",
    "\n",
    "end program time_matrix_multiply\n",
    "```"
   ]
  },
  {
   "cell_type": "markdown",
   "id": "4c6b9985-c0cb-4602-8309-4e3369dd3226",
   "metadata": {},
   "source": [
    "The above program is compiled and run using Fortran Package Manager (fpm):"
   ]
  },
  {
   "cell_type": "code",
   "execution_count": 1,
   "id": "e8ba1050-b7b1-4e9e-87bf-28791145e5e7",
   "metadata": {},
   "outputs": [],
   "source": [
    "import os\n",
    "root_dir = os.getcwd()"
   ]
  },
  {
   "cell_type": "code",
   "execution_count": 2,
   "id": "bdaf795d-554a-46e6-b4da-faeb331e1b13",
   "metadata": {},
   "outputs": [],
   "source": [
    "code_dir = root_dir + \"/\" + \"Fortran_Code/Section_8_2_Time_Matrix_Multiply\""
   ]
  },
  {
   "cell_type": "code",
   "execution_count": 3,
   "id": "a7d9f1b1-ba0d-4db1-84ef-7a358f0453a6",
   "metadata": {},
   "outputs": [],
   "source": [
    "os.chdir(code_dir)"
   ]
  },
  {
   "cell_type": "code",
   "execution_count": 4,
   "id": "0fbd7621-e800-4235-ab30-80560cc3e1a8",
   "metadata": {},
   "outputs": [],
   "source": [
    "build_status = os.system(\"fpm build > /dev/null\")"
   ]
  },
  {
   "cell_type": "markdown",
   "id": "d878f58b-29c1-4154-8563-76c07816e722",
   "metadata": {},
   "source": [
    "fpm run output is piped into sed to suppress the status of the run command and only print the output of the executable."
   ]
  },
  {
   "cell_type": "code",
   "execution_count": 5,
   "id": "0483d40b-e849-4574-bcbe-003c81a96dd5",
   "metadata": {},
   "outputs": [
    {
     "name": "stdout",
     "output_type": "stream",
     "text": [
      "Matrix A\n",
      "     0.392     0.826     0.615     0.982     0.854     0.432     0.801     0.132     0.604     0.077\n",
      "     0.714     0.150     0.285     0.125     0.861     0.664     0.084     0.109     0.438     0.697\n",
      "     0.771     0.044     0.184     0.101     0.554     0.011     0.547     0.561     0.996     0.372\n",
      "     0.678     0.459     0.441     0.982     0.857     0.917     0.179     0.444     0.826     0.171\n",
      "     0.024     0.879     0.784     0.761     0.818     0.012     0.578     0.587     0.452     0.543\n",
      "     0.993     0.911     0.672     0.450     0.885     0.725     0.864     0.486     0.314     0.177\n",
      "     0.078     0.019     0.156     0.748     0.600     0.929     0.972     0.831     0.295     0.685\n",
      "     0.743     0.641     0.601     0.985     0.448     0.681     0.893     0.980     0.708     0.417\n",
      "     0.687     0.907     0.128     0.440     0.104     0.602     0.277     0.065     0.409     0.158\n",
      "     0.217     0.812     0.546     0.200     0.279     0.821     0.470     0.573     0.158     0.666\n",
      "\n",
      "Matrix B\n",
      "     0.747     0.870     0.647     0.624     0.197     0.299     0.706     0.060     0.621     0.526\n",
      "     0.071     0.419     0.619     0.402     0.203     0.388     0.385     0.012     0.063     0.311\n",
      "     0.985     0.642     0.362     0.771     0.004     0.886     0.277     0.506     0.927     0.872\n",
      "     0.384     0.626     0.547     0.436     0.895     0.347     0.469     0.567     0.227     0.662\n",
      "     0.212     0.980     0.518     0.304     0.342     0.935     0.018     0.730     0.745     0.213\n",
      "     0.286     0.939     0.674     0.885     0.898     0.932     0.537     0.340     0.471     0.765\n",
      "     0.093     0.807     0.829     0.386     0.155     0.352     0.339     0.077     0.121     0.669\n",
      "     0.683     0.696     0.043     0.604     0.232     0.462     0.211     0.873     0.402     0.151\n",
      "     0.806     0.646     0.751     0.666     0.222     0.234     0.414     0.992     0.492     0.489\n",
      "     0.705     0.737     0.528     0.472     0.503     0.335     0.222     0.963     0.827     0.646\n",
      "\n",
      "Matrix C1 is AxB using loops.\n",
      "     2.345     4.124     3.421     2.947     2.134     3.033     2.039     2.519     2.438     3.063\n",
      "     2.173     3.353     2.391     2.349     1.661     2.407     1.459     2.321     2.545     2.183\n",
      "     2.421     3.174     2.364     2.252     1.075     1.783     1.474     2.483     2.183     1.951\n",
      "     2.901     4.495     3.359     3.416     2.625     3.286     2.280     3.148     2.900     3.120\n",
      "     2.525     3.750     2.822     2.699     1.758     2.845     1.578     2.969     2.562     2.705\n",
      "     2.827     4.875     3.709     3.530     2.145     3.565     2.419     2.529     3.000     3.352\n",
      "     2.273     4.163     2.889     2.904     2.482     2.879     1.745     3.012     2.412     2.880\n",
      "     3.479     5.164     3.859     3.958     2.658     3.470     2.668     3.500     3.132     3.744\n",
      "     1.579     2.654     2.377     2.142     1.518     1.758     1.714     1.283     1.456     2.028\n",
      "     2.161     3.420     2.532     2.728     1.797     2.649     1.650     2.229     2.248     2.571\n",
      "\n",
      "Matrix C2 is AxB using matmul.\n",
      "     2.345     4.124     3.421     2.947     2.134     3.033     2.039     2.519     2.438     3.063\n",
      "     2.173     3.353     2.391     2.349     1.661     2.407     1.459     2.321     2.545     2.183\n",
      "     2.421     3.174     2.364     2.252     1.075     1.783     1.474     2.483     2.183     1.951\n",
      "     2.901     4.495     3.359     3.416     2.625     3.286     2.280     3.148     2.900     3.120\n",
      "     2.525     3.750     2.822     2.699     1.758     2.845     1.578     2.969     2.562     2.705\n",
      "     2.827     4.875     3.709     3.530     2.145     3.565     2.419     2.529     3.000     3.352\n",
      "     2.273     4.163     2.889     2.904     2.482     2.879     1.745     3.012     2.412     2.880\n",
      "     3.479     5.164     3.859     3.958     2.658     3.470     2.668     3.500     3.132     3.744\n",
      "     1.579     2.654     2.377     2.142     1.518     1.758     1.714     1.283     1.456     2.028\n",
      "     2.161     3.420     2.532     2.728     1.797     2.649     1.650     2.229     2.248     2.571\n",
      "\n",
      " Time of Do loop version is: .0001370000 seconds.\n",
      " Time of matmul version is: .0000860001 seconds.\n",
      "\n",
      "The results are approximately the same.\n",
      "\n",
      "The speedup ratio is:      1.593x\n"
     ]
    },
    {
     "name": "stderr",
     "output_type": "stream",
     "text": [
      "Project is up to date\n"
     ]
    }
   ],
   "source": [
    "exec_status = os.system(\"fpm run | sed 1,1d\")"
   ]
  },
  {
   "cell_type": "code",
   "execution_count": null,
   "id": "4ddf35b3-f0bf-439d-9e19-6199fba3455a",
   "metadata": {},
   "outputs": [],
   "source": []
  }
 ],
 "metadata": {
  "kernelspec": {
   "display_name": "Python 3 (ipykernel)",
   "language": "python",
   "name": "python3"
  },
  "language_info": {
   "codemirror_mode": {
    "name": "ipython",
    "version": 3
   },
   "file_extension": ".py",
   "mimetype": "text/x-python",
   "name": "python",
   "nbconvert_exporter": "python",
   "pygments_lexer": "ipython3",
   "version": "3.9.13"
  }
 },
 "nbformat": 4,
 "nbformat_minor": 5
}