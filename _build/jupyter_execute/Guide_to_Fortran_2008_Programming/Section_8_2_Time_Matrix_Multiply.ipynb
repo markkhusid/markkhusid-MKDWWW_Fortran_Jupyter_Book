{
 "cells": [
  {
   "cell_type": "raw",
   "id": "c40b648f-a44a-4480-bbee-93e7a780f45b",
   "metadata": {},
   "source": [
    "---\n",
    "jupytext:\n",
    "  formats: md:myst\n",
    "  text_representation:\n",
    "    extension: .md\n",
    "    format_name: myst\n",
    "kernelspec:\n",
    "  display_name: Python 3\n",
    "  language: python\n",
    "  name: python3\n",
    "---"
   ]
  },
  {
   "cell_type": "markdown",
   "id": "fc63b62e-3ea6-4588-8b6e-f845bbc6d64c",
   "metadata": {
    "tags": []
   },
   "source": [
    "# Section 8.2: Time Matrix Multiply"
   ]
  },
  {
   "cell_type": "markdown",
   "id": "edfc7d7e-9803-4b96-82f1-bc0d47385f43",
   "metadata": {},
   "source": [
    "Adapted from: \"Guide to Fortran 2008 Programming\" by Walter S. Brainerd (Springer 2015)"
   ]
  },
  {
   "cell_type": "markdown",
   "id": "59ec1bec-3fd7-4061-aa24-c7765d25786f",
   "metadata": {},
   "source": [
    "## Program to demonstrate the performance improvement of using matmul over do loops."
   ]
  },
  {
   "cell_type": "markdown",
   "id": "c36821c7-3b26-404c-8a7c-2f978dfb65d4",
   "metadata": {},
   "source": [
    "```fortran\n",
    "program time_matrix_multiply\n",
    "\n",
    "    ! Compare times of the matmul intrinsic cs DO loops\n",
    "\n",
    "    implicit none\n",
    "    integer, parameter :: n = 10\n",
    "    real, dimension (n, n) :: a, b, c1, c2\n",
    "    character(len=8) :: date\n",
    "    real :: start_time_1, stop_time_1, start_time_2, stop_time_2\n",
    "    real :: total_time_1, total_time_2\n",
    "    integer :: i, j, k\n",
    "    character(len=*), parameter :: form = \"(t2, a, f0.10, a)\"\n",
    "\n",
    "    ! Get date to print on report\n",
    "\n",
    "    call date_and_time(date = date)\n",
    "\n",
    "    print *, \"Timing report dated: \" // date(1:4) &\n",
    "        // \"-\" // date(5:6) // \"-\" // date(7:8)\n",
    "\n",
    "    call random_seed()\n",
    "    call random_number(a)\n",
    "    call random_number(b)\n",
    "    call cpu_time(start_time_1)\n",
    "   \n",
    "    ! Lines below added for effect\n",
    "    ! The matrices of random values will be printed to the screen\n",
    "    write (*, \"(a)\") \"Matrix A\"\n",
    "    write (*, \"(10f10.3)\") (a(i,:), i=1,n)\n",
    "\n",
    "    print *\n",
    "    write (*, \"(a)\") \"Matrix B\"\n",
    "    write (*, \"(10f10.3)\") (b(i,:), i=1,n)\n",
    "\n",
    "    c1 = 0\n",
    "\n",
    "    do k = 1, n\n",
    "        do j = 1, n\n",
    "            do i = 1, n\n",
    "                c1(i, j) = c1(i, j) + a(i, k) * b(k, j)\n",
    "            end do\n",
    "        end do\n",
    "    end do\n",
    "\n",
    "    call cpu_time(stop_time_1)\n",
    "\n",
    "    total_time_1 = stop_time_1 - start_time_1\n",
    "\n",
    "    print *\n",
    "\n",
    "    write (*, \"(a)\") \"Matrix C1 is AxB using loops.\"\n",
    "    write (*, \"(10f10.3)\") (c1(i,:), i=1,n)\n",
    "\n",
    "    call cpu_time(start_time_2)\n",
    "    c2 = matmul(a, b)\n",
    "    call cpu_time(stop_time_2)\n",
    "\n",
    "    total_time_2 = stop_time_2 - start_time_2\n",
    "\n",
    "    print *\n",
    "\n",
    "    write (*, \"(a)\") \"Matrix C2 is AxB using matmul.\"\n",
    "    write (*, \"(10f10.3)\") (c1(i,:), i=1,n)\n",
    "\n",
    "    print *\n",
    "\n",
    "    write (*, form) \"Time of Do loop version is: \", total_time_1, \" seconds.\"\n",
    "    write (*, form) \"Time of matmul version is: \", total_time_2, \" seconds.\"\n",
    "\n",
    "    print *\n",
    "\n",
    "    if (any(abs(c1-c2) > 1.0e-4)) then\n",
    "        write (*,  \"(a)\") \"There are significantly different values between the matrices.\"\n",
    "    else\n",
    "        write (*,  \"(a)\") \"The results are approximately the same.\"\n",
    "    end if\n",
    "\n",
    "    print *\n",
    "    write (*, \"(a, f10.3, a)\") \"The speedup ratio is: \", total_time_1/total_time_2, \"x\"\n",
    "\n",
    "end program time_matrix_multiply\n",
    "```"
   ]
  },
  {
   "cell_type": "markdown",
   "id": "4c6b9985-c0cb-4602-8309-4e3369dd3226",
   "metadata": {},
   "source": [
    "The above program is compiled and run using Fortran Package Manager (fpm):"
   ]
  },
  {
   "cell_type": "code",
   "execution_count": 1,
   "id": "e8ba1050-b7b1-4e9e-87bf-28791145e5e7",
   "metadata": {},
   "outputs": [],
   "source": [
    "import os\n",
    "root_dir = os.getcwd()"
   ]
  },
  {
   "cell_type": "code",
   "execution_count": 2,
   "id": "bdaf795d-554a-46e6-b4da-faeb331e1b13",
   "metadata": {},
   "outputs": [],
   "source": [
    "code_dir = root_dir + \"/\" + \"Fortran_Code/Section_8_2_Time_Matrix_Multiply\""
   ]
  },
  {
   "cell_type": "code",
   "execution_count": 3,
   "id": "a7d9f1b1-ba0d-4db1-84ef-7a358f0453a6",
   "metadata": {},
   "outputs": [],
   "source": [
    "os.chdir(code_dir)"
   ]
  },
  {
   "cell_type": "code",
   "execution_count": 4,
   "id": "0fbd7621-e800-4235-ab30-80560cc3e1a8",
   "metadata": {},
   "outputs": [
    {
     "name": "stderr",
     "output_type": "stream",
     "text": [
      "Project is up to date\n"
     ]
    }
   ],
   "source": [
    "build_status = os.system(\"fpm build > /dev/null\")"
   ]
  },
  {
   "cell_type": "markdown",
   "id": "d878f58b-29c1-4154-8563-76c07816e722",
   "metadata": {},
   "source": [
    "fpm run output is piped into sed to suppress the status of the run command and only print the output of the executable."
   ]
  },
  {
   "cell_type": "code",
   "execution_count": 5,
   "id": "0483d40b-e849-4574-bcbe-003c81a96dd5",
   "metadata": {},
   "outputs": [
    {
     "name": "stdout",
     "output_type": "stream",
     "text": [
      "Matrix A\n",
      "     0.043     0.078     0.230     0.068     0.046     0.077     0.852     0.505     0.177     0.760\n",
      "     0.884     0.966     0.149     0.880     0.025     0.369     0.759     0.493     0.376     0.936\n",
      "     0.969     0.041     0.967     0.267     0.279     0.449     0.405     0.389     0.076     0.038\n",
      "     0.167     0.779     0.388     0.880     0.769     0.747     0.586     0.842     0.480     0.695\n",
      "     0.193     0.373     0.245     0.291     0.404     0.618     0.179     0.498     0.791     0.172\n",
      "     0.826     0.669     0.628     0.877     0.383     0.894     0.785     0.434     0.946     0.515\n",
      "     0.956     0.990     0.748     0.089     0.885     0.424     0.201     0.158     0.911     0.141\n",
      "     0.833     0.057     0.496     0.346     0.975     0.248     0.942     0.854     0.047     0.370\n",
      "     0.076     0.751     0.554     0.559     0.798     0.332     0.657     0.699     0.713     0.276\n",
      "     0.056     0.301     0.651     0.036     0.720     0.310     0.936     0.031     0.770     0.908\n",
      "\n",
      "Matrix B\n",
      "     0.272     0.356     0.133     0.990     0.981     0.547     0.182     0.242     0.425     0.500\n",
      "     0.175     0.304     0.851     0.738     0.926     0.174     0.237     0.462     0.101     0.486\n",
      "     0.357     0.750     0.533     0.427     0.957     0.842     0.180     0.998     0.410     0.729\n",
      "     0.194     0.472     0.634     0.696     0.004     0.606     0.445     0.212     0.149     0.689\n",
      "     0.552     0.664     0.592     0.500     0.783     0.807     0.662     0.480     0.078     0.959\n",
      "     0.254     0.780     0.150     0.009     0.266     0.416     0.652     0.961     0.582     0.835\n",
      "     0.908     0.930     0.352     0.138     0.820     0.674     0.996     0.143     0.425     0.965\n",
      "     0.537     0.071     0.731     0.738     0.159     0.618     0.859     0.488     0.829     0.956\n",
      "     0.870     0.578     0.294     0.416     0.226     0.033     0.147     0.310     0.438     0.286\n",
      "     0.666     0.938     0.540     0.424     0.324     0.027     0.205     0.371     0.224     0.216\n",
      "\n",
      "Matrix C1 is AxB using loops.\n",
      "     1.870     1.979     1.408     1.157     1.458     1.255     1.643     1.093     1.208     1.902\n",
      "     2.645     3.277     2.891     3.303     3.115     2.338     2.492     2.175     1.988     3.472\n",
      "     1.603     2.229     1.551     2.123     2.676     2.443     1.713     2.126     1.672     2.829\n",
      "     2.968     3.628     3.355     3.106     3.008     2.968     3.192     2.962     2.247     4.369\n",
      "     1.873     2.073     1.743     1.776     1.712     1.596     1.726     1.891     1.528     2.473\n",
      "     3.286     4.125     3.082     3.432     3.667     3.154     3.049     3.174     2.580     4.469\n",
      "     2.468     3.019     2.543     3.088     3.818     2.537     1.945     2.727     1.788     3.405\n",
      "     2.682     3.000     2.426     2.746     3.213     3.157     2.969     2.206     2.047     4.004\n",
      "     2.758     3.055     2.922     2.677     2.916     2.666     2.701     2.498     1.907     3.801\n",
      "     2.925     3.507     2.177     1.803     2.846     2.065     2.153     2.180     1.528     2.974\n",
      "\n",
      "Matrix C2 is AxB using matmul.\n",
      "     1.870     1.979     1.408     1.157     1.458     1.255     1.643     1.093     1.208     1.902\n",
      "     2.645     3.277     2.891     3.303     3.115     2.338     2.492     2.175     1.988     3.472\n",
      "     1.603     2.229     1.551     2.123     2.676     2.443     1.713     2.126     1.672     2.829\n",
      "     2.968     3.628     3.355     3.106     3.008     2.968     3.192     2.962     2.247     4.369\n",
      "     1.873     2.073     1.743     1.776     1.712     1.596     1.726     1.891     1.528     2.473\n",
      "     3.286     4.125     3.082     3.432     3.667     3.154     3.049     3.174     2.580     4.469\n",
      "     2.468     3.019     2.543     3.088     3.818     2.537     1.945     2.727     1.788     3.405\n",
      "     2.682     3.000     2.426     2.746     3.213     3.157     2.969     2.206     2.047     4.004\n",
      "     2.758     3.055     2.922     2.677     2.916     2.666     2.701     2.498     1.907     3.801\n",
      "     2.925     3.507     2.177     1.803     2.846     2.065     2.153     2.180     1.528     2.974\n",
      "\n",
      " Time of Do loop version is: .0000779997 seconds.\n",
      " Time of matmul version is: .0000100001 seconds.\n",
      "\n",
      "The results are approximately the same.\n",
      "\n",
      "The speedup ratio is:      7.800x\n"
     ]
    },
    {
     "name": "stderr",
     "output_type": "stream",
     "text": [
      "Project is up to date\n"
     ]
    }
   ],
   "source": [
    "exec_status = os.system(\"fpm run | sed 1,1d\")"
   ]
  },
  {
   "cell_type": "code",
   "execution_count": null,
   "id": "4ddf35b3-f0bf-439d-9e19-6199fba3455a",
   "metadata": {},
   "outputs": [],
   "source": []
  }
 ],
 "metadata": {
  "kernelspec": {
   "display_name": "Python 3 (ipykernel)",
   "language": "python",
   "name": "python3"
  },
  "language_info": {
   "codemirror_mode": {
    "name": "ipython",
    "version": 3
   },
   "file_extension": ".py",
   "mimetype": "text/x-python",
   "name": "python",
   "nbconvert_exporter": "python",
   "pygments_lexer": "ipython3",
   "version": "3.9.15"
  }
 },
 "nbformat": 4,
 "nbformat_minor": 5
}