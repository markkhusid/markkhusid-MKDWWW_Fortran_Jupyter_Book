{
 "cells": [
  {
   "cell_type": "raw",
   "id": "c40b648f-a44a-4480-bbee-93e7a780f45b",
   "metadata": {},
   "source": [
    "---\n",
    "jupytext:\n",
    "  formats: md:myst\n",
    "  text_representation:\n",
    "    extension: .md\n",
    "    format_name: myst\n",
    "kernelspec:\n",
    "  display_name: Python 3\n",
    "  language: python\n",
    "  name: python3\n",
    "---"
   ]
  },
  {
   "cell_type": "markdown",
   "id": "fc63b62e-3ea6-4588-8b6e-f845bbc6d64c",
   "metadata": {
    "tags": []
   },
   "source": [
    "# Section 8.2: Time Matrix Multiply"
   ]
  },
  {
   "cell_type": "markdown",
   "id": "edfc7d7e-9803-4b96-82f1-bc0d47385f43",
   "metadata": {},
   "source": [
    "Adapted from: \"Guide to Fortran 2008 Programming\" by Walter S. Brainerd (Springer 2015)"
   ]
  },
  {
   "cell_type": "markdown",
   "id": "59ec1bec-3fd7-4061-aa24-c7765d25786f",
   "metadata": {},
   "source": [
    "## Program to demonstrate the performance improvement of using matmul over do loops."
   ]
  },
  {
   "cell_type": "markdown",
   "id": "c36821c7-3b26-404c-8a7c-2f978dfb65d4",
   "metadata": {},
   "source": [
    "```fortran\n",
    "program time_matrix_multiply\n",
    "\n",
    "    ! Compare times of the matmul intrinsic cs DO loops\n",
    "\n",
    "    implicit none\n",
    "    integer, parameter :: n = 10\n",
    "    real, dimension (n, n) :: a, b, c1, c2\n",
    "    character(len=8) :: date\n",
    "    real :: start_time_1, stop_time_1, start_time_2, stop_time_2\n",
    "    real :: total_time_1, total_time_2\n",
    "    integer :: i, j, k\n",
    "    character(len=*), parameter :: form = \"(t2, a, f0.10, a)\"\n",
    "\n",
    "    ! Get date to print on report\n",
    "\n",
    "    call date_and_time(date = date)\n",
    "\n",
    "    print *, \"Timing report dated: \" // date(1:4) &\n",
    "        // \"-\" // date(5:6) // \"-\" // date(7:8)\n",
    "\n",
    "    call random_seed()\n",
    "    call random_number(a)\n",
    "    call random_number(b)\n",
    "    call cpu_time(start_time_1)\n",
    "   \n",
    "    ! Lines below added for effect\n",
    "    ! The matrices of random values will be printed to the screen\n",
    "    write (*, \"(a)\") \"Matrix A\"\n",
    "    write (*, \"(10f10.3)\") (a(i,:), i=1,n)\n",
    "\n",
    "    print *\n",
    "    write (*, \"(a)\") \"Matrix B\"\n",
    "    write (*, \"(10f10.3)\") (b(i,:), i=1,n)\n",
    "\n",
    "    c1 = 0\n",
    "\n",
    "    do k = 1, n\n",
    "        do j = 1, n\n",
    "            do i = 1, n\n",
    "                c1(i, j) = c1(i, j) + a(i, k) * b(k, j)\n",
    "            end do\n",
    "        end do\n",
    "    end do\n",
    "\n",
    "    call cpu_time(stop_time_1)\n",
    "\n",
    "    total_time_1 = stop_time_1 - start_time_1\n",
    "\n",
    "    print *\n",
    "\n",
    "    write (*, \"(a)\") \"Matrix C1 is AxB using loops.\"\n",
    "    write (*, \"(10f10.3)\") (c1(i,:), i=1,n)\n",
    "\n",
    "    call cpu_time(start_time_2)\n",
    "    c2 = matmul(a, b)\n",
    "    call cpu_time(stop_time_2)\n",
    "\n",
    "    total_time_2 = stop_time_2 - start_time_2\n",
    "\n",
    "    print *\n",
    "\n",
    "    write (*, \"(a)\") \"Matrix C2 is AxB using matmul.\"\n",
    "    write (*, \"(10f10.3)\") (c1(i,:), i=1,n)\n",
    "\n",
    "    print *\n",
    "\n",
    "    write (*, form) \"Time of Do loop version is: \", total_time_1, \" seconds.\"\n",
    "    write (*, form) \"Time of matmul version is: \", total_time_2, \" seconds.\"\n",
    "\n",
    "    print *\n",
    "\n",
    "    if (any(abs(c1-c2) > 1.0e-4)) then\n",
    "        write (*,  \"(a)\") \"There are significantly different values between the matrices.\"\n",
    "    else\n",
    "        write (*,  \"(a)\") \"The results are approximately the same.\"\n",
    "    end if\n",
    "\n",
    "    print *\n",
    "    write (*, \"(a, f10.3, a)\") \"The speedup ratio is: \", total_time_1/total_time_2, \"x\"\n",
    "\n",
    "end program time_matrix_multiply\n",
    "```"
   ]
  },
  {
   "cell_type": "markdown",
   "id": "4c6b9985-c0cb-4602-8309-4e3369dd3226",
   "metadata": {},
   "source": [
    "The above program is compiled and run using Fortran Package Manager (fpm):"
   ]
  },
  {
   "cell_type": "code",
   "execution_count": 1,
   "id": "e8ba1050-b7b1-4e9e-87bf-28791145e5e7",
   "metadata": {},
   "outputs": [],
   "source": [
    "import os\n",
    "root_dir = os.getcwd()"
   ]
  },
  {
   "cell_type": "code",
   "execution_count": 2,
   "id": "bdaf795d-554a-46e6-b4da-faeb331e1b13",
   "metadata": {},
   "outputs": [],
   "source": [
    "code_dir = root_dir + \"/\" + \"Fortran_Code/Section_8_2_Time_Matrix_Multiply\""
   ]
  },
  {
   "cell_type": "code",
   "execution_count": 3,
   "id": "a7d9f1b1-ba0d-4db1-84ef-7a358f0453a6",
   "metadata": {},
   "outputs": [],
   "source": [
    "os.chdir(code_dir)"
   ]
  },
  {
   "cell_type": "code",
   "execution_count": 4,
   "id": "0fbd7621-e800-4235-ab30-80560cc3e1a8",
   "metadata": {},
   "outputs": [],
   "source": [
    "build_status = os.system(\"fpm build 2>/dev/null\")"
   ]
  },
  {
   "cell_type": "code",
   "execution_count": 5,
   "id": "0483d40b-e849-4574-bcbe-003c81a96dd5",
   "metadata": {},
   "outputs": [
    {
     "name": "stdout",
     "output_type": "stream",
     "text": [
      " Timing report dated: 2022-11-22\n",
      "Matrix A\n",
      "     0.018     0.433     0.031     0.674     0.732     0.158     0.126     0.788     0.552     0.525\n",
      "     0.606     0.765     0.640     0.461     0.171     0.002     0.670     0.870     0.421     0.982\n",
      "     0.732     0.527     0.105     0.499     0.515     0.898     0.227     0.086     0.043     0.851\n",
      "     0.302     0.152     0.819     0.846     0.356     0.998     0.047     0.240     0.709     0.730\n",
      "     0.161     0.234     0.670     0.124     0.875     0.218     0.792     0.538     0.138     0.144\n",
      "     0.690     0.174     0.774     0.263     0.870     0.670     0.268     0.955     0.875     0.760\n",
      "     0.660     0.123     0.021     0.252     0.423     0.841     0.027     0.906     0.179     0.607\n",
      "     0.596     0.849     0.082     0.987     0.676     0.817     0.496     0.300     0.101     0.852\n",
      "     0.409     0.773     0.104     0.415     0.355     0.141     0.672     0.685     0.404     0.822\n",
      "     0.900     0.676     0.006     0.833     0.797     0.676     0.509     0.237     0.040     0.108\n",
      "\n",
      "Matrix B\n",
      "     0.809     0.717     0.321     0.058     0.296     0.298     0.518     0.989     0.686     0.587\n",
      "     0.170     0.161     0.619     0.971     0.745     0.524     0.872     0.130     0.154     0.731\n",
      "     0.108     0.063     0.729     0.021     0.266     0.313     0.197     0.865     0.044     0.285\n",
      "     0.536     0.221     0.874     0.506     0.346     0.595     0.048     0.838     0.625     0.238\n",
      "     0.278     0.322     0.670     0.217     0.591     0.379     0.212     0.275     0.737     0.335\n",
      "     0.357     0.373     0.711     0.319     0.550     0.752     0.426     0.084     0.104     0.298\n",
      "     0.411     0.490     0.861     0.934     0.833     0.639     0.776     0.031     0.495     0.808\n",
      "     0.153     0.978     0.837     0.064     0.562     0.067     0.700     0.043     0.282     0.172\n",
      "     0.395     0.966     0.007     0.927     0.583     0.176     0.100     0.136     0.004     0.558\n",
      "     0.261     0.996     0.999     0.317     0.372     0.960     0.532     0.132     0.829     0.002\n",
      "\n",
      "Matrix C1 is AxB using loops.\n",
      "     1.240     2.416     2.783     1.818     2.154     1.774     1.630     1.062     1.780     1.334\n",
      "     1.814     3.319     3.941     2.445     2.839     2.626     2.858     1.930     2.368     2.192\n",
      "     1.768     2.311     3.175     1.734     2.188     2.670     2.068     1.647     2.214     1.627\n",
      "     1.793     2.635     3.450     1.955     2.332     2.687     1.655     2.122     1.860     1.616\n",
      "     1.129     1.776     2.811     1.520     2.176     1.654     1.785     1.217     1.585     1.653\n",
      "     2.092     3.826     3.976     2.123     3.065     2.648     2.511     2.160     2.445     2.176\n",
      "     1.488     2.677     2.794     1.087     1.955     1.903     1.909     1.230     1.802     1.214\n",
      "     2.155     2.792     4.203     2.614     2.980     3.280     2.661     2.008     2.780     2.209\n",
      "     1.599     2.891     3.362     2.415     2.642     2.383     2.539     1.267     2.149     1.983\n",
      "     2.042     2.074     3.199     2.081     2.523     2.383     2.174     2.003     2.309     2.165\n",
      "\n",
      "Matrix C2 is AxB using matmul.\n",
      "     1.240     2.416     2.783     1.818     2.154     1.774     1.630     1.062     1.780     1.334\n",
      "     1.814     3.319     3.941     2.445     2.839     2.626     2.858     1.930     2.368     2.192\n",
      "     1.768     2.311     3.175     1.734     2.188     2.670     2.068     1.647     2.214     1.627\n",
      "     1.793     2.635     3.450     1.955     2.332     2.687     1.655     2.122     1.860     1.616\n",
      "     1.129     1.776     2.811     1.520     2.176     1.654     1.785     1.217     1.585     1.653\n",
      "     2.092     3.826     3.976     2.123     3.065     2.648     2.511     2.160     2.445     2.176\n",
      "     1.488     2.677     2.794     1.087     1.955     1.903     1.909     1.230     1.802     1.214\n",
      "     2.155     2.792     4.203     2.614     2.980     3.280     2.661     2.008     2.780     2.209\n",
      "     1.599     2.891     3.362     2.415     2.642     2.383     2.539     1.267     2.149     1.983\n",
      "     2.042     2.074     3.199     2.081     2.523     2.383     2.174     2.003     2.309     2.165\n",
      "\n",
      " Time of Do loop version is: .0000890000 seconds.\n",
      " Time of matmul version is: .0000109999 seconds.\n",
      "\n",
      "The results are approximately the same.\n",
      "\n",
      "The speedup ratio is:      8.091x\n"
     ]
    }
   ],
   "source": [
    "exec_status = os.system(\"fpm run 2>/dev/null\")"
   ]
  }
 ],
 "metadata": {
  "kernelspec": {
   "display_name": "Python 3.9.2 64-bit",
   "language": "python",
   "name": "python3"
  },
  "language_info": {
   "codemirror_mode": {
    "name": "ipython",
    "version": 3
   },
   "file_extension": ".py",
   "mimetype": "text/x-python",
   "name": "python",
   "nbconvert_exporter": "python",
   "pygments_lexer": "ipython3",
   "version": "3.9.15"
  },
  "vscode": {
   "interpreter": {
    "hash": "916dbcbb3f70747c44a77c7bcd40155683ae19c65e1c03b4aa3499c5328201f1"
   }
  }
 },
 "nbformat": 4,
 "nbformat_minor": 5
}