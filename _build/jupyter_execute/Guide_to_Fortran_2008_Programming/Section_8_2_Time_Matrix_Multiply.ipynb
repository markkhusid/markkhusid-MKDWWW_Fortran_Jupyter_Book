{
 "cells": [
  {
   "cell_type": "raw",
   "id": "c40b648f-a44a-4480-bbee-93e7a780f45b",
   "metadata": {},
   "source": [
    "---\n",
    "jupytext:\n",
    "  formats: md:myst\n",
    "  text_representation:\n",
    "    extension: .md\n",
    "    format_name: myst\n",
    "kernelspec:\n",
    "  display_name: Python 3\n",
    "  language: python\n",
    "  name: python3\n",
    "---"
   ]
  },
  {
   "cell_type": "markdown",
   "id": "fc63b62e-3ea6-4588-8b6e-f845bbc6d64c",
   "metadata": {
    "tags": []
   },
   "source": [
    "# Section 8.2: Time Matrix Multiply"
   ]
  },
  {
   "cell_type": "markdown",
   "id": "edfc7d7e-9803-4b96-82f1-bc0d47385f43",
   "metadata": {},
   "source": [
    "Adapted from: \"Guide to Fortran 2008 Programming\" by Walter S. Brainerd (Springer 2015)"
   ]
  },
  {
   "cell_type": "markdown",
   "id": "59ec1bec-3fd7-4061-aa24-c7765d25786f",
   "metadata": {},
   "source": [
    "## Program to demonstrate the performance improvement of using matmul over do loops."
   ]
  },
  {
   "cell_type": "markdown",
   "id": "c36821c7-3b26-404c-8a7c-2f978dfb65d4",
   "metadata": {},
   "source": [
    "```fortran\n",
    "program time_matrix_multiply\n",
    "\n",
    "    ! Compare times of the matmul intrinsic cs DO loops\n",
    "\n",
    "    implicit none\n",
    "    integer, parameter :: n = 10\n",
    "    real, dimension (n, n) :: a, b, c1, c2\n",
    "    character(len=8) :: date\n",
    "    real :: start_time_1, stop_time_1, start_time_2, stop_time_2\n",
    "    real :: total_time_1, total_time_2\n",
    "    integer :: i, j, k\n",
    "    character(len=*), parameter :: form = \"(t2, a, f0.10, a)\"\n",
    "\n",
    "    ! Get date to print on report\n",
    "\n",
    "    call date_and_time(date = date)\n",
    "\n",
    "    print *, \"Timing report dated: \" // date(1:4) &\n",
    "        // \"-\" // date(5:6) // \"-\" // date(7:8)\n",
    "\n",
    "    call random_seed()\n",
    "    call random_number(a)\n",
    "    call random_number(b)\n",
    "    call cpu_time(start_time_1)\n",
    "   \n",
    "    ! Lines below added for effect\n",
    "    ! The matrices of random values will be printed to the screen\n",
    "    write (*, \"(a)\") \"Matrix A\"\n",
    "    write (*, \"(10f10.3)\") (a(i,:), i=1,n)\n",
    "\n",
    "    print *\n",
    "    write (*, \"(a)\") \"Matrix B\"\n",
    "    write (*, \"(10f10.3)\") (b(i,:), i=1,n)\n",
    "\n",
    "    c1 = 0\n",
    "\n",
    "    do k = 1, n\n",
    "        do j = 1, n\n",
    "            do i = 1, n\n",
    "                c1(i, j) = c1(i, j) + a(i, k) * b(k, j)\n",
    "            end do\n",
    "        end do\n",
    "    end do\n",
    "\n",
    "    call cpu_time(stop_time_1)\n",
    "\n",
    "    total_time_1 = stop_time_1 - start_time_1\n",
    "\n",
    "    print *\n",
    "\n",
    "    write (*, \"(a)\") \"Matrix C1 is AxB using loops.\"\n",
    "    write (*, \"(10f10.3)\") (c1(i,:), i=1,n)\n",
    "\n",
    "    call cpu_time(start_time_2)\n",
    "    c2 = matmul(a, b)\n",
    "    call cpu_time(stop_time_2)\n",
    "\n",
    "    total_time_2 = stop_time_2 - start_time_2\n",
    "\n",
    "    print *\n",
    "\n",
    "    write (*, \"(a)\") \"Matrix C2 is AxB using matmul.\"\n",
    "    write (*, \"(10f10.3)\") (c1(i,:), i=1,n)\n",
    "\n",
    "    print *\n",
    "\n",
    "    write (*, form) \"Time of Do loop version is: \", total_time_1, \" seconds.\"\n",
    "    write (*, form) \"Time of matmul version is: \", total_time_2, \" seconds.\"\n",
    "\n",
    "    print *\n",
    "\n",
    "    if (any(abs(c1-c2) > 1.0e-4)) then\n",
    "        write (*,  \"(a)\") \"There are significantly different values between the matrices.\"\n",
    "    else\n",
    "        write (*,  \"(a)\") \"The results are approximately the same.\"\n",
    "    end if\n",
    "\n",
    "    print *\n",
    "    write (*, \"(a, f10.3, a)\") \"The speedup ratio is: \", total_time_1/total_time_2, \"x\"\n",
    "\n",
    "end program time_matrix_multiply\n",
    "```"
   ]
  },
  {
   "cell_type": "markdown",
   "id": "4c6b9985-c0cb-4602-8309-4e3369dd3226",
   "metadata": {},
   "source": [
    "The above program is compiled and run using Fortran Package Manager (fpm):"
   ]
  },
  {
   "cell_type": "code",
   "execution_count": 1,
   "id": "e8ba1050-b7b1-4e9e-87bf-28791145e5e7",
   "metadata": {},
   "outputs": [],
   "source": [
    "import os\n",
    "root_dir = os.getcwd()"
   ]
  },
  {
   "cell_type": "code",
   "execution_count": 2,
   "id": "bdaf795d-554a-46e6-b4da-faeb331e1b13",
   "metadata": {},
   "outputs": [],
   "source": [
    "code_dir = root_dir + \"/\" + \"Fortran_Code/Section_8_2_Time_Matrix_Multiply\""
   ]
  },
  {
   "cell_type": "code",
   "execution_count": 3,
   "id": "a7d9f1b1-ba0d-4db1-84ef-7a358f0453a6",
   "metadata": {},
   "outputs": [],
   "source": [
    "os.chdir(code_dir)"
   ]
  },
  {
   "cell_type": "code",
   "execution_count": 4,
   "id": "0fbd7621-e800-4235-ab30-80560cc3e1a8",
   "metadata": {},
   "outputs": [],
   "source": [
    "build_status = os.system(\"fpm build 2>/dev/null\")"
   ]
  },
  {
   "cell_type": "code",
   "execution_count": 5,
   "id": "0483d40b-e849-4574-bcbe-003c81a96dd5",
   "metadata": {},
   "outputs": [
    {
     "name": "stdout",
     "output_type": "stream",
     "text": [
      " Timing report dated: 2022-12-16\n",
      "Matrix A\n",
      "     0.011     0.882     0.109     0.351     0.250     0.010     0.897     0.213     0.675     0.826\n",
      "     0.987     0.254     0.249     0.335     0.676     0.735     0.646     0.612     0.653     0.684\n",
      "     0.917     0.708     0.994     0.986     0.166     0.439     0.897     0.583     0.206     0.604\n",
      "     0.714     0.866     0.218     0.219     0.789     0.878     0.061     0.417     0.465     0.748\n",
      "     0.349     0.833     0.446     0.782     0.021     0.067     0.176     0.202     0.893     0.136\n",
      "     0.484     0.276     0.169     0.298     0.241     0.801     0.203     0.276     0.124     0.327\n",
      "     0.024     0.872     0.588     0.012     0.594     0.803     0.151     0.065     0.945     0.246\n",
      "     0.197     0.837     0.631     0.335     0.778     0.770     0.166     0.587     0.713     0.384\n",
      "     0.990     0.835     0.243     0.181     0.364     0.475     0.350     0.032     0.734     0.829\n",
      "     0.711     0.255     0.489     0.720     0.877     0.221     0.360     0.673     0.088     0.580\n",
      "\n",
      "Matrix B\n",
      "     0.210     0.256     0.350     0.542     0.563     0.742     0.949     0.240     0.827     0.731\n",
      "     0.662     0.527     0.416     0.503     0.977     0.960     0.148     0.263     0.585     0.555\n",
      "     0.341     0.324     0.058     0.321     0.586     0.527     0.015     0.584     0.900     0.465\n",
      "     0.255     0.999     0.075     0.384     0.828     0.064     0.718     0.227     0.326     0.380\n",
      "     0.207     0.712     0.915     0.663     0.392     0.413     0.070     0.981     0.606     0.857\n",
      "     0.680     0.387     0.728     0.327     0.653     0.948     0.036     0.063     0.302     0.376\n",
      "     0.255     0.858     0.269     0.646     0.058     0.934     0.823     0.858     0.983     0.811\n",
      "     0.233     0.465     0.111     0.205     0.847     0.935     0.633     0.839     0.149     0.047\n",
      "     0.903     0.261     0.547     0.333     0.395     0.483     0.878     0.991     0.419     0.935\n",
      "     0.575     0.659     0.310     0.500     0.956     0.604     0.959     0.757     0.988     0.714\n",
      "\n",
      "Matrix C1 is AxB using loops.\n",
      "     2.135     2.625     1.529     2.050     2.616     2.910     2.671     2.866     2.904     2.857\n",
      "     2.477     3.027     2.455     2.662     3.441     4.009     3.441     3.467     3.605     3.613\n",
      "     2.483     3.694     1.823     2.874     4.164     4.279     3.594     3.321     4.273     3.585\n",
      "     2.577     2.689     2.549     2.441     3.695     3.772     2.493     2.834     3.163     3.231\n",
      "     2.003     2.062     1.221     1.608     2.635     2.282     2.213     2.072     2.176     2.348\n",
      "     1.429     1.653     1.374     1.384     2.112     2.296     1.527     1.418     1.814     1.733\n",
      "     2.505     1.971     2.176     1.851     2.650     2.980     1.472     2.522     2.463     2.776\n",
      "     2.625     2.737     2.370     2.284     3.540     3.636     2.146     3.155     2.962     3.089\n",
      "     2.525     2.448     2.156     2.392     3.248     3.488     2.987     2.708     3.423     3.422\n",
      "     1.662     2.930     1.800     2.291     3.201     3.006     2.662     2.961     3.073     2.817\n",
      "\n",
      "Matrix C2 is AxB using matmul.\n",
      "     2.135     2.625     1.529     2.050     2.616     2.910     2.671     2.866     2.904     2.857\n",
      "     2.477     3.027     2.455     2.662     3.441     4.009     3.441     3.467     3.605     3.613\n",
      "     2.483     3.694     1.823     2.874     4.164     4.279     3.594     3.321     4.273     3.585\n",
      "     2.577     2.689     2.549     2.441     3.695     3.772     2.493     2.834     3.163     3.231\n",
      "     2.003     2.062     1.221     1.608     2.635     2.282     2.213     2.072     2.176     2.348\n",
      "     1.429     1.653     1.374     1.384     2.112     2.296     1.527     1.418     1.814     1.733\n",
      "     2.505     1.971     2.176     1.851     2.650     2.980     1.472     2.522     2.463     2.776\n",
      "     2.625     2.737     2.370     2.284     3.540     3.636     2.146     3.155     2.962     3.089\n",
      "     2.525     2.448     2.156     2.392     3.248     3.488     2.987     2.708     3.423     3.422\n",
      "     1.662     2.930     1.800     2.291     3.201     3.006     2.662     2.961     3.073     2.817\n",
      "\n",
      " Time of Do loop version is: .0001660000 seconds.\n",
      " Time of matmul version is: .0000700000 seconds.\n",
      "\n",
      "The results are approximately the same.\n",
      "\n",
      "The speedup ratio is:      2.371x\n"
     ]
    }
   ],
   "source": [
    "exec_status = os.system(\"fpm run 2>/dev/null\")"
   ]
  }
 ],
 "metadata": {
  "kernelspec": {
   "display_name": "Python 3.9.2 64-bit",
   "language": "python",
   "name": "python3"
  },
  "language_info": {
   "codemirror_mode": {
    "name": "ipython",
    "version": 3
   },
   "file_extension": ".py",
   "mimetype": "text/x-python",
   "name": "python",
   "nbconvert_exporter": "python",
   "pygments_lexer": "ipython3",
   "version": "3.9.15"
  },
  "vscode": {
   "interpreter": {
    "hash": "916dbcbb3f70747c44a77c7bcd40155683ae19c65e1c03b4aa3499c5328201f1"
   }
  }
 },
 "nbformat": 4,
 "nbformat_minor": 5
}