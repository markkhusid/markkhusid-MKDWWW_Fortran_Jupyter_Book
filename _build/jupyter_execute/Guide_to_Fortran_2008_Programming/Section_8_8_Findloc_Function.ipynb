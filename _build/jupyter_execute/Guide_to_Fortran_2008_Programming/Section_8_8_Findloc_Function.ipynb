{
 "cells": [
  {
   "cell_type": "raw",
   "id": "c40b648f-a44a-4480-bbee-93e7a780f45b",
   "metadata": {},
   "source": [
    "---\n",
    "jupytext:\n",
    "  formats: md:myst\n",
    "  text_representation:\n",
    "    extension: .md\n",
    "    format_name: myst\n",
    "kernelspec:\n",
    "  display_name: Python 3\n",
    "  language: python\n",
    "  name: python3\n",
    "---"
   ]
  },
  {
   "cell_type": "markdown",
   "id": "fc63b62e-3ea6-4588-8b6e-f845bbc6d64c",
   "metadata": {
    "tags": []
   },
   "source": [
    "# Section 8.8: Findloc Function"
   ]
  },
  {
   "cell_type": "markdown",
   "id": "edfc7d7e-9803-4b96-82f1-bc0d47385f43",
   "metadata": {},
   "source": [
    "Adapted from: \"Guide to Fortran 2008 Programming\" by Walter S. Brainerd (Springer 2015)"
   ]
  },
  {
   "cell_type": "markdown",
   "id": "59ec1bec-3fd7-4061-aa24-c7765d25786f",
   "metadata": {},
   "source": [
    "## Program to demonstrate the *findloc* function."
   ]
  },
  {
   "cell_type": "markdown",
   "id": "c36821c7-3b26-404c-8a7c-2f978dfb65d4",
   "metadata": {},
   "source": [
    "```fortran\n",
    "program find_loc\n",
    "\n",
    "    implicit none\n",
    "\n",
    "    intrinsic :: findloc\n",
    "\n",
    "    real, dimension (3,3)   :: X =          &\n",
    "        reshape (                           &\n",
    "                    [   -11,  12, -13,      &\n",
    "                         21,  22, -23,      &\n",
    "                         31, -32, -33 ],    &\n",
    "                    [ 3, 3 ], order = [ 2, 1 ] )\n",
    "\n",
    "    logical, parameter      :: T = .true.\n",
    "\n",
    "    write (*,'(a)') \"[*] The matrix X\"\n",
    "    call write_matrix(X)\n",
    "\n",
    "    write (*,*)\n",
    "\n",
    "    write (*,'(a)') \"[*] Begin findloc call...\"\n",
    "    write (*,'(a)') \"findloc( X > 0, T )\"\n",
    "    write (*,'(a, 2i2, a)')  \"The first element where (i,j) > 0 is: (\", &\n",
    "        findloc( X > 0, T ), &\n",
    "        \") in column major order.\"            ! = [ 2, 1 ]\n",
    "\n",
    "    contains\n",
    "\n",
    "        subroutine write_matrix(a)\n",
    "            real, dimension(:,:), intent(in) :: a\n",
    "            integer :: i, j\n",
    "            do i = lbound(a,1), ubound(a,1)\n",
    "                write (*,*) (a(i,j), j = lbound(a,2), ubound(a,2))\n",
    "            end do\n",
    "        end subroutine write_matrix\n",
    "\n",
    "end program find_loc\n",
    "```"
   ]
  },
  {
   "cell_type": "markdown",
   "id": "4c6b9985-c0cb-4602-8309-4e3369dd3226",
   "metadata": {},
   "source": [
    "The above program is compiled and run using Fortran Package Manager (fpm):"
   ]
  },
  {
   "cell_type": "code",
   "execution_count": 1,
   "id": "e8ba1050-b7b1-4e9e-87bf-28791145e5e7",
   "metadata": {},
   "outputs": [],
   "source": [
    "import os\n",
    "root_dir = os.getcwd()"
   ]
  },
  {
   "cell_type": "code",
   "execution_count": 2,
   "id": "bdaf795d-554a-46e6-b4da-faeb331e1b13",
   "metadata": {},
   "outputs": [],
   "source": [
    "code_dir = root_dir + \"/\" + \"Fortran_Code/Section_8_8_Findloc_Function\""
   ]
  },
  {
   "cell_type": "code",
   "execution_count": 3,
   "id": "a7d9f1b1-ba0d-4db1-84ef-7a358f0453a6",
   "metadata": {},
   "outputs": [],
   "source": [
    "os.chdir(code_dir)"
   ]
  },
  {
   "cell_type": "code",
   "execution_count": 4,
   "id": "0fbd7621-e800-4235-ab30-80560cc3e1a8",
   "metadata": {},
   "outputs": [],
   "source": [
    "build_status = os.system(\"fpm build 2>/dev/null\")"
   ]
  },
  {
   "cell_type": "code",
   "execution_count": 5,
   "id": "0483d40b-e849-4574-bcbe-003c81a96dd5",
   "metadata": {},
   "outputs": [
    {
     "name": "stdout",
     "output_type": "stream",
     "text": [
      "[*] The matrix X\n",
      "  -11.0000000       12.0000000      -13.0000000    \n",
      "   21.0000000       22.0000000      -23.0000000    \n",
      "   31.0000000      -32.0000000      -33.0000000    \n",
      "\n",
      "[*] Begin findloc call...\n",
      "findloc( X > 0, T )\n",
      "The first element where (i,j) > 0 is: ( 2 1) in column major order.\n"
     ]
    }
   ],
   "source": [
    "exec_status = os.system(\"fpm run 2>/dev/null\")"
   ]
  }
 ],
 "metadata": {
  "kernelspec": {
   "display_name": "Python 3.9.2 64-bit",
   "language": "python",
   "name": "python3"
  },
  "language_info": {
   "codemirror_mode": {
    "name": "ipython",
    "version": 3
   },
   "file_extension": ".py",
   "mimetype": "text/x-python",
   "name": "python",
   "nbconvert_exporter": "python",
   "pygments_lexer": "ipython3",
   "version": "3.10.14"
  },
  "vscode": {
   "interpreter": {
    "hash": "916dbcbb3f70747c44a77c7bcd40155683ae19c65e1c03b4aa3499c5328201f1"
   }
  }
 },
 "nbformat": 4,
 "nbformat_minor": 5
}