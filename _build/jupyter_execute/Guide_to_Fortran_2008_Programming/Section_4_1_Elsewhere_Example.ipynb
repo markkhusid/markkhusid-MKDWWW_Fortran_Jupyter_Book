{
 "cells": [
  {
   "cell_type": "raw",
   "id": "c40b648f-a44a-4480-bbee-93e7a780f45b",
   "metadata": {},
   "source": [
    "---\n",
    "jupytext:\n",
    "  formats: md:myst\n",
    "  text_representation:\n",
    "    extension: .md\n",
    "    format_name: myst\n",
    "kernelspec:\n",
    "  display_name: Python 3\n",
    "  language: python\n",
    "  name: python3\n",
    "---"
   ]
  },
  {
   "cell_type": "markdown",
   "id": "fc63b62e-3ea6-4588-8b6e-f845bbc6d64c",
   "metadata": {
    "tags": []
   },
   "source": [
    "# Section 4.1: Elsewhere Example"
   ]
  },
  {
   "cell_type": "markdown",
   "id": "edfc7d7e-9803-4b96-82f1-bc0d47385f43",
   "metadata": {},
   "source": [
    "Adapted from: \"Guide to Fortran 2008 Programming\" by Walter S. Brainerd (Springer 2015)"
   ]
  },
  {
   "cell_type": "markdown",
   "id": "59ec1bec-3fd7-4061-aa24-c7765d25786f",
   "metadata": {},
   "source": [
    "## Program to demonstrate the use of the *elsewhere* construct."
   ]
  },
  {
   "cell_type": "markdown",
   "id": "c36821c7-3b26-404c-8a7c-2f978dfb65d4",
   "metadata": {},
   "source": [
    "```fortran\n",
    "program elsewhere_example\n",
    "\n",
    "    implicit none\n",
    "    integer, parameter          :: n = 15\n",
    "    integer, dimension(n, n)    :: key\n",
    "    integer                     :: i, j\n",
    "    real, dimension(n, n)       :: a\n",
    "\n",
    "    call random_number(a)\n",
    "    do i = 1, n\n",
    "        do j = 1, n\n",
    "            if (i > j) then\n",
    "                ! Put negative numbers below the diagonal\n",
    "                a(i, j) = -a(i, j) - 2.0\n",
    "            else if (i < j) then\n",
    "                ! Put positive numbers above the diagonal\n",
    "                a(i, j) = a(i, j) + 2.0\n",
    "            else\n",
    "                ! Put zeros on the diagonal\n",
    "                a(i, j) = 0.0\n",
    "            end if\n",
    "        end do\n",
    "    end do\n",
    "\n",
    "    where (a > 0)\n",
    "        key = 1\n",
    "    elsewhere (a < 0)\n",
    "        key = -1\n",
    "    elsewhere\n",
    "        key = 0\n",
    "    end where\n",
    "\n",
    "    write (*, \"(15f5.1)\") (a(i,:), i=1,n)\n",
    "    print *\n",
    "    write (*, \"(15i5)\") (key(i,:), i=1,n)\n",
    "end program elsewhere_example\n",
    "```"
   ]
  },
  {
   "cell_type": "markdown",
   "id": "4c6b9985-c0cb-4602-8309-4e3369dd3226",
   "metadata": {},
   "source": [
    "The above program is compiled and run using Fortran Package Manager (fpm):"
   ]
  },
  {
   "cell_type": "code",
   "execution_count": 1,
   "id": "e8ba1050-b7b1-4e9e-87bf-28791145e5e7",
   "metadata": {},
   "outputs": [],
   "source": [
    "import os\n",
    "root_dir = os.getcwd()"
   ]
  },
  {
   "cell_type": "code",
   "execution_count": 2,
   "id": "bdaf795d-554a-46e6-b4da-faeb331e1b13",
   "metadata": {},
   "outputs": [],
   "source": [
    "code_dir = root_dir + \"/\" + \"Fortran_Code/Section_4_1_Elsewhere_Example\""
   ]
  },
  {
   "cell_type": "code",
   "execution_count": 3,
   "id": "a7d9f1b1-ba0d-4db1-84ef-7a358f0453a6",
   "metadata": {},
   "outputs": [],
   "source": [
    "os.chdir(code_dir)"
   ]
  },
  {
   "cell_type": "code",
   "execution_count": 4,
   "id": "0fbd7621-e800-4235-ab30-80560cc3e1a8",
   "metadata": {},
   "outputs": [
    {
     "name": "stdout",
     "output_type": "stream",
     "text": [
      "[  0%] section_4_1_elsewhere_example.\n",
      "[ 50%] section_4_1_elsewhere_example.  done.\n",
      "[ 50%]  Section_4_1_Elsewhere_Example\n",
      "[100%]  Section_4_1_Elsewhere_Example  done.\n",
      "[100%] Project compiled successfully.\n"
     ]
    }
   ],
   "source": [
    "build_status = os.system(\"fpm build 2>/dev/null\")"
   ]
  },
  {
   "cell_type": "code",
   "execution_count": 5,
   "id": "0483d40b-e849-4574-bcbe-003c81a96dd5",
   "metadata": {},
   "outputs": [
    {
     "name": "stdout",
     "output_type": "stream",
     "text": [
      "  0.0  2.3  2.8  2.7  2.4  2.4  2.2  3.0  2.8  2.1  2.7  2.6  2.1  2.3  2.4\n",
      " -2.9  0.0  2.3  2.1  2.7  2.2  2.2  2.1  2.5  2.9  2.4  2.0  2.4  2.4  2.7\n",
      " -2.1 -2.9  0.0  2.2  2.3  2.9  2.7  2.4  2.6  3.0  2.9  2.0  2.4  2.2  2.5\n",
      " -2.3 -2.0 -2.4  0.0  2.7  2.9  2.7  2.4  2.8  2.8  2.4  2.3  2.2  2.7  2.4\n",
      " -2.8 -2.9 -2.9 -2.1  0.0  2.5  2.8  2.6  2.9  2.2  2.9  2.2  2.1  2.9  2.7\n",
      " -2.7 -2.4 -3.0 -2.8 -2.1  0.0  2.4  2.9  2.9  2.3  2.8  2.5  3.0  2.7  2.0\n",
      " -2.1 -2.9 -2.9 -2.5 -2.2 -2.0  0.0  2.6  2.8  2.9  2.8  2.7  2.4  2.6  2.4\n",
      " -2.2 -2.9 -2.3 -2.5 -2.6 -2.3 -2.4  0.0  2.6  2.5  2.0  2.7  2.9  2.6  2.5\n",
      " -2.1 -2.6 -2.5 -2.0 -2.3 -2.8 -2.8 -2.8  0.0  2.4  2.8  2.9  2.6  2.9  2.4\n",
      " -2.1 -2.9 -2.1 -2.5 -3.0 -2.5 -2.3 -2.8 -2.6  0.0  2.3  2.8  2.4  2.1  2.9\n",
      " -2.4 -2.8 -2.1 -2.6 -2.8 -2.8 -2.5 -2.4 -2.2 -2.5  0.0  2.8  2.9  2.4  2.6\n",
      " -3.0 -2.9 -2.1 -2.4 -2.1 -3.0 -2.6 -2.4 -2.1 -2.2 -2.8  0.0  2.6  2.5  2.9\n",
      " -2.3 -2.6 -2.9 -2.3 -2.9 -2.6 -2.6 -2.0 -2.4 -2.3 -2.9 -2.5  0.0  2.8  2.7\n",
      " -2.7 -2.1 -2.6 -2.1 -2.4 -2.3 -2.1 -2.4 -2.2 -3.0 -2.9 -2.3 -2.4  0.0  2.4\n",
      " -2.0 -2.1 -2.3 -2.4 -2.9 -2.3 -2.3 -2.0 -2.5 -2.4 -2.9 -2.5 -2.1 -2.6  0.0\n",
      "\n",
      "    0    1    1    1    1    1    1    1    1    1    1    1    1    1    1\n",
      "   -1    0    1    1    1    1    1    1    1    1    1    1    1    1    1\n",
      "   -1   -1    0    1    1    1    1    1    1    1    1    1    1    1    1\n",
      "   -1   -1   -1    0    1    1    1    1    1    1    1    1    1    1    1\n",
      "   -1   -1   -1   -1    0    1    1    1    1    1    1    1    1    1    1\n",
      "   -1   -1   -1   -1   -1    0    1    1    1    1    1    1    1    1    1\n",
      "   -1   -1   -1   -1   -1   -1    0    1    1    1    1    1    1    1    1\n",
      "   -1   -1   -1   -1   -1   -1   -1    0    1    1    1    1    1    1    1\n",
      "   -1   -1   -1   -1   -1   -1   -1   -1    0    1    1    1    1    1    1\n",
      "   -1   -1   -1   -1   -1   -1   -1   -1   -1    0    1    1    1    1    1\n",
      "   -1   -1   -1   -1   -1   -1   -1   -1   -1   -1    0    1    1    1    1\n",
      "   -1   -1   -1   -1   -1   -1   -1   -1   -1   -1   -1    0    1    1    1\n",
      "   -1   -1   -1   -1   -1   -1   -1   -1   -1   -1   -1   -1    0    1    1\n",
      "   -1   -1   -1   -1   -1   -1   -1   -1   -1   -1   -1   -1   -1    0    1\n",
      "   -1   -1   -1   -1   -1   -1   -1   -1   -1   -1   -1   -1   -1   -1    0\n"
     ]
    }
   ],
   "source": [
    "exec_status = os.system(\"fpm run 2>/dev/null\")"
   ]
  }
 ],
 "metadata": {
  "kernelspec": {
   "display_name": "Python 3.9.2 64-bit",
   "language": "python",
   "name": "python3"
  },
  "language_info": {
   "codemirror_mode": {
    "name": "ipython",
    "version": 3
   },
   "file_extension": ".py",
   "mimetype": "text/x-python",
   "name": "python",
   "nbconvert_exporter": "python",
   "pygments_lexer": "ipython3",
   "version": "3.10.13"
  },
  "vscode": {
   "interpreter": {
    "hash": "916dbcbb3f70747c44a77c7bcd40155683ae19c65e1c03b4aa3499c5328201f1"
   }
  }
 },
 "nbformat": 4,
 "nbformat_minor": 5
}