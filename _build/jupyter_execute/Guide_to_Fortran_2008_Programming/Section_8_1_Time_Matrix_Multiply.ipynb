{
 "cells": [
  {
   "cell_type": "raw",
   "id": "c40b648f-a44a-4480-bbee-93e7a780f45b",
   "metadata": {},
   "source": [
    "---\n",
    "jupytext:\n",
    "  formats: md:myst\n",
    "  text_representation:\n",
    "    extension: .md\n",
    "    format_name: myst\n",
    "kernelspec:\n",
    "  display_name: Python 3\n",
    "  language: python\n",
    "  name: python3\n",
    "---"
   ]
  },
  {
   "cell_type": "markdown",
   "id": "fc63b62e-3ea6-4588-8b6e-f845bbc6d64c",
   "metadata": {
    "tags": []
   },
   "source": [
    "# Section 8.2: Time Matrix Multiply"
   ]
  },
  {
   "cell_type": "markdown",
   "id": "edfc7d7e-9803-4b96-82f1-bc0d47385f43",
   "metadata": {},
   "source": [
    "Adapted from: \"Guide to Fortran 2008 Programming\" by Walter S. Brainerd (Springer 2015)"
   ]
  },
  {
   "cell_type": "markdown",
   "id": "59ec1bec-3fd7-4061-aa24-c7765d25786f",
   "metadata": {},
   "source": [
    "## Program to demonstrate the performance improvement of using matmul over do loops."
   ]
  },
  {
   "cell_type": "markdown",
   "id": "c36821c7-3b26-404c-8a7c-2f978dfb65d4",
   "metadata": {},
   "source": [
    "```fortran\n",
    "program time_matrix_multiply\n",
    "\n",
    "    ! Compare times of the matmul intrinsic cs DO loops\n",
    "\n",
    "    implicit none\n",
    "    integer, parameter :: n = 10\n",
    "    real, dimension (n, n) :: a, b, c1, c2\n",
    "    character(len=8) :: date\n",
    "    real :: start_time_1, stop_time_1, start_time_2, stop_time_2\n",
    "    real :: total_time_1, total_time_2\n",
    "    integer :: i, j, k\n",
    "    character(len=*), parameter :: form = \"(t2, a, f0.10, a)\"\n",
    "\n",
    "    ! Get date to print on report\n",
    "\n",
    "    call date_and_time(date = date)\n",
    "\n",
    "    print *, \"Timing report dated: \" // date(1:4) &\n",
    "        // \"-\" // date(5:6) // \"-\" // date(7:8)\n",
    "\n",
    "    call random_seed()\n",
    "    call random_number(a)\n",
    "    call random_number(b)\n",
    "    call cpu_time(start_time_1)\n",
    "   \n",
    "    ! Lines below added for effect\n",
    "    ! The matrices of random values will be printed to the screen\n",
    "    write (*, \"(a)\") \"Matrix A\"\n",
    "    write (*, \"(10f10.3)\") (a(i,:), i=1,n)\n",
    "\n",
    "    print *\n",
    "    write (*, \"(a)\") \"Matrix B\"\n",
    "    write (*, \"(10f10.3)\") (b(i,:), i=1,n)\n",
    "\n",
    "    c1 = 0\n",
    "\n",
    "    do k = 1, n\n",
    "        do j = 1, n\n",
    "            do i = 1, n\n",
    "                c1(i, j) = c1(i, j) + a(i, k) * b(k, j)\n",
    "            end do\n",
    "        end do\n",
    "    end do\n",
    "\n",
    "    call cpu_time(stop_time_1)\n",
    "\n",
    "    total_time_1 = stop_time_1 - start_time_1\n",
    "\n",
    "    print *\n",
    "\n",
    "    write (*, \"(a)\") \"Matrix C1 is AxB using loops.\"\n",
    "    write (*, \"(10f10.3)\") (c1(i,:), i=1,n)\n",
    "\n",
    "    call cpu_time(start_time_2)\n",
    "    c2 = matmul(a, b)\n",
    "    call cpu_time(stop_time_2)\n",
    "\n",
    "    total_time_2 = stop_time_2 - start_time_2\n",
    "\n",
    "    print *\n",
    "\n",
    "    write (*, \"(a)\") \"Matrix C2 is AxB using matmul.\"\n",
    "    write (*, \"(10f10.3)\") (c1(i,:), i=1,n)\n",
    "\n",
    "    print *\n",
    "\n",
    "    write (*, form) \"Time of Do loop version is: \", total_time_1, \" seconds.\"\n",
    "    write (*, form) \"Time of matmul version is: \", total_time_2, \" seconds.\"\n",
    "\n",
    "    print *\n",
    "\n",
    "    if (any(abs(c1-c2) > 1.0e-4)) then\n",
    "        write (*,  \"(a)\") \"There are significantly different values between the matrices.\"\n",
    "    else\n",
    "        write (*,  \"(a)\") \"The results are approximately the same.\"\n",
    "    end if\n",
    "\n",
    "    print *\n",
    "    write (*, \"(a, f10.3, a)\") \"The speedup ratio is: \", total_time_1/total_time_2, \"x\"\n",
    "\n",
    "end program time_matrix_multiply\n",
    "```"
   ]
  },
  {
   "cell_type": "markdown",
   "id": "4c6b9985-c0cb-4602-8309-4e3369dd3226",
   "metadata": {},
   "source": [
    "The above program is compiled and run using Fortran Package Manager (fpm):"
   ]
  },
  {
   "cell_type": "code",
   "execution_count": 1,
   "id": "e8ba1050-b7b1-4e9e-87bf-28791145e5e7",
   "metadata": {},
   "outputs": [],
   "source": [
    "import os\n",
    "root_dir = os.getcwd()"
   ]
  },
  {
   "cell_type": "code",
   "execution_count": 2,
   "id": "bdaf795d-554a-46e6-b4da-faeb331e1b13",
   "metadata": {},
   "outputs": [],
   "source": [
    "code_dir = root_dir + \"/\" + \"Fortran_Code/Section_8_2_Time_Matrix_Multiply\""
   ]
  },
  {
   "cell_type": "code",
   "execution_count": 3,
   "id": "a7d9f1b1-ba0d-4db1-84ef-7a358f0453a6",
   "metadata": {},
   "outputs": [],
   "source": [
    "os.chdir(code_dir)"
   ]
  },
  {
   "cell_type": "code",
   "execution_count": 4,
   "id": "0fbd7621-e800-4235-ab30-80560cc3e1a8",
   "metadata": {},
   "outputs": [],
   "source": [
    "build_status = os.system(\"fpm build > /dev/null\")"
   ]
  },
  {
   "cell_type": "markdown",
   "id": "d878f58b-29c1-4154-8563-76c07816e722",
   "metadata": {},
   "source": [
    "fpm run output is piped into sed to suppress the status of the run command and only print the output of the executable."
   ]
  },
  {
   "cell_type": "code",
   "execution_count": 5,
   "id": "0483d40b-e849-4574-bcbe-003c81a96dd5",
   "metadata": {},
   "outputs": [
    {
     "name": "stdout",
     "output_type": "stream",
     "text": [
      " Timing report dated: 2022-05-30\n",
      "Matrix A\n",
      "     0.963     0.733     0.895     0.536     0.000     0.763     0.547     0.409     0.041     0.923\n",
      "     0.814     0.573     0.240     0.864     0.624     0.226     0.508     0.358     0.021     0.130\n",
      "     0.953     0.816     0.210     0.331     0.821     0.739     0.755     0.999     0.249     0.794\n",
      "     0.986     0.021     0.385     0.037     0.975     0.911     0.377     0.290     0.878     0.916\n",
      "     0.176     0.816     0.657     0.427     0.386     0.530     0.271     0.889     0.865     0.260\n",
      "     0.299     0.882     0.545     0.767     0.456     0.892     0.401     0.358     0.518     0.449\n",
      "     0.569     0.414     0.060     0.875     0.475     0.796     0.700     0.846     0.565     0.065\n",
      "     0.730     0.931     0.562     0.288     0.786     0.800     0.956     0.215     0.038     0.050\n",
      "     0.609     0.234     0.315     0.062     0.200     0.596     0.802     0.114     0.553     0.026\n",
      "     0.644     0.201     0.977     0.327     0.462     0.234     0.900     0.711     0.550     0.618\n",
      "\n",
      "Matrix B\n",
      "     0.594     0.461     0.081     0.602     0.014     0.266     0.912     0.661     0.071     0.193\n",
      "     0.902     0.330     0.392     0.122     0.472     0.207     0.161     0.756     0.672     0.284\n",
      "     0.376     0.031     0.543     0.416     0.841     0.979     0.141     0.460     0.495     0.841\n",
      "     0.284     0.932     0.527     0.258     0.527     0.035     0.119     0.211     0.327     0.867\n",
      "     0.933     0.965     0.907     0.600     0.364     0.987     0.592     0.651     0.973     0.997\n",
      "     0.064     0.729     0.402     0.199     0.811     0.830     0.516     0.217     0.552     0.582\n",
      "     0.718     0.878     0.792     0.005     0.457     0.115     0.090     0.331     0.001     0.019\n",
      "     0.754     0.523     0.354     0.866     0.299     0.986     0.733     0.503     0.451     0.419\n",
      "     0.301     0.526     0.961     0.835     0.395     0.435     0.274     0.747     0.381     0.518\n",
      "     0.986     0.643     0.470     0.236     0.530     0.733     0.768     0.184     0.660     0.176\n",
      "\n",
      "Matrix C1 is AxB using loops.\n",
      "     3.394     3.079     2.490     1.941     2.890     3.096     2.649     2.469     2.410     2.420\n",
      "     2.702     2.873     2.143     1.663     1.766     1.921     1.872     2.108     1.833     2.218\n",
      "     4.442     4.182     3.291     2.751     2.810     3.826     3.415     3.194     3.105     2.828\n",
      "     3.385     3.646     3.242     2.735     2.552     3.747     3.200     2.782     2.808     2.798\n",
      "     2.984     2.852     2.960     2.481     2.604     3.169     2.051     2.723     2.595     2.752\n",
      "     3.035     3.352     2.995     2.014     2.906     2.968     2.099     2.551     2.727     2.910\n",
      "     2.853     3.653     2.880     2.311     2.365     2.666     2.279     2.476     2.177     2.645\n",
      "     3.260     3.275     2.808     1.727     2.551     2.762     2.100     2.654     2.402     2.513\n",
      "     1.787     2.124     1.984     1.351     1.605     1.677     1.398     1.738     1.180     1.402\n",
      "     3.428     3.163     3.130     2.452     2.624     3.328     2.418     2.628     2.289     2.591\n",
      "\n",
      "Matrix C2 is AxB using matmul.\n",
      "     3.394     3.079     2.490     1.941     2.890     3.096     2.649     2.469     2.410     2.420\n",
      "     2.702     2.873     2.143     1.663     1.766     1.921     1.872     2.108     1.833     2.218\n",
      "     4.442     4.182     3.291     2.751     2.810     3.826     3.415     3.194     3.105     2.828\n",
      "     3.385     3.646     3.242     2.735     2.552     3.747     3.200     2.782     2.808     2.798\n",
      "     2.984     2.852     2.960     2.481     2.604     3.169     2.051     2.723     2.595     2.752\n",
      "     3.035     3.352     2.995     2.014     2.906     2.968     2.099     2.551     2.727     2.910\n",
      "     2.853     3.653     2.880     2.311     2.365     2.666     2.279     2.476     2.177     2.645\n",
      "     3.260     3.275     2.808     1.727     2.551     2.762     2.100     2.654     2.402     2.513\n",
      "     1.787     2.124     1.984     1.351     1."
     ]
    },
    {
     "name": "stdout",
     "output_type": "stream",
     "text": [
      "605     1.677     1.398     1.738     1.180     1.402\n",
      "     3.428     3.163     3.130     2.452     2.624     3.328     2.418     2.628     2.289     2.591\n",
      "\n",
      " Time of Do loop version is: .0002369999 seconds.\n",
      " Time of matmul version is: .0000310000 seconds.\n",
      "\n",
      "The results are approximately the same.\n",
      "\n",
      "The speedup ratio is:      7.645x\n"
     ]
    }
   ],
   "source": [
    "exec_status = os.system(\"fpm run | sed 1,1d\")"
   ]
  },
  {
   "cell_type": "code",
   "execution_count": null,
   "id": "4ddf35b3-f0bf-439d-9e19-6199fba3455a",
   "metadata": {},
   "outputs": [],
   "source": []
  }
 ],
 "metadata": {
  "kernelspec": {
   "display_name": "Python 3 (ipykernel)",
   "language": "python",
   "name": "python3"
  },
  "language_info": {
   "codemirror_mode": {
    "name": "ipython",
    "version": 3
   },
   "file_extension": ".py",
   "mimetype": "text/x-python",
   "name": "python",
   "nbconvert_exporter": "python",
   "pygments_lexer": "ipython3",
   "version": "3.8.13"
  }
 },
 "nbformat": 4,
 "nbformat_minor": 5
}