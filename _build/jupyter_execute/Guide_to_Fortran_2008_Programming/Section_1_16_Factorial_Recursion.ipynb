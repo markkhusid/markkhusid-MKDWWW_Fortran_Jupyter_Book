{
 "cells": [
  {
   "cell_type": "raw",
   "id": "c40b648f-a44a-4480-bbee-93e7a780f45b",
   "metadata": {},
   "source": [
    "---\n",
    "jupytext:\n",
    "  formats: md:myst\n",
    "  text_representation:\n",
    "    extension: .md\n",
    "    format_name: myst\n",
    "kernelspec:\n",
    "  display_name: Python 3\n",
    "  language: python\n",
    "  name: python3\n",
    "---"
   ]
  },
  {
   "cell_type": "markdown",
   "id": "fc63b62e-3ea6-4588-8b6e-f845bbc6d64c",
   "metadata": {
    "tags": []
   },
   "source": [
    "# Section 1.16: Factorial Recursion"
   ]
  },
  {
   "cell_type": "markdown",
   "id": "edfc7d7e-9803-4b96-82f1-bc0d47385f43",
   "metadata": {},
   "source": [
    "Adapted from: \"Guide to Fortran 2008 Programming\" by Walter S. Brainerd (Springer 2015)"
   ]
  },
  {
   "cell_type": "markdown",
   "id": "59ec1bec-3fd7-4061-aa24-c7765d25786f",
   "metadata": {},
   "source": [
    "## Program to calculate factorials using recursion in Fortran."
   ]
  },
  {
   "cell_type": "markdown",
   "id": "c36821c7-3b26-404c-8a7c-2f978dfb65d4",
   "metadata": {},
   "source": [
    "```fortran\n",
    "module factorial_module\n",
    "\n",
    "    implicit none\n",
    "    public :: factorial\n",
    "\n",
    "contains\n",
    "\n",
    "    recursive function factorial(n) result (factorial_result)\n",
    "\n",
    "        integer, intent(in) :: n\n",
    "        integer :: factorial_result\n",
    "\n",
    "        if (n <= 0) then\n",
    "            factorial_result = 1\n",
    "        else\n",
    "            factorial_result = n * factorial(n - 1)\n",
    "        end if\n",
    "\n",
    "    end function factorial\n",
    "\n",
    "end module factorial_module\n",
    "\n",
    "program test_factorial\n",
    "    \n",
    "    use factorial_module\n",
    "    implicit none\n",
    "\n",
    "    integer :: n\n",
    "\n",
    "    read *, n ! Will be piped in from command line\n",
    "    print *\n",
    "    write (unit = *, fmt = \"(i10, a, i10)\") n, \"! = \", factorial(n)\n",
    "\n",
    "end program test_factorial\n",
    "```"
   ]
  },
  {
   "cell_type": "markdown",
   "id": "4c6b9985-c0cb-4602-8309-4e3369dd3226",
   "metadata": {},
   "source": [
    "The above program is compiled and run using Fortran Package Manager (fpm):"
   ]
  },
  {
   "cell_type": "code",
   "execution_count": 1,
   "id": "e8ba1050-b7b1-4e9e-87bf-28791145e5e7",
   "metadata": {},
   "outputs": [],
   "source": [
    "import os\n",
    "root_dir = os.getcwd()"
   ]
  },
  {
   "cell_type": "code",
   "execution_count": 2,
   "id": "bdaf795d-554a-46e6-b4da-faeb331e1b13",
   "metadata": {},
   "outputs": [],
   "source": [
    "code_dir = root_dir + \"/\" + \"Fortran_Code/Section_1_16_Factorial_Recursion\""
   ]
  },
  {
   "cell_type": "code",
   "execution_count": 3,
   "id": "a7d9f1b1-ba0d-4db1-84ef-7a358f0453a6",
   "metadata": {},
   "outputs": [],
   "source": [
    "os.chdir(code_dir)"
   ]
  },
  {
   "cell_type": "code",
   "execution_count": 4,
   "id": "0fbd7621-e800-4235-ab30-80560cc3e1a8",
   "metadata": {},
   "outputs": [],
   "source": [
    "build_status = os.system(\"fpm build 2>/dev/null\")"
   ]
  },
  {
   "cell_type": "markdown",
   "id": "e5feb49b-2e17-4102-9a65-06cb243ef70a",
   "metadata": {
    "tags": []
   },
   "source": [
    "## Calculate:"
   ]
  },
  {
   "cell_type": "markdown",
   "id": "908c607d-eb3c-453f-b0d2-0578991b2386",
   "metadata": {},
   "source": [
    "$$\n",
    "\\Large 3!\n",
    "$$"
   ]
  },
  {
   "cell_type": "code",
   "execution_count": 5,
   "id": "0483d40b-e849-4574-bcbe-003c81a96dd5",
   "metadata": {},
   "outputs": [
    {
     "name": "stdout",
     "output_type": "stream",
     "text": [
      "\n",
      "         3! =          6\n"
     ]
    }
   ],
   "source": [
    "exec_status = os.system(\"echo 3 | fpm run 2>/dev/null\")"
   ]
  },
  {
   "cell_type": "markdown",
   "id": "557f4122-c7ff-4b18-80d5-368ea4cb8bb6",
   "metadata": {
    "tags": []
   },
   "source": [
    "## Calculate:"
   ]
  },
  {
   "cell_type": "markdown",
   "id": "7a300151-cf3e-4712-a800-21236ed48195",
   "metadata": {},
   "source": [
    "$$\n",
    "\\Large 6!\n",
    "$$"
   ]
  },
  {
   "cell_type": "code",
   "execution_count": 6,
   "id": "b2d3acd7-b65b-4afc-b47f-67b22cbcad95",
   "metadata": {},
   "outputs": [
    {
     "name": "stdout",
     "output_type": "stream",
     "text": [
      "\n",
      "         6! =        720\n"
     ]
    }
   ],
   "source": [
    "exec_status = os.system(\"echo 6 | fpm run 2>/dev/null\")"
   ]
  },
  {
   "cell_type": "markdown",
   "id": "6c587a71-754c-4d66-be59-1b2aebcf3b6b",
   "metadata": {
    "tags": []
   },
   "source": [
    "## Calculate:"
   ]
  },
  {
   "cell_type": "markdown",
   "id": "e9190976-baf4-4889-8cb5-1ab7a0d31e7d",
   "metadata": {},
   "source": [
    "$$\n",
    "\\Large 15!\n",
    "$$"
   ]
  },
  {
   "cell_type": "code",
   "execution_count": 7,
   "id": "63f20f0b-7763-444b-94ad-e2c4c1566d78",
   "metadata": {},
   "outputs": [
    {
     "name": "stdout",
     "output_type": "stream",
     "text": [
      "\n",
      "        15! = 2004310016\n"
     ]
    }
   ],
   "source": [
    "exec_status = os.system(\"echo 15 | fpm run 2>/dev/null\")"
   ]
  }
 ],
 "metadata": {
  "kernelspec": {
   "display_name": "Python 3.9.2 64-bit",
   "language": "python",
   "name": "python3"
  },
  "language_info": {
   "codemirror_mode": {
    "name": "ipython",
    "version": 3
   },
   "file_extension": ".py",
   "mimetype": "text/x-python",
   "name": "python",
   "nbconvert_exporter": "python",
   "pygments_lexer": "ipython3",
   "version": "3.9.15"
  },
  "vscode": {
   "interpreter": {
    "hash": "916dbcbb3f70747c44a77c7bcd40155683ae19c65e1c03b4aa3499c5328201f1"
   }
  }
 },
 "nbformat": 4,
 "nbformat_minor": 5
}