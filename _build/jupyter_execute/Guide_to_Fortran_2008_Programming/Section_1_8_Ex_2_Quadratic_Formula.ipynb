{
 "cells": [
  {
   "cell_type": "raw",
   "id": "c40b648f-a44a-4480-bbee-93e7a780f45b",
   "metadata": {},
   "source": [
    "---\n",
    "jupytext:\n",
    "  formats: md:myst\n",
    "  text_representation:\n",
    "    extension: .md\n",
    "    format_name: myst\n",
    "kernelspec:\n",
    "  display_name: Python 3\n",
    "  language: python\n",
    "  name: python3\n",
    "---"
   ]
  },
  {
   "cell_type": "markdown",
   "id": "fc63b62e-3ea6-4588-8b6e-f845bbc6d64c",
   "metadata": {
    "tags": []
   },
   "source": [
    "# Section 1.8 Example 2: Quadratic Equation"
   ]
  },
  {
   "cell_type": "markdown",
   "id": "edfc7d7e-9803-4b96-82f1-bc0d47385f43",
   "metadata": {},
   "source": [
    "Adapted from: \"Guide to Fortran 2008 Programming\" by Walter S. Brainerd (Springer 2015)"
   ]
  },
  {
   "cell_type": "markdown",
   "id": "59ec1bec-3fd7-4061-aa24-c7765d25786f",
   "metadata": {},
   "source": [
    "## Program to compute the roots of a quadratic Equation using the quadratic formula"
   ]
  },
  {
   "cell_type": "markdown",
   "id": "c36821c7-3b26-404c-8a7c-2f978dfb65d4",
   "metadata": {},
   "source": [
    "```fortran\n",
    "program quadratic_equation_solver\n",
    "\n",
    "! Calculates and prints the roots\n",
    "! of a quadratic equation\n",
    "\n",
    "    implicit none\n",
    "\n",
    "    ! Variables\n",
    "    !   a, b, c: coefficients\n",
    "    !   x1, x2: roots\n",
    "\n",
    "    real            :: a, b, c, x1, x2, x1_smaller, x2_smaller\n",
    "    real            :: difference, percentage\n",
    "    complex         :: z1, z2\n",
    "\n",
    "    real            :: discriminant\n",
    "\n",
    "    print *\n",
    "    write (*, '(a)') \"***** Quadratic Equation Solver *****\"\n",
    "    print *\n",
    "\n",
    "    ! For the Jupyter Notebook, we will pipe the coefficients from the command line \n",
    "    ! Read the coefficients\n",
    "    !print *, \"Enter a, the coefficient of x ** 2 -->\"\n",
    "    !read *, a\n",
    "\n",
    "    !print *, \"Enter b, the coefficient of x -->\"\n",
    "    !read *, b\n",
    "\n",
    "    !print *, \"Enter c, the constant term -->\"\n",
    "    !read *, c\n",
    "    \n",
    "    ! The piped output from an echo statement will be processed by the line below\n",
    "    read *, a, b, c\n",
    "    \n",
    "    write (*, '(a)') \"The read in coefficients are:\"\n",
    "    write (*, '(3 (a, f8.3))') \"a = \", a, \"   b = \", b, \"   c = \", c\n",
    "    print * ! skip a line on the screen\n",
    "\n",
    "    if (a == 1) then\n",
    "        write (*, '(a, f6.3, a, f5.3)' ) \"This program will solve the quadratic equation x^2 \", b, \"x + \", + c\n",
    "    else if ((a /= 1) .and. (b > 0)) then\n",
    "        write (*, '(a, f5.3, a, f6.3, a, f5.3)') \"This program will solve the quadratic equation \", a, \"x^2 +\", b, \"x + \", c\n",
    "    else if ((a /= 1) .and. (b < 0)) then\n",
    "        write (*, '(a, f5.3, a, f6.3, a, f5.3)') \"This program will sovle the quadratic equation \", a, \"x^2 \", b, \"x + \", c\n",
    "    end if\n",
    "\n",
    "    print * ! skip a line on the screen\n",
    "\n",
    "    if ((a == 0) .and. (b == 0)) then\n",
    "        ! Handle impossible case a and b both equal to zero\n",
    "        write (*, '(a)') \"Coefficients of a and b cannot both be zero!\"\n",
    "    else if ((a == 0) .and. (b /= 0)) then\n",
    "        ! Handle linear case\n",
    "        x1 = -c / b\n",
    "        x2 = x1\n",
    "\n",
    "        ! Print the roots\n",
    "        write (*, '(a)') \"Linear case: the root is:\"\n",
    "        write (*, '(a)') \"x = \", x1\n",
    "\n",
    "    else if ((a /= 0) .and. (b /= 0)) then\n",
    "        ! Handle 2nd order cases by first calculating the discriminant\n",
    "        !print * ! kips a line on the screen\n",
    "        discriminant = ((b ** 2) - (4 * a * c))\n",
    "        write (*, '(a, f8.3)') \"The discriminant = \", discriminant\n",
    "        print * ! skip a line on the screen\n",
    "\n",
    "        if (discriminant > 0) then\n",
    "        ! Calculate real, non-degenerate roots by the quadratic formula\n",
    "\n",
    "            write (*, '(a)') \"Roots are real and non-degenerate...\"\n",
    "            x1 = (-b + sqrt(discriminant)) / (2 * a)\n",
    "            x2 = (-b - sqrt(discriminant)) / (2 * a)\n",
    "        \n",
    "        else if (discriminant == 0) then\n",
    "        ! Calculate real, degenerate roots by the quadratic formula\n",
    "            write (*, '(a)') \"Roots are real and degenerate...\"\n",
    "            x1 = (-b + sqrt(discriminant)) / (2 * a)\n",
    "            x2 = x1\n",
    "\n",
    "        else if (discriminant < 0) then\n",
    "            write (*, '(a)') \"Roots are complex\"\n",
    "            x1 = 0\n",
    "            x2 = 0\n",
    "            z1 = (-b + sqrt (cmplx (discriminant))) / (2 * a)\n",
    "            z2 = (-b - sqrt (cmplx (discriminant))) / (2 * a)\n",
    "\n",
    "        end if\n",
    "\n",
    "        ! Calculate the smaller root using x1 = c / (a * x2) and taking abs value\n",
    "        if (abs(x1) < abs(x2)) then\n",
    "            x1_smaller = abs(c / (a * x2))\n",
    "            difference = abs(x1)- x1_smaller\n",
    "            percentage = (difference / x1_smaller) * 100\n",
    "        else if (abs(x1) > abs(x2)) then\n",
    "            x2_smaller = abs(c / (a * x1))\n",
    "            difference = abs(x2) - x2_smaller\n",
    "            percentage = (difference / x2_smaller) * 100\n",
    "        else if (abs(x1) == abs(x2)) then\n",
    "            x1_smaller = abs (c / (a * x2))\n",
    "            x2_smaller = x1_smaller\n",
    "            difference = 0\n",
    "            percentage = 0\n",
    "        end if\n",
    "\n",
    "        ! Print the roots\n",
    "        if (discriminant >= 0) then\n",
    "            print * ! skip a line on the screen\n",
    "            write (*, '(a)')  \"The roots are (using just sqrt):\"\n",
    "            write (*, '(a, f6.3)') \"x1 = \", x1\n",
    "            write (*, '(a, f6.3)') \"x2 = \", x2\n",
    "            print * ! skip a line on the screen\n",
    "            ! ************\n",
    "\n",
    "            ! ************\n",
    "            write (*, '(a)') \"The absolute value of the smaller root according to x2 = c/ax1 is:\"\n",
    "\n",
    "            if (abs(x1) <= abs(x2)) then\n",
    "                write (*, '(a, f5.3)') \"x1 = \", x1_smaller\n",
    "            else if (abs(x1) >= abs(x2)) then\n",
    "                write (*, '(a, f5.3)') \"x2 = \", x2_smaller\n",
    "            end if\n",
    "\n",
    "            ! ************\n",
    "            print * ! skip a line on the screen\n",
    "            write (*, '(a, f5.3)') \"The difference is: \", difference\n",
    "            write (*, '(a, f5.3, a)') \"The percentage difference is: \", percentage, \"%\"\n",
    "\n",
    "            ! ************\n",
    "        else if (discriminant < 0) then\n",
    "            print * ! skip a line on the screen\n",
    "            write (*, '(a)') \"The roots are (using sqrt and cmplx):\"\n",
    "            write (*, '(a, f6.3, a, f5.3, a)') \"z1 = \", real(z1), \" +\", aimag(z1), \"i\"\n",
    "            write (*, '(a, f6.3, a, f6.3, a)') \"z2 = \", real(z2), \" \",  aimag(z2), \"i\"\n",
    "        end if\n",
    "    end if\n",
    "\n",
    " end program quadratic_equation_solver\n",
    "```"
   ]
  },
  {
   "cell_type": "markdown",
   "id": "4c6b9985-c0cb-4602-8309-4e3369dd3226",
   "metadata": {},
   "source": [
    "The above program is compiled and run using Fortran Package Manager (fpm):"
   ]
  },
  {
   "cell_type": "code",
   "execution_count": 1,
   "id": "e8ba1050-b7b1-4e9e-87bf-28791145e5e7",
   "metadata": {},
   "outputs": [],
   "source": [
    "import os\n",
    "root_dir = os.getcwd()"
   ]
  },
  {
   "cell_type": "code",
   "execution_count": 2,
   "id": "bdaf795d-554a-46e6-b4da-faeb331e1b13",
   "metadata": {},
   "outputs": [],
   "source": [
    "code_dir = root_dir + \"/\" + \"Fortran_Code/Section_1_8_Ex_2_Quadratic_Formula\""
   ]
  },
  {
   "cell_type": "code",
   "execution_count": 3,
   "id": "a7d9f1b1-ba0d-4db1-84ef-7a358f0453a6",
   "metadata": {},
   "outputs": [],
   "source": [
    "os.chdir(code_dir)"
   ]
  },
  {
   "cell_type": "code",
   "execution_count": 4,
   "id": "0fbd7621-e800-4235-ab30-80560cc3e1a8",
   "metadata": {},
   "outputs": [],
   "source": [
    "build_status = os.system(\"fpm build 2>/dev/null\")"
   ]
  },
  {
   "cell_type": "markdown",
   "id": "d58d6e80-dbe2-4dcb-9526-ec22030d88f8",
   "metadata": {},
   "source": [
    "### Find the roots for the equation <br>\n",
    "$$\n",
    "\\Large x^2 + 3x + 2 = 0\n",
    "$$"
   ]
  },
  {
   "cell_type": "code",
   "execution_count": 5,
   "id": "0483d40b-e849-4574-bcbe-003c81a96dd5",
   "metadata": {},
   "outputs": [
    {
     "name": "stdout",
     "output_type": "stream",
     "text": [
      "\n",
      "***** Quadratic Equation Solver *****\n",
      "\n",
      "The read in coefficients are:\n",
      "a =    1.000   b =    3.000   c =    2.000\n",
      "\n",
      "This program will solve the quadratic equation x^2  3.000x + 2.000\n",
      "\n",
      "The discriminant =    1.000\n",
      "\n",
      "Roots are real and non-degenerate...\n",
      "\n",
      "The roots are (using just sqrt):\n",
      "x1 = -1.000\n",
      "x2 = -2.000\n",
      "\n",
      "The absolute value of the smaller root according to x2 = c/ax1 is:\n",
      "x1 = 1.000\n",
      "\n",
      "The difference is: 0.000\n",
      "The percentage difference is: 0.000%\n"
     ]
    }
   ],
   "source": [
    "exec_status = os.system(\"echo '1 3 2' | fpm run 2>/dev/null\")"
   ]
  },
  {
   "cell_type": "markdown",
   "id": "740c8374-cf24-4394-ac97-9980c969fe33",
   "metadata": {},
   "source": [
    "### Find the roots for the equation <br>\n",
    "$$\n",
    "\\Large x^2 + 2x + 1 = 0\n",
    "$$"
   ]
  },
  {
   "cell_type": "code",
   "execution_count": 6,
   "id": "a5f79f6e-b219-4953-b33c-13749a965527",
   "metadata": {},
   "outputs": [
    {
     "name": "stdout",
     "output_type": "stream",
     "text": [
      "\n",
      "***** Quadratic Equation Solver *****\n",
      "\n",
      "The read in coefficients are:\n",
      "a =    1.000   b =    2.000   c =    1.000\n",
      "\n",
      "This program will solve the quadratic equation x^2  2.000x + 1.000\n",
      "\n",
      "The discriminant =    0.000\n",
      "\n",
      "Roots are real and degenerate...\n",
      "\n",
      "The roots are (using just sqrt):\n",
      "x1 = -1.000\n",
      "x2 = -1.000\n",
      "\n",
      "The absolute value of the smaller root according to x2 = c/ax1 is:\n",
      "x1 = 1.000\n",
      "\n",
      "The difference is: 0.000\n",
      "The percentage difference is: 0.000%\n"
     ]
    }
   ],
   "source": [
    "exec_status = os.system(\"echo '1 2 1' | fpm run 2>/dev/null\")"
   ]
  },
  {
   "cell_type": "markdown",
   "id": "9c252fae-8098-46e4-a586-ef188d347444",
   "metadata": {
    "tags": []
   },
   "source": [
    "### Find the roots for the equation <br>\n",
    "$$\n",
    "\\Large x^2 + 5x + 9 = 0\n",
    "$$"
   ]
  },
  {
   "cell_type": "code",
   "execution_count": 7,
   "id": "fcfb5bdb-bf72-46ca-afba-7b81c6bb5776",
   "metadata": {},
   "outputs": [
    {
     "name": "stdout",
     "output_type": "stream",
     "text": [
      "\n",
      "***** Quadratic Equation Solver *****\n",
      "\n",
      "The read in coefficients are:\n",
      "a =    1.000   b =    5.000   c =    9.000\n",
      "\n",
      "This program will solve the quadratic equation x^2  5.000x + 9.000\n",
      "\n",
      "The discriminant =  -11.000\n",
      "\n",
      "Roots are complex\n",
      "\n",
      "The roots are (using sqrt and cmplx):\n",
      "z1 = -2.500 +1.658i\n",
      "z2 = -2.500 -1.658i\n"
     ]
    }
   ],
   "source": [
    "exec_status = os.system(\"echo '1 5 9' | fpm run 2>/dev/null\")"
   ]
  },
  {
   "cell_type": "markdown",
   "id": "067c0e66-3453-4a76-b45e-317c97d682cb",
   "metadata": {
    "tags": []
   },
   "source": [
    "### Find the roots for the equation <br>\n",
    "$$\n",
    "\\Large x^2 + 6x + 1 = 0\n",
    "$$"
   ]
  },
  {
   "cell_type": "code",
   "execution_count": 8,
   "id": "c18fcc49-84b9-463d-bc14-24be4d32d980",
   "metadata": {},
   "outputs": [
    {
     "name": "stdout",
     "output_type": "stream",
     "text": [
      "\n",
      "***** Quadratic Equation Solver *****\n",
      "\n",
      "The read in coefficients are:\n",
      "a =    1.000   b =    6.000   c =    1.000\n",
      "\n",
      "This program will solve the quadratic equation x^2  6.000x + 1.000\n",
      "\n",
      "The discriminant =   32.000\n",
      "\n",
      "Roots are real and non-degenerate...\n",
      "\n",
      "The roots are (using just sqrt):\n",
      "x1 = -0.172\n",
      "x2 = -5.828\n",
      "\n",
      "The absolute value of the smaller root according to x2 = c/ax1 is:\n",
      "x1 = 0.172\n",
      "\n",
      "The difference is: 0.000\n",
      "The percentage difference is: 0.000%\n"
     ]
    }
   ],
   "source": [
    "exec_status = os.system(\"echo '1 6 1' | fpm run 2>/dev/null\")"
   ]
  }
 ],
 "metadata": {
  "kernelspec": {
   "display_name": "Python 3.9.2 64-bit",
   "language": "python",
   "name": "python3"
  },
  "language_info": {
   "codemirror_mode": {
    "name": "ipython",
    "version": 3
   },
   "file_extension": ".py",
   "mimetype": "text/x-python",
   "name": "python",
   "nbconvert_exporter": "python",
   "pygments_lexer": "ipython3",
   "version": "3.10.13"
  },
  "vscode": {
   "interpreter": {
    "hash": "916dbcbb3f70747c44a77c7bcd40155683ae19c65e1c03b4aa3499c5328201f1"
   }
  }
 },
 "nbformat": 4,
 "nbformat_minor": 5
}