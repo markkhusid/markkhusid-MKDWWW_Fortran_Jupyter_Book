{
 "cells": [
  {
   "cell_type": "raw",
   "id": "c40b648f-a44a-4480-bbee-93e7a780f45b",
   "metadata": {},
   "source": [
    "---\n",
    "jupytext:\n",
    "  formats: md:myst\n",
    "  text_representation:\n",
    "    extension: .md\n",
    "    format_name: myst\n",
    "kernelspec:\n",
    "  display_name: Python 3\n",
    "  language: python\n",
    "  name: python3\n",
    "---"
   ]
  },
  {
   "cell_type": "markdown",
   "id": "fc63b62e-3ea6-4588-8b6e-f845bbc6d64c",
   "metadata": {
    "tags": []
   },
   "source": [
    "# Section 3.6: Median of Three"
   ]
  },
  {
   "cell_type": "markdown",
   "id": "edfc7d7e-9803-4b96-82f1-bc0d47385f43",
   "metadata": {},
   "source": [
    "Adapted from: \"Guide to Fortran 2008 Programming\" by Walter S. Brainerd (Springer 2015)"
   ]
  },
  {
   "cell_type": "markdown",
   "id": "59ec1bec-3fd7-4061-aa24-c7765d25786f",
   "metadata": {},
   "source": [
    "## Program that finds the median of three numbers."
   ]
  },
  {
   "cell_type": "markdown",
   "id": "c36821c7-3b26-404c-8a7c-2f978dfb65d4",
   "metadata": {},
   "source": [
    "``` fortran\n",
    "program median_of_3_program\n",
    "\n",
    "    implicit none\n",
    "\n",
    "    real :: num1, num2, num3\n",
    "    real :: median\n",
    "    \n",
    "    write (*, '(a)') \"This program finds the median of three numbers.....\"\n",
    "    write (*, '(a)') \"Data piped in from command line....\"\n",
    "    read *, num1, num2, num3\n",
    "    \n",
    "    write (*, '(a, 3f10.2)') \"The three entered numbers were -->\", num1, num2, num3\n",
    "    \n",
    "    median = medianOf3(n1=num1, n2=num2, n3=num3)\n",
    "    \n",
    "    write (*, '(a, f10.2)') \"The median value is -->\", median\n",
    " \n",
    "    contains\n",
    "\n",
    "        subroutine swap(a, b)\n",
    "            real, intent (in out) :: a, b\n",
    "            real :: temp\n",
    "            temp = a\n",
    "            a = b\n",
    "            b = temp\n",
    "        end subroutine swap\n",
    "    \n",
    "        subroutine sort(val1, val2, val3)\n",
    "            real, intent(in out) :: val1, val2, val3\n",
    "        \n",
    "            if (val1 > val2) then\n",
    "                call swap (val1, val2)\n",
    "            end if\n",
    "            if (val1 > val3) then\n",
    "                call swap (val1, val3)\n",
    "            end if\n",
    "            if (val2 > val3) then\n",
    "                call swap (val2, val3)\n",
    "            end if\n",
    "        end subroutine sort\n",
    "\n",
    "        function medianOf3(n1, n2, n3) result (median_value)\n",
    " \n",
    "            real, intent(in out) :: n1, n2, n3\n",
    "            real :: median_value\n",
    "        \n",
    "            call sort (val1=n1, val2=n2, val3=n3)\n",
    "            \n",
    "            median_value = n2\n",
    "     \n",
    "        end function medianOf3\n",
    "\n",
    "end program median_of_3_program\n",
    "```"
   ]
  },
  {
   "cell_type": "markdown",
   "id": "4c6b9985-c0cb-4602-8309-4e3369dd3226",
   "metadata": {},
   "source": [
    "The above program is compiled and run using Fortran Package Manager (fpm):"
   ]
  },
  {
   "cell_type": "code",
   "execution_count": 1,
   "id": "e8ba1050-b7b1-4e9e-87bf-28791145e5e7",
   "metadata": {},
   "outputs": [],
   "source": [
    "import os\n",
    "root_dir = os.getcwd()"
   ]
  },
  {
   "cell_type": "code",
   "execution_count": 2,
   "id": "bdaf795d-554a-46e6-b4da-faeb331e1b13",
   "metadata": {},
   "outputs": [],
   "source": [
    "code_dir = root_dir + \"/\" + \"Fortran_Code/Section_3_6_Ex_1_Median_of_Three\""
   ]
  },
  {
   "cell_type": "code",
   "execution_count": 3,
   "id": "a7d9f1b1-ba0d-4db1-84ef-7a358f0453a6",
   "metadata": {},
   "outputs": [],
   "source": [
    "os.chdir(code_dir)"
   ]
  },
  {
   "cell_type": "code",
   "execution_count": 4,
   "id": "0fbd7621-e800-4235-ab30-80560cc3e1a8",
   "metadata": {},
   "outputs": [
    {
     "name": "stderr",
     "output_type": "stream",
     "text": [
      "Project is up to date\n"
     ]
    }
   ],
   "source": [
    "build_status = os.system(\"fpm build > /dev/null\")"
   ]
  },
  {
   "cell_type": "markdown",
   "id": "d878f58b-29c1-4154-8563-76c07816e722",
   "metadata": {},
   "source": [
    "fpm run output is piped into sed to suppress the status of the run command and only print the output of the executable."
   ]
  },
  {
   "cell_type": "code",
   "execution_count": 5,
   "id": "0483d40b-e849-4574-bcbe-003c81a96dd5",
   "metadata": {},
   "outputs": [
    {
     "name": "stdout",
     "output_type": "stream",
     "text": [
      "Data piped in from command line....\n",
      "The three entered numbers were -->     87.00     12.00     55.00\n",
      "The median value is -->     55.00\n"
     ]
    },
    {
     "name": "stderr",
     "output_type": "stream",
     "text": [
      "Project is up to date\n"
     ]
    }
   ],
   "source": [
    "exec_status = os.system(\"echo '87 12 55' | fpm run | sed 1,1d\")"
   ]
  }
 ],
 "metadata": {
  "kernelspec": {
   "display_name": "Python 3 (ipykernel)",
   "language": "python",
   "name": "python3"
  },
  "language_info": {
   "codemirror_mode": {
    "name": "ipython",
    "version": 3
   },
   "file_extension": ".py",
   "mimetype": "text/x-python",
   "name": "python",
   "nbconvert_exporter": "python",
   "pygments_lexer": "ipython3",
   "version": "3.9.13"
  }
 },
 "nbformat": 4,
 "nbformat_minor": 5
}