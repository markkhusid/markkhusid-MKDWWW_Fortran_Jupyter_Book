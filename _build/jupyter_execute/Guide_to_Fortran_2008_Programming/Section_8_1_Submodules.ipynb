{
 "cells": [
  {
   "cell_type": "raw",
   "id": "c40b648f-a44a-4480-bbee-93e7a780f45b",
   "metadata": {},
   "source": [
    "---\n",
    "jupytext:\n",
    "  formats: md:myst\n",
    "  text_representation:\n",
    "    extension: .md\n",
    "    format_name: myst\n",
    "kernelspec:\n",
    "  display_name: Python 3\n",
    "  language: python\n",
    "  name: python3\n",
    "---"
   ]
  },
  {
   "cell_type": "markdown",
   "id": "a2a632f6-eb31-4ad7-a169-a820b078fa4f",
   "metadata": {
    "tags": []
   },
   "source": [
    "# Section 8.1: Submodules"
   ]
  },
  {
   "cell_type": "markdown",
   "id": "6cf4ac5a-004c-47f0-bd42-3f9cc0a0e4ec",
   "metadata": {},
   "source": [
    "Adapted from: \"Guide to Fortran 2008 Programming\" by Walter S. Brainerd (Springer 2015)"
   ]
  },
  {
   "cell_type": "markdown",
   "id": "cd26ce57-bee6-4c9a-b69c-4af41711e2c7",
   "metadata": {},
   "source": [
    "## Program to demonstrate use of submodules."
   ]
  },
  {
   "cell_type": "markdown",
   "id": "c36821c7-3b26-404c-8a7c-2f978dfb65d4",
   "metadata": {},
   "source": [
    "```fortran\n",
    "module line_mod\n",
    "\n",
    "      implicit none\n",
    "      private\n",
    "\n",
    "      type, public :: line\n",
    "          real :: x1, y1, x2, y2\n",
    "\n",
    "          contains\n",
    "              procedure :: length\n",
    "      end type line\n",
    "\n",
    "      interface\n",
    "          module function length (l)\n",
    "              class(line), intent(in)  :: l\n",
    "              real :: length\n",
    "          end function length\n",
    "      end interface\n",
    "\n",
    "end module line_mod\n",
    "\n",
    "submodule (line_mod) line_length_mod\n",
    "\n",
    "      contains\n",
    "          module procedure length\n",
    "\n",
    "              length = sqrt((l%x2 - l%x1)**2 + (l%y2 - l%y1)**2)\n",
    "          end procedure length\n",
    "\n",
    "end submodule line_length_mod\n",
    "\n",
    "program submod\n",
    "\n",
    "          use line_mod\n",
    "          implicit none\n",
    "          type (line)   :: line_1\n",
    "          line_1 = line(0, 0, 1, 1)\n",
    "          write (*, '(a)') \"**** Line Length Calculation Program ****\"\n",
    "\n",
    "          print *\n",
    "          write (*, '(a)') \"Coordinates.....\"\n",
    "          write (*, '(a, f15.1)') \"Y2: \", line_1%y2\n",
    "          write (*, '(a, f15.1)') \"Y1: \", line_1%y1\n",
    "          write (*, '(a, f15.1)') \"X2: \", line_1%x2\n",
    "          write (*, '(a, f15.1)') \"X1: \", line_1%x1\n",
    "\n",
    "          print *\n",
    "          write (*, '(a, f10.4)') \"The line length is -> \", line_1%length()\n",
    "\n",
    "end program submod\n",
    "```"
   ]
  },
  {
   "cell_type": "markdown",
   "id": "4c6b9985-c0cb-4602-8309-4e3369dd3226",
   "metadata": {},
   "source": [
    "The above program is compiled and run using Fortran Package Manager (fpm):"
   ]
  },
  {
   "cell_type": "code",
   "execution_count": 1,
   "id": "e8ba1050-b7b1-4e9e-87bf-28791145e5e7",
   "metadata": {},
   "outputs": [],
   "source": [
    "import os\n",
    "root_dir = os.getcwd()"
   ]
  },
  {
   "cell_type": "code",
   "execution_count": 2,
   "id": "bdaf795d-554a-46e6-b4da-faeb331e1b13",
   "metadata": {},
   "outputs": [],
   "source": [
    "code_dir = root_dir + \"/\" + \"Fortran_Code/Section_8_1_Submodules\""
   ]
  },
  {
   "cell_type": "code",
   "execution_count": 3,
   "id": "a7d9f1b1-ba0d-4db1-84ef-7a358f0453a6",
   "metadata": {},
   "outputs": [],
   "source": [
    "os.chdir(code_dir)"
   ]
  },
  {
   "cell_type": "code",
   "execution_count": 4,
   "id": "0fbd7621-e800-4235-ab30-80560cc3e1a8",
   "metadata": {},
   "outputs": [
    {
     "name": "stderr",
     "output_type": "stream",
     "text": [
      "Project is up to date\n"
     ]
    }
   ],
   "source": [
    "build_status = os.system(\"fpm build > /dev/null\")"
   ]
  },
  {
   "cell_type": "markdown",
   "id": "d878f58b-29c1-4154-8563-76c07816e722",
   "metadata": {},
   "source": [
    "fpm run output is piped into sed to suppress the status of the run command and only print the output of the executable."
   ]
  },
  {
   "cell_type": "code",
   "execution_count": 5,
   "id": "0483d40b-e849-4574-bcbe-003c81a96dd5",
   "metadata": {},
   "outputs": [
    {
     "name": "stdout",
     "output_type": "stream",
     "text": [
      "\n",
      "Coordinates.....\n",
      "Y2:             1.0\n",
      "Y1:             0.0\n",
      "X2:             1.0\n",
      "X1:             0.0\n",
      "\n",
      "The line length is ->     1.4142\n"
     ]
    },
    {
     "name": "stderr",
     "output_type": "stream",
     "text": [
      "Project is up to date\n"
     ]
    }
   ],
   "source": [
    "exec_status = os.system(\"fpm run | sed 1,1d\")"
   ]
  }
 ],
 "metadata": {
  "kernelspec": {
   "display_name": "Python 3 (ipykernel)",
   "language": "python",
   "name": "python3"
  },
  "language_info": {
   "codemirror_mode": {
    "name": "ipython",
    "version": 3
   },
   "file_extension": ".py",
   "mimetype": "text/x-python",
   "name": "python",
   "nbconvert_exporter": "python",
   "pygments_lexer": "ipython3",
   "version": "3.9.15"
  }
 },
 "nbformat": 4,
 "nbformat_minor": 5
}