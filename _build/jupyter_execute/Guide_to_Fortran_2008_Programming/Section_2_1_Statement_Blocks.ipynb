{
 "cells": [
  {
   "cell_type": "raw",
   "id": "c40b648f-a44a-4480-bbee-93e7a780f45b",
   "metadata": {},
   "source": [
    "---\n",
    "jupytext:\n",
    "  formats: md:myst\n",
    "  text_representation:\n",
    "    extension: .md\n",
    "    format_name: myst\n",
    "kernelspec:\n",
    "  display_name: Python 3\n",
    "  language: python\n",
    "  name: python3\n",
    "---"
   ]
  },
  {
   "cell_type": "markdown",
   "id": "fc63b62e-3ea6-4588-8b6e-f845bbc6d64c",
   "metadata": {
    "tags": []
   },
   "source": [
    "# Section 2.1: Associate Construct"
   ]
  },
  {
   "cell_type": "markdown",
   "id": "edfc7d7e-9803-4b96-82f1-bc0d47385f43",
   "metadata": {},
   "source": [
    "Adapted from: \"Guide to Fortran 2008 Programming\" by Walter S. Brainerd (Springer 2015)"
   ]
  },
  {
   "cell_type": "markdown",
   "id": "59ec1bec-3fd7-4061-aa24-c7765d25786f",
   "metadata": {},
   "source": [
    "## Program to demonstrate the **associate** construct in Fortran"
   ]
  },
  {
   "cell_type": "markdown",
   "id": "c36821c7-3b26-404c-8a7c-2f978dfb65d4",
   "metadata": {},
   "source": [
    "```fortran\n",
    "program assoc\n",
    "\n",
    "    implicit none\n",
    "    real :: x = 3, y = 4\n",
    "\n",
    "    associate (s => sqrt (x**2 + y**2))\n",
    "        write (*, '(a)') \"This program demonstrates the use of the Fortran associate construct\"\n",
    "        print *\n",
    "        write (*,'(a)') \"s is defined as s => sqrt (x**2 + y**2)\"\n",
    "        write (*, '(a, f5.1)') \"x is now -> \", x\n",
    "        write (*, '(a, f5.1)') \"y is now -> \", y\n",
    "        write (*, '(a, f5.1)') \"s is equal to -> \", s \n",
    "        print *        \n",
    "        write (*, '(a)') \"Changing the value of x and y in the accociate block....\"\n",
    "        x = 5; y = 12\n",
    "        write (*, '(a, f5.1, a, f5.1)') \"x is now -> \", x, \" y is now -> \", y\n",
    "        write (*, '(a, f5.1)') \"s is equal to -> \", s \n",
    "        print *\n",
    "        write (*, '(a)') \"Since x and y where changed in the associate block, s did not change\"\n",
    "        write (*, '(a, f5.1, a, f5.1)') \"x still is -> \", x, \" y still is -> \", y\n",
    "        write (*, '(a, f5.1)') \"s remains -> \", s\n",
    "    end associate\n",
    "\n",
    "    x = 5; y = 12\n",
    "    associate (s => sqrt (x**2 + y**2))\n",
    "        print *\n",
    "        write (*, '(a)') \"Now in a new associate block...\"\n",
    "        write (*,'(a)') \"s is still defined as s => sqrt (x**2 + y**2)\"\n",
    "        write (*, '(a, f5.1)') \"x is now -> \", x                           \n",
    "        write (*, '(a, f5.1)') \"y is now -> \", y\n",
    "        write (*, '(a, f5.1)') \"s is equal to -> \", s\n",
    "    end associate\n",
    "\n",
    "    associate (s => x)\n",
    "        print *\n",
    "        write (*, '(a)') \"s is now defined as s => x\"\n",
    "        x = 9\n",
    "        write (*, '(a, f5.1)') \"x is now -> \", x\n",
    "        write (*, '(a, f5.1)') \"s is equal to -> \", s\n",
    "    end associate\n",
    "\n",
    "end program assoc\n",
    "```"
   ]
  },
  {
   "cell_type": "markdown",
   "id": "4c6b9985-c0cb-4602-8309-4e3369dd3226",
   "metadata": {},
   "source": [
    "The above program is compiled and run using Fortran Package Manager (fpm):"
   ]
  },
  {
   "cell_type": "code",
   "execution_count": 1,
   "id": "e8ba1050-b7b1-4e9e-87bf-28791145e5e7",
   "metadata": {},
   "outputs": [],
   "source": [
    "import os\n",
    "root_dir = os.getcwd()"
   ]
  },
  {
   "cell_type": "code",
   "execution_count": 2,
   "id": "bdaf795d-554a-46e6-b4da-faeb331e1b13",
   "metadata": {},
   "outputs": [],
   "source": [
    "code_dir = root_dir + \"/\" + \"Fortran_Code/Section_2_1_Associate_Construct\""
   ]
  },
  {
   "cell_type": "code",
   "execution_count": 3,
   "id": "a7d9f1b1-ba0d-4db1-84ef-7a358f0453a6",
   "metadata": {},
   "outputs": [],
   "source": [
    "os.chdir(code_dir)"
   ]
  },
  {
   "cell_type": "code",
   "execution_count": 4,
   "id": "0fbd7621-e800-4235-ab30-80560cc3e1a8",
   "metadata": {},
   "outputs": [],
   "source": [
    "build_status = os.system(\"fpm build 2>/dev/null\")"
   ]
  },
  {
   "cell_type": "code",
   "execution_count": 5,
   "id": "0483d40b-e849-4574-bcbe-003c81a96dd5",
   "metadata": {},
   "outputs": [
    {
     "name": "stdout",
     "output_type": "stream",
     "text": [
      "This program demonstrates the use of the Fortran associate construct\n",
      "\n",
      "s is defined as s => sqrt (x**2 + y**2)\n",
      "x is now ->   3.0\n",
      "y is now ->   4.0\n",
      "s is equal to ->   5.0\n",
      "\n",
      "Changing the value of x and y in the accociate block....\n",
      "x is now ->   5.0 y is now ->  12.0\n",
      "s is equal to ->   5.0\n",
      "\n",
      "Since x and y where changed in the associate block, s did not change\n",
      "x still is ->   5.0 y still is ->  12.0\n",
      "s remains ->   5.0\n",
      "\n",
      "Now in a new associate block...\n",
      "s is still defined as s => sqrt (x**2 + y**2)\n",
      "x is now ->   5.0\n",
      "y is now ->  12.0\n",
      "s is equal to ->  13.0\n",
      "\n",
      "s is now defined as s => x\n",
      "x is now ->   9.0\n",
      "s is equal to ->   9.0\n"
     ]
    }
   ],
   "source": [
    "exec_status = os.system(\"fpm run 2>/dev/null\")"
   ]
  },
  {
   "cell_type": "code",
   "execution_count": null,
   "id": "fba82ba7",
   "metadata": {},
   "outputs": [],
   "source": []
  }
 ],
 "metadata": {
  "kernelspec": {
   "display_name": "Python 3.9.2 64-bit",
   "language": "python",
   "name": "python3"
  },
  "language_info": {
   "codemirror_mode": {
    "name": "ipython",
    "version": 3
   },
   "file_extension": ".py",
   "mimetype": "text/x-python",
   "name": "python",
   "nbconvert_exporter": "python",
   "pygments_lexer": "ipython3",
   "version": "3.9.15"
  },
  "vscode": {
   "interpreter": {
    "hash": "916dbcbb3f70747c44a77c7bcd40155683ae19c65e1c03b4aa3499c5328201f1"
   }
  }
 },
 "nbformat": 4,
 "nbformat_minor": 5
}