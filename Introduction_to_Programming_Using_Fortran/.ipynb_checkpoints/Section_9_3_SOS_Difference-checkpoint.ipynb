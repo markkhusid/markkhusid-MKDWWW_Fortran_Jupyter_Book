{
 "cells": [
  {
   "cell_type": "raw",
   "id": "c40b648f-a44a-4480-bbee-93e7a780f45b",
   "metadata": {},
   "source": [
    "---\n",
    "jupytext:\n",
    "  formats: md:myst\n",
    "  text_representation:\n",
    "    extension: .md\n",
    "    format_name: myst\n",
    "kernelspec:\n",
    "  display_name: Python 3\n",
    "  language: python\n",
    "  name: python3\n",
    "---"
   ]
  },
  {
   "cell_type": "markdown",
   "id": "fc63b62e-3ea6-4588-8b6e-f845bbc6d64c",
   "metadata": {
    "tags": []
   },
   "source": [
    "# Section 9.3: Difference Between Sum of Squares and Square of Sums"
   ]
  },
  {
   "cell_type": "markdown",
   "id": "edfc7d7e-9803-4b96-82f1-bc0d47385f43",
   "metadata": {},
   "source": [
    "Adapted from: \"[Introduction to Programming Using Fortran 95/2003/2008](https://open.umn.edu/opentextbooks/textbooks/introduction-to-programming-using-fortran-95-2003-2008)\" by Ed Jorgensen (March 2018 / Version 3.0.51)."
   ]
  },
  {
   "cell_type": "markdown",
   "id": "59ec1bec-3fd7-4061-aa24-c7765d25786f",
   "metadata": {},
   "source": [
    "## Program to Calculate the Difference Between the Sum of Squares and the Square of Sums"
   ]
  },
  {
   "cell_type": "markdown",
   "id": "4357b7cf-9b30-4a74-bea8-726520ec0f9d",
   "metadata": {},
   "source": [
    "```{literalinclude} Fortran_Code/Section_9_3_SOS_Difference/app/section_9_3_sos_difference.f90\n",
    "---\n",
    "language: fortran\n",
    "---\n",
    "```"
   ]
  },
  {
   "cell_type": "markdown",
   "id": "63dd9100-dcb1-40b7-a16c-23cfeec208c7",
   "metadata": {},
   "source": [
    "The following explanation is given by \"Code Copilot\" within ChatGPT 4."
   ]
  },
  {
   "cell_type": "markdown",
   "id": "554eae23-0faa-49a7-ba4d-89003e702bf6",
   "metadata": {},
   "source": [
    "The Fortran program `SOSdifference` is designed to calculate and display the difference between two mathematical quantities: the square of the sum of the first `n` natural numbers and the sum of the squares of the first `n` natural numbers. Here is a step-by-step explanation of how the program works:\n",
    "\n",
    "1. **Variable Declaration**: The program begins by declaring the necessary variables:\n",
    "   - `i` and `n` are integers used for looping and setting the upper limit, respectively.\n",
    "   - `SumOfSqrs` and `SqrOfSums` are initialized to zero. They are used to store the sum of squares and the square of sums, respectively.\n",
    "   - `difference` is declared to store the computed difference between the two calculated values.\n",
    "\n",
    "2. **User Interface Messages**: The program uses `write` statements to print messages to the user explaining what the program does. These messages are:\n",
    "   - \"This program calculates the difference between sum of squares and square of sums.\"\n",
    "\n",
    "3. **Input Handling**: Originally, the program likely had code to prompt the user to enter the value of `n` (number of terms). In this specific version, the user input is commented out, and `n` is set to 100 directly in the code. This adjustment might be for simplification, especially in environments like Jupyter Notebooks where interactive inputs can be cumbersome.\n",
    "\n",
    "4. **Computation Loop**:\n",
    "   - The program uses a `do` loop from 1 to `n`. Inside this loop:\n",
    "     - It calculates the sum of squares (`SumOfSqrs`) by adding the square of each number `i` to the existing sum.\n",
    "     - It also calculates the sum of the numbers (`SqrOfSums`) by adding each number `i` to the cumulative sum.\n",
    "\n",
    "5. **Final Calculation**:\n",
    "   - After exiting the loop, it squares the total sum (`SqrOfSums`) to get the square of the sum of the numbers from 1 to `n`.\n",
    "   - It calculates the `difference` by subtracting the sum of squares from the square of sums.\n",
    "\n",
    "6. **Result Display**: Finally, the program prints the results:\n",
    "   - It displays the square of the sums.\n",
    "   - It displays the sum of the squares.\n",
    "   - It displays the computed difference between these two values.\n",
    "\n",
    "This program highlights a classic mathematical problem often used to demonstrate algebraic identities or computational capabilities in programming."
   ]
  },
  {
   "cell_type": "markdown",
   "id": "95a01b71-3e03-4fd3-883d-121719f4161e",
   "metadata": {},
   "source": [
    "## Program Compilation and Execution"
   ]
  },
  {
   "cell_type": "markdown",
   "id": "4c6b9985-c0cb-4602-8309-4e3369dd3226",
   "metadata": {},
   "source": [
    "The above program is compiled and run using Fortran Package Manager (fpm):"
   ]
  },
  {
   "cell_type": "code",
   "execution_count": 1,
   "id": "e8ba1050-b7b1-4e9e-87bf-28791145e5e7",
   "metadata": {
    "execution": {
     "iopub.execute_input": "2024-05-12T00:43:00.894206Z",
     "iopub.status.busy": "2024-05-12T00:43:00.893203Z",
     "iopub.status.idle": "2024-05-12T00:43:00.898709Z",
     "shell.execute_reply": "2024-05-12T00:43:00.897722Z",
     "shell.execute_reply.started": "2024-05-12T00:43:00.894181Z"
    }
   },
   "outputs": [],
   "source": [
    "import os\n",
    "root_dir = os.getcwd()"
   ]
  },
  {
   "cell_type": "code",
   "execution_count": 2,
   "id": "bdaf795d-554a-46e6-b4da-faeb331e1b13",
   "metadata": {
    "execution": {
     "iopub.execute_input": "2024-05-12T00:43:02.072134Z",
     "iopub.status.busy": "2024-05-12T00:43:02.071851Z",
     "iopub.status.idle": "2024-05-12T00:43:02.079424Z",
     "shell.execute_reply": "2024-05-12T00:43:02.077949Z",
     "shell.execute_reply.started": "2024-05-12T00:43:02.072115Z"
    }
   },
   "outputs": [],
   "source": [
    "code_dir = root_dir + \"/\" + \"Fortran_Code/Section_9_3_SOS_Difference\""
   ]
  },
  {
   "cell_type": "code",
   "execution_count": 3,
   "id": "a7d9f1b1-ba0d-4db1-84ef-7a358f0453a6",
   "metadata": {
    "execution": {
     "iopub.execute_input": "2024-05-12T00:43:03.160729Z",
     "iopub.status.busy": "2024-05-12T00:43:03.160115Z",
     "iopub.status.idle": "2024-05-12T00:43:03.164723Z",
     "shell.execute_reply": "2024-05-12T00:43:03.164200Z",
     "shell.execute_reply.started": "2024-05-12T00:43:03.160709Z"
    }
   },
   "outputs": [],
   "source": [
    "os.chdir(code_dir)"
   ]
  },
  {
   "cell_type": "code",
   "execution_count": 4,
   "id": "0fbd7621-e800-4235-ab30-80560cc3e1a8",
   "metadata": {
    "execution": {
     "iopub.execute_input": "2024-05-12T00:43:04.163823Z",
     "iopub.status.busy": "2024-05-12T00:43:04.163518Z",
     "iopub.status.idle": "2024-05-12T00:43:04.247414Z",
     "shell.execute_reply": "2024-05-12T00:43:04.246342Z",
     "shell.execute_reply.started": "2024-05-12T00:43:04.163803Z"
    }
   },
   "outputs": [],
   "source": [
    "build_status = os.system(\"fpm build 2>/dev/null\")"
   ]
  },
  {
   "cell_type": "code",
   "execution_count": 5,
   "id": "0483d40b-e849-4574-bcbe-003c81a96dd5",
   "metadata": {
    "execution": {
     "iopub.execute_input": "2024-05-12T00:43:11.904994Z",
     "iopub.status.busy": "2024-05-12T00:43:11.904563Z",
     "iopub.status.idle": "2024-05-12T00:43:11.953158Z",
     "shell.execute_reply": "2024-05-12T00:43:11.951925Z",
     "shell.execute_reply.started": "2024-05-12T00:43:11.904964Z"
    }
   },
   "outputs": [
    {
     "name": "stdout",
     "output_type": "stream",
     "text": [
      "\n",
      "This program calculates the\n",
      "difference between sum of squares \n",
      "and square of sums\n",
      "\n",
      "Results...\n",
      "\n",
      "The square of the sums from 1 to   100 is ->   25502500\n",
      "\n",
      "The sum of the squares from 1 to   100 is ->     338350\n",
      "\n",
      "The difference between the square of the sums and sum of the squares is ->   25164150\n",
      "\n"
     ]
    }
   ],
   "source": [
    "exec_status = os.system(\"fpm run 2>/dev/null\")"
   ]
  }
 ],
 "metadata": {
  "kernelspec": {
   "display_name": "Python 3 (ipykernel)",
   "language": "python",
   "name": "python3"
  },
  "language_info": {
   "codemirror_mode": {
    "name": "ipython",
    "version": 3
   },
   "file_extension": ".py",
   "mimetype": "text/x-python",
   "name": "python",
   "nbconvert_exporter": "python",
   "pygments_lexer": "ipython3",
   "version": "3.10.14"
  }
 },
 "nbformat": 4,
 "nbformat_minor": 5
}
