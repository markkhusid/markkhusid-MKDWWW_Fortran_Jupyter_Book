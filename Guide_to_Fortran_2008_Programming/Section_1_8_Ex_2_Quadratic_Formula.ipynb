{
 "cells": [
  {
   "cell_type": "raw",
   "id": "c40b648f-a44a-4480-bbee-93e7a780f45b",
   "metadata": {},
   "source": [
    "---\n",
    "jupytext:\n",
    "  formats: md:myst\n",
    "  text_representation:\n",
    "    extension: .md\n",
    "    format_name: myst\n",
    "kernelspec:\n",
    "  display_name: Python 3\n",
    "  language: python\n",
    "  name: python3\n",
    "---"
   ]
  },
  {
   "cell_type": "markdown",
   "id": "fc63b62e-3ea6-4588-8b6e-f845bbc6d64c",
   "metadata": {
    "tags": []
   },
   "source": [
    "# Section 1.8 Example 2: Quadratic Equation"
   ]
  },
  {
   "cell_type": "markdown",
   "id": "edfc7d7e-9803-4b96-82f1-bc0d47385f43",
   "metadata": {},
   "source": [
    "Adapted from: \"[Guide to Fortran 2008 Programming](https://www.amazon.com/Guide-Fortran-Programming-Walter-brainerd/dp/1447167589/ref=sr_1_1?crid=JARCJZJ2KJZN&keywords=guide+to+fortran+2008+programming&qid=1581908665&sprefix=guide+to+fortran+2008+programming%2Caps%2C189&sr=8-1)\" by Walter S. Brainerd (Springer 2015)"
   ]
  },
  {
   "cell_type": "markdown",
   "id": "59ec1bec-3fd7-4061-aa24-c7765d25786f",
   "metadata": {},
   "source": [
    "## Program to compute the roots of a quadratic Equation using the quadratic formula"
   ]
  },
  {
   "cell_type": "markdown",
   "id": "4357b7cf-9b30-4a74-bea8-726520ec0f9d",
   "metadata": {},
   "source": [
    "```{literalinclude} Fortran_Code/Section_1_8_Ex_2_Quadratic_Formula/app/quadratic_equation_solver_1_ex2_mk.f90\n",
    "---\n",
    "language: fortran\n",
    "---\n",
    "```"
   ]
  },
  {
   "cell_type": "markdown",
   "id": "63dd9100-dcb1-40b7-a16c-23cfeec208c7",
   "metadata": {},
   "source": [
    "The following explanation is given by \"Code Copilot\" within ChatGPT 4."
   ]
  },
  {
   "cell_type": "markdown",
   "id": "def10d2d-d16e-47f7-b725-ac7d804f3854",
   "metadata": {},
   "source": [
    "The Fortran program `quadratic_equation_solver` calculates and prints the roots of a quadratic equation of the form $ax^2 + bx + c = 0$. The program is structured to handle different scenarios based on the values of the coefficients $a$, $b$, and $c$. Here is a detailed explanation of its functionality:\n",
    "\n",
    "### Initial Setup and Input Reading\n",
    "- The program starts with an introductory message to the user.\n",
    "- It reads the coefficients $a$, $b$, and $c$ from the standard input. In the commented section, there's an indication that in an interactive environment like Jupyter Notebook, these values would be piped directly from the command line.\n",
    "\n",
    "### Handling Different Quadratic Forms\n",
    "- The program first checks if $a$ equals 1 or not and formats the display of the quadratic equation accordingly. It accounts for both positive and negative $b$ values.\n",
    "\n",
    "### Error Handling and Special Cases\n",
    "- The program checks if both $a$ and $b$ are zero, which is not a valid state for a quadratic equation and prints an error message.\n",
    "- If $a$ is zero but $b$ is not, the equation is linear, not quadratic. It then calculates the root as $-c/b$ and prints it.\n",
    "\n",
    "### Discriminant Calculation and Root Analysis\n",
    "- The program calculates the discriminant $\\Delta = b^2 - 4ac$. This value determines the nature of the roots:\n",
    "- **Positive Discriminant**: Indicates two distinct real roots. The roots are calculated using the quadratic formula.\n",
    "- **Zero Discriminant**: Indicates a single repeated real root.\n",
    "- **Negative Discriminant**: Indicates complex roots. The program computes these using Fortran's complex number handling capabilities.\n",
    "\n",
    "### Additional Calculations and Output\n",
    "- The program includes logic to compute which root is smaller and attempts to verify this using a derived formula $x = c/(ax_2)$ (however, this formula seems contextually misplaced for quadratic equations).\n",
    "- It calculates the percentage difference between the computed smaller root and the derived value, presumably to check the accuracy or stability of the numerical computations.\n",
    "\n",
    "### Final Output\n",
    "- Depending on the discriminant, the program prints:\n",
    "- The real roots or the single real root and the calculations regarding the smaller root verification.\n",
    "- The complex roots if applicable.\n",
    "\n",
    "### Error Handling and Special Case Checks\n",
    "- The program has checks for unusual or special input values to ensure robustness, like when both $a$ and $b$ are zero.\n",
    "\n",
    "### Conclusion\n",
    "This Fortran program is comprehensive in handling the different scenarios encountered when solving quadratic equations. It not only provides the roots based on the discriminant but also includes checks for special cases, such as non-quadratic conditions (linear equation) and invalid inputs. Additionally, the extra calculations for verifying the smaller root's computation add an interesting layer of numerical analysis."
   ]
  },
  {
   "cell_type": "markdown",
   "id": "95a01b71-3e03-4fd3-883d-121719f4161e",
   "metadata": {},
   "source": [
    "## Program Compilation and Execution"
   ]
  },
  {
   "cell_type": "markdown",
   "id": "4c6b9985-c0cb-4602-8309-4e3369dd3226",
   "metadata": {},
   "source": [
    "The above program is compiled and run using Fortran Package Manager (fpm):"
   ]
  },
  {
   "cell_type": "code",
   "execution_count": 1,
   "id": "e8ba1050-b7b1-4e9e-87bf-28791145e5e7",
   "metadata": {
    "execution": {
     "iopub.execute_input": "2024-05-12T05:48:59.805539Z",
     "iopub.status.busy": "2024-05-12T05:48:59.804438Z",
     "iopub.status.idle": "2024-05-12T05:48:59.829827Z",
     "shell.execute_reply": "2024-05-12T05:48:59.808962Z",
     "shell.execute_reply.started": "2024-05-12T05:48:59.805515Z"
    }
   },
   "outputs": [],
   "source": [
    "import os\n",
    "root_dir = os.getcwd()"
   ]
  },
  {
   "cell_type": "code",
   "execution_count": 2,
   "id": "bdaf795d-554a-46e6-b4da-faeb331e1b13",
   "metadata": {
    "execution": {
     "iopub.execute_input": "2024-05-12T05:49:00.512354Z",
     "iopub.status.busy": "2024-05-12T05:49:00.511983Z",
     "iopub.status.idle": "2024-05-12T05:49:00.522234Z",
     "shell.execute_reply": "2024-05-12T05:49:00.521152Z",
     "shell.execute_reply.started": "2024-05-12T05:49:00.512325Z"
    }
   },
   "outputs": [],
   "source": [
    "code_dir = root_dir + \"/\" + \"Fortran_Code/Section_1_8_Ex_2_Quadratic_Formula\""
   ]
  },
  {
   "cell_type": "code",
   "execution_count": 3,
   "id": "a7d9f1b1-ba0d-4db1-84ef-7a358f0453a6",
   "metadata": {
    "execution": {
     "iopub.execute_input": "2024-05-12T05:49:01.402130Z",
     "iopub.status.busy": "2024-05-12T05:49:01.401626Z",
     "iopub.status.idle": "2024-05-12T05:49:01.407914Z",
     "shell.execute_reply": "2024-05-12T05:49:01.406118Z",
     "shell.execute_reply.started": "2024-05-12T05:49:01.402108Z"
    }
   },
   "outputs": [],
   "source": [
    "os.chdir(code_dir)"
   ]
  },
  {
   "cell_type": "code",
   "execution_count": 4,
   "id": "0fbd7621-e800-4235-ab30-80560cc3e1a8",
   "metadata": {
    "execution": {
     "iopub.execute_input": "2024-05-12T05:49:02.589083Z",
     "iopub.status.busy": "2024-05-12T05:49:02.588726Z",
     "iopub.status.idle": "2024-05-12T05:49:02.636524Z",
     "shell.execute_reply": "2024-05-12T05:49:02.635633Z",
     "shell.execute_reply.started": "2024-05-12T05:49:02.589057Z"
    }
   },
   "outputs": [],
   "source": [
    "build_status = os.system(\"fpm build 2>/dev/null\")"
   ]
  },
  {
   "cell_type": "markdown",
   "id": "d58d6e80-dbe2-4dcb-9526-ec22030d88f8",
   "metadata": {},
   "source": [
    "### Find the roots for the equation <br>\n",
    "$$\n",
    "\\Large x^2 + 3x + 2 = 0\n",
    "$$"
   ]
  },
  {
   "cell_type": "code",
   "execution_count": 5,
   "id": "0483d40b-e849-4574-bcbe-003c81a96dd5",
   "metadata": {
    "execution": {
     "iopub.execute_input": "2024-05-12T05:49:05.754286Z",
     "iopub.status.busy": "2024-05-12T05:49:05.753998Z",
     "iopub.status.idle": "2024-05-12T05:49:05.807069Z",
     "shell.execute_reply": "2024-05-12T05:49:05.806043Z",
     "shell.execute_reply.started": "2024-05-12T05:49:05.754265Z"
    }
   },
   "outputs": [
    {
     "name": "stdout",
     "output_type": "stream",
     "text": [
      "\n",
      "***** Quadratic Equation Solver *****\n",
      "\n",
      "The read in coefficients are:\n",
      "a =    1.000   b =    3.000   c =    2.000\n",
      "\n",
      "This program will solve the quadratic equation x^2  3.000x + 2.000\n",
      "\n",
      "The discriminant =    1.000\n",
      "\n",
      "Roots are real and non-degenerate...\n",
      "\n",
      "The roots are (using just sqrt):\n",
      "x1 = -1.000\n",
      "x2 = -2.000\n",
      "\n",
      "The absolute value of the smaller root according to x2 = c/ax1 is:\n",
      "x1 = 1.000\n",
      "\n",
      "The difference is: 0.000\n",
      "The percentage difference is: 0.000%\n"
     ]
    }
   ],
   "source": [
    "exec_status = os.system(\"echo '1 3 2' | fpm run 2>/dev/null\")"
   ]
  },
  {
   "cell_type": "markdown",
   "id": "740c8374-cf24-4394-ac97-9980c969fe33",
   "metadata": {},
   "source": [
    "### Find the roots for the equation <br>\n",
    "$$\n",
    "\\Large x^2 + 2x + 1 = 0\n",
    "$$"
   ]
  },
  {
   "cell_type": "code",
   "execution_count": 6,
   "id": "a5f79f6e-b219-4953-b33c-13749a965527",
   "metadata": {
    "execution": {
     "iopub.execute_input": "2024-05-12T05:49:10.112370Z",
     "iopub.status.busy": "2024-05-12T05:49:10.112007Z",
     "iopub.status.idle": "2024-05-12T05:49:10.156404Z",
     "shell.execute_reply": "2024-05-12T05:49:10.153772Z",
     "shell.execute_reply.started": "2024-05-12T05:49:10.112351Z"
    }
   },
   "outputs": [
    {
     "name": "stdout",
     "output_type": "stream",
     "text": [
      "\n",
      "***** Quadratic Equation Solver *****\n",
      "\n",
      "The read in coefficients are:\n",
      "a =    1.000   b =    2.000   c =    1.000\n",
      "\n",
      "This program will solve the quadratic equation x^2  2.000x + 1.000\n",
      "\n",
      "The discriminant =    0.000\n",
      "\n",
      "Roots are real and degenerate...\n",
      "\n",
      "The roots are (using just sqrt):\n",
      "x1 = -1.000\n",
      "x2 = -1.000\n",
      "\n",
      "The absolute value of the smaller root according to x2 = c/ax1 is:\n",
      "x1 = 1.000\n",
      "\n",
      "The difference is: 0.000\n",
      "The percentage difference is: 0.000%\n"
     ]
    }
   ],
   "source": [
    "exec_status = os.system(\"echo '1 2 1' | fpm run 2>/dev/null\")"
   ]
  },
  {
   "cell_type": "markdown",
   "id": "9c252fae-8098-46e4-a586-ef188d347444",
   "metadata": {
    "tags": []
   },
   "source": [
    "### Find the roots for the equation <br>\n",
    "$$\n",
    "\\Large x^2 + 5x + 9 = 0\n",
    "$$"
   ]
  },
  {
   "cell_type": "code",
   "execution_count": 7,
   "id": "fcfb5bdb-bf72-46ca-afba-7b81c6bb5776",
   "metadata": {
    "execution": {
     "iopub.execute_input": "2024-05-12T05:49:13.395844Z",
     "iopub.status.busy": "2024-05-12T05:49:13.395624Z",
     "iopub.status.idle": "2024-05-12T05:49:13.452018Z",
     "shell.execute_reply": "2024-05-12T05:49:13.451156Z",
     "shell.execute_reply.started": "2024-05-12T05:49:13.395830Z"
    }
   },
   "outputs": [
    {
     "name": "stdout",
     "output_type": "stream",
     "text": [
      "\n",
      "***** Quadratic Equation Solver *****\n",
      "\n",
      "The read in coefficients are:\n",
      "a =    1.000   b =    5.000   c =    9.000\n",
      "\n",
      "This program will solve the quadratic equation x^2  5.000x + 9.000\n",
      "\n",
      "The discriminant =  -11.000\n",
      "\n",
      "Roots are complex\n",
      "\n",
      "The roots are (using sqrt and cmplx):\n",
      "z1 = -2.500 +1.658i\n",
      "z2 = -2.500 -1.658i\n"
     ]
    }
   ],
   "source": [
    "exec_status = os.system(\"echo '1 5 9' | fpm run 2>/dev/null\")"
   ]
  },
  {
   "cell_type": "markdown",
   "id": "067c0e66-3453-4a76-b45e-317c97d682cb",
   "metadata": {
    "tags": []
   },
   "source": [
    "### Find the roots for the equation <br>\n",
    "$$\n",
    "\\Large x^2 + 6x + 1 = 0\n",
    "$$"
   ]
  },
  {
   "cell_type": "code",
   "execution_count": 8,
   "id": "c18fcc49-84b9-463d-bc14-24be4d32d980",
   "metadata": {
    "execution": {
     "iopub.execute_input": "2024-05-12T05:49:18.828734Z",
     "iopub.status.busy": "2024-05-12T05:49:18.827840Z",
     "iopub.status.idle": "2024-05-12T05:49:18.911637Z",
     "shell.execute_reply": "2024-05-12T05:49:18.910472Z",
     "shell.execute_reply.started": "2024-05-12T05:49:18.828710Z"
    }
   },
   "outputs": [
    {
     "name": "stdout",
     "output_type": "stream",
     "text": [
      "\n",
      "***** Quadratic Equation Solver *****\n",
      "\n",
      "The read in coefficients are:\n",
      "a =    1.000   b =    6.000   c =    1.000\n",
      "\n",
      "This program will solve the quadratic equation x^2  6.000x + 1.000\n",
      "\n",
      "The discriminant =   32.000\n",
      "\n",
      "Roots are real and non-degenerate...\n",
      "\n",
      "The roots are (using just sqrt):\n",
      "x1 = -0.172\n",
      "x2 = -5.828\n",
      "\n",
      "The absolute value of the smaller root according to x2 = c/ax1 is:\n",
      "x1 = 0.172\n",
      "\n",
      "The difference is: 0.000\n",
      "The percentage difference is: 0.000%\n"
     ]
    }
   ],
   "source": [
    "exec_status = os.system(\"echo '1 6 1' | fpm run 2>/dev/null\")"
   ]
  }
 ],
 "metadata": {
  "kernelspec": {
   "display_name": "Python 3 (ipykernel)",
   "language": "python",
   "name": "python3"
  },
  "language_info": {
   "codemirror_mode": {
    "name": "ipython",
    "version": 3
   },
   "file_extension": ".py",
   "mimetype": "text/x-python",
   "name": "python",
   "nbconvert_exporter": "python",
   "pygments_lexer": "ipython3",
   "version": "3.10.14"
  },
  "vscode": {
   "interpreter": {
    "hash": "916dbcbb3f70747c44a77c7bcd40155683ae19c65e1c03b4aa3499c5328201f1"
   }
  }
 },
 "nbformat": 4,
 "nbformat_minor": 5
}
