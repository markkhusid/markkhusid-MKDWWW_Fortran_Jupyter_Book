{
 "cells": [
  {
   "cell_type": "raw",
   "id": "c40b648f-a44a-4480-bbee-93e7a780f45b",
   "metadata": {},
   "source": [
    "---\n",
    "jupytext:\n",
    "  formats: md:myst\n",
    "  text_representation:\n",
    "    extension: .md\n",
    "    format_name: myst\n",
    "kernelspec:\n",
    "  display_name: Python 3\n",
    "  language: python\n",
    "  name: python3\n",
    "---"
   ]
  },
  {
   "cell_type": "markdown",
   "id": "fc63b62e-3ea6-4588-8b6e-f845bbc6d64c",
   "metadata": {
    "tags": []
   },
   "source": [
    "# Section 3.17: Case Study: Adaptive Numerical Integration"
   ]
  },
  {
   "cell_type": "markdown",
   "id": "edfc7d7e-9803-4b96-82f1-bc0d47385f43",
   "metadata": {},
   "source": [
    "Adapted from: \"Guide to Fortran 2008 Programming\" by Walter S. Brainerd (Springer 2015)"
   ]
  },
  {
   "cell_type": "markdown",
   "id": "59ec1bec-3fd7-4061-aa24-c7765d25786f",
   "metadata": {},
   "source": [
    "## Program to demonstrate the modules and procedures in Fortran."
   ]
  },
  {
   "cell_type": "markdown",
   "id": "e1c3293a-f7fd-4dd5-89be-383f587ca98c",
   "metadata": {},
   "source": [
    "This program calculates the integral:"
   ]
  },
  {
   "cell_type": "markdown",
   "id": "0c1f1094-0066-403a-9ccc-0c5c12e5ecfa",
   "metadata": {},
   "source": [
    "$$\n",
    "\\Large \\int_{-4}^4 e^{x^2} d{x}\n",
    "$$"
   ]
  },
  {
   "cell_type": "markdown",
   "id": "0f299888-a0ad-4089-a585-6a5e1f9f80b9",
   "metadata": {},
   "source": [
    "using adaptive numberical integration."
   ]
  },
  {
   "cell_type": "markdown",
   "id": "c36821c7-3b26-404c-8a7c-2f978dfb65d4",
   "metadata": {},
   "source": [
    "```fortran\n",
    "module math_module\n",
    "    implicit none\n",
    "    private\n",
    "    real, public, parameter :: pi    = 3.1415926\n",
    "    real, public, parameter :: e     = 2.7182818\n",
    "    real, public, parameter :: gamma = 0.5772156\n",
    "end module math_module\n",
    "\n",
    "module function_module\n",
    "\n",
    "    implicit none\n",
    "    private\n",
    "    public :: f\n",
    "\n",
    "contains\n",
    "    function f(x) result (f_result)\n",
    "        real, intent(in)        :: x\n",
    "        real                    :: f_result\n",
    "\n",
    "        f_result = exp(-x**2.0)\n",
    "    end function f\n",
    "end module function_module\n",
    "\n",
    "\n",
    "module integral_module\n",
    "\n",
    "    implicit none\n",
    "    private\n",
    "    public :: integral\n",
    "\n",
    "contains\n",
    "\n",
    "    recursive function integral(f, a, b, tolerance) result (integral_result)\n",
    "\n",
    "        intrinsic :: abs\n",
    "\n",
    "        interface\n",
    "            function f(x) result (f_result)\n",
    "                real, intent(in) :: x\n",
    "                real :: f_result\n",
    "            end function f\n",
    "        end interface\n",
    "\n",
    "        real, intent(in)    :: a, b, tolerance\n",
    "        real                :: integral_result\n",
    "        real                :: h, mid\n",
    "        real                :: one_trapezoid_area, two_trapezoid_area\n",
    "        real                :: left_area, right_area\n",
    "\n",
    "        h = b - a\n",
    "        mid = (a + b) / 2\n",
    "        one_trapezoid_area = h * (f(a) + f(b)) / 2.0\n",
    "        two_trapezoid_area = h/2 * (f(a) + f(mid)) / 2.0 + &\n",
    "                                h/2 * (f(mid) + f(b)) / 2.0\n",
    "        if (abs(one_trapezoid_area - two_trapezoid_area) < 3.0 * tolerance) then\n",
    "            integral_result = two_trapezoid_area\n",
    "        else\n",
    "            left_area = integral (f, a, mid, tolerance / 2)\n",
    "            right_area = integral (f, mid, b, tolerance / 2)\n",
    "            integral_result = left_area + right_area\n",
    "        end if\n",
    "\n",
    "    end function integral\n",
    "\n",
    "end module integral_module\n",
    "\n",
    "program integrate\n",
    "\n",
    "    use function_module\n",
    "    use integral_module\n",
    "    use math_module, only : pi\n",
    "    implicit none\n",
    "\n",
    "    real        :: x_min, x_max\n",
    "    real        :: answer\n",
    "\n",
    "    x_min = -4.0\n",
    "    x_max = 4.0\n",
    "    answer = integral(f, x_min, x_max, tolerance = 0.01)\n",
    "    write (*, '(a, f5.1, a, f5.1, a)') & \n",
    "        \"This program computes the integral of e^(-x^2) from \", &\n",
    "        x_min, \" to \", x_max, \" using adaptive numerical integration.\"\n",
    "    print *\n",
    "    write (*, '(a, f11.6)') \"The integral is approximately \", answer\n",
    "    write (*, '(a, f11.6)') \"The exact answer is \", sqrt(pi)\n",
    "\n",
    "end program integrate\n",
    "```"
   ]
  },
  {
   "cell_type": "markdown",
   "id": "4c6b9985-c0cb-4602-8309-4e3369dd3226",
   "metadata": {},
   "source": [
    "The above program is compiled and run using Fortran Package Manager (fpm):"
   ]
  },
  {
   "cell_type": "code",
   "execution_count": 1,
   "id": "e8ba1050-b7b1-4e9e-87bf-28791145e5e7",
   "metadata": {},
   "outputs": [],
   "source": [
    "import os\n",
    "root_dir = os.getcwd()"
   ]
  },
  {
   "cell_type": "code",
   "execution_count": 2,
   "id": "bdaf795d-554a-46e6-b4da-faeb331e1b13",
   "metadata": {},
   "outputs": [],
   "source": [
    "code_dir = root_dir + \"/\" + \"Fortran_Code/Section_3_17_Case_Study__Adaptive_Numerical_Integration\""
   ]
  },
  {
   "cell_type": "code",
   "execution_count": 3,
   "id": "a7d9f1b1-ba0d-4db1-84ef-7a358f0453a6",
   "metadata": {},
   "outputs": [],
   "source": [
    "os.chdir(code_dir)"
   ]
  },
  {
   "cell_type": "code",
   "execution_count": 4,
   "id": "0fbd7621-e800-4235-ab30-80560cc3e1a8",
   "metadata": {},
   "outputs": [],
   "source": [
    "build_status = os.system(\"fpm build > /dev/null\")"
   ]
  },
  {
   "cell_type": "markdown",
   "id": "d878f58b-29c1-4154-8563-76c07816e722",
   "metadata": {},
   "source": [
    "fpm run output is piped into sed to suppress the status of the run command and only print the output of the executable."
   ]
  },
  {
   "cell_type": "code",
   "execution_count": 5,
   "id": "0483d40b-e849-4574-bcbe-003c81a96dd5",
   "metadata": {},
   "outputs": [
    {
     "name": "stdout",
     "output_type": "stream",
     "text": [
      "This program computes the integral of e^(-x^2) from  -4.0 to   4.0 using adaptive numerical integration.\n",
      "\n",
      "The integral is approximately    1.777074\n",
      "The exact answer is    1.772454\n"
     ]
    }
   ],
   "source": [
    "exec_status = os.system(\"fpm run | sed 1,1d\")"
   ]
  }
 ],
 "metadata": {
  "kernelspec": {
   "display_name": "Python 3 (ipykernel)",
   "language": "python",
   "name": "python3"
  },
  "language_info": {
   "codemirror_mode": {
    "name": "ipython",
    "version": 3
   },
   "file_extension": ".py",
   "mimetype": "text/x-python",
   "name": "python",
   "nbconvert_exporter": "python",
   "pygments_lexer": "ipython3",
   "version": "3.8.13"
  }
 },
 "nbformat": 4,
 "nbformat_minor": 5
}
