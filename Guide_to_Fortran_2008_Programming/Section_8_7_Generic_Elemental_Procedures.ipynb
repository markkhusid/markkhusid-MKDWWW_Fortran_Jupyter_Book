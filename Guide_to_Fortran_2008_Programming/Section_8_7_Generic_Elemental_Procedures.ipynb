{
 "cells": [
  {
   "cell_type": "raw",
   "id": "c40b648f-a44a-4480-bbee-93e7a780f45b",
   "metadata": {},
   "source": [
    "---\n",
    "jupytext:\n",
    "  formats: md:myst\n",
    "  text_representation:\n",
    "    extension: .md\n",
    "    format_name: myst\n",
    "kernelspec:\n",
    "  display_name: Python 3\n",
    "  language: python\n",
    "  name: python3\n",
    "---"
   ]
  },
  {
   "cell_type": "markdown",
   "id": "fc63b62e-3ea6-4588-8b6e-f845bbc6d64c",
   "metadata": {
    "tags": []
   },
   "source": [
    "# Section 8.7: Generic Elemental Procedures"
   ]
  },
  {
   "cell_type": "markdown",
   "id": "edfc7d7e-9803-4b96-82f1-bc0d47385f43",
   "metadata": {},
   "source": [
    "Adapted from: \"Guide to Fortran 2008 Programming\" by Walter S. Brainerd (Springer 2015)"
   ]
  },
  {
   "cell_type": "markdown",
   "id": "59ec1bec-3fd7-4061-aa24-c7765d25786f",
   "metadata": {},
   "source": [
    "## Program to demonstrate the generic elemental procedures."
   ]
  },
  {
   "cell_type": "markdown",
   "id": "c36821c7-3b26-404c-8a7c-2f978dfb65d4",
   "metadata": {},
   "source": [
    "``` fortran\n",
    "module swap_module\n",
    "\n",
    "    implicit none\n",
    "\n",
    "    public          :: swap\n",
    "    private         :: swap_reals, swap_integers\n",
    "\n",
    "    interface swap\n",
    "        procedure swap_reals, swap_integers\n",
    "    end interface\n",
    "\n",
    "contains\n",
    "\n",
    "    elemental subroutine swap_reals (a, b)\n",
    "        real, intent (in out)   :: a, b\n",
    "        real                    :: temp\n",
    "        temp = a\n",
    "        a = b\n",
    "        b = temp\n",
    "    end subroutine swap_reals\n",
    "\n",
    "    elemental subroutine swap_integers (a, b)\n",
    "        integer, intent (in out)    :: a, b\n",
    "        integer                     :: temp\n",
    "        temp = a\n",
    "        a = b\n",
    "        b = temp\n",
    "    end subroutine swap_integers\n",
    "\n",
    "end module swap_module\n",
    "\n",
    "program generic_elemental_procedures\n",
    "\n",
    "    use swap_module\n",
    "    implicit none\n",
    "    integer, dimension (3)          :: &\n",
    "        i = [1, 2, 3], &\n",
    "        j = [7, 8, 9]\n",
    "\n",
    "    real, dimension (3)             :: &\n",
    "        a = [1.1, 2.2, 3.3], &\n",
    "        b = [7.7, 8.8, 9.9]\n",
    "\n",
    "    print *\n",
    "\n",
    "    write (*, '(a, 3i5)') \"[*] The array i is: \", i\n",
    "    write (*, '(a, 3i5)') \"[*] The array j is: \", j\n",
    "    \n",
    "    print *\n",
    "\n",
    "    write (*, '(a)') \"[*] Now calling swap on the integer arrays....\"\n",
    "    print *\n",
    "\n",
    "    call swap(i, j)\n",
    "\n",
    "    write (*, '(a, 3i5)') \"[*] After swapping, the array i is: \", i\n",
    "    write (*, '(a, 3i5)') \"[*] After swapping, the array j is: \", j\n",
    "\n",
    "    print *\n",
    "\n",
    "    write (*, '(a, 3f5.1)') \"[*] The array a is: \", a\n",
    "    write (*, '(a, 3f5.1)') \"[*] The array b is: \", b\n",
    "\n",
    "    print *\n",
    "\n",
    "    write (*, '(a)') \"[*] Now calling swap on the real arrays....\"\n",
    "    print *\n",
    "\n",
    "    call swap(a, b)\n",
    "\n",
    "    write (*, '(a, 3f5.1)') \"[*] After swapping, the array a is: \", a\n",
    "    write (*, '(a, 3f5.1)') \"[*] After swapping, the array b is: \", b\n",
    "\n",
    "end program generic_elemental_procedures\n",
    "```"
   ]
  },
  {
   "cell_type": "markdown",
   "id": "4c6b9985-c0cb-4602-8309-4e3369dd3226",
   "metadata": {},
   "source": [
    "The above program is compiled and run using Fortran Package Manager (fpm):"
   ]
  },
  {
   "cell_type": "code",
   "execution_count": 1,
   "id": "e8ba1050-b7b1-4e9e-87bf-28791145e5e7",
   "metadata": {},
   "outputs": [],
   "source": [
    "import os\n",
    "root_dir = os.getcwd()"
   ]
  },
  {
   "cell_type": "code",
   "execution_count": 2,
   "id": "bdaf795d-554a-46e6-b4da-faeb331e1b13",
   "metadata": {},
   "outputs": [],
   "source": [
    "code_dir = root_dir + \"/\" + \"Fortran_Code/Section_8_7_Generic_Elemental_Procedures\""
   ]
  },
  {
   "cell_type": "code",
   "execution_count": 3,
   "id": "a7d9f1b1-ba0d-4db1-84ef-7a358f0453a6",
   "metadata": {},
   "outputs": [],
   "source": [
    "os.chdir(code_dir)"
   ]
  },
  {
   "cell_type": "code",
   "execution_count": 4,
   "id": "0fbd7621-e800-4235-ab30-80560cc3e1a8",
   "metadata": {},
   "outputs": [],
   "source": [
    "build_status = os.system(\"fpm build > /dev/null\")"
   ]
  },
  {
   "cell_type": "markdown",
   "id": "d878f58b-29c1-4154-8563-76c07816e722",
   "metadata": {},
   "source": [
    "fpm run output is piped into sed to suppress the status of the run command and only print the output of the executable."
   ]
  },
  {
   "cell_type": "code",
   "execution_count": 5,
   "id": "0483d40b-e849-4574-bcbe-003c81a96dd5",
   "metadata": {},
   "outputs": [
    {
     "name": "stdout",
     "output_type": "stream",
     "text": [
      "\n",
      "[*] The array i is:     1    2    3\n",
      "[*] The array j is:     7    8    9\n",
      "\n",
      "[*] Now calling swap on the integer arrays....\n",
      "\n",
      "[*] After swapping, the array i is:     7    8    9\n",
      "[*] After swapping, the array j is:     1    2    3\n",
      "\n",
      "[*] The array a is:   1.1  2.2  3.3\n",
      "[*] The array b is:   7.7  8.8  9.9\n",
      "\n",
      "[*] Now calling swap on the real arrays....\n",
      "\n",
      "[*] After swapping, the array a is:   7.7  8.8  9.9\n",
      "[*] After swapping, the array b is:   1.1  2.2  3.3\n"
     ]
    }
   ],
   "source": [
    "exec_status = os.system(\"fpm run | sed 1,1d\")"
   ]
  }
 ],
 "metadata": {
  "kernelspec": {
   "display_name": "Python 3 (ipykernel)",
   "language": "python",
   "name": "python3"
  },
  "language_info": {
   "codemirror_mode": {
    "name": "ipython",
    "version": 3
   },
   "file_extension": ".py",
   "mimetype": "text/x-python",
   "name": "python",
   "nbconvert_exporter": "python",
   "pygments_lexer": "ipython3",
   "version": "3.8.13"
  }
 },
 "nbformat": 4,
 "nbformat_minor": 5
}
