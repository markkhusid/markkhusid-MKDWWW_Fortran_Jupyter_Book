{
 "cells": [
  {
   "cell_type": "raw",
   "id": "c40b648f-a44a-4480-bbee-93e7a780f45b",
   "metadata": {},
   "source": [
    "---\n",
    "jupytext:\n",
    "  formats: md:myst\n",
    "  text_representation:\n",
    "    extension: .md\n",
    "    format_name: myst\n",
    "kernelspec:\n",
    "  display_name: Python 3\n",
    "  language: python\n",
    "  name: python3\n",
    "---"
   ]
  },
  {
   "cell_type": "markdown",
   "id": "fc63b62e-3ea6-4588-8b6e-f845bbc6d64c",
   "metadata": {
    "tags": []
   },
   "source": [
    "# Section 8.2: Time Matrix Multiply"
   ]
  },
  {
   "cell_type": "markdown",
   "id": "edfc7d7e-9803-4b96-82f1-bc0d47385f43",
   "metadata": {},
   "source": [
    "Adapted from: \"Guide to Fortran 2008 Programming\" by Walter S. Brainerd (Springer 2015)"
   ]
  },
  {
   "cell_type": "markdown",
   "id": "59ec1bec-3fd7-4061-aa24-c7765d25786f",
   "metadata": {},
   "source": [
    "## Program to demonstrate the performance improvement of using matmul over do loops."
   ]
  },
  {
   "cell_type": "markdown",
   "id": "c36821c7-3b26-404c-8a7c-2f978dfb65d4",
   "metadata": {},
   "source": [
    "```fortran\n",
    "program time_matrix_multiply\n",
    "\n",
    "    ! Compare times of the matmul intrinsic cs DO loops\n",
    "\n",
    "    implicit none\n",
    "    integer, parameter :: n = 10\n",
    "    real, dimension (n, n) :: a, b, c1, c2\n",
    "    character(len=8) :: date\n",
    "    real :: start_time_1, stop_time_1, start_time_2, stop_time_2\n",
    "    real :: total_time_1, total_time_2\n",
    "    integer :: i, j, k\n",
    "    character(len=*), parameter :: form = \"(t2, a, f0.10, a)\"\n",
    "\n",
    "    ! Get date to print on report\n",
    "\n",
    "    call date_and_time(date = date)\n",
    "\n",
    "    print *, \"Timing report dated: \" // date(1:4) &\n",
    "        // \"-\" // date(5:6) // \"-\" // date(7:8)\n",
    "\n",
    "    call random_seed()\n",
    "    call random_number(a)\n",
    "    call random_number(b)\n",
    "    call cpu_time(start_time_1)\n",
    "   \n",
    "    ! Lines below added for effect\n",
    "    ! The matrices of random values will be printed to the screen\n",
    "    write (*, \"(a)\") \"Matrix A\"\n",
    "    write (*, \"(10f10.3)\") (a(i,:), i=1,n)\n",
    "\n",
    "    print *\n",
    "    write (*, \"(a)\") \"Matrix B\"\n",
    "    write (*, \"(10f10.3)\") (b(i,:), i=1,n)\n",
    "\n",
    "    c1 = 0\n",
    "\n",
    "    do k = 1, n\n",
    "        do j = 1, n\n",
    "            do i = 1, n\n",
    "                c1(i, j) = c1(i, j) + a(i, k) * b(k, j)\n",
    "            end do\n",
    "        end do\n",
    "    end do\n",
    "\n",
    "    call cpu_time(stop_time_1)\n",
    "\n",
    "    total_time_1 = stop_time_1 - start_time_1\n",
    "\n",
    "    print *\n",
    "\n",
    "    write (*, \"(a)\") \"Matrix C1 is AxB using loops.\"\n",
    "    write (*, \"(10f10.3)\") (c1(i,:), i=1,n)\n",
    "\n",
    "    call cpu_time(start_time_2)\n",
    "    c2 = matmul(a, b)\n",
    "    call cpu_time(stop_time_2)\n",
    "\n",
    "    total_time_2 = stop_time_2 - start_time_2\n",
    "\n",
    "    print *\n",
    "\n",
    "    write (*, \"(a)\") \"Matrix C2 is AxB using matmul.\"\n",
    "    write (*, \"(10f10.3)\") (c1(i,:), i=1,n)\n",
    "\n",
    "    print *\n",
    "\n",
    "    write (*, form) \"Time of Do loop version is: \", total_time_1, \" seconds.\"\n",
    "    write (*, form) \"Time of matmul version is: \", total_time_2, \" seconds.\"\n",
    "\n",
    "    print *\n",
    "\n",
    "    if (any(abs(c1-c2) > 1.0e-4)) then\n",
    "        write (*,  \"(a)\") \"There are significantly different values between the matrices.\"\n",
    "    else\n",
    "        write (*,  \"(a)\") \"The results are approximately the same.\"\n",
    "    end if\n",
    "\n",
    "    print *\n",
    "    write (*, \"(a, f10.3, a)\") \"The speedup ratio is: \", total_time_1/total_time_2, \"x\"\n",
    "\n",
    "end program time_matrix_multiply\n",
    "```"
   ]
  },
  {
   "cell_type": "markdown",
   "id": "4c6b9985-c0cb-4602-8309-4e3369dd3226",
   "metadata": {},
   "source": [
    "The above program is compiled and run using Fortran Package Manager (fpm):"
   ]
  },
  {
   "cell_type": "code",
   "execution_count": 1,
   "id": "e8ba1050-b7b1-4e9e-87bf-28791145e5e7",
   "metadata": {},
   "outputs": [],
   "source": [
    "import os\n",
    "root_dir = os.getcwd()"
   ]
  },
  {
   "cell_type": "code",
   "execution_count": 2,
   "id": "bdaf795d-554a-46e6-b4da-faeb331e1b13",
   "metadata": {},
   "outputs": [],
   "source": [
    "code_dir = root_dir + \"/\" + \"Fortran_Code/Section_8_2_Time_Matrix_Multiply\""
   ]
  },
  {
   "cell_type": "code",
   "execution_count": 3,
   "id": "a7d9f1b1-ba0d-4db1-84ef-7a358f0453a6",
   "metadata": {},
   "outputs": [],
   "source": [
    "os.chdir(code_dir)"
   ]
  },
  {
   "cell_type": "code",
   "execution_count": 4,
   "id": "0fbd7621-e800-4235-ab30-80560cc3e1a8",
   "metadata": {},
   "outputs": [],
   "source": [
    "build_status = os.system(\"fpm build > /dev/null\")"
   ]
  },
  {
   "cell_type": "markdown",
   "id": "d878f58b-29c1-4154-8563-76c07816e722",
   "metadata": {},
   "source": [
    "fpm run output is piped into sed to suppress the status of the run command and only print the output of the executable."
   ]
  },
  {
   "cell_type": "code",
   "execution_count": 5,
   "id": "0483d40b-e849-4574-bcbe-003c81a96dd5",
   "metadata": {},
   "outputs": [
    {
     "name": "stdout",
     "output_type": "stream",
     "text": [
      " Timing report dated: 2022-05-30\n",
      "Matrix A\n",
      "     0.358     0.160     0.922     0.218     0.488     0.974     0.921     0.972     0.319     0.242\n",
      "     0.783     0.949     0.661     0.648     0.708     0.198     0.208     0.257     0.845     0.838\n",
      "     0.627     0.646     0.005     0.338     0.415     0.728     0.479     0.913     0.535     0.533\n",
      "     0.382     0.471     0.044     0.321     0.957     0.878     0.449     0.981     0.214     0.444\n",
      "     0.066     0.599     0.528     0.912     0.519     0.801     0.983     0.005     0.094     0.261\n",
      "     0.462     0.637     0.150     0.754     0.858     0.230     0.638     0.059     0.444     0.944\n",
      "     0.575     0.216     0.514     0.594     0.930     0.274     0.133     0.362     0.750     0.710\n",
      "     0.631     0.758     0.874     0.662     0.189     0.801     0.601     0.592     0.683     0.343\n",
      "     0.749     0.908     0.290     0.775     0.515     0.627     0.222     0.241     0.012     0.868\n",
      "     0.136     0.891     0.022     0.315     0.363     0.731     0.151     0.928     0.058     0.676\n",
      "\n",
      "Matrix B\n",
      "     0.379     0.964     0.173     0.331     0.200     0.136     0.363     0.786     0.139     0.618\n",
      "     0.974     0.233     0.224     0.153     0.007     0.335     0.221     0.732     0.743     0.390\n",
      "     0.499     0.285     0.882     0.588     0.517     0.174     0.400     0.397     0.423     0.140\n",
      "     0.617     0.017     0.723     0.750     0.229     0.865     0.251     0.433     0.094     0.342\n",
      "     0.326     0.492     0.963     0.901     0.509     0.510     0.729     0.873     0.781     0.703\n",
      "     0.004     0.776     0.206     0.959     0.899     0.190     0.481     0.452     0.936     0.879\n",
      "     0.866     0.546     0.468     0.209     0.184     0.116     0.931     0.172     0.527     0.834\n",
      "     0.283     0.206     0.088     0.185     0.563     0.851     0.024     0.090     0.725     0.492\n",
      "     0.751     0.708     0.486     0.172     0.998     0.339     0.151     0.546     0.305     0.053\n",
      "     0.184     0.395     0.826     0.328     0.033     0.945     0.691     0.678     0.992     0.958\n",
      "\n",
      "Matrix C1 is AxB using loops.\n",
      "     2.405     2.670     2.612     2.730     2.766     2.157     2.510     2.310     3.399     3.182\n",
      "     3.223     2.774     3.345     2.619     2.246     2.820     2.440     3.650     3.277     2.988\n",
      "     2.388     2.570     2.057     2.172     2.229     2.463     2.027     2.624     3.212     3.075\n",
      "     2.047     2.423     2.313     2.628     2.317     2.529     2.242     2.617     3.474     3.274\n",
      "     2.578     1.954     2.658     2.653     1.770     1.905     2.471     2.308     2.728     2.807\n",
      "     2.692     2.298     3.073     2.429     1.616     2.603     2.609     3.066     3.007     3.107\n",
      "     2.266     2.391     3.028     2.528     2.238     2.528     2.158     2.953     2.761     2.618\n",
      "     3.150     2.830     2.825     2.740     2.689     2.443     2.350     2.974     3.275     3.030\n",
      "     2.390     2.292     2.622     2.582     1.527     2.564     2.275     3.092     3.119     3.172\n",
      "     1.808     1.679     1.711     1.896     1.591     2.384     1.590     2.152     3.129     2.675\n",
      "\n",
      "Matrix C2 is AxB using matmul.\n",
      "     2.405     2.670     2.612     2.730     2.766     2.157     2.510     2.310     3.399     3.182\n",
      "     3.223     2.774     3.345     2.619     2.246     2.820     2.440     3.650     3.277     2.988\n",
      "     2.388     2.570     2.057     2.172     2.229     2.463     2.027     2.624     3.212     3.075\n",
      "     2.047     2.423     2.313     2.628     2.317     2.529     2.242     2.617     3.474     3.274\n",
      "     2.578     1.954     2.658     2.653     1.770     1.905     2.471     2.308     2.728     2.807\n",
      "     2.692     2.298     3.073     2.429     1.616     2.603     2.609     3.066     3.007     3.107\n",
      "     2.266     2.391     3.028     2.528     2.238     2.528     2.158     2.953     2.761     2.618\n",
      "     3.150     2.830     2.825     2.740     2.689     2.443     2.350     2.974     3.275     3.030\n",
      "     2.390     2.292     2.622     2.582     1.527     2.564     2.275     3.092     3.119     3.172\n",
      "     1.808     1.679     1.711     1.896     1.591     2.384     1.590     2.152     3.129     2.675\n",
      "\n",
      " Time of Do loop version is: .0003980000 seconds.\n",
      " Time of matmul version is: .0000490001 seconds.\n",
      "\n",
      "The results are approximately the same.\n",
      "\n",
      "The speedup ratio is:      8.122x\n"
     ]
    }
   ],
   "source": [
    "exec_status = os.system(\"fpm run | sed 1,1d\")"
   ]
  },
  {
   "cell_type": "code",
   "execution_count": null,
   "id": "4ddf35b3-f0bf-439d-9e19-6199fba3455a",
   "metadata": {},
   "outputs": [],
   "source": []
  }
 ],
 "metadata": {
  "kernelspec": {
   "display_name": "Python 3 (ipykernel)",
   "language": "python",
   "name": "python3"
  },
  "language_info": {
   "codemirror_mode": {
    "name": "ipython",
    "version": 3
   },
   "file_extension": ".py",
   "mimetype": "text/x-python",
   "name": "python",
   "nbconvert_exporter": "python",
   "pygments_lexer": "ipython3",
   "version": "3.8.13"
  }
 },
 "nbformat": 4,
 "nbformat_minor": 5
}
