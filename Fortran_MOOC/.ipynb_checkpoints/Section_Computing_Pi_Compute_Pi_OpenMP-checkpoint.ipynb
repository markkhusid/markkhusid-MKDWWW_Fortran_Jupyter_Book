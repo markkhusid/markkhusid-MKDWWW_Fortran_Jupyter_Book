{
 "cells": [
  {
   "cell_type": "raw",
   "id": "c40b648f-a44a-4480-bbee-93e7a780f45b",
   "metadata": {},
   "source": [
    "---\n",
    "jupytext:\n",
    "  formats: md:myst\n",
    "  text_representation:\n",
    "    extension: .md\n",
    "    format_name: myst\n",
    "kernelspec:\n",
    "  display_name: Python 3\n",
    "  language: python\n",
    "  name: python3\n",
    "---"
   ]
  },
  {
   "attachments": {},
   "cell_type": "markdown",
   "id": "fc63b62e-3ea6-4588-8b6e-f845bbc6d64c",
   "metadata": {
    "tags": []
   },
   "source": [
    "# Section Computing Pi: Compute Pi with OpenMP\n"
   ]
  },
  {
   "attachments": {},
   "cell_type": "markdown",
   "id": "edfc7d7e-9803-4b96-82f1-bc0d47385f43",
   "metadata": {},
   "source": [
    "Adapted from: [https://github.com/gjbex/Fortran-MOOC/tree/master/source_code/computing_pi](https://github.com/gjbex/Fortran-MOOC/tree/master/source_code/computing_pi)"
   ]
  },
  {
   "attachments": {},
   "cell_type": "markdown",
   "id": "59ec1bec-3fd7-4061-aa24-c7765d25786f",
   "metadata": {},
   "source": [
    "## This program demonstrates computing $\\pi$ in Fortran using OpenMP."
   ]
  },
  {
   "attachments": {},
   "cell_type": "markdown",
   "id": "a2705efc",
   "metadata": {},
   "source": [
    "```fortran\n",
    "program compute_pi_omp\n",
    "  use, intrinsic :: iso_fortran_env, only : DP => REAL64, I8 => INT64\n",
    "  implicit none\n",
    "  integer(kind=I8) :: i, nr_iters\n",
    "  real(kind=DP) :: delta, x, pi_val\n",
    "\n",
    "  pi_val = 0.0_DP\n",
    "  nr_iters = get_nr_iters()\n",
    "  delta = 1.0_DP/nr_iters\n",
    "  x = 0.0_DP\n",
    "\n",
    "  !$omp parallel do default(none) private(x) shared(delta, nr_iters) reduction(+:pi_val)\n",
    "  do i = 1, nr_iters\n",
    "      x = i*delta\n",
    "      pi_val = pi_val + sqrt(1.0_DP - x**2)\n",
    "  end do\n",
    "  !$omp end parallel do\n",
    "\n",
    "  pi_val = 4.0_DP*pi_val/nr_iters\n",
    "  print '(A, I10, A, F25.15)', \"After \", nr_iters, \" loops, Pi = \", pi_val\n",
    "\n",
    "contains\n",
    "   \n",
    "  function get_nr_iters() result(nr_iters)\n",
    "      use, intrinsic :: iso_fortran_env, only : error_unit\n",
    "      implicit none\n",
    "      integer(kind=I8) :: nr_iters\n",
    "      integer(kind=I8), parameter :: default_nr_iters = 1000_I8\n",
    "      character(len=1024) :: buffer, msg\n",
    "      integer :: istat\n",
    "\n",
    "      if (command_argument_count() >= 1) then\n",
    "          call get_command_argument(1, buffer)\n",
    "          read (buffer, fmt=*, iostat=istat, iomsg=msg) nr_iters\n",
    "          if (istat /= 0) then\n",
    "              write (unit=error_unit, fmt='(2A)') &\n",
    "                  'error: ', msg\n",
    "              stop 1\n",
    "          end if\n",
    "      else\n",
    "          nr_iters = default_nr_iters\n",
    "      end if\n",
    "  end function get_nr_iters\n",
    "\n",
    "end program compute_pi_omp\n",
    "```"
   ]
  },
  {
   "cell_type": "markdown",
   "id": "4c6b9985-c0cb-4602-8309-4e3369dd3226",
   "metadata": {},
   "source": [
    "The above program is compiled and run using Fortran Package Manager (fpm):"
   ]
  },
  {
   "cell_type": "markdown",
   "id": "c6f9ed20",
   "metadata": {
    "tags": []
   },
   "source": [
    "## Build the Program using FPM (Fortran Package Manager)"
   ]
  },
  {
   "cell_type": "code",
   "execution_count": 1,
   "id": "f16472aa-c965-4bad-a218-fee33f7b456a",
   "metadata": {},
   "outputs": [],
   "source": [
    "import os\n",
    "root_dir = \"\"\n",
    "root_dir = os.getcwd()"
   ]
  },
  {
   "cell_type": "code",
   "execution_count": 2,
   "id": "f77f9126-86cc-4a1b-89b9-5ad5f61cf72c",
   "metadata": {
    "tags": []
   },
   "outputs": [],
   "source": [
    "code_dir = root_dir + \"/\" + \"Fortran_Code/Section_Computing_Pi_Compute_Pi_OpenMP\""
   ]
  },
  {
   "cell_type": "code",
   "execution_count": 3,
   "id": "dda7a884",
   "metadata": {
    "tags": [
     "remove-cell"
    ]
   },
   "outputs": [],
   "source": [
    "code_app_dir = code_dir + \"/\" + \"app\""
   ]
  },
  {
   "cell_type": "code",
   "execution_count": 4,
   "id": "0c1bfdce-7589-4f56-be03-b2be392d952f",
   "metadata": {
    "tags": [
     "remove-cell"
    ]
   },
   "outputs": [],
   "source": [
    "os.chdir(code_app_dir)"
   ]
  },
  {
   "cell_type": "code",
   "execution_count": 5,
   "id": "acf272e3-a204-4981-9008-359bb189b9bb",
   "metadata": {
    "tags": [
     "remove-cell"
    ]
   },
   "outputs": [],
   "source": [
    "%%capture\n",
    "%%writefile section_computing_pi_compute_pi_openmp.f90\n",
    "program compute_pi_omp\n",
    "  use, intrinsic :: iso_fortran_env, only : DP => REAL64, I8 => INT64\n",
    "  implicit none\n",
    "  integer(kind=I8) :: i, nr_iters\n",
    "  real(kind=DP) :: delta, x, pi_val\n",
    "\n",
    "  pi_val = 0.0_DP\n",
    "  nr_iters = get_nr_iters()\n",
    "  delta = 1.0_DP/nr_iters\n",
    "  x = 0.0_DP\n",
    "\n",
    "  !$omp parallel do default(none) private(x) shared(delta, nr_iters) reduction(+:pi_val)\n",
    "  do i = 1, nr_iters\n",
    "      x = i*delta\n",
    "      pi_val = pi_val + sqrt(1.0_DP - x**2)\n",
    "  end do\n",
    "  !$omp end parallel do\n",
    "\n",
    "  pi_val = 4.0_DP*pi_val/nr_iters\n",
    "  print '(A, I10, A, F25.15)', \"After \", nr_iters, \" loops, Pi = \", pi_val\n",
    "\n",
    "contains\n",
    "   \n",
    "  function get_nr_iters() result(nr_iters)\n",
    "      use, intrinsic :: iso_fortran_env, only : error_unit\n",
    "      implicit none\n",
    "      integer(kind=I8) :: nr_iters\n",
    "      integer(kind=I8), parameter :: default_nr_iters = 1000_I8\n",
    "      character(len=1024) :: buffer, msg\n",
    "      integer :: istat\n",
    "\n",
    "      if (command_argument_count() >= 1) then\n",
    "          call get_command_argument(1, buffer)\n",
    "          read (buffer, fmt=*, iostat=istat, iomsg=msg) nr_iters\n",
    "          if (istat /= 0) then\n",
    "              write (unit=error_unit, fmt='(2A)') &\n",
    "                  'error: ', msg\n",
    "              stop 1\n",
    "          end if\n",
    "      else\n",
    "          nr_iters = default_nr_iters\n",
    "      end if\n",
    "  end function get_nr_iters\n",
    "\n",
    "end program compute_pi_omp"
   ]
  },
  {
   "cell_type": "code",
   "execution_count": 6,
   "id": "44a19d30-a4e2-4fbc-8411-5544ab612b88",
   "metadata": {
    "tags": [
     "remove-cell"
    ]
   },
   "outputs": [
    {
     "name": "stdout",
     "output_type": "stream",
     "text": [
      "\u001b[38;5;238m───────┬────────────────────────────────────────────────────────────────────────\u001b[0m\n",
      "       \u001b[38;5;238m│ \u001b[0mFile: \u001b[1msection_computing_pi_compute_pi_openmp.f90\u001b[0m\n",
      "\u001b[38;5;238m───────┼────────────────────────────────────────────────────────────────────────\u001b[0m\n",
      "\u001b[38;5;238m   1\u001b[0m   \u001b[38;5;238m│\u001b[0m \u001b[38;5;203mprogram\u001b[0m\u001b[38;5;231m \u001b[0m\u001b[38;5;149mcompute_pi_omp\u001b[0m\n",
      "\u001b[38;5;238m   2\u001b[0m   \u001b[38;5;238m│\u001b[0m \u001b[38;5;231m  use, intrinsic \u001b[0m\u001b[38;5;203m::\u001b[0m\u001b[38;5;231m iso_fortran_env, only : DP \u001b[0m\u001b[38;5;203m=>\u001b[0m\u001b[38;5;231m \u001b[0m\u001b[38;5;81mREAL64\u001b[0m\u001b[38;5;231m, I8 \u001b[0m\u001b[38;5;203m=>\u001b[0m\u001b[38;5;231m \u001b[0m\u001b[38;5;81mINT64\u001b[0m\n",
      "\u001b[38;5;238m   3\u001b[0m   \u001b[38;5;238m│\u001b[0m \u001b[38;5;231m  \u001b[0m\u001b[38;5;203mimplicit\u001b[0m\u001b[38;5;231m \u001b[0m\u001b[38;5;203mnone\u001b[0m\n",
      "\u001b[38;5;238m   4\u001b[0m   \u001b[38;5;238m│\u001b[0m \u001b[38;5;231m  \u001b[0m\u001b[38;5;231minteger\u001b[0m\u001b[38;5;231m(\u001b[0m\u001b[38;5;208mkind\u001b[0m\u001b[38;5;203m=\u001b[0m\u001b[38;5;231mI8\u001b[0m\u001b[38;5;231m)\u001b[0m\u001b[38;5;231m \u001b[0m\u001b[38;5;203m::\u001b[0m\u001b[38;5;231m i, nr_iters\u001b[0m\n",
      "\u001b[38;5;238m   5\u001b[0m   \u001b[38;5;238m│\u001b[0m \u001b[38;5;231m  \u001b[0m\u001b[38;5;81mreal\u001b[0m\u001b[38;5;231m(\u001b[0m\u001b[38;5;231mkind\u001b[0m\u001b[38;5;203m=\u001b[0m\u001b[38;5;231mDP\u001b[0m\u001b[38;5;231m)\u001b[0m\u001b[38;5;231m \u001b[0m\u001b[38;5;203m::\u001b[0m\u001b[38;5;231m delta, x, pi_val\u001b[0m\n",
      "\u001b[38;5;238m   6\u001b[0m   \u001b[38;5;238m│\u001b[0m \n",
      "\u001b[38;5;238m   7\u001b[0m   \u001b[38;5;238m│\u001b[0m \u001b[38;5;231m  pi_val \u001b[0m\u001b[38;5;203m=\u001b[0m\u001b[38;5;231m \u001b[0m\u001b[38;5;141m0.0_DP\u001b[0m\n",
      "\u001b[38;5;238m   8\u001b[0m   \u001b[38;5;238m│\u001b[0m \u001b[38;5;231m  nr_iters \u001b[0m\u001b[38;5;203m=\u001b[0m\u001b[38;5;231m \u001b[0m\u001b[38;5;231mget_nr_iters\u001b[0m\u001b[38;5;231m(\u001b[0m\u001b[38;5;231m)\u001b[0m\n",
      "\u001b[38;5;238m   9\u001b[0m   \u001b[38;5;238m│\u001b[0m \u001b[38;5;231m  delta \u001b[0m\u001b[38;5;203m=\u001b[0m\u001b[38;5;231m \u001b[0m\u001b[38;5;141m1.0_DP\u001b[0m\u001b[38;5;203m/\u001b[0m\u001b[38;5;231mnr_iters\u001b[0m\n",
      "\u001b[38;5;238m  10\u001b[0m   \u001b[38;5;238m│\u001b[0m \u001b[38;5;231m  x \u001b[0m\u001b[38;5;203m=\u001b[0m\u001b[38;5;231m \u001b[0m\u001b[38;5;141m0.0_DP\u001b[0m\n",
      "\u001b[38;5;238m  11\u001b[0m   \u001b[38;5;238m│\u001b[0m \n",
      "\u001b[38;5;238m  12\u001b[0m   \u001b[38;5;238m│\u001b[0m \u001b[38;5;231m  \u001b[0m\u001b[38;5;242m!$\u001b[0m\u001b[1;38;5;203momp parallel do default(none) private(x) shared(delta, nr_iters) re\u001b[0m\n",
      "\u001b[38;5;238m    \u001b[0m   \u001b[38;5;238m│\u001b[0m \u001b[1;38;5;203mduction(+:pi_val)\u001b[0m\n",
      "\u001b[38;5;238m  13\u001b[0m   \u001b[38;5;238m│\u001b[0m \u001b[38;5;231m  \u001b[0m\u001b[38;5;203mdo\u001b[0m\u001b[38;5;231m \u001b[0m\u001b[38;5;231mi\u001b[0m\u001b[38;5;231m \u001b[0m\u001b[38;5;203m=\u001b[0m\u001b[38;5;231m \u001b[0m\u001b[38;5;141m1\u001b[0m\u001b[38;5;231m, nr_iters\u001b[0m\n",
      "\u001b[38;5;238m  14\u001b[0m   \u001b[38;5;238m│\u001b[0m \u001b[38;5;231m      x \u001b[0m\u001b[38;5;203m=\u001b[0m\u001b[38;5;231m i\u001b[0m\u001b[38;5;203m*\u001b[0m\u001b[38;5;231mdelta\u001b[0m\n",
      "\u001b[38;5;238m  15\u001b[0m   \u001b[38;5;238m│\u001b[0m \u001b[38;5;231m      pi_val \u001b[0m\u001b[38;5;203m=\u001b[0m\u001b[38;5;231m pi_val \u001b[0m\u001b[38;5;203m+\u001b[0m\u001b[38;5;231m \u001b[0m\u001b[38;5;81msqrt\u001b[0m\u001b[38;5;231m(\u001b[0m\u001b[38;5;141m1.0_DP\u001b[0m\u001b[38;5;231m \u001b[0m\u001b[38;5;203m-\u001b[0m\u001b[38;5;231m x\u001b[0m\u001b[38;5;203m**\u001b[0m\u001b[38;5;141m2\u001b[0m\u001b[38;5;231m)\u001b[0m\n",
      "\u001b[38;5;238m  16\u001b[0m   \u001b[38;5;238m│\u001b[0m \u001b[38;5;231m  \u001b[0m\u001b[38;5;203mend\u001b[0m\u001b[38;5;231m \u001b[0m\u001b[38;5;203mdo\u001b[0m\n",
      "\u001b[38;5;238m  17\u001b[0m   \u001b[38;5;238m│\u001b[0m \u001b[38;5;231m  \u001b[0m\u001b[38;5;242m!$\u001b[0m\u001b[1;38;5;203momp end parallel do\u001b[0m\n",
      "\u001b[38;5;238m  18\u001b[0m   \u001b[38;5;238m│\u001b[0m \n",
      "\u001b[38;5;238m  19\u001b[0m   \u001b[38;5;238m│\u001b[0m \u001b[38;5;231m  pi_val \u001b[0m\u001b[38;5;203m=\u001b[0m\u001b[38;5;231m \u001b[0m\u001b[38;5;141m4.0_DP\u001b[0m\u001b[38;5;203m*\u001b[0m\u001b[38;5;231mpi_val\u001b[0m\u001b[38;5;203m/\u001b[0m\u001b[38;5;231mnr_iters\u001b[0m\n",
      "\u001b[38;5;238m  20\u001b[0m   \u001b[38;5;238m│\u001b[0m \u001b[38;5;231m  \u001b[0m\u001b[38;5;81mprint\u001b[0m\u001b[38;5;231m \u001b[0m\u001b[38;5;186m'\u001b[0m\u001b[38;5;231m(\u001b[0m\u001b[38;5;141mA\u001b[0m\u001b[38;5;231m, \u001b[0m\u001b[38;5;141mI10\u001b[0m\u001b[38;5;231m, \u001b[0m\u001b[38;5;141mA\u001b[0m\u001b[38;5;231m, \u001b[0m\u001b[38;5;141mF25.15\u001b[0m\u001b[38;5;231m)\u001b[0m\u001b[38;5;186m'\u001b[0m\u001b[38;5;231m, \u001b[0m\u001b[38;5;186m\"After \"\u001b[0m\u001b[38;5;231m, nr_iters, \u001b[0m\u001b[38;5;186m\" loops, Pi = \"\u001b[0m\u001b[38;5;231m, pi_\u001b[0m\n",
      "\u001b[38;5;238m    \u001b[0m   \u001b[38;5;238m│\u001b[0m \u001b[38;5;231mval\u001b[0m\n",
      "\u001b[38;5;238m  21\u001b[0m   \u001b[38;5;238m│\u001b[0m \n",
      "\u001b[38;5;238m  22\u001b[0m   \u001b[38;5;238m│\u001b[0m \u001b[38;5;203mcontains\u001b[0m\n",
      "\u001b[38;5;238m  23\u001b[0m   \u001b[38;5;238m│\u001b[0m \u001b[38;5;231m   \u001b[0m\n",
      "\u001b[38;5;238m  24\u001b[0m   \u001b[38;5;238m│\u001b[0m \u001b[38;5;231m  \u001b[0m\u001b[38;5;203mfunction\u001b[0m\u001b[38;5;231m \u001b[0m\u001b[38;5;149mget_nr_iters\u001b[0m\u001b[38;5;231m(\u001b[0m\u001b[38;5;231m) \u001b[0m\u001b[38;5;203mresult\u001b[0m\u001b[38;5;231m(\u001b[0m\u001b[38;5;208mnr_iters\u001b[0m\u001b[38;5;231m)\u001b[0m\n",
      "\u001b[38;5;238m  25\u001b[0m   \u001b[38;5;238m│\u001b[0m \u001b[38;5;231m      use, intrinsic \u001b[0m\u001b[38;5;203m::\u001b[0m\u001b[38;5;231m iso_fortran_env, only : error_unit\u001b[0m\n",
      "\u001b[38;5;238m  26\u001b[0m   \u001b[38;5;238m│\u001b[0m \u001b[38;5;231m      \u001b[0m\u001b[38;5;203mimplicit\u001b[0m\u001b[38;5;231m \u001b[0m\u001b[38;5;203mnone\u001b[0m\n",
      "\u001b[38;5;238m  27\u001b[0m   \u001b[38;5;238m│\u001b[0m \u001b[38;5;231m      \u001b[0m\u001b[38;5;231minteger\u001b[0m\u001b[38;5;231m(\u001b[0m\u001b[38;5;208mkind\u001b[0m\u001b[38;5;203m=\u001b[0m\u001b[38;5;231mI8\u001b[0m\u001b[38;5;231m)\u001b[0m\u001b[38;5;231m \u001b[0m\u001b[38;5;203m::\u001b[0m\u001b[38;5;231m nr_iters\u001b[0m\n",
      "\u001b[38;5;238m  28\u001b[0m   \u001b[38;5;238m│\u001b[0m \u001b[38;5;231m      \u001b[0m\u001b[38;5;231minteger\u001b[0m\u001b[38;5;231m(\u001b[0m\u001b[38;5;208mkind\u001b[0m\u001b[38;5;203m=\u001b[0m\u001b[38;5;231mI8\u001b[0m\u001b[38;5;231m)\u001b[0m\u001b[38;5;231m, parameter \u001b[0m\u001b[38;5;203m::\u001b[0m\u001b[38;5;231m default_nr_iters \u001b[0m\u001b[38;5;203m=\u001b[0m\u001b[38;5;231m \u001b[0m\u001b[38;5;141m1000_I8\u001b[0m\n",
      "\u001b[38;5;238m  29\u001b[0m   \u001b[38;5;238m│\u001b[0m \u001b[38;5;231m      \u001b[0m\u001b[38;5;81mcharacter(len=1024)\u001b[0m\u001b[38;5;231m \u001b[0m\u001b[38;5;203m::\u001b[0m\u001b[38;5;231m \u001b[0m\u001b[38;5;231mbuffer\u001b[0m\u001b[38;5;231m, \u001b[0m\u001b[38;5;231mmsg\u001b[0m\n",
      "\u001b[38;5;238m  30\u001b[0m   \u001b[38;5;238m│\u001b[0m \u001b[38;5;231m      integer \u001b[0m\u001b[38;5;203m::\u001b[0m\u001b[38;5;231m istat\u001b[0m\n",
      "\u001b[38;5;238m  31\u001b[0m   \u001b[38;5;238m│\u001b[0m \n",
      "\u001b[38;5;238m  32\u001b[0m   \u001b[38;5;238m│\u001b[0m \u001b[38;5;231m      \u001b[0m\u001b[38;5;203mif\u001b[0m\u001b[38;5;231m \u001b[0m\u001b[38;5;231m(\u001b[0m\u001b[38;5;231mcommand_argument_count\u001b[0m\u001b[38;5;231m(\u001b[0m\u001b[38;5;231m)\u001b[0m\u001b[38;5;231m \u001b[0m\u001b[38;5;203m>=\u001b[0m\u001b[38;5;231m \u001b[0m\u001b[38;5;141m1\u001b[0m\u001b[38;5;231m)\u001b[0m\u001b[38;5;231m \u001b[0m\u001b[38;5;203mthen\u001b[0m\n",
      "\u001b[38;5;238m  33\u001b[0m   \u001b[38;5;238m│\u001b[0m \u001b[38;5;231m          \u001b[0m\u001b[38;5;203mcall\u001b[0m\u001b[38;5;231m \u001b[0m\u001b[38;5;81mget_command_argument\u001b[0m\u001b[38;5;231m(\u001b[0m\u001b[38;5;141m1\u001b[0m\u001b[38;5;231m, buffer\u001b[0m\u001b[38;5;231m)\u001b[0m\n",
      "\u001b[38;5;238m  34\u001b[0m   \u001b[38;5;238m│\u001b[0m \u001b[38;5;231m          \u001b[0m\u001b[38;5;231mread \u001b[0m\u001b[38;5;231m(\u001b[0m\u001b[38;5;231mbuffer\u001b[0m\u001b[38;5;231m,\u001b[0m\u001b[38;5;231m \u001b[0m\u001b[38;5;208mfmt\u001b[0m\u001b[38;5;203m=\u001b[0m\u001b[38;5;203m*\u001b[0m\u001b[38;5;231m,\u001b[0m\u001b[38;5;231m \u001b[0m\u001b[38;5;208miostat\u001b[0m\u001b[38;5;203m=\u001b[0m\u001b[38;5;231mistat\u001b[0m\u001b[38;5;231m,\u001b[0m\u001b[38;5;231m \u001b[0m\u001b[38;5;208miomsg\u001b[0m\u001b[38;5;203m=\u001b[0m\u001b[38;5;231mmsg\u001b[0m\u001b[38;5;231m)\u001b[0m\u001b[38;5;231m nr_iters\u001b[0m\n",
      "\u001b[38;5;238m  35\u001b[0m   \u001b[38;5;238m│\u001b[0m \u001b[38;5;231m          \u001b[0m\u001b[38;5;203mif\u001b[0m\u001b[38;5;231m \u001b[0m\u001b[38;5;231m(\u001b[0m\u001b[38;5;231mistat \u001b[0m\u001b[38;5;203m/=\u001b[0m\u001b[38;5;231m \u001b[0m\u001b[38;5;141m0\u001b[0m\u001b[38;5;231m)\u001b[0m\u001b[38;5;231m \u001b[0m\u001b[38;5;203mthen\u001b[0m\n",
      "\u001b[38;5;238m  36\u001b[0m   \u001b[38;5;238m│\u001b[0m \u001b[38;5;231m              \u001b[0m\u001b[38;5;81mwrite\u001b[0m\u001b[38;5;231m \u001b[0m\u001b[38;5;231m(\u001b[0m\u001b[38;5;208munit\u001b[0m\u001b[38;5;203m=\u001b[0m\u001b[38;5;231merror_unit, \u001b[0m\u001b[38;5;208mfmt\u001b[0m\u001b[38;5;203m=\u001b[0m\u001b[38;5;186m'\u001b[0m\u001b[38;5;231m(\u001b[0m\u001b[38;5;141m2A\u001b[0m\u001b[38;5;231m)\u001b[0m\u001b[38;5;186m'\u001b[0m\u001b[38;5;231m)\u001b[0m\u001b[38;5;231m \u001b[0m\u001b[38;5;81m&\u001b[0m\n",
      "\u001b[38;5;238m  37\u001b[0m   \u001b[38;5;238m│\u001b[0m \u001b[38;5;231m                  \u001b[0m\u001b[38;5;186m'error: '\u001b[0m\u001b[38;5;231m, msg\u001b[0m\n",
      "\u001b[38;5;238m  38\u001b[0m   \u001b[38;5;238m│\u001b[0m \u001b[38;5;231m              \u001b[0m\u001b[38;5;203mstop\u001b[0m\u001b[38;5;231m \u001b[0m\u001b[38;5;141m1\u001b[0m\n",
      "\u001b[38;5;238m  39\u001b[0m   \u001b[38;5;238m│\u001b[0m \u001b[38;5;231m          \u001b[0m\u001b[38;5;203mend\u001b[0m\u001b[38;5;231m \u001b[0m\u001b[38;5;203mif\u001b[0m\n",
      "\u001b[38;5;238m  40\u001b[0m   \u001b[38;5;238m│\u001b[0m \u001b[38;5;231m      \u001b[0m\u001b[38;5;203melse\u001b[0m\n",
      "\u001b[38;5;238m  41\u001b[0m   \u001b[38;5;238m│\u001b[0m \u001b[38;5;231m          nr_iters \u001b[0m\u001b[38;5;203m=\u001b[0m\u001b[38;5;231m default_nr_iters\u001b[0m\n",
      "\u001b[38;5;238m  42\u001b[0m   \u001b[38;5;238m│\u001b[0m \u001b[38;5;231m      \u001b[0m\u001b[38;5;203mend\u001b[0m\u001b[38;5;231m \u001b[0m\u001b[38;5;203mif\u001b[0m\n",
      "\u001b[38;5;238m  43\u001b[0m   \u001b[38;5;238m│\u001b[0m \u001b[38;5;231m  \u001b[0m\u001b[38;5;203mend\u001b[0m\u001b[38;5;231m \u001b[0m\u001b[38;5;203mfunction\u001b[0m\u001b[38;5;231m \u001b[0m\u001b[38;5;149mget_nr_iters\u001b[0m\n",
      "\u001b[38;5;238m  44\u001b[0m   \u001b[38;5;238m│\u001b[0m \n",
      "\u001b[38;5;238m  45\u001b[0m   \u001b[38;5;238m│\u001b[0m \u001b[38;5;203mend\u001b[0m\u001b[38;5;231m \u001b[0m\u001b[38;5;203mprogram\u001b[0m\u001b[38;5;231m \u001b[0m\u001b[38;5;149mcompute_pi_omp\u001b[0m\n",
      "\u001b[38;5;238m───────┴────────────────────────────────────────────────────────────────────────\u001b[0m\n"
     ]
    }
   ],
   "source": [
    "!bat *.f90"
   ]
  },
  {
   "cell_type": "code",
   "execution_count": 7,
   "id": "c2eeda29-613f-48fd-904b-af9aef8813a2",
   "metadata": {},
   "outputs": [],
   "source": [
    "os.chdir(code_dir)"
   ]
  },
  {
   "attachments": {},
   "cell_type": "markdown",
   "id": "f4c7e5a2",
   "metadata": {},
   "source": [
    "Since this program uses the OpenMP external library, the fpm.toml file had to be augmented as below."
   ]
  },
  {
   "cell_type": "code",
   "execution_count": 8,
   "id": "02532116",
   "metadata": {},
   "outputs": [
    {
     "name": "stdout",
     "output_type": "stream",
     "text": [
      "\u001b[38;5;238m───────┬────────────────────────────────────────────────────────────────────────\u001b[0m\n",
      "       \u001b[38;5;238m│ \u001b[0mFile: \u001b[1mfpm.toml\u001b[0m\n",
      "\u001b[38;5;238m───────┼────────────────────────────────────────────────────────────────────────\u001b[0m\n",
      "\u001b[38;5;238m   1\u001b[0m   \u001b[38;5;238m│\u001b[0m \u001b[38;5;203mname\u001b[0m\u001b[38;5;231m \u001b[0m\u001b[38;5;231m=\u001b[0m\u001b[38;5;231m \u001b[0m\u001b[38;5;186m\"\u001b[0m\u001b[38;5;186mSection_Computing_Pi_Compute_Pi_OpenMP\u001b[0m\u001b[38;5;186m\"\u001b[0m\n",
      "\u001b[38;5;238m   2\u001b[0m   \u001b[38;5;238m│\u001b[0m \n",
      "\u001b[38;5;238m   3\u001b[0m   \u001b[38;5;238m│\u001b[0m \n",
      "\u001b[38;5;238m   4\u001b[0m   \u001b[38;5;238m│\u001b[0m \u001b[38;5;231m[\u001b[0m\u001b[38;5;149mbuild\u001b[0m\u001b[38;5;231m]\u001b[0m\n",
      "\u001b[38;5;238m   5\u001b[0m   \u001b[38;5;238m│\u001b[0m \u001b[38;5;203mauto-executables\u001b[0m\u001b[38;5;231m \u001b[0m\u001b[38;5;231m=\u001b[0m\u001b[38;5;231m \u001b[0m\u001b[38;5;141mtrue\u001b[0m\n",
      "\u001b[38;5;238m   6\u001b[0m   \u001b[38;5;238m│\u001b[0m \u001b[38;5;203mauto-tests\u001b[0m\u001b[38;5;231m \u001b[0m\u001b[38;5;231m=\u001b[0m\u001b[38;5;231m \u001b[0m\u001b[38;5;141mtrue\u001b[0m\n",
      "\u001b[38;5;238m   7\u001b[0m   \u001b[38;5;238m│\u001b[0m \u001b[38;5;203mauto-examples\u001b[0m\u001b[38;5;231m \u001b[0m\u001b[38;5;231m=\u001b[0m\u001b[38;5;231m \u001b[0m\u001b[38;5;141mtrue\u001b[0m\n",
      "\u001b[38;5;238m   8\u001b[0m   \u001b[38;5;238m│\u001b[0m \u001b[38;5;203mexternal-modules\u001b[0m\u001b[38;5;231m \u001b[0m\u001b[38;5;231m=\u001b[0m\u001b[38;5;231m \u001b[0m\u001b[38;5;186m\"\u001b[0m\u001b[38;5;186mopenmp\u001b[0m\u001b[38;5;186m\"\u001b[0m\n",
      "\u001b[38;5;238m   9\u001b[0m   \u001b[38;5;238m│\u001b[0m \n",
      "\u001b[38;5;238m  10\u001b[0m   \u001b[38;5;238m│\u001b[0m \u001b[38;5;231m[\u001b[0m\u001b[38;5;149minstall\u001b[0m\u001b[38;5;231m]\u001b[0m\n",
      "\u001b[38;5;238m  11\u001b[0m   \u001b[38;5;238m│\u001b[0m \u001b[38;5;203mlibrary\u001b[0m\u001b[38;5;231m \u001b[0m\u001b[38;5;231m=\u001b[0m\u001b[38;5;231m \u001b[0m\u001b[38;5;141mfalse\u001b[0m\n",
      "\u001b[38;5;238m  12\u001b[0m   \u001b[38;5;238m│\u001b[0m \n",
      "\u001b[38;5;238m  13\u001b[0m   \u001b[38;5;238m│\u001b[0m \u001b[38;5;231m[[\u001b[0m\u001b[38;5;149mexecutable\u001b[0m\u001b[38;5;231m]]\u001b[0m\n",
      "\u001b[38;5;238m  14\u001b[0m   \u001b[38;5;238m│\u001b[0m \u001b[38;5;203mname\u001b[0m\u001b[38;5;231m=\u001b[0m\u001b[38;5;186m\"\u001b[0m\u001b[38;5;186mSection_Computing_Pi_Compute_Pi_OpenMP\u001b[0m\u001b[38;5;186m\"\u001b[0m\n",
      "\u001b[38;5;238m  15\u001b[0m   \u001b[38;5;238m│\u001b[0m \u001b[38;5;203msource-dir\u001b[0m\u001b[38;5;231m=\u001b[0m\u001b[38;5;186m\"\u001b[0m\u001b[38;5;186mapp\u001b[0m\u001b[38;5;186m\"\u001b[0m\n",
      "\u001b[38;5;238m  16\u001b[0m   \u001b[38;5;238m│\u001b[0m \u001b[38;5;203mmain\u001b[0m\u001b[38;5;231m=\u001b[0m\u001b[38;5;186m\"\u001b[0m\u001b[38;5;186msection_computing_pi_compute_pi_openmp.f90\u001b[0m\u001b[38;5;186m\"\u001b[0m\n",
      "\u001b[38;5;238m───────┴────────────────────────────────────────────────────────────────────────\u001b[0m\n"
     ]
    }
   ],
   "source": [
    "!bat fpm.toml"
   ]
  },
  {
   "cell_type": "code",
   "execution_count": 9,
   "id": "0fbd7621-e800-4235-ab30-80560cc3e1a8",
   "metadata": {},
   "outputs": [],
   "source": [
    "build_status = os.system(\"fpm build 2>/dev/null\")"
   ]
  },
  {
   "cell_type": "markdown",
   "id": "58b5102f",
   "metadata": {},
   "source": [
    "## Run the Program using FPM (Fortran Package Manager)"
   ]
  },
  {
   "cell_type": "code",
   "execution_count": 20,
   "id": "3176b27d-932e-47a1-8099-4fae064ec661",
   "metadata": {},
   "outputs": [
    {
     "name": "stdout",
     "output_type": "stream",
     "text": [
      "After         10 loops, Pi =         2.904518326248318\n",
      "After         10 loops, Pi =         2.904518326248318\n",
      "After         10 loops, Pi =         2.904518326248318\n",
      "After         10 loops, Pi =         2.904518326248318\n",
      "After         10 loops, Pi =         2.904518326248318\n",
      "After         10 loops, Pi =         2.904518326248318\n",
      "After         10 loops, Pi =         2.904518326248318\n",
      "After         10 loops, Pi =         2.904518326248318\n",
      "After         10 loops, Pi =         2.904518326248318\n",
      "After         10 loops, Pi =         2.904518326248318\n",
      "18.6 ms ± 5.14 ms per loop (mean ± std. dev. of 10 runs, 1 loop each)\n"
     ]
    }
   ],
   "source": [
    "%%timeit -r 10 -n 1\n",
    "exec_status = os.system(\"fpm run -- 10 2>/dev/null\")"
   ]
  },
  {
   "cell_type": "code",
   "execution_count": 21,
   "id": "3176b27d-932e-47a1-8099-4fae064ec661",
   "metadata": {},
   "outputs": [
    {
     "name": "stdout",
     "output_type": "stream",
     "text": [
      "After        100 loops, Pi =         3.120417031779045\n",
      "After        100 loops, Pi =         3.120417031779045\n",
      "After        100 loops, Pi =         3.120417031779045\n",
      "After        100 loops, Pi =         3.120417031779045\n",
      "After        100 loops, Pi =         3.120417031779045\n",
      "After        100 loops, Pi =         3.120417031779045\n",
      "After        100 loops, Pi =         3.120417031779045\n",
      "After        100 loops, Pi =         3.120417031779045\n",
      "After        100 loops, Pi =         3.120417031779045\n",
      "After        100 loops, Pi =         3.120417031779045\n",
      "24.2 ms ± 10.5 ms per loop (mean ± std. dev. of 10 runs, 1 loop each)\n"
     ]
    }
   ],
   "source": [
    "%%timeit -r 10 -n 1\n",
    "exec_status = os.system(\"fpm run -- 100 2>/dev/null\")"
   ]
  },
  {
   "cell_type": "code",
   "execution_count": 25,
   "id": "3176b27d-932e-47a1-8099-4fae064ec661",
   "metadata": {},
   "outputs": [
    {
     "name": "stdout",
     "output_type": "stream",
     "text": [
      "After       1000 loops, Pi =         3.139555466911023\n",
      "After       1000 loops, Pi =         3.139555466911023\n",
      "After       1000 loops, Pi =         3.139555466911023\n",
      "After       1000 loops, Pi =         3.139555466911023\n",
      "After       1000 loops, Pi =         3.139555466911023\n",
      "After       1000 loops, Pi =         3.139555466911023\n",
      "After       1000 loops, Pi =         3.139555466911023\n",
      "After       1000 loops, Pi =         3.139555466911023\n",
      "After       1000 loops, Pi =         3.139555466911023\n",
      "After       1000 loops, Pi =         3.139555466911023\n",
      "21.4 ms ± 11.6 ms per loop (mean ± std. dev. of 10 runs, 1 loop each)\n"
     ]
    }
   ],
   "source": [
    "%%timeit -r 10 -n 1\n",
    "exec_status = os.system(\"fpm run -- 1000 2>/dev/null\")"
   ]
  },
  {
   "cell_type": "code",
   "execution_count": 28,
   "id": "3176b27d-932e-47a1-8099-4fae064ec661",
   "metadata": {},
   "outputs": [
    {
     "name": "stdout",
     "output_type": "stream",
     "text": [
      "After      10000 loops, Pi =         3.141391477611321\n",
      "After      10000 loops, Pi =         3.141391477611321\n",
      "After      10000 loops, Pi =         3.141391477611321\n",
      "After      10000 loops, Pi =         3.141391477611321\n",
      "After      10000 loops, Pi =         3.141391477611321\n",
      "After      10000 loops, Pi =         3.141391477611321\n",
      "After      10000 loops, Pi =         3.141391477611321\n",
      "After      10000 loops, Pi =         3.141391477611321\n",
      "After      10000 loops, Pi =         3.141391477611321\n",
      "After      10000 loops, Pi =         3.141391477611321\n",
      "24.6 ms ± 9.63 ms per loop (mean ± std. dev. of 10 runs, 1 loop each)\n"
     ]
    }
   ],
   "source": [
    "%%timeit -r 10 -n 1\n",
    "exec_status = os.system(\"fpm run -- 10000 2>/dev/null\")"
   ]
  },
  {
   "cell_type": "code",
   "execution_count": 35,
   "id": "3176b27d-932e-47a1-8099-4fae064ec661",
   "metadata": {},
   "outputs": [
    {
     "name": "stdout",
     "output_type": "stream",
     "text": [
      "After     100000 loops, Pi =         3.141572616402007\n",
      "After     100000 loops, Pi =         3.141572616402007\n",
      "After     100000 loops, Pi =         3.141572616402007\n",
      "After     100000 loops, Pi =         3.141572616402007\n",
      "After     100000 loops, Pi =         3.141572616402007\n",
      "After     100000 loops, Pi =         3.141572616402007\n",
      "After     100000 loops, Pi =         3.141572616402007\n",
      "After     100000 loops, Pi =         3.141572616402007\n",
      "After     100000 loops, Pi =         3.141572616402007\n",
      "After     100000 loops, Pi =         3.141572616402007\n",
      "21.2 ms ± 6.88 ms per loop (mean ± std. dev. of 10 runs, 1 loop each)\n"
     ]
    }
   ],
   "source": [
    "%%timeit -r 10 -n 1\n",
    "exec_status = os.system(\"fpm run -- 100000 2>/dev/null\")"
   ]
  },
  {
   "cell_type": "code",
   "execution_count": 38,
   "id": "3176b27d-932e-47a1-8099-4fae064ec661",
   "metadata": {},
   "outputs": [
    {
     "name": "stdout",
     "output_type": "stream",
     "text": [
      "After    1000000 loops, Pi =         3.141590652413977\n",
      "After    1000000 loops, Pi =         3.141590652413977\n",
      "After    1000000 loops, Pi =         3.141590652413977\n",
      "After    1000000 loops, Pi =         3.141590652413977\n",
      "After    1000000 loops, Pi =         3.141590652413977\n",
      "After    1000000 loops, Pi =         3.141590652413977\n",
      "After    1000000 loops, Pi =         3.141590652413977\n",
      "After    1000000 loops, Pi =         3.141590652413977\n",
      "After    1000000 loops, Pi =         3.141590652413977\n",
      "After    1000000 loops, Pi =         3.141590652413977\n",
      "26.1 ms ± 10.1 ms per loop (mean ± std. dev. of 10 runs, 1 loop each)\n"
     ]
    }
   ],
   "source": [
    "%%timeit -r 10 -n 1\n",
    "exec_status = os.system(\"fpm run -- 1000000 2>/dev/null\")"
   ]
  },
  {
   "cell_type": "code",
   "execution_count": 39,
   "id": "3176b27d-932e-47a1-8099-4fae064ec661",
   "metadata": {},
   "outputs": [
    {
     "name": "stdout",
     "output_type": "stream",
     "text": [
      "After   10000000 loops, Pi =         3.141592453552712\n",
      "After   10000000 loops, Pi =         3.141592453552712\n",
      "After   10000000 loops, Pi =         3.141592453552712\n",
      "After   10000000 loops, Pi =         3.141592453552712\n",
      "After   10000000 loops, Pi =         3.141592453552712\n",
      "After   10000000 loops, Pi =         3.141592453552712\n",
      "After   10000000 loops, Pi =         3.141592453552712\n",
      "After   10000000 loops, Pi =         3.141592453552712\n",
      "After   10000000 loops, Pi =         3.141592453552712\n",
      "After   10000000 loops, Pi =         3.141592453552712\n",
      "66 ms ± 23.1 ms per loop (mean ± std. dev. of 10 runs, 1 loop each)\n"
     ]
    }
   ],
   "source": [
    "%%timeit -r 10 -n 1\n",
    "exec_status = os.system(\"fpm run -- 10000000 2>/dev/null\")"
   ]
  },
  {
   "cell_type": "code",
   "execution_count": 40,
   "id": "3176b27d-932e-47a1-8099-4fae064ec661",
   "metadata": {},
   "outputs": [
    {
     "name": "stdout",
     "output_type": "stream",
     "text": [
      "After  100000000 loops, Pi =         3.141592633586875\n",
      "After  100000000 loops, Pi =         3.141592633586875\n",
      "After  100000000 loops, Pi =         3.141592633586875\n",
      "After  100000000 loops, Pi =         3.141592633586875\n",
      "After  100000000 loops, Pi =         3.141592633586875\n",
      "After  100000000 loops, Pi =         3.141592633586875\n",
      "After  100000000 loops, Pi =         3.141592633586875\n",
      "After  100000000 loops, Pi =         3.141592633586875\n",
      "After  100000000 loops, Pi =         3.141592633586875\n",
      "After  100000000 loops, Pi =         3.141592633586875\n",
      "280 ms ± 38.5 ms per loop (mean ± std. dev. of 10 runs, 1 loop each)\n"
     ]
    }
   ],
   "source": [
    "%%timeit -r 10 -n 1\n",
    "exec_status = os.system(\"fpm run -- 100000000 2>/dev/null\")"
   ]
  }
 ],
 "metadata": {
  "kernelspec": {
   "display_name": "Python 3 (ipykernel)",
   "language": "python",
   "name": "python3"
  },
  "language_info": {
   "codemirror_mode": {
    "name": "ipython",
    "version": 3
   },
   "file_extension": ".py",
   "mimetype": "text/x-python",
   "name": "python",
   "nbconvert_exporter": "python",
   "pygments_lexer": "ipython3",
   "version": "3.9.15"
  },
  "vscode": {
   "interpreter": {
    "hash": "1c7edbfe09241e3ab70fdbaa9340a6c53382c0b8a91b6341e8f1e4440b6e3c70"
   }
  }
 },
 "nbformat": 4,
 "nbformat_minor": 5
}
