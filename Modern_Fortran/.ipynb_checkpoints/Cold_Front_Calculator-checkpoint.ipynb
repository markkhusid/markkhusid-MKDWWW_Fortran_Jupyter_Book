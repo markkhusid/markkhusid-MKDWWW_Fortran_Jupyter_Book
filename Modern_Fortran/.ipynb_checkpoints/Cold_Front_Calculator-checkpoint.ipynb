{
 "cells": [
  {
   "cell_type": "raw",
   "id": "c40b648f-a44a-4480-bbee-93e7a780f45b",
   "metadata": {},
   "source": [
    "---\n",
    "jupytext:\n",
    "  formats: md:myst\n",
    "  text_representation:\n",
    "    extension: .md\n",
    "    format_name: myst\n",
    "kernelspec:\n",
    "  display_name: Python 3\n",
    "  language: python\n",
    "  name: python3\n",
    "---"
   ]
  },
  {
   "cell_type": "markdown",
   "id": "fc63b62e-3ea6-4588-8b6e-f845bbc6d64c",
   "metadata": {
    "tags": []
   },
   "source": [
    "# Cold Front Calculator"
   ]
  },
  {
   "cell_type": "markdown",
   "id": "edfc7d7e-9803-4b96-82f1-bc0d47385f43",
   "metadata": {},
   "source": [
    "Adapted from: \"[Modern Fortran: Building Efficient Parallel Applications](https://www.manning.com/books/modern-fortran)\" by Milan Curcic (Manning)"
   ]
  },
  {
   "cell_type": "markdown",
   "id": "59ec1bec-3fd7-4061-aa24-c7765d25786f",
   "metadata": {},
   "source": [
    "## Program to Calculate the Temperature due to a Cold Front"
   ]
  },
  {
   "cell_type": "markdown",
   "id": "4357b7cf-9b30-4a74-bea8-726520ec0f9d",
   "metadata": {},
   "source": [
    "```{literalinclude} Fortran_Code/Cold_Front_Calculator/app/cold_front_calculator.f90\n",
    "---\n",
    "language: fortran\n",
    "---\n",
    "```"
   ]
  },
  {
   "cell_type": "markdown",
   "id": "63dd9100-dcb1-40b7-a16c-23cfeec208c7",
   "metadata": {},
   "source": [
    "The following explanation is given by \"Code Copilot\" within ChatGPT 4."
   ]
  },
  {
   "cell_type": "markdown",
   "id": "b0fc8d23-5008-40d9-b6a8-afe1e41439e0",
   "metadata": {},
   "source": [
    "The Fortran program `cold_front` is designed to calculate the change in temperature as a cold front moves over a given distance and time. The program uses a simple linear model to interpolate or extrapolate temperature changes based on the movement of the cold front. Here's a detailed explanation of each component and the underlying calculations:\n",
    "\n",
    "### Variables:\n",
    "- `temp1` (12 degrees C): Initial temperature at the starting point.\n",
    "- `temp2` (24 degrees C): Initial temperature at a point 960 km away from the starting point.\n",
    "- `dx` (960 km): The distance between two points where the initial temperatures are measured.\n",
    "- `c` (20 km/hr): Speed of the cold front moving through the area.\n",
    "- `dt` (24 hours): Time period over which the temperature change is calculated.\n",
    "\n",
    "### Calculation:\n",
    "- **Temperature Difference Calculation**:\n",
    "  - `temp2 - temp1` computes the temperature difference between the two points.\n",
    "  \n",
    "- **Temperature Change Rate**:\n",
    "  - `(temp2 - temp1) / dx` calculates the rate of temperature change per kilometer.\n",
    "  \n",
    "- **Temperature Change Over Time**:\n",
    "  - `c * (temp2 - temp1) / dx * dt` computes the total temperature change over `dt` hours, considering the speed of the cold front. The term `c * dt` effectively calculates the distance covered by the cold front in `dt` hours. Multiplying this distance by the rate of temperature change per kilometer gives the total change in temperature over that distance.\n",
    "\n",
    "### Result:\n",
    "- `res`: The resulting temperature after the cold front has moved for `dt` hours. The calculation `temp2 - c * (temp2 - temp1) / dx * dt` adjusts the initial temperature at `temp2` by the amount the temperature is expected to change due to the cold front's movement. The subtraction here is due to the interpretation that moving through the temperature gradient causes a decrease from the starting point at `temp2`.\n",
    "\n",
    "### Output:\n",
    "- The program prints the resulting temperature after `dt` hours, indicating how much the temperature has changed due to the cold front's progression.\n",
    "\n",
    "### Simplified Formula Explanation:\n",
    "- The formula calculates how much the temperature decreases as the cold front moves from `temp2` towards `temp1`. This is based on the linear change in temperature over the distance `dx`, scaled by how far the cold front moves in `dt` hours.\n",
    "\n",
    "### Usage:\n",
    "This simple program can be used in educational settings to demonstrate basic principles of linear interpolation and applying rates over time, or in a basic meteorological context to estimate temperature changes without complex modeling. It is a straightforward example of applying basic physics and arithmetic operations in a programmatic context."
   ]
  },
  {
   "cell_type": "markdown",
   "id": "95a01b71-3e03-4fd3-883d-121719f4161e",
   "metadata": {},
   "source": [
    "## Program Compilation and Execution"
   ]
  },
  {
   "cell_type": "markdown",
   "id": "4c6b9985-c0cb-4602-8309-4e3369dd3226",
   "metadata": {},
   "source": [
    "The above program is compiled and run using Fortran Package Manager (fpm):"
   ]
  },
  {
   "cell_type": "code",
   "execution_count": 1,
   "id": "e8ba1050-b7b1-4e9e-87bf-28791145e5e7",
   "metadata": {
    "execution": {
     "iopub.execute_input": "2024-05-05T21:29:12.455871Z",
     "iopub.status.busy": "2024-05-05T21:29:12.454837Z",
     "iopub.status.idle": "2024-05-05T21:29:12.459044Z",
     "shell.execute_reply": "2024-05-05T21:29:12.458707Z",
     "shell.execute_reply.started": "2024-05-05T21:29:12.455854Z"
    }
   },
   "outputs": [],
   "source": [
    "import os\n",
    "root_dir = \"\"\n",
    "root_dir = os.getcwd()"
   ]
  },
  {
   "cell_type": "code",
   "execution_count": 2,
   "id": "bdaf795d-554a-46e6-b4da-faeb331e1b13",
   "metadata": {
    "execution": {
     "iopub.execute_input": "2024-05-05T21:29:12.459966Z",
     "iopub.status.busy": "2024-05-05T21:29:12.459601Z",
     "iopub.status.idle": "2024-05-05T21:29:12.520087Z",
     "shell.execute_reply": "2024-05-05T21:29:12.514469Z",
     "shell.execute_reply.started": "2024-05-05T21:29:12.459951Z"
    }
   },
   "outputs": [],
   "source": [
    "code_dir = root_dir + \"/\" + \"Fortran_Code/Cold_Front_Calculator\""
   ]
  },
  {
   "cell_type": "code",
   "execution_count": 3,
   "id": "a7d9f1b1-ba0d-4db1-84ef-7a358f0453a6",
   "metadata": {
    "execution": {
     "iopub.execute_input": "2024-05-05T21:29:12.523550Z",
     "iopub.status.busy": "2024-05-05T21:29:12.521379Z",
     "iopub.status.idle": "2024-05-05T21:29:12.546539Z",
     "shell.execute_reply": "2024-05-05T21:29:12.545051Z",
     "shell.execute_reply.started": "2024-05-05T21:29:12.523527Z"
    }
   },
   "outputs": [],
   "source": [
    "os.chdir(code_dir)"
   ]
  },
  {
   "cell_type": "code",
   "execution_count": 4,
   "id": "0fbd7621-e800-4235-ab30-80560cc3e1a8",
   "metadata": {
    "execution": {
     "iopub.execute_input": "2024-05-05T21:29:12.556131Z",
     "iopub.status.busy": "2024-05-05T21:29:12.555797Z",
     "iopub.status.idle": "2024-05-05T21:29:12.762675Z",
     "shell.execute_reply": "2024-05-05T21:29:12.742821Z",
     "shell.execute_reply.started": "2024-05-05T21:29:12.556109Z"
    }
   },
   "outputs": [],
   "source": [
    "build_status = os.system(\"fpm build 2>/dev/null\")"
   ]
  },
  {
   "cell_type": "code",
   "execution_count": 5,
   "id": "0483d40b-e849-4574-bcbe-003c81a96dd5",
   "metadata": {
    "execution": {
     "iopub.execute_input": "2024-05-05T21:29:12.777339Z",
     "iopub.status.busy": "2024-05-05T21:29:12.777112Z",
     "iopub.status.idle": "2024-05-05T21:29:12.978495Z",
     "shell.execute_reply": "2024-05-05T21:29:12.977220Z",
     "shell.execute_reply.started": "2024-05-05T21:29:12.777322Z"
    }
   },
   "outputs": [
    {
     "name": "stdout",
     "output_type": "stream",
     "text": [
      " Temperature after    24.0000000     hours is    18.0000000     degrees\n"
     ]
    }
   ],
   "source": [
    "exec_status = os.system(\"fpm run 2>/dev/null\")"
   ]
  }
 ],
 "metadata": {
  "kernelspec": {
   "display_name": "Python 3 (ipykernel)",
   "language": "python",
   "name": "python3"
  },
  "language_info": {
   "codemirror_mode": {
    "name": "ipython",
    "version": 3
   },
   "file_extension": ".py",
   "mimetype": "text/x-python",
   "name": "python",
   "nbconvert_exporter": "python",
   "pygments_lexer": "ipython3",
   "version": "3.10.14"
  }
 },
 "nbformat": 4,
 "nbformat_minor": 5
}
