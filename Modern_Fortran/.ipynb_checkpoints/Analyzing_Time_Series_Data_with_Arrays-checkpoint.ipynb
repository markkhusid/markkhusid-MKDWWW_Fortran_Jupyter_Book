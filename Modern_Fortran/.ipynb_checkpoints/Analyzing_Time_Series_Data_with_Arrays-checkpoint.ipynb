{
 "cells": [
  {
   "cell_type": "raw",
   "id": "e406df47-edcb-4fad-9d25-153750c2815a",
   "metadata": {},
   "source": [
    "---\n",
    "jupytext:\n",
    "  formats: md:myst\n",
    "  text_representation:\n",
    "    extension: .md\n",
    "    format_name: myst\n",
    "kernelspec:\n",
    "  display_name: Python 3\n",
    "  language: python\n",
    "  name: python3\n",
    "---"
   ]
  },
  {
   "cell_type": "markdown",
   "id": "7f39512c-f564-4587-a711-34c971fe153c",
   "metadata": {},
   "source": [
    "# Analyzing Time Series Data with Arrays\n",
    "The following program analyzes time series data using arrays. <br>\n",
    "Adapted from: \"Modern Fortan\" by Milan Curcic (Manning)"
   ]
  },
  {
   "cell_type": "markdown",
   "id": "74c83381-710e-4733-9825-467f7b44d020",
   "metadata": {
    "tags": []
   },
   "source": [
    "## Program to Calculate the Gain of a Stock Price"
   ]
  },
  {
   "cell_type": "markdown",
   "id": "b6c3ef40-21ba-4dfe-9c88-594160e96af3",
   "metadata": {},
   "source": [
    "### In file *stock_gain.f90*"
   ]
  },
  {
   "cell_type": "markdown",
   "id": "2a17b2ab-6057-41f0-9175-9911cb695f28",
   "metadata": {},
   "source": [
    "```{literalinclude} Fortran_Code/Analyzing_Time_Series_Data_with_Arrays/app/stock_gain.f90\n",
    "---\n",
    "language: fortran\n",
    "---\n",
    "```"
   ]
  },
  {
   "cell_type": "markdown",
   "id": "832c5a44-c06d-4785-b188-e2ea722d2dd8",
   "metadata": {},
   "source": [
    "### In file *mod_arrays.f90*"
   ]
  },
  {
   "cell_type": "markdown",
   "id": "ff1bfbcd-cd55-4e11-8f21-1ea6fcbce4f5",
   "metadata": {},
   "source": [
    "```{literalinclude} Fortran_Code/Analyzing_Time_Series_Data_with_Arrays/src/mod_arrays.f90\n",
    "---\n",
    "language: fortran\n",
    "---\n",
    "```"
   ]
  },
  {
   "cell_type": "markdown",
   "id": "9a8c631b-95cf-45c9-83b9-15b926b4d67d",
   "metadata": {},
   "source": [
    "The above program is compiled and run using Fortran Package Manager (fpm):"
   ]
  },
  {
   "cell_type": "markdown",
   "id": "c6f9ed20",
   "metadata": {
    "tags": []
   },
   "source": [
    "## Build the Program using FPM (Fortran Package Manager)"
   ]
  },
  {
   "cell_type": "code",
   "execution_count": 1,
   "id": "ca10be4d-5119-4d18-8b9a-a21ff292a2c8",
   "metadata": {},
   "outputs": [],
   "source": [
    "import os\n",
    "root_dir = \"\"\n",
    "root_dir = os.getcwd()"
   ]
  },
  {
   "attachments": {},
   "cell_type": "markdown",
   "id": "48d176ac",
   "metadata": {},
   "source": [
    "The following FPM configuration file (fpm.toml) was used:"
   ]
  },
  {
   "attachments": {},
   "cell_type": "markdown",
   "id": "48ce3430",
   "metadata": {},
   "source": [
    "```{literalinclude} Fortran_Code/Analyzing_Time_Series_Data_with_Arrays/fpm.toml\n",
    "---\n",
    "language: toml\n",
    "---\n",
    "```"
   ]
  },
  {
   "cell_type": "code",
   "execution_count": 2,
   "id": "a828ec8c-6aca-41c1-ad8a-aafc1600eb73",
   "metadata": {},
   "outputs": [],
   "source": [
    "code_dir = root_dir + \"/\" + \"Fortran_Code/Analyzing_Time_Series_Data_with_Arrays\""
   ]
  },
  {
   "cell_type": "code",
   "execution_count": 3,
   "id": "85c72ed0-fe45-4527-8886-309a050416d4",
   "metadata": {},
   "outputs": [],
   "source": [
    "os.chdir(code_dir)"
   ]
  },
  {
   "cell_type": "code",
   "execution_count": 4,
   "id": "e77d753e-d8de-4190-a18e-b91dffc25ece",
   "metadata": {},
   "outputs": [],
   "source": [
    "build_status = os.system(\"fpm build 2>/dev/null\")"
   ]
  },
  {
   "cell_type": "markdown",
   "id": "58b5102f",
   "metadata": {},
   "source": [
    "## Run the Program using FPM (Fortran Package Manager)"
   ]
  },
  {
   "cell_type": "code",
   "execution_count": 5,
   "id": "3176b27d-932e-47a1-8099-4fae064ec661",
   "metadata": {},
   "outputs": [
    {
     "name": "stdout",
     "output_type": "stream",
     "text": [
      " 2000-01-03 through 2018-05-14\n",
      " Symbol, Gain (USD), Relative Gain (%)\n",
      " -------------------------------------\n",
      " AAPL   184.594589            5192\n",
      " AMZN   1512.16003            1692\n",
      " CRAY   9.60000038              56\n",
      " CSCO   1.71649933               4\n",
      " HPQ    1.55270004               7\n",
      " IBM    60.9193039              73\n",
      " INTC   25.8368015              89\n",
      " MSFT   59.4120979             154\n",
      " NVDA   251.745300            6964\n",
      " ORCL   20.3501987              77\n"
     ]
    }
   ],
   "source": [
    "exec_status = \\\n",
    "    os.system(\"fpm run 2>/dev/null\")"
   ]
  }
 ],
 "metadata": {
  "kernelspec": {
   "display_name": "Python 3 (ipykernel)",
   "language": "python",
   "name": "python3"
  },
  "language_info": {
   "codemirror_mode": {
    "name": "ipython",
    "version": 3
   },
   "file_extension": ".py",
   "mimetype": "text/x-python",
   "name": "python",
   "nbconvert_exporter": "python",
   "pygments_lexer": "ipython3",
   "version": "3.10.14"
  }
 },
 "nbformat": 4,
 "nbformat_minor": 5
}
